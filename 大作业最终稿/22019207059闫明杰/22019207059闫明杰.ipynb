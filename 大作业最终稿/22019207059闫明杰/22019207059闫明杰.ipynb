{
 "cells": [
  {
   "cell_type": "markdown",
   "metadata": {},
   "source": [
    "# 超市商品数据分析大作业"
   ]
  },
  {
   "cell_type": "markdown",
   "metadata": {},
   "source": [
    "# 1 背景及意义"
   ]
  },
  {
   "cell_type": "markdown",
   "metadata": {},
   "source": [
    "本报告主要对一家超市2018年6-7月的销售数据进行商店商品情况分析、销售额情况分析和用户情况分析。<br/>\n",
    "商店商品情况分析：商品结构、优势商品、劣势/待优化商品等情况分析；<br/>\n",
    "销售情况分析：销售额、销量、利润情况分析；<br/>\n",
    "用户情况分析：客户数量、新老客户、RFM模型等情况分析。"
   ]
  },
  {
   "cell_type": "markdown",
   "metadata": {},
   "source": [
    "# 2 数据导入与预处理"
   ]
  },
  {
   "cell_type": "markdown",
   "metadata": {},
   "source": [
    "## 2.1 Basket数据导入与预处理"
   ]
  },
  {
   "cell_type": "code",
   "execution_count": 1,
   "metadata": {},
   "outputs": [
    {
     "data": {
      "text/html": [
       "<div>\n",
       "<style scoped>\n",
       "    .dataframe tbody tr th:only-of-type {\n",
       "        vertical-align: middle;\n",
       "    }\n",
       "\n",
       "    .dataframe tbody tr th {\n",
       "        vertical-align: top;\n",
       "    }\n",
       "\n",
       "    .dataframe thead th {\n",
       "        text-align: right;\n",
       "    }\n",
       "</style>\n",
       "<table border=\"1\" class=\"dataframe\">\n",
       "  <thead>\n",
       "    <tr style=\"text-align: right;\">\n",
       "      <th></th>\n",
       "      <th>SHOP_DATETIME</th>\n",
       "      <th>STORE_CODE</th>\n",
       "      <th>POS_NO</th>\n",
       "      <th>BASK_CODE</th>\n",
       "      <th>BASK_SPEND</th>\n",
       "    </tr>\n",
       "  </thead>\n",
       "  <tbody>\n",
       "    <tr>\n",
       "      <th>0</th>\n",
       "      <td>2018/6/1</td>\n",
       "      <td>D007</td>\n",
       "      <td>3</td>\n",
       "      <td>250458</td>\n",
       "      <td>8.00</td>\n",
       "    </tr>\n",
       "    <tr>\n",
       "      <th>1</th>\n",
       "      <td>2018/6/1</td>\n",
       "      <td>D007</td>\n",
       "      <td>3</td>\n",
       "      <td>250200</td>\n",
       "      <td>32.70</td>\n",
       "    </tr>\n",
       "    <tr>\n",
       "      <th>2</th>\n",
       "      <td>2018/6/1</td>\n",
       "      <td>D007</td>\n",
       "      <td>1</td>\n",
       "      <td>161068</td>\n",
       "      <td>16.80</td>\n",
       "    </tr>\n",
       "    <tr>\n",
       "      <th>3</th>\n",
       "      <td>2018/6/1</td>\n",
       "      <td>D007</td>\n",
       "      <td>8</td>\n",
       "      <td>5325</td>\n",
       "      <td>30.40</td>\n",
       "    </tr>\n",
       "    <tr>\n",
       "      <th>4</th>\n",
       "      <td>2018/6/1</td>\n",
       "      <td>D007</td>\n",
       "      <td>8</td>\n",
       "      <td>5361</td>\n",
       "      <td>191.30</td>\n",
       "    </tr>\n",
       "    <tr>\n",
       "      <th>...</th>\n",
       "      <td>...</td>\n",
       "      <td>...</td>\n",
       "      <td>...</td>\n",
       "      <td>...</td>\n",
       "      <td>...</td>\n",
       "    </tr>\n",
       "    <tr>\n",
       "      <th>571547</th>\n",
       "      <td>2018/7/5</td>\n",
       "      <td>A010</td>\n",
       "      <td>2</td>\n",
       "      <td>284211</td>\n",
       "      <td>34.71</td>\n",
       "    </tr>\n",
       "    <tr>\n",
       "      <th>571548</th>\n",
       "      <td>2018/7/5</td>\n",
       "      <td>A010</td>\n",
       "      <td>2</td>\n",
       "      <td>284601</td>\n",
       "      <td>44.80</td>\n",
       "    </tr>\n",
       "    <tr>\n",
       "      <th>571549</th>\n",
       "      <td>2018/7/5</td>\n",
       "      <td>A010</td>\n",
       "      <td>2</td>\n",
       "      <td>284241</td>\n",
       "      <td>6.50</td>\n",
       "    </tr>\n",
       "    <tr>\n",
       "      <th>571550</th>\n",
       "      <td>2018/7/5</td>\n",
       "      <td>A010</td>\n",
       "      <td>2</td>\n",
       "      <td>284352</td>\n",
       "      <td>15.90</td>\n",
       "    </tr>\n",
       "    <tr>\n",
       "      <th>571551</th>\n",
       "      <td>2018/7/5</td>\n",
       "      <td>A010</td>\n",
       "      <td>2</td>\n",
       "      <td>284265</td>\n",
       "      <td>43.20</td>\n",
       "    </tr>\n",
       "  </tbody>\n",
       "</table>\n",
       "<p>571552 rows × 5 columns</p>\n",
       "</div>"
      ],
      "text/plain": [
       "       SHOP_DATETIME STORE_CODE  POS_NO  BASK_CODE  BASK_SPEND\n",
       "0           2018/6/1       D007       3     250458        8.00\n",
       "1           2018/6/1       D007       3     250200       32.70\n",
       "2           2018/6/1       D007       1     161068       16.80\n",
       "3           2018/6/1       D007       8       5325       30.40\n",
       "4           2018/6/1       D007       8       5361      191.30\n",
       "...              ...        ...     ...        ...         ...\n",
       "571547      2018/7/5       A010       2     284211       34.71\n",
       "571548      2018/7/5       A010       2     284601       44.80\n",
       "571549      2018/7/5       A010       2     284241        6.50\n",
       "571550      2018/7/5       A010       2     284352       15.90\n",
       "571551      2018/7/5       A010       2     284265       43.20\n",
       "\n",
       "[571552 rows x 5 columns]"
      ]
     },
     "execution_count": 1,
     "metadata": {},
     "output_type": "execute_result"
    }
   ],
   "source": [
    "import pandas as pd #导入pandas模块\n",
    "basket=pd.read_csv('D:/anaconda/testt/python与数理统计/大作业1/2/Basket.csv')\n",
    "basket = basket.iloc[:,:]\n",
    "basket"
   ]
  },
  {
   "cell_type": "code",
   "execution_count": 2,
   "metadata": {},
   "outputs": [
    {
     "data": {
      "text/plain": [
       "SHOP_DATETIME    False\n",
       "STORE_CODE       False\n",
       "POS_NO           False\n",
       "BASK_CODE        False\n",
       "BASK_SPEND       False\n",
       "dtype: bool"
      ]
     },
     "execution_count": 2,
     "metadata": {},
     "output_type": "execute_result"
    }
   ],
   "source": [
    "basket.isnull().any()#查看所有缺失值"
   ]
  },
  {
   "cell_type": "markdown",
   "metadata": {},
   "source": [
    "由上可看出，Basket表中数据属性没有缺失值。"
   ]
  },
  {
   "cell_type": "code",
   "execution_count": 3,
   "metadata": {
    "scrolled": true
   },
   "outputs": [
    {
     "data": {
      "text/html": [
       "<div>\n",
       "<style scoped>\n",
       "    .dataframe tbody tr th:only-of-type {\n",
       "        vertical-align: middle;\n",
       "    }\n",
       "\n",
       "    .dataframe tbody tr th {\n",
       "        vertical-align: top;\n",
       "    }\n",
       "\n",
       "    .dataframe thead th {\n",
       "        text-align: right;\n",
       "    }\n",
       "</style>\n",
       "<table border=\"1\" class=\"dataframe\">\n",
       "  <thead>\n",
       "    <tr style=\"text-align: right;\">\n",
       "      <th></th>\n",
       "      <th>POS_NO</th>\n",
       "      <th>BASK_CODE</th>\n",
       "      <th>BASK_SPEND</th>\n",
       "    </tr>\n",
       "  </thead>\n",
       "  <tbody>\n",
       "    <tr>\n",
       "      <th>count</th>\n",
       "      <td>571552.000000</td>\n",
       "      <td>571552.000000</td>\n",
       "      <td>571552.000000</td>\n",
       "    </tr>\n",
       "    <tr>\n",
       "      <th>mean</th>\n",
       "      <td>2.998429</td>\n",
       "      <td>167472.817102</td>\n",
       "      <td>38.973310</td>\n",
       "    </tr>\n",
       "    <tr>\n",
       "      <th>std</th>\n",
       "      <td>2.516065</td>\n",
       "      <td>87263.199857</td>\n",
       "      <td>209.038276</td>\n",
       "    </tr>\n",
       "    <tr>\n",
       "      <th>min</th>\n",
       "      <td>1.000000</td>\n",
       "      <td>961.000000</td>\n",
       "      <td>-35940.000000</td>\n",
       "    </tr>\n",
       "    <tr>\n",
       "      <th>25%</th>\n",
       "      <td>1.000000</td>\n",
       "      <td>90533.750000</td>\n",
       "      <td>9.000000</td>\n",
       "    </tr>\n",
       "    <tr>\n",
       "      <th>50%</th>\n",
       "      <td>2.000000</td>\n",
       "      <td>177603.500000</td>\n",
       "      <td>19.900000</td>\n",
       "    </tr>\n",
       "    <tr>\n",
       "      <th>75%</th>\n",
       "      <td>3.000000</td>\n",
       "      <td>238816.750000</td>\n",
       "      <td>44.700000</td>\n",
       "    </tr>\n",
       "    <tr>\n",
       "      <th>max</th>\n",
       "      <td>20.000000</td>\n",
       "      <td>323914.000000</td>\n",
       "      <td>79920.000000</td>\n",
       "    </tr>\n",
       "  </tbody>\n",
       "</table>\n",
       "</div>"
      ],
      "text/plain": [
       "              POS_NO      BASK_CODE     BASK_SPEND\n",
       "count  571552.000000  571552.000000  571552.000000\n",
       "mean        2.998429  167472.817102      38.973310\n",
       "std         2.516065   87263.199857     209.038276\n",
       "min         1.000000     961.000000  -35940.000000\n",
       "25%         1.000000   90533.750000       9.000000\n",
       "50%         2.000000  177603.500000      19.900000\n",
       "75%         3.000000  238816.750000      44.700000\n",
       "max        20.000000  323914.000000   79920.000000"
      ]
     },
     "execution_count": 3,
     "metadata": {},
     "output_type": "execute_result"
    }
   ],
   "source": [
    "basket.describe()#查看数据分布情况"
   ]
  },
  {
   "cell_type": "markdown",
   "metadata": {},
   "source": [
    "由上可以看出，订单金额最小值为负数，说明数据存在异常值，需要删除订单金额小于零的数据。"
   ]
  },
  {
   "cell_type": "code",
   "execution_count": 4,
   "metadata": {},
   "outputs": [
    {
     "data": {
      "text/html": [
       "<div>\n",
       "<style scoped>\n",
       "    .dataframe tbody tr th:only-of-type {\n",
       "        vertical-align: middle;\n",
       "    }\n",
       "\n",
       "    .dataframe tbody tr th {\n",
       "        vertical-align: top;\n",
       "    }\n",
       "\n",
       "    .dataframe thead th {\n",
       "        text-align: right;\n",
       "    }\n",
       "</style>\n",
       "<table border=\"1\" class=\"dataframe\">\n",
       "  <thead>\n",
       "    <tr style=\"text-align: right;\">\n",
       "      <th></th>\n",
       "      <th>SHOP_DATETIME</th>\n",
       "      <th>STORE_CODE</th>\n",
       "      <th>POS_NO</th>\n",
       "      <th>BASK_CODE</th>\n",
       "      <th>BASK_SPEND</th>\n",
       "    </tr>\n",
       "  </thead>\n",
       "  <tbody>\n",
       "    <tr>\n",
       "      <th>0</th>\n",
       "      <td>2018/6/1</td>\n",
       "      <td>D007</td>\n",
       "      <td>3</td>\n",
       "      <td>250458</td>\n",
       "      <td>8.00</td>\n",
       "    </tr>\n",
       "    <tr>\n",
       "      <th>1</th>\n",
       "      <td>2018/6/1</td>\n",
       "      <td>D007</td>\n",
       "      <td>3</td>\n",
       "      <td>250200</td>\n",
       "      <td>32.70</td>\n",
       "    </tr>\n",
       "    <tr>\n",
       "      <th>2</th>\n",
       "      <td>2018/6/1</td>\n",
       "      <td>D007</td>\n",
       "      <td>1</td>\n",
       "      <td>161068</td>\n",
       "      <td>16.80</td>\n",
       "    </tr>\n",
       "    <tr>\n",
       "      <th>3</th>\n",
       "      <td>2018/6/1</td>\n",
       "      <td>D007</td>\n",
       "      <td>8</td>\n",
       "      <td>5325</td>\n",
       "      <td>30.40</td>\n",
       "    </tr>\n",
       "    <tr>\n",
       "      <th>4</th>\n",
       "      <td>2018/6/1</td>\n",
       "      <td>D007</td>\n",
       "      <td>8</td>\n",
       "      <td>5361</td>\n",
       "      <td>191.30</td>\n",
       "    </tr>\n",
       "    <tr>\n",
       "      <th>...</th>\n",
       "      <td>...</td>\n",
       "      <td>...</td>\n",
       "      <td>...</td>\n",
       "      <td>...</td>\n",
       "      <td>...</td>\n",
       "    </tr>\n",
       "    <tr>\n",
       "      <th>571547</th>\n",
       "      <td>2018/7/5</td>\n",
       "      <td>A010</td>\n",
       "      <td>2</td>\n",
       "      <td>284211</td>\n",
       "      <td>34.71</td>\n",
       "    </tr>\n",
       "    <tr>\n",
       "      <th>571548</th>\n",
       "      <td>2018/7/5</td>\n",
       "      <td>A010</td>\n",
       "      <td>2</td>\n",
       "      <td>284601</td>\n",
       "      <td>44.80</td>\n",
       "    </tr>\n",
       "    <tr>\n",
       "      <th>571549</th>\n",
       "      <td>2018/7/5</td>\n",
       "      <td>A010</td>\n",
       "      <td>2</td>\n",
       "      <td>284241</td>\n",
       "      <td>6.50</td>\n",
       "    </tr>\n",
       "    <tr>\n",
       "      <th>571550</th>\n",
       "      <td>2018/7/5</td>\n",
       "      <td>A010</td>\n",
       "      <td>2</td>\n",
       "      <td>284352</td>\n",
       "      <td>15.90</td>\n",
       "    </tr>\n",
       "    <tr>\n",
       "      <th>571551</th>\n",
       "      <td>2018/7/5</td>\n",
       "      <td>A010</td>\n",
       "      <td>2</td>\n",
       "      <td>284265</td>\n",
       "      <td>43.20</td>\n",
       "    </tr>\n",
       "  </tbody>\n",
       "</table>\n",
       "<p>569797 rows × 5 columns</p>\n",
       "</div>"
      ],
      "text/plain": [
       "       SHOP_DATETIME STORE_CODE  POS_NO  BASK_CODE  BASK_SPEND\n",
       "0           2018/6/1       D007       3     250458        8.00\n",
       "1           2018/6/1       D007       3     250200       32.70\n",
       "2           2018/6/1       D007       1     161068       16.80\n",
       "3           2018/6/1       D007       8       5325       30.40\n",
       "4           2018/6/1       D007       8       5361      191.30\n",
       "...              ...        ...     ...        ...         ...\n",
       "571547      2018/7/5       A010       2     284211       34.71\n",
       "571548      2018/7/5       A010       2     284601       44.80\n",
       "571549      2018/7/5       A010       2     284241        6.50\n",
       "571550      2018/7/5       A010       2     284352       15.90\n",
       "571551      2018/7/5       A010       2     284265       43.20\n",
       "\n",
       "[569797 rows x 5 columns]"
      ]
     },
     "execution_count": 4,
     "metadata": {},
     "output_type": "execute_result"
    }
   ],
   "source": [
    "basket_data1=basket[basket['BASK_SPEND']>0]  #剔除data中bask_spend列小于0的行\n",
    "basket_data1"
   ]
  },
  {
   "cell_type": "code",
   "execution_count": 5,
   "metadata": {
    "scrolled": true
   },
   "outputs": [
    {
     "data": {
      "text/html": [
       "<div>\n",
       "<style scoped>\n",
       "    .dataframe tbody tr th:only-of-type {\n",
       "        vertical-align: middle;\n",
       "    }\n",
       "\n",
       "    .dataframe tbody tr th {\n",
       "        vertical-align: top;\n",
       "    }\n",
       "\n",
       "    .dataframe thead th {\n",
       "        text-align: right;\n",
       "    }\n",
       "</style>\n",
       "<table border=\"1\" class=\"dataframe\">\n",
       "  <thead>\n",
       "    <tr style=\"text-align: right;\">\n",
       "      <th></th>\n",
       "      <th>POS_NO</th>\n",
       "      <th>BASK_CODE</th>\n",
       "      <th>BASK_SPEND</th>\n",
       "    </tr>\n",
       "  </thead>\n",
       "  <tbody>\n",
       "    <tr>\n",
       "      <th>count</th>\n",
       "      <td>569797.000000</td>\n",
       "      <td>569797.000000</td>\n",
       "      <td>569797.000000</td>\n",
       "    </tr>\n",
       "    <tr>\n",
       "      <th>mean</th>\n",
       "      <td>2.994330</td>\n",
       "      <td>167572.136898</td>\n",
       "      <td>39.583197</td>\n",
       "    </tr>\n",
       "    <tr>\n",
       "      <th>std</th>\n",
       "      <td>2.502507</td>\n",
       "      <td>87224.915886</td>\n",
       "      <td>196.158166</td>\n",
       "    </tr>\n",
       "    <tr>\n",
       "      <th>min</th>\n",
       "      <td>1.000000</td>\n",
       "      <td>961.000000</td>\n",
       "      <td>0.010000</td>\n",
       "    </tr>\n",
       "    <tr>\n",
       "      <th>25%</th>\n",
       "      <td>1.000000</td>\n",
       "      <td>90673.000000</td>\n",
       "      <td>9.000000</td>\n",
       "    </tr>\n",
       "    <tr>\n",
       "      <th>50%</th>\n",
       "      <td>2.000000</td>\n",
       "      <td>177692.000000</td>\n",
       "      <td>20.000000</td>\n",
       "    </tr>\n",
       "    <tr>\n",
       "      <th>75%</th>\n",
       "      <td>3.000000</td>\n",
       "      <td>238933.000000</td>\n",
       "      <td>44.800000</td>\n",
       "    </tr>\n",
       "    <tr>\n",
       "      <th>max</th>\n",
       "      <td>20.000000</td>\n",
       "      <td>323914.000000</td>\n",
       "      <td>79920.000000</td>\n",
       "    </tr>\n",
       "  </tbody>\n",
       "</table>\n",
       "</div>"
      ],
      "text/plain": [
       "              POS_NO      BASK_CODE     BASK_SPEND\n",
       "count  569797.000000  569797.000000  569797.000000\n",
       "mean        2.994330  167572.136898      39.583197\n",
       "std         2.502507   87224.915886     196.158166\n",
       "min         1.000000     961.000000       0.010000\n",
       "25%         1.000000   90673.000000       9.000000\n",
       "50%         2.000000  177692.000000      20.000000\n",
       "75%         3.000000  238933.000000      44.800000\n",
       "max        20.000000  323914.000000   79920.000000"
      ]
     },
     "execution_count": 5,
     "metadata": {},
     "output_type": "execute_result"
    }
   ],
   "source": [
    "basket_data1.describe()#查看数据分布情况"
   ]
  },
  {
   "cell_type": "code",
   "execution_count": 6,
   "metadata": {},
   "outputs": [
    {
     "data": {
      "text/plain": [
       "0"
      ]
     },
     "execution_count": 6,
     "metadata": {},
     "output_type": "execute_result"
    }
   ],
   "source": [
    "basket_data1.duplicated().sum()#查看是否有重复值"
   ]
  },
  {
   "cell_type": "code",
   "execution_count": 7,
   "metadata": {},
   "outputs": [
    {
     "data": {
      "text/plain": [
       "(569797, 5)"
      ]
     },
     "metadata": {},
     "output_type": "display_data"
    }
   ],
   "source": [
    "display(basket_data1.shape)"
   ]
  },
  {
   "cell_type": "markdown",
   "metadata": {},
   "source": [
    "## 2.2 item数据导入与预处理"
   ]
  },
  {
   "cell_type": "code",
   "execution_count": 8,
   "metadata": {},
   "outputs": [
    {
     "data": {
      "text/html": [
       "<div>\n",
       "<style scoped>\n",
       "    .dataframe tbody tr th:only-of-type {\n",
       "        vertical-align: middle;\n",
       "    }\n",
       "\n",
       "    .dataframe tbody tr th {\n",
       "        vertical-align: top;\n",
       "    }\n",
       "\n",
       "    .dataframe thead th {\n",
       "        text-align: right;\n",
       "    }\n",
       "</style>\n",
       "<table border=\"1\" class=\"dataframe\">\n",
       "  <thead>\n",
       "    <tr style=\"text-align: right;\">\n",
       "      <th></th>\n",
       "      <th>SDATE</th>\n",
       "      <th>STORE_CODE</th>\n",
       "      <th>POSID</th>\n",
       "      <th>BASK_CODE</th>\n",
       "      <th>PROD_CODE</th>\n",
       "      <th>ITEM_QUANTITY</th>\n",
       "      <th>ITEM_SPEND</th>\n",
       "      <th>NORMAL_PRICE</th>\n",
       "      <th>DISCOUNT_TYPE</th>\n",
       "      <th>DISCOUNT_AMOUNT</th>\n",
       "    </tr>\n",
       "  </thead>\n",
       "  <tbody>\n",
       "    <tr>\n",
       "      <th>0</th>\n",
       "      <td>2018-06-01</td>\n",
       "      <td>D007</td>\n",
       "      <td>3</td>\n",
       "      <td>250451</td>\n",
       "      <td>29405</td>\n",
       "      <td>1.000</td>\n",
       "      <td>1.70</td>\n",
       "      <td>2.0</td>\n",
       "      <td>m</td>\n",
       "      <td>-0.3</td>\n",
       "    </tr>\n",
       "    <tr>\n",
       "      <th>1</th>\n",
       "      <td>2018-06-01</td>\n",
       "      <td>D007</td>\n",
       "      <td>3</td>\n",
       "      <td>250451</td>\n",
       "      <td>13187</td>\n",
       "      <td>1.000</td>\n",
       "      <td>1.00</td>\n",
       "      <td>1.0</td>\n",
       "      <td>n</td>\n",
       "      <td>0.0</td>\n",
       "    </tr>\n",
       "    <tr>\n",
       "      <th>2</th>\n",
       "      <td>2018-06-01</td>\n",
       "      <td>D007</td>\n",
       "      <td>3</td>\n",
       "      <td>250243</td>\n",
       "      <td>196249</td>\n",
       "      <td>1.000</td>\n",
       "      <td>99.00</td>\n",
       "      <td>99.0</td>\n",
       "      <td>m</td>\n",
       "      <td>0.0</td>\n",
       "    </tr>\n",
       "    <tr>\n",
       "      <th>3</th>\n",
       "      <td>2018-06-01</td>\n",
       "      <td>D007</td>\n",
       "      <td>3</td>\n",
       "      <td>250243</td>\n",
       "      <td>199637</td>\n",
       "      <td>1.000</td>\n",
       "      <td>9.90</td>\n",
       "      <td>16.8</td>\n",
       "      <td>p</td>\n",
       "      <td>-6.9</td>\n",
       "    </tr>\n",
       "    <tr>\n",
       "      <th>4</th>\n",
       "      <td>2018-06-01</td>\n",
       "      <td>D007</td>\n",
       "      <td>1</td>\n",
       "      <td>160905</td>\n",
       "      <td>195012</td>\n",
       "      <td>3.222</td>\n",
       "      <td>18.69</td>\n",
       "      <td>5.8</td>\n",
       "      <td>n</td>\n",
       "      <td>0.0</td>\n",
       "    </tr>\n",
       "    <tr>\n",
       "      <th>...</th>\n",
       "      <td>...</td>\n",
       "      <td>...</td>\n",
       "      <td>...</td>\n",
       "      <td>...</td>\n",
       "      <td>...</td>\n",
       "      <td>...</td>\n",
       "      <td>...</td>\n",
       "      <td>...</td>\n",
       "      <td>...</td>\n",
       "      <td>...</td>\n",
       "    </tr>\n",
       "    <tr>\n",
       "      <th>1732756</th>\n",
       "      <td>2018-07-05</td>\n",
       "      <td>A010</td>\n",
       "      <td>2</td>\n",
       "      <td>284254</td>\n",
       "      <td>144474</td>\n",
       "      <td>0.470</td>\n",
       "      <td>26.32</td>\n",
       "      <td>56.0</td>\n",
       "      <td>n</td>\n",
       "      <td>0.0</td>\n",
       "    </tr>\n",
       "    <tr>\n",
       "      <th>1732757</th>\n",
       "      <td>2018-07-05</td>\n",
       "      <td>A010</td>\n",
       "      <td>2</td>\n",
       "      <td>284265</td>\n",
       "      <td>2243</td>\n",
       "      <td>24.000</td>\n",
       "      <td>43.20</td>\n",
       "      <td>1.8</td>\n",
       "      <td>n</td>\n",
       "      <td>0.0</td>\n",
       "    </tr>\n",
       "    <tr>\n",
       "      <th>1732758</th>\n",
       "      <td>2018-07-05</td>\n",
       "      <td>A010</td>\n",
       "      <td>2</td>\n",
       "      <td>284406</td>\n",
       "      <td>216571</td>\n",
       "      <td>1.000</td>\n",
       "      <td>14.50</td>\n",
       "      <td>14.5</td>\n",
       "      <td>n</td>\n",
       "      <td>0.0</td>\n",
       "    </tr>\n",
       "    <tr>\n",
       "      <th>1732759</th>\n",
       "      <td>2018-07-05</td>\n",
       "      <td>A010</td>\n",
       "      <td>2</td>\n",
       "      <td>284266</td>\n",
       "      <td>223768</td>\n",
       "      <td>1.000</td>\n",
       "      <td>2.50</td>\n",
       "      <td>3.0</td>\n",
       "      <td>m</td>\n",
       "      <td>-0.5</td>\n",
       "    </tr>\n",
       "    <tr>\n",
       "      <th>1732760</th>\n",
       "      <td>2018-07-05</td>\n",
       "      <td>A010</td>\n",
       "      <td>2</td>\n",
       "      <td>284263</td>\n",
       "      <td>205100</td>\n",
       "      <td>1.000</td>\n",
       "      <td>6.80</td>\n",
       "      <td>6.8</td>\n",
       "      <td>n</td>\n",
       "      <td>0.0</td>\n",
       "    </tr>\n",
       "  </tbody>\n",
       "</table>\n",
       "<p>1732761 rows × 10 columns</p>\n",
       "</div>"
      ],
      "text/plain": [
       "              SDATE STORE_CODE  POSID  BASK_CODE  PROD_CODE  ITEM_QUANTITY  \\\n",
       "0        2018-06-01       D007      3     250451      29405          1.000   \n",
       "1        2018-06-01       D007      3     250451      13187          1.000   \n",
       "2        2018-06-01       D007      3     250243     196249          1.000   \n",
       "3        2018-06-01       D007      3     250243     199637          1.000   \n",
       "4        2018-06-01       D007      1     160905     195012          3.222   \n",
       "...             ...        ...    ...        ...        ...            ...   \n",
       "1732756  2018-07-05       A010      2     284254     144474          0.470   \n",
       "1732757  2018-07-05       A010      2     284265       2243         24.000   \n",
       "1732758  2018-07-05       A010      2     284406     216571          1.000   \n",
       "1732759  2018-07-05       A010      2     284266     223768          1.000   \n",
       "1732760  2018-07-05       A010      2     284263     205100          1.000   \n",
       "\n",
       "         ITEM_SPEND  NORMAL_PRICE DISCOUNT_TYPE  DISCOUNT_AMOUNT  \n",
       "0              1.70           2.0             m             -0.3  \n",
       "1              1.00           1.0             n              0.0  \n",
       "2             99.00          99.0             m              0.0  \n",
       "3              9.90          16.8             p             -6.9  \n",
       "4             18.69           5.8             n              0.0  \n",
       "...             ...           ...           ...              ...  \n",
       "1732756       26.32          56.0             n              0.0  \n",
       "1732757       43.20           1.8             n              0.0  \n",
       "1732758       14.50          14.5             n              0.0  \n",
       "1732759        2.50           3.0             m             -0.5  \n",
       "1732760        6.80           6.8             n              0.0  \n",
       "\n",
       "[1732761 rows x 10 columns]"
      ]
     },
     "execution_count": 8,
     "metadata": {},
     "output_type": "execute_result"
    }
   ],
   "source": [
    "import pandas as pd #导入pandas模块\n",
    "item=pd.read_csv('D:/anaconda/testt/python与数理统计/大作业1/2/item.csv')\n",
    "#item = data.iloc[:,:]\n",
    "item"
   ]
  },
  {
   "cell_type": "code",
   "execution_count": 9,
   "metadata": {
    "scrolled": true
   },
   "outputs": [
    {
     "data": {
      "text/plain": [
       "SDATE              False\n",
       "STORE_CODE         False\n",
       "POSID              False\n",
       "BASK_CODE          False\n",
       "PROD_CODE          False\n",
       "ITEM_QUANTITY      False\n",
       "ITEM_SPEND         False\n",
       "NORMAL_PRICE       False\n",
       "DISCOUNT_TYPE      False\n",
       "DISCOUNT_AMOUNT    False\n",
       "dtype: bool"
      ]
     },
     "execution_count": 9,
     "metadata": {},
     "output_type": "execute_result"
    }
   ],
   "source": [
    "item = pd.read_csv('D:/anaconda/testt/python与数理统计/大作业1/2/item.csv')\n",
    "item['SDATE']=pd.to_datetime(item['SDATE'])\n",
    "item.isnull().any()#查看所有缺失值"
   ]
  },
  {
   "cell_type": "markdown",
   "metadata": {},
   "source": [
    "由上可看出，item表中数据属性没有缺失值。"
   ]
  },
  {
   "cell_type": "code",
   "execution_count": 10,
   "metadata": {
    "scrolled": false
   },
   "outputs": [
    {
     "data": {
      "text/html": [
       "<div>\n",
       "<style scoped>\n",
       "    .dataframe tbody tr th:only-of-type {\n",
       "        vertical-align: middle;\n",
       "    }\n",
       "\n",
       "    .dataframe tbody tr th {\n",
       "        vertical-align: top;\n",
       "    }\n",
       "\n",
       "    .dataframe thead th {\n",
       "        text-align: right;\n",
       "    }\n",
       "</style>\n",
       "<table border=\"1\" class=\"dataframe\">\n",
       "  <thead>\n",
       "    <tr style=\"text-align: right;\">\n",
       "      <th></th>\n",
       "      <th>POSID</th>\n",
       "      <th>BASK_CODE</th>\n",
       "      <th>PROD_CODE</th>\n",
       "      <th>ITEM_QUANTITY</th>\n",
       "      <th>ITEM_SPEND</th>\n",
       "      <th>NORMAL_PRICE</th>\n",
       "      <th>DISCOUNT_AMOUNT</th>\n",
       "    </tr>\n",
       "  </thead>\n",
       "  <tbody>\n",
       "    <tr>\n",
       "      <th>count</th>\n",
       "      <td>1.732761e+06</td>\n",
       "      <td>1.732761e+06</td>\n",
       "      <td>1.732761e+06</td>\n",
       "      <td>1.732761e+06</td>\n",
       "      <td>1.732761e+06</td>\n",
       "      <td>1.732761e+06</td>\n",
       "      <td>1.732761e+06</td>\n",
       "    </tr>\n",
       "    <tr>\n",
       "      <th>mean</th>\n",
       "      <td>2.994959e+00</td>\n",
       "      <td>1.659824e+05</td>\n",
       "      <td>1.144861e+05</td>\n",
       "      <td>1.436702e+00</td>\n",
       "      <td>1.285536e+01</td>\n",
       "      <td>1.424412e+01</td>\n",
       "      <td>-1.624232e+00</td>\n",
       "    </tr>\n",
       "    <tr>\n",
       "      <th>std</th>\n",
       "      <td>2.470286e+00</td>\n",
       "      <td>8.583102e+04</td>\n",
       "      <td>8.161988e+04</td>\n",
       "      <td>7.015504e+00</td>\n",
       "      <td>1.022148e+02</td>\n",
       "      <td>2.403937e+01</td>\n",
       "      <td>5.160490e+01</td>\n",
       "    </tr>\n",
       "    <tr>\n",
       "      <th>min</th>\n",
       "      <td>1.000000e+00</td>\n",
       "      <td>9.610000e+02</td>\n",
       "      <td>1.900000e+01</td>\n",
       "      <td>-6.000000e+02</td>\n",
       "      <td>-3.594000e+04</td>\n",
       "      <td>5.000000e-01</td>\n",
       "      <td>-5.760000e+04</td>\n",
       "    </tr>\n",
       "    <tr>\n",
       "      <th>25%</th>\n",
       "      <td>1.000000e+00</td>\n",
       "      <td>8.995200e+04</td>\n",
       "      <td>2.183500e+04</td>\n",
       "      <td>1.000000e+00</td>\n",
       "      <td>3.800000e+00</td>\n",
       "      <td>3.800000e+00</td>\n",
       "      <td>-1.000000e+00</td>\n",
       "    </tr>\n",
       "    <tr>\n",
       "      <th>50%</th>\n",
       "      <td>2.000000e+00</td>\n",
       "      <td>1.758280e+05</td>\n",
       "      <td>1.233210e+05</td>\n",
       "      <td>1.000000e+00</td>\n",
       "      <td>7.000000e+00</td>\n",
       "      <td>7.800000e+00</td>\n",
       "      <td>0.000000e+00</td>\n",
       "    </tr>\n",
       "    <tr>\n",
       "      <th>75%</th>\n",
       "      <td>3.000000e+00</td>\n",
       "      <td>2.229530e+05</td>\n",
       "      <td>1.959930e+05</td>\n",
       "      <td>1.000000e+00</td>\n",
       "      <td>1.200000e+01</td>\n",
       "      <td>1.500000e+01</td>\n",
       "      <td>0.000000e+00</td>\n",
       "    </tr>\n",
       "    <tr>\n",
       "      <th>max</th>\n",
       "      <td>2.000000e+01</td>\n",
       "      <td>3.239140e+05</td>\n",
       "      <td>2.250470e+05</td>\n",
       "      <td>4.020000e+03</td>\n",
       "      <td>6.912000e+04</td>\n",
       "      <td>1.980000e+03</td>\n",
       "      <td>9.300000e+02</td>\n",
       "    </tr>\n",
       "  </tbody>\n",
       "</table>\n",
       "</div>"
      ],
      "text/plain": [
       "              POSID     BASK_CODE     PROD_CODE  ITEM_QUANTITY    ITEM_SPEND  \\\n",
       "count  1.732761e+06  1.732761e+06  1.732761e+06   1.732761e+06  1.732761e+06   \n",
       "mean   2.994959e+00  1.659824e+05  1.144861e+05   1.436702e+00  1.285536e+01   \n",
       "std    2.470286e+00  8.583102e+04  8.161988e+04   7.015504e+00  1.022148e+02   \n",
       "min    1.000000e+00  9.610000e+02  1.900000e+01  -6.000000e+02 -3.594000e+04   \n",
       "25%    1.000000e+00  8.995200e+04  2.183500e+04   1.000000e+00  3.800000e+00   \n",
       "50%    2.000000e+00  1.758280e+05  1.233210e+05   1.000000e+00  7.000000e+00   \n",
       "75%    3.000000e+00  2.229530e+05  1.959930e+05   1.000000e+00  1.200000e+01   \n",
       "max    2.000000e+01  3.239140e+05  2.250470e+05   4.020000e+03  6.912000e+04   \n",
       "\n",
       "       NORMAL_PRICE  DISCOUNT_AMOUNT  \n",
       "count  1.732761e+06     1.732761e+06  \n",
       "mean   1.424412e+01    -1.624232e+00  \n",
       "std    2.403937e+01     5.160490e+01  \n",
       "min    5.000000e-01    -5.760000e+04  \n",
       "25%    3.800000e+00    -1.000000e+00  \n",
       "50%    7.800000e+00     0.000000e+00  \n",
       "75%    1.500000e+01     0.000000e+00  \n",
       "max    1.980000e+03     9.300000e+02  "
      ]
     },
     "execution_count": 10,
     "metadata": {},
     "output_type": "execute_result"
    }
   ],
   "source": [
    "item.describe()#查看数据分布情况"
   ]
  },
  {
   "cell_type": "markdown",
   "metadata": {},
   "source": [
    "由上可以看出，item表中的ITEM_QUANTITY字段有负值，即商品数量为负； <br/> \n",
    "ITEM_SPEND字段数据最小值为负数，及商品消费金额最小值为负数，说明数据存在异常值，需要删除商品消费金额小于零的数据。<br/>\n",
    "item表中的DISCOUNT_AMOUTN字段数据有正值，说明数据存在异常值，即商品折扣后金额比折扣前金额高。<br/>"
   ]
  },
  {
   "cell_type": "code",
   "execution_count": 11,
   "metadata": {},
   "outputs": [
    {
     "data": {
      "text/html": [
       "<div>\n",
       "<style scoped>\n",
       "    .dataframe tbody tr th:only-of-type {\n",
       "        vertical-align: middle;\n",
       "    }\n",
       "\n",
       "    .dataframe tbody tr th {\n",
       "        vertical-align: top;\n",
       "    }\n",
       "\n",
       "    .dataframe thead th {\n",
       "        text-align: right;\n",
       "    }\n",
       "</style>\n",
       "<table border=\"1\" class=\"dataframe\">\n",
       "  <thead>\n",
       "    <tr style=\"text-align: right;\">\n",
       "      <th></th>\n",
       "      <th>SDATE</th>\n",
       "      <th>STORE_CODE</th>\n",
       "      <th>POSID</th>\n",
       "      <th>BASK_CODE</th>\n",
       "      <th>PROD_CODE</th>\n",
       "      <th>ITEM_QUANTITY</th>\n",
       "      <th>ITEM_SPEND</th>\n",
       "      <th>NORMAL_PRICE</th>\n",
       "      <th>DISCOUNT_TYPE</th>\n",
       "      <th>DISCOUNT_AMOUNT</th>\n",
       "    </tr>\n",
       "  </thead>\n",
       "  <tbody>\n",
       "    <tr>\n",
       "      <th>0</th>\n",
       "      <td>2018-06-01</td>\n",
       "      <td>D007</td>\n",
       "      <td>3</td>\n",
       "      <td>250451</td>\n",
       "      <td>29405</td>\n",
       "      <td>1.000</td>\n",
       "      <td>1.70</td>\n",
       "      <td>2.0</td>\n",
       "      <td>m</td>\n",
       "      <td>-0.3</td>\n",
       "    </tr>\n",
       "    <tr>\n",
       "      <th>1</th>\n",
       "      <td>2018-06-01</td>\n",
       "      <td>D007</td>\n",
       "      <td>3</td>\n",
       "      <td>250451</td>\n",
       "      <td>13187</td>\n",
       "      <td>1.000</td>\n",
       "      <td>1.00</td>\n",
       "      <td>1.0</td>\n",
       "      <td>n</td>\n",
       "      <td>0.0</td>\n",
       "    </tr>\n",
       "    <tr>\n",
       "      <th>2</th>\n",
       "      <td>2018-06-01</td>\n",
       "      <td>D007</td>\n",
       "      <td>3</td>\n",
       "      <td>250243</td>\n",
       "      <td>196249</td>\n",
       "      <td>1.000</td>\n",
       "      <td>99.00</td>\n",
       "      <td>99.0</td>\n",
       "      <td>m</td>\n",
       "      <td>0.0</td>\n",
       "    </tr>\n",
       "    <tr>\n",
       "      <th>3</th>\n",
       "      <td>2018-06-01</td>\n",
       "      <td>D007</td>\n",
       "      <td>3</td>\n",
       "      <td>250243</td>\n",
       "      <td>199637</td>\n",
       "      <td>1.000</td>\n",
       "      <td>9.90</td>\n",
       "      <td>16.8</td>\n",
       "      <td>p</td>\n",
       "      <td>-6.9</td>\n",
       "    </tr>\n",
       "    <tr>\n",
       "      <th>4</th>\n",
       "      <td>2018-06-01</td>\n",
       "      <td>D007</td>\n",
       "      <td>1</td>\n",
       "      <td>160905</td>\n",
       "      <td>195012</td>\n",
       "      <td>3.222</td>\n",
       "      <td>18.69</td>\n",
       "      <td>5.8</td>\n",
       "      <td>n</td>\n",
       "      <td>0.0</td>\n",
       "    </tr>\n",
       "  </tbody>\n",
       "</table>\n",
       "</div>"
      ],
      "text/plain": [
       "       SDATE STORE_CODE  POSID  BASK_CODE  PROD_CODE  ITEM_QUANTITY  \\\n",
       "0 2018-06-01       D007      3     250451      29405          1.000   \n",
       "1 2018-06-01       D007      3     250451      13187          1.000   \n",
       "2 2018-06-01       D007      3     250243     196249          1.000   \n",
       "3 2018-06-01       D007      3     250243     199637          1.000   \n",
       "4 2018-06-01       D007      1     160905     195012          3.222   \n",
       "\n",
       "   ITEM_SPEND  NORMAL_PRICE DISCOUNT_TYPE  DISCOUNT_AMOUNT  \n",
       "0        1.70           2.0             m             -0.3  \n",
       "1        1.00           1.0             n              0.0  \n",
       "2       99.00          99.0             m              0.0  \n",
       "3        9.90          16.8             p             -6.9  \n",
       "4       18.69           5.8             n              0.0  "
      ]
     },
     "execution_count": 11,
     "metadata": {},
     "output_type": "execute_result"
    }
   ],
   "source": [
    "item_data0=item[item['ITEM_QUANTITY']>0]  #剔除basket中bask_spend列小于等于0的行\n",
    "item_data1_1=item_data0[item_data0['ITEM_SPEND']>0]  #剔除basket中bask_spend列小于0的行\n",
    "item_data1=item_data1_1[item_data1_1['DISCOUNT_AMOUNT']<=0]\n",
    "item_data1.head()"
   ]
  },
  {
   "cell_type": "code",
   "execution_count": 12,
   "metadata": {},
   "outputs": [
    {
     "data": {
      "text/plain": [
       "(1730083, 10)"
      ]
     },
     "metadata": {},
     "output_type": "display_data"
    }
   ],
   "source": [
    "display(item_data1.shape)"
   ]
  },
  {
   "cell_type": "code",
   "execution_count": 13,
   "metadata": {
    "scrolled": true
   },
   "outputs": [
    {
     "data": {
      "text/html": [
       "<div>\n",
       "<style scoped>\n",
       "    .dataframe tbody tr th:only-of-type {\n",
       "        vertical-align: middle;\n",
       "    }\n",
       "\n",
       "    .dataframe tbody tr th {\n",
       "        vertical-align: top;\n",
       "    }\n",
       "\n",
       "    .dataframe thead th {\n",
       "        text-align: right;\n",
       "    }\n",
       "</style>\n",
       "<table border=\"1\" class=\"dataframe\">\n",
       "  <thead>\n",
       "    <tr style=\"text-align: right;\">\n",
       "      <th></th>\n",
       "      <th>POSID</th>\n",
       "      <th>BASK_CODE</th>\n",
       "      <th>PROD_CODE</th>\n",
       "      <th>ITEM_QUANTITY</th>\n",
       "      <th>ITEM_SPEND</th>\n",
       "      <th>NORMAL_PRICE</th>\n",
       "      <th>DISCOUNT_AMOUNT</th>\n",
       "    </tr>\n",
       "  </thead>\n",
       "  <tbody>\n",
       "    <tr>\n",
       "      <th>count</th>\n",
       "      <td>1.730083e+06</td>\n",
       "      <td>1.730083e+06</td>\n",
       "      <td>1.730083e+06</td>\n",
       "      <td>1.730083e+06</td>\n",
       "      <td>1.730083e+06</td>\n",
       "      <td>1.730083e+06</td>\n",
       "      <td>1.730083e+06</td>\n",
       "    </tr>\n",
       "    <tr>\n",
       "      <th>mean</th>\n",
       "      <td>2.993408e+00</td>\n",
       "      <td>1.660228e+05</td>\n",
       "      <td>1.144741e+05</td>\n",
       "      <td>1.444067e+00</td>\n",
       "      <td>1.303603e+01</td>\n",
       "      <td>1.420604e+01</td>\n",
       "      <td>-1.611557e+00</td>\n",
       "    </tr>\n",
       "    <tr>\n",
       "      <th>std</th>\n",
       "      <td>2.465074e+00</td>\n",
       "      <td>8.581571e+04</td>\n",
       "      <td>8.160808e+04</td>\n",
       "      <td>6.975142e+00</td>\n",
       "      <td>9.334519e+01</td>\n",
       "      <td>2.392658e+01</td>\n",
       "      <td>5.146317e+01</td>\n",
       "    </tr>\n",
       "    <tr>\n",
       "      <th>min</th>\n",
       "      <td>1.000000e+00</td>\n",
       "      <td>9.610000e+02</td>\n",
       "      <td>1.900000e+01</td>\n",
       "      <td>1.000000e-02</td>\n",
       "      <td>1.000000e-02</td>\n",
       "      <td>5.000000e-01</td>\n",
       "      <td>-5.760000e+04</td>\n",
       "    </tr>\n",
       "    <tr>\n",
       "      <th>25%</th>\n",
       "      <td>1.000000e+00</td>\n",
       "      <td>8.999650e+04</td>\n",
       "      <td>2.183500e+04</td>\n",
       "      <td>1.000000e+00</td>\n",
       "      <td>3.800000e+00</td>\n",
       "      <td>3.800000e+00</td>\n",
       "      <td>-1.000000e+00</td>\n",
       "    </tr>\n",
       "    <tr>\n",
       "      <th>50%</th>\n",
       "      <td>2.000000e+00</td>\n",
       "      <td>1.758750e+05</td>\n",
       "      <td>1.233210e+05</td>\n",
       "      <td>1.000000e+00</td>\n",
       "      <td>7.010000e+00</td>\n",
       "      <td>7.700000e+00</td>\n",
       "      <td>0.000000e+00</td>\n",
       "    </tr>\n",
       "    <tr>\n",
       "      <th>75%</th>\n",
       "      <td>3.000000e+00</td>\n",
       "      <td>2.229690e+05</td>\n",
       "      <td>1.959930e+05</td>\n",
       "      <td>1.000000e+00</td>\n",
       "      <td>1.203000e+01</td>\n",
       "      <td>1.500000e+01</td>\n",
       "      <td>0.000000e+00</td>\n",
       "    </tr>\n",
       "    <tr>\n",
       "      <th>max</th>\n",
       "      <td>2.000000e+01</td>\n",
       "      <td>3.239140e+05</td>\n",
       "      <td>2.250470e+05</td>\n",
       "      <td>4.020000e+03</td>\n",
       "      <td>6.912000e+04</td>\n",
       "      <td>1.980000e+03</td>\n",
       "      <td>0.000000e+00</td>\n",
       "    </tr>\n",
       "  </tbody>\n",
       "</table>\n",
       "</div>"
      ],
      "text/plain": [
       "              POSID     BASK_CODE     PROD_CODE  ITEM_QUANTITY    ITEM_SPEND  \\\n",
       "count  1.730083e+06  1.730083e+06  1.730083e+06   1.730083e+06  1.730083e+06   \n",
       "mean   2.993408e+00  1.660228e+05  1.144741e+05   1.444067e+00  1.303603e+01   \n",
       "std    2.465074e+00  8.581571e+04  8.160808e+04   6.975142e+00  9.334519e+01   \n",
       "min    1.000000e+00  9.610000e+02  1.900000e+01   1.000000e-02  1.000000e-02   \n",
       "25%    1.000000e+00  8.999650e+04  2.183500e+04   1.000000e+00  3.800000e+00   \n",
       "50%    2.000000e+00  1.758750e+05  1.233210e+05   1.000000e+00  7.010000e+00   \n",
       "75%    3.000000e+00  2.229690e+05  1.959930e+05   1.000000e+00  1.203000e+01   \n",
       "max    2.000000e+01  3.239140e+05  2.250470e+05   4.020000e+03  6.912000e+04   \n",
       "\n",
       "       NORMAL_PRICE  DISCOUNT_AMOUNT  \n",
       "count  1.730083e+06     1.730083e+06  \n",
       "mean   1.420604e+01    -1.611557e+00  \n",
       "std    2.392658e+01     5.146317e+01  \n",
       "min    5.000000e-01    -5.760000e+04  \n",
       "25%    3.800000e+00    -1.000000e+00  \n",
       "50%    7.700000e+00     0.000000e+00  \n",
       "75%    1.500000e+01     0.000000e+00  \n",
       "max    1.980000e+03     0.000000e+00  "
      ]
     },
     "execution_count": 13,
     "metadata": {},
     "output_type": "execute_result"
    }
   ],
   "source": [
    "item_data1.describe()#查看数据分布情况"
   ]
  },
  {
   "cell_type": "code",
   "execution_count": 14,
   "metadata": {},
   "outputs": [
    {
     "data": {
      "text/plain": [
       "212634"
      ]
     },
     "execution_count": 14,
     "metadata": {},
     "output_type": "execute_result"
    }
   ],
   "source": [
    "item_data1.duplicated().sum()#查看是否有重复值"
   ]
  },
  {
   "cell_type": "markdown",
   "metadata": {},
   "source": [
    "可以看出，item表中有212634条重复数据，因此需要保留重复出现的行中第一次出现的行，去掉其他重复行。"
   ]
  },
  {
   "cell_type": "code",
   "execution_count": 15,
   "metadata": {},
   "outputs": [
    {
     "data": {
      "text/html": [
       "<div>\n",
       "<style scoped>\n",
       "    .dataframe tbody tr th:only-of-type {\n",
       "        vertical-align: middle;\n",
       "    }\n",
       "\n",
       "    .dataframe tbody tr th {\n",
       "        vertical-align: top;\n",
       "    }\n",
       "\n",
       "    .dataframe thead th {\n",
       "        text-align: right;\n",
       "    }\n",
       "</style>\n",
       "<table border=\"1\" class=\"dataframe\">\n",
       "  <thead>\n",
       "    <tr style=\"text-align: right;\">\n",
       "      <th></th>\n",
       "      <th>SDATE</th>\n",
       "      <th>STORE_CODE</th>\n",
       "      <th>POSID</th>\n",
       "      <th>BASK_CODE</th>\n",
       "      <th>PROD_CODE</th>\n",
       "      <th>ITEM_QUANTITY</th>\n",
       "      <th>ITEM_SPEND</th>\n",
       "      <th>NORMAL_PRICE</th>\n",
       "      <th>DISCOUNT_TYPE</th>\n",
       "      <th>DISCOUNT_AMOUNT</th>\n",
       "    </tr>\n",
       "  </thead>\n",
       "  <tbody>\n",
       "    <tr>\n",
       "      <th>0</th>\n",
       "      <td>2018-06-01</td>\n",
       "      <td>D007</td>\n",
       "      <td>3</td>\n",
       "      <td>250451</td>\n",
       "      <td>29405</td>\n",
       "      <td>1.000</td>\n",
       "      <td>1.70</td>\n",
       "      <td>2.0</td>\n",
       "      <td>m</td>\n",
       "      <td>-0.3</td>\n",
       "    </tr>\n",
       "    <tr>\n",
       "      <th>1</th>\n",
       "      <td>2018-06-01</td>\n",
       "      <td>D007</td>\n",
       "      <td>3</td>\n",
       "      <td>250451</td>\n",
       "      <td>13187</td>\n",
       "      <td>1.000</td>\n",
       "      <td>1.00</td>\n",
       "      <td>1.0</td>\n",
       "      <td>n</td>\n",
       "      <td>0.0</td>\n",
       "    </tr>\n",
       "    <tr>\n",
       "      <th>2</th>\n",
       "      <td>2018-06-01</td>\n",
       "      <td>D007</td>\n",
       "      <td>3</td>\n",
       "      <td>250243</td>\n",
       "      <td>196249</td>\n",
       "      <td>1.000</td>\n",
       "      <td>99.00</td>\n",
       "      <td>99.0</td>\n",
       "      <td>m</td>\n",
       "      <td>0.0</td>\n",
       "    </tr>\n",
       "    <tr>\n",
       "      <th>3</th>\n",
       "      <td>2018-06-01</td>\n",
       "      <td>D007</td>\n",
       "      <td>3</td>\n",
       "      <td>250243</td>\n",
       "      <td>199637</td>\n",
       "      <td>1.000</td>\n",
       "      <td>9.90</td>\n",
       "      <td>16.8</td>\n",
       "      <td>p</td>\n",
       "      <td>-6.9</td>\n",
       "    </tr>\n",
       "    <tr>\n",
       "      <th>4</th>\n",
       "      <td>2018-06-01</td>\n",
       "      <td>D007</td>\n",
       "      <td>1</td>\n",
       "      <td>160905</td>\n",
       "      <td>195012</td>\n",
       "      <td>3.222</td>\n",
       "      <td>18.69</td>\n",
       "      <td>5.8</td>\n",
       "      <td>n</td>\n",
       "      <td>0.0</td>\n",
       "    </tr>\n",
       "  </tbody>\n",
       "</table>\n",
       "</div>"
      ],
      "text/plain": [
       "       SDATE STORE_CODE  POSID  BASK_CODE  PROD_CODE  ITEM_QUANTITY  \\\n",
       "0 2018-06-01       D007      3     250451      29405          1.000   \n",
       "1 2018-06-01       D007      3     250451      13187          1.000   \n",
       "2 2018-06-01       D007      3     250243     196249          1.000   \n",
       "3 2018-06-01       D007      3     250243     199637          1.000   \n",
       "4 2018-06-01       D007      1     160905     195012          3.222   \n",
       "\n",
       "   ITEM_SPEND  NORMAL_PRICE DISCOUNT_TYPE  DISCOUNT_AMOUNT  \n",
       "0        1.70           2.0             m             -0.3  \n",
       "1        1.00           1.0             n              0.0  \n",
       "2       99.00          99.0             m              0.0  \n",
       "3        9.90          16.8             p             -6.9  \n",
       "4       18.69           5.8             n              0.0  "
      ]
     },
     "execution_count": 15,
     "metadata": {},
     "output_type": "execute_result"
    }
   ],
   "source": [
    "item_data2 = item_data1.drop_duplicates(keep='first')#去掉重复行，并保留重复出现的行中第一次出现的行\n",
    "item_data2.head()"
   ]
  },
  {
   "cell_type": "markdown",
   "metadata": {},
   "source": [
    "# 3 商店商品分析"
   ]
  },
  {
   "cell_type": "markdown",
   "metadata": {},
   "source": [
    "## 3.1 按照消费额大小排序"
   ]
  },
  {
   "cell_type": "code",
   "execution_count": 16,
   "metadata": {
    "scrolled": true
   },
   "outputs": [
    {
     "data": {
      "text/html": [
       "<div>\n",
       "<style scoped>\n",
       "    .dataframe tbody tr th:only-of-type {\n",
       "        vertical-align: middle;\n",
       "    }\n",
       "\n",
       "    .dataframe tbody tr th {\n",
       "        vertical-align: top;\n",
       "    }\n",
       "\n",
       "    .dataframe thead th {\n",
       "        text-align: right;\n",
       "    }\n",
       "</style>\n",
       "<table border=\"1\" class=\"dataframe\">\n",
       "  <thead>\n",
       "    <tr style=\"text-align: right;\">\n",
       "      <th></th>\n",
       "      <th>STORE_CODE</th>\n",
       "      <th>BASK_SPEND</th>\n",
       "    </tr>\n",
       "  </thead>\n",
       "  <tbody>\n",
       "    <tr>\n",
       "      <th>0</th>\n",
       "      <td>A001</td>\n",
       "      <td>3.478348e+06</td>\n",
       "    </tr>\n",
       "    <tr>\n",
       "      <th>15</th>\n",
       "      <td>D002</td>\n",
       "      <td>3.177385e+06</td>\n",
       "    </tr>\n",
       "    <tr>\n",
       "      <th>20</th>\n",
       "      <td>D007</td>\n",
       "      <td>1.382203e+06</td>\n",
       "    </tr>\n",
       "    <tr>\n",
       "      <th>4</th>\n",
       "      <td>A008</td>\n",
       "      <td>1.324641e+06</td>\n",
       "    </tr>\n",
       "    <tr>\n",
       "      <th>8</th>\n",
       "      <td>A013</td>\n",
       "      <td>1.126551e+06</td>\n",
       "    </tr>\n",
       "    <tr>\n",
       "      <th>2</th>\n",
       "      <td>A006</td>\n",
       "      <td>9.439233e+05</td>\n",
       "    </tr>\n",
       "    <tr>\n",
       "      <th>7</th>\n",
       "      <td>A012</td>\n",
       "      <td>8.546610e+05</td>\n",
       "    </tr>\n",
       "    <tr>\n",
       "      <th>17</th>\n",
       "      <td>D004</td>\n",
       "      <td>8.153388e+05</td>\n",
       "    </tr>\n",
       "    <tr>\n",
       "      <th>19</th>\n",
       "      <td>D006</td>\n",
       "      <td>8.144365e+05</td>\n",
       "    </tr>\n",
       "    <tr>\n",
       "      <th>5</th>\n",
       "      <td>A009</td>\n",
       "      <td>8.052129e+05</td>\n",
       "    </tr>\n",
       "  </tbody>\n",
       "</table>\n",
       "</div>"
      ],
      "text/plain": [
       "   STORE_CODE    BASK_SPEND\n",
       "0        A001  3.478348e+06\n",
       "15       D002  3.177385e+06\n",
       "20       D007  1.382203e+06\n",
       "4        A008  1.324641e+06\n",
       "8        A013  1.126551e+06\n",
       "2        A006  9.439233e+05\n",
       "7        A012  8.546610e+05\n",
       "17       D004  8.153388e+05\n",
       "19       D006  8.144365e+05\n",
       "5        A009  8.052129e+05"
      ]
     },
     "execution_count": 16,
     "metadata": {},
     "output_type": "execute_result"
    }
   ],
   "source": [
    "#商店商品按消费额大小排序\n",
    "basket_data1.groupby('STORE_CODE')['BASK_SPEND'].sum().reset_index().sort_values(by = 'BASK_SPEND',ascending = False).head(10)"
   ]
  },
  {
   "cell_type": "code",
   "execution_count": 17,
   "metadata": {},
   "outputs": [
    {
     "data": {
      "text/plain": [
       "<AxesSubplot:xlabel='STORE_CODE'>"
      ]
     },
     "execution_count": 17,
     "metadata": {},
     "output_type": "execute_result"
    },
    {
     "data": {
      "image/png": "[encoded data removed]",
      "text/plain": [
       "<Figure size 432x288 with 1 Axes>"
      ]
     },
     "metadata": {
      "needs_background": "light"
     },
     "output_type": "display_data"
    }
   ],
   "source": [
    "#商店按消费额大小排序\n",
    "import numpy as np\n",
    "import matplotlib.pyplot as plt\n",
    "a=basket_data1.groupby('STORE_CODE')['BASK_SPEND'].sum().reset_index().sort_values(by = 'BASK_SPEND',ascending = False)\n",
    "a.set_index('STORE_CODE',inplace=True)\n",
    "#plt.rcParams['font.sans-serif'] = ['SimHei']\n",
    "#plt.rcParams['axes.unicode_minus'] = False\n",
    "#plt.xlabel('消费总额')\n",
    "a.plot(kind='bar')"
   ]
  },
  {
   "cell_type": "markdown",
   "metadata": {},
   "source": [
    "## 3.2 按照结账次数大小排序"
   ]
  },
  {
   "cell_type": "code",
   "execution_count": 18,
   "metadata": {},
   "outputs": [
    {
     "data": {
      "text/plain": [
       "A001    66507\n",
       "D002    62949\n",
       "D007    37503\n",
       "A008    36462\n",
       "A013    30064\n",
       "A006    28470\n",
       "A012    24946\n",
       "A009    21809\n",
       "D004    21362\n",
       "D008    21029\n",
       "A021    20555\n",
       "A010    19543\n",
       "D006    18572\n",
       "A016    18279\n",
       "A007    17954\n",
       "A019    16985\n",
       "D009    15827\n",
       "A018    15731\n",
       "D005    15261\n",
       "A022    15260\n",
       "A004    13429\n",
       "A017    12459\n",
       "D010    11070\n",
       "D003     7771\n",
       "Name: STORE_CODE, dtype: int64"
      ]
     },
     "execution_count": 18,
     "metadata": {},
     "output_type": "execute_result"
    }
   ],
   "source": [
    "#商店按结账次数大小排序\n",
    "basket_data1.loc[:,'STORE_CODE'].value_counts()"
   ]
  },
  {
   "cell_type": "code",
   "execution_count": 19,
   "metadata": {
    "scrolled": true
   },
   "outputs": [
    {
     "data": {
      "image/png": "[encoded data removed]",
      "text/plain": [
       "<Figure size 432x288 with 1 Axes>"
      ]
     },
     "metadata": {
      "needs_background": "light"
     },
     "output_type": "display_data"
    }
   ],
   "source": [
    "# 结账次数排序\n",
    "import numpy as np\n",
    "import matplotlib.pyplot as plt\n",
    "count = basket_data1.loc[:,'STORE_CODE'].value_counts()\n",
    "name = list(count.index)\n",
    "plt.bar(np.arange(len(name)), count)\n",
    "# 设置横坐标\n",
    "plt.xticks(np.arange(len(name)), name, rotation=60)   # rotation 旋转横坐标标签\n",
    "plt.show()"
   ]
  },
  {
   "cell_type": "markdown",
   "metadata": {},
   "source": [
    "我们发现A001、D002、D007、A008、A013、A006和A012等商店不论是在销售额还是在结账次数大小排序中，一直排在前列。说明其商品很受欢迎。"
   ]
  },
  {
   "cell_type": "markdown",
   "metadata": {},
   "source": [
    "## 3.3 统计超市每个商店具有的pos机"
   ]
  },
  {
   "cell_type": "code",
   "execution_count": 20,
   "metadata": {},
   "outputs": [
    {
     "data": {
      "text/plain": [
       "STORE_CODE\n",
       "A001               [6, 3, 2, 9, 10, 1, 5, 4]\n",
       "A004                               [2, 4, 1]\n",
       "A006                               [2, 4, 1]\n",
       "A007                               [2, 1, 8]\n",
       "A008                      [3, 1, 8, 2, 6, 4]\n",
       "A009                               [1, 2, 8]\n",
       "A010                               [8, 2, 3]\n",
       "A012                            [2, 8, 3, 1]\n",
       "A013                         [2, 6, 1, 8, 4]\n",
       "A016                               [1, 2, 3]\n",
       "A017                                  [1, 8]\n",
       "A018                               [1, 2, 4]\n",
       "A019                               [1, 2, 3]\n",
       "A021                            [2, 3, 4, 1]\n",
       "A022                                  [2, 1]\n",
       "D002    [4, 1, 5, 8, 19, 6, 7, 2, 13, 20, 9]\n",
       "D003                                  [2, 1]\n",
       "D004                               [1, 2, 4]\n",
       "D005                               [2, 3, 4]\n",
       "D006                               [3, 2, 1]\n",
       "D007                            [3, 1, 8, 4]\n",
       "D008                               [1, 4, 2]\n",
       "D009                               [3, 2, 1]\n",
       "D010                                  [3, 1]\n",
       "Name: POS_NO, dtype: object"
      ]
     },
     "execution_count": 20,
     "metadata": {},
     "output_type": "execute_result"
    }
   ],
   "source": [
    "# 统计每个商店具有的pos机\n",
    "S_pos =basket_data1.groupby(by=\"STORE_CODE\")\n",
    "Shop_pos = S_pos[\"POS_NO\"]\n",
    "Shop_pos.unique()"
   ]
  },
  {
   "cell_type": "markdown",
   "metadata": {},
   "source": [
    "我们发现A001、D002拥有最多的pos机，这也从侧面印证了其客流量较大，受欢迎程度高，需要较多的pos机缓解结账压力。"
   ]
  },
  {
   "cell_type": "markdown",
   "metadata": {},
   "source": [
    "# 4 销售额分析"
   ]
  },
  {
   "cell_type": "markdown",
   "metadata": {},
   "source": [
    "## 4.1 日销售额分析"
   ]
  },
  {
   "cell_type": "code",
   "execution_count": 21,
   "metadata": {
    "scrolled": false
   },
   "outputs": [
    {
     "name": "stderr",
     "output_type": "stream",
     "text": [
      "<ipython-input-21-988a16e9c607>:1: SettingWithCopyWarning: \n",
      "A value is trying to be set on a copy of a slice from a DataFrame.\n",
      "Try using .loc[row_indexer,col_indexer] = value instead\n",
      "\n",
      "See the caveats in the documentation: https://pandas.pydata.org/pandas-docs/stable/user_guide/indexing.html#returning-a-view-versus-a-copy\n",
      "  basket_data1[\"SHOP_DATETIME\"] = pd.to_datetime(basket_data1[\"SHOP_DATETIME\"])\n",
      "<ipython-input-21-988a16e9c607>:2: SettingWithCopyWarning: \n",
      "A value is trying to be set on a copy of a slice from a DataFrame.\n",
      "Try using .loc[row_indexer,col_indexer] = value instead\n",
      "\n",
      "See the caveats in the documentation: https://pandas.pydata.org/pandas-docs/stable/user_guide/indexing.html#returning-a-view-versus-a-copy\n",
      "  basket_data1['year'] = basket_data1[\"SHOP_DATETIME\"].dt.year\n",
      "<ipython-input-21-988a16e9c607>:3: SettingWithCopyWarning: \n",
      "A value is trying to be set on a copy of a slice from a DataFrame.\n",
      "Try using .loc[row_indexer,col_indexer] = value instead\n",
      "\n",
      "See the caveats in the documentation: https://pandas.pydata.org/pandas-docs/stable/user_guide/indexing.html#returning-a-view-versus-a-copy\n",
      "  basket_data1['month'] = basket_data1['SHOP_DATETIME'].values.astype('datetime64[M]')#方便后续的分析，新增加年份列和月份列\n"
     ]
    }
   ],
   "source": [
    "basket_data1[\"SHOP_DATETIME\"] = pd.to_datetime(basket_data1[\"SHOP_DATETIME\"])\n",
    "basket_data1['year'] = basket_data1[\"SHOP_DATETIME\"].dt.year\n",
    "basket_data1['month'] = basket_data1['SHOP_DATETIME'].values.astype('datetime64[M]')#方便后续的分析，新增加年份列和月份列"
   ]
  },
  {
   "cell_type": "code",
   "execution_count": 22,
   "metadata": {
    "scrolled": true
   },
   "outputs": [
    {
     "data": {
      "text/html": [
       "<div>\n",
       "<style scoped>\n",
       "    .dataframe tbody tr th:only-of-type {\n",
       "        vertical-align: middle;\n",
       "    }\n",
       "\n",
       "    .dataframe tbody tr th {\n",
       "        vertical-align: top;\n",
       "    }\n",
       "\n",
       "    .dataframe thead th {\n",
       "        text-align: right;\n",
       "    }\n",
       "</style>\n",
       "<table border=\"1\" class=\"dataframe\">\n",
       "  <thead>\n",
       "    <tr style=\"text-align: right;\">\n",
       "      <th></th>\n",
       "      <th>SHOP_DATETIME</th>\n",
       "      <th>STORE_CODE</th>\n",
       "      <th>POS_NO</th>\n",
       "      <th>BASK_CODE</th>\n",
       "      <th>BASK_SPEND</th>\n",
       "      <th>year</th>\n",
       "      <th>month</th>\n",
       "    </tr>\n",
       "  </thead>\n",
       "  <tbody>\n",
       "    <tr>\n",
       "      <th>161043</th>\n",
       "      <td>2018-06-13</td>\n",
       "      <td>D007</td>\n",
       "      <td>3</td>\n",
       "      <td>261035</td>\n",
       "      <td>9.00</td>\n",
       "      <td>2018</td>\n",
       "      <td>2018-06-01</td>\n",
       "    </tr>\n",
       "    <tr>\n",
       "      <th>503488</th>\n",
       "      <td>2018-06-02</td>\n",
       "      <td>D002</td>\n",
       "      <td>2</td>\n",
       "      <td>15099</td>\n",
       "      <td>39.33</td>\n",
       "      <td>2018</td>\n",
       "      <td>2018-06-01</td>\n",
       "    </tr>\n",
       "    <tr>\n",
       "      <th>198665</th>\n",
       "      <td>2018-07-02</td>\n",
       "      <td>D005</td>\n",
       "      <td>2</td>\n",
       "      <td>221881</td>\n",
       "      <td>12.50</td>\n",
       "      <td>2018</td>\n",
       "      <td>2018-07-01</td>\n",
       "    </tr>\n",
       "    <tr>\n",
       "      <th>325691</th>\n",
       "      <td>2018-06-16</td>\n",
       "      <td>A001</td>\n",
       "      <td>9</td>\n",
       "      <td>278444</td>\n",
       "      <td>74.60</td>\n",
       "      <td>2018</td>\n",
       "      <td>2018-06-01</td>\n",
       "    </tr>\n",
       "    <tr>\n",
       "      <th>544545</th>\n",
       "      <td>2018-06-23</td>\n",
       "      <td>D002</td>\n",
       "      <td>4</td>\n",
       "      <td>152262</td>\n",
       "      <td>33.44</td>\n",
       "      <td>2018</td>\n",
       "      <td>2018-06-01</td>\n",
       "    </tr>\n",
       "  </tbody>\n",
       "</table>\n",
       "</div>"
      ],
      "text/plain": [
       "       SHOP_DATETIME STORE_CODE  POS_NO  BASK_CODE  BASK_SPEND  year  \\\n",
       "161043    2018-06-13       D007       3     261035        9.00  2018   \n",
       "503488    2018-06-02       D002       2      15099       39.33  2018   \n",
       "198665    2018-07-02       D005       2     221881       12.50  2018   \n",
       "325691    2018-06-16       A001       9     278444       74.60  2018   \n",
       "544545    2018-06-23       D002       4     152262       33.44  2018   \n",
       "\n",
       "            month  \n",
       "161043 2018-06-01  \n",
       "503488 2018-06-01  \n",
       "198665 2018-07-01  \n",
       "325691 2018-06-01  \n",
       "544545 2018-06-01  "
      ]
     },
     "execution_count": 22,
     "metadata": {},
     "output_type": "execute_result"
    }
   ],
   "source": [
    "basket_data1.sample(5)"
   ]
  },
  {
   "cell_type": "code",
   "execution_count": 23,
   "metadata": {},
   "outputs": [
    {
     "data": {
      "text/html": [
       "<style  type=\"text/css\" >\n",
       "#T_671964eb_17e9_11eb_be04_0433c2667b9frow0_col0{\n",
       "            background-color:  #c6cce3;\n",
       "            color:  #000000;\n",
       "        }#T_671964eb_17e9_11eb_be04_0433c2667b9frow1_col0,#T_671964eb_17e9_11eb_be04_0433c2667b9frow12_col0{\n",
       "            background-color:  #c4cbe3;\n",
       "            color:  #000000;\n",
       "        }#T_671964eb_17e9_11eb_be04_0433c2667b9frow2_col0{\n",
       "            background-color:  #d1d2e6;\n",
       "            color:  #000000;\n",
       "        }#T_671964eb_17e9_11eb_be04_0433c2667b9frow3_col0,#T_671964eb_17e9_11eb_be04_0433c2667b9frow33_col0{\n",
       "            background-color:  #eae6f1;\n",
       "            color:  #000000;\n",
       "        }#T_671964eb_17e9_11eb_be04_0433c2667b9frow4_col0{\n",
       "            background-color:  #d5d5e8;\n",
       "            color:  #000000;\n",
       "        }#T_671964eb_17e9_11eb_be04_0433c2667b9frow5_col0,#T_671964eb_17e9_11eb_be04_0433c2667b9frow20_col0{\n",
       "            background-color:  #f3edf5;\n",
       "            color:  #000000;\n",
       "        }#T_671964eb_17e9_11eb_be04_0433c2667b9frow6_col0{\n",
       "            background-color:  #fcf4fa;\n",
       "            color:  #000000;\n",
       "        }#T_671964eb_17e9_11eb_be04_0433c2667b9frow7_col0{\n",
       "            background-color:  #e9e5f1;\n",
       "            color:  #000000;\n",
       "        }#T_671964eb_17e9_11eb_be04_0433c2667b9frow8_col0{\n",
       "            background-color:  #d2d2e7;\n",
       "            color:  #000000;\n",
       "        }#T_671964eb_17e9_11eb_be04_0433c2667b9frow9_col0{\n",
       "            background-color:  #cacee5;\n",
       "            color:  #000000;\n",
       "        }#T_671964eb_17e9_11eb_be04_0433c2667b9frow10_col0,#T_671964eb_17e9_11eb_be04_0433c2667b9frow19_col0{\n",
       "            background-color:  #eee9f3;\n",
       "            color:  #000000;\n",
       "        }#T_671964eb_17e9_11eb_be04_0433c2667b9frow11_col0{\n",
       "            background-color:  #e7e3f0;\n",
       "            color:  #000000;\n",
       "        }#T_671964eb_17e9_11eb_be04_0433c2667b9frow13_col0,#T_671964eb_17e9_11eb_be04_0433c2667b9frow31_col0{\n",
       "            background-color:  #dfddec;\n",
       "            color:  #000000;\n",
       "        }#T_671964eb_17e9_11eb_be04_0433c2667b9frow14_col0{\n",
       "            background-color:  #b4c4df;\n",
       "            color:  #000000;\n",
       "        }#T_671964eb_17e9_11eb_be04_0433c2667b9frow15_col0{\n",
       "            background-color:  #1b7eb7;\n",
       "            color:  #000000;\n",
       "        }#T_671964eb_17e9_11eb_be04_0433c2667b9frow16_col0{\n",
       "            background-color:  #023858;\n",
       "            color:  #f1f1f1;\n",
       "        }#T_671964eb_17e9_11eb_be04_0433c2667b9frow17_col0{\n",
       "            background-color:  #056ba9;\n",
       "            color:  #f1f1f1;\n",
       "        }#T_671964eb_17e9_11eb_be04_0433c2667b9frow18_col0,#T_671964eb_17e9_11eb_be04_0433c2667b9frow21_col0{\n",
       "            background-color:  #fff7fb;\n",
       "            color:  #000000;\n",
       "        }#T_671964eb_17e9_11eb_be04_0433c2667b9frow22_col0{\n",
       "            background-color:  #e6e2ef;\n",
       "            color:  #000000;\n",
       "        }#T_671964eb_17e9_11eb_be04_0433c2667b9frow23_col0,#T_671964eb_17e9_11eb_be04_0433c2667b9frow26_col0{\n",
       "            background-color:  #efe9f3;\n",
       "            color:  #000000;\n",
       "        }#T_671964eb_17e9_11eb_be04_0433c2667b9frow24_col0{\n",
       "            background-color:  #f9f2f8;\n",
       "            color:  #000000;\n",
       "        }#T_671964eb_17e9_11eb_be04_0433c2667b9frow25_col0{\n",
       "            background-color:  #faf2f8;\n",
       "            color:  #000000;\n",
       "        }#T_671964eb_17e9_11eb_be04_0433c2667b9frow27_col0{\n",
       "            background-color:  #fbf4f9;\n",
       "            color:  #000000;\n",
       "        }#T_671964eb_17e9_11eb_be04_0433c2667b9frow28_col0{\n",
       "            background-color:  #e8e4f0;\n",
       "            color:  #000000;\n",
       "        }#T_671964eb_17e9_11eb_be04_0433c2667b9frow29_col0{\n",
       "            background-color:  #c5cce3;\n",
       "            color:  #000000;\n",
       "        }#T_671964eb_17e9_11eb_be04_0433c2667b9frow30_col0{\n",
       "            background-color:  #d6d6e9;\n",
       "            color:  #000000;\n",
       "        }#T_671964eb_17e9_11eb_be04_0433c2667b9frow32_col0{\n",
       "            background-color:  #dbdaeb;\n",
       "            color:  #000000;\n",
       "        }#T_671964eb_17e9_11eb_be04_0433c2667b9frow34_col0{\n",
       "            background-color:  #f4edf6;\n",
       "            color:  #000000;\n",
       "        }</style><table id=\"T_671964eb_17e9_11eb_be04_0433c2667b9f\" ><thead>    <tr>        <th class=\"blank\" ></th>        <th class=\"blank level0\" ></th>        <th class=\"col_heading level0 col0\" >BASK_SPEND</th>    </tr>    <tr>        <th class=\"index_name level0\" >month</th>        <th class=\"index_name level1\" >SHOP_DATETIME</th>        <th class=\"blank\" ></th>    </tr></thead><tbody>\n",
       "                <tr>\n",
       "                        <th id=\"T_671964eb_17e9_11eb_be04_0433c2667b9flevel0_row0\" class=\"row_heading level0 row0\" rowspan=30>2018-06-01 00:00:00</th>\n",
       "                        <th id=\"T_671964eb_17e9_11eb_be04_0433c2667b9flevel1_row0\" class=\"row_heading level1 row0\" >2018-06-01 00:00:00</th>\n",
       "                        <td id=\"T_671964eb_17e9_11eb_be04_0433c2667b9frow0_col0\" class=\"data row0 col0\" >719667.990000</td>\n",
       "            </tr>\n",
       "            <tr>\n",
       "                                <th id=\"T_671964eb_17e9_11eb_be04_0433c2667b9flevel1_row1\" class=\"row_heading level1 row1\" >2018-06-02 00:00:00</th>\n",
       "                        <td id=\"T_671964eb_17e9_11eb_be04_0433c2667b9frow1_col0\" class=\"data row1 col0\" >730030.080000</td>\n",
       "            </tr>\n",
       "            <tr>\n",
       "                                <th id=\"T_671964eb_17e9_11eb_be04_0433c2667b9flevel1_row2\" class=\"row_heading level1 row2\" >2018-06-03 00:00:00</th>\n",
       "                        <td id=\"T_671964eb_17e9_11eb_be04_0433c2667b9frow2_col0\" class=\"data row2 col0\" >685279.360000</td>\n",
       "            </tr>\n",
       "            <tr>\n",
       "                                <th id=\"T_671964eb_17e9_11eb_be04_0433c2667b9flevel1_row3\" class=\"row_heading level1 row3\" >2018-06-04 00:00:00</th>\n",
       "                        <td id=\"T_671964eb_17e9_11eb_be04_0433c2667b9frow3_col0\" class=\"data row3 col0\" >560063.100000</td>\n",
       "            </tr>\n",
       "            <tr>\n",
       "                                <th id=\"T_671964eb_17e9_11eb_be04_0433c2667b9flevel1_row4\" class=\"row_heading level1 row4\" >2018-06-05 00:00:00</th>\n",
       "                        <td id=\"T_671964eb_17e9_11eb_be04_0433c2667b9frow4_col0\" class=\"data row4 col0\" >665581.440000</td>\n",
       "            </tr>\n",
       "            <tr>\n",
       "                                <th id=\"T_671964eb_17e9_11eb_be04_0433c2667b9flevel1_row5\" class=\"row_heading level1 row5\" >2018-06-06 00:00:00</th>\n",
       "                        <td id=\"T_671964eb_17e9_11eb_be04_0433c2667b9frow5_col0\" class=\"data row5 col0\" >501199.090000</td>\n",
       "            </tr>\n",
       "            <tr>\n",
       "                                <th id=\"T_671964eb_17e9_11eb_be04_0433c2667b9flevel1_row6\" class=\"row_heading level1 row6\" >2018-06-07 00:00:00</th>\n",
       "                        <td id=\"T_671964eb_17e9_11eb_be04_0433c2667b9frow6_col0\" class=\"data row6 col0\" >437448.310000</td>\n",
       "            </tr>\n",
       "            <tr>\n",
       "                                <th id=\"T_671964eb_17e9_11eb_be04_0433c2667b9flevel1_row7\" class=\"row_heading level1 row7\" >2018-06-08 00:00:00</th>\n",
       "                        <td id=\"T_671964eb_17e9_11eb_be04_0433c2667b9frow7_col0\" class=\"data row7 col0\" >565651.690000</td>\n",
       "            </tr>\n",
       "            <tr>\n",
       "                                <th id=\"T_671964eb_17e9_11eb_be04_0433c2667b9flevel1_row8\" class=\"row_heading level1 row8\" >2018-06-09 00:00:00</th>\n",
       "                        <td id=\"T_671964eb_17e9_11eb_be04_0433c2667b9frow8_col0\" class=\"data row8 col0\" >681885.490000</td>\n",
       "            </tr>\n",
       "            <tr>\n",
       "                                <th id=\"T_671964eb_17e9_11eb_be04_0433c2667b9flevel1_row9\" class=\"row_heading level1 row9\" >2018-06-10 00:00:00</th>\n",
       "                        <td id=\"T_671964eb_17e9_11eb_be04_0433c2667b9frow9_col0\" class=\"data row9 col0\" >705195.220000</td>\n",
       "            </tr>\n",
       "            <tr>\n",
       "                                <th id=\"T_671964eb_17e9_11eb_be04_0433c2667b9flevel1_row10\" class=\"row_heading level1 row10\" >2018-06-11 00:00:00</th>\n",
       "                        <td id=\"T_671964eb_17e9_11eb_be04_0433c2667b9frow10_col0\" class=\"data row10 col0\" >534259.960000</td>\n",
       "            </tr>\n",
       "            <tr>\n",
       "                                <th id=\"T_671964eb_17e9_11eb_be04_0433c2667b9flevel1_row11\" class=\"row_heading level1 row11\" >2018-06-12 00:00:00</th>\n",
       "                        <td id=\"T_671964eb_17e9_11eb_be04_0433c2667b9frow11_col0\" class=\"data row11 col0\" >572481.760000</td>\n",
       "            </tr>\n",
       "            <tr>\n",
       "                                <th id=\"T_671964eb_17e9_11eb_be04_0433c2667b9flevel1_row12\" class=\"row_heading level1 row12\" >2018-06-13 00:00:00</th>\n",
       "                        <td id=\"T_671964eb_17e9_11eb_be04_0433c2667b9frow12_col0\" class=\"data row12 col0\" >727913.430000</td>\n",
       "            </tr>\n",
       "            <tr>\n",
       "                                <th id=\"T_671964eb_17e9_11eb_be04_0433c2667b9flevel1_row13\" class=\"row_heading level1 row13\" >2018-06-14 00:00:00</th>\n",
       "                        <td id=\"T_671964eb_17e9_11eb_be04_0433c2667b9frow13_col0\" class=\"data row13 col0\" >618915.510000</td>\n",
       "            </tr>\n",
       "            <tr>\n",
       "                                <th id=\"T_671964eb_17e9_11eb_be04_0433c2667b9flevel1_row14\" class=\"row_heading level1 row14\" >2018-06-15 00:00:00</th>\n",
       "                        <td id=\"T_671964eb_17e9_11eb_be04_0433c2667b9frow14_col0\" class=\"data row14 col0\" >778783.560000</td>\n",
       "            </tr>\n",
       "            <tr>\n",
       "                                <th id=\"T_671964eb_17e9_11eb_be04_0433c2667b9flevel1_row15\" class=\"row_heading level1 row15\" >2018-06-16 00:00:00</th>\n",
       "                        <td id=\"T_671964eb_17e9_11eb_be04_0433c2667b9frow15_col0\" class=\"data row15 col0\" >1174917.210000</td>\n",
       "            </tr>\n",
       "            <tr>\n",
       "                                <th id=\"T_671964eb_17e9_11eb_be04_0433c2667b9flevel1_row16\" class=\"row_heading level1 row16\" >2018-06-17 00:00:00</th>\n",
       "                        <td id=\"T_671964eb_17e9_11eb_be04_0433c2667b9frow16_col0\" class=\"data row16 col0\" >1510911.650000</td>\n",
       "            </tr>\n",
       "            <tr>\n",
       "                                <th id=\"T_671964eb_17e9_11eb_be04_0433c2667b9flevel1_row17\" class=\"row_heading level1 row17\" >2018-06-18 00:00:00</th>\n",
       "                        <td id=\"T_671964eb_17e9_11eb_be04_0433c2667b9frow17_col0\" class=\"data row17 col0\" >1262614.630000</td>\n",
       "            </tr>\n",
       "            <tr>\n",
       "                                <th id=\"T_671964eb_17e9_11eb_be04_0433c2667b9flevel1_row18\" class=\"row_heading level1 row18\" >2018-06-19 00:00:00</th>\n",
       "                        <td id=\"T_671964eb_17e9_11eb_be04_0433c2667b9frow18_col0\" class=\"data row18 col0\" >414874.540000</td>\n",
       "            </tr>\n",
       "            <tr>\n",
       "                                <th id=\"T_671964eb_17e9_11eb_be04_0433c2667b9flevel1_row19\" class=\"row_heading level1 row19\" >2018-06-20 00:00:00</th>\n",
       "                        <td id=\"T_671964eb_17e9_11eb_be04_0433c2667b9frow19_col0\" class=\"data row19 col0\" >534955.100000</td>\n",
       "            </tr>\n",
       "            <tr>\n",
       "                                <th id=\"T_671964eb_17e9_11eb_be04_0433c2667b9flevel1_row20\" class=\"row_heading level1 row20\" >2018-06-21 00:00:00</th>\n",
       "                        <td id=\"T_671964eb_17e9_11eb_be04_0433c2667b9frow20_col0\" class=\"data row20 col0\" >500594.660000</td>\n",
       "            </tr>\n",
       "            <tr>\n",
       "                                <th id=\"T_671964eb_17e9_11eb_be04_0433c2667b9flevel1_row21\" class=\"row_heading level1 row21\" >2018-06-22 00:00:00</th>\n",
       "                        <td id=\"T_671964eb_17e9_11eb_be04_0433c2667b9frow21_col0\" class=\"data row21 col0\" >413119.480000</td>\n",
       "            </tr>\n",
       "            <tr>\n",
       "                                <th id=\"T_671964eb_17e9_11eb_be04_0433c2667b9flevel1_row22\" class=\"row_heading level1 row22\" >2018-06-23 00:00:00</th>\n",
       "                        <td id=\"T_671964eb_17e9_11eb_be04_0433c2667b9frow22_col0\" class=\"data row22 col0\" >584638.180000</td>\n",
       "            </tr>\n",
       "            <tr>\n",
       "                                <th id=\"T_671964eb_17e9_11eb_be04_0433c2667b9flevel1_row23\" class=\"row_heading level1 row23\" >2018-06-24 00:00:00</th>\n",
       "                        <td id=\"T_671964eb_17e9_11eb_be04_0433c2667b9frow23_col0\" class=\"data row23 col0\" >530338.270000</td>\n",
       "            </tr>\n",
       "            <tr>\n",
       "                                <th id=\"T_671964eb_17e9_11eb_be04_0433c2667b9flevel1_row24\" class=\"row_heading level1 row24\" >2018-06-25 00:00:00</th>\n",
       "                        <td id=\"T_671964eb_17e9_11eb_be04_0433c2667b9frow24_col0\" class=\"data row24 col0\" >457661.500000</td>\n",
       "            </tr>\n",
       "            <tr>\n",
       "                                <th id=\"T_671964eb_17e9_11eb_be04_0433c2667b9flevel1_row25\" class=\"row_heading level1 row25\" >2018-06-26 00:00:00</th>\n",
       "                        <td id=\"T_671964eb_17e9_11eb_be04_0433c2667b9frow25_col0\" class=\"data row25 col0\" >454940.730000</td>\n",
       "            </tr>\n",
       "            <tr>\n",
       "                                <th id=\"T_671964eb_17e9_11eb_be04_0433c2667b9flevel1_row26\" class=\"row_heading level1 row26\" >2018-06-27 00:00:00</th>\n",
       "                        <td id=\"T_671964eb_17e9_11eb_be04_0433c2667b9frow26_col0\" class=\"data row26 col0\" >530495.240000</td>\n",
       "            </tr>\n",
       "            <tr>\n",
       "                                <th id=\"T_671964eb_17e9_11eb_be04_0433c2667b9flevel1_row27\" class=\"row_heading level1 row27\" >2018-06-28 00:00:00</th>\n",
       "                        <td id=\"T_671964eb_17e9_11eb_be04_0433c2667b9frow27_col0\" class=\"data row27 col0\" >440942.210000</td>\n",
       "            </tr>\n",
       "            <tr>\n",
       "                                <th id=\"T_671964eb_17e9_11eb_be04_0433c2667b9flevel1_row28\" class=\"row_heading level1 row28\" >2018-06-29 00:00:00</th>\n",
       "                        <td id=\"T_671964eb_17e9_11eb_be04_0433c2667b9frow28_col0\" class=\"data row28 col0\" >570843.030000</td>\n",
       "            </tr>\n",
       "            <tr>\n",
       "                                <th id=\"T_671964eb_17e9_11eb_be04_0433c2667b9flevel1_row29\" class=\"row_heading level1 row29\" >2018-06-30 00:00:00</th>\n",
       "                        <td id=\"T_671964eb_17e9_11eb_be04_0433c2667b9frow29_col0\" class=\"data row29 col0\" >721941.000000</td>\n",
       "            </tr>\n",
       "            <tr>\n",
       "                        <th id=\"T_671964eb_17e9_11eb_be04_0433c2667b9flevel0_row30\" class=\"row_heading level0 row30\" rowspan=5>2018-07-01 00:00:00</th>\n",
       "                        <th id=\"T_671964eb_17e9_11eb_be04_0433c2667b9flevel1_row30\" class=\"row_heading level1 row30\" >2018-07-01 00:00:00</th>\n",
       "                        <td id=\"T_671964eb_17e9_11eb_be04_0433c2667b9frow30_col0\" class=\"data row30 col0\" >659030.130000</td>\n",
       "            </tr>\n",
       "            <tr>\n",
       "                                <th id=\"T_671964eb_17e9_11eb_be04_0433c2667b9flevel1_row31\" class=\"row_heading level1 row31\" >2018-07-02 00:00:00</th>\n",
       "                        <td id=\"T_671964eb_17e9_11eb_be04_0433c2667b9frow31_col0\" class=\"data row31 col0\" >616250.510000</td>\n",
       "            </tr>\n",
       "            <tr>\n",
       "                                <th id=\"T_671964eb_17e9_11eb_be04_0433c2667b9flevel1_row32\" class=\"row_heading level1 row32\" >2018-07-03 00:00:00</th>\n",
       "                        <td id=\"T_671964eb_17e9_11eb_be04_0433c2667b9frow32_col0\" class=\"data row32 col0\" >632443.830000</td>\n",
       "            </tr>\n",
       "            <tr>\n",
       "                                <th id=\"T_671964eb_17e9_11eb_be04_0433c2667b9flevel1_row33\" class=\"row_heading level1 row33\" >2018-07-04 00:00:00</th>\n",
       "                        <td id=\"T_671964eb_17e9_11eb_be04_0433c2667b9frow33_col0\" class=\"data row33 col0\" >561606.460000</td>\n",
       "            </tr>\n",
       "            <tr>\n",
       "                                <th id=\"T_671964eb_17e9_11eb_be04_0433c2667b9flevel1_row34\" class=\"row_heading level1 row34\" >2018-07-05 00:00:00</th>\n",
       "                        <td id=\"T_671964eb_17e9_11eb_be04_0433c2667b9frow34_col0\" class=\"data row34 col0\" >496912.420000</td>\n",
       "            </tr>\n",
       "    </tbody></table>"
      ],
      "text/plain": [
       "<pandas.io.formats.style.Styler at 0x18b0a04ad30>"
      ]
     },
     "execution_count": 23,
     "metadata": {},
     "output_type": "execute_result"
    }
   ],
   "source": [
    "sales_data = basket_data1[['SHOP_DATETIME','BASK_SPEND','month']]\n",
    "sales_year = sales_data.groupby(['month','SHOP_DATETIME']).sum()\n",
    "sales_year.style.background_gradient()# 颜色越深，销售额越高"
   ]
  },
  {
   "cell_type": "code",
   "execution_count": 24,
   "metadata": {},
   "outputs": [],
   "source": [
    "#按照年份、月份对销售子数据集进行分组求和\n",
    "sales_month = basket_data1[['SHOP_DATETIME','BASK_SPEND','month']]\n",
    "sales_month = sales_month.groupby(['month','SHOP_DATETIME']).sum()"
   ]
  },
  {
   "cell_type": "code",
   "execution_count": 25,
   "metadata": {},
   "outputs": [],
   "source": [
    "sales_month = sales_month.groupby(['SHOP_DATETIME']).sum()"
   ]
  },
  {
   "cell_type": "code",
   "execution_count": 26,
   "metadata": {},
   "outputs": [
    {
     "data": {
      "text/plain": [
       "<AxesSubplot:title={'center':'每日销售额'}, xlabel='SHOP_DATETIME'>"
      ]
     },
     "execution_count": 26,
     "metadata": {},
     "output_type": "execute_result"
    },
    {
     "data": {
      "image/png": "[encoded data removed]",
      "text/plain": [
       "<Figure size 1152x576 with 1 Axes>"
      ]
     },
     "metadata": {
      "needs_background": "light"
     },
     "output_type": "display_data"
    }
   ],
   "source": [
    "import matplotlib\n",
    "import matplotlib.pyplot as plt\n",
    "plt.rcParams['font.sans-serif']=['SimHei']\n",
    "plt.rcParams['axes.unicode_minus'] = False\n",
    "sales_month.plot(kind='bar',color=\"pink\",title='每日销售额',figsize=(16,8))"
   ]
  },
  {
   "cell_type": "markdown",
   "metadata": {},
   "source": [
    "由上图表可以看出，在2018年6月16日、17日和18日的销售额最高，其中6月17日销售额最高。通过查阅发现，2018年6月17日是父亲节，同时6月16、17和18日为端午节三天法定节假日。因此，有理由判定这三天销售额的增长与端午节以及父亲节有一定的关系。"
   ]
  },
  {
   "cell_type": "markdown",
   "metadata": {},
   "source": [
    "## 4.2 顾客消费额分析"
   ]
  },
  {
   "cell_type": "code",
   "execution_count": 27,
   "metadata": {
    "scrolled": false
   },
   "outputs": [
    {
     "data": {
      "image/png": "[encoded data removed]",
      "text/plain": [
       "<Figure size 432x288 with 1 Axes>"
      ]
     },
     "metadata": {
      "needs_background": "light"
     },
     "output_type": "display_data"
    }
   ],
   "source": [
    "#查看异常值\n",
    "datatemp2=basket_data1[\"BASK_SPEND\"]\n",
    "datatemp2.plot(kind='box',title='BASK_SPEND Distribution',sym='r+');"
   ]
  },
  {
   "cell_type": "code",
   "execution_count": 28,
   "metadata": {
    "scrolled": false
   },
   "outputs": [
    {
     "name": "stdout",
     "output_type": "stream",
     "text": [
      "SHOP_DATETIME    63298\n",
      "STORE_CODE       63298\n",
      "POS_NO           63298\n",
      "BASK_CODE        63298\n",
      "BASK_SPEND       63298\n",
      "year             63298\n",
      "month            63298\n",
      "dtype: int64\n"
     ]
    }
   ],
   "source": [
    "print(basket_data1[basket_data1['BASK_SPEND'] > 80].count())"
   ]
  },
  {
   "cell_type": "code",
   "execution_count": 29,
   "metadata": {},
   "outputs": [],
   "source": [
    "# 直接剔除异常值\n",
    "basket_data2 = basket_data1[basket_data1['BASK_SPEND'] < 80]"
   ]
  },
  {
   "cell_type": "code",
   "execution_count": 30,
   "metadata": {
    "scrolled": true
   },
   "outputs": [
    {
     "data": {
      "image/png": "[encoded data removed]",
      "text/plain": [
       "<Figure size 432x288 with 1 Axes>"
      ]
     },
     "metadata": {
      "needs_background": "light"
     },
     "output_type": "display_data"
    }
   ],
   "source": [
    "import matplotlib.pyplot as plt\n",
    "plt.hist(x = basket_data2.BASK_SPEND, # 指定绘图数据\n",
    "          bins = 30, # 指定直方图中条块的个数\n",
    "         color = 'steelblue', # 指定直方图的填充色\n",
    "         edgecolor = 'black' # 指定直方图的边框色          \n",
    "        )\n",
    "# 添加x轴和y轴标签\n",
    "plt.xlabel('BASK_SPEND')\n",
    "plt.ylabel('Number')\n",
    "\n",
    "plt.title('BASK_SPEND distribution')\n",
    " # 显示图形\n",
    "plt.show()"
   ]
  },
  {
   "cell_type": "markdown",
   "metadata": {},
   "source": [
    "由图表可以看出，消费金额在0~80元内的顾客中，花费20元以内的顾客人数所占比重较大。"
   ]
  },
  {
   "cell_type": "markdown",
   "metadata": {},
   "source": [
    "# 5 用户情况分析"
   ]
  },
  {
   "cell_type": "markdown",
   "metadata": {},
   "source": [
    "## 5.1 商品分析"
   ]
  },
  {
   "cell_type": "code",
   "execution_count": 31,
   "metadata": {},
   "outputs": [
    {
     "name": "stderr",
     "output_type": "stream",
     "text": [
      "<ipython-input-31-c516e5e7c27a>:1: SettingWithCopyWarning: \n",
      "A value is trying to be set on a copy of a slice from a DataFrame.\n",
      "Try using .loc[row_indexer,col_indexer] = value instead\n",
      "\n",
      "See the caveats in the documentation: https://pandas.pydata.org/pandas-docs/stable/user_guide/indexing.html#returning-a-view-versus-a-copy\n",
      "  item_data2['year'] = item_data2['SDATE'].dt.year\n",
      "<ipython-input-31-c516e5e7c27a>:2: SettingWithCopyWarning: \n",
      "A value is trying to be set on a copy of a slice from a DataFrame.\n",
      "Try using .loc[row_indexer,col_indexer] = value instead\n",
      "\n",
      "See the caveats in the documentation: https://pandas.pydata.org/pandas-docs/stable/user_guide/indexing.html#returning-a-view-versus-a-copy\n",
      "  item_data2['month'] = item_data2['SDATE'].dt.month\n",
      "<ipython-input-31-c516e5e7c27a>:3: SettingWithCopyWarning: \n",
      "A value is trying to be set on a copy of a slice from a DataFrame.\n",
      "Try using .loc[row_indexer,col_indexer] = value instead\n",
      "\n",
      "See the caveats in the documentation: https://pandas.pydata.org/pandas-docs/stable/user_guide/indexing.html#returning-a-view-versus-a-copy\n",
      "  item_data2['day']= item_data2['SDATE'].values.astype('datetime64[D]')\n"
     ]
    }
   ],
   "source": [
    "item_data2['year'] = item_data2['SDATE'].dt.year          \n",
    "item_data2['month'] = item_data2['SDATE'].dt.month\n",
    "item_data2['day']= item_data2['SDATE'].values.astype('datetime64[D]')"
   ]
  },
  {
   "cell_type": "code",
   "execution_count": 32,
   "metadata": {},
   "outputs": [
    {
     "data": {
      "text/html": [
       "<div>\n",
       "<style scoped>\n",
       "    .dataframe tbody tr th:only-of-type {\n",
       "        vertical-align: middle;\n",
       "    }\n",
       "\n",
       "    .dataframe tbody tr th {\n",
       "        vertical-align: top;\n",
       "    }\n",
       "\n",
       "    .dataframe thead th {\n",
       "        text-align: right;\n",
       "    }\n",
       "</style>\n",
       "<table border=\"1\" class=\"dataframe\">\n",
       "  <thead>\n",
       "    <tr style=\"text-align: right;\">\n",
       "      <th></th>\n",
       "      <th>PROD_CODE</th>\n",
       "      <th>ITEM_QUANTITY</th>\n",
       "    </tr>\n",
       "  </thead>\n",
       "  <tbody>\n",
       "    <tr>\n",
       "      <th>8527</th>\n",
       "      <td>149413</td>\n",
       "      <td>37718.000</td>\n",
       "    </tr>\n",
       "    <tr>\n",
       "      <th>5316</th>\n",
       "      <td>86772</td>\n",
       "      <td>28661.000</td>\n",
       "    </tr>\n",
       "    <tr>\n",
       "      <th>17199</th>\n",
       "      <td>220834</td>\n",
       "      <td>24139.000</td>\n",
       "    </tr>\n",
       "    <tr>\n",
       "      <th>1478</th>\n",
       "      <td>7133</td>\n",
       "      <td>21673.000</td>\n",
       "    </tr>\n",
       "    <tr>\n",
       "      <th>3883</th>\n",
       "      <td>61623</td>\n",
       "      <td>21318.000</td>\n",
       "    </tr>\n",
       "    <tr>\n",
       "      <th>7131</th>\n",
       "      <td>124556</td>\n",
       "      <td>18775.000</td>\n",
       "    </tr>\n",
       "    <tr>\n",
       "      <th>12010</th>\n",
       "      <td>194690</td>\n",
       "      <td>18119.336</td>\n",
       "    </tr>\n",
       "    <tr>\n",
       "      <th>301</th>\n",
       "      <td>1152</td>\n",
       "      <td>17679.000</td>\n",
       "    </tr>\n",
       "    <tr>\n",
       "      <th>7129</th>\n",
       "      <td>124554</td>\n",
       "      <td>15717.000</td>\n",
       "    </tr>\n",
       "    <tr>\n",
       "      <th>1480</th>\n",
       "      <td>7137</td>\n",
       "      <td>15284.000</td>\n",
       "    </tr>\n",
       "  </tbody>\n",
       "</table>\n",
       "</div>"
      ],
      "text/plain": [
       "       PROD_CODE  ITEM_QUANTITY\n",
       "8527      149413      37718.000\n",
       "5316       86772      28661.000\n",
       "17199     220834      24139.000\n",
       "1478        7133      21673.000\n",
       "3883       61623      21318.000\n",
       "7131      124556      18775.000\n",
       "12010     194690      18119.336\n",
       "301         1152      17679.000\n",
       "7129      124554      15717.000\n",
       "1480        7137      15284.000"
      ]
     },
     "execution_count": 32,
     "metadata": {},
     "output_type": "execute_result"
    }
   ],
   "source": [
    "#通过商品号进行分组，对商品数量或者重量进行求和，从大到小进行排序\n",
    "a1=item_data2.groupby('PROD_CODE')['ITEM_QUANTITY'].sum().reset_index().sort_values(by = 'ITEM_QUANTITY',ascending = False)\n",
    "a1.head(10)"
   ]
  },
  {
   "cell_type": "code",
   "execution_count": 33,
   "metadata": {},
   "outputs": [],
   "source": [
    "#a.set_index('PROD_CODE',inplace=True)\n",
    "##plt.rcParams['font.sans-serif'] = ['SimHei']\n",
    "##plt.rcParams['axes.unicode_minus'] = False\n",
    "##plt.xlabel('消费总额')\n",
    "#a.plot(kind='bar')"
   ]
  },
  {
   "cell_type": "code",
   "execution_count": 34,
   "metadata": {},
   "outputs": [
    {
     "data": {
      "text/plain": [
       "PROD_CODE\n",
       "7137      384910.50\n",
       "136839    279862.50\n",
       "7133      272649.00\n",
       "149413    164153.68\n",
       "154900    140485.20\n",
       "1239      131018.20\n",
       "220834    119922.07\n",
       "21835     114376.04\n",
       "88160     103233.60\n",
       "75283      83522.70\n",
       "Name: ITEM_SPEND, dtype: float64"
      ]
     },
     "execution_count": 34,
     "metadata": {},
     "output_type": "execute_result"
    }
   ],
   "source": [
    "#通过商品号进行分组，对销售金额进行求和，从大到小进行排序\n",
    "b1=item_data2.groupby('PROD_CODE')['ITEM_SPEND'].sum().sort_values(ascending=False)\n",
    "b1.head(10)"
   ]
  },
  {
   "cell_type": "markdown",
   "metadata": {},
   "source": [
    "由表可见销售金额排名前十的商品号以及其销售金额总数"
   ]
  },
  {
   "cell_type": "code",
   "execution_count": 35,
   "metadata": {
    "scrolled": true
   },
   "outputs": [
    {
     "data": {
      "text/plain": [
       "205154    60\n",
       "37307     59\n",
       "147354    53\n",
       "211486    53\n",
       "36227     53\n",
       "          ..\n",
       "135689     1\n",
       "133642     1\n",
       "186896     1\n",
       "174622     1\n",
       "6147       1\n",
       "Name: BASK_CODE, Length: 280814, dtype: int64"
      ]
     },
     "execution_count": 35,
     "metadata": {},
     "output_type": "execute_result"
    }
   ],
   "source": [
    "#计算总销售费用/总用户数量\n",
    "sumspend=item_data2['ITEM_SPEND'].sum()\n",
    "number1=item_data2['BASK_CODE'].value_counts()\n",
    "number=int(len(number1))\n",
    "number1"
   ]
  },
  {
   "cell_type": "code",
   "execution_count": 36,
   "metadata": {},
   "outputs": [
    {
     "name": "stdout",
     "output_type": "stream",
     "text": [
      "74.78840303546123\n"
     ]
    }
   ],
   "source": [
    "avgspend = sumspend/number\n",
    "print(avgspend)"
   ]
  },
  {
   "cell_type": "markdown",
   "metadata": {},
   "source": [
    "可得购买205154人数最多，同时对于所有商品人均消费额74.7884元"
   ]
  },
  {
   "cell_type": "code",
   "execution_count": 37,
   "metadata": {},
   "outputs": [
    {
     "data": {
      "text/html": [
       "<div>\n",
       "<style scoped>\n",
       "    .dataframe tbody tr th:only-of-type {\n",
       "        vertical-align: middle;\n",
       "    }\n",
       "\n",
       "    .dataframe tbody tr th {\n",
       "        vertical-align: top;\n",
       "    }\n",
       "\n",
       "    .dataframe thead th {\n",
       "        text-align: right;\n",
       "    }\n",
       "</style>\n",
       "<table border=\"1\" class=\"dataframe\">\n",
       "  <thead>\n",
       "    <tr style=\"text-align: right;\">\n",
       "      <th></th>\n",
       "      <th>DISCOUNT_TYPE</th>\n",
       "      <th>ITEM_SPEND</th>\n",
       "    </tr>\n",
       "  </thead>\n",
       "  <tbody>\n",
       "    <tr>\n",
       "      <th>3</th>\n",
       "      <td>n</td>\n",
       "      <td>1.370020e+07</td>\n",
       "    </tr>\n",
       "    <tr>\n",
       "      <th>4</th>\n",
       "      <td>p</td>\n",
       "      <td>4.992203e+06</td>\n",
       "    </tr>\n",
       "    <tr>\n",
       "      <th>2</th>\n",
       "      <td>m</td>\n",
       "      <td>1.954608e+06</td>\n",
       "    </tr>\n",
       "    <tr>\n",
       "      <th>7</th>\n",
       "      <td>v</td>\n",
       "      <td>1.910762e+05</td>\n",
       "    </tr>\n",
       "    <tr>\n",
       "      <th>8</th>\n",
       "      <td>x</td>\n",
       "      <td>9.161940e+04</td>\n",
       "    </tr>\n",
       "    <tr>\n",
       "      <th>5</th>\n",
       "      <td>q</td>\n",
       "      <td>4.618240e+04</td>\n",
       "    </tr>\n",
       "    <tr>\n",
       "      <th>0</th>\n",
       "      <td>Z</td>\n",
       "      <td>2.479515e+04</td>\n",
       "    </tr>\n",
       "    <tr>\n",
       "      <th>6</th>\n",
       "      <td>s</td>\n",
       "      <td>9.228600e+02</td>\n",
       "    </tr>\n",
       "    <tr>\n",
       "      <th>1</th>\n",
       "      <td>h</td>\n",
       "      <td>2.150000e+01</td>\n",
       "    </tr>\n",
       "  </tbody>\n",
       "</table>\n",
       "</div>"
      ],
      "text/plain": [
       "  DISCOUNT_TYPE    ITEM_SPEND\n",
       "3             n  1.370020e+07\n",
       "4             p  4.992203e+06\n",
       "2             m  1.954608e+06\n",
       "7             v  1.910762e+05\n",
       "8             x  9.161940e+04\n",
       "5             q  4.618240e+04\n",
       "0             Z  2.479515e+04\n",
       "6             s  9.228600e+02\n",
       "1             h  2.150000e+01"
      ]
     },
     "execution_count": 37,
     "metadata": {},
     "output_type": "execute_result"
    }
   ],
   "source": [
    "#销售额按照折扣类型进行分组并进行大小排序\n",
    "c1=item_data2.groupby('DISCOUNT_TYPE')['ITEM_SPEND'].sum().reset_index().sort_values(by = 'ITEM_SPEND',ascending = False)\n",
    "c1"
   ]
  },
  {
   "cell_type": "markdown",
   "metadata": {},
   "source": [
    "可以看出折扣类型为n的商品总销售额最高。"
   ]
  },
  {
   "cell_type": "code",
   "execution_count": 38,
   "metadata": {
    "scrolled": true
   },
   "outputs": [
    {
     "data": {
      "text/html": [
       "<div>\n",
       "<style scoped>\n",
       "    .dataframe tbody tr th:only-of-type {\n",
       "        vertical-align: middle;\n",
       "    }\n",
       "\n",
       "    .dataframe tbody tr th {\n",
       "        vertical-align: top;\n",
       "    }\n",
       "\n",
       "    .dataframe thead th {\n",
       "        text-align: right;\n",
       "    }\n",
       "</style>\n",
       "<table border=\"1\" class=\"dataframe\">\n",
       "  <thead>\n",
       "    <tr style=\"text-align: right;\">\n",
       "      <th></th>\n",
       "      <th>DISCOUNT_TYPE</th>\n",
       "      <th>ITEM_QUANTITY</th>\n",
       "    </tr>\n",
       "  </thead>\n",
       "  <tbody>\n",
       "    <tr>\n",
       "      <th>3</th>\n",
       "      <td>n</td>\n",
       "      <td>1496483.291</td>\n",
       "    </tr>\n",
       "    <tr>\n",
       "      <th>4</th>\n",
       "      <td>p</td>\n",
       "      <td>462191.611</td>\n",
       "    </tr>\n",
       "    <tr>\n",
       "      <th>2</th>\n",
       "      <td>m</td>\n",
       "      <td>265343.962</td>\n",
       "    </tr>\n",
       "    <tr>\n",
       "      <th>7</th>\n",
       "      <td>v</td>\n",
       "      <td>13264.000</td>\n",
       "    </tr>\n",
       "    <tr>\n",
       "      <th>8</th>\n",
       "      <td>x</td>\n",
       "      <td>9687.000</td>\n",
       "    </tr>\n",
       "    <tr>\n",
       "      <th>0</th>\n",
       "      <td>Z</td>\n",
       "      <td>2164.472</td>\n",
       "    </tr>\n",
       "    <tr>\n",
       "      <th>5</th>\n",
       "      <td>q</td>\n",
       "      <td>1122.000</td>\n",
       "    </tr>\n",
       "    <tr>\n",
       "      <th>6</th>\n",
       "      <td>s</td>\n",
       "      <td>224.506</td>\n",
       "    </tr>\n",
       "    <tr>\n",
       "      <th>1</th>\n",
       "      <td>h</td>\n",
       "      <td>1.000</td>\n",
       "    </tr>\n",
       "  </tbody>\n",
       "</table>\n",
       "</div>"
      ],
      "text/plain": [
       "  DISCOUNT_TYPE  ITEM_QUANTITY\n",
       "3             n    1496483.291\n",
       "4             p     462191.611\n",
       "2             m     265343.962\n",
       "7             v      13264.000\n",
       "8             x       9687.000\n",
       "0             Z       2164.472\n",
       "5             q       1122.000\n",
       "6             s        224.506\n",
       "1             h          1.000"
      ]
     },
     "execution_count": 38,
     "metadata": {},
     "output_type": "execute_result"
    }
   ],
   "source": [
    "#销售数量按照折扣类型进行分组并进行大小排序\n",
    "d=item_data2.groupby('DISCOUNT_TYPE')['ITEM_QUANTITY'].sum().reset_index().sort_values(by = 'ITEM_QUANTITY',ascending = False)\n",
    "d"
   ]
  },
  {
   "cell_type": "markdown",
   "metadata": {},
   "source": [
    "可以看出折扣类型为n的商品总销售数量最高"
   ]
  },
  {
   "cell_type": "markdown",
   "metadata": {},
   "source": [
    "## 5.2 顾客分析"
   ]
  },
  {
   "cell_type": "code",
   "execution_count": 39,
   "metadata": {},
   "outputs": [],
   "source": [
    "#以每个BASK_CODE作为一个顾客\n",
    "customer = item_data2[['SDATE', 'BASK_CODE', 'ITEM_SPEND', 'month']].sort_values(['SDATE']).groupby('BASK_CODE')"
   ]
  },
  {
   "cell_type": "code",
   "execution_count": 40,
   "metadata": {
    "scrolled": true
   },
   "outputs": [
    {
     "data": {
      "text/plain": [
       "<AxesSubplot:>"
      ]
     },
     "execution_count": 40,
     "metadata": {},
     "output_type": "execute_result"
    },
    {
     "data": {
      "image/png": "[encoded data removed]",
      "text/plain": [
       "<Figure size 432x288 with 1 Axes>"
      ]
     },
     "metadata": {
      "needs_background": "light"
     },
     "output_type": "display_data"
    }
   ],
   "source": [
    "#顾客的第一次购买日期分布\n",
    "customer.min().SDATE.value_counts().plot()   "
   ]
  },
  {
   "cell_type": "markdown",
   "metadata": {},
   "source": [
    "上图表说明数据统计的前几天，第一次购买的顾客人数较多"
   ]
  },
  {
   "cell_type": "code",
   "execution_count": 41,
   "metadata": {
    "scrolled": true
   },
   "outputs": [
    {
     "data": {
      "text/plain": [
       "<AxesSubplot:>"
      ]
     },
     "execution_count": 41,
     "metadata": {},
     "output_type": "execute_result"
    },
    {
     "data": {
      "image/png": "[encoded data removed]",
      "text/plain": [
       "<Figure size 432x288 with 1 Axes>"
      ]
     },
     "metadata": {
      "needs_background": "light"
     },
     "output_type": "display_data"
    }
   ],
   "source": [
    "#客户最后一次购买日期分布,发现用户基本没有流失\n",
    "customer.max().SDATE.value_counts().plot()   "
   ]
  },
  {
   "cell_type": "markdown",
   "metadata": {},
   "source": [
    "上图表说明数据统计的后几天，最后一次购买的客户所占比重很大，说明顾客几乎没有流失。"
   ]
  },
  {
   "cell_type": "code",
   "execution_count": 42,
   "metadata": {
    "scrolled": true
   },
   "outputs": [
    {
     "data": {
      "text/html": [
       "<div>\n",
       "<style scoped>\n",
       "    .dataframe tbody tr th:only-of-type {\n",
       "        vertical-align: middle;\n",
       "    }\n",
       "\n",
       "    .dataframe tbody tr th {\n",
       "        vertical-align: top;\n",
       "    }\n",
       "\n",
       "    .dataframe thead th {\n",
       "        text-align: right;\n",
       "    }\n",
       "</style>\n",
       "<table border=\"1\" class=\"dataframe\">\n",
       "  <thead>\n",
       "    <tr style=\"text-align: right;\">\n",
       "      <th></th>\n",
       "      <th>SDATE</th>\n",
       "      <th>STORE_CODE</th>\n",
       "      <th>POSID</th>\n",
       "      <th>BASK_CODE</th>\n",
       "      <th>PROD_CODE</th>\n",
       "      <th>ITEM_QUANTITY</th>\n",
       "      <th>ITEM_SPEND</th>\n",
       "      <th>NORMAL_PRICE</th>\n",
       "      <th>DISCOUNT_TYPE</th>\n",
       "      <th>DISCOUNT_AMOUNT</th>\n",
       "      <th>year</th>\n",
       "      <th>month</th>\n",
       "      <th>day</th>\n",
       "    </tr>\n",
       "  </thead>\n",
       "  <tbody>\n",
       "    <tr>\n",
       "      <th>0</th>\n",
       "      <td>2018-06-01</td>\n",
       "      <td>D007</td>\n",
       "      <td>3</td>\n",
       "      <td>250451</td>\n",
       "      <td>29405</td>\n",
       "      <td>1.000</td>\n",
       "      <td>1.70</td>\n",
       "      <td>2.0</td>\n",
       "      <td>m</td>\n",
       "      <td>-0.3</td>\n",
       "      <td>2018</td>\n",
       "      <td>6</td>\n",
       "      <td>2018-06-01</td>\n",
       "    </tr>\n",
       "    <tr>\n",
       "      <th>1</th>\n",
       "      <td>2018-06-01</td>\n",
       "      <td>D007</td>\n",
       "      <td>3</td>\n",
       "      <td>250451</td>\n",
       "      <td>13187</td>\n",
       "      <td>1.000</td>\n",
       "      <td>1.00</td>\n",
       "      <td>1.0</td>\n",
       "      <td>n</td>\n",
       "      <td>0.0</td>\n",
       "      <td>2018</td>\n",
       "      <td>6</td>\n",
       "      <td>2018-06-01</td>\n",
       "    </tr>\n",
       "    <tr>\n",
       "      <th>2</th>\n",
       "      <td>2018-06-01</td>\n",
       "      <td>D007</td>\n",
       "      <td>3</td>\n",
       "      <td>250243</td>\n",
       "      <td>196249</td>\n",
       "      <td>1.000</td>\n",
       "      <td>99.00</td>\n",
       "      <td>99.0</td>\n",
       "      <td>m</td>\n",
       "      <td>0.0</td>\n",
       "      <td>2018</td>\n",
       "      <td>6</td>\n",
       "      <td>2018-06-01</td>\n",
       "    </tr>\n",
       "    <tr>\n",
       "      <th>3</th>\n",
       "      <td>2018-06-01</td>\n",
       "      <td>D007</td>\n",
       "      <td>3</td>\n",
       "      <td>250243</td>\n",
       "      <td>199637</td>\n",
       "      <td>1.000</td>\n",
       "      <td>9.90</td>\n",
       "      <td>16.8</td>\n",
       "      <td>p</td>\n",
       "      <td>-6.9</td>\n",
       "      <td>2018</td>\n",
       "      <td>6</td>\n",
       "      <td>2018-06-01</td>\n",
       "    </tr>\n",
       "    <tr>\n",
       "      <th>4</th>\n",
       "      <td>2018-06-01</td>\n",
       "      <td>D007</td>\n",
       "      <td>1</td>\n",
       "      <td>160905</td>\n",
       "      <td>195012</td>\n",
       "      <td>3.222</td>\n",
       "      <td>18.69</td>\n",
       "      <td>5.8</td>\n",
       "      <td>n</td>\n",
       "      <td>0.0</td>\n",
       "      <td>2018</td>\n",
       "      <td>6</td>\n",
       "      <td>2018-06-01</td>\n",
       "    </tr>\n",
       "    <tr>\n",
       "      <th>...</th>\n",
       "      <td>...</td>\n",
       "      <td>...</td>\n",
       "      <td>...</td>\n",
       "      <td>...</td>\n",
       "      <td>...</td>\n",
       "      <td>...</td>\n",
       "      <td>...</td>\n",
       "      <td>...</td>\n",
       "      <td>...</td>\n",
       "      <td>...</td>\n",
       "      <td>...</td>\n",
       "      <td>...</td>\n",
       "      <td>...</td>\n",
       "    </tr>\n",
       "    <tr>\n",
       "      <th>1732756</th>\n",
       "      <td>2018-07-05</td>\n",
       "      <td>A010</td>\n",
       "      <td>2</td>\n",
       "      <td>284254</td>\n",
       "      <td>144474</td>\n",
       "      <td>0.470</td>\n",
       "      <td>26.32</td>\n",
       "      <td>56.0</td>\n",
       "      <td>n</td>\n",
       "      <td>0.0</td>\n",
       "      <td>2018</td>\n",
       "      <td>7</td>\n",
       "      <td>2018-07-05</td>\n",
       "    </tr>\n",
       "    <tr>\n",
       "      <th>1732757</th>\n",
       "      <td>2018-07-05</td>\n",
       "      <td>A010</td>\n",
       "      <td>2</td>\n",
       "      <td>284265</td>\n",
       "      <td>2243</td>\n",
       "      <td>24.000</td>\n",
       "      <td>43.20</td>\n",
       "      <td>1.8</td>\n",
       "      <td>n</td>\n",
       "      <td>0.0</td>\n",
       "      <td>2018</td>\n",
       "      <td>7</td>\n",
       "      <td>2018-07-05</td>\n",
       "    </tr>\n",
       "    <tr>\n",
       "      <th>1732758</th>\n",
       "      <td>2018-07-05</td>\n",
       "      <td>A010</td>\n",
       "      <td>2</td>\n",
       "      <td>284406</td>\n",
       "      <td>216571</td>\n",
       "      <td>1.000</td>\n",
       "      <td>14.50</td>\n",
       "      <td>14.5</td>\n",
       "      <td>n</td>\n",
       "      <td>0.0</td>\n",
       "      <td>2018</td>\n",
       "      <td>7</td>\n",
       "      <td>2018-07-05</td>\n",
       "    </tr>\n",
       "    <tr>\n",
       "      <th>1732759</th>\n",
       "      <td>2018-07-05</td>\n",
       "      <td>A010</td>\n",
       "      <td>2</td>\n",
       "      <td>284266</td>\n",
       "      <td>223768</td>\n",
       "      <td>1.000</td>\n",
       "      <td>2.50</td>\n",
       "      <td>3.0</td>\n",
       "      <td>m</td>\n",
       "      <td>-0.5</td>\n",
       "      <td>2018</td>\n",
       "      <td>7</td>\n",
       "      <td>2018-07-05</td>\n",
       "    </tr>\n",
       "    <tr>\n",
       "      <th>1732760</th>\n",
       "      <td>2018-07-05</td>\n",
       "      <td>A010</td>\n",
       "      <td>2</td>\n",
       "      <td>284263</td>\n",
       "      <td>205100</td>\n",
       "      <td>1.000</td>\n",
       "      <td>6.80</td>\n",
       "      <td>6.8</td>\n",
       "      <td>n</td>\n",
       "      <td>0.0</td>\n",
       "      <td>2018</td>\n",
       "      <td>7</td>\n",
       "      <td>2018-07-05</td>\n",
       "    </tr>\n",
       "  </tbody>\n",
       "</table>\n",
       "<p>1517449 rows × 13 columns</p>\n",
       "</div>"
      ],
      "text/plain": [
       "             SDATE STORE_CODE  POSID  BASK_CODE  PROD_CODE  ITEM_QUANTITY  \\\n",
       "0       2018-06-01       D007      3     250451      29405          1.000   \n",
       "1       2018-06-01       D007      3     250451      13187          1.000   \n",
       "2       2018-06-01       D007      3     250243     196249          1.000   \n",
       "3       2018-06-01       D007      3     250243     199637          1.000   \n",
       "4       2018-06-01       D007      1     160905     195012          3.222   \n",
       "...            ...        ...    ...        ...        ...            ...   \n",
       "1732756 2018-07-05       A010      2     284254     144474          0.470   \n",
       "1732757 2018-07-05       A010      2     284265       2243         24.000   \n",
       "1732758 2018-07-05       A010      2     284406     216571          1.000   \n",
       "1732759 2018-07-05       A010      2     284266     223768          1.000   \n",
       "1732760 2018-07-05       A010      2     284263     205100          1.000   \n",
       "\n",
       "         ITEM_SPEND  NORMAL_PRICE DISCOUNT_TYPE  DISCOUNT_AMOUNT  year  month  \\\n",
       "0              1.70           2.0             m             -0.3  2018      6   \n",
       "1              1.00           1.0             n              0.0  2018      6   \n",
       "2             99.00          99.0             m              0.0  2018      6   \n",
       "3              9.90          16.8             p             -6.9  2018      6   \n",
       "4             18.69           5.8             n              0.0  2018      6   \n",
       "...             ...           ...           ...              ...   ...    ...   \n",
       "1732756       26.32          56.0             n              0.0  2018      7   \n",
       "1732757       43.20           1.8             n              0.0  2018      7   \n",
       "1732758       14.50          14.5             n              0.0  2018      7   \n",
       "1732759        2.50           3.0             m             -0.5  2018      7   \n",
       "1732760        6.80           6.8             n              0.0  2018      7   \n",
       "\n",
       "               day  \n",
       "0       2018-06-01  \n",
       "1       2018-06-01  \n",
       "2       2018-06-01  \n",
       "3       2018-06-01  \n",
       "4       2018-06-01  \n",
       "...            ...  \n",
       "1732756 2018-07-05  \n",
       "1732757 2018-07-05  \n",
       "1732758 2018-07-05  \n",
       "1732759 2018-07-05  \n",
       "1732760 2018-07-05  \n",
       "\n",
       "[1517449 rows x 13 columns]"
      ]
     },
     "execution_count": 42,
     "metadata": {},
     "output_type": "execute_result"
    }
   ],
   "source": [
    "item_data2"
   ]
  },
  {
   "cell_type": "code",
   "execution_count": 43,
   "metadata": {},
   "outputs": [
    {
     "data": {
      "text/plain": [
       "False    169532\n",
       "True     111282\n",
       "dtype: int64"
      ]
     },
     "execution_count": 43,
     "metadata": {},
     "output_type": "execute_result"
    }
   ],
   "source": [
    "# 查看每位顾客第一次和最后一次购买记录\n",
    "customer_record = customer.SDATE.agg(['min','max'])\n",
    "# 查看只有一次购买记录的顾客数量，第一次和最后一次是同一条记录，则说明购买只有一次(这里将一个BASK_CODE看做一个顾客)\n",
    "(customer_record['min'] == customer_record['max']).value_counts()"
   ]
  },
  {
   "cell_type": "code",
   "execution_count": 44,
   "metadata": {},
   "outputs": [
    {
     "data": {
      "text/plain": [
       "([<matplotlib.patches.Wedge at 0x18b33c1dd60>,\n",
       "  <matplotlib.patches.Wedge at 0x18b33c2a490>],\n",
       " [Text(-0.35210934383272846, 1.042122358452061, 'False'),\n",
       "  Text(0.35210924626219015, -1.0421223914189122, 'True')],\n",
       " [Text(-0.19205964209057913, 0.5684303773374877, '60.372%'),\n",
       "  Text(0.1920595888702855, -0.5684303953194066, '39.628%')])"
      ]
     },
     "execution_count": 44,
     "metadata": {},
     "output_type": "execute_result"
    },
    {
     "data": {
      "image/png": "[encoded data removed]",
      "text/plain": [
       "<Figure size 432x288 with 1 Axes>"
      ]
     },
     "metadata": {},
     "output_type": "display_data"
    }
   ],
   "source": [
    "plt.pie((customer_record['min'] == customer_record['max']).value_counts(normalize = True),\n",
    "       autopct='%.3f%%',\n",
    "       labels = (customer_record['min'] == customer_record['max']).value_counts().index)"
   ]
  },
  {
   "cell_type": "markdown",
   "metadata": {},
   "source": [
    "可以看出回头客的比重比只购买一次的顾客的比重略大些"
   ]
  },
  {
   "cell_type": "markdown",
   "metadata": {},
   "source": [
    "## 5.3 RFM模型分析"
   ]
  },
  {
   "cell_type": "markdown",
   "metadata": {},
   "source": [
    "RFM模型根据客户活跃程度和交易金额的贡献，进行客户价值细分的一种方法。<br/>\n",
    "R（Recency）——最近一次交易时间间隔。基于最近一次交易日期计算的得分，距离当前日期越近，得分越高。如5分制。反映客户交易活跃度。\n",
    "F（Frequency）——客户在最近一段时间内交易次数。基于交易频率计算的得分，交易频率越高，得分越高。如5分制。反映客户交易活跃度。<br/>\n",
    "M（Monetray）——客户最近一段时间内交易金额。基于交易金额计算的得分，交易金额越高，得分越高。如5分制。反映客户价值。"
   ]
  },
  {
   "cell_type": "markdown",
   "metadata": {},
   "source": [
    "（1）构建RFM表"
   ]
  },
  {
   "cell_type": "code",
   "execution_count": 54,
   "metadata": {},
   "outputs": [
    {
     "data": {
      "text/html": [
       "<div>\n",
       "<style scoped>\n",
       "    .dataframe tbody tr th:only-of-type {\n",
       "        vertical-align: middle;\n",
       "    }\n",
       "\n",
       "    .dataframe tbody tr th {\n",
       "        vertical-align: top;\n",
       "    }\n",
       "\n",
       "    .dataframe thead th {\n",
       "        text-align: right;\n",
       "    }\n",
       "</style>\n",
       "<table border=\"1\" class=\"dataframe\">\n",
       "  <thead>\n",
       "    <tr style=\"text-align: right;\">\n",
       "      <th></th>\n",
       "      <th>F_fre</th>\n",
       "      <th>M_sum</th>\n",
       "      <th>SDATE</th>\n",
       "      <th>R_diff</th>\n",
       "    </tr>\n",
       "    <tr>\n",
       "      <th>BASK_CODE</th>\n",
       "      <th></th>\n",
       "      <th></th>\n",
       "      <th></th>\n",
       "      <th></th>\n",
       "    </tr>\n",
       "  </thead>\n",
       "  <tbody>\n",
       "    <tr>\n",
       "      <th>961</th>\n",
       "      <td>1.0</td>\n",
       "      <td>25.0</td>\n",
       "      <td>2018-06-18</td>\n",
       "      <td>17.0</td>\n",
       "    </tr>\n",
       "    <tr>\n",
       "      <th>962</th>\n",
       "      <td>11.0</td>\n",
       "      <td>132.1</td>\n",
       "      <td>2018-06-18</td>\n",
       "      <td>17.0</td>\n",
       "    </tr>\n",
       "    <tr>\n",
       "      <th>964</th>\n",
       "      <td>1.0</td>\n",
       "      <td>14.0</td>\n",
       "      <td>2018-06-18</td>\n",
       "      <td>17.0</td>\n",
       "    </tr>\n",
       "    <tr>\n",
       "      <th>965</th>\n",
       "      <td>1.0</td>\n",
       "      <td>20.0</td>\n",
       "      <td>2018-06-18</td>\n",
       "      <td>17.0</td>\n",
       "    </tr>\n",
       "    <tr>\n",
       "      <th>966</th>\n",
       "      <td>1.0</td>\n",
       "      <td>12.5</td>\n",
       "      <td>2018-06-18</td>\n",
       "      <td>17.0</td>\n",
       "    </tr>\n",
       "  </tbody>\n",
       "</table>\n",
       "</div>"
      ],
      "text/plain": [
       "           F_fre  M_sum      SDATE  R_diff\n",
       "BASK_CODE                                 \n",
       "961          1.0   25.0 2018-06-18    17.0\n",
       "962         11.0  132.1 2018-06-18    17.0\n",
       "964          1.0   14.0 2018-06-18    17.0\n",
       "965          1.0   20.0 2018-06-18    17.0\n",
       "966          1.0   12.5 2018-06-18    17.0"
      ]
     },
     "execution_count": 54,
     "metadata": {},
     "output_type": "execute_result"
    }
   ],
   "source": [
    "rfm = item_data2.pivot_table(index='BASK_CODE',\n",
    "                            values = [\"ITEM_QUANTITY\",\"ITEM_SPEND\",\"SDATE\"],\n",
    "                            aggfunc={\"ITEM_QUANTITY\":\"sum\",\"ITEM_SPEND\":\"sum\",\"SDATE\":\"max\"})\n",
    "\n",
    "# 所有用户最大的交易日期为标准，求每笔交易的时间间隔即为R\n",
    "rfm['R_diff'] = (rfm.SDATE.max() - rfm.SDATE)/np.timedelta64(1,'D')\n",
    "# 每个客户的总销量即为F，总销售额即为M\n",
    "rfm.rename(columns={'ITEM_QUANTITY':'F_fre','ITEM_SPEND':'M_sum'},inplace = True)\n",
    "rfm.head()"
   ]
  },
  {
   "cell_type": "code",
   "execution_count": 55,
   "metadata": {},
   "outputs": [
    {
     "data": {
      "text/html": [
       "<div>\n",
       "<style scoped>\n",
       "    .dataframe tbody tr th:only-of-type {\n",
       "        vertical-align: middle;\n",
       "    }\n",
       "\n",
       "    .dataframe tbody tr th {\n",
       "        vertical-align: top;\n",
       "    }\n",
       "\n",
       "    .dataframe thead th {\n",
       "        text-align: right;\n",
       "    }\n",
       "</style>\n",
       "<table border=\"1\" class=\"dataframe\">\n",
       "  <thead>\n",
       "    <tr style=\"text-align: right;\">\n",
       "      <th></th>\n",
       "      <th>F_fre</th>\n",
       "      <th>M_sum</th>\n",
       "      <th>SHOP_DATETIME</th>\n",
       "      <th>R_diff</th>\n",
       "    </tr>\n",
       "    <tr>\n",
       "      <th>BASK_CODE</th>\n",
       "      <th></th>\n",
       "      <th></th>\n",
       "      <th></th>\n",
       "      <th></th>\n",
       "    </tr>\n",
       "  </thead>\n",
       "  <tbody>\n",
       "    <tr>\n",
       "      <th>961</th>\n",
       "      <td>1</td>\n",
       "      <td>25.0</td>\n",
       "      <td>2018-06-18</td>\n",
       "      <td>17.0</td>\n",
       "    </tr>\n",
       "    <tr>\n",
       "      <th>964</th>\n",
       "      <td>1</td>\n",
       "      <td>28.0</td>\n",
       "      <td>2018-06-18</td>\n",
       "      <td>17.0</td>\n",
       "    </tr>\n",
       "    <tr>\n",
       "      <th>965</th>\n",
       "      <td>1</td>\n",
       "      <td>40.0</td>\n",
       "      <td>2018-06-18</td>\n",
       "      <td>17.0</td>\n",
       "    </tr>\n",
       "    <tr>\n",
       "      <th>966</th>\n",
       "      <td>1</td>\n",
       "      <td>12.5</td>\n",
       "      <td>2018-06-18</td>\n",
       "      <td>17.0</td>\n",
       "    </tr>\n",
       "    <tr>\n",
       "      <th>967</th>\n",
       "      <td>1</td>\n",
       "      <td>14.0</td>\n",
       "      <td>2018-06-18</td>\n",
       "      <td>17.0</td>\n",
       "    </tr>\n",
       "  </tbody>\n",
       "</table>\n",
       "</div>"
      ],
      "text/plain": [
       "           F_fre  M_sum SHOP_DATETIME  R_diff\n",
       "BASK_CODE                                    \n",
       "961            1   25.0    2018-06-18    17.0\n",
       "964            1   28.0    2018-06-18    17.0\n",
       "965            1   40.0    2018-06-18    17.0\n",
       "966            1   12.5    2018-06-18    17.0\n",
       "967            1   14.0    2018-06-18    17.0"
      ]
     },
     "execution_count": 55,
     "metadata": {},
     "output_type": "execute_result"
    }
   ],
   "source": [
    "rfm = basket_data2.pivot_table(index = 'BASK_CODE',\n",
    "                    values = ['STORE_CODE','BASK_SPEND','SHOP_DATETIME'],\n",
    "                    aggfunc= {'BASK_CODE':'count',\n",
    "                             'BASK_SPEND':'sum',\n",
    "                             'SHOP_DATETIME':'max'})\n",
    "rfm['R_diff'] = (rfm.SHOP_DATETIME.max() - rfm.SHOP_DATETIME) / np.timedelta64(1,'D')\n",
    "rfm.rename(columns={'BASK_CODE':'F_fre','BASK_SPEND':'M_sum'},inplace = True)\n",
    "rfm.head()"
   ]
  },
  {
   "cell_type": "markdown",
   "metadata": {},
   "source": [
    "（2）对客户价值进行标注，将客户分为8个等级"
   ]
  },
  {
   "cell_type": "code",
   "execution_count": 56,
   "metadata": {},
   "outputs": [
    {
     "data": {
      "text/html": [
       "<div>\n",
       "<style scoped>\n",
       "    .dataframe tbody tr th:only-of-type {\n",
       "        vertical-align: middle;\n",
       "    }\n",
       "\n",
       "    .dataframe tbody tr th {\n",
       "        vertical-align: top;\n",
       "    }\n",
       "\n",
       "    .dataframe thead th {\n",
       "        text-align: right;\n",
       "    }\n",
       "</style>\n",
       "<table border=\"1\" class=\"dataframe\">\n",
       "  <thead>\n",
       "    <tr style=\"text-align: right;\">\n",
       "      <th></th>\n",
       "      <th>F_fre</th>\n",
       "      <th>M_sum</th>\n",
       "      <th>SHOP_DATETIME</th>\n",
       "      <th>R_diff</th>\n",
       "      <th>label</th>\n",
       "    </tr>\n",
       "    <tr>\n",
       "      <th>BASK_CODE</th>\n",
       "      <th></th>\n",
       "      <th></th>\n",
       "      <th></th>\n",
       "      <th></th>\n",
       "      <th></th>\n",
       "    </tr>\n",
       "  </thead>\n",
       "  <tbody>\n",
       "    <tr>\n",
       "      <th>961</th>\n",
       "      <td>1</td>\n",
       "      <td>25.0</td>\n",
       "      <td>2018-06-18</td>\n",
       "      <td>17.0</td>\n",
       "      <td>一般挽留客户</td>\n",
       "    </tr>\n",
       "    <tr>\n",
       "      <th>964</th>\n",
       "      <td>1</td>\n",
       "      <td>28.0</td>\n",
       "      <td>2018-06-18</td>\n",
       "      <td>17.0</td>\n",
       "      <td>一般挽留客户</td>\n",
       "    </tr>\n",
       "    <tr>\n",
       "      <th>965</th>\n",
       "      <td>1</td>\n",
       "      <td>40.0</td>\n",
       "      <td>2018-06-18</td>\n",
       "      <td>17.0</td>\n",
       "      <td>一般挽留客户</td>\n",
       "    </tr>\n",
       "    <tr>\n",
       "      <th>966</th>\n",
       "      <td>1</td>\n",
       "      <td>12.5</td>\n",
       "      <td>2018-06-18</td>\n",
       "      <td>17.0</td>\n",
       "      <td>一般挽留客户</td>\n",
       "    </tr>\n",
       "    <tr>\n",
       "      <th>967</th>\n",
       "      <td>1</td>\n",
       "      <td>14.0</td>\n",
       "      <td>2018-06-18</td>\n",
       "      <td>17.0</td>\n",
       "      <td>一般挽留客户</td>\n",
       "    </tr>\n",
       "  </tbody>\n",
       "</table>\n",
       "</div>"
      ],
      "text/plain": [
       "           F_fre  M_sum SHOP_DATETIME  R_diff   label\n",
       "BASK_CODE                                            \n",
       "961            1   25.0    2018-06-18    17.0  一般挽留客户\n",
       "964            1   28.0    2018-06-18    17.0  一般挽留客户\n",
       "965            1   40.0    2018-06-18    17.0  一般挽留客户\n",
       "966            1   12.5    2018-06-18    17.0  一般挽留客户\n",
       "967            1   14.0    2018-06-18    17.0  一般挽留客户"
      ]
     },
     "execution_count": 56,
     "metadata": {},
     "output_type": "execute_result"
    }
   ],
   "source": [
    "# 基于平均值做比较，超过均值为1，否则为0\n",
    "rfm[['R_diff','F_fre','M_sum']].apply(lambda x:x-x.mean())\n",
    "\n",
    "def rfm_func(x):\n",
    "    level =x.apply(lambda x:'1'if x>0 else '0')\n",
    "    level =level.R_diff +level.F_fre +level.M_sum\n",
    "    d = {\n",
    "        \"111\":\"重要价值客户\",\n",
    "        \"011\":\"重要保持客户\",\n",
    "        \"101\":\"重要挽留客户\",\n",
    "        \"001\":\"重要发展客户\",\n",
    "        \"110\":\"一般价值客户\",\n",
    "        \"010\":\"一般保持客户\",\n",
    "        \"100\":\"一般挽留客户\",\n",
    "        \"000\":\"一般发展客户\"\n",
    "    }\n",
    "    result = d[level]\n",
    "    return result\n",
    "\n",
    "rfm['label']= rfm[['R_diff','F_fre','M_sum']].apply(lambda x:x-x.mean()).apply(rfm_func,axis =1)\n",
    "rfm.head()"
   ]
  },
  {
   "cell_type": "markdown",
   "metadata": {},
   "source": [
    "（3）重要价值客户和非重要价值客户进行可视化展示"
   ]
  },
  {
   "cell_type": "code",
   "execution_count": 57,
   "metadata": {
    "scrolled": true
   },
   "outputs": [
    {
     "data": {
      "text/plain": [
       "<AxesSubplot:xlabel='F_fre', ylabel='R_diff'>"
      ]
     },
     "execution_count": 57,
     "metadata": {},
     "output_type": "execute_result"
    },
    {
     "data": {
      "image/png": "[encoded data removed]",
      "text/plain": [
       "<Figure size 432x288 with 1 Axes>"
      ]
     },
     "metadata": {
      "needs_background": "light"
     },
     "output_type": "display_data"
    }
   ],
   "source": [
    "rfm.loc[rfm.label=='重要价值客户','color']='pink'\n",
    "rfm.loc[~(rfm.label=='重要价值客户'),'color']='blue'\n",
    "rfm.plot.scatter('F_fre','R_diff',c= rfm.color)"
   ]
  },
  {
   "cell_type": "code",
   "execution_count": 58,
   "metadata": {},
   "outputs": [
    {
     "data": {
      "text/html": [
       "<div>\n",
       "<style scoped>\n",
       "    .dataframe tbody tr th:only-of-type {\n",
       "        vertical-align: middle;\n",
       "    }\n",
       "\n",
       "    .dataframe tbody tr th {\n",
       "        vertical-align: top;\n",
       "    }\n",
       "\n",
       "    .dataframe thead th {\n",
       "        text-align: right;\n",
       "    }\n",
       "</style>\n",
       "<table border=\"1\" class=\"dataframe\">\n",
       "  <thead>\n",
       "    <tr style=\"text-align: right;\">\n",
       "      <th></th>\n",
       "      <th>F_fre</th>\n",
       "      <th>M_sum</th>\n",
       "      <th>R_diff</th>\n",
       "    </tr>\n",
       "    <tr>\n",
       "      <th>label</th>\n",
       "      <th></th>\n",
       "      <th></th>\n",
       "      <th></th>\n",
       "    </tr>\n",
       "  </thead>\n",
       "  <tbody>\n",
       "    <tr>\n",
       "      <th>一般价值客户</th>\n",
       "      <td>46385</td>\n",
       "      <td>575988.67</td>\n",
       "      <td>431359.0</td>\n",
       "    </tr>\n",
       "    <tr>\n",
       "      <th>一般保持客户</th>\n",
       "      <td>86267</td>\n",
       "      <td>1014401.77</td>\n",
       "      <td>209267.0</td>\n",
       "    </tr>\n",
       "    <tr>\n",
       "      <th>一般发展客户</th>\n",
       "      <td>37522</td>\n",
       "      <td>596156.96</td>\n",
       "      <td>241361.0</td>\n",
       "    </tr>\n",
       "    <tr>\n",
       "      <th>一般挽留客户</th>\n",
       "      <td>59833</td>\n",
       "      <td>980472.58</td>\n",
       "      <td>1402396.0</td>\n",
       "    </tr>\n",
       "    <tr>\n",
       "      <th>重要价值客户</th>\n",
       "      <td>65730</td>\n",
       "      <td>2016067.21</td>\n",
       "      <td>518893.0</td>\n",
       "    </tr>\n",
       "    <tr>\n",
       "      <th>重要保持客户</th>\n",
       "      <td>190889</td>\n",
       "      <td>5357553.96</td>\n",
       "      <td>340191.0</td>\n",
       "    </tr>\n",
       "    <tr>\n",
       "      <th>重要发展客户</th>\n",
       "      <td>6980</td>\n",
       "      <td>409491.49</td>\n",
       "      <td>44081.0</td>\n",
       "    </tr>\n",
       "    <tr>\n",
       "      <th>重要挽留客户</th>\n",
       "      <td>12719</td>\n",
       "      <td>746920.70</td>\n",
       "      <td>294452.0</td>\n",
       "    </tr>\n",
       "  </tbody>\n",
       "</table>\n",
       "</div>"
      ],
      "text/plain": [
       "         F_fre       M_sum     R_diff\n",
       "label                                \n",
       "一般价值客户   46385   575988.67   431359.0\n",
       "一般保持客户   86267  1014401.77   209267.0\n",
       "一般发展客户   37522   596156.96   241361.0\n",
       "一般挽留客户   59833   980472.58  1402396.0\n",
       "重要价值客户   65730  2016067.21   518893.0\n",
       "重要保持客户  190889  5357553.96   340191.0\n",
       "重要发展客户    6980   409491.49    44081.0\n",
       "重要挽留客户   12719   746920.70   294452.0"
      ]
     },
     "execution_count": 58,
     "metadata": {},
     "output_type": "execute_result"
    }
   ],
   "source": [
    "rfm.groupby('label').sum()"
   ]
  },
  {
   "cell_type": "markdown",
   "metadata": {},
   "source": [
    "可以看出不同客户的交易活跃度以及客户价值总值"
   ]
  },
  {
   "cell_type": "markdown",
   "metadata": {},
   "source": [
    "# 6 总结"
   ]
  },
  {
   "cell_type": "markdown",
   "metadata": {},
   "source": [
    "超市商品销售数据分析是超市管理销售的一个重要环节，有助于管理者做更多的决策提升销售额以及利润等。<br/>\n",
    "本报告分别从商品、销售额以及顾客三个角度展开进一步的分析，对于受欢迎程度较高的商品可以增加其进货量，对于受欢迎程度较低的商品，由于现有数据量较少，无法得出其受欢迎程度低的原因，需要进一步的分析，并采取相应的措施（如发放消费券等）提升其销售量。<br/>\n",
    "其次，通过分析可以看出销售额较多的商品其销售量也相对较多，说明商品价格受大多数顾客认可且商品刚需。<br/>\n",
    "最后，根据已有数据发现该超市回头客顾客所占比重较大，说明顾客具有粘性。<br/>\n",
    "由于数据量有限，因此需要进一步的挖掘和发现其特性，有助于进一步的分析。"
   ]
  },
  {
   "cell_type": "code",
   "execution_count": null,
   "metadata": {},
   "outputs": [],
   "source": []
  }
 ],
 "metadata": {
  "kernelspec": {
   "display_name": "Python 3",
   "language": "python",
   "name": "python3"
  },
  "language_info": {
   "codemirror_mode": {
    "name": "ipython",
    "version": 3
   },
   "file_extension": ".py",
   "mimetype": "text/x-python",
   "name": "python",
   "nbconvert_exporter": "python",
   "pygments_lexer": "ipython3",
   "version": "3.8.3"
  }
 },
 "nbformat": 4,
 "nbformat_minor": 4
}
