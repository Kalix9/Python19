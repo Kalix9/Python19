{
 "cells": [
  {
   "cell_type": "markdown",
   "metadata": {},
   "source": [
    "#     超市零售商品数据分析"
   ]
  },
  {
   "cell_type": "markdown",
   "metadata": {},
   "source": [
    "## 1.背景与需求"
   ]
  },
  {
   "cell_type": "markdown",
   "metadata": {},
   "source": [
    "本文主要对一家超市2018年6月1日到2018年7月5日商品的销售数据进行销售情况分析、商品情况分析和用户情况分析，并给出提升销量的建议。<br/>\n",
    "其中销售情况分析包括销售额、销量、和市场布局等情况分析；<br/>\n",
    "商品情况分析包括优势商品等情况分析；<br/>\n",
    "用户情况分析包括客户数量、新老客户、客单价、RFM模型、复购率和回购率等情况分析。"
   ]
  },
  {
   "cell_type": "markdown",
   "metadata": {},
   "source": [
    "## 2.数据预处理"
   ]
  },
  {
   "cell_type": "markdown",
   "metadata": {},
   "source": [
    "### 2.1导入模块"
   ]
  },
  {
   "cell_type": "code",
   "execution_count": 3,
   "metadata": {},
   "outputs": [],
   "source": [
    "import pandas as pd\n",
    "import matplotlib.pyplot as plt\n",
    "import seaborn as sns\n",
    "import numpy as np\n",
    "plt.rcParams[\"font.sans-serif\"]=['SimHei']#用来正常显示中文标签  \n",
    "plt.rcParams[\"axes.unicode_minus\"]=False#用来正常显示负号 "
   ]
  },
  {
   "cell_type": "markdown",
   "metadata": {},
   "source": [
    "### 2.2导入数据和数据预处理"
   ]
  },
  {
   "cell_type": "markdown",
   "metadata": {},
   "source": [
    "#### 2.2.1basket数据"
   ]
  },
  {
   "cell_type": "markdown",
   "metadata": {},
   "source": [
    "导入数据"
   ]
  },
  {
   "cell_type": "code",
   "execution_count": 4,
   "metadata": {},
   "outputs": [
    {
     "data": {
      "text/plain": [
       "SDATE         False\n",
       "STORE_CODE    False\n",
       "POS_NO        False\n",
       "BASK_CODE     False\n",
       "BASK_SPEND    False\n",
       "dtype: bool"
      ]
     },
     "execution_count": 4,
     "metadata": {},
     "output_type": "execute_result"
    }
   ],
   "source": [
    "basket = pd.read_csv('D:/Learn/课程/第三学期/python数学运算与数据可视化/大作业/数据/Basket.csv')\n",
    "basket['SDATE']=pd.to_datetime(basket['SDATE'])\n",
    "basket.isnull().any()"
   ]
  },
  {
   "cell_type": "markdown",
   "metadata": {},
   "source": [
    "异常值检测"
   ]
  },
  {
   "cell_type": "code",
   "execution_count": 5,
   "metadata": {},
   "outputs": [],
   "source": [
    "spend=basket['BASK_SPEND']"
   ]
  },
  {
   "cell_type": "code",
   "execution_count": 6,
   "metadata": {},
   "outputs": [
    {
     "data": {
      "text/plain": [
       "<matplotlib.axes._subplots.AxesSubplot at 0x22c01309128>"
      ]
     },
     "execution_count": 6,
     "metadata": {},
     "output_type": "execute_result"
    },
    {
     "data": {
      "image/png": "[encoded data removed]",
      "text/plain": [
       "<Figure size 432x288 with 1 Axes>"
      ]
     },
     "metadata": {
      "needs_background": "light"
     },
     "output_type": "display_data"
    }
   ],
   "source": [
    "spend.plot(kind='box',title='BASK_SPEND',sym='r+')   #从箱线图可以看出有销售金额小于0和远大于平均值的异常值"
   ]
  },
  {
   "cell_type": "code",
   "execution_count": 7,
   "metadata": {},
   "outputs": [
    {
     "data": {
      "text/plain": [
       "count    571552.000000\n",
       "mean         38.973310\n",
       "std         209.038276\n",
       "min      -35940.000000\n",
       "25%           9.000000\n",
       "50%          19.900000\n",
       "75%          44.700000\n",
       "max       79920.000000\n",
       "Name: BASK_SPEND, dtype: float64"
      ]
     },
     "execution_count": 7,
     "metadata": {},
     "output_type": "execute_result"
    }
   ],
   "source": [
    "spend.describe()"
   ]
  },
  {
   "cell_type": "markdown",
   "metadata": {},
   "source": [
    "删除异常值"
   ]
  },
  {
   "cell_type": "code",
   "execution_count": 8,
   "metadata": {},
   "outputs": [
    {
     "data": {
      "text/html": [
       "<div>\n",
       "<style scoped>\n",
       "    .dataframe tbody tr th:only-of-type {\n",
       "        vertical-align: middle;\n",
       "    }\n",
       "\n",
       "    .dataframe tbody tr th {\n",
       "        vertical-align: top;\n",
       "    }\n",
       "\n",
       "    .dataframe thead th {\n",
       "        text-align: right;\n",
       "    }\n",
       "</style>\n",
       "<table border=\"1\" class=\"dataframe\">\n",
       "  <thead>\n",
       "    <tr style=\"text-align: right;\">\n",
       "      <th></th>\n",
       "      <th>SDATE</th>\n",
       "      <th>STORE_CODE</th>\n",
       "      <th>POS_NO</th>\n",
       "      <th>BASK_CODE</th>\n",
       "      <th>BASK_SPEND</th>\n",
       "    </tr>\n",
       "  </thead>\n",
       "  <tbody>\n",
       "    <tr>\n",
       "      <th>0</th>\n",
       "      <td>2018-06-01</td>\n",
       "      <td>D007</td>\n",
       "      <td>3</td>\n",
       "      <td>250458</td>\n",
       "      <td>8.0</td>\n",
       "    </tr>\n",
       "    <tr>\n",
       "      <th>1</th>\n",
       "      <td>2018-06-01</td>\n",
       "      <td>D007</td>\n",
       "      <td>3</td>\n",
       "      <td>250200</td>\n",
       "      <td>32.7</td>\n",
       "    </tr>\n",
       "    <tr>\n",
       "      <th>2</th>\n",
       "      <td>2018-06-01</td>\n",
       "      <td>D007</td>\n",
       "      <td>1</td>\n",
       "      <td>161068</td>\n",
       "      <td>16.8</td>\n",
       "    </tr>\n",
       "    <tr>\n",
       "      <th>3</th>\n",
       "      <td>2018-06-01</td>\n",
       "      <td>D007</td>\n",
       "      <td>8</td>\n",
       "      <td>5325</td>\n",
       "      <td>30.4</td>\n",
       "    </tr>\n",
       "    <tr>\n",
       "      <th>4</th>\n",
       "      <td>2018-06-01</td>\n",
       "      <td>D007</td>\n",
       "      <td>8</td>\n",
       "      <td>5361</td>\n",
       "      <td>191.3</td>\n",
       "    </tr>\n",
       "  </tbody>\n",
       "</table>\n",
       "</div>"
      ],
      "text/plain": [
       "       SDATE STORE_CODE  POS_NO  BASK_CODE  BASK_SPEND\n",
       "0 2018-06-01       D007       3     250458         8.0\n",
       "1 2018-06-01       D007       3     250200        32.7\n",
       "2 2018-06-01       D007       1     161068        16.8\n",
       "3 2018-06-01       D007       8       5325        30.4\n",
       "4 2018-06-01       D007       8       5361       191.3"
      ]
     },
     "execution_count": 8,
     "metadata": {},
     "output_type": "execute_result"
    }
   ],
   "source": [
    "basket_new1=basket[basket['BASK_SPEND']>0]  #剔除basket中bask_spend列小于0的行\n",
    "basket_new1.head()"
   ]
  },
  {
   "cell_type": "code",
   "execution_count": 9,
   "metadata": {},
   "outputs": [],
   "source": [
    "basket_new2=basket_new1[basket_new1['BASK_SPEND']<80]   #剔除basket中bask_spend列大于80的行"
   ]
  },
  {
   "cell_type": "code",
   "execution_count": 10,
   "metadata": {},
   "outputs": [
    {
     "data": {
      "text/plain": [
       "0"
      ]
     },
     "execution_count": 10,
     "metadata": {},
     "output_type": "execute_result"
    }
   ],
   "source": [
    "basket_new2.duplicated().sum()#查看是否有重复值"
   ]
  },
  {
   "cell_type": "markdown",
   "metadata": {},
   "source": [
    "#### 2.2.2item数据"
   ]
  },
  {
   "cell_type": "markdown",
   "metadata": {},
   "source": [
    "导入数据"
   ]
  },
  {
   "cell_type": "code",
   "execution_count": 11,
   "metadata": {},
   "outputs": [
    {
     "data": {
      "text/plain": [
       "SDATE              False\n",
       "STORE_CODE         False\n",
       "POSID              False\n",
       "BASK_CODE          False\n",
       "PROD_CODE          False\n",
       "ITEM_QUANTITY      False\n",
       "ITEM_SPEND         False\n",
       "NORMAL_PRICE       False\n",
       "DISCOUNT_TYPE      False\n",
       "DISCOUNT_AMOUNT    False\n",
       "dtype: bool"
      ]
     },
     "execution_count": 11,
     "metadata": {},
     "output_type": "execute_result"
    }
   ],
   "source": [
    "item = pd.read_csv('D:/Learn/课程/第三学期/python数学运算与数据可视化/大作业/数据/item.csv')\n",
    "item['SDATE']=pd.to_datetime(item['SDATE'])\n",
    "item.isnull().any()"
   ]
  },
  {
   "cell_type": "code",
   "execution_count": 12,
   "metadata": {},
   "outputs": [
    {
     "data": {
      "text/html": [
       "<div>\n",
       "<style scoped>\n",
       "    .dataframe tbody tr th:only-of-type {\n",
       "        vertical-align: middle;\n",
       "    }\n",
       "\n",
       "    .dataframe tbody tr th {\n",
       "        vertical-align: top;\n",
       "    }\n",
       "\n",
       "    .dataframe thead th {\n",
       "        text-align: right;\n",
       "    }\n",
       "</style>\n",
       "<table border=\"1\" class=\"dataframe\">\n",
       "  <thead>\n",
       "    <tr style=\"text-align: right;\">\n",
       "      <th></th>\n",
       "      <th>SDATE</th>\n",
       "      <th>STORE_CODE</th>\n",
       "      <th>POSID</th>\n",
       "      <th>BASK_CODE</th>\n",
       "      <th>PROD_CODE</th>\n",
       "      <th>ITEM_QUANTITY</th>\n",
       "      <th>ITEM_SPEND</th>\n",
       "      <th>NORMAL_PRICE</th>\n",
       "      <th>DISCOUNT_TYPE</th>\n",
       "      <th>DISCOUNT_AMOUNT</th>\n",
       "    </tr>\n",
       "  </thead>\n",
       "  <tbody>\n",
       "    <tr>\n",
       "      <th>0</th>\n",
       "      <td>2018-06-01</td>\n",
       "      <td>D007</td>\n",
       "      <td>3</td>\n",
       "      <td>250451</td>\n",
       "      <td>29405</td>\n",
       "      <td>1.000</td>\n",
       "      <td>1.70</td>\n",
       "      <td>2.0</td>\n",
       "      <td>m</td>\n",
       "      <td>-0.3</td>\n",
       "    </tr>\n",
       "    <tr>\n",
       "      <th>1</th>\n",
       "      <td>2018-06-01</td>\n",
       "      <td>D007</td>\n",
       "      <td>3</td>\n",
       "      <td>250451</td>\n",
       "      <td>13187</td>\n",
       "      <td>1.000</td>\n",
       "      <td>1.00</td>\n",
       "      <td>1.0</td>\n",
       "      <td>n</td>\n",
       "      <td>0.0</td>\n",
       "    </tr>\n",
       "    <tr>\n",
       "      <th>2</th>\n",
       "      <td>2018-06-01</td>\n",
       "      <td>D007</td>\n",
       "      <td>3</td>\n",
       "      <td>250243</td>\n",
       "      <td>196249</td>\n",
       "      <td>1.000</td>\n",
       "      <td>99.00</td>\n",
       "      <td>99.0</td>\n",
       "      <td>m</td>\n",
       "      <td>0.0</td>\n",
       "    </tr>\n",
       "    <tr>\n",
       "      <th>3</th>\n",
       "      <td>2018-06-01</td>\n",
       "      <td>D007</td>\n",
       "      <td>3</td>\n",
       "      <td>250243</td>\n",
       "      <td>199637</td>\n",
       "      <td>1.000</td>\n",
       "      <td>9.90</td>\n",
       "      <td>16.8</td>\n",
       "      <td>p</td>\n",
       "      <td>-6.9</td>\n",
       "    </tr>\n",
       "    <tr>\n",
       "      <th>4</th>\n",
       "      <td>2018-06-01</td>\n",
       "      <td>D007</td>\n",
       "      <td>1</td>\n",
       "      <td>160905</td>\n",
       "      <td>195012</td>\n",
       "      <td>3.222</td>\n",
       "      <td>18.69</td>\n",
       "      <td>5.8</td>\n",
       "      <td>n</td>\n",
       "      <td>0.0</td>\n",
       "    </tr>\n",
       "  </tbody>\n",
       "</table>\n",
       "</div>"
      ],
      "text/plain": [
       "       SDATE STORE_CODE  POSID  BASK_CODE  PROD_CODE  ITEM_QUANTITY  \\\n",
       "0 2018-06-01       D007      3     250451      29405          1.000   \n",
       "1 2018-06-01       D007      3     250451      13187          1.000   \n",
       "2 2018-06-01       D007      3     250243     196249          1.000   \n",
       "3 2018-06-01       D007      3     250243     199637          1.000   \n",
       "4 2018-06-01       D007      1     160905     195012          3.222   \n",
       "\n",
       "   ITEM_SPEND  NORMAL_PRICE DISCOUNT_TYPE  DISCOUNT_AMOUNT  \n",
       "0        1.70           2.0             m             -0.3  \n",
       "1        1.00           1.0             n              0.0  \n",
       "2       99.00          99.0             m              0.0  \n",
       "3        9.90          16.8             p             -6.9  \n",
       "4       18.69           5.8             n              0.0  "
      ]
     },
     "execution_count": 12,
     "metadata": {},
     "output_type": "execute_result"
    }
   ],
   "source": [
    "item.head()"
   ]
  },
  {
   "cell_type": "markdown",
   "metadata": {},
   "source": [
    "从数据分布情况表可以看出：<br/>\n",
    "1.ITEM_SPEND字段有负值，即商品实付金额为负，存在异常值；<br/>\n",
    "2.ITEM_QUANTITY字段有负值，即商品数量为负，存在异常值；<br/>\n",
    "3.DISCOUNT_AMOUTN字段数据有正值，即折扣后金额比折扣前金额高，存在异常值。"
   ]
  },
  {
   "cell_type": "code",
   "execution_count": 13,
   "metadata": {},
   "outputs": [
    {
     "data": {
      "text/html": [
       "<div>\n",
       "<style scoped>\n",
       "    .dataframe tbody tr th:only-of-type {\n",
       "        vertical-align: middle;\n",
       "    }\n",
       "\n",
       "    .dataframe tbody tr th {\n",
       "        vertical-align: top;\n",
       "    }\n",
       "\n",
       "    .dataframe thead th {\n",
       "        text-align: right;\n",
       "    }\n",
       "</style>\n",
       "<table border=\"1\" class=\"dataframe\">\n",
       "  <thead>\n",
       "    <tr style=\"text-align: right;\">\n",
       "      <th></th>\n",
       "      <th>SDATE</th>\n",
       "      <th>STORE_CODE</th>\n",
       "      <th>POSID</th>\n",
       "      <th>BASK_CODE</th>\n",
       "      <th>PROD_CODE</th>\n",
       "      <th>ITEM_QUANTITY</th>\n",
       "      <th>ITEM_SPEND</th>\n",
       "      <th>NORMAL_PRICE</th>\n",
       "      <th>DISCOUNT_TYPE</th>\n",
       "      <th>DISCOUNT_AMOUNT</th>\n",
       "    </tr>\n",
       "  </thead>\n",
       "  <tbody>\n",
       "    <tr>\n",
       "      <th>0</th>\n",
       "      <td>2018-06-01</td>\n",
       "      <td>D007</td>\n",
       "      <td>3</td>\n",
       "      <td>250451</td>\n",
       "      <td>29405</td>\n",
       "      <td>1.000</td>\n",
       "      <td>1.70</td>\n",
       "      <td>2.0</td>\n",
       "      <td>m</td>\n",
       "      <td>-0.3</td>\n",
       "    </tr>\n",
       "    <tr>\n",
       "      <th>1</th>\n",
       "      <td>2018-06-01</td>\n",
       "      <td>D007</td>\n",
       "      <td>3</td>\n",
       "      <td>250451</td>\n",
       "      <td>13187</td>\n",
       "      <td>1.000</td>\n",
       "      <td>1.00</td>\n",
       "      <td>1.0</td>\n",
       "      <td>n</td>\n",
       "      <td>0.0</td>\n",
       "    </tr>\n",
       "    <tr>\n",
       "      <th>2</th>\n",
       "      <td>2018-06-01</td>\n",
       "      <td>D007</td>\n",
       "      <td>3</td>\n",
       "      <td>250243</td>\n",
       "      <td>196249</td>\n",
       "      <td>1.000</td>\n",
       "      <td>99.00</td>\n",
       "      <td>99.0</td>\n",
       "      <td>m</td>\n",
       "      <td>0.0</td>\n",
       "    </tr>\n",
       "    <tr>\n",
       "      <th>3</th>\n",
       "      <td>2018-06-01</td>\n",
       "      <td>D007</td>\n",
       "      <td>3</td>\n",
       "      <td>250243</td>\n",
       "      <td>199637</td>\n",
       "      <td>1.000</td>\n",
       "      <td>9.90</td>\n",
       "      <td>16.8</td>\n",
       "      <td>p</td>\n",
       "      <td>-6.9</td>\n",
       "    </tr>\n",
       "    <tr>\n",
       "      <th>4</th>\n",
       "      <td>2018-06-01</td>\n",
       "      <td>D007</td>\n",
       "      <td>1</td>\n",
       "      <td>160905</td>\n",
       "      <td>195012</td>\n",
       "      <td>3.222</td>\n",
       "      <td>18.69</td>\n",
       "      <td>5.8</td>\n",
       "      <td>n</td>\n",
       "      <td>0.0</td>\n",
       "    </tr>\n",
       "  </tbody>\n",
       "</table>\n",
       "</div>"
      ],
      "text/plain": [
       "       SDATE STORE_CODE  POSID  BASK_CODE  PROD_CODE  ITEM_QUANTITY  \\\n",
       "0 2018-06-01       D007      3     250451      29405          1.000   \n",
       "1 2018-06-01       D007      3     250451      13187          1.000   \n",
       "2 2018-06-01       D007      3     250243     196249          1.000   \n",
       "3 2018-06-01       D007      3     250243     199637          1.000   \n",
       "4 2018-06-01       D007      1     160905     195012          3.222   \n",
       "\n",
       "   ITEM_SPEND  NORMAL_PRICE DISCOUNT_TYPE  DISCOUNT_AMOUNT  \n",
       "0        1.70           2.0             m             -0.3  \n",
       "1        1.00           1.0             n              0.0  \n",
       "2       99.00          99.0             m              0.0  \n",
       "3        9.90          16.8             p             -6.9  \n",
       "4       18.69           5.8             n              0.0  "
      ]
     },
     "execution_count": 13,
     "metadata": {},
     "output_type": "execute_result"
    }
   ],
   "source": [
    "item_new1=item[item['ITEM_SPEND']>0] #剔除item中ITEM_SPEND列小于0的行\n",
    "item_new1=item_new1[item_new1['ITEM_QUANTITY']>0]#剔除item中ITEM_QUANTITY列小于0的行\n",
    "item_new1=item_new1[item_new1['DISCOUNT_AMOUNT']<=0]#剔除item中DISCOUNT_AMOUNT列大于0的行\n",
    "item_new1.head()"
   ]
  },
  {
   "cell_type": "code",
   "execution_count": 14,
   "metadata": {},
   "outputs": [
    {
     "data": {
      "text/plain": [
       "212634"
      ]
     },
     "execution_count": 14,
     "metadata": {},
     "output_type": "execute_result"
    }
   ],
   "source": [
    "item_new1.duplicated().sum()#查看是否有重复值"
   ]
  },
  {
   "cell_type": "code",
   "execution_count": 16,
   "metadata": {},
   "outputs": [
    {
     "data": {
      "text/html": [
       "<div>\n",
       "<style scoped>\n",
       "    .dataframe tbody tr th:only-of-type {\n",
       "        vertical-align: middle;\n",
       "    }\n",
       "\n",
       "    .dataframe tbody tr th {\n",
       "        vertical-align: top;\n",
       "    }\n",
       "\n",
       "    .dataframe thead th {\n",
       "        text-align: right;\n",
       "    }\n",
       "</style>\n",
       "<table border=\"1\" class=\"dataframe\">\n",
       "  <thead>\n",
       "    <tr style=\"text-align: right;\">\n",
       "      <th></th>\n",
       "      <th>SDATE</th>\n",
       "      <th>STORE_CODE</th>\n",
       "      <th>POSID</th>\n",
       "      <th>BASK_CODE</th>\n",
       "      <th>PROD_CODE</th>\n",
       "      <th>ITEM_QUANTITY</th>\n",
       "      <th>ITEM_SPEND</th>\n",
       "      <th>NORMAL_PRICE</th>\n",
       "      <th>DISCOUNT_TYPE</th>\n",
       "      <th>DISCOUNT_AMOUNT</th>\n",
       "    </tr>\n",
       "  </thead>\n",
       "  <tbody>\n",
       "    <tr>\n",
       "      <th>0</th>\n",
       "      <td>2018-06-01</td>\n",
       "      <td>D007</td>\n",
       "      <td>3</td>\n",
       "      <td>250451</td>\n",
       "      <td>29405</td>\n",
       "      <td>1.000</td>\n",
       "      <td>1.70</td>\n",
       "      <td>2.0</td>\n",
       "      <td>m</td>\n",
       "      <td>-0.3</td>\n",
       "    </tr>\n",
       "    <tr>\n",
       "      <th>1</th>\n",
       "      <td>2018-06-01</td>\n",
       "      <td>D007</td>\n",
       "      <td>3</td>\n",
       "      <td>250451</td>\n",
       "      <td>13187</td>\n",
       "      <td>1.000</td>\n",
       "      <td>1.00</td>\n",
       "      <td>1.0</td>\n",
       "      <td>n</td>\n",
       "      <td>0.0</td>\n",
       "    </tr>\n",
       "    <tr>\n",
       "      <th>2</th>\n",
       "      <td>2018-06-01</td>\n",
       "      <td>D007</td>\n",
       "      <td>3</td>\n",
       "      <td>250243</td>\n",
       "      <td>196249</td>\n",
       "      <td>1.000</td>\n",
       "      <td>99.00</td>\n",
       "      <td>99.0</td>\n",
       "      <td>m</td>\n",
       "      <td>0.0</td>\n",
       "    </tr>\n",
       "    <tr>\n",
       "      <th>3</th>\n",
       "      <td>2018-06-01</td>\n",
       "      <td>D007</td>\n",
       "      <td>3</td>\n",
       "      <td>250243</td>\n",
       "      <td>199637</td>\n",
       "      <td>1.000</td>\n",
       "      <td>9.90</td>\n",
       "      <td>16.8</td>\n",
       "      <td>p</td>\n",
       "      <td>-6.9</td>\n",
       "    </tr>\n",
       "    <tr>\n",
       "      <th>4</th>\n",
       "      <td>2018-06-01</td>\n",
       "      <td>D007</td>\n",
       "      <td>1</td>\n",
       "      <td>160905</td>\n",
       "      <td>195012</td>\n",
       "      <td>3.222</td>\n",
       "      <td>18.69</td>\n",
       "      <td>5.8</td>\n",
       "      <td>n</td>\n",
       "      <td>0.0</td>\n",
       "    </tr>\n",
       "  </tbody>\n",
       "</table>\n",
       "</div>"
      ],
      "text/plain": [
       "       SDATE STORE_CODE  POSID  BASK_CODE  PROD_CODE  ITEM_QUANTITY  \\\n",
       "0 2018-06-01       D007      3     250451      29405          1.000   \n",
       "1 2018-06-01       D007      3     250451      13187          1.000   \n",
       "2 2018-06-01       D007      3     250243     196249          1.000   \n",
       "3 2018-06-01       D007      3     250243     199637          1.000   \n",
       "4 2018-06-01       D007      1     160905     195012          3.222   \n",
       "\n",
       "   ITEM_SPEND  NORMAL_PRICE DISCOUNT_TYPE  DISCOUNT_AMOUNT  \n",
       "0        1.70           2.0             m             -0.3  \n",
       "1        1.00           1.0             n              0.0  \n",
       "2       99.00          99.0             m              0.0  \n",
       "3        9.90          16.8             p             -6.9  \n",
       "4       18.69           5.8             n              0.0  "
      ]
     },
     "execution_count": 16,
     "metadata": {},
     "output_type": "execute_result"
    }
   ],
   "source": [
    "item_new2 = item_new1.drop_duplicates(keep='first')#去掉重复行，并保留重复出现的行中第一次出现的行\n",
    "item_new2.head()"
   ]
  },
  {
   "cell_type": "markdown",
   "metadata": {},
   "source": [
    "## 3.销售额分析"
   ]
  },
  {
   "cell_type": "markdown",
   "metadata": {},
   "source": [
    "### 3.1商店销售额分析"
   ]
  },
  {
   "cell_type": "markdown",
   "metadata": {},
   "source": [
    "计算各门店的销售总额，并将结果排序"
   ]
  },
  {
   "cell_type": "code",
   "execution_count": 17,
   "metadata": {},
   "outputs": [
    {
     "data": {
      "text/plain": [
       "<matplotlib.axes._subplots.AxesSubplot at 0x22c010e6eb8>"
      ]
     },
     "execution_count": 17,
     "metadata": {},
     "output_type": "execute_result"
    },
    {
     "data": {
      "image/png": "[encoded data removed]",
      "text/plain": [
       "<Figure size 432x288 with 1 Axes>"
      ]
     },
     "metadata": {
      "needs_background": "light"
     },
     "output_type": "display_data"
    }
   ],
   "source": [
    "a=basket_new2.groupby('STORE_CODE')['BASK_SPEND'].sum().reset_index().sort_values(by = 'BASK_SPEND',ascending = False)#商店按消费额大小排序\n",
    "a.set_index('STORE_CODE',inplace=True)\n",
    "a.plot(kind='barh')                       #从条形图可以看出A001商店的销售额最大"
   ]
  },
  {
   "cell_type": "markdown",
   "metadata": {},
   "source": [
    "由上表以及上图可以看出:\n",
    "1.A001门店以及D002门店的销售额远远超于其他门店的销售额，并且两门店的销售总额占到所有门店销售总额的30%；<br/>\n",
    "2.D010以及D003门店销售额较低值得警惕。<br/>"
   ]
  },
  {
   "cell_type": "markdown",
   "metadata": {},
   "source": [
    "汇总各门店的结账频数，并按从大到小的顺序进行排列"
   ]
  },
  {
   "cell_type": "code",
   "execution_count": 18,
   "metadata": {},
   "outputs": [
    {
     "data": {
      "text/plain": [
       "<matplotlib.axes._subplots.AxesSubplot at 0x22c011c4240>"
      ]
     },
     "execution_count": 18,
     "metadata": {},
     "output_type": "execute_result"
    },
    {
     "data": {
      "image/png": "[encoded data removed]",
      "text/plain": [
       "<Figure size 432x288 with 1 Axes>"
      ]
     },
     "metadata": {
      "needs_background": "light"
     },
     "output_type": "display_data"
    }
   ],
   "source": [
    "b=basket_new2.loc[:,'STORE_CODE'].value_counts()#商店按结账次数大小排序\n",
    "b.plot(kind='barh')       #A001商店的结账次数也最大"
   ]
  },
  {
   "cell_type": "markdown",
   "metadata": {},
   "source": [
    "综合对比各门店的结账次数以及销售总额柱状图可以发现，结账的次数与销售额是成正比的。<br/>\n",
    "由此可以分析出零售产业通过吸引更多的顾客来增加销售额是一种非常有效的手段。"
   ]
  },
  {
   "cell_type": "code",
   "execution_count": 18,
   "metadata": {},
   "outputs": [
    {
     "name": "stderr",
     "output_type": "stream",
     "text": [
      "D:\\Anaconda3\\lib\\site-packages\\ipykernel_launcher.py:2: SettingWithCopyWarning: \n",
      "A value is trying to be set on a copy of a slice from a DataFrame.\n",
      "Try using .loc[row_indexer,col_indexer] = value instead\n",
      "\n",
      "See the caveats in the documentation: http://pandas.pydata.org/pandas-docs/stable/indexing.html#indexing-view-versus-copy\n",
      "  \n",
      "D:\\Anaconda3\\lib\\site-packages\\ipykernel_launcher.py:3: SettingWithCopyWarning: \n",
      "A value is trying to be set on a copy of a slice from a DataFrame.\n",
      "Try using .loc[row_indexer,col_indexer] = value instead\n",
      "\n",
      "See the caveats in the documentation: http://pandas.pydata.org/pandas-docs/stable/indexing.html#indexing-view-versus-copy\n",
      "  This is separate from the ipykernel package so we can avoid doing imports until\n",
      "D:\\Anaconda3\\lib\\site-packages\\ipykernel_launcher.py:4: SettingWithCopyWarning: \n",
      "A value is trying to be set on a copy of a slice from a DataFrame.\n",
      "Try using .loc[row_indexer,col_indexer] = value instead\n",
      "\n",
      "See the caveats in the documentation: http://pandas.pydata.org/pandas-docs/stable/indexing.html#indexing-view-versus-copy\n",
      "  after removing the cwd from sys.path.\n"
     ]
    }
   ],
   "source": [
    "#将时间拆分成年月方便根据时间对商店的销售额进行分析\n",
    "basket_new2['year'] = basket_new2['SDATE'].dt.year          \n",
    "basket_new2['month'] = basket_new2['SDATE'].dt.month\n",
    "basket_new2['day']= basket_new2['SDATE'].values.astype('datetime64[D]')#方便后续的分析，新增加年份列和月份列"
   ]
  },
  {
   "cell_type": "code",
   "execution_count": 19,
   "metadata": {},
   "outputs": [
    {
     "data": {
      "text/html": [
       "<div>\n",
       "<style scoped>\n",
       "    .dataframe tbody tr th:only-of-type {\n",
       "        vertical-align: middle;\n",
       "    }\n",
       "\n",
       "    .dataframe tbody tr th {\n",
       "        vertical-align: top;\n",
       "    }\n",
       "\n",
       "    .dataframe thead th {\n",
       "        text-align: right;\n",
       "    }\n",
       "</style>\n",
       "<table border=\"1\" class=\"dataframe\">\n",
       "  <thead>\n",
       "    <tr style=\"text-align: right;\">\n",
       "      <th></th>\n",
       "      <th></th>\n",
       "      <th>BASK_SPEND</th>\n",
       "    </tr>\n",
       "    <tr>\n",
       "      <th>month</th>\n",
       "      <th>SDATE</th>\n",
       "      <th></th>\n",
       "    </tr>\n",
       "  </thead>\n",
       "  <tbody>\n",
       "    <tr>\n",
       "      <th rowspan=\"5\" valign=\"top\">6</th>\n",
       "      <th>2018-06-01</th>\n",
       "      <td>372014.79</td>\n",
       "    </tr>\n",
       "    <tr>\n",
       "      <th>2018-06-02</th>\n",
       "      <td>384824.51</td>\n",
       "    </tr>\n",
       "    <tr>\n",
       "      <th>2018-06-03</th>\n",
       "      <td>358051.25</td>\n",
       "    </tr>\n",
       "    <tr>\n",
       "      <th>2018-06-04</th>\n",
       "      <td>306442.13</td>\n",
       "    </tr>\n",
       "    <tr>\n",
       "      <th>2018-06-05</th>\n",
       "      <td>334589.50</td>\n",
       "    </tr>\n",
       "  </tbody>\n",
       "</table>\n",
       "</div>"
      ],
      "text/plain": [
       "                  BASK_SPEND\n",
       "month SDATE                 \n",
       "6     2018-06-01   372014.79\n",
       "      2018-06-02   384824.51\n",
       "      2018-06-03   358051.25\n",
       "      2018-06-04   306442.13\n",
       "      2018-06-05   334589.50"
      ]
     },
     "execution_count": 19,
     "metadata": {},
     "output_type": "execute_result"
    }
   ],
   "source": [
    "#按照年份、月份对销售子数据集进行分组求和\n",
    "sales_month = basket_new2[['SDATE','BASK_SPEND','month']]\n",
    "sales_month = sales_month.groupby(['month','SDATE']).sum()\n",
    "sales_month.head()"
   ]
  },
  {
   "cell_type": "code",
   "execution_count": 20,
   "metadata": {},
   "outputs": [
    {
     "data": {
      "text/html": [
       "<style  type=\"text/css\" >\n",
       "    #T_28923b5e_1766_11eb_b874_f4cc7a9759d5row0_col0 {\n",
       "            background-color:  #8eb3d5;\n",
       "            color:  #000000;\n",
       "        }    #T_28923b5e_1766_11eb_b874_f4cc7a9759d5row1_col0 {\n",
       "            background-color:  #7eadd1;\n",
       "            color:  #000000;\n",
       "        }    #T_28923b5e_1766_11eb_b874_f4cc7a9759d5row2_col0 {\n",
       "            background-color:  #a1bbda;\n",
       "            color:  #000000;\n",
       "        }    #T_28923b5e_1766_11eb_b874_f4cc7a9759d5row3_col0 {\n",
       "            background-color:  #d6d6e9;\n",
       "            color:  #000000;\n",
       "        }    #T_28923b5e_1766_11eb_b874_f4cc7a9759d5row4_col0 {\n",
       "            background-color:  #bbc7e0;\n",
       "            color:  #000000;\n",
       "        }    #T_28923b5e_1766_11eb_b874_f4cc7a9759d5row5_col0 {\n",
       "            background-color:  #d7d6e9;\n",
       "            color:  #000000;\n",
       "        }    #T_28923b5e_1766_11eb_b874_f4cc7a9759d5row6_col0 {\n",
       "            background-color:  #f0eaf4;\n",
       "            color:  #000000;\n",
       "        }    #T_28923b5e_1766_11eb_b874_f4cc7a9759d5row7_col0 {\n",
       "            background-color:  #cacee5;\n",
       "            color:  #000000;\n",
       "        }    #T_28923b5e_1766_11eb_b874_f4cc7a9759d5row8_col0 {\n",
       "            background-color:  #a2bcda;\n",
       "            color:  #000000;\n",
       "        }    #T_28923b5e_1766_11eb_b874_f4cc7a9759d5row9_col0 {\n",
       "            background-color:  #7dacd1;\n",
       "            color:  #000000;\n",
       "        }    #T_28923b5e_1766_11eb_b874_f4cc7a9759d5row10_col0 {\n",
       "            background-color:  #d9d8ea;\n",
       "            color:  #000000;\n",
       "        }    #T_28923b5e_1766_11eb_b874_f4cc7a9759d5row11_col0 {\n",
       "            background-color:  #d3d4e7;\n",
       "            color:  #000000;\n",
       "        }    #T_28923b5e_1766_11eb_b874_f4cc7a9759d5row12_col0 {\n",
       "            background-color:  #73a9cf;\n",
       "            color:  #000000;\n",
       "        }    #T_28923b5e_1766_11eb_b874_f4cc7a9759d5row13_col0 {\n",
       "            background-color:  #c5cce3;\n",
       "            color:  #000000;\n",
       "        }    #T_28923b5e_1766_11eb_b874_f4cc7a9759d5row14_col0 {\n",
       "            background-color:  #a2bcda;\n",
       "            color:  #000000;\n",
       "        }    #T_28923b5e_1766_11eb_b874_f4cc7a9759d5row15_col0 {\n",
       "            background-color:  #2081b9;\n",
       "            color:  #000000;\n",
       "        }    #T_28923b5e_1766_11eb_b874_f4cc7a9759d5row16_col0 {\n",
       "            background-color:  #023858;\n",
       "            color:  #f1f1f1;\n",
       "        }    #T_28923b5e_1766_11eb_b874_f4cc7a9759d5row17_col0 {\n",
       "            background-color:  #045d92;\n",
       "            color:  #f1f1f1;\n",
       "        }    #T_28923b5e_1766_11eb_b874_f4cc7a9759d5row18_col0 {\n",
       "            background-color:  #fff7fb;\n",
       "            color:  #000000;\n",
       "        }    #T_28923b5e_1766_11eb_b874_f4cc7a9759d5row19_col0 {\n",
       "            background-color:  #d2d2e7;\n",
       "            color:  #000000;\n",
       "        }    #T_28923b5e_1766_11eb_b874_f4cc7a9759d5row20_col0 {\n",
       "            background-color:  #e9e5f1;\n",
       "            color:  #000000;\n",
       "        }    #T_28923b5e_1766_11eb_b874_f4cc7a9759d5row21_col0 {\n",
       "            background-color:  #fcf4fa;\n",
       "            color:  #000000;\n",
       "        }    #T_28923b5e_1766_11eb_b874_f4cc7a9759d5row22_col0 {\n",
       "            background-color:  #b4c4df;\n",
       "            color:  #000000;\n",
       "        }    #T_28923b5e_1766_11eb_b874_f4cc7a9759d5row23_col0 {\n",
       "            background-color:  #d1d2e6;\n",
       "            color:  #000000;\n",
       "        }    #T_28923b5e_1766_11eb_b874_f4cc7a9759d5row24_col0 {\n",
       "            background-color:  #f0eaf4;\n",
       "            color:  #000000;\n",
       "        }    #T_28923b5e_1766_11eb_b874_f4cc7a9759d5row25_col0 {\n",
       "            background-color:  #f0eaf4;\n",
       "            color:  #000000;\n",
       "        }    #T_28923b5e_1766_11eb_b874_f4cc7a9759d5row26_col0 {\n",
       "            background-color:  #c5cce3;\n",
       "            color:  #000000;\n",
       "        }    #T_28923b5e_1766_11eb_b874_f4cc7a9759d5row27_col0 {\n",
       "            background-color:  #ede8f3;\n",
       "            color:  #000000;\n",
       "        }    #T_28923b5e_1766_11eb_b874_f4cc7a9759d5row28_col0 {\n",
       "            background-color:  #d3d4e7;\n",
       "            color:  #000000;\n",
       "        }    #T_28923b5e_1766_11eb_b874_f4cc7a9759d5row29_col0 {\n",
       "            background-color:  #8eb3d5;\n",
       "            color:  #000000;\n",
       "        }    #T_28923b5e_1766_11eb_b874_f4cc7a9759d5row30_col0 {\n",
       "            background-color:  #97b7d7;\n",
       "            color:  #000000;\n",
       "        }    #T_28923b5e_1766_11eb_b874_f4cc7a9759d5row31_col0 {\n",
       "            background-color:  #dbdaeb;\n",
       "            color:  #000000;\n",
       "        }    #T_28923b5e_1766_11eb_b874_f4cc7a9759d5row32_col0 {\n",
       "            background-color:  #cccfe5;\n",
       "            color:  #000000;\n",
       "        }    #T_28923b5e_1766_11eb_b874_f4cc7a9759d5row33_col0 {\n",
       "            background-color:  #c0c9e2;\n",
       "            color:  #000000;\n",
       "        }    #T_28923b5e_1766_11eb_b874_f4cc7a9759d5row34_col0 {\n",
       "            background-color:  #f0eaf4;\n",
       "            color:  #000000;\n",
       "        }</style><table id=\"T_28923b5e_1766_11eb_b874_f4cc7a9759d5\" ><thead>    <tr>        <th class=\"blank\" ></th>        <th class=\"blank level0\" ></th>        <th class=\"col_heading level0 col0\" >BASK_SPEND</th>    </tr>    <tr>        <th class=\"index_name level0\" >month</th>        <th class=\"index_name level1\" >day</th>        <th class=\"blank\" ></th>    </tr></thead><tbody>\n",
       "                <tr>\n",
       "                        <th id=\"T_28923b5e_1766_11eb_b874_f4cc7a9759d5level0_row0\" class=\"row_heading level0 row0\" rowspan=30>6</th>\n",
       "                        <th id=\"T_28923b5e_1766_11eb_b874_f4cc7a9759d5level1_row0\" class=\"row_heading level1 row0\" >2018-06-01 00:00:00</th>\n",
       "                        <td id=\"T_28923b5e_1766_11eb_b874_f4cc7a9759d5row0_col0\" class=\"data row0 col0\" >372015</td>\n",
       "            </tr>\n",
       "            <tr>\n",
       "                                <th id=\"T_28923b5e_1766_11eb_b874_f4cc7a9759d5level1_row1\" class=\"row_heading level1 row1\" >2018-06-02 00:00:00</th>\n",
       "                        <td id=\"T_28923b5e_1766_11eb_b874_f4cc7a9759d5row1_col0\" class=\"data row1 col0\" >384825</td>\n",
       "            </tr>\n",
       "            <tr>\n",
       "                                <th id=\"T_28923b5e_1766_11eb_b874_f4cc7a9759d5level1_row2\" class=\"row_heading level1 row2\" >2018-06-03 00:00:00</th>\n",
       "                        <td id=\"T_28923b5e_1766_11eb_b874_f4cc7a9759d5row2_col0\" class=\"data row2 col0\" >358051</td>\n",
       "            </tr>\n",
       "            <tr>\n",
       "                                <th id=\"T_28923b5e_1766_11eb_b874_f4cc7a9759d5level1_row3\" class=\"row_heading level1 row3\" >2018-06-04 00:00:00</th>\n",
       "                        <td id=\"T_28923b5e_1766_11eb_b874_f4cc7a9759d5row3_col0\" class=\"data row3 col0\" >306442</td>\n",
       "            </tr>\n",
       "            <tr>\n",
       "                                <th id=\"T_28923b5e_1766_11eb_b874_f4cc7a9759d5level1_row4\" class=\"row_heading level1 row4\" >2018-06-05 00:00:00</th>\n",
       "                        <td id=\"T_28923b5e_1766_11eb_b874_f4cc7a9759d5row4_col0\" class=\"data row4 col0\" >334589</td>\n",
       "            </tr>\n",
       "            <tr>\n",
       "                                <th id=\"T_28923b5e_1766_11eb_b874_f4cc7a9759d5level1_row5\" class=\"row_heading level1 row5\" >2018-06-06 00:00:00</th>\n",
       "                        <td id=\"T_28923b5e_1766_11eb_b874_f4cc7a9759d5row5_col0\" class=\"data row5 col0\" >305265</td>\n",
       "            </tr>\n",
       "            <tr>\n",
       "                                <th id=\"T_28923b5e_1766_11eb_b874_f4cc7a9759d5level1_row6\" class=\"row_heading level1 row6\" >2018-06-07 00:00:00</th>\n",
       "                        <td id=\"T_28923b5e_1766_11eb_b874_f4cc7a9759d5row6_col0\" class=\"data row6 col0\" >268824</td>\n",
       "            </tr>\n",
       "            <tr>\n",
       "                                <th id=\"T_28923b5e_1766_11eb_b874_f4cc7a9759d5level1_row7\" class=\"row_heading level1 row7\" >2018-06-08 00:00:00</th>\n",
       "                        <td id=\"T_28923b5e_1766_11eb_b874_f4cc7a9759d5row7_col0\" class=\"data row7 col0\" >319839</td>\n",
       "            </tr>\n",
       "            <tr>\n",
       "                                <th id=\"T_28923b5e_1766_11eb_b874_f4cc7a9759d5level1_row8\" class=\"row_heading level1 row8\" >2018-06-09 00:00:00</th>\n",
       "                        <td id=\"T_28923b5e_1766_11eb_b874_f4cc7a9759d5row8_col0\" class=\"data row8 col0\" >356284</td>\n",
       "            </tr>\n",
       "            <tr>\n",
       "                                <th id=\"T_28923b5e_1766_11eb_b874_f4cc7a9759d5level1_row9\" class=\"row_heading level1 row9\" >2018-06-10 00:00:00</th>\n",
       "                        <td id=\"T_28923b5e_1766_11eb_b874_f4cc7a9759d5row9_col0\" class=\"data row9 col0\" >385072</td>\n",
       "            </tr>\n",
       "            <tr>\n",
       "                                <th id=\"T_28923b5e_1766_11eb_b874_f4cc7a9759d5level1_row10\" class=\"row_heading level1 row10\" >2018-06-11 00:00:00</th>\n",
       "                        <td id=\"T_28923b5e_1766_11eb_b874_f4cc7a9759d5row10_col0\" class=\"data row10 col0\" >300950</td>\n",
       "            </tr>\n",
       "            <tr>\n",
       "                                <th id=\"T_28923b5e_1766_11eb_b874_f4cc7a9759d5level1_row11\" class=\"row_heading level1 row11\" >2018-06-12 00:00:00</th>\n",
       "                        <td id=\"T_28923b5e_1766_11eb_b874_f4cc7a9759d5row11_col0\" class=\"data row11 col0\" >310259</td>\n",
       "            </tr>\n",
       "            <tr>\n",
       "                                <th id=\"T_28923b5e_1766_11eb_b874_f4cc7a9759d5level1_row12\" class=\"row_heading level1 row12\" >2018-06-13 00:00:00</th>\n",
       "                        <td id=\"T_28923b5e_1766_11eb_b874_f4cc7a9759d5row12_col0\" class=\"data row12 col0\" >392957</td>\n",
       "            </tr>\n",
       "            <tr>\n",
       "                                <th id=\"T_28923b5e_1766_11eb_b874_f4cc7a9759d5level1_row13\" class=\"row_heading level1 row13\" >2018-06-14 00:00:00</th>\n",
       "                        <td id=\"T_28923b5e_1766_11eb_b874_f4cc7a9759d5row13_col0\" class=\"data row13 col0\" >324691</td>\n",
       "            </tr>\n",
       "            <tr>\n",
       "                                <th id=\"T_28923b5e_1766_11eb_b874_f4cc7a9759d5level1_row14\" class=\"row_heading level1 row14\" >2018-06-15 00:00:00</th>\n",
       "                        <td id=\"T_28923b5e_1766_11eb_b874_f4cc7a9759d5row14_col0\" class=\"data row14 col0\" >356383</td>\n",
       "            </tr>\n",
       "            <tr>\n",
       "                                <th id=\"T_28923b5e_1766_11eb_b874_f4cc7a9759d5level1_row15\" class=\"row_heading level1 row15\" >2018-06-16 00:00:00</th>\n",
       "                        <td id=\"T_28923b5e_1766_11eb_b874_f4cc7a9759d5row15_col0\" class=\"data row15 col0\" >449349</td>\n",
       "            </tr>\n",
       "            <tr>\n",
       "                                <th id=\"T_28923b5e_1766_11eb_b874_f4cc7a9759d5level1_row16\" class=\"row_heading level1 row16\" >2018-06-17 00:00:00</th>\n",
       "                        <td id=\"T_28923b5e_1766_11eb_b874_f4cc7a9759d5row16_col0\" class=\"data row16 col0\" >548640</td>\n",
       "            </tr>\n",
       "            <tr>\n",
       "                                <th id=\"T_28923b5e_1766_11eb_b874_f4cc7a9759d5level1_row17\" class=\"row_heading level1 row17\" >2018-06-18 00:00:00</th>\n",
       "                        <td id=\"T_28923b5e_1766_11eb_b874_f4cc7a9759d5row17_col0\" class=\"data row17 col0\" >503949</td>\n",
       "            </tr>\n",
       "            <tr>\n",
       "                                <th id=\"T_28923b5e_1766_11eb_b874_f4cc7a9759d5level1_row18\" class=\"row_heading level1 row18\" >2018-06-19 00:00:00</th>\n",
       "                        <td id=\"T_28923b5e_1766_11eb_b874_f4cc7a9759d5row18_col0\" class=\"data row18 col0\" >236092</td>\n",
       "            </tr>\n",
       "            <tr>\n",
       "                                <th id=\"T_28923b5e_1766_11eb_b874_f4cc7a9759d5level1_row19\" class=\"row_heading level1 row19\" >2018-06-20 00:00:00</th>\n",
       "                        <td id=\"T_28923b5e_1766_11eb_b874_f4cc7a9759d5row19_col0\" class=\"data row19 col0\" >312420</td>\n",
       "            </tr>\n",
       "            <tr>\n",
       "                                <th id=\"T_28923b5e_1766_11eb_b874_f4cc7a9759d5level1_row20\" class=\"row_heading level1 row20\" >2018-06-21 00:00:00</th>\n",
       "                        <td id=\"T_28923b5e_1766_11eb_b874_f4cc7a9759d5row20_col0\" class=\"data row20 col0\" >279151</td>\n",
       "            </tr>\n",
       "            <tr>\n",
       "                                <th id=\"T_28923b5e_1766_11eb_b874_f4cc7a9759d5level1_row21\" class=\"row_heading level1 row21\" >2018-06-22 00:00:00</th>\n",
       "                        <td id=\"T_28923b5e_1766_11eb_b874_f4cc7a9759d5row21_col0\" class=\"data row21 col0\" >243039</td>\n",
       "            </tr>\n",
       "            <tr>\n",
       "                                <th id=\"T_28923b5e_1766_11eb_b874_f4cc7a9759d5level1_row22\" class=\"row_heading level1 row22\" >2018-06-23 00:00:00</th>\n",
       "                        <td id=\"T_28923b5e_1766_11eb_b874_f4cc7a9759d5row22_col0\" class=\"data row22 col0\" >340109</td>\n",
       "            </tr>\n",
       "            <tr>\n",
       "                                <th id=\"T_28923b5e_1766_11eb_b874_f4cc7a9759d5level1_row23\" class=\"row_heading level1 row23\" >2018-06-24 00:00:00</th>\n",
       "                        <td id=\"T_28923b5e_1766_11eb_b874_f4cc7a9759d5row23_col0\" class=\"data row23 col0\" >314075</td>\n",
       "            </tr>\n",
       "            <tr>\n",
       "                                <th id=\"T_28923b5e_1766_11eb_b874_f4cc7a9759d5level1_row24\" class=\"row_heading level1 row24\" >2018-06-25 00:00:00</th>\n",
       "                        <td id=\"T_28923b5e_1766_11eb_b874_f4cc7a9759d5row24_col0\" class=\"data row24 col0\" >267268</td>\n",
       "            </tr>\n",
       "            <tr>\n",
       "                                <th id=\"T_28923b5e_1766_11eb_b874_f4cc7a9759d5level1_row25\" class=\"row_heading level1 row25\" >2018-06-26 00:00:00</th>\n",
       "                        <td id=\"T_28923b5e_1766_11eb_b874_f4cc7a9759d5row25_col0\" class=\"data row25 col0\" >267296</td>\n",
       "            </tr>\n",
       "            <tr>\n",
       "                                <th id=\"T_28923b5e_1766_11eb_b874_f4cc7a9759d5level1_row26\" class=\"row_heading level1 row26\" >2018-06-27 00:00:00</th>\n",
       "                        <td id=\"T_28923b5e_1766_11eb_b874_f4cc7a9759d5row26_col0\" class=\"data row26 col0\" >324225</td>\n",
       "            </tr>\n",
       "            <tr>\n",
       "                                <th id=\"T_28923b5e_1766_11eb_b874_f4cc7a9759d5level1_row27\" class=\"row_heading level1 row27\" >2018-06-28 00:00:00</th>\n",
       "                        <td id=\"T_28923b5e_1766_11eb_b874_f4cc7a9759d5row27_col0\" class=\"data row27 col0\" >273228</td>\n",
       "            </tr>\n",
       "            <tr>\n",
       "                                <th id=\"T_28923b5e_1766_11eb_b874_f4cc7a9759d5level1_row28\" class=\"row_heading level1 row28\" >2018-06-29 00:00:00</th>\n",
       "                        <td id=\"T_28923b5e_1766_11eb_b874_f4cc7a9759d5row28_col0\" class=\"data row28 col0\" >309493</td>\n",
       "            </tr>\n",
       "            <tr>\n",
       "                                <th id=\"T_28923b5e_1766_11eb_b874_f4cc7a9759d5level1_row29\" class=\"row_heading level1 row29\" >2018-06-30 00:00:00</th>\n",
       "                        <td id=\"T_28923b5e_1766_11eb_b874_f4cc7a9759d5row29_col0\" class=\"data row29 col0\" >371727</td>\n",
       "            </tr>\n",
       "            <tr>\n",
       "                        <th id=\"T_28923b5e_1766_11eb_b874_f4cc7a9759d5level0_row30\" class=\"row_heading level0 row30\" rowspan=5>7</th>\n",
       "                        <th id=\"T_28923b5e_1766_11eb_b874_f4cc7a9759d5level1_row30\" class=\"row_heading level1 row30\" >2018-07-01 00:00:00</th>\n",
       "                        <td id=\"T_28923b5e_1766_11eb_b874_f4cc7a9759d5row30_col0\" class=\"data row30 col0\" >365271</td>\n",
       "            </tr>\n",
       "            <tr>\n",
       "                                <th id=\"T_28923b5e_1766_11eb_b874_f4cc7a9759d5level1_row31\" class=\"row_heading level1 row31\" >2018-07-02 00:00:00</th>\n",
       "                        <td id=\"T_28923b5e_1766_11eb_b874_f4cc7a9759d5row31_col0\" class=\"data row31 col0\" >298560</td>\n",
       "            </tr>\n",
       "            <tr>\n",
       "                                <th id=\"T_28923b5e_1766_11eb_b874_f4cc7a9759d5level1_row32\" class=\"row_heading level1 row32\" >2018-07-03 00:00:00</th>\n",
       "                        <td id=\"T_28923b5e_1766_11eb_b874_f4cc7a9759d5row32_col0\" class=\"data row32 col0\" >318703</td>\n",
       "            </tr>\n",
       "            <tr>\n",
       "                                <th id=\"T_28923b5e_1766_11eb_b874_f4cc7a9759d5level1_row33\" class=\"row_heading level1 row33\" >2018-07-04 00:00:00</th>\n",
       "                        <td id=\"T_28923b5e_1766_11eb_b874_f4cc7a9759d5row33_col0\" class=\"data row33 col0\" >328976</td>\n",
       "            </tr>\n",
       "            <tr>\n",
       "                                <th id=\"T_28923b5e_1766_11eb_b874_f4cc7a9759d5level1_row34\" class=\"row_heading level1 row34\" >2018-07-05 00:00:00</th>\n",
       "                        <td id=\"T_28923b5e_1766_11eb_b874_f4cc7a9759d5row34_col0\" class=\"data row34 col0\" >269034</td>\n",
       "            </tr>\n",
       "    </tbody></table>"
      ],
      "text/plain": [
       "<pandas.io.formats.style.Styler at 0x23a825b23c8>"
      ]
     },
     "execution_count": 20,
     "metadata": {},
     "output_type": "execute_result"
    }
   ],
   "source": [
    "# 整体销售情况子数据集，包含下单日期、销售额、年份、月份信息\n",
    "sales_data = basket_new2[['SDATE','BASK_SPEND','month','day']]\n",
    "#按照年份、月份对销售子数据集进行分组求和\n",
    "sales_month = sales_data.groupby(['month','day']).sum()\n",
    "sales_month.style.background_gradient()# 颜色越深，销售额越高\n",
    "#按周六日呈周期性递增态势"
   ]
  },
  {
   "cell_type": "code",
   "execution_count": 21,
   "metadata": {},
   "outputs": [
    {
     "data": {
      "text/plain": [
       "<matplotlib.axes._subplots.AxesSubplot at 0x23a87459f60>"
      ]
     },
     "execution_count": 21,
     "metadata": {},
     "output_type": "execute_result"
    },
    {
     "data": {
      "image/png": "[encoded data removed]",
      "text/plain": [
       "<Figure size 1008x576 with 1 Axes>"
      ]
     },
     "metadata": {
      "needs_background": "light"
     },
     "output_type": "display_data"
    }
   ],
   "source": [
    "sales_month.plot(kind='bar',color=\"blue\",title=\"每日营业额\",figsize=(14,8))"
   ]
  },
  {
   "cell_type": "markdown",
   "metadata": {},
   "source": [
    "由上图可以看出2018年6月16日-2018年6月18日的销售额明显高于其他日期的销售额，并在6月17日这天销售额最高，经查阅日历发现，2018年6月16日-2018年6月18日为三天端午假期，并且6月18日为端午节，大家多会提前一天前往商场采购端午节家庭聚餐所需要的食材或者走亲访友的礼物。因此端午节前一天的销售总额最高。<br/>\n",
    "同时也可以观察出每日的销售总额呈现出一种7天为一个周期的波动态势，并且周六日的销售额明显攀升。<br/>\n",
    "因此，该超市应注意节假日的仓库货物存储情况，提前备好足够库存的产品，以应对节假日增高的购买量。"
   ]
  },
  {
   "cell_type": "code",
   "execution_count": 19,
   "metadata": {},
   "outputs": [
    {
     "data": {
      "text/plain": [
       "STORE_CODE\n",
       "A001               [6, 9, 3, 10, 2, 1, 5, 4]\n",
       "A004                               [2, 4, 1]\n",
       "A006                               [2, 4, 1]\n",
       "A007                               [1, 8, 2]\n",
       "A008                      [3, 1, 8, 2, 6, 4]\n",
       "A009                               [1, 2, 8]\n",
       "A010                               [2, 8, 3]\n",
       "A012                            [2, 3, 8, 1]\n",
       "A013                         [2, 8, 6, 4, 1]\n",
       "A016                               [1, 2, 3]\n",
       "A017                                  [1, 8]\n",
       "A018                               [1, 2, 4]\n",
       "A019                               [1, 2, 3]\n",
       "A021                            [2, 3, 4, 1]\n",
       "A022                                  [2, 1]\n",
       "D002    [4, 1, 5, 8, 6, 7, 2, 13, 20, 19, 9]\n",
       "D003                                  [2, 1]\n",
       "D004                               [1, 4, 2]\n",
       "D005                               [2, 3, 4]\n",
       "D006                               [3, 2, 1]\n",
       "D007                            [3, 1, 8, 4]\n",
       "D008                               [1, 4, 2]\n",
       "D009                               [3, 2, 1]\n",
       "D010                                  [3, 1]\n",
       "Name: POS_NO, dtype: object"
      ]
     },
     "execution_count": 19,
     "metadata": {},
     "output_type": "execute_result"
    }
   ],
   "source": [
    "# 统计每个商店的pos机\n",
    "S_pos =basket_new2.groupby(by=\"STORE_CODE\")\n",
    "Shop_pos = S_pos[\"POS_NO\"]\n",
    "Shop_pos.unique()"
   ]
  },
  {
   "cell_type": "code",
   "execution_count": 20,
   "metadata": {},
   "outputs": [],
   "source": [
    "#统计商品的种类\n",
    "Shop_code = basket_new2[\"BASK_CODE\"].count()"
   ]
  },
  {
   "cell_type": "markdown",
   "metadata": {},
   "source": [
    "### 3.2顾客分析"
   ]
  },
  {
   "cell_type": "markdown",
   "metadata": {},
   "source": [
    "顾客消费区间分析"
   ]
  },
  {
   "cell_type": "code",
   "execution_count": 24,
   "metadata": {},
   "outputs": [
    {
     "data": {
      "image/png": "[encoded data removed]",
      "text/plain": [
       "<Figure size 432x288 with 1 Axes>"
      ]
     },
     "metadata": {
      "needs_background": "light"
     },
     "output_type": "display_data"
    }
   ],
   "source": [
    "plt.hist(x = basket_new2.BASK_SPEND, # 指定绘图数据\n",
    "          bins = 5, # 指定直方图中条块的个数\n",
    "         color = 'steelblue', # 指定直方图的填充色\n",
    "         edgecolor = 'black' # 指定直方图的边框色          \n",
    "        )\n",
    "# 添加x轴和y轴标签\n",
    "plt.xlabel('BASK_SPEND')\n",
    "plt.ylabel('Number')\n",
    "\n",
    "plt.title('BASK_SPEND distribution')\n",
    " # 显示图形\n",
    "plt.show()"
   ]
  },
  {
   "cell_type": "markdown",
   "metadata": {},
   "source": [
    "由单笔订单金额的频数分布直方图可以观察到：单笔消费20元以内的订单数最多，即该超市的消费客户主要以购买小型商品为主，并且喜欢进行少量多次的消费。<br/>\n",
    "因此可以分析得到顾客前往此商店的目的多是进行应急物品的购买，商店应选择应急物品为主要销售内容。"
   ]
  },
  {
   "cell_type": "markdown",
   "metadata": {},
   "source": [
    "### 3.3产品分析"
   ]
  },
  {
   "cell_type": "code",
   "execution_count": 21,
   "metadata": {},
   "outputs": [
    {
     "name": "stderr",
     "output_type": "stream",
     "text": [
      "D:\\Anaconda3\\lib\\site-packages\\ipykernel_launcher.py:1: SettingWithCopyWarning: \n",
      "A value is trying to be set on a copy of a slice from a DataFrame.\n",
      "Try using .loc[row_indexer,col_indexer] = value instead\n",
      "\n",
      "See the caveats in the documentation: http://pandas.pydata.org/pandas-docs/stable/indexing.html#indexing-view-versus-copy\n",
      "  \"\"\"Entry point for launching an IPython kernel.\n",
      "D:\\Anaconda3\\lib\\site-packages\\ipykernel_launcher.py:2: SettingWithCopyWarning: \n",
      "A value is trying to be set on a copy of a slice from a DataFrame.\n",
      "Try using .loc[row_indexer,col_indexer] = value instead\n",
      "\n",
      "See the caveats in the documentation: http://pandas.pydata.org/pandas-docs/stable/indexing.html#indexing-view-versus-copy\n",
      "  \n",
      "D:\\Anaconda3\\lib\\site-packages\\ipykernel_launcher.py:3: SettingWithCopyWarning: \n",
      "A value is trying to be set on a copy of a slice from a DataFrame.\n",
      "Try using .loc[row_indexer,col_indexer] = value instead\n",
      "\n",
      "See the caveats in the documentation: http://pandas.pydata.org/pandas-docs/stable/indexing.html#indexing-view-versus-copy\n",
      "  This is separate from the ipykernel package so we can avoid doing imports until\n"
     ]
    }
   ],
   "source": [
    "item_new2['year'] = item_new2['SDATE'].dt.year          \n",
    "item_new2['month'] = item_new2['SDATE'].dt.month\n",
    "item_new2['day']= item_new2['SDATE'].values.astype('datetime64[D]')#方便后续的分析，新增加年份列和月份列"
   ]
  },
  {
   "cell_type": "code",
   "execution_count": 22,
   "metadata": {},
   "outputs": [
    {
     "data": {
      "text/html": [
       "<div>\n",
       "<style scoped>\n",
       "    .dataframe tbody tr th:only-of-type {\n",
       "        vertical-align: middle;\n",
       "    }\n",
       "\n",
       "    .dataframe tbody tr th {\n",
       "        vertical-align: top;\n",
       "    }\n",
       "\n",
       "    .dataframe thead th {\n",
       "        text-align: right;\n",
       "    }\n",
       "</style>\n",
       "<table border=\"1\" class=\"dataframe\">\n",
       "  <thead>\n",
       "    <tr style=\"text-align: right;\">\n",
       "      <th></th>\n",
       "      <th>PROD_CODE</th>\n",
       "      <th>ITEM_QUANTITY</th>\n",
       "    </tr>\n",
       "  </thead>\n",
       "  <tbody>\n",
       "    <tr>\n",
       "      <th>8527</th>\n",
       "      <td>149413</td>\n",
       "      <td>37718.000</td>\n",
       "    </tr>\n",
       "    <tr>\n",
       "      <th>5316</th>\n",
       "      <td>86772</td>\n",
       "      <td>28661.000</td>\n",
       "    </tr>\n",
       "    <tr>\n",
       "      <th>17199</th>\n",
       "      <td>220834</td>\n",
       "      <td>24139.000</td>\n",
       "    </tr>\n",
       "    <tr>\n",
       "      <th>1478</th>\n",
       "      <td>7133</td>\n",
       "      <td>21673.000</td>\n",
       "    </tr>\n",
       "    <tr>\n",
       "      <th>3883</th>\n",
       "      <td>61623</td>\n",
       "      <td>21318.000</td>\n",
       "    </tr>\n",
       "    <tr>\n",
       "      <th>7131</th>\n",
       "      <td>124556</td>\n",
       "      <td>18775.000</td>\n",
       "    </tr>\n",
       "    <tr>\n",
       "      <th>12010</th>\n",
       "      <td>194690</td>\n",
       "      <td>18119.336</td>\n",
       "    </tr>\n",
       "    <tr>\n",
       "      <th>301</th>\n",
       "      <td>1152</td>\n",
       "      <td>17679.000</td>\n",
       "    </tr>\n",
       "    <tr>\n",
       "      <th>7129</th>\n",
       "      <td>124554</td>\n",
       "      <td>15717.000</td>\n",
       "    </tr>\n",
       "    <tr>\n",
       "      <th>1480</th>\n",
       "      <td>7137</td>\n",
       "      <td>15284.000</td>\n",
       "    </tr>\n",
       "  </tbody>\n",
       "</table>\n",
       "</div>"
      ],
      "text/plain": [
       "       PROD_CODE  ITEM_QUANTITY\n",
       "8527      149413      37718.000\n",
       "5316       86772      28661.000\n",
       "17199     220834      24139.000\n",
       "1478        7133      21673.000\n",
       "3883       61623      21318.000\n",
       "7131      124556      18775.000\n",
       "12010     194690      18119.336\n",
       "301         1152      17679.000\n",
       "7129      124554      15717.000\n",
       "1480        7137      15284.000"
      ]
     },
     "execution_count": 22,
     "metadata": {},
     "output_type": "execute_result"
    }
   ],
   "source": [
    "#按商品货号分组，对商品数量进行求和，从大到小进行排序，得到销售量前十的商品\n",
    "a=item_new2.groupby('PROD_CODE')['ITEM_QUANTITY'].sum().reset_index().sort_values(by = 'ITEM_QUANTITY',ascending = False)#商店按消费额大小排序\n",
    "a.head(10)"
   ]
  },
  {
   "cell_type": "code",
   "execution_count": 39,
   "metadata": {},
   "outputs": [
    {
     "name": "stderr",
     "output_type": "stream",
     "text": [
      "D:\\Anaconda3\\lib\\site-packages\\ipykernel_launcher.py:2: SettingWithCopyWarning: \n",
      "A value is trying to be set on a copy of a slice from a DataFrame.\n",
      "Try using .loc[row_indexer,col_indexer] = value instead\n",
      "\n",
      "See the caveats in the documentation: http://pandas.pydata.org/pandas-docs/stable/indexing.html#indexing-view-versus-copy\n",
      "  \n"
     ]
    },
    {
     "data": {
      "text/plain": [
       "PROD_CODE\n",
       "220834    6.570246e+07\n",
       "149413    5.511544e+07\n",
       "7137      5.361133e+07\n",
       "101421    4.113461e+07\n",
       "11929     3.062564e+07\n",
       "7133      2.570728e+07\n",
       "220320    1.659394e+07\n",
       "199639    1.496307e+07\n",
       "1157      1.232104e+07\n",
       "199628    1.165345e+07\n",
       "Name: sales, dtype: float64"
      ]
     },
     "execution_count": 39,
     "metadata": {},
     "output_type": "execute_result"
    }
   ],
   "source": [
    "#按商品货号分组，对销售金额进行求和，从大到小进行排序，得到交易额前十的商品\n",
    "item_new2['sales'] = item_new2['ITEM_QUANTITY']*item_new2['ITEM_SPEND']\n",
    "b=item_new2.groupby('PROD_CODE')['sales'].sum().sort_values(ascending=False)\n",
    "b.head(10)"
   ]
  },
  {
   "cell_type": "markdown",
   "metadata": {},
   "source": [
    "客单价，即平均交易金额，是指平均每个客户交易金额，客单价等于成交金额/成交用户数。\n",
    "销售额是由客单价和用户数所决定的，要提升产品的销售额，除了尽可能多地吸引客流，增加顾客交易次数以外，提高客单价也是非常重要的途径。"
   ]
  },
  {
   "cell_type": "code",
   "execution_count": 40,
   "metadata": {},
   "outputs": [
    {
     "name": "stdout",
     "output_type": "stream",
     "text": [
      "319.065685439069\n"
     ]
    }
   ],
   "source": [
    "sumPrice=item_new2['sales'].sum()\n",
    "countID=item_new2['SDATE'].count()\n",
    "avgPrice = sumPrice/countID\n",
    "print(avgPrice)"
   ]
  },
  {
   "cell_type": "code",
   "execution_count": 25,
   "metadata": {},
   "outputs": [
    {
     "data": {
      "text/html": [
       "<div>\n",
       "<style scoped>\n",
       "    .dataframe tbody tr th:only-of-type {\n",
       "        vertical-align: middle;\n",
       "    }\n",
       "\n",
       "    .dataframe tbody tr th {\n",
       "        vertical-align: top;\n",
       "    }\n",
       "\n",
       "    .dataframe thead th {\n",
       "        text-align: right;\n",
       "    }\n",
       "</style>\n",
       "<table border=\"1\" class=\"dataframe\">\n",
       "  <thead>\n",
       "    <tr style=\"text-align: right;\">\n",
       "      <th></th>\n",
       "      <th>DISCOUNT_TYPE</th>\n",
       "      <th>ITEM_SPEND</th>\n",
       "    </tr>\n",
       "  </thead>\n",
       "  <tbody>\n",
       "    <tr>\n",
       "      <th>3</th>\n",
       "      <td>n</td>\n",
       "      <td>1.370020e+07</td>\n",
       "    </tr>\n",
       "    <tr>\n",
       "      <th>4</th>\n",
       "      <td>p</td>\n",
       "      <td>4.992203e+06</td>\n",
       "    </tr>\n",
       "    <tr>\n",
       "      <th>2</th>\n",
       "      <td>m</td>\n",
       "      <td>1.954608e+06</td>\n",
       "    </tr>\n",
       "    <tr>\n",
       "      <th>7</th>\n",
       "      <td>v</td>\n",
       "      <td>1.910762e+05</td>\n",
       "    </tr>\n",
       "    <tr>\n",
       "      <th>8</th>\n",
       "      <td>x</td>\n",
       "      <td>9.161940e+04</td>\n",
       "    </tr>\n",
       "    <tr>\n",
       "      <th>5</th>\n",
       "      <td>q</td>\n",
       "      <td>4.618240e+04</td>\n",
       "    </tr>\n",
       "    <tr>\n",
       "      <th>0</th>\n",
       "      <td>Z</td>\n",
       "      <td>2.479515e+04</td>\n",
       "    </tr>\n",
       "    <tr>\n",
       "      <th>6</th>\n",
       "      <td>s</td>\n",
       "      <td>9.228600e+02</td>\n",
       "    </tr>\n",
       "    <tr>\n",
       "      <th>1</th>\n",
       "      <td>h</td>\n",
       "      <td>2.150000e+01</td>\n",
       "    </tr>\n",
       "  </tbody>\n",
       "</table>\n",
       "</div>"
      ],
      "text/plain": [
       "  DISCOUNT_TYPE    ITEM_SPEND\n",
       "3             n  1.370020e+07\n",
       "4             p  4.992203e+06\n",
       "2             m  1.954608e+06\n",
       "7             v  1.910762e+05\n",
       "8             x  9.161940e+04\n",
       "5             q  4.618240e+04\n",
       "0             Z  2.479515e+04\n",
       "6             s  9.228600e+02\n",
       "1             h  2.150000e+01"
      ]
     },
     "execution_count": 25,
     "metadata": {},
     "output_type": "execute_result"
    }
   ],
   "source": [
    "c=item_new2.groupby('DISCOUNT_TYPE')['ITEM_SPEND'].sum().reset_index().sort_values(by = 'ITEM_SPEND',ascending = False)#销售量按照折扣进行分组并进行大小排序\n",
    "c"
   ]
  },
  {
   "cell_type": "code",
   "execution_count": 26,
   "metadata": {},
   "outputs": [
    {
     "data": {
      "text/html": [
       "<div>\n",
       "<style scoped>\n",
       "    .dataframe tbody tr th:only-of-type {\n",
       "        vertical-align: middle;\n",
       "    }\n",
       "\n",
       "    .dataframe tbody tr th {\n",
       "        vertical-align: top;\n",
       "    }\n",
       "\n",
       "    .dataframe thead th {\n",
       "        text-align: right;\n",
       "    }\n",
       "</style>\n",
       "<table border=\"1\" class=\"dataframe\">\n",
       "  <thead>\n",
       "    <tr style=\"text-align: right;\">\n",
       "      <th></th>\n",
       "      <th>DISCOUNT_TYPE</th>\n",
       "      <th>ITEM_QUANTITY</th>\n",
       "    </tr>\n",
       "  </thead>\n",
       "  <tbody>\n",
       "    <tr>\n",
       "      <th>3</th>\n",
       "      <td>n</td>\n",
       "      <td>1496483.291</td>\n",
       "    </tr>\n",
       "    <tr>\n",
       "      <th>4</th>\n",
       "      <td>p</td>\n",
       "      <td>462191.611</td>\n",
       "    </tr>\n",
       "    <tr>\n",
       "      <th>2</th>\n",
       "      <td>m</td>\n",
       "      <td>265343.962</td>\n",
       "    </tr>\n",
       "    <tr>\n",
       "      <th>7</th>\n",
       "      <td>v</td>\n",
       "      <td>13264.000</td>\n",
       "    </tr>\n",
       "    <tr>\n",
       "      <th>8</th>\n",
       "      <td>x</td>\n",
       "      <td>9687.000</td>\n",
       "    </tr>\n",
       "    <tr>\n",
       "      <th>0</th>\n",
       "      <td>Z</td>\n",
       "      <td>2164.472</td>\n",
       "    </tr>\n",
       "    <tr>\n",
       "      <th>5</th>\n",
       "      <td>q</td>\n",
       "      <td>1122.000</td>\n",
       "    </tr>\n",
       "    <tr>\n",
       "      <th>6</th>\n",
       "      <td>s</td>\n",
       "      <td>224.506</td>\n",
       "    </tr>\n",
       "    <tr>\n",
       "      <th>1</th>\n",
       "      <td>h</td>\n",
       "      <td>1.000</td>\n",
       "    </tr>\n",
       "  </tbody>\n",
       "</table>\n",
       "</div>"
      ],
      "text/plain": [
       "  DISCOUNT_TYPE  ITEM_QUANTITY\n",
       "3             n    1496483.291\n",
       "4             p     462191.611\n",
       "2             m     265343.962\n",
       "7             v      13264.000\n",
       "8             x       9687.000\n",
       "0             Z       2164.472\n",
       "5             q       1122.000\n",
       "6             s        224.506\n",
       "1             h          1.000"
      ]
     },
     "execution_count": 26,
     "metadata": {},
     "output_type": "execute_result"
    }
   ],
   "source": [
    "d=item_new2.groupby('DISCOUNT_TYPE')['ITEM_QUANTITY'].sum().reset_index().sort_values(by = 'ITEM_QUANTITY',ascending = False)#销售量按照折扣进行分组并进行大小排序\n",
    "d"
   ]
  },
  {
   "cell_type": "code",
   "execution_count": 27,
   "metadata": {},
   "outputs": [],
   "source": [
    "grouped_Customer = item_new2[['BASK_CODE','SDATE', 'ITEM_QUANTITY', 'sales', 'month']].sort_values(['SDATE']).groupby('BASK_CODE')"
   ]
  },
  {
   "cell_type": "markdown",
   "metadata": {},
   "source": [
    "用户的第一次购买日期分布"
   ]
  },
  {
   "cell_type": "code",
   "execution_count": 28,
   "metadata": {},
   "outputs": [
    {
     "data": {
      "text/plain": [
       "<matplotlib.axes._subplots.AxesSubplot at 0x22c0116cdd8>"
      ]
     },
     "execution_count": 28,
     "metadata": {},
     "output_type": "execute_result"
    },
    {
     "data": {
      "image/png": "[encoded data removed]",
      "text/plain": [
       "<Figure size 432x288 with 1 Axes>"
      ]
     },
     "metadata": {
      "needs_background": "light"
     },
     "output_type": "display_data"
    }
   ],
   "source": [
    "grouped_Customer.min().SDATE.value_counts().plot()   #用户的第一次购买日期分布，可以看出在7月之后用户增长缓慢"
   ]
  },
  {
   "cell_type": "markdown",
   "metadata": {},
   "source": [
    "用户最后一次购买日期分布"
   ]
  },
  {
   "cell_type": "code",
   "execution_count": 29,
   "metadata": {},
   "outputs": [
    {
     "data": {
      "text/plain": [
       "<matplotlib.axes._subplots.AxesSubplot at 0x22c01296908>"
      ]
     },
     "execution_count": 29,
     "metadata": {},
     "output_type": "execute_result"
    },
    {
     "data": {
      "image/png": "[encoded data removed]",
      "text/plain": [
       "<Figure size 432x288 with 1 Axes>"
      ]
     },
     "metadata": {
      "needs_background": "light"
     },
     "output_type": "display_data"
    }
   ],
   "source": [
    "grouped_Customer.max().SDATE.value_counts().plot()   #用户最后一次购买日期分布,发现用户基本没有流失，也验证了每年销售额的增长趋势"
   ]
  },
  {
   "cell_type": "markdown",
   "metadata": {},
   "source": [
    "用户第一次购买的时间多集中在6月的上半月，最后一次购买时间多集中与7月份，因此该超市的顾客多为回头客。因此应注重服务质量以及控制零售品价格，以达到挽留更多老顾客的目的。"
   ]
  },
  {
   "cell_type": "markdown",
   "metadata": {},
   "source": [
    "新老客户占比"
   ]
  },
  {
   "cell_type": "code",
   "execution_count": 30,
   "metadata": {},
   "outputs": [
    {
     "data": {
      "text/plain": [
       "False    169532\n",
       "True     111282\n",
       "dtype: int64"
      ]
     },
     "execution_count": 30,
     "metadata": {},
     "output_type": "execute_result"
    }
   ],
   "source": [
    "# 统计每个客户第一次和最后一次购买记录\n",
    "Customer_life = grouped_Customer.SDATE.agg(['min','max'])\n",
    "# 查看只有一次购买记录的顾客数量，第一次和最后一次是同一条记录，则说明购买只有一次(这里将一个购物篮看做一个顾客)\n",
    "(Customer_life['min'] == Customer_life['max']).value_counts()"
   ]
  },
  {
   "cell_type": "code",
   "execution_count": 31,
   "metadata": {},
   "outputs": [
    {
     "data": {
      "text/plain": [
       "([<matplotlib.patches.Wedge at 0x22c075492b0>,\n",
       "  <matplotlib.patches.Wedge at 0x22c075499b0>],\n",
       " [Text(-0.35210934383272846, 1.042122358452061, 'False'),\n",
       "  Text(0.35210924626219015, -1.0421223914189122, 'True')],\n",
       " [Text(-0.19205964209057913, 0.5684303773374877, '60.37%'),\n",
       "  Text(0.1920595888702855, -0.5684303953194066, '39.63%')])"
      ]
     },
     "execution_count": 31,
     "metadata": {},
     "output_type": "execute_result"
    },
    {
     "data": {
      "image/png": "[encoded data removed]",
      "text/plain": [
       "<Figure size 432x288 with 1 Axes>"
      ]
     },
     "metadata": {},
     "output_type": "display_data"
    }
   ],
   "source": [
    "plt.pie((Customer_life['min'] == Customer_life['max']).value_counts(normalize = True),\n",
    "       autopct='%.2f%%',\n",
    "       labels = (Customer_life['min'] == Customer_life['max']).value_counts().index)"
   ]
  },
  {
   "cell_type": "markdown",
   "metadata": {},
   "source": [
    "### 3.4RFM模型分析"
   ]
  },
  {
   "cell_type": "markdown",
   "metadata": {},
   "source": [
    "R是指用户的最近一次消费时间，这个指标与用户流失和复购直接相关"
   ]
  },
  {
   "cell_type": "markdown",
   "metadata": {},
   "source": [
    "F是指用户下单频率，反应用户的消费活跃度"
   ]
  },
  {
   "cell_type": "markdown",
   "metadata": {},
   "source": [
    "M是用户消费金额，反应用户对商店贡献的价值"
   ]
  },
  {
   "cell_type": "markdown",
   "metadata": {},
   "source": [
    "（1）构建RFM表"
   ]
  },
  {
   "cell_type": "code",
   "execution_count": 32,
   "metadata": {},
   "outputs": [
    {
     "data": {
      "text/html": [
       "<div>\n",
       "<style scoped>\n",
       "    .dataframe tbody tr th:only-of-type {\n",
       "        vertical-align: middle;\n",
       "    }\n",
       "\n",
       "    .dataframe tbody tr th {\n",
       "        vertical-align: top;\n",
       "    }\n",
       "\n",
       "    .dataframe thead th {\n",
       "        text-align: right;\n",
       "    }\n",
       "</style>\n",
       "<table border=\"1\" class=\"dataframe\">\n",
       "  <thead>\n",
       "    <tr style=\"text-align: right;\">\n",
       "      <th></th>\n",
       "      <th>F</th>\n",
       "      <th>SDATE</th>\n",
       "      <th>M</th>\n",
       "      <th>R</th>\n",
       "    </tr>\n",
       "    <tr>\n",
       "      <th>BASK_CODE</th>\n",
       "      <th></th>\n",
       "      <th></th>\n",
       "      <th></th>\n",
       "      <th></th>\n",
       "    </tr>\n",
       "  </thead>\n",
       "  <tbody>\n",
       "    <tr>\n",
       "      <th>961</th>\n",
       "      <td>1.0</td>\n",
       "      <td>2018-06-18</td>\n",
       "      <td>25.0</td>\n",
       "      <td>17.0</td>\n",
       "    </tr>\n",
       "    <tr>\n",
       "      <th>962</th>\n",
       "      <td>11.0</td>\n",
       "      <td>2018-06-18</td>\n",
       "      <td>132.1</td>\n",
       "      <td>17.0</td>\n",
       "    </tr>\n",
       "    <tr>\n",
       "      <th>964</th>\n",
       "      <td>1.0</td>\n",
       "      <td>2018-06-18</td>\n",
       "      <td>14.0</td>\n",
       "      <td>17.0</td>\n",
       "    </tr>\n",
       "    <tr>\n",
       "      <th>965</th>\n",
       "      <td>1.0</td>\n",
       "      <td>2018-06-18</td>\n",
       "      <td>20.0</td>\n",
       "      <td>17.0</td>\n",
       "    </tr>\n",
       "    <tr>\n",
       "      <th>966</th>\n",
       "      <td>1.0</td>\n",
       "      <td>2018-06-18</td>\n",
       "      <td>12.5</td>\n",
       "      <td>17.0</td>\n",
       "    </tr>\n",
       "  </tbody>\n",
       "</table>\n",
       "</div>"
      ],
      "text/plain": [
       "              F      SDATE      M     R\n",
       "BASK_CODE                              \n",
       "961         1.0 2018-06-18   25.0  17.0\n",
       "962        11.0 2018-06-18  132.1  17.0\n",
       "964         1.0 2018-06-18   14.0  17.0\n",
       "965         1.0 2018-06-18   20.0  17.0\n",
       "966         1.0 2018-06-18   12.5  17.0"
      ]
     },
     "execution_count": 32,
     "metadata": {},
     "output_type": "execute_result"
    }
   ],
   "source": [
    "rfm = item_new2.pivot_table(index='BASK_CODE',\n",
    "                            values = [\"ITEM_QUANTITY\",\"sales\",\"SDATE\"],\n",
    "                            aggfunc={\"ITEM_QUANTITY\":\"sum\",\"sales\":\"sum\",\"SDATE\":\"max\"})\n",
    "\n",
    "# 所有用户最大的交易日期为标准，求每笔交易的时间间隔即为R\n",
    "rfm['R'] = (rfm.SDATE.max() - rfm.SDATE)/np.timedelta64(1,'D')\n",
    "# 每个客户的总销量即为F，总销售额即为M\n",
    "rfm.rename(columns={'ITEM_QUANTITY':'F','sales':'M'},inplace = True)\n",
    "rfm.head()"
   ]
  },
  {
   "cell_type": "markdown",
   "metadata": {},
   "source": [
    "（2）对客户价值进行标注，将客户分为8个等级"
   ]
  },
  {
   "cell_type": "code",
   "execution_count": 33,
   "metadata": {},
   "outputs": [
    {
     "data": {
      "text/html": [
       "<div>\n",
       "<style scoped>\n",
       "    .dataframe tbody tr th:only-of-type {\n",
       "        vertical-align: middle;\n",
       "    }\n",
       "\n",
       "    .dataframe tbody tr th {\n",
       "        vertical-align: top;\n",
       "    }\n",
       "\n",
       "    .dataframe thead th {\n",
       "        text-align: right;\n",
       "    }\n",
       "</style>\n",
       "<table border=\"1\" class=\"dataframe\">\n",
       "  <thead>\n",
       "    <tr style=\"text-align: right;\">\n",
       "      <th></th>\n",
       "      <th>F</th>\n",
       "      <th>SDATE</th>\n",
       "      <th>M</th>\n",
       "      <th>R</th>\n",
       "      <th>label</th>\n",
       "    </tr>\n",
       "    <tr>\n",
       "      <th>BASK_CODE</th>\n",
       "      <th></th>\n",
       "      <th></th>\n",
       "      <th></th>\n",
       "      <th></th>\n",
       "      <th></th>\n",
       "    </tr>\n",
       "  </thead>\n",
       "  <tbody>\n",
       "    <tr>\n",
       "      <th>961</th>\n",
       "      <td>1.0</td>\n",
       "      <td>2018-06-18</td>\n",
       "      <td>25.0</td>\n",
       "      <td>17.0</td>\n",
       "      <td>一般挽留客户</td>\n",
       "    </tr>\n",
       "    <tr>\n",
       "      <th>962</th>\n",
       "      <td>11.0</td>\n",
       "      <td>2018-06-18</td>\n",
       "      <td>132.1</td>\n",
       "      <td>17.0</td>\n",
       "      <td>重要价值客户</td>\n",
       "    </tr>\n",
       "    <tr>\n",
       "      <th>964</th>\n",
       "      <td>1.0</td>\n",
       "      <td>2018-06-18</td>\n",
       "      <td>14.0</td>\n",
       "      <td>17.0</td>\n",
       "      <td>一般挽留客户</td>\n",
       "    </tr>\n",
       "    <tr>\n",
       "      <th>965</th>\n",
       "      <td>1.0</td>\n",
       "      <td>2018-06-18</td>\n",
       "      <td>20.0</td>\n",
       "      <td>17.0</td>\n",
       "      <td>一般挽留客户</td>\n",
       "    </tr>\n",
       "    <tr>\n",
       "      <th>966</th>\n",
       "      <td>1.0</td>\n",
       "      <td>2018-06-18</td>\n",
       "      <td>12.5</td>\n",
       "      <td>17.0</td>\n",
       "      <td>一般挽留客户</td>\n",
       "    </tr>\n",
       "  </tbody>\n",
       "</table>\n",
       "</div>"
      ],
      "text/plain": [
       "              F      SDATE      M     R   label\n",
       "BASK_CODE                                      \n",
       "961         1.0 2018-06-18   25.0  17.0  一般挽留客户\n",
       "962        11.0 2018-06-18  132.1  17.0  重要价值客户\n",
       "964         1.0 2018-06-18   14.0  17.0  一般挽留客户\n",
       "965         1.0 2018-06-18   20.0  17.0  一般挽留客户\n",
       "966         1.0 2018-06-18   12.5  17.0  一般挽留客户"
      ]
     },
     "execution_count": 33,
     "metadata": {},
     "output_type": "execute_result"
    }
   ],
   "source": [
    "# 基于平均值做比较，超过均值为1，否则为0\n",
    "rfm[['R','F','M']].apply(lambda x:x-x.mean())\n",
    "\n",
    "def rfm_func(x):\n",
    "    level =x.apply(lambda x:'1'if x>0 else '0')\n",
    "    level =level.R +level.F +level.M\n",
    "    d = {\n",
    "        \"111\":\"重要价值客户\",\n",
    "        \"011\":\"重要保持客户\",\n",
    "        \"101\":\"重要挽留客户\",\n",
    "        \"001\":\"重要发展客户\",\n",
    "        \"110\":\"一般价值客户\",\n",
    "        \"010\":\"一般保持客户\",\n",
    "        \"100\":\"一般挽留客户\",\n",
    "        \"000\":\"一般发展客户\"\n",
    "    }\n",
    "    result = d[level]\n",
    "    return result\n",
    "\n",
    "rfm['label']= rfm[['R','F','M']].apply(lambda x:x-x.mean()).apply(rfm_func,axis =1)\n",
    "rfm.head()"
   ]
  },
  {
   "cell_type": "markdown",
   "metadata": {},
   "source": [
    "（3）重要价值客户和非重要价值客户进行可视化展示"
   ]
  },
  {
   "cell_type": "code",
   "execution_count": 34,
   "metadata": {},
   "outputs": [
    {
     "data": {
      "text/plain": [
       "<matplotlib.axes._subplots.AxesSubplot at 0x22c075550b8>"
      ]
     },
     "execution_count": 34,
     "metadata": {},
     "output_type": "execute_result"
    },
    {
     "data": {
      "image/png": "[encoded data removed]",
      "text/plain": [
       "<Figure size 432x288 with 1 Axes>"
      ]
     },
     "metadata": {
      "needs_background": "light"
     },
     "output_type": "display_data"
    }
   ],
   "source": [
    "rfm.loc[rfm.label=='重要价值客户','color']='g'\n",
    "rfm.loc[~(rfm.label=='重要价值客户'),'color']='r'\n",
    "rfm.plot.scatter('F','R',c= rfm.color)       #从图中可以看出交易频率很高"
   ]
  },
  {
   "cell_type": "code",
   "execution_count": null,
   "metadata": {},
   "outputs": [],
   "source": []
  },
  {
   "cell_type": "code",
   "execution_count": null,
   "metadata": {},
   "outputs": [],
   "source": []
  }
 ],
 "metadata": {
  "kernelspec": {
   "display_name": "Python 3",
   "language": "python",
   "name": "python3"
  },
  "language_info": {
   "codemirror_mode": {
    "name": "ipython",
    "version": 3
   },
   "file_extension": ".py",
   "mimetype": "text/x-python",
   "name": "python",
   "nbconvert_exporter": "python",
   "pygments_lexer": "ipython3",
   "version": "3.7.3"
  }
 },
 "nbformat": 4,
 "nbformat_minor": 4
}
