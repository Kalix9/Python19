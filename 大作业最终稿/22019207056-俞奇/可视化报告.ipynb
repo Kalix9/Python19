{
 "cells": [
  {
   "cell_type": "markdown",
   "metadata": {},
   "source": [
    "# 1.数据分布情况"
   ]
  },
  {
   "cell_type": "markdown",
   "metadata": {},
   "source": [
    "## 1.1 分布情况图示"
   ]
  },
  {
   "cell_type": "markdown",
   "metadata": {},
   "source": [
    "### 1.1.1 每日消费额与消费笔数分布 "
   ]
  },
  {
   "cell_type": "markdown",
   "metadata": {},
   "source": [
    "![avatar](图片/每日消费数额与消费笔数分布.png)"
   ]
  },
  {
   "cell_type": "markdown",
   "metadata": {},
   "source": [
    "### 1.1.2 商品价格分组，门店销售情况，折扣类型，消费人数分布"
   ]
  },
  {
   "cell_type": "markdown",
   "metadata": {},
   "source": [
    "<font face=\"黑体\" size=3>门店销售情况，平均店面销售额为939766，仅有A001,A008,A013,D002,D007达到均值以上，其中D003,D010,A017三个店铺距离均值差距较大，值得注意和警惕。</font>"
   ]
  },
  {
   "cell_type": "markdown",
   "metadata": {},
   "source": [
    "<img src=\"图片/门店销售情况分布.png\" width = \"600\" height = \"600\" div align=left />"
   ]
  },
  {
   "cell_type": "markdown",
   "metadata": {},
   "source": [
    "<font face=\"黑体\" size=3>消费人数上在统计时间段内呈现了一定的周期性，符合工作日与假期的分布情况，可进一步分析。其中6月16-18三天消费人数最高，可能与商品活动有关。</font>"
   ]
  },
  {
   "cell_type": "markdown",
   "metadata": {},
   "source": [
    "<img src=\"图片/消费人数分布.png\" width = \"600\" height = \"650\" div align=left />"
   ]
  },
  {
   "cell_type": "markdown",
   "metadata": {},
   "source": [
    "<font face=\"黑体\" size=3>折扣类型情况，平均每种类型折扣销售数量为192304，仅有n和p两种类型商品数在均值以上，其中主要类型还有m,其余类型销售数量较低。</font>"
   ]
  },
  {
   "cell_type": "markdown",
   "metadata": {},
   "source": [
    "<img src=\"图片/折扣类型分布.png\" width = \"450\" height = \"200\" div align=left />"
   ]
  },
  {
   "cell_type": "markdown",
   "metadata": {},
   "source": [
    "<font face=\"黑体\" size=3>从商品价格分布可以看出，商品销售主要集中在100元以下商品，其中商品销售平均数量为9561，60元以下商品销售额达到均值以上，其余商品在均值以下。</font>"
   ]
  },
  {
   "cell_type": "markdown",
   "metadata": {},
   "source": [
    "<img src=\"图片/商品价格分组分布.png\" width = \"700\" height = \"300\" div align=left />"
   ]
  },
  {
   "cell_type": "markdown",
   "metadata": {},
   "source": [
    "#"
   ]
  },
  {
   "cell_type": "markdown",
   "metadata": {},
   "source": [
    "## 2.1 客户购买频率分析"
   ]
  },
  {
   "cell_type": "markdown",
   "metadata": {},
   "source": [
    "#### 如下图所示:\n",
    "* 通过计算用户的购买频率，形成购买频率客户数图，经过分析用户购买频率分为1-6次，在统计期间购买2-3次的人数最多，分别为188802人次和167914人次。\n",
    "* 通过购买频率分组平均消费金额的图像，可以看出购买频率为1-5次的客户的平均消费金额差距不大，都为39元左右。消费频率最高的6次的用户，平均消费额与前几个分组频率有着明显区别，为36.499元，可能与用户的购买频率较高有关联。\n",
    "* 通过客户购买人数的日期分布来看，六月平均购买人数为16431人，七月为15468人，这与七月这五天为周一至周五工作日有关，并不能说明人流量出现明显下滑，其中六月16、17、18三天的流量情况异常突出，星期分别为星期六、星期日、星期一，可能又相关促销行动举行，可在商品分析时，进一步分析。但19日也就是周二的时候出现了较大的人流量下滑，活动过后的人流量下滑问题可进一步思考，提出对应策略分析解决。"
   ]
  },
  {
   "cell_type": "markdown",
   "metadata": {},
   "source": [
    "![avatar](图片/客户消费情况.png)"
   ]
  },
  {
   "cell_type": "markdown",
   "metadata": {},
   "source": [
    "## 2.2 RFM客户分类 "
   ]
  },
  {
   "cell_type": "markdown",
   "metadata": {},
   "source": [
    "RFM模型是一个简单的根据客户的活跃程度和交易金额贡献所做的分类。因为操作简单，所以较为常用。\n",
    "* 近度R：R代表客户最近的活跃时间距离数据采集点的时间距离，R越大，表示客户越久未发生交易，R越小，表示客户越近有交易发生。R越大则客户越可能会“沉睡”，流失的可能性越大。在这部分客户中，可能有些优质客户，值得公司通过一定的营销手段进行激活。\n",
    "* 频度F：F代表客户过去某段时间内的活跃频率。F越大，则表示客户同本公司的交易越频繁，不仅仅给公司带来人气，也带来稳定的现金流，是非常忠诚的客户；F越小，则表示客户不够活跃，且可能是竞争对手的常客。针对F较小、且消费额较大的客户，需要推出一定的竞争策略，将这批客户从竞争对手中争取过来。\n",
    "* 额度M：表示客户每次消费金额的多少，可以用最近一次消费金额，也可以用过去的平均消费金额，根据分析的目的不同，可以有不同的标识方法。一般来讲，单次交易金额较大的客户，支付能力强，价格敏感度低，是较为优质的客户，而每次交易金额很小的客户，可能在支付能力和支付意愿上较低。当然，也不是绝对的。"
   ]
  },
  {
   "cell_type": "markdown",
   "metadata": {},
   "source": [
    "   如下图所示，通过购买间隔天数热力图可以看出，自第一天购买日期，间隔五到九天复购的人数最多。而根据最后一天下单距离表格统计日期，可以看出大多用户在前1-5天有过购买行为。从客户价值分类来看，新用户占比较大，属于最近有过购买记录但是累计单数累计消费金额较少的人群，但可能是因为统计时间的问题，造成用户累计单量未被完全统计，而用户分类出现偏差，新用户人群占比提升。 \n"
   ]
  },
  {
   "cell_type": "markdown",
   "metadata": {},
   "source": [
    "![avatar](图片/RFM客户分类.png)"
   ]
  },
  {
   "cell_type": "markdown",
   "metadata": {},
   "source": [
    "## 2.3 工作日划分分析"
   ]
  },
  {
   "cell_type": "markdown",
   "metadata": {},
   "source": [
    "如下图所示，用树状图表现星期一至星期日的销售情况，销售量表示图形大小，颜色表示销售额，颜色越深表示销售额越大。根据图形可以看出周六周日销售量和销售额相当，平均单价也很接近分别为42.801和42.918，领先其他工作日销售情况。工作日中，紧邻周末的周一和周五销售情况最好，整个星期的消费情况呈现一个凹的造型。\n",
    "按日期分析销售情况可以看出六月16、17、18三天的销售情况异常突出，星期分别为星期六、星期日、星期一，可能又相关促销行动举行，可在商品分析时，进一步分析。\n"
   ]
  },
  {
   "cell_type": "markdown",
   "metadata": {},
   "source": [
    "![avatar](图片/工作日划分分析.png)"
   ]
  },
  {
   "cell_type": "code",
   "execution_count": null,
   "metadata": {},
   "outputs": [],
   "source": []
  }
 ],
 "metadata": {
  "kernelspec": {
   "display_name": "Python 3",
   "language": "python",
   "name": "python3"
  },
  "language_info": {
   "codemirror_mode": {
    "name": "ipython",
    "version": 3
   },
   "file_extension": ".py",
   "mimetype": "text/x-python",
   "name": "python",
   "nbconvert_exporter": "python",
   "pygments_lexer": "ipython3",
   "version": "3.7.6"
  }
 },
 "nbformat": 4,
 "nbformat_minor": 4
}
