{
 "cells": [
  {
   "cell_type": "markdown",
   "metadata": {},
   "source": [
    "## 1.数据导入与预处理"
   ]
  },
  {
   "cell_type": "code",
   "execution_count": 17,
   "metadata": {},
   "outputs": [
    {
     "data": {
      "text/html": [
       "<div>\n",
       "<style scoped>\n",
       "    .dataframe tbody tr th:only-of-type {\n",
       "        vertical-align: middle;\n",
       "    }\n",
       "\n",
       "    .dataframe tbody tr th {\n",
       "        vertical-align: top;\n",
       "    }\n",
       "\n",
       "    .dataframe thead th {\n",
       "        text-align: right;\n",
       "    }\n",
       "</style>\n",
       "<table border=\"1\" class=\"dataframe\">\n",
       "  <thead>\n",
       "    <tr style=\"text-align: right;\">\n",
       "      <th></th>\n",
       "      <th>SDATE</th>\n",
       "      <th>STORE_CODE</th>\n",
       "      <th>POSID</th>\n",
       "      <th>BASK_CODE</th>\n",
       "      <th>PROD_CODE</th>\n",
       "      <th>ITEM_QUANTITY</th>\n",
       "      <th>ITEM_SPEND</th>\n",
       "      <th>NORMAL_PRICE</th>\n",
       "      <th>DISCOUNT_TYPE</th>\n",
       "      <th>DISCOUNT_AMOUNT</th>\n",
       "    </tr>\n",
       "  </thead>\n",
       "  <tbody>\n",
       "    <tr>\n",
       "      <th>0</th>\n",
       "      <td>2018-06-01</td>\n",
       "      <td>D007</td>\n",
       "      <td>3</td>\n",
       "      <td>250451</td>\n",
       "      <td>29405</td>\n",
       "      <td>1.000</td>\n",
       "      <td>1.70</td>\n",
       "      <td>2.0</td>\n",
       "      <td>m</td>\n",
       "      <td>-0.3</td>\n",
       "    </tr>\n",
       "    <tr>\n",
       "      <th>1</th>\n",
       "      <td>2018-06-01</td>\n",
       "      <td>D007</td>\n",
       "      <td>3</td>\n",
       "      <td>250451</td>\n",
       "      <td>13187</td>\n",
       "      <td>1.000</td>\n",
       "      <td>1.00</td>\n",
       "      <td>1.0</td>\n",
       "      <td>n</td>\n",
       "      <td>0.0</td>\n",
       "    </tr>\n",
       "    <tr>\n",
       "      <th>2</th>\n",
       "      <td>2018-06-01</td>\n",
       "      <td>D007</td>\n",
       "      <td>3</td>\n",
       "      <td>250243</td>\n",
       "      <td>196249</td>\n",
       "      <td>1.000</td>\n",
       "      <td>99.00</td>\n",
       "      <td>99.0</td>\n",
       "      <td>m</td>\n",
       "      <td>0.0</td>\n",
       "    </tr>\n",
       "    <tr>\n",
       "      <th>3</th>\n",
       "      <td>2018-06-01</td>\n",
       "      <td>D007</td>\n",
       "      <td>3</td>\n",
       "      <td>250243</td>\n",
       "      <td>199637</td>\n",
       "      <td>1.000</td>\n",
       "      <td>9.90</td>\n",
       "      <td>16.8</td>\n",
       "      <td>p</td>\n",
       "      <td>-6.9</td>\n",
       "    </tr>\n",
       "    <tr>\n",
       "      <th>4</th>\n",
       "      <td>2018-06-01</td>\n",
       "      <td>D007</td>\n",
       "      <td>1</td>\n",
       "      <td>160905</td>\n",
       "      <td>195012</td>\n",
       "      <td>3.222</td>\n",
       "      <td>18.69</td>\n",
       "      <td>5.8</td>\n",
       "      <td>n</td>\n",
       "      <td>0.0</td>\n",
       "    </tr>\n",
       "  </tbody>\n",
       "</table>\n",
       "</div>"
      ],
      "text/plain": [
       "       SDATE STORE_CODE  POSID  BASK_CODE  PROD_CODE  ITEM_QUANTITY  \\\n",
       "0 2018-06-01       D007      3     250451      29405          1.000   \n",
       "1 2018-06-01       D007      3     250451      13187          1.000   \n",
       "2 2018-06-01       D007      3     250243     196249          1.000   \n",
       "3 2018-06-01       D007      3     250243     199637          1.000   \n",
       "4 2018-06-01       D007      1     160905     195012          3.222   \n",
       "\n",
       "   ITEM_SPEND  NORMAL_PRICE DISCOUNT_TYPE  DISCOUNT_AMOUNT  \n",
       "0        1.70           2.0             m             -0.3  \n",
       "1        1.00           1.0             n              0.0  \n",
       "2       99.00          99.0             m              0.0  \n",
       "3        9.90          16.8             p             -6.9  \n",
       "4       18.69           5.8             n              0.0  "
      ]
     },
     "execution_count": 17,
     "metadata": {},
     "output_type": "execute_result"
    }
   ],
   "source": [
    "# 加载数据分析需要使用的库\n",
    "import numpy as np\n",
    "import pandas as pd\n",
    "import matplotlib.pyplot as plt\n",
    "import seaborn as sns\n",
    "import warnings\n",
    "\n",
    "plt.rcParams['font.sans-serif'] = ['SimHei']\n",
    "warnings.filterwarnings('ignore')\n",
    "\n",
    "#数据加载和整合\n",
    "# 加载零售数据集，使用'ISO-8859-1'编码方式\n",
    "df_item = pd.read_csv('G:\\上课文件\\Python计算\\数据作业\\item-2018-06-01-2018-07-05.csv',encoding='ISO-8859-1')\n",
    "df_item['SDATE'] = pd.to_datetime(df_item.SDATE,format='%Y-%m-%d')\n",
    "df_item.head()\n",
    "#数据大小\n",
    "#print(df.shape)\n",
    "#数据分布情况"
   ]
  },
  {
   "cell_type": "code",
   "execution_count": 18,
   "metadata": {},
   "outputs": [
    {
     "data": {
      "text/html": [
       "<div>\n",
       "<style scoped>\n",
       "    .dataframe tbody tr th:only-of-type {\n",
       "        vertical-align: middle;\n",
       "    }\n",
       "\n",
       "    .dataframe tbody tr th {\n",
       "        vertical-align: top;\n",
       "    }\n",
       "\n",
       "    .dataframe thead th {\n",
       "        text-align: right;\n",
       "    }\n",
       "</style>\n",
       "<table border=\"1\" class=\"dataframe\">\n",
       "  <thead>\n",
       "    <tr style=\"text-align: right;\">\n",
       "      <th></th>\n",
       "      <th>SHOP_DATETIME</th>\n",
       "      <th>STORE_CODE</th>\n",
       "      <th>POS_NO</th>\n",
       "      <th>BASK_CODE</th>\n",
       "      <th>BASK_SPEND</th>\n",
       "    </tr>\n",
       "  </thead>\n",
       "  <tbody>\n",
       "    <tr>\n",
       "      <th>0</th>\n",
       "      <td>2018-06-01</td>\n",
       "      <td>D007</td>\n",
       "      <td>3</td>\n",
       "      <td>250458</td>\n",
       "      <td>8.0</td>\n",
       "    </tr>\n",
       "    <tr>\n",
       "      <th>1</th>\n",
       "      <td>2018-06-01</td>\n",
       "      <td>D007</td>\n",
       "      <td>3</td>\n",
       "      <td>250200</td>\n",
       "      <td>32.7</td>\n",
       "    </tr>\n",
       "    <tr>\n",
       "      <th>2</th>\n",
       "      <td>2018-06-01</td>\n",
       "      <td>D007</td>\n",
       "      <td>1</td>\n",
       "      <td>161068</td>\n",
       "      <td>16.8</td>\n",
       "    </tr>\n",
       "    <tr>\n",
       "      <th>3</th>\n",
       "      <td>2018-06-01</td>\n",
       "      <td>D007</td>\n",
       "      <td>8</td>\n",
       "      <td>5325</td>\n",
       "      <td>30.4</td>\n",
       "    </tr>\n",
       "    <tr>\n",
       "      <th>4</th>\n",
       "      <td>2018-06-01</td>\n",
       "      <td>D007</td>\n",
       "      <td>8</td>\n",
       "      <td>5361</td>\n",
       "      <td>191.3</td>\n",
       "    </tr>\n",
       "  </tbody>\n",
       "</table>\n",
       "</div>"
      ],
      "text/plain": [
       "  SHOP_DATETIME STORE_CODE  POS_NO  BASK_CODE  BASK_SPEND\n",
       "0    2018-06-01       D007       3     250458         8.0\n",
       "1    2018-06-01       D007       3     250200        32.7\n",
       "2    2018-06-01       D007       1     161068        16.8\n",
       "3    2018-06-01       D007       8       5325        30.4\n",
       "4    2018-06-01       D007       8       5361       191.3"
      ]
     },
     "execution_count": 18,
     "metadata": {},
     "output_type": "execute_result"
    }
   ],
   "source": [
    "df_basket = pd.read_csv('G:\\上课文件\\Python计算\\数据作业\\Basket-2018-06-01-2018-07-05.csv',encoding='ISO-8859-1')\n",
    "df_basket['SHOP_DATETIME'] = pd.to_datetime(df_basket.SHOP_DATETIME,format='%Y-%m-%d')\n",
    "df_basket.head()"
   ]
  },
  {
   "cell_type": "code",
   "execution_count": 19,
   "metadata": {},
   "outputs": [
    {
     "data": {
      "text/html": [
       "<div>\n",
       "<style scoped>\n",
       "    .dataframe tbody tr th:only-of-type {\n",
       "        vertical-align: middle;\n",
       "    }\n",
       "\n",
       "    .dataframe tbody tr th {\n",
       "        vertical-align: top;\n",
       "    }\n",
       "\n",
       "    .dataframe thead th {\n",
       "        text-align: right;\n",
       "    }\n",
       "</style>\n",
       "<table border=\"1\" class=\"dataframe\">\n",
       "  <thead>\n",
       "    <tr style=\"text-align: right;\">\n",
       "      <th></th>\n",
       "      <th>POSID</th>\n",
       "      <th>BASK_CODE</th>\n",
       "      <th>PROD_CODE</th>\n",
       "      <th>ITEM_QUANTITY</th>\n",
       "      <th>ITEM_SPEND</th>\n",
       "      <th>NORMAL_PRICE</th>\n",
       "      <th>DISCOUNT_AMOUNT</th>\n",
       "    </tr>\n",
       "  </thead>\n",
       "  <tbody>\n",
       "    <tr>\n",
       "      <th>count</th>\n",
       "      <td>1.732761e+06</td>\n",
       "      <td>1.732761e+06</td>\n",
       "      <td>1.732761e+06</td>\n",
       "      <td>1.732761e+06</td>\n",
       "      <td>1.732761e+06</td>\n",
       "      <td>1.732761e+06</td>\n",
       "      <td>1.732761e+06</td>\n",
       "    </tr>\n",
       "    <tr>\n",
       "      <th>mean</th>\n",
       "      <td>2.994959e+00</td>\n",
       "      <td>1.659824e+05</td>\n",
       "      <td>1.144861e+05</td>\n",
       "      <td>1.436702e+00</td>\n",
       "      <td>1.285536e+01</td>\n",
       "      <td>1.424412e+01</td>\n",
       "      <td>-1.624232e+00</td>\n",
       "    </tr>\n",
       "    <tr>\n",
       "      <th>std</th>\n",
       "      <td>2.470286e+00</td>\n",
       "      <td>8.583102e+04</td>\n",
       "      <td>8.161988e+04</td>\n",
       "      <td>7.015504e+00</td>\n",
       "      <td>1.022148e+02</td>\n",
       "      <td>2.403937e+01</td>\n",
       "      <td>5.160490e+01</td>\n",
       "    </tr>\n",
       "    <tr>\n",
       "      <th>min</th>\n",
       "      <td>1.000000e+00</td>\n",
       "      <td>9.610000e+02</td>\n",
       "      <td>1.900000e+01</td>\n",
       "      <td>-6.000000e+02</td>\n",
       "      <td>-3.594000e+04</td>\n",
       "      <td>5.000000e-01</td>\n",
       "      <td>-5.760000e+04</td>\n",
       "    </tr>\n",
       "    <tr>\n",
       "      <th>25%</th>\n",
       "      <td>1.000000e+00</td>\n",
       "      <td>8.995200e+04</td>\n",
       "      <td>2.183500e+04</td>\n",
       "      <td>1.000000e+00</td>\n",
       "      <td>3.800000e+00</td>\n",
       "      <td>3.800000e+00</td>\n",
       "      <td>-1.000000e+00</td>\n",
       "    </tr>\n",
       "    <tr>\n",
       "      <th>50%</th>\n",
       "      <td>2.000000e+00</td>\n",
       "      <td>1.758280e+05</td>\n",
       "      <td>1.233210e+05</td>\n",
       "      <td>1.000000e+00</td>\n",
       "      <td>7.000000e+00</td>\n",
       "      <td>7.800000e+00</td>\n",
       "      <td>0.000000e+00</td>\n",
       "    </tr>\n",
       "    <tr>\n",
       "      <th>75%</th>\n",
       "      <td>3.000000e+00</td>\n",
       "      <td>2.229530e+05</td>\n",
       "      <td>1.959930e+05</td>\n",
       "      <td>1.000000e+00</td>\n",
       "      <td>1.200000e+01</td>\n",
       "      <td>1.500000e+01</td>\n",
       "      <td>0.000000e+00</td>\n",
       "    </tr>\n",
       "    <tr>\n",
       "      <th>max</th>\n",
       "      <td>2.000000e+01</td>\n",
       "      <td>3.239140e+05</td>\n",
       "      <td>2.250470e+05</td>\n",
       "      <td>4.020000e+03</td>\n",
       "      <td>6.912000e+04</td>\n",
       "      <td>1.980000e+03</td>\n",
       "      <td>9.300000e+02</td>\n",
       "    </tr>\n",
       "  </tbody>\n",
       "</table>\n",
       "</div>"
      ],
      "text/plain": [
       "              POSID     BASK_CODE     PROD_CODE  ITEM_QUANTITY    ITEM_SPEND  \\\n",
       "count  1.732761e+06  1.732761e+06  1.732761e+06   1.732761e+06  1.732761e+06   \n",
       "mean   2.994959e+00  1.659824e+05  1.144861e+05   1.436702e+00  1.285536e+01   \n",
       "std    2.470286e+00  8.583102e+04  8.161988e+04   7.015504e+00  1.022148e+02   \n",
       "min    1.000000e+00  9.610000e+02  1.900000e+01  -6.000000e+02 -3.594000e+04   \n",
       "25%    1.000000e+00  8.995200e+04  2.183500e+04   1.000000e+00  3.800000e+00   \n",
       "50%    2.000000e+00  1.758280e+05  1.233210e+05   1.000000e+00  7.000000e+00   \n",
       "75%    3.000000e+00  2.229530e+05  1.959930e+05   1.000000e+00  1.200000e+01   \n",
       "max    2.000000e+01  3.239140e+05  2.250470e+05   4.020000e+03  6.912000e+04   \n",
       "\n",
       "       NORMAL_PRICE  DISCOUNT_AMOUNT  \n",
       "count  1.732761e+06     1.732761e+06  \n",
       "mean   1.424412e+01    -1.624232e+00  \n",
       "std    2.403937e+01     5.160490e+01  \n",
       "min    5.000000e-01    -5.760000e+04  \n",
       "25%    3.800000e+00    -1.000000e+00  \n",
       "50%    7.800000e+00     0.000000e+00  \n",
       "75%    1.500000e+01     0.000000e+00  \n",
       "max    1.980000e+03     9.300000e+02  "
      ]
     },
     "execution_count": 19,
     "metadata": {},
     "output_type": "execute_result"
    }
   ],
   "source": [
    "df_item.describe()"
   ]
  },
  {
   "cell_type": "markdown",
   "metadata": {},
   "source": [
    "从商品单价来看，平均值为13元，最小值为0元，中位数为7元，最大值为69120元，标准差为9.33，说明价格有一定的浮动。\n",
    "折扣幅度来看，平均折扣为1.6元，中位数为0元，最大折扣为57600元，最小幅度为涨价226元。"
   ]
  },
  {
   "cell_type": "code",
   "execution_count": 20,
   "metadata": {},
   "outputs": [
    {
     "name": "stdout",
     "output_type": "stream",
     "text": [
      "<class 'pandas.core.frame.DataFrame'>\n",
      "RangeIndex: 1732761 entries, 0 to 1732760\n",
      "Data columns (total 10 columns):\n",
      "SDATE              datetime64[ns]\n",
      "STORE_CODE         object\n",
      "POSID              int64\n",
      "BASK_CODE          int64\n",
      "PROD_CODE          int64\n",
      "ITEM_QUANTITY      float64\n",
      "ITEM_SPEND         float64\n",
      "NORMAL_PRICE       float64\n",
      "DISCOUNT_TYPE      object\n",
      "DISCOUNT_AMOUNT    float64\n",
      "dtypes: datetime64[ns](1), float64(4), int64(3), object(2)\n",
      "memory usage: 132.2+ MB\n"
     ]
    }
   ],
   "source": [
    "df_item.info()"
   ]
  },
  {
   "cell_type": "code",
   "execution_count": 21,
   "metadata": {},
   "outputs": [
    {
     "data": {
      "text/html": [
       "<div>\n",
       "<style scoped>\n",
       "    .dataframe tbody tr th:only-of-type {\n",
       "        vertical-align: middle;\n",
       "    }\n",
       "\n",
       "    .dataframe tbody tr th {\n",
       "        vertical-align: top;\n",
       "    }\n",
       "\n",
       "    .dataframe thead th {\n",
       "        text-align: right;\n",
       "    }\n",
       "</style>\n",
       "<table border=\"1\" class=\"dataframe\">\n",
       "  <thead>\n",
       "    <tr style=\"text-align: right;\">\n",
       "      <th></th>\n",
       "      <th>POS_NO</th>\n",
       "      <th>BASK_CODE</th>\n",
       "      <th>BASK_SPEND</th>\n",
       "    </tr>\n",
       "  </thead>\n",
       "  <tbody>\n",
       "    <tr>\n",
       "      <th>count</th>\n",
       "      <td>571552.000000</td>\n",
       "      <td>571552.000000</td>\n",
       "      <td>571552.000000</td>\n",
       "    </tr>\n",
       "    <tr>\n",
       "      <th>mean</th>\n",
       "      <td>2.998429</td>\n",
       "      <td>167472.817102</td>\n",
       "      <td>38.973310</td>\n",
       "    </tr>\n",
       "    <tr>\n",
       "      <th>std</th>\n",
       "      <td>2.516065</td>\n",
       "      <td>87263.199857</td>\n",
       "      <td>209.038276</td>\n",
       "    </tr>\n",
       "    <tr>\n",
       "      <th>min</th>\n",
       "      <td>1.000000</td>\n",
       "      <td>961.000000</td>\n",
       "      <td>-35940.000000</td>\n",
       "    </tr>\n",
       "    <tr>\n",
       "      <th>25%</th>\n",
       "      <td>1.000000</td>\n",
       "      <td>90533.750000</td>\n",
       "      <td>9.000000</td>\n",
       "    </tr>\n",
       "    <tr>\n",
       "      <th>50%</th>\n",
       "      <td>2.000000</td>\n",
       "      <td>177603.500000</td>\n",
       "      <td>19.900000</td>\n",
       "    </tr>\n",
       "    <tr>\n",
       "      <th>75%</th>\n",
       "      <td>3.000000</td>\n",
       "      <td>238816.750000</td>\n",
       "      <td>44.700000</td>\n",
       "    </tr>\n",
       "    <tr>\n",
       "      <th>max</th>\n",
       "      <td>20.000000</td>\n",
       "      <td>323914.000000</td>\n",
       "      <td>79920.000000</td>\n",
       "    </tr>\n",
       "  </tbody>\n",
       "</table>\n",
       "</div>"
      ],
      "text/plain": [
       "              POS_NO      BASK_CODE     BASK_SPEND\n",
       "count  571552.000000  571552.000000  571552.000000\n",
       "mean        2.998429  167472.817102      38.973310\n",
       "std         2.516065   87263.199857     209.038276\n",
       "min         1.000000     961.000000  -35940.000000\n",
       "25%         1.000000   90533.750000       9.000000\n",
       "50%         2.000000  177603.500000      19.900000\n",
       "75%         3.000000  238816.750000      44.700000\n",
       "max        20.000000  323914.000000   79920.000000"
      ]
     },
     "execution_count": 21,
     "metadata": {},
     "output_type": "execute_result"
    }
   ],
   "source": [
    "df_basket.describe()"
   ]
  },
  {
   "cell_type": "markdown",
   "metadata": {},
   "source": [
    "从用户购买消费来看，平均值为39.58元，中位数为20元，最小值为0.01元，最大值为79920元。标准差为196，表明用户之间的消费差距浮动较大。在购买情况来看，服从长尾理论。"
   ]
  },
  {
   "cell_type": "code",
   "execution_count": 22,
   "metadata": {},
   "outputs": [
    {
     "name": "stdout",
     "output_type": "stream",
     "text": [
      "<class 'pandas.core.frame.DataFrame'>\n",
      "RangeIndex: 571552 entries, 0 to 571551\n",
      "Data columns (total 5 columns):\n",
      "SHOP_DATETIME    571552 non-null datetime64[ns]\n",
      "STORE_CODE       571552 non-null object\n",
      "POS_NO           571552 non-null int64\n",
      "BASK_CODE        571552 non-null int64\n",
      "BASK_SPEND       571552 non-null float64\n",
      "dtypes: datetime64[ns](1), float64(1), int64(2), object(1)\n",
      "memory usage: 21.8+ MB\n"
     ]
    }
   ],
   "source": [
    "df_basket.info()"
   ]
  },
  {
   "cell_type": "code",
   "execution_count": 23,
   "metadata": {},
   "outputs": [],
   "source": [
    "df_item=df_item[df_item['ITEM_SPEND']>=0]#清除ITEM_SPEND小于0的值\n",
    "df_basket=df_basket[df_basket['BASK_SPEND']>=0]"
   ]
  },
  {
   "cell_type": "code",
   "execution_count": 24,
   "metadata": {},
   "outputs": [
    {
     "data": {
      "text/plain": [
       "(1730741, 10)"
      ]
     },
     "metadata": {},
     "output_type": "display_data"
    },
    {
     "data": {
      "text/plain": [
       "(569797, 5)"
      ]
     },
     "metadata": {},
     "output_type": "display_data"
    }
   ],
   "source": [
    "display(df_item.shape)\n",
    "display(df_basket.shape)"
   ]
  },
  {
   "cell_type": "markdown",
   "metadata": {},
   "source": [
    "#### 通过数据导入以及描述统计以后，剔除异常值以后。\n",
    "+ 从商品单价来看，平均值为13元，最小值为0元，中位数为7元，最大值为69120元，标准差为9.33，说明价格有一定的浮动。折扣幅度来看，平均折扣为1.6元，中位数为0元，最大折扣为57600元，最小幅度为涨价226元。\n",
    "+ 从用户购买消费来看，平均值为39.58元，中位数为20元，最小值为0.01元，最大值为79920元。标准差为196，表明用户之间的消费差距浮动较大。在购买情况来看，服从长尾理论。"
   ]
  },
  {
   "cell_type": "markdown",
   "metadata": {},
   "source": [
    "## 2.描述性统计"
   ]
  },
  {
   "cell_type": "markdown",
   "metadata": {},
   "source": [
    "### 2.1 按日期销售分布\n",
    "2.2.1 按自然日分布"
   ]
  },
  {
   "cell_type": "code",
   "execution_count": 25,
   "metadata": {},
   "outputs": [],
   "source": [
    "# 整体销售情况子数据集，包含下单日期、销售额、销量、利润、年份、月份信息\n",
    "sales_day = df_basket[['SHOP_DATETIME', 'BASK_SPEND']]\n",
    "#按照年份、月份对销售子数据集进行分组求和\n",
    "sales_day = sales_day.groupby(['SHOP_DATETIME']).sum()"
   ]
  },
  {
   "cell_type": "code",
   "execution_count": 26,
   "metadata": {},
   "outputs": [
    {
     "data": {
      "text/plain": [
       "<matplotlib.axes._subplots.AxesSubplot at 0x2240b6737c8>"
      ]
     },
     "execution_count": 26,
     "metadata": {},
     "output_type": "execute_result"
    },
    {
     "data": {
      "image/png": "[encoded data removed]",
      "text/plain": [
       "<Figure size 432x288 with 1 Axes>"
      ]
     },
     "metadata": {
      "needs_background": "light"
     },
     "output_type": "display_data"
    }
   ],
   "source": [
    "sales_day.plot(kind='bar')"
   ]
  },
  {
   "cell_type": "markdown",
   "metadata": {},
   "source": [
    "从上图可以看出，消费金额8月16-18日达到了高峰。其中在8月17日，销售额达到了最大值，之后消费金额呈下降趋势，并不断趋于平稳的状态。"
   ]
  },
  {
   "cell_type": "markdown",
   "metadata": {},
   "source": [
    "2.1.2 按工作日分布"
   ]
  },
  {
   "cell_type": "code",
   "execution_count": 27,
   "metadata": {},
   "outputs": [],
   "source": [
    "df_basket['daynameofweek']=df_basket['SHOP_DATETIME'].dt.weekday_name"
   ]
  },
  {
   "cell_type": "code",
   "execution_count": 28,
   "metadata": {},
   "outputs": [
    {
     "data": {
      "text/html": [
       "<div>\n",
       "<style scoped>\n",
       "    .dataframe tbody tr th:only-of-type {\n",
       "        vertical-align: middle;\n",
       "    }\n",
       "\n",
       "    .dataframe tbody tr th {\n",
       "        vertical-align: top;\n",
       "    }\n",
       "\n",
       "    .dataframe thead th {\n",
       "        text-align: right;\n",
       "    }\n",
       "</style>\n",
       "<table border=\"1\" class=\"dataframe\">\n",
       "  <thead>\n",
       "    <tr style=\"text-align: right;\">\n",
       "      <th></th>\n",
       "      <th>SHOP_DATETIME</th>\n",
       "      <th>STORE_CODE</th>\n",
       "      <th>POS_NO</th>\n",
       "      <th>BASK_CODE</th>\n",
       "      <th>BASK_SPEND</th>\n",
       "      <th>daynameofweek</th>\n",
       "    </tr>\n",
       "  </thead>\n",
       "  <tbody>\n",
       "    <tr>\n",
       "      <th>0</th>\n",
       "      <td>2018-06-01</td>\n",
       "      <td>D007</td>\n",
       "      <td>3</td>\n",
       "      <td>250458</td>\n",
       "      <td>8.0</td>\n",
       "      <td>Friday</td>\n",
       "    </tr>\n",
       "    <tr>\n",
       "      <th>1</th>\n",
       "      <td>2018-06-01</td>\n",
       "      <td>D007</td>\n",
       "      <td>3</td>\n",
       "      <td>250200</td>\n",
       "      <td>32.7</td>\n",
       "      <td>Friday</td>\n",
       "    </tr>\n",
       "    <tr>\n",
       "      <th>2</th>\n",
       "      <td>2018-06-01</td>\n",
       "      <td>D007</td>\n",
       "      <td>1</td>\n",
       "      <td>161068</td>\n",
       "      <td>16.8</td>\n",
       "      <td>Friday</td>\n",
       "    </tr>\n",
       "    <tr>\n",
       "      <th>3</th>\n",
       "      <td>2018-06-01</td>\n",
       "      <td>D007</td>\n",
       "      <td>8</td>\n",
       "      <td>5325</td>\n",
       "      <td>30.4</td>\n",
       "      <td>Friday</td>\n",
       "    </tr>\n",
       "    <tr>\n",
       "      <th>4</th>\n",
       "      <td>2018-06-01</td>\n",
       "      <td>D007</td>\n",
       "      <td>8</td>\n",
       "      <td>5361</td>\n",
       "      <td>191.3</td>\n",
       "      <td>Friday</td>\n",
       "    </tr>\n",
       "  </tbody>\n",
       "</table>\n",
       "</div>"
      ],
      "text/plain": [
       "  SHOP_DATETIME STORE_CODE  POS_NO  BASK_CODE  BASK_SPEND daynameofweek\n",
       "0    2018-06-01       D007       3     250458         8.0        Friday\n",
       "1    2018-06-01       D007       3     250200        32.7        Friday\n",
       "2    2018-06-01       D007       1     161068        16.8        Friday\n",
       "3    2018-06-01       D007       8       5325        30.4        Friday\n",
       "4    2018-06-01       D007       8       5361       191.3        Friday"
      ]
     },
     "execution_count": 28,
     "metadata": {},
     "output_type": "execute_result"
    }
   ],
   "source": [
    "df_basket.head()"
   ]
  },
  {
   "cell_type": "code",
   "execution_count": 29,
   "metadata": {},
   "outputs": [
    {
     "data": {
      "text/plain": [
       "<matplotlib.axes._subplots.AxesSubplot at 0x22427147a48>"
      ]
     },
     "execution_count": 29,
     "metadata": {},
     "output_type": "execute_result"
    },
    {
     "data": {
      "image/png": "[encoded data removed]",
      "text/plain": [
       "<Figure size 432x288 with 1 Axes>"
      ]
     },
     "metadata": {
      "needs_background": "light"
     },
     "output_type": "display_data"
    }
   ],
   "source": [
    "df_basket.daynameofweek.value_counts().plot(kind='bar')"
   ]
  },
  {
   "cell_type": "markdown",
   "metadata": {},
   "source": [
    "通过对工作日销售笔数进行统计，可以看出周日周六为单数最大的两天。"
   ]
  },
  {
   "cell_type": "markdown",
   "metadata": {},
   "source": [
    "### 2.2 按门店分布"
   ]
  },
  {
   "cell_type": "code",
   "execution_count": 30,
   "metadata": {},
   "outputs": [
    {
     "name": "stdout",
     "output_type": "stream",
     "text": [
      "STORE_CODE\n",
      "A001    66507\n",
      "D002    62949\n",
      "D007    37503\n",
      "A008    36462\n",
      "A013    30064\n",
      "A006    28470\n",
      "A012    24946\n",
      "A009    21809\n",
      "D004    21362\n",
      "D008    21029\n",
      "Name: BASK_SPEND, dtype: int64\n"
     ]
    }
   ],
   "source": [
    "storeId_count = df_basket.groupby('STORE_CODE').count()['BASK_SPEND'].sort_values(ascending=False)\n",
    "print(storeId_count.head(10))"
   ]
  },
  {
   "cell_type": "code",
   "execution_count": 31,
   "metadata": {},
   "outputs": [
    {
     "data": {
      "text/plain": [
       "<matplotlib.axes._subplots.AxesSubplot at 0x22417a9e0c8>"
      ]
     },
     "execution_count": 31,
     "metadata": {},
     "output_type": "execute_result"
    },
    {
     "data": {
      "image/png": "[encoded data removed]",
      "text/plain": [
       "<Figure size 432x288 with 1 Axes>"
      ]
     },
     "metadata": {
      "needs_background": "light"
     },
     "output_type": "display_data"
    }
   ],
   "source": [
    "storeId_count.plot(kind='bar')"
   ]
  },
  {
   "cell_type": "markdown",
   "metadata": {},
   "source": [
    "门店销售情况，平均店面销售额为939766，仅有A001,A008,A013,D002,D007达到均值以上，其中D003,D010,A017三个店铺距离均值差距较大，值得注意和警惕。"
   ]
  },
  {
   "cell_type": "markdown",
   "metadata": {},
   "source": [
    "### 2.3 产品价格分布\n",
    "2.3.1 产品价格分组分布"
   ]
  },
  {
   "cell_type": "code",
   "execution_count": 32,
   "metadata": {},
   "outputs": [],
   "source": [
    "#  依据特征income创造收入人群称呼\n",
    "prices = []\n",
    "for price in df_item['ITEM_SPEND']:\n",
    "    if 0 <= price < 20:\n",
    "        prices.append(1)  #  1\n",
    "    elif 20 <= price < 50:\n",
    "        prices.append(2)  # \n",
    "    elif 50 <= price < 100:\n",
    "        prices.append(3)  #\n",
    "    elif 100 <= price < 500:\n",
    "        prices.append(4)  #\n",
    "    elif 500 <= price < 1000:\n",
    "        prices.append(5)  #\n",
    "    elif 1000 <= price < 2000:\n",
    "        prices.append(6)  #\n",
    "    elif 2000 <= price:\n",
    "        prices.append(7)  #\n",
    "        \n",
    "df_item['price'] = pd.DataFrame(prices)"
   ]
  },
  {
   "cell_type": "code",
   "execution_count": 33,
   "metadata": {},
   "outputs": [
    {
     "data": {
      "text/plain": [
       "Text(0, 0.5, '价格')"
      ]
     },
     "execution_count": 33,
     "metadata": {},
     "output_type": "execute_result"
    },
    {
     "data": {
      "image/png": "[encoded data removed]",
      "text/plain": [
       "<Figure size 432x288 with 1 Axes>"
      ]
     },
     "metadata": {
      "needs_background": "light"
     },
     "output_type": "display_data"
    }
   ],
   "source": [
    "df_item.price.value_counts().plot(kind='bar')# 柱状图 \n",
    "plt.title(u\"分布情况 (1为获救)\") # 标题\n",
    "plt.ylabel(u\"价格\")  "
   ]
  },
  {
   "cell_type": "code",
   "execution_count": 34,
   "metadata": {},
   "outputs": [
    {
     "data": {
      "text/plain": [
       "{'whiskers': [<matplotlib.lines.Line2D at 0x22417c0ecc8>,\n",
       "  <matplotlib.lines.Line2D at 0x22417c0edc8>],\n",
       " 'caps': [<matplotlib.lines.Line2D at 0x22417c13c88>,\n",
       "  <matplotlib.lines.Line2D at 0x22417c13d88>],\n",
       " 'boxes': [<matplotlib.lines.Line2D at 0x22417c0e288>],\n",
       " 'medians': [<matplotlib.lines.Line2D at 0x22417c19c08>],\n",
       " 'fliers': [<matplotlib.lines.Line2D at 0x22417c19d08>],\n",
       " 'means': []}"
      ]
     },
     "execution_count": 34,
     "metadata": {},
     "output_type": "execute_result"
    },
    {
     "data": {
      "image/png": "[encoded data removed]",
      "text/plain": [
       "<Figure size 432x288 with 1 Axes>"
      ]
     },
     "metadata": {
      "needs_background": "light"
     },
     "output_type": "display_data"
    }
   ],
   "source": [
    "#使用 plt 的 .boxplot() 方法绘制箱线图\n",
    "plt.figure()\n",
    "plt.subplot()\n",
    "plt.boxplot(df_item[\"ITEM_SPEND\"])"
   ]
  },
  {
   "cell_type": "markdown",
   "metadata": {},
   "source": [
    "2.3.2 产品折扣分布"
   ]
  },
  {
   "cell_type": "code",
   "execution_count": 35,
   "metadata": {},
   "outputs": [
    {
     "data": {
      "text/plain": [
       "<matplotlib.axes._subplots.AxesSubplot at 0x22417d9b448>"
      ]
     },
     "execution_count": 35,
     "metadata": {},
     "output_type": "execute_result"
    },
    {
     "data": {
      "image/png": "[encoded data removed]",
      "text/plain": [
       "<Figure size 432x288 with 1 Axes>"
      ]
     },
     "metadata": {
      "needs_background": "light"
     },
     "output_type": "display_data"
    }
   ],
   "source": [
    "df_item.DISCOUNT_TYPE.value_counts().plot(kind='bar')"
   ]
  },
  {
   "cell_type": "markdown",
   "metadata": {},
   "source": [
    "从商品价格分布可以看出，商品销售主要集中在100元以下商品，其中商品销售平均数量为9561，60元以下商品销售额达到均值以上，其余商品在均值以下。"
   ]
  },
  {
   "cell_type": "markdown",
   "metadata": {},
   "source": [
    "#### 小结：\n",
    "* 按照自然日统计销售金额，消费金额8月16-18日达到了高峰。其中在8月17日，销售额达到了最大值，之后消费金额呈下降趋势，并不断趋于平稳的状态。\n",
    "* 根据图形可以看出周六周日销售量和销售额相当，平均单价也很接近分别为42.801和42.918，领先其他工作日销售情况。工作日中，紧邻周末的周一和周五销售情况最好，整个星期的消费情况呈现一个凹的造型。按日期分析销售情况可以看出六月16、17、18三天的销售情况异常突出，星期分别为星期六、星期日、星期一，可能又相关促销行动举行，可在商品分析时，进一步分析。\n",
    "* 门店销售情况，平均店面销售额为939766，仅有A001,A008,A013,D002,D007达到均值以上，其中D003,D010,A017三个店铺距离均值差距较大，值得注意和警惕。\n",
    "* 从商品价格分布可以看出，商品销售主要集中在100元以下商品，其中商品销售平均数量为9561，60元以下商品销售额达到均值以上，其余商品在均值以下。"
   ]
  },
  {
   "cell_type": "markdown",
   "metadata": {},
   "source": [
    "# 2 用户行为分析"
   ]
  },
  {
   "cell_type": "markdown",
   "metadata": {},
   "source": [
    "## 2.1 用户下单行为分析\n",
    "###2.1.1 用户消费金额、消费次数的描述统计"
   ]
  },
  {
   "cell_type": "code",
   "execution_count": 36,
   "metadata": {},
   "outputs": [
    {
     "data": {
      "text/html": [
       "<div>\n",
       "<style scoped>\n",
       "    .dataframe tbody tr th:only-of-type {\n",
       "        vertical-align: middle;\n",
       "    }\n",
       "\n",
       "    .dataframe tbody tr th {\n",
       "        vertical-align: top;\n",
       "    }\n",
       "\n",
       "    .dataframe thead th {\n",
       "        text-align: right;\n",
       "    }\n",
       "</style>\n",
       "<table border=\"1\" class=\"dataframe\">\n",
       "  <thead>\n",
       "    <tr style=\"text-align: right;\">\n",
       "      <th></th>\n",
       "      <th>BASK_CODE</th>\n",
       "      <th>SHOP_DATETIME</th>\n",
       "      <th>BASK_SPEND</th>\n",
       "    </tr>\n",
       "  </thead>\n",
       "  <tbody>\n",
       "    <tr>\n",
       "      <th>0</th>\n",
       "      <td>250458</td>\n",
       "      <td>2018-06-01</td>\n",
       "      <td>8.0</td>\n",
       "    </tr>\n",
       "    <tr>\n",
       "      <th>215288</th>\n",
       "      <td>250469</td>\n",
       "      <td>2018-06-01</td>\n",
       "      <td>89.7</td>\n",
       "    </tr>\n",
       "    <tr>\n",
       "      <th>215287</th>\n",
       "      <td>161017</td>\n",
       "      <td>2018-06-01</td>\n",
       "      <td>9.9</td>\n",
       "    </tr>\n",
       "    <tr>\n",
       "      <th>215286</th>\n",
       "      <td>161158</td>\n",
       "      <td>2018-06-01</td>\n",
       "      <td>4.0</td>\n",
       "    </tr>\n",
       "    <tr>\n",
       "      <th>215285</th>\n",
       "      <td>250476</td>\n",
       "      <td>2018-06-01</td>\n",
       "      <td>86.4</td>\n",
       "    </tr>\n",
       "    <tr>\n",
       "      <th>...</th>\n",
       "      <td>...</td>\n",
       "      <td>...</td>\n",
       "      <td>...</td>\n",
       "    </tr>\n",
       "    <tr>\n",
       "      <th>355739</th>\n",
       "      <td>124578</td>\n",
       "      <td>2018-07-05</td>\n",
       "      <td>23.4</td>\n",
       "    </tr>\n",
       "    <tr>\n",
       "      <th>355738</th>\n",
       "      <td>124587</td>\n",
       "      <td>2018-07-05</td>\n",
       "      <td>10.0</td>\n",
       "    </tr>\n",
       "    <tr>\n",
       "      <th>355737</th>\n",
       "      <td>141664</td>\n",
       "      <td>2018-07-05</td>\n",
       "      <td>149.8</td>\n",
       "    </tr>\n",
       "    <tr>\n",
       "      <th>355819</th>\n",
       "      <td>291779</td>\n",
       "      <td>2018-07-05</td>\n",
       "      <td>7.2</td>\n",
       "    </tr>\n",
       "    <tr>\n",
       "      <th>571551</th>\n",
       "      <td>284265</td>\n",
       "      <td>2018-07-05</td>\n",
       "      <td>43.2</td>\n",
       "    </tr>\n",
       "  </tbody>\n",
       "</table>\n",
       "<p>567089 rows × 3 columns</p>\n",
       "</div>"
      ],
      "text/plain": [
       "        BASK_CODE SHOP_DATETIME  BASK_SPEND\n",
       "0          250458    2018-06-01         8.0\n",
       "215288     250469    2018-06-01        89.7\n",
       "215287     161017    2018-06-01         9.9\n",
       "215286     161158    2018-06-01         4.0\n",
       "215285     250476    2018-06-01        86.4\n",
       "...           ...           ...         ...\n",
       "355739     124578    2018-07-05        23.4\n",
       "355738     124587    2018-07-05        10.0\n",
       "355737     141664    2018-07-05       149.8\n",
       "355819     291779    2018-07-05         7.2\n",
       "571551     284265    2018-07-05        43.2\n",
       "\n",
       "[567089 rows x 3 columns]"
      ]
     },
     "execution_count": 36,
     "metadata": {},
     "output_type": "execute_result"
    }
   ],
   "source": [
    "# 客户消费分析\n",
    "grouped_Customer = df_basket[['BASK_CODE','SHOP_DATETIME', \n",
    "          'BASK_SPEND']].sort_values(['SHOP_DATETIME']).groupby('BASK_CODE')\n",
    "grouped_Customer.head()"
   ]
  },
  {
   "cell_type": "code",
   "execution_count": 37,
   "metadata": {},
   "outputs": [
    {
     "data": {
      "text/html": [
       "<div>\n",
       "<style scoped>\n",
       "    .dataframe tbody tr th:only-of-type {\n",
       "        vertical-align: middle;\n",
       "    }\n",
       "\n",
       "    .dataframe tbody tr th {\n",
       "        vertical-align: top;\n",
       "    }\n",
       "\n",
       "    .dataframe thead th {\n",
       "        text-align: right;\n",
       "    }\n",
       "</style>\n",
       "<table border=\"1\" class=\"dataframe\">\n",
       "  <thead>\n",
       "    <tr style=\"text-align: right;\">\n",
       "      <th></th>\n",
       "      <th>SHOP_DATETIME</th>\n",
       "      <th>BASK_SPEND</th>\n",
       "    </tr>\n",
       "  </thead>\n",
       "  <tbody>\n",
       "    <tr>\n",
       "      <th>count</th>\n",
       "      <td>280816.000000</td>\n",
       "      <td>280816.000000</td>\n",
       "    </tr>\n",
       "    <tr>\n",
       "      <th>mean</th>\n",
       "      <td>2.029076</td>\n",
       "      <td>2.029076</td>\n",
       "    </tr>\n",
       "    <tr>\n",
       "      <th>std</th>\n",
       "      <td>1.077605</td>\n",
       "      <td>1.077605</td>\n",
       "    </tr>\n",
       "    <tr>\n",
       "      <th>min</th>\n",
       "      <td>1.000000</td>\n",
       "      <td>1.000000</td>\n",
       "    </tr>\n",
       "    <tr>\n",
       "      <th>25%</th>\n",
       "      <td>1.000000</td>\n",
       "      <td>1.000000</td>\n",
       "    </tr>\n",
       "    <tr>\n",
       "      <th>50%</th>\n",
       "      <td>2.000000</td>\n",
       "      <td>2.000000</td>\n",
       "    </tr>\n",
       "    <tr>\n",
       "      <th>75%</th>\n",
       "      <td>3.000000</td>\n",
       "      <td>3.000000</td>\n",
       "    </tr>\n",
       "    <tr>\n",
       "      <th>max</th>\n",
       "      <td>7.000000</td>\n",
       "      <td>7.000000</td>\n",
       "    </tr>\n",
       "  </tbody>\n",
       "</table>\n",
       "</div>"
      ],
      "text/plain": [
       "       SHOP_DATETIME     BASK_SPEND\n",
       "count  280816.000000  280816.000000\n",
       "mean        2.029076       2.029076\n",
       "std         1.077605       1.077605\n",
       "min         1.000000       1.000000\n",
       "25%         1.000000       1.000000\n",
       "50%         2.000000       2.000000\n",
       "75%         3.000000       3.000000\n",
       "max         7.000000       7.000000"
      ]
     },
     "execution_count": 37,
     "metadata": {},
     "output_type": "execute_result"
    }
   ],
   "source": [
    "# 用户消费金额、消费次数的描述统计(在此为平均每个用户平均消费金额，不是每笔平均消费金额)\n",
    "grouped_Customer.count().describe()"
   ]
  },
  {
   "cell_type": "code",
   "execution_count": 38,
   "metadata": {},
   "outputs": [
    {
     "data": {
      "text/plain": [
       "count    280816.000000\n",
       "mean         80.317314\n",
       "std         282.972947\n",
       "min           0.010000\n",
       "25%          20.700000\n",
       "50%          48.940000\n",
       "75%          98.700000\n",
       "max       80064.900000\n",
       "Name: BASK_SPEND, dtype: float64"
      ]
     },
     "execution_count": 38,
     "metadata": {},
     "output_type": "execute_result"
    }
   ],
   "source": [
    "grouped_Customer['BASK_SPEND'].sum().describe()"
   ]
  },
  {
   "cell_type": "markdown",
   "metadata": {},
   "source": [
    "### 2.1.2 用户消费金额分布图"
   ]
  },
  {
   "cell_type": "code",
   "execution_count": 39,
   "metadata": {},
   "outputs": [
    {
     "data": {
      "text/plain": [
       "<matplotlib.axes._subplots.AxesSubplot at 0x22417e2aa88>"
      ]
     },
     "execution_count": 39,
     "metadata": {},
     "output_type": "execute_result"
    },
    {
     "data": {
      "image/png": "[encoded data removed]",
      "text/plain": [
       "<Figure size 432x288 with 1 Axes>"
      ]
     },
     "metadata": {
      "needs_background": "light"
     },
     "output_type": "display_data"
    }
   ],
   "source": [
    "# 用户消费金额分布图\n",
    "grouped_Customer.sum().BASK_SPEND.plot.hist(bins = 20)"
   ]
  },
  {
   "cell_type": "markdown",
   "metadata": {},
   "source": [
    "可以看出用户消费金额大都集中在0-1000元以内,从上述直方图可以看出，用户消费金额，绝大部分是呈现集中趋势."
   ]
  },
  {
   "cell_type": "code",
   "execution_count": 40,
   "metadata": {},
   "outputs": [
    {
     "data": {
      "text/plain": [
       "{'whiskers': [<matplotlib.lines.Line2D at 0x2241a20df08>,\n",
       "  <matplotlib.lines.Line2D at 0x22427622088>],\n",
       " 'caps': [<matplotlib.lines.Line2D at 0x22427622848>,\n",
       "  <matplotlib.lines.Line2D at 0x22427622fc8>],\n",
       " 'boxes': [<matplotlib.lines.Line2D at 0x2241a1d3bc8>],\n",
       " 'medians': [<matplotlib.lines.Line2D at 0x224276267c8>],\n",
       " 'fliers': [<matplotlib.lines.Line2D at 0x22427626f88>],\n",
       " 'means': []}"
      ]
     },
     "execution_count": 40,
     "metadata": {},
     "output_type": "execute_result"
    },
    {
     "data": {
      "image/png": "[encoded data removed]",
      "text/plain": [
       "<Figure size 432x288 with 1 Axes>"
      ]
     },
     "metadata": {
      "needs_background": "light"
     },
     "output_type": "display_data"
    }
   ],
   "source": [
    "#使用 plt 的 .boxplot() 方法绘制箱线图\n",
    "plt.figure()\n",
    "plt.subplot()\n",
    "plt.boxplot(df_basket[\"BASK_SPEND\"])"
   ]
  },
  {
   "cell_type": "code",
   "execution_count": 41,
   "metadata": {},
   "outputs": [
    {
     "data": {
      "text/plain": [
       "<matplotlib.axes._subplots.AxesSubplot at 0x22427a6c908>"
      ]
     },
     "execution_count": 41,
     "metadata": {},
     "output_type": "execute_result"
    },
    {
     "data": {
      "image/png": "[encoded data removed]",
      "text/plain": [
       "<Figure size 432x288 with 1 Axes>"
      ]
     },
     "metadata": {
      "needs_background": "light"
     },
     "output_type": "display_data"
    }
   ],
   "source": [
    "grouped_Customer.sum().query('BASK_SPEND < 100').BASK_SPEND.plot.hist(width=[1.7],bins = 30)"
   ]
  },
  {
   "cell_type": "markdown",
   "metadata": {},
   "source": [
    "在0-100元的销售统计中，可以看出0-20元更为集中。"
   ]
  },
  {
   "cell_type": "markdown",
   "metadata": {},
   "source": [
    "### 2.1.3 用户累计消费占比"
   ]
  },
  {
   "cell_type": "code",
   "execution_count": 42,
   "metadata": {},
   "outputs": [
    {
     "data": {
      "text/plain": [
       "<matplotlib.axes._subplots.AxesSubplot at 0x2242cf3c708>"
      ]
     },
     "execution_count": 42,
     "metadata": {},
     "output_type": "execute_result"
    },
    {
     "data": {
      "image/png": "[encoded data removed]",
      "text/plain": [
       "<Figure size 432x288 with 1 Axes>"
      ]
     },
     "metadata": {
      "needs_background": "light"
     },
     "output_type": "display_data"
    }
   ],
   "source": [
    "# 用户累计消费占比（百分之多少的用户占百分之多少的销售额）\n",
    "grouped_Customer.sum().sort_values('BASK_SPEND').apply(lambda x : x.cumsum()/ x.sum()).reset_index().BASK_SPEND.plot()"
   ]
  },
  {
   "cell_type": "markdown",
   "metadata": {},
   "source": [
    "按照用户消费金额进行升序排列，并进行累计求和，可以发现：50%的用户贡献了20%的消费额度，而排名前5000的用户就贡献了40%的消费额（曲线上升幅度最大的部分）."
   ]
  },
  {
   "cell_type": "markdown",
   "metadata": {},
   "source": [
    "### 2.1.4 购买时间分析"
   ]
  },
  {
   "cell_type": "code",
   "execution_count": 43,
   "metadata": {},
   "outputs": [
    {
     "data": {
      "text/plain": [
       "<matplotlib.axes._subplots.AxesSubplot at 0x22435fa8508>"
      ]
     },
     "execution_count": 43,
     "metadata": {},
     "output_type": "execute_result"
    },
    {
     "data": {
      "image/png": "[encoded data removed]",
      "text/plain": [
       "<Figure size 432x288 with 1 Axes>"
      ]
     },
     "metadata": {
      "needs_background": "light"
     },
     "output_type": "display_data"
    }
   ],
   "source": [
    "# 用户第一次消费（首购）\n",
    "grouped_Customer.min().SHOP_DATETIME.value_counts().plot()"
   ]
  },
  {
   "cell_type": "markdown",
   "metadata": {},
   "source": [
    "用户第一次购买时间，集中在统计周期的前几天，表明老用户占比较大。"
   ]
  },
  {
   "cell_type": "code",
   "execution_count": 44,
   "metadata": {},
   "outputs": [
    {
     "data": {
      "text/plain": [
       "<matplotlib.axes._subplots.AxesSubplot at 0x224333bf988>"
      ]
     },
     "execution_count": 44,
     "metadata": {},
     "output_type": "execute_result"
    },
    {
     "data": {
      "image/png": "[encoded data removed]",
      "text/plain": [
       "<Figure size 432x288 with 1 Axes>"
      ]
     },
     "metadata": {
      "needs_background": "light"
     },
     "output_type": "display_data"
    }
   ],
   "source": [
    "# 用户最后一次消费\n",
    "grouped_Customer.max().SHOP_DATETIME.value_counts().plot()"
   ]
  },
  {
   "cell_type": "markdown",
   "metadata": {},
   "source": [
    "用户最后一次购买的分布和用户第一次购买分布相反，大部分用户最后一次购买集中在最后一周，说明用户粘性较好。"
   ]
  },
  {
   "cell_type": "markdown",
   "metadata": {},
   "source": [
    "### 新老用户消费比"
   ]
  },
  {
   "cell_type": "code",
   "execution_count": 45,
   "metadata": {},
   "outputs": [
    {
     "data": {
      "text/plain": [
       "([<matplotlib.patches.Wedge at 0x22433465d88>,\n",
       "  <matplotlib.patches.Wedge at 0x2243346b8c8>],\n",
       " [Text(-0.3521304189966928, 1.0421152373980593, 'False'),\n",
       "  Text(0.35213051656656097, -1.042115204429226, 'True')],\n",
       " [Text(-0.19207113763455969, 0.5684264931262142, '60.37%'),\n",
       "  Text(0.1920711908544878, -0.568426475143214, '39.63%')])"
      ]
     },
     "execution_count": 45,
     "metadata": {},
     "output_type": "execute_result"
    },
    {
     "data": {
      "image/png": "[encoded data removed]",
      "text/plain": [
       "<Figure size 432x288 with 1 Axes>"
      ]
     },
     "metadata": {},
     "output_type": "display_data"
    }
   ],
   "source": [
    "# 多少用户仅消费1次\n",
    "user_life =grouped_Customer.SHOP_DATETIME.agg(['min','max'])\n",
    "(user_life['min'] == user_life['max']).value_counts()\n",
    "# 可视化（饼图）\n",
    "plt.pie((user_life['min'] == user_life['max']).value_counts(normalize = True),\n",
    "       autopct='%.2f%%',\n",
    "       labels = (user_life['min'] == user_life['max']).value_counts().index)"
   ]
  },
  {
   "cell_type": "markdown",
   "metadata": {},
   "source": [
    "## 2.2 RFM模型分析"
   ]
  },
  {
   "cell_type": "markdown",
   "metadata": {},
   "source": [
    "### 2.2.1 用户分层 "
   ]
  },
  {
   "cell_type": "code",
   "execution_count": 46,
   "metadata": {},
   "outputs": [],
   "source": [
    "# RFM用户分层\n",
    "rfm = df_basket.pivot_table(index = 'BASK_CODE',\n",
    "                    values = ['STORE_CODE','BASK_SPEND','SHOP_DATETIME'],\n",
    "                    aggfunc= {'BASK_CODE':'count',\n",
    "                             'BASK_SPEND':'sum',\n",
    "                             'SHOP_DATETIME':'max'})"
   ]
  },
  {
   "cell_type": "code",
   "execution_count": 47,
   "metadata": {},
   "outputs": [
    {
     "data": {
      "text/html": [
       "<div>\n",
       "<style scoped>\n",
       "    .dataframe tbody tr th:only-of-type {\n",
       "        vertical-align: middle;\n",
       "    }\n",
       "\n",
       "    .dataframe tbody tr th {\n",
       "        vertical-align: top;\n",
       "    }\n",
       "\n",
       "    .dataframe thead th {\n",
       "        text-align: right;\n",
       "    }\n",
       "</style>\n",
       "<table border=\"1\" class=\"dataframe\">\n",
       "  <thead>\n",
       "    <tr style=\"text-align: right;\">\n",
       "      <th></th>\n",
       "      <th>BASK_CODE</th>\n",
       "      <th>BASK_SPEND</th>\n",
       "      <th>SHOP_DATETIME</th>\n",
       "    </tr>\n",
       "    <tr>\n",
       "      <th>BASK_CODE</th>\n",
       "      <th></th>\n",
       "      <th></th>\n",
       "      <th></th>\n",
       "    </tr>\n",
       "  </thead>\n",
       "  <tbody>\n",
       "    <tr>\n",
       "      <th>961</th>\n",
       "      <td>1</td>\n",
       "      <td>25.0</td>\n",
       "      <td>2018-06-18</td>\n",
       "    </tr>\n",
       "    <tr>\n",
       "      <th>962</th>\n",
       "      <td>1</td>\n",
       "      <td>132.1</td>\n",
       "      <td>2018-06-18</td>\n",
       "    </tr>\n",
       "    <tr>\n",
       "      <th>964</th>\n",
       "      <td>1</td>\n",
       "      <td>28.0</td>\n",
       "      <td>2018-06-18</td>\n",
       "    </tr>\n",
       "    <tr>\n",
       "      <th>965</th>\n",
       "      <td>1</td>\n",
       "      <td>40.0</td>\n",
       "      <td>2018-06-18</td>\n",
       "    </tr>\n",
       "    <tr>\n",
       "      <th>966</th>\n",
       "      <td>1</td>\n",
       "      <td>12.5</td>\n",
       "      <td>2018-06-18</td>\n",
       "    </tr>\n",
       "  </tbody>\n",
       "</table>\n",
       "</div>"
      ],
      "text/plain": [
       "           BASK_CODE  BASK_SPEND SHOP_DATETIME\n",
       "BASK_CODE                                     \n",
       "961                1        25.0    2018-06-18\n",
       "962                1       132.1    2018-06-18\n",
       "964                1        28.0    2018-06-18\n",
       "965                1        40.0    2018-06-18\n",
       "966                1        12.5    2018-06-18"
      ]
     },
     "execution_count": 47,
     "metadata": {},
     "output_type": "execute_result"
    }
   ],
   "source": [
    "rfm.head()"
   ]
  },
  {
   "cell_type": "code",
   "execution_count": 48,
   "metadata": {},
   "outputs": [],
   "source": [
    "rfm['R'] = (rfm.SHOP_DATETIME.max() - rfm.SHOP_DATETIME) / np.timedelta64(1,'D')\n",
    "rfm.rename(columns={'BASK_CODE':'F','BASK_SPEND':'M'},inplace = True)"
   ]
  },
  {
   "cell_type": "code",
   "execution_count": 49,
   "metadata": {},
   "outputs": [
    {
     "data": {
      "text/html": [
       "<div>\n",
       "<style scoped>\n",
       "    .dataframe tbody tr th:only-of-type {\n",
       "        vertical-align: middle;\n",
       "    }\n",
       "\n",
       "    .dataframe tbody tr th {\n",
       "        vertical-align: top;\n",
       "    }\n",
       "\n",
       "    .dataframe thead th {\n",
       "        text-align: right;\n",
       "    }\n",
       "</style>\n",
       "<table border=\"1\" class=\"dataframe\">\n",
       "  <thead>\n",
       "    <tr style=\"text-align: right;\">\n",
       "      <th></th>\n",
       "      <th>F</th>\n",
       "      <th>M</th>\n",
       "      <th>SHOP_DATETIME</th>\n",
       "      <th>R</th>\n",
       "    </tr>\n",
       "    <tr>\n",
       "      <th>BASK_CODE</th>\n",
       "      <th></th>\n",
       "      <th></th>\n",
       "      <th></th>\n",
       "      <th></th>\n",
       "    </tr>\n",
       "  </thead>\n",
       "  <tbody>\n",
       "    <tr>\n",
       "      <th>961</th>\n",
       "      <td>1</td>\n",
       "      <td>25.0</td>\n",
       "      <td>2018-06-18</td>\n",
       "      <td>17.0</td>\n",
       "    </tr>\n",
       "    <tr>\n",
       "      <th>962</th>\n",
       "      <td>1</td>\n",
       "      <td>132.1</td>\n",
       "      <td>2018-06-18</td>\n",
       "      <td>17.0</td>\n",
       "    </tr>\n",
       "    <tr>\n",
       "      <th>964</th>\n",
       "      <td>1</td>\n",
       "      <td>28.0</td>\n",
       "      <td>2018-06-18</td>\n",
       "      <td>17.0</td>\n",
       "    </tr>\n",
       "    <tr>\n",
       "      <th>965</th>\n",
       "      <td>1</td>\n",
       "      <td>40.0</td>\n",
       "      <td>2018-06-18</td>\n",
       "      <td>17.0</td>\n",
       "    </tr>\n",
       "    <tr>\n",
       "      <th>966</th>\n",
       "      <td>1</td>\n",
       "      <td>12.5</td>\n",
       "      <td>2018-06-18</td>\n",
       "      <td>17.0</td>\n",
       "    </tr>\n",
       "    <tr>\n",
       "      <th>...</th>\n",
       "      <td>...</td>\n",
       "      <td>...</td>\n",
       "      <td>...</td>\n",
       "      <td>...</td>\n",
       "    </tr>\n",
       "    <tr>\n",
       "      <th>323910</th>\n",
       "      <td>1</td>\n",
       "      <td>9.0</td>\n",
       "      <td>2018-07-05</td>\n",
       "      <td>0.0</td>\n",
       "    </tr>\n",
       "    <tr>\n",
       "      <th>323911</th>\n",
       "      <td>1</td>\n",
       "      <td>17.4</td>\n",
       "      <td>2018-07-05</td>\n",
       "      <td>0.0</td>\n",
       "    </tr>\n",
       "    <tr>\n",
       "      <th>323912</th>\n",
       "      <td>1</td>\n",
       "      <td>5.9</td>\n",
       "      <td>2018-07-05</td>\n",
       "      <td>0.0</td>\n",
       "    </tr>\n",
       "    <tr>\n",
       "      <th>323913</th>\n",
       "      <td>1</td>\n",
       "      <td>1.0</td>\n",
       "      <td>2018-07-05</td>\n",
       "      <td>0.0</td>\n",
       "    </tr>\n",
       "    <tr>\n",
       "      <th>323914</th>\n",
       "      <td>1</td>\n",
       "      <td>5.0</td>\n",
       "      <td>2018-07-05</td>\n",
       "      <td>0.0</td>\n",
       "    </tr>\n",
       "  </tbody>\n",
       "</table>\n",
       "<p>280816 rows × 4 columns</p>\n",
       "</div>"
      ],
      "text/plain": [
       "           F      M SHOP_DATETIME     R\n",
       "BASK_CODE                              \n",
       "961        1   25.0    2018-06-18  17.0\n",
       "962        1  132.1    2018-06-18  17.0\n",
       "964        1   28.0    2018-06-18  17.0\n",
       "965        1   40.0    2018-06-18  17.0\n",
       "966        1   12.5    2018-06-18  17.0\n",
       "...       ..    ...           ...   ...\n",
       "323910     1    9.0    2018-07-05   0.0\n",
       "323911     1   17.4    2018-07-05   0.0\n",
       "323912     1    5.9    2018-07-05   0.0\n",
       "323913     1    1.0    2018-07-05   0.0\n",
       "323914     1    5.0    2018-07-05   0.0\n",
       "\n",
       "[280816 rows x 4 columns]"
      ]
     },
     "execution_count": 49,
     "metadata": {},
     "output_type": "execute_result"
    }
   ],
   "source": [
    "rfm"
   ]
  },
  {
   "cell_type": "markdown",
   "metadata": {},
   "source": [
    "### 2.2.2建立RFM模型\n",
    "+ R：recency最近一次消费时间，理论上R值越小，价值越高；\n",
    "+ F：frequency最近一次消费频率，消费频率越高意味着这部分用户对产品的满意度越高，用户粘性比较好，忠诚度也高；\n",
    "+ M：Montary最近一段时间消费的金额，符合二八原则"
   ]
  },
  {
   "cell_type": "code",
   "execution_count": 50,
   "metadata": {},
   "outputs": [],
   "source": [
    "def rfm_func(x):\n",
    "    level = x.apply(lambda x:'1' if x > 0 else '0')\n",
    "    label = level.R +level.F + level.M\n",
    "    d = {\n",
    "        '111':'重要价值客户',\n",
    "        '011':'重要保持客户',\n",
    "        '101':'重要发展客户',\n",
    "        '001':'重要挽留客户',\n",
    "        '110':'一般价值客户',\n",
    "        '010':'一般保持客户',\n",
    "        '100':'一般发展客户',\n",
    "        '000':'一般挽留客户'\n",
    "    }\n",
    "    result = d[label]\n",
    "    return result\n",
    "rfm['label'] = rfm[['R','F','M']].apply(lambda x : x - x.mean()).apply(rfm_func,axis=1)"
   ]
  },
  {
   "cell_type": "code",
   "execution_count": 51,
   "metadata": {},
   "outputs": [
    {
     "data": {
      "text/html": [
       "<div>\n",
       "<style scoped>\n",
       "    .dataframe tbody tr th:only-of-type {\n",
       "        vertical-align: middle;\n",
       "    }\n",
       "\n",
       "    .dataframe tbody tr th {\n",
       "        vertical-align: top;\n",
       "    }\n",
       "\n",
       "    .dataframe thead th {\n",
       "        text-align: right;\n",
       "    }\n",
       "</style>\n",
       "<table border=\"1\" class=\"dataframe\">\n",
       "  <thead>\n",
       "    <tr style=\"text-align: right;\">\n",
       "      <th></th>\n",
       "      <th>F</th>\n",
       "      <th>M</th>\n",
       "      <th>R</th>\n",
       "    </tr>\n",
       "    <tr>\n",
       "      <th>label</th>\n",
       "      <th></th>\n",
       "      <th></th>\n",
       "      <th></th>\n",
       "    </tr>\n",
       "  </thead>\n",
       "  <tbody>\n",
       "    <tr>\n",
       "      <th>一般价值客户</th>\n",
       "      <td>24142</td>\n",
       "      <td>390991.43</td>\n",
       "      <td>136245.0</td>\n",
       "    </tr>\n",
       "    <tr>\n",
       "      <th>一般保持客户</th>\n",
       "      <td>78408</td>\n",
       "      <td>1245849.52</td>\n",
       "      <td>121598.0</td>\n",
       "    </tr>\n",
       "    <tr>\n",
       "      <th>一般发展客户</th>\n",
       "      <td>117098</td>\n",
       "      <td>2568485.95</td>\n",
       "      <td>1965610.0</td>\n",
       "    </tr>\n",
       "    <tr>\n",
       "      <th>一般挽留客户</th>\n",
       "      <td>102901</td>\n",
       "      <td>2110018.61</td>\n",
       "      <td>393603.0</td>\n",
       "    </tr>\n",
       "    <tr>\n",
       "      <th>重要价值客户</th>\n",
       "      <td>36373</td>\n",
       "      <td>1951109.06</td>\n",
       "      <td>190993.0</td>\n",
       "    </tr>\n",
       "    <tr>\n",
       "      <th>重要保持客户</th>\n",
       "      <td>144084</td>\n",
       "      <td>7526893.87</td>\n",
       "      <td>188421.0</td>\n",
       "    </tr>\n",
       "    <tr>\n",
       "      <th>重要发展客户</th>\n",
       "      <td>34998</td>\n",
       "      <td>3760221.04</td>\n",
       "      <td>454196.0</td>\n",
       "    </tr>\n",
       "    <tr>\n",
       "      <th>重要挽留客户</th>\n",
       "      <td>31793</td>\n",
       "      <td>3000817.29</td>\n",
       "      <td>93646.0</td>\n",
       "    </tr>\n",
       "  </tbody>\n",
       "</table>\n",
       "</div>"
      ],
      "text/plain": [
       "             F           M          R\n",
       "label                                \n",
       "一般价值客户   24142   390991.43   136245.0\n",
       "一般保持客户   78408  1245849.52   121598.0\n",
       "一般发展客户  117098  2568485.95  1965610.0\n",
       "一般挽留客户  102901  2110018.61   393603.0\n",
       "重要价值客户   36373  1951109.06   190993.0\n",
       "重要保持客户  144084  7526893.87   188421.0\n",
       "重要发展客户   34998  3760221.04   454196.0\n",
       "重要挽留客户   31793  3000817.29    93646.0"
      ]
     },
     "execution_count": 51,
     "metadata": {},
     "output_type": "execute_result"
    }
   ],
   "source": [
    "rfm.groupby('label').sum()"
   ]
  },
  {
   "cell_type": "code",
   "execution_count": 52,
   "metadata": {},
   "outputs": [
    {
     "data": {
      "text/html": [
       "<div>\n",
       "<style scoped>\n",
       "    .dataframe tbody tr th:only-of-type {\n",
       "        vertical-align: middle;\n",
       "    }\n",
       "\n",
       "    .dataframe tbody tr th {\n",
       "        vertical-align: top;\n",
       "    }\n",
       "\n",
       "    .dataframe thead th {\n",
       "        text-align: right;\n",
       "    }\n",
       "</style>\n",
       "<table border=\"1\" class=\"dataframe\">\n",
       "  <thead>\n",
       "    <tr style=\"text-align: right;\">\n",
       "      <th></th>\n",
       "      <th>F</th>\n",
       "      <th>M</th>\n",
       "      <th>SHOP_DATETIME</th>\n",
       "      <th>R</th>\n",
       "    </tr>\n",
       "    <tr>\n",
       "      <th>label</th>\n",
       "      <th></th>\n",
       "      <th></th>\n",
       "      <th></th>\n",
       "      <th></th>\n",
       "    </tr>\n",
       "  </thead>\n",
       "  <tbody>\n",
       "    <tr>\n",
       "      <th>一般价值客户</th>\n",
       "      <td>7660</td>\n",
       "      <td>7660</td>\n",
       "      <td>7660</td>\n",
       "      <td>7660</td>\n",
       "    </tr>\n",
       "    <tr>\n",
       "      <th>一般保持客户</th>\n",
       "      <td>24357</td>\n",
       "      <td>24357</td>\n",
       "      <td>24357</td>\n",
       "      <td>24357</td>\n",
       "    </tr>\n",
       "    <tr>\n",
       "      <th>一般发展客户</th>\n",
       "      <td>89623</td>\n",
       "      <td>89623</td>\n",
       "      <td>89623</td>\n",
       "      <td>89623</td>\n",
       "    </tr>\n",
       "    <tr>\n",
       "      <th>一般挽留客户</th>\n",
       "      <td>69282</td>\n",
       "      <td>69282</td>\n",
       "      <td>69282</td>\n",
       "      <td>69282</td>\n",
       "    </tr>\n",
       "    <tr>\n",
       "      <th>重要价值客户</th>\n",
       "      <td>10875</td>\n",
       "      <td>10875</td>\n",
       "      <td>10875</td>\n",
       "      <td>10875</td>\n",
       "    </tr>\n",
       "    <tr>\n",
       "      <th>重要保持客户</th>\n",
       "      <td>39323</td>\n",
       "      <td>39323</td>\n",
       "      <td>39323</td>\n",
       "      <td>39323</td>\n",
       "    </tr>\n",
       "    <tr>\n",
       "      <th>重要发展客户</th>\n",
       "      <td>21908</td>\n",
       "      <td>21908</td>\n",
       "      <td>21908</td>\n",
       "      <td>21908</td>\n",
       "    </tr>\n",
       "    <tr>\n",
       "      <th>重要挽留客户</th>\n",
       "      <td>17788</td>\n",
       "      <td>17788</td>\n",
       "      <td>17788</td>\n",
       "      <td>17788</td>\n",
       "    </tr>\n",
       "  </tbody>\n",
       "</table>\n",
       "</div>"
      ],
      "text/plain": [
       "            F      M  SHOP_DATETIME      R\n",
       "label                                     \n",
       "一般价值客户   7660   7660           7660   7660\n",
       "一般保持客户  24357  24357          24357  24357\n",
       "一般发展客户  89623  89623          89623  89623\n",
       "一般挽留客户  69282  69282          69282  69282\n",
       "重要价值客户  10875  10875          10875  10875\n",
       "重要保持客户  39323  39323          39323  39323\n",
       "重要发展客户  21908  21908          21908  21908\n",
       "重要挽留客户  17788  17788          17788  17788"
      ]
     },
     "execution_count": 52,
     "metadata": {},
     "output_type": "execute_result"
    }
   ],
   "source": [
    "rfm.groupby('label').count()"
   ]
  },
  {
   "cell_type": "code",
   "execution_count": 53,
   "metadata": {},
   "outputs": [
    {
     "data": {
      "text/plain": [
       "<matplotlib.axes._subplots.AxesSubplot at 0x224334bb988>"
      ]
     },
     "execution_count": 53,
     "metadata": {},
     "output_type": "execute_result"
    },
    {
     "data": {
      "image/png": "[encoded data removed]",
      "text/plain": [
       "<Figure size 432x288 with 1 Axes>"
      ]
     },
     "metadata": {
      "needs_background": "light"
     },
     "output_type": "display_data"
    }
   ],
   "source": [
    "rfm.loc[rfm.label == '重要价值客户','color'] = 'g'\n",
    "rfm.loc[rfm.label != '重要价值客户','color'] = 'r'\n",
    "rfm.plot.scatter('F','R',c = rfm.color)"
   ]
  },
  {
   "cell_type": "markdown",
   "metadata": {},
   "source": [
    "### \n",
    "由于统计周期短，用户购买频率较低，RFM分层结果不明确，无法明显看出用户分层。但重要保持用户可以看出为最大群体。"
   ]
  },
  {
   "cell_type": "code",
   "execution_count": 54,
   "metadata": {},
   "outputs": [],
   "source": [
    "# 用户生命周期-新、老、活跃、回流、流失\n",
    "df_basket['day'] = df_basket.SHOP_DATETIME.values.astype('datetime64[D]')\n",
    "pivoted_counts = df_basket.pivot_table(index = 'BASK_CODE',\n",
    "                               columns= 'day',\n",
    "                               values= 'SHOP_DATETIME',\n",
    "                               aggfunc= 'count').fillna(0)"
   ]
  },
  {
   "cell_type": "code",
   "execution_count": 55,
   "metadata": {},
   "outputs": [
    {
     "data": {
      "text/html": [
       "<div>\n",
       "<style scoped>\n",
       "    .dataframe tbody tr th:only-of-type {\n",
       "        vertical-align: middle;\n",
       "    }\n",
       "\n",
       "    .dataframe tbody tr th {\n",
       "        vertical-align: top;\n",
       "    }\n",
       "\n",
       "    .dataframe thead th {\n",
       "        text-align: right;\n",
       "    }\n",
       "</style>\n",
       "<table border=\"1\" class=\"dataframe\">\n",
       "  <thead>\n",
       "    <tr style=\"text-align: right;\">\n",
       "      <th>day</th>\n",
       "      <th>2018-06-01</th>\n",
       "      <th>2018-06-02</th>\n",
       "      <th>2018-06-03</th>\n",
       "      <th>2018-06-04</th>\n",
       "      <th>2018-06-05</th>\n",
       "      <th>2018-06-06</th>\n",
       "      <th>2018-06-07</th>\n",
       "      <th>2018-06-08</th>\n",
       "      <th>2018-06-09</th>\n",
       "      <th>2018-06-10</th>\n",
       "      <th>...</th>\n",
       "      <th>2018-06-26</th>\n",
       "      <th>2018-06-27</th>\n",
       "      <th>2018-06-28</th>\n",
       "      <th>2018-06-29</th>\n",
       "      <th>2018-06-30</th>\n",
       "      <th>2018-07-01</th>\n",
       "      <th>2018-07-02</th>\n",
       "      <th>2018-07-03</th>\n",
       "      <th>2018-07-04</th>\n",
       "      <th>2018-07-05</th>\n",
       "    </tr>\n",
       "    <tr>\n",
       "      <th>BASK_CODE</th>\n",
       "      <th></th>\n",
       "      <th></th>\n",
       "      <th></th>\n",
       "      <th></th>\n",
       "      <th></th>\n",
       "      <th></th>\n",
       "      <th></th>\n",
       "      <th></th>\n",
       "      <th></th>\n",
       "      <th></th>\n",
       "      <th></th>\n",
       "      <th></th>\n",
       "      <th></th>\n",
       "      <th></th>\n",
       "      <th></th>\n",
       "      <th></th>\n",
       "      <th></th>\n",
       "      <th></th>\n",
       "      <th></th>\n",
       "      <th></th>\n",
       "      <th></th>\n",
       "    </tr>\n",
       "  </thead>\n",
       "  <tbody>\n",
       "    <tr>\n",
       "      <th>961</th>\n",
       "      <td>0.0</td>\n",
       "      <td>0.0</td>\n",
       "      <td>0.0</td>\n",
       "      <td>0.0</td>\n",
       "      <td>0.0</td>\n",
       "      <td>0.0</td>\n",
       "      <td>0.0</td>\n",
       "      <td>0.0</td>\n",
       "      <td>0.0</td>\n",
       "      <td>0.0</td>\n",
       "      <td>...</td>\n",
       "      <td>0.0</td>\n",
       "      <td>0.0</td>\n",
       "      <td>0.0</td>\n",
       "      <td>0.0</td>\n",
       "      <td>0.0</td>\n",
       "      <td>0.0</td>\n",
       "      <td>0.0</td>\n",
       "      <td>0.0</td>\n",
       "      <td>0.0</td>\n",
       "      <td>0.0</td>\n",
       "    </tr>\n",
       "    <tr>\n",
       "      <th>962</th>\n",
       "      <td>0.0</td>\n",
       "      <td>0.0</td>\n",
       "      <td>0.0</td>\n",
       "      <td>0.0</td>\n",
       "      <td>0.0</td>\n",
       "      <td>0.0</td>\n",
       "      <td>0.0</td>\n",
       "      <td>0.0</td>\n",
       "      <td>0.0</td>\n",
       "      <td>0.0</td>\n",
       "      <td>...</td>\n",
       "      <td>0.0</td>\n",
       "      <td>0.0</td>\n",
       "      <td>0.0</td>\n",
       "      <td>0.0</td>\n",
       "      <td>0.0</td>\n",
       "      <td>0.0</td>\n",
       "      <td>0.0</td>\n",
       "      <td>0.0</td>\n",
       "      <td>0.0</td>\n",
       "      <td>0.0</td>\n",
       "    </tr>\n",
       "    <tr>\n",
       "      <th>964</th>\n",
       "      <td>0.0</td>\n",
       "      <td>0.0</td>\n",
       "      <td>0.0</td>\n",
       "      <td>0.0</td>\n",
       "      <td>0.0</td>\n",
       "      <td>0.0</td>\n",
       "      <td>0.0</td>\n",
       "      <td>0.0</td>\n",
       "      <td>0.0</td>\n",
       "      <td>0.0</td>\n",
       "      <td>...</td>\n",
       "      <td>0.0</td>\n",
       "      <td>0.0</td>\n",
       "      <td>0.0</td>\n",
       "      <td>0.0</td>\n",
       "      <td>0.0</td>\n",
       "      <td>0.0</td>\n",
       "      <td>0.0</td>\n",
       "      <td>0.0</td>\n",
       "      <td>0.0</td>\n",
       "      <td>0.0</td>\n",
       "    </tr>\n",
       "    <tr>\n",
       "      <th>965</th>\n",
       "      <td>0.0</td>\n",
       "      <td>0.0</td>\n",
       "      <td>0.0</td>\n",
       "      <td>0.0</td>\n",
       "      <td>0.0</td>\n",
       "      <td>0.0</td>\n",
       "      <td>0.0</td>\n",
       "      <td>0.0</td>\n",
       "      <td>0.0</td>\n",
       "      <td>0.0</td>\n",
       "      <td>...</td>\n",
       "      <td>0.0</td>\n",
       "      <td>0.0</td>\n",
       "      <td>0.0</td>\n",
       "      <td>0.0</td>\n",
       "      <td>0.0</td>\n",
       "      <td>0.0</td>\n",
       "      <td>0.0</td>\n",
       "      <td>0.0</td>\n",
       "      <td>0.0</td>\n",
       "      <td>0.0</td>\n",
       "    </tr>\n",
       "    <tr>\n",
       "      <th>966</th>\n",
       "      <td>0.0</td>\n",
       "      <td>0.0</td>\n",
       "      <td>0.0</td>\n",
       "      <td>0.0</td>\n",
       "      <td>0.0</td>\n",
       "      <td>0.0</td>\n",
       "      <td>0.0</td>\n",
       "      <td>0.0</td>\n",
       "      <td>0.0</td>\n",
       "      <td>0.0</td>\n",
       "      <td>...</td>\n",
       "      <td>0.0</td>\n",
       "      <td>0.0</td>\n",
       "      <td>0.0</td>\n",
       "      <td>0.0</td>\n",
       "      <td>0.0</td>\n",
       "      <td>0.0</td>\n",
       "      <td>0.0</td>\n",
       "      <td>0.0</td>\n",
       "      <td>0.0</td>\n",
       "      <td>0.0</td>\n",
       "    </tr>\n",
       "    <tr>\n",
       "      <th>...</th>\n",
       "      <td>...</td>\n",
       "      <td>...</td>\n",
       "      <td>...</td>\n",
       "      <td>...</td>\n",
       "      <td>...</td>\n",
       "      <td>...</td>\n",
       "      <td>...</td>\n",
       "      <td>...</td>\n",
       "      <td>...</td>\n",
       "      <td>...</td>\n",
       "      <td>...</td>\n",
       "      <td>...</td>\n",
       "      <td>...</td>\n",
       "      <td>...</td>\n",
       "      <td>...</td>\n",
       "      <td>...</td>\n",
       "      <td>...</td>\n",
       "      <td>...</td>\n",
       "      <td>...</td>\n",
       "      <td>...</td>\n",
       "      <td>...</td>\n",
       "    </tr>\n",
       "    <tr>\n",
       "      <th>323910</th>\n",
       "      <td>0.0</td>\n",
       "      <td>0.0</td>\n",
       "      <td>0.0</td>\n",
       "      <td>0.0</td>\n",
       "      <td>0.0</td>\n",
       "      <td>0.0</td>\n",
       "      <td>0.0</td>\n",
       "      <td>0.0</td>\n",
       "      <td>0.0</td>\n",
       "      <td>0.0</td>\n",
       "      <td>...</td>\n",
       "      <td>0.0</td>\n",
       "      <td>0.0</td>\n",
       "      <td>0.0</td>\n",
       "      <td>0.0</td>\n",
       "      <td>0.0</td>\n",
       "      <td>0.0</td>\n",
       "      <td>0.0</td>\n",
       "      <td>0.0</td>\n",
       "      <td>0.0</td>\n",
       "      <td>1.0</td>\n",
       "    </tr>\n",
       "    <tr>\n",
       "      <th>323911</th>\n",
       "      <td>0.0</td>\n",
       "      <td>0.0</td>\n",
       "      <td>0.0</td>\n",
       "      <td>0.0</td>\n",
       "      <td>0.0</td>\n",
       "      <td>0.0</td>\n",
       "      <td>0.0</td>\n",
       "      <td>0.0</td>\n",
       "      <td>0.0</td>\n",
       "      <td>0.0</td>\n",
       "      <td>...</td>\n",
       "      <td>0.0</td>\n",
       "      <td>0.0</td>\n",
       "      <td>0.0</td>\n",
       "      <td>0.0</td>\n",
       "      <td>0.0</td>\n",
       "      <td>0.0</td>\n",
       "      <td>0.0</td>\n",
       "      <td>0.0</td>\n",
       "      <td>0.0</td>\n",
       "      <td>1.0</td>\n",
       "    </tr>\n",
       "    <tr>\n",
       "      <th>323912</th>\n",
       "      <td>0.0</td>\n",
       "      <td>0.0</td>\n",
       "      <td>0.0</td>\n",
       "      <td>0.0</td>\n",
       "      <td>0.0</td>\n",
       "      <td>0.0</td>\n",
       "      <td>0.0</td>\n",
       "      <td>0.0</td>\n",
       "      <td>0.0</td>\n",
       "      <td>0.0</td>\n",
       "      <td>...</td>\n",
       "      <td>0.0</td>\n",
       "      <td>0.0</td>\n",
       "      <td>0.0</td>\n",
       "      <td>0.0</td>\n",
       "      <td>0.0</td>\n",
       "      <td>0.0</td>\n",
       "      <td>0.0</td>\n",
       "      <td>0.0</td>\n",
       "      <td>0.0</td>\n",
       "      <td>1.0</td>\n",
       "    </tr>\n",
       "    <tr>\n",
       "      <th>323913</th>\n",
       "      <td>0.0</td>\n",
       "      <td>0.0</td>\n",
       "      <td>0.0</td>\n",
       "      <td>0.0</td>\n",
       "      <td>0.0</td>\n",
       "      <td>0.0</td>\n",
       "      <td>0.0</td>\n",
       "      <td>0.0</td>\n",
       "      <td>0.0</td>\n",
       "      <td>0.0</td>\n",
       "      <td>...</td>\n",
       "      <td>0.0</td>\n",
       "      <td>0.0</td>\n",
       "      <td>0.0</td>\n",
       "      <td>0.0</td>\n",
       "      <td>0.0</td>\n",
       "      <td>0.0</td>\n",
       "      <td>0.0</td>\n",
       "      <td>0.0</td>\n",
       "      <td>0.0</td>\n",
       "      <td>1.0</td>\n",
       "    </tr>\n",
       "    <tr>\n",
       "      <th>323914</th>\n",
       "      <td>0.0</td>\n",
       "      <td>0.0</td>\n",
       "      <td>0.0</td>\n",
       "      <td>0.0</td>\n",
       "      <td>0.0</td>\n",
       "      <td>0.0</td>\n",
       "      <td>0.0</td>\n",
       "      <td>0.0</td>\n",
       "      <td>0.0</td>\n",
       "      <td>0.0</td>\n",
       "      <td>...</td>\n",
       "      <td>0.0</td>\n",
       "      <td>0.0</td>\n",
       "      <td>0.0</td>\n",
       "      <td>0.0</td>\n",
       "      <td>0.0</td>\n",
       "      <td>0.0</td>\n",
       "      <td>0.0</td>\n",
       "      <td>0.0</td>\n",
       "      <td>0.0</td>\n",
       "      <td>1.0</td>\n",
       "    </tr>\n",
       "  </tbody>\n",
       "</table>\n",
       "<p>280816 rows × 35 columns</p>\n",
       "</div>"
      ],
      "text/plain": [
       "day        2018-06-01  2018-06-02  2018-06-03  2018-06-04  2018-06-05  \\\n",
       "BASK_CODE                                                               \n",
       "961               0.0         0.0         0.0         0.0         0.0   \n",
       "962               0.0         0.0         0.0         0.0         0.0   \n",
       "964               0.0         0.0         0.0         0.0         0.0   \n",
       "965               0.0         0.0         0.0         0.0         0.0   \n",
       "966               0.0         0.0         0.0         0.0         0.0   \n",
       "...               ...         ...         ...         ...         ...   \n",
       "323910            0.0         0.0         0.0         0.0         0.0   \n",
       "323911            0.0         0.0         0.0         0.0         0.0   \n",
       "323912            0.0         0.0         0.0         0.0         0.0   \n",
       "323913            0.0         0.0         0.0         0.0         0.0   \n",
       "323914            0.0         0.0         0.0         0.0         0.0   \n",
       "\n",
       "day        2018-06-06  2018-06-07  2018-06-08  2018-06-09  2018-06-10  ...  \\\n",
       "BASK_CODE                                                              ...   \n",
       "961               0.0         0.0         0.0         0.0         0.0  ...   \n",
       "962               0.0         0.0         0.0         0.0         0.0  ...   \n",
       "964               0.0         0.0         0.0         0.0         0.0  ...   \n",
       "965               0.0         0.0         0.0         0.0         0.0  ...   \n",
       "966               0.0         0.0         0.0         0.0         0.0  ...   \n",
       "...               ...         ...         ...         ...         ...  ...   \n",
       "323910            0.0         0.0         0.0         0.0         0.0  ...   \n",
       "323911            0.0         0.0         0.0         0.0         0.0  ...   \n",
       "323912            0.0         0.0         0.0         0.0         0.0  ...   \n",
       "323913            0.0         0.0         0.0         0.0         0.0  ...   \n",
       "323914            0.0         0.0         0.0         0.0         0.0  ...   \n",
       "\n",
       "day        2018-06-26  2018-06-27  2018-06-28  2018-06-29  2018-06-30  \\\n",
       "BASK_CODE                                                               \n",
       "961               0.0         0.0         0.0         0.0         0.0   \n",
       "962               0.0         0.0         0.0         0.0         0.0   \n",
       "964               0.0         0.0         0.0         0.0         0.0   \n",
       "965               0.0         0.0         0.0         0.0         0.0   \n",
       "966               0.0         0.0         0.0         0.0         0.0   \n",
       "...               ...         ...         ...         ...         ...   \n",
       "323910            0.0         0.0         0.0         0.0         0.0   \n",
       "323911            0.0         0.0         0.0         0.0         0.0   \n",
       "323912            0.0         0.0         0.0         0.0         0.0   \n",
       "323913            0.0         0.0         0.0         0.0         0.0   \n",
       "323914            0.0         0.0         0.0         0.0         0.0   \n",
       "\n",
       "day        2018-07-01  2018-07-02  2018-07-03  2018-07-04  2018-07-05  \n",
       "BASK_CODE                                                              \n",
       "961               0.0         0.0         0.0         0.0         0.0  \n",
       "962               0.0         0.0         0.0         0.0         0.0  \n",
       "964               0.0         0.0         0.0         0.0         0.0  \n",
       "965               0.0         0.0         0.0         0.0         0.0  \n",
       "966               0.0         0.0         0.0         0.0         0.0  \n",
       "...               ...         ...         ...         ...         ...  \n",
       "323910            0.0         0.0         0.0         0.0         1.0  \n",
       "323911            0.0         0.0         0.0         0.0         1.0  \n",
       "323912            0.0         0.0         0.0         0.0         1.0  \n",
       "323913            0.0         0.0         0.0         0.0         1.0  \n",
       "323914            0.0         0.0         0.0         0.0         1.0  \n",
       "\n",
       "[280816 rows x 35 columns]"
      ]
     },
     "execution_count": 55,
     "metadata": {},
     "output_type": "execute_result"
    }
   ],
   "source": [
    "pivoted_counts"
   ]
  },
  {
   "cell_type": "code",
   "execution_count": 56,
   "metadata": {},
   "outputs": [],
   "source": [
    "# 进行简化\n",
    "df_purchase = pivoted_counts.applymap(lambda x : 1 if x>0 else 0)"
   ]
  },
  {
   "cell_type": "code",
   "execution_count": 57,
   "metadata": {},
   "outputs": [
    {
     "data": {
      "text/html": [
       "<div>\n",
       "<style scoped>\n",
       "    .dataframe tbody tr th:only-of-type {\n",
       "        vertical-align: middle;\n",
       "    }\n",
       "\n",
       "    .dataframe tbody tr th {\n",
       "        vertical-align: top;\n",
       "    }\n",
       "\n",
       "    .dataframe thead th {\n",
       "        text-align: right;\n",
       "    }\n",
       "</style>\n",
       "<table border=\"1\" class=\"dataframe\">\n",
       "  <thead>\n",
       "    <tr style=\"text-align: right;\">\n",
       "      <th>day</th>\n",
       "      <th>2018-06-01</th>\n",
       "      <th>2018-06-02</th>\n",
       "      <th>2018-06-03</th>\n",
       "      <th>2018-06-04</th>\n",
       "      <th>2018-06-05</th>\n",
       "      <th>2018-06-06</th>\n",
       "      <th>2018-06-07</th>\n",
       "      <th>2018-06-08</th>\n",
       "      <th>2018-06-09</th>\n",
       "      <th>2018-06-10</th>\n",
       "      <th>...</th>\n",
       "      <th>2018-06-26</th>\n",
       "      <th>2018-06-27</th>\n",
       "      <th>2018-06-28</th>\n",
       "      <th>2018-06-29</th>\n",
       "      <th>2018-06-30</th>\n",
       "      <th>2018-07-01</th>\n",
       "      <th>2018-07-02</th>\n",
       "      <th>2018-07-03</th>\n",
       "      <th>2018-07-04</th>\n",
       "      <th>2018-07-05</th>\n",
       "    </tr>\n",
       "    <tr>\n",
       "      <th>BASK_CODE</th>\n",
       "      <th></th>\n",
       "      <th></th>\n",
       "      <th></th>\n",
       "      <th></th>\n",
       "      <th></th>\n",
       "      <th></th>\n",
       "      <th></th>\n",
       "      <th></th>\n",
       "      <th></th>\n",
       "      <th></th>\n",
       "      <th></th>\n",
       "      <th></th>\n",
       "      <th></th>\n",
       "      <th></th>\n",
       "      <th></th>\n",
       "      <th></th>\n",
       "      <th></th>\n",
       "      <th></th>\n",
       "      <th></th>\n",
       "      <th></th>\n",
       "      <th></th>\n",
       "    </tr>\n",
       "  </thead>\n",
       "  <tbody>\n",
       "    <tr>\n",
       "      <th>961</th>\n",
       "      <td>0</td>\n",
       "      <td>0</td>\n",
       "      <td>0</td>\n",
       "      <td>0</td>\n",
       "      <td>0</td>\n",
       "      <td>0</td>\n",
       "      <td>0</td>\n",
       "      <td>0</td>\n",
       "      <td>0</td>\n",
       "      <td>0</td>\n",
       "      <td>...</td>\n",
       "      <td>0</td>\n",
       "      <td>0</td>\n",
       "      <td>0</td>\n",
       "      <td>0</td>\n",
       "      <td>0</td>\n",
       "      <td>0</td>\n",
       "      <td>0</td>\n",
       "      <td>0</td>\n",
       "      <td>0</td>\n",
       "      <td>0</td>\n",
       "    </tr>\n",
       "    <tr>\n",
       "      <th>962</th>\n",
       "      <td>0</td>\n",
       "      <td>0</td>\n",
       "      <td>0</td>\n",
       "      <td>0</td>\n",
       "      <td>0</td>\n",
       "      <td>0</td>\n",
       "      <td>0</td>\n",
       "      <td>0</td>\n",
       "      <td>0</td>\n",
       "      <td>0</td>\n",
       "      <td>...</td>\n",
       "      <td>0</td>\n",
       "      <td>0</td>\n",
       "      <td>0</td>\n",
       "      <td>0</td>\n",
       "      <td>0</td>\n",
       "      <td>0</td>\n",
       "      <td>0</td>\n",
       "      <td>0</td>\n",
       "      <td>0</td>\n",
       "      <td>0</td>\n",
       "    </tr>\n",
       "    <tr>\n",
       "      <th>964</th>\n",
       "      <td>0</td>\n",
       "      <td>0</td>\n",
       "      <td>0</td>\n",
       "      <td>0</td>\n",
       "      <td>0</td>\n",
       "      <td>0</td>\n",
       "      <td>0</td>\n",
       "      <td>0</td>\n",
       "      <td>0</td>\n",
       "      <td>0</td>\n",
       "      <td>...</td>\n",
       "      <td>0</td>\n",
       "      <td>0</td>\n",
       "      <td>0</td>\n",
       "      <td>0</td>\n",
       "      <td>0</td>\n",
       "      <td>0</td>\n",
       "      <td>0</td>\n",
       "      <td>0</td>\n",
       "      <td>0</td>\n",
       "      <td>0</td>\n",
       "    </tr>\n",
       "    <tr>\n",
       "      <th>965</th>\n",
       "      <td>0</td>\n",
       "      <td>0</td>\n",
       "      <td>0</td>\n",
       "      <td>0</td>\n",
       "      <td>0</td>\n",
       "      <td>0</td>\n",
       "      <td>0</td>\n",
       "      <td>0</td>\n",
       "      <td>0</td>\n",
       "      <td>0</td>\n",
       "      <td>...</td>\n",
       "      <td>0</td>\n",
       "      <td>0</td>\n",
       "      <td>0</td>\n",
       "      <td>0</td>\n",
       "      <td>0</td>\n",
       "      <td>0</td>\n",
       "      <td>0</td>\n",
       "      <td>0</td>\n",
       "      <td>0</td>\n",
       "      <td>0</td>\n",
       "    </tr>\n",
       "    <tr>\n",
       "      <th>966</th>\n",
       "      <td>0</td>\n",
       "      <td>0</td>\n",
       "      <td>0</td>\n",
       "      <td>0</td>\n",
       "      <td>0</td>\n",
       "      <td>0</td>\n",
       "      <td>0</td>\n",
       "      <td>0</td>\n",
       "      <td>0</td>\n",
       "      <td>0</td>\n",
       "      <td>...</td>\n",
       "      <td>0</td>\n",
       "      <td>0</td>\n",
       "      <td>0</td>\n",
       "      <td>0</td>\n",
       "      <td>0</td>\n",
       "      <td>0</td>\n",
       "      <td>0</td>\n",
       "      <td>0</td>\n",
       "      <td>0</td>\n",
       "      <td>0</td>\n",
       "    </tr>\n",
       "    <tr>\n",
       "      <th>...</th>\n",
       "      <td>...</td>\n",
       "      <td>...</td>\n",
       "      <td>...</td>\n",
       "      <td>...</td>\n",
       "      <td>...</td>\n",
       "      <td>...</td>\n",
       "      <td>...</td>\n",
       "      <td>...</td>\n",
       "      <td>...</td>\n",
       "      <td>...</td>\n",
       "      <td>...</td>\n",
       "      <td>...</td>\n",
       "      <td>...</td>\n",
       "      <td>...</td>\n",
       "      <td>...</td>\n",
       "      <td>...</td>\n",
       "      <td>...</td>\n",
       "      <td>...</td>\n",
       "      <td>...</td>\n",
       "      <td>...</td>\n",
       "      <td>...</td>\n",
       "    </tr>\n",
       "    <tr>\n",
       "      <th>323910</th>\n",
       "      <td>0</td>\n",
       "      <td>0</td>\n",
       "      <td>0</td>\n",
       "      <td>0</td>\n",
       "      <td>0</td>\n",
       "      <td>0</td>\n",
       "      <td>0</td>\n",
       "      <td>0</td>\n",
       "      <td>0</td>\n",
       "      <td>0</td>\n",
       "      <td>...</td>\n",
       "      <td>0</td>\n",
       "      <td>0</td>\n",
       "      <td>0</td>\n",
       "      <td>0</td>\n",
       "      <td>0</td>\n",
       "      <td>0</td>\n",
       "      <td>0</td>\n",
       "      <td>0</td>\n",
       "      <td>0</td>\n",
       "      <td>1</td>\n",
       "    </tr>\n",
       "    <tr>\n",
       "      <th>323911</th>\n",
       "      <td>0</td>\n",
       "      <td>0</td>\n",
       "      <td>0</td>\n",
       "      <td>0</td>\n",
       "      <td>0</td>\n",
       "      <td>0</td>\n",
       "      <td>0</td>\n",
       "      <td>0</td>\n",
       "      <td>0</td>\n",
       "      <td>0</td>\n",
       "      <td>...</td>\n",
       "      <td>0</td>\n",
       "      <td>0</td>\n",
       "      <td>0</td>\n",
       "      <td>0</td>\n",
       "      <td>0</td>\n",
       "      <td>0</td>\n",
       "      <td>0</td>\n",
       "      <td>0</td>\n",
       "      <td>0</td>\n",
       "      <td>1</td>\n",
       "    </tr>\n",
       "    <tr>\n",
       "      <th>323912</th>\n",
       "      <td>0</td>\n",
       "      <td>0</td>\n",
       "      <td>0</td>\n",
       "      <td>0</td>\n",
       "      <td>0</td>\n",
       "      <td>0</td>\n",
       "      <td>0</td>\n",
       "      <td>0</td>\n",
       "      <td>0</td>\n",
       "      <td>0</td>\n",
       "      <td>...</td>\n",
       "      <td>0</td>\n",
       "      <td>0</td>\n",
       "      <td>0</td>\n",
       "      <td>0</td>\n",
       "      <td>0</td>\n",
       "      <td>0</td>\n",
       "      <td>0</td>\n",
       "      <td>0</td>\n",
       "      <td>0</td>\n",
       "      <td>1</td>\n",
       "    </tr>\n",
       "    <tr>\n",
       "      <th>323913</th>\n",
       "      <td>0</td>\n",
       "      <td>0</td>\n",
       "      <td>0</td>\n",
       "      <td>0</td>\n",
       "      <td>0</td>\n",
       "      <td>0</td>\n",
       "      <td>0</td>\n",
       "      <td>0</td>\n",
       "      <td>0</td>\n",
       "      <td>0</td>\n",
       "      <td>...</td>\n",
       "      <td>0</td>\n",
       "      <td>0</td>\n",
       "      <td>0</td>\n",
       "      <td>0</td>\n",
       "      <td>0</td>\n",
       "      <td>0</td>\n",
       "      <td>0</td>\n",
       "      <td>0</td>\n",
       "      <td>0</td>\n",
       "      <td>1</td>\n",
       "    </tr>\n",
       "    <tr>\n",
       "      <th>323914</th>\n",
       "      <td>0</td>\n",
       "      <td>0</td>\n",
       "      <td>0</td>\n",
       "      <td>0</td>\n",
       "      <td>0</td>\n",
       "      <td>0</td>\n",
       "      <td>0</td>\n",
       "      <td>0</td>\n",
       "      <td>0</td>\n",
       "      <td>0</td>\n",
       "      <td>...</td>\n",
       "      <td>0</td>\n",
       "      <td>0</td>\n",
       "      <td>0</td>\n",
       "      <td>0</td>\n",
       "      <td>0</td>\n",
       "      <td>0</td>\n",
       "      <td>0</td>\n",
       "      <td>0</td>\n",
       "      <td>0</td>\n",
       "      <td>1</td>\n",
       "    </tr>\n",
       "  </tbody>\n",
       "</table>\n",
       "<p>280816 rows × 35 columns</p>\n",
       "</div>"
      ],
      "text/plain": [
       "day        2018-06-01  2018-06-02  2018-06-03  2018-06-04  2018-06-05  \\\n",
       "BASK_CODE                                                               \n",
       "961                 0           0           0           0           0   \n",
       "962                 0           0           0           0           0   \n",
       "964                 0           0           0           0           0   \n",
       "965                 0           0           0           0           0   \n",
       "966                 0           0           0           0           0   \n",
       "...               ...         ...         ...         ...         ...   \n",
       "323910              0           0           0           0           0   \n",
       "323911              0           0           0           0           0   \n",
       "323912              0           0           0           0           0   \n",
       "323913              0           0           0           0           0   \n",
       "323914              0           0           0           0           0   \n",
       "\n",
       "day        2018-06-06  2018-06-07  2018-06-08  2018-06-09  2018-06-10  ...  \\\n",
       "BASK_CODE                                                              ...   \n",
       "961                 0           0           0           0           0  ...   \n",
       "962                 0           0           0           0           0  ...   \n",
       "964                 0           0           0           0           0  ...   \n",
       "965                 0           0           0           0           0  ...   \n",
       "966                 0           0           0           0           0  ...   \n",
       "...               ...         ...         ...         ...         ...  ...   \n",
       "323910              0           0           0           0           0  ...   \n",
       "323911              0           0           0           0           0  ...   \n",
       "323912              0           0           0           0           0  ...   \n",
       "323913              0           0           0           0           0  ...   \n",
       "323914              0           0           0           0           0  ...   \n",
       "\n",
       "day        2018-06-26  2018-06-27  2018-06-28  2018-06-29  2018-06-30  \\\n",
       "BASK_CODE                                                               \n",
       "961                 0           0           0           0           0   \n",
       "962                 0           0           0           0           0   \n",
       "964                 0           0           0           0           0   \n",
       "965                 0           0           0           0           0   \n",
       "966                 0           0           0           0           0   \n",
       "...               ...         ...         ...         ...         ...   \n",
       "323910              0           0           0           0           0   \n",
       "323911              0           0           0           0           0   \n",
       "323912              0           0           0           0           0   \n",
       "323913              0           0           0           0           0   \n",
       "323914              0           0           0           0           0   \n",
       "\n",
       "day        2018-07-01  2018-07-02  2018-07-03  2018-07-04  2018-07-05  \n",
       "BASK_CODE                                                              \n",
       "961                 0           0           0           0           0  \n",
       "962                 0           0           0           0           0  \n",
       "964                 0           0           0           0           0  \n",
       "965                 0           0           0           0           0  \n",
       "966                 0           0           0           0           0  \n",
       "...               ...         ...         ...         ...         ...  \n",
       "323910              0           0           0           0           1  \n",
       "323911              0           0           0           0           1  \n",
       "323912              0           0           0           0           1  \n",
       "323913              0           0           0           0           1  \n",
       "323914              0           0           0           0           1  \n",
       "\n",
       "[280816 rows x 35 columns]"
      ]
     },
     "execution_count": 57,
     "metadata": {},
     "output_type": "execute_result"
    }
   ],
   "source": [
    "df_purchase"
   ]
  },
  {
   "cell_type": "code",
   "execution_count": 58,
   "metadata": {},
   "outputs": [],
   "source": [
    "def active_statu(data):\n",
    "    status = []\n",
    "    for i in range(18):\n",
    "        # 当月未消费\n",
    "        if data[i] == 0:\n",
    "            if len(status) > 0:\n",
    "                if status[i-1] == 'unreg':\n",
    "                    status.append('unreg')\n",
    "                else:\n",
    "                    status.append('unactive')\n",
    "            else:\n",
    "                status.append('unreg')\n",
    "        # 当月有消费\n",
    "        else:\n",
    "            if len(status) == 0:\n",
    "                status.append('new')\n",
    "            else:\n",
    "                if status[i-1] == 'unactive':\n",
    "                    status.append('return')\n",
    "                elif status[i-1] == 'unreg':\n",
    "                    status.append('new')\n",
    "                else:\n",
    "                    status.append('active')\n",
    "                    \n",
    "    return status\n",
    "\n",
    "purshase_stats = df_purchase.apply(active_statu,axis=1)\n",
    "purshase_stats = pd.DataFrame(purshase_stats)[0].apply(pd.Series)\n",
    "#purshase_stats.columns = pivoted_counts.columns"
   ]
  },
  {
   "cell_type": "code",
   "execution_count": 59,
   "metadata": {},
   "outputs": [
    {
     "data": {
      "text/plain": [
       "<matplotlib.axes._subplots.AxesSubplot at 0x2243f220748>"
      ]
     },
     "execution_count": 59,
     "metadata": {},
     "output_type": "execute_result"
    },
    {
     "data": {
      "image/png": "[encoded data removed]",
      "text/plain": [
       "<Figure size 432x288 with 1 Axes>"
      ]
     },
     "metadata": {
      "needs_background": "light"
     },
     "output_type": "display_data"
    }
   ],
   "source": [
    "purshase_stats_ct = purshase_stats.replace('unreg',np.NAN).apply(lambda x : pd.value_counts(x))\n",
    "purshase_stats_ct.fillna(0).T.plot.area()"
   ]
  },
  {
   "cell_type": "code",
   "execution_count": 60,
   "metadata": {},
   "outputs": [
    {
     "data": {
      "text/plain": [
       "<matplotlib.axes._subplots.AxesSubplot at 0x22446bf6a88>"
      ]
     },
     "execution_count": 60,
     "metadata": {},
     "output_type": "execute_result"
    },
    {
     "data": {
      "image/png": "[encoded data removed]",
      "text/plain": [
       "<Figure size 432x288 with 1 Axes>"
      ]
     },
     "metadata": {
      "needs_background": "light"
     },
     "output_type": "display_data"
    }
   ],
   "source": [
    "purshase_stats_ct.fillna(0).T.apply(lambda x : x/x.sum(),axis = 1)\n",
    "purshase_stats_ct.fillna(0).T.apply(lambda x : x/x.sum(),axis = 1).plot.area()"
   ]
  },
  {
   "cell_type": "markdown",
   "metadata": {},
   "source": [
    "由于统计时间段较短，用户购买频率较低，在此模型中大多为不活跃用户"
   ]
  },
  {
   "cell_type": "markdown",
   "metadata": {},
   "source": [
    "### 2.2.3 用户购买周期"
   ]
  },
  {
   "cell_type": "code",
   "execution_count": 61,
   "metadata": {},
   "outputs": [],
   "source": [
    "# 用户订单周期\n",
    "order_diff = grouped_Customer.apply(lambda x: x.SHOP_DATETIME - x.SHOP_DATETIME.shift())"
   ]
  },
  {
   "cell_type": "code",
   "execution_count": 62,
   "metadata": {},
   "outputs": [
    {
     "data": {
      "text/plain": [
       "BASK_CODE        \n",
       "961        532549   NaT\n",
       "962        102862   NaT\n",
       "964        459649   NaT\n",
       "965        245315   NaT\n",
       "966        174729   NaT\n",
       "                     ..\n",
       "323910     354287   NaT\n",
       "323911     140049   NaT\n",
       "323912     496861   NaT\n",
       "323913     354291   NaT\n",
       "323914     139598   NaT\n",
       "Name: SHOP_DATETIME, Length: 569797, dtype: timedelta64[ns]"
      ]
     },
     "execution_count": 62,
     "metadata": {},
     "output_type": "execute_result"
    }
   ],
   "source": [
    "order_diff"
   ]
  },
  {
   "cell_type": "code",
   "execution_count": 63,
   "metadata": {},
   "outputs": [
    {
     "data": {
      "text/plain": [
       "<matplotlib.axes._subplots.AxesSubplot at 0x22464663608>"
      ]
     },
     "execution_count": 63,
     "metadata": {},
     "output_type": "execute_result"
    },
    {
     "data": {
      "image/png": "[encoded data removed]",
      "text/plain": [
       "<Figure size 432x288 with 1 Axes>"
      ]
     },
     "metadata": {
      "needs_background": "light"
     },
     "output_type": "display_data"
    }
   ],
   "source": [
    "(order_diff/np.timedelta64(1,'D')).hist(bins=20)"
   ]
  },
  {
   "cell_type": "code",
   "execution_count": 64,
   "metadata": {},
   "outputs": [
    {
     "data": {
      "text/plain": [
       "count                     280816\n",
       "mean      9 days 11:41:53.292689\n",
       "std      10 days 02:22:16.746182\n",
       "min              0 days 00:00:00\n",
       "25%              0 days 00:00:00\n",
       "50%              7 days 00:00:00\n",
       "75%             17 days 00:00:00\n",
       "max             34 days 00:00:00\n",
       "dtype: object"
      ]
     },
     "execution_count": 64,
     "metadata": {},
     "output_type": "execute_result"
    }
   ],
   "source": [
    "#查看生命周期描述统计\n",
    "(user_life['max'] - user_life['min']).describe()"
   ]
  },
  {
   "cell_type": "code",
   "execution_count": 65,
   "metadata": {},
   "outputs": [
    {
     "data": {
      "text/plain": [
       "<matplotlib.axes._subplots.AxesSubplot at 0x224694db648>"
      ]
     },
     "execution_count": 65,
     "metadata": {},
     "output_type": "execute_result"
    },
    {
     "data": {
      "image/png": "[encoded data removed]",
      "text/plain": [
       "<Figure size 432x288 with 1 Axes>"
      ]
     },
     "metadata": {
      "needs_background": "light"
     },
     "output_type": "display_data"
    }
   ],
   "source": [
    "((user_life['max'] - user_life['min'])/np.timedelta64(1,'D')).hist(bins = 40)"
   ]
  },
  {
   "cell_type": "markdown",
   "metadata": {},
   "source": [
    "通过对用户购买周期进行分析，可以看出"
   ]
  },
  {
   "cell_type": "markdown",
   "metadata": {},
   "source": [
    "### 2.2.4 用户复购率和留存率"
   ]
  },
  {
   "cell_type": "code",
   "execution_count": 66,
   "metadata": {},
   "outputs": [],
   "source": [
    "purchase_r = pivoted_counts.applymap(lambda x : 1 if x > 1 else np.NAN if x == 0 else 0 )"
   ]
  },
  {
   "cell_type": "code",
   "execution_count": 67,
   "metadata": {},
   "outputs": [
    {
     "data": {
      "text/html": [
       "<div>\n",
       "<style scoped>\n",
       "    .dataframe tbody tr th:only-of-type {\n",
       "        vertical-align: middle;\n",
       "    }\n",
       "\n",
       "    .dataframe tbody tr th {\n",
       "        vertical-align: top;\n",
       "    }\n",
       "\n",
       "    .dataframe thead th {\n",
       "        text-align: right;\n",
       "    }\n",
       "</style>\n",
       "<table border=\"1\" class=\"dataframe\">\n",
       "  <thead>\n",
       "    <tr style=\"text-align: right;\">\n",
       "      <th>day</th>\n",
       "      <th>2018-06-01</th>\n",
       "      <th>2018-06-02</th>\n",
       "      <th>2018-06-03</th>\n",
       "      <th>2018-06-04</th>\n",
       "      <th>2018-06-05</th>\n",
       "      <th>2018-06-06</th>\n",
       "      <th>2018-06-07</th>\n",
       "      <th>2018-06-08</th>\n",
       "      <th>2018-06-09</th>\n",
       "      <th>2018-06-10</th>\n",
       "      <th>...</th>\n",
       "      <th>2018-06-26</th>\n",
       "      <th>2018-06-27</th>\n",
       "      <th>2018-06-28</th>\n",
       "      <th>2018-06-29</th>\n",
       "      <th>2018-06-30</th>\n",
       "      <th>2018-07-01</th>\n",
       "      <th>2018-07-02</th>\n",
       "      <th>2018-07-03</th>\n",
       "      <th>2018-07-04</th>\n",
       "      <th>2018-07-05</th>\n",
       "    </tr>\n",
       "    <tr>\n",
       "      <th>BASK_CODE</th>\n",
       "      <th></th>\n",
       "      <th></th>\n",
       "      <th></th>\n",
       "      <th></th>\n",
       "      <th></th>\n",
       "      <th></th>\n",
       "      <th></th>\n",
       "      <th></th>\n",
       "      <th></th>\n",
       "      <th></th>\n",
       "      <th></th>\n",
       "      <th></th>\n",
       "      <th></th>\n",
       "      <th></th>\n",
       "      <th></th>\n",
       "      <th></th>\n",
       "      <th></th>\n",
       "      <th></th>\n",
       "      <th></th>\n",
       "      <th></th>\n",
       "      <th></th>\n",
       "    </tr>\n",
       "  </thead>\n",
       "  <tbody>\n",
       "    <tr>\n",
       "      <th>961</th>\n",
       "      <td>NaN</td>\n",
       "      <td>NaN</td>\n",
       "      <td>NaN</td>\n",
       "      <td>NaN</td>\n",
       "      <td>NaN</td>\n",
       "      <td>NaN</td>\n",
       "      <td>NaN</td>\n",
       "      <td>NaN</td>\n",
       "      <td>NaN</td>\n",
       "      <td>NaN</td>\n",
       "      <td>...</td>\n",
       "      <td>NaN</td>\n",
       "      <td>NaN</td>\n",
       "      <td>NaN</td>\n",
       "      <td>NaN</td>\n",
       "      <td>NaN</td>\n",
       "      <td>NaN</td>\n",
       "      <td>NaN</td>\n",
       "      <td>NaN</td>\n",
       "      <td>NaN</td>\n",
       "      <td>NaN</td>\n",
       "    </tr>\n",
       "    <tr>\n",
       "      <th>962</th>\n",
       "      <td>NaN</td>\n",
       "      <td>NaN</td>\n",
       "      <td>NaN</td>\n",
       "      <td>NaN</td>\n",
       "      <td>NaN</td>\n",
       "      <td>NaN</td>\n",
       "      <td>NaN</td>\n",
       "      <td>NaN</td>\n",
       "      <td>NaN</td>\n",
       "      <td>NaN</td>\n",
       "      <td>...</td>\n",
       "      <td>NaN</td>\n",
       "      <td>NaN</td>\n",
       "      <td>NaN</td>\n",
       "      <td>NaN</td>\n",
       "      <td>NaN</td>\n",
       "      <td>NaN</td>\n",
       "      <td>NaN</td>\n",
       "      <td>NaN</td>\n",
       "      <td>NaN</td>\n",
       "      <td>NaN</td>\n",
       "    </tr>\n",
       "    <tr>\n",
       "      <th>964</th>\n",
       "      <td>NaN</td>\n",
       "      <td>NaN</td>\n",
       "      <td>NaN</td>\n",
       "      <td>NaN</td>\n",
       "      <td>NaN</td>\n",
       "      <td>NaN</td>\n",
       "      <td>NaN</td>\n",
       "      <td>NaN</td>\n",
       "      <td>NaN</td>\n",
       "      <td>NaN</td>\n",
       "      <td>...</td>\n",
       "      <td>NaN</td>\n",
       "      <td>NaN</td>\n",
       "      <td>NaN</td>\n",
       "      <td>NaN</td>\n",
       "      <td>NaN</td>\n",
       "      <td>NaN</td>\n",
       "      <td>NaN</td>\n",
       "      <td>NaN</td>\n",
       "      <td>NaN</td>\n",
       "      <td>NaN</td>\n",
       "    </tr>\n",
       "    <tr>\n",
       "      <th>965</th>\n",
       "      <td>NaN</td>\n",
       "      <td>NaN</td>\n",
       "      <td>NaN</td>\n",
       "      <td>NaN</td>\n",
       "      <td>NaN</td>\n",
       "      <td>NaN</td>\n",
       "      <td>NaN</td>\n",
       "      <td>NaN</td>\n",
       "      <td>NaN</td>\n",
       "      <td>NaN</td>\n",
       "      <td>...</td>\n",
       "      <td>NaN</td>\n",
       "      <td>NaN</td>\n",
       "      <td>NaN</td>\n",
       "      <td>NaN</td>\n",
       "      <td>NaN</td>\n",
       "      <td>NaN</td>\n",
       "      <td>NaN</td>\n",
       "      <td>NaN</td>\n",
       "      <td>NaN</td>\n",
       "      <td>NaN</td>\n",
       "    </tr>\n",
       "    <tr>\n",
       "      <th>966</th>\n",
       "      <td>NaN</td>\n",
       "      <td>NaN</td>\n",
       "      <td>NaN</td>\n",
       "      <td>NaN</td>\n",
       "      <td>NaN</td>\n",
       "      <td>NaN</td>\n",
       "      <td>NaN</td>\n",
       "      <td>NaN</td>\n",
       "      <td>NaN</td>\n",
       "      <td>NaN</td>\n",
       "      <td>...</td>\n",
       "      <td>NaN</td>\n",
       "      <td>NaN</td>\n",
       "      <td>NaN</td>\n",
       "      <td>NaN</td>\n",
       "      <td>NaN</td>\n",
       "      <td>NaN</td>\n",
       "      <td>NaN</td>\n",
       "      <td>NaN</td>\n",
       "      <td>NaN</td>\n",
       "      <td>NaN</td>\n",
       "    </tr>\n",
       "    <tr>\n",
       "      <th>...</th>\n",
       "      <td>...</td>\n",
       "      <td>...</td>\n",
       "      <td>...</td>\n",
       "      <td>...</td>\n",
       "      <td>...</td>\n",
       "      <td>...</td>\n",
       "      <td>...</td>\n",
       "      <td>...</td>\n",
       "      <td>...</td>\n",
       "      <td>...</td>\n",
       "      <td>...</td>\n",
       "      <td>...</td>\n",
       "      <td>...</td>\n",
       "      <td>...</td>\n",
       "      <td>...</td>\n",
       "      <td>...</td>\n",
       "      <td>...</td>\n",
       "      <td>...</td>\n",
       "      <td>...</td>\n",
       "      <td>...</td>\n",
       "      <td>...</td>\n",
       "    </tr>\n",
       "    <tr>\n",
       "      <th>323910</th>\n",
       "      <td>NaN</td>\n",
       "      <td>NaN</td>\n",
       "      <td>NaN</td>\n",
       "      <td>NaN</td>\n",
       "      <td>NaN</td>\n",
       "      <td>NaN</td>\n",
       "      <td>NaN</td>\n",
       "      <td>NaN</td>\n",
       "      <td>NaN</td>\n",
       "      <td>NaN</td>\n",
       "      <td>...</td>\n",
       "      <td>NaN</td>\n",
       "      <td>NaN</td>\n",
       "      <td>NaN</td>\n",
       "      <td>NaN</td>\n",
       "      <td>NaN</td>\n",
       "      <td>NaN</td>\n",
       "      <td>NaN</td>\n",
       "      <td>NaN</td>\n",
       "      <td>NaN</td>\n",
       "      <td>0.0</td>\n",
       "    </tr>\n",
       "    <tr>\n",
       "      <th>323911</th>\n",
       "      <td>NaN</td>\n",
       "      <td>NaN</td>\n",
       "      <td>NaN</td>\n",
       "      <td>NaN</td>\n",
       "      <td>NaN</td>\n",
       "      <td>NaN</td>\n",
       "      <td>NaN</td>\n",
       "      <td>NaN</td>\n",
       "      <td>NaN</td>\n",
       "      <td>NaN</td>\n",
       "      <td>...</td>\n",
       "      <td>NaN</td>\n",
       "      <td>NaN</td>\n",
       "      <td>NaN</td>\n",
       "      <td>NaN</td>\n",
       "      <td>NaN</td>\n",
       "      <td>NaN</td>\n",
       "      <td>NaN</td>\n",
       "      <td>NaN</td>\n",
       "      <td>NaN</td>\n",
       "      <td>0.0</td>\n",
       "    </tr>\n",
       "    <tr>\n",
       "      <th>323912</th>\n",
       "      <td>NaN</td>\n",
       "      <td>NaN</td>\n",
       "      <td>NaN</td>\n",
       "      <td>NaN</td>\n",
       "      <td>NaN</td>\n",
       "      <td>NaN</td>\n",
       "      <td>NaN</td>\n",
       "      <td>NaN</td>\n",
       "      <td>NaN</td>\n",
       "      <td>NaN</td>\n",
       "      <td>...</td>\n",
       "      <td>NaN</td>\n",
       "      <td>NaN</td>\n",
       "      <td>NaN</td>\n",
       "      <td>NaN</td>\n",
       "      <td>NaN</td>\n",
       "      <td>NaN</td>\n",
       "      <td>NaN</td>\n",
       "      <td>NaN</td>\n",
       "      <td>NaN</td>\n",
       "      <td>0.0</td>\n",
       "    </tr>\n",
       "    <tr>\n",
       "      <th>323913</th>\n",
       "      <td>NaN</td>\n",
       "      <td>NaN</td>\n",
       "      <td>NaN</td>\n",
       "      <td>NaN</td>\n",
       "      <td>NaN</td>\n",
       "      <td>NaN</td>\n",
       "      <td>NaN</td>\n",
       "      <td>NaN</td>\n",
       "      <td>NaN</td>\n",
       "      <td>NaN</td>\n",
       "      <td>...</td>\n",
       "      <td>NaN</td>\n",
       "      <td>NaN</td>\n",
       "      <td>NaN</td>\n",
       "      <td>NaN</td>\n",
       "      <td>NaN</td>\n",
       "      <td>NaN</td>\n",
       "      <td>NaN</td>\n",
       "      <td>NaN</td>\n",
       "      <td>NaN</td>\n",
       "      <td>0.0</td>\n",
       "    </tr>\n",
       "    <tr>\n",
       "      <th>323914</th>\n",
       "      <td>NaN</td>\n",
       "      <td>NaN</td>\n",
       "      <td>NaN</td>\n",
       "      <td>NaN</td>\n",
       "      <td>NaN</td>\n",
       "      <td>NaN</td>\n",
       "      <td>NaN</td>\n",
       "      <td>NaN</td>\n",
       "      <td>NaN</td>\n",
       "      <td>NaN</td>\n",
       "      <td>...</td>\n",
       "      <td>NaN</td>\n",
       "      <td>NaN</td>\n",
       "      <td>NaN</td>\n",
       "      <td>NaN</td>\n",
       "      <td>NaN</td>\n",
       "      <td>NaN</td>\n",
       "      <td>NaN</td>\n",
       "      <td>NaN</td>\n",
       "      <td>NaN</td>\n",
       "      <td>0.0</td>\n",
       "    </tr>\n",
       "  </tbody>\n",
       "</table>\n",
       "<p>280816 rows × 35 columns</p>\n",
       "</div>"
      ],
      "text/plain": [
       "day        2018-06-01  2018-06-02  2018-06-03  2018-06-04  2018-06-05  \\\n",
       "BASK_CODE                                                               \n",
       "961               NaN         NaN         NaN         NaN         NaN   \n",
       "962               NaN         NaN         NaN         NaN         NaN   \n",
       "964               NaN         NaN         NaN         NaN         NaN   \n",
       "965               NaN         NaN         NaN         NaN         NaN   \n",
       "966               NaN         NaN         NaN         NaN         NaN   \n",
       "...               ...         ...         ...         ...         ...   \n",
       "323910            NaN         NaN         NaN         NaN         NaN   \n",
       "323911            NaN         NaN         NaN         NaN         NaN   \n",
       "323912            NaN         NaN         NaN         NaN         NaN   \n",
       "323913            NaN         NaN         NaN         NaN         NaN   \n",
       "323914            NaN         NaN         NaN         NaN         NaN   \n",
       "\n",
       "day        2018-06-06  2018-06-07  2018-06-08  2018-06-09  2018-06-10  ...  \\\n",
       "BASK_CODE                                                              ...   \n",
       "961               NaN         NaN         NaN         NaN         NaN  ...   \n",
       "962               NaN         NaN         NaN         NaN         NaN  ...   \n",
       "964               NaN         NaN         NaN         NaN         NaN  ...   \n",
       "965               NaN         NaN         NaN         NaN         NaN  ...   \n",
       "966               NaN         NaN         NaN         NaN         NaN  ...   \n",
       "...               ...         ...         ...         ...         ...  ...   \n",
       "323910            NaN         NaN         NaN         NaN         NaN  ...   \n",
       "323911            NaN         NaN         NaN         NaN         NaN  ...   \n",
       "323912            NaN         NaN         NaN         NaN         NaN  ...   \n",
       "323913            NaN         NaN         NaN         NaN         NaN  ...   \n",
       "323914            NaN         NaN         NaN         NaN         NaN  ...   \n",
       "\n",
       "day        2018-06-26  2018-06-27  2018-06-28  2018-06-29  2018-06-30  \\\n",
       "BASK_CODE                                                               \n",
       "961               NaN         NaN         NaN         NaN         NaN   \n",
       "962               NaN         NaN         NaN         NaN         NaN   \n",
       "964               NaN         NaN         NaN         NaN         NaN   \n",
       "965               NaN         NaN         NaN         NaN         NaN   \n",
       "966               NaN         NaN         NaN         NaN         NaN   \n",
       "...               ...         ...         ...         ...         ...   \n",
       "323910            NaN         NaN         NaN         NaN         NaN   \n",
       "323911            NaN         NaN         NaN         NaN         NaN   \n",
       "323912            NaN         NaN         NaN         NaN         NaN   \n",
       "323913            NaN         NaN         NaN         NaN         NaN   \n",
       "323914            NaN         NaN         NaN         NaN         NaN   \n",
       "\n",
       "day        2018-07-01  2018-07-02  2018-07-03  2018-07-04  2018-07-05  \n",
       "BASK_CODE                                                              \n",
       "961               NaN         NaN         NaN         NaN         NaN  \n",
       "962               NaN         NaN         NaN         NaN         NaN  \n",
       "964               NaN         NaN         NaN         NaN         NaN  \n",
       "965               NaN         NaN         NaN         NaN         NaN  \n",
       "966               NaN         NaN         NaN         NaN         NaN  \n",
       "...               ...         ...         ...         ...         ...  \n",
       "323910            NaN         NaN         NaN         NaN         0.0  \n",
       "323911            NaN         NaN         NaN         NaN         0.0  \n",
       "323912            NaN         NaN         NaN         NaN         0.0  \n",
       "323913            NaN         NaN         NaN         NaN         0.0  \n",
       "323914            NaN         NaN         NaN         NaN         0.0  \n",
       "\n",
       "[280816 rows x 35 columns]"
      ]
     },
     "execution_count": 67,
     "metadata": {},
     "output_type": "execute_result"
    }
   ],
   "source": [
    "purchase_r"
   ]
  },
  {
   "cell_type": "code",
   "execution_count": 68,
   "metadata": {},
   "outputs": [
    {
     "data": {
      "text/plain": [
       "<matplotlib.axes._subplots.AxesSubplot at 0x224695f97c8>"
      ]
     },
     "execution_count": 68,
     "metadata": {},
     "output_type": "execute_result"
    },
    {
     "data": {
      "image/png": "[encoded data removed]",
      "text/plain": [
       "<Figure size 720x288 with 1 Axes>"
      ]
     },
     "metadata": {
      "needs_background": "light"
     },
     "output_type": "display_data"
    }
   ],
   "source": [
    "(purchase_r.sum() / purchase_r.count()).plot(figsize = (10,4))"
   ]
  },
  {
   "cell_type": "markdown",
   "metadata": {},
   "source": [
    "### 2.2.5 回购率"
   ]
  },
  {
   "cell_type": "code",
   "execution_count": 69,
   "metadata": {},
   "outputs": [],
   "source": [
    "def purchase_back(data):\n",
    "    status = []\n",
    "    for i in range(17):\n",
    "        if data[i] ==1:\n",
    "            if data[i+1] == 1 :\n",
    "                status.append(1)\n",
    "            if data[i+1] == 0 :\n",
    "                status.append(0)\n",
    "        else:\n",
    "            status.append(np.NAN)\n",
    "    status.append(np.NAN)\n",
    "    return status\n",
    "\n",
    "purchase_b = df_purchase.apply(purchase_back,axis=1)\n",
    "purchase_b = pd.DataFrame(purchase_b)[0].apply(pd.Series)\n",
    "#purchase_b.columns = pivoted_counts.columns"
   ]
  },
  {
   "cell_type": "code",
   "execution_count": 70,
   "metadata": {},
   "outputs": [
    {
     "data": {
      "text/plain": [
       "<matplotlib.axes._subplots.AxesSubplot at 0x22446b9e248>"
      ]
     },
     "execution_count": 70,
     "metadata": {},
     "output_type": "execute_result"
    },
    {
     "data": {
      "image/png": "[encoded data removed]",
      "text/plain": [
       "<Figure size 720x288 with 1 Axes>"
      ]
     },
     "metadata": {
      "needs_background": "light"
     },
     "output_type": "display_data"
    }
   ],
   "source": [
    "(purchase_b.sum()/purchase_b.count()).plot(figsize = (10,4))"
   ]
  },
  {
   "cell_type": "markdown",
   "metadata": {},
   "source": [
    "#### 通过对用户数据分析:\n",
    "* 按照用户消费金额进行升序排列，并进行累计求和，可以发现：50%的用户贡献了20%的消费额度，而排名前5000的用户就贡献了40%的消费额（曲线上升幅度最大的部分）.\n",
    "* 通过计算用户的购买频率，形成购买频率客户数图，经过分析用户购买频率分为1-6次，在统计期间购买2-3次的人数最多，分别为188802人次和167914人次。\n",
    "* 通过购买频率分组平均消费金额的图像，可以看出购买频率为1-5次的客户的平均消费金额差距不大，都为39元左右。消费频率最高的6次的用户，平均消费额与前几个分组频率有着明显区别，为36.499元，可能与用户的购买频率较高有关联。\n",
    "* 通过客户购买人数的日期分布来看，六月平均购买人数为16431人，七月为15468人，这与七月这五天为周一至周五工作日有关，并不能说明人流量出现明显下滑，其中六月16、17、18三天的流量情况异常突出，星期分别为星期六、星期日、星期一，可能又相关促销行动举行，可在商品分析时，进一步分析。但19日也就是周二的时候出现了较大的人流量下滑，活动过后的人流量下滑问题可进一步思考，提出对应策略分析解决。\n",
    "* 用户复购率呈现出周期性变化，复购率呈现先下降后上升趋势\n",
    "* RFM模型用户分类较为单一，由于统计时间段较短，用户购买频率较低，在此模型中大多为不活跃用户"
   ]
  },
  {
   "cell_type": "markdown",
   "metadata": {},
   "source": [
    "# 3 商品情况分析"
   ]
  },
  {
   "cell_type": "markdown",
   "metadata": {},
   "source": [
    "## 3.1 销售统计\n",
    "### 3.1.1 销售量前十统计"
   ]
  },
  {
   "cell_type": "code",
   "execution_count": 71,
   "metadata": {},
   "outputs": [
    {
     "name": "stdout",
     "output_type": "stream",
     "text": [
      "PROD_CODE\n",
      "205540    12617\n",
      "21835     10455\n",
      "194690     9530\n",
      "72811      7744\n",
      "178462     7372\n",
      "197532     7287\n",
      "205437     6721\n",
      "1557       6036\n",
      "109584     5932\n",
      "216571     5673\n",
      "Name: BASK_CODE, dtype: int64\n"
     ]
    }
   ],
   "source": [
    "productId_count = df_item.groupby('PROD_CODE')['BASK_CODE'].count().sort_values(ascending=False)\n",
    "print(productId_count.head(10))"
   ]
  },
  {
   "cell_type": "markdown",
   "metadata": {},
   "source": [
    "### 3.1.2 销售额前十统计"
   ]
  },
  {
   "cell_type": "code",
   "execution_count": 109,
   "metadata": {},
   "outputs": [
    {
     "name": "stdout",
     "output_type": "stream",
     "text": [
      "PROD_CODE\n",
      "7137      405783.50\n",
      "7133      289784.00\n",
      "136839    281211.40\n",
      "149413    173820.33\n",
      "1239      149153.20\n",
      "154900    141034.70\n",
      "220834    127622.90\n",
      "21835     114483.25\n",
      "88160     103467.20\n",
      "3971       84972.00\n",
      "Name: ITEM_SPEND, dtype: float64\n"
     ]
    }
   ],
   "source": [
    "productId_amount = df_item.groupby('PROD_CODE').sum()['ITEM_SPEND'].sort_values(ascending=False)\n",
    "print(productId_amount.head(10))"
   ]
  },
  {
   "cell_type": "markdown",
   "metadata": {},
   "source": [
    "### 两个前十榜单差距较大"
   ]
  },
  {
   "cell_type": "markdown",
   "metadata": {},
   "source": [
    "### 3.2 折扣与销售量情况"
   ]
  },
  {
   "cell_type": "code",
   "execution_count": 73,
   "metadata": {},
   "outputs": [
    {
     "data": {
      "text/html": [
       "<div>\n",
       "<style scoped>\n",
       "    .dataframe tbody tr th:only-of-type {\n",
       "        vertical-align: middle;\n",
       "    }\n",
       "\n",
       "    .dataframe tbody tr th {\n",
       "        vertical-align: top;\n",
       "    }\n",
       "\n",
       "    .dataframe thead th {\n",
       "        text-align: right;\n",
       "    }\n",
       "</style>\n",
       "<table border=\"1\" class=\"dataframe\">\n",
       "  <thead>\n",
       "    <tr style=\"text-align: right;\">\n",
       "      <th></th>\n",
       "      <th>DISCOUNT_TYPE</th>\n",
       "      <th>ITEM_SPEND</th>\n",
       "      <th>cum_percent</th>\n",
       "    </tr>\n",
       "  </thead>\n",
       "  <tbody>\n",
       "    <tr>\n",
       "      <th>0</th>\n",
       "      <td>n</td>\n",
       "      <td>1.468634e+07</td>\n",
       "      <td>0.651152</td>\n",
       "    </tr>\n",
       "    <tr>\n",
       "      <th>1</th>\n",
       "      <td>p</td>\n",
       "      <td>5.355779e+06</td>\n",
       "      <td>0.888613</td>\n",
       "    </tr>\n",
       "    <tr>\n",
       "      <th>2</th>\n",
       "      <td>m</td>\n",
       "      <td>2.155000e+06</td>\n",
       "      <td>0.984160</td>\n",
       "    </tr>\n",
       "    <tr>\n",
       "      <th>3</th>\n",
       "      <td>v</td>\n",
       "      <td>1.910762e+05</td>\n",
       "      <td>0.992632</td>\n",
       "    </tr>\n",
       "    <tr>\n",
       "      <th>4</th>\n",
       "      <td>x</td>\n",
       "      <td>9.161940e+04</td>\n",
       "      <td>0.996694</td>\n",
       "    </tr>\n",
       "    <tr>\n",
       "      <th>5</th>\n",
       "      <td>q</td>\n",
       "      <td>4.618240e+04</td>\n",
       "      <td>0.998741</td>\n",
       "    </tr>\n",
       "    <tr>\n",
       "      <th>6</th>\n",
       "      <td>Z</td>\n",
       "      <td>2.479515e+04</td>\n",
       "      <td>0.999841</td>\n",
       "    </tr>\n",
       "    <tr>\n",
       "      <th>7</th>\n",
       "      <td>s</td>\n",
       "      <td>3.573290e+03</td>\n",
       "      <td>0.999999</td>\n",
       "    </tr>\n",
       "    <tr>\n",
       "      <th>8</th>\n",
       "      <td>h</td>\n",
       "      <td>2.150000e+01</td>\n",
       "      <td>1.000000</td>\n",
       "    </tr>\n",
       "  </tbody>\n",
       "</table>\n",
       "</div>"
      ],
      "text/plain": [
       "  DISCOUNT_TYPE    ITEM_SPEND  cum_percent\n",
       "0             n  1.468634e+07     0.651152\n",
       "1             p  5.355779e+06     0.888613\n",
       "2             m  2.155000e+06     0.984160\n",
       "3             v  1.910762e+05     0.992632\n",
       "4             x  9.161940e+04     0.996694\n",
       "5             q  4.618240e+04     0.998741\n",
       "6             Z  2.479515e+04     0.999841\n",
       "7             s  3.573290e+03     0.999999\n",
       "8             h  2.150000e+01     1.000000"
      ]
     },
     "execution_count": 73,
     "metadata": {},
     "output_type": "execute_result"
    }
   ],
   "source": [
    "discount_category=df_item.groupby(['DISCOUNT_TYPE']).sum()[['ITEM_SPEND']]\n",
    "discount_category.sort_values('ITEM_SPEND',ascending=False,inplace=True)\n",
    "discount_category['cum_percent']=discount_category['ITEM_SPEND'].cumsum()/discount_category['ITEM_SPEND'].sum()\n",
    "discount_category.reset_index()"
   ]
  },
  {
   "cell_type": "code",
   "execution_count": 108,
   "metadata": {},
   "outputs": [
    {
     "data": {
      "text/plain": [
       "<matplotlib.axes._subplots.AxesSubplot at 0x224469db9c8>"
      ]
     },
     "execution_count": 108,
     "metadata": {},
     "output_type": "execute_result"
    },
    {
     "data": {
      "image/png": "[encoded data removed]",
      "text/plain": [
       "<Figure size 432x288 with 1 Axes>"
      ]
     },
     "metadata": {
      "needs_background": "light"
     },
     "output_type": "display_data"
    }
   ],
   "source": [
    "discount_category['cum_percent'].plot()"
   ]
  },
  {
   "cell_type": "markdown",
   "metadata": {},
   "source": [
    "#### n,p,m三种折扣类型占据了99%以上的销售额"
   ]
  },
  {
   "cell_type": "markdown",
   "metadata": {},
   "source": [
    "## 3.3 相关性分析 "
   ]
  },
  {
   "cell_type": "markdown",
   "metadata": {},
   "source": [
    "### 3.1.1 折扣种类关联性分析\n",
    "独热向量编码"
   ]
  },
  {
   "cell_type": "code",
   "execution_count": 90,
   "metadata": {},
   "outputs": [],
   "source": [
    "col=[\"DISCOUNT_TYPE\"]\n",
    "dummy_type=pd.get_dummies(df_item,columns=col)"
   ]
  },
  {
   "cell_type": "code",
   "execution_count": 91,
   "metadata": {},
   "outputs": [
    {
     "data": {
      "text/html": [
       "<div>\n",
       "<style scoped>\n",
       "    .dataframe tbody tr th:only-of-type {\n",
       "        vertical-align: middle;\n",
       "    }\n",
       "\n",
       "    .dataframe tbody tr th {\n",
       "        vertical-align: top;\n",
       "    }\n",
       "\n",
       "    .dataframe thead th {\n",
       "        text-align: right;\n",
       "    }\n",
       "</style>\n",
       "<table border=\"1\" class=\"dataframe\">\n",
       "  <thead>\n",
       "    <tr style=\"text-align: right;\">\n",
       "      <th></th>\n",
       "      <th>SDATE</th>\n",
       "      <th>STORE_CODE</th>\n",
       "      <th>POSID</th>\n",
       "      <th>BASK_CODE</th>\n",
       "      <th>PROD_CODE</th>\n",
       "      <th>ITEM_QUANTITY</th>\n",
       "      <th>ITEM_SPEND</th>\n",
       "      <th>NORMAL_PRICE</th>\n",
       "      <th>DISCOUNT_AMOUNT</th>\n",
       "      <th>price</th>\n",
       "      <th>DISCOUNT_TYPE_Z</th>\n",
       "      <th>DISCOUNT_TYPE_h</th>\n",
       "      <th>DISCOUNT_TYPE_m</th>\n",
       "      <th>DISCOUNT_TYPE_n</th>\n",
       "      <th>DISCOUNT_TYPE_p</th>\n",
       "      <th>DISCOUNT_TYPE_q</th>\n",
       "      <th>DISCOUNT_TYPE_s</th>\n",
       "      <th>DISCOUNT_TYPE_v</th>\n",
       "      <th>DISCOUNT_TYPE_x</th>\n",
       "    </tr>\n",
       "  </thead>\n",
       "  <tbody>\n",
       "    <tr>\n",
       "      <th>0</th>\n",
       "      <td>2018-06-01</td>\n",
       "      <td>D007</td>\n",
       "      <td>3</td>\n",
       "      <td>250451</td>\n",
       "      <td>29405</td>\n",
       "      <td>1.000</td>\n",
       "      <td>1.70</td>\n",
       "      <td>2.0</td>\n",
       "      <td>-0.3</td>\n",
       "      <td>1.0</td>\n",
       "      <td>0</td>\n",
       "      <td>0</td>\n",
       "      <td>1</td>\n",
       "      <td>0</td>\n",
       "      <td>0</td>\n",
       "      <td>0</td>\n",
       "      <td>0</td>\n",
       "      <td>0</td>\n",
       "      <td>0</td>\n",
       "    </tr>\n",
       "    <tr>\n",
       "      <th>1</th>\n",
       "      <td>2018-06-01</td>\n",
       "      <td>D007</td>\n",
       "      <td>3</td>\n",
       "      <td>250451</td>\n",
       "      <td>13187</td>\n",
       "      <td>1.000</td>\n",
       "      <td>1.00</td>\n",
       "      <td>1.0</td>\n",
       "      <td>0.0</td>\n",
       "      <td>1.0</td>\n",
       "      <td>0</td>\n",
       "      <td>0</td>\n",
       "      <td>0</td>\n",
       "      <td>1</td>\n",
       "      <td>0</td>\n",
       "      <td>0</td>\n",
       "      <td>0</td>\n",
       "      <td>0</td>\n",
       "      <td>0</td>\n",
       "    </tr>\n",
       "    <tr>\n",
       "      <th>2</th>\n",
       "      <td>2018-06-01</td>\n",
       "      <td>D007</td>\n",
       "      <td>3</td>\n",
       "      <td>250243</td>\n",
       "      <td>196249</td>\n",
       "      <td>1.000</td>\n",
       "      <td>99.00</td>\n",
       "      <td>99.0</td>\n",
       "      <td>0.0</td>\n",
       "      <td>3.0</td>\n",
       "      <td>0</td>\n",
       "      <td>0</td>\n",
       "      <td>1</td>\n",
       "      <td>0</td>\n",
       "      <td>0</td>\n",
       "      <td>0</td>\n",
       "      <td>0</td>\n",
       "      <td>0</td>\n",
       "      <td>0</td>\n",
       "    </tr>\n",
       "    <tr>\n",
       "      <th>3</th>\n",
       "      <td>2018-06-01</td>\n",
       "      <td>D007</td>\n",
       "      <td>3</td>\n",
       "      <td>250243</td>\n",
       "      <td>199637</td>\n",
       "      <td>1.000</td>\n",
       "      <td>9.90</td>\n",
       "      <td>16.8</td>\n",
       "      <td>-6.9</td>\n",
       "      <td>1.0</td>\n",
       "      <td>0</td>\n",
       "      <td>0</td>\n",
       "      <td>0</td>\n",
       "      <td>0</td>\n",
       "      <td>1</td>\n",
       "      <td>0</td>\n",
       "      <td>0</td>\n",
       "      <td>0</td>\n",
       "      <td>0</td>\n",
       "    </tr>\n",
       "    <tr>\n",
       "      <th>4</th>\n",
       "      <td>2018-06-01</td>\n",
       "      <td>D007</td>\n",
       "      <td>1</td>\n",
       "      <td>160905</td>\n",
       "      <td>195012</td>\n",
       "      <td>3.222</td>\n",
       "      <td>18.69</td>\n",
       "      <td>5.8</td>\n",
       "      <td>0.0</td>\n",
       "      <td>1.0</td>\n",
       "      <td>0</td>\n",
       "      <td>0</td>\n",
       "      <td>0</td>\n",
       "      <td>1</td>\n",
       "      <td>0</td>\n",
       "      <td>0</td>\n",
       "      <td>0</td>\n",
       "      <td>0</td>\n",
       "      <td>0</td>\n",
       "    </tr>\n",
       "    <tr>\n",
       "      <th>...</th>\n",
       "      <td>...</td>\n",
       "      <td>...</td>\n",
       "      <td>...</td>\n",
       "      <td>...</td>\n",
       "      <td>...</td>\n",
       "      <td>...</td>\n",
       "      <td>...</td>\n",
       "      <td>...</td>\n",
       "      <td>...</td>\n",
       "      <td>...</td>\n",
       "      <td>...</td>\n",
       "      <td>...</td>\n",
       "      <td>...</td>\n",
       "      <td>...</td>\n",
       "      <td>...</td>\n",
       "      <td>...</td>\n",
       "      <td>...</td>\n",
       "      <td>...</td>\n",
       "      <td>...</td>\n",
       "    </tr>\n",
       "    <tr>\n",
       "      <th>1732756</th>\n",
       "      <td>2018-07-05</td>\n",
       "      <td>A010</td>\n",
       "      <td>2</td>\n",
       "      <td>284254</td>\n",
       "      <td>144474</td>\n",
       "      <td>0.470</td>\n",
       "      <td>26.32</td>\n",
       "      <td>56.0</td>\n",
       "      <td>0.0</td>\n",
       "      <td>NaN</td>\n",
       "      <td>0</td>\n",
       "      <td>0</td>\n",
       "      <td>0</td>\n",
       "      <td>1</td>\n",
       "      <td>0</td>\n",
       "      <td>0</td>\n",
       "      <td>0</td>\n",
       "      <td>0</td>\n",
       "      <td>0</td>\n",
       "    </tr>\n",
       "    <tr>\n",
       "      <th>1732757</th>\n",
       "      <td>2018-07-05</td>\n",
       "      <td>A010</td>\n",
       "      <td>2</td>\n",
       "      <td>284265</td>\n",
       "      <td>2243</td>\n",
       "      <td>24.000</td>\n",
       "      <td>43.20</td>\n",
       "      <td>1.8</td>\n",
       "      <td>0.0</td>\n",
       "      <td>NaN</td>\n",
       "      <td>0</td>\n",
       "      <td>0</td>\n",
       "      <td>0</td>\n",
       "      <td>1</td>\n",
       "      <td>0</td>\n",
       "      <td>0</td>\n",
       "      <td>0</td>\n",
       "      <td>0</td>\n",
       "      <td>0</td>\n",
       "    </tr>\n",
       "    <tr>\n",
       "      <th>1732758</th>\n",
       "      <td>2018-07-05</td>\n",
       "      <td>A010</td>\n",
       "      <td>2</td>\n",
       "      <td>284406</td>\n",
       "      <td>216571</td>\n",
       "      <td>1.000</td>\n",
       "      <td>14.50</td>\n",
       "      <td>14.5</td>\n",
       "      <td>0.0</td>\n",
       "      <td>NaN</td>\n",
       "      <td>0</td>\n",
       "      <td>0</td>\n",
       "      <td>0</td>\n",
       "      <td>1</td>\n",
       "      <td>0</td>\n",
       "      <td>0</td>\n",
       "      <td>0</td>\n",
       "      <td>0</td>\n",
       "      <td>0</td>\n",
       "    </tr>\n",
       "    <tr>\n",
       "      <th>1732759</th>\n",
       "      <td>2018-07-05</td>\n",
       "      <td>A010</td>\n",
       "      <td>2</td>\n",
       "      <td>284266</td>\n",
       "      <td>223768</td>\n",
       "      <td>1.000</td>\n",
       "      <td>2.50</td>\n",
       "      <td>3.0</td>\n",
       "      <td>-0.5</td>\n",
       "      <td>NaN</td>\n",
       "      <td>0</td>\n",
       "      <td>0</td>\n",
       "      <td>1</td>\n",
       "      <td>0</td>\n",
       "      <td>0</td>\n",
       "      <td>0</td>\n",
       "      <td>0</td>\n",
       "      <td>0</td>\n",
       "      <td>0</td>\n",
       "    </tr>\n",
       "    <tr>\n",
       "      <th>1732760</th>\n",
       "      <td>2018-07-05</td>\n",
       "      <td>A010</td>\n",
       "      <td>2</td>\n",
       "      <td>284263</td>\n",
       "      <td>205100</td>\n",
       "      <td>1.000</td>\n",
       "      <td>6.80</td>\n",
       "      <td>6.8</td>\n",
       "      <td>0.0</td>\n",
       "      <td>NaN</td>\n",
       "      <td>0</td>\n",
       "      <td>0</td>\n",
       "      <td>0</td>\n",
       "      <td>1</td>\n",
       "      <td>0</td>\n",
       "      <td>0</td>\n",
       "      <td>0</td>\n",
       "      <td>0</td>\n",
       "      <td>0</td>\n",
       "    </tr>\n",
       "  </tbody>\n",
       "</table>\n",
       "<p>1730741 rows × 19 columns</p>\n",
       "</div>"
      ],
      "text/plain": [
       "             SDATE STORE_CODE  POSID  BASK_CODE  PROD_CODE  ITEM_QUANTITY  \\\n",
       "0       2018-06-01       D007      3     250451      29405          1.000   \n",
       "1       2018-06-01       D007      3     250451      13187          1.000   \n",
       "2       2018-06-01       D007      3     250243     196249          1.000   \n",
       "3       2018-06-01       D007      3     250243     199637          1.000   \n",
       "4       2018-06-01       D007      1     160905     195012          3.222   \n",
       "...            ...        ...    ...        ...        ...            ...   \n",
       "1732756 2018-07-05       A010      2     284254     144474          0.470   \n",
       "1732757 2018-07-05       A010      2     284265       2243         24.000   \n",
       "1732758 2018-07-05       A010      2     284406     216571          1.000   \n",
       "1732759 2018-07-05       A010      2     284266     223768          1.000   \n",
       "1732760 2018-07-05       A010      2     284263     205100          1.000   \n",
       "\n",
       "         ITEM_SPEND  NORMAL_PRICE  DISCOUNT_AMOUNT  price  DISCOUNT_TYPE_Z  \\\n",
       "0              1.70           2.0             -0.3    1.0                0   \n",
       "1              1.00           1.0              0.0    1.0                0   \n",
       "2             99.00          99.0              0.0    3.0                0   \n",
       "3              9.90          16.8             -6.9    1.0                0   \n",
       "4             18.69           5.8              0.0    1.0                0   \n",
       "...             ...           ...              ...    ...              ...   \n",
       "1732756       26.32          56.0              0.0    NaN                0   \n",
       "1732757       43.20           1.8              0.0    NaN                0   \n",
       "1732758       14.50          14.5              0.0    NaN                0   \n",
       "1732759        2.50           3.0             -0.5    NaN                0   \n",
       "1732760        6.80           6.8              0.0    NaN                0   \n",
       "\n",
       "         DISCOUNT_TYPE_h  DISCOUNT_TYPE_m  DISCOUNT_TYPE_n  DISCOUNT_TYPE_p  \\\n",
       "0                      0                1                0                0   \n",
       "1                      0                0                1                0   \n",
       "2                      0                1                0                0   \n",
       "3                      0                0                0                1   \n",
       "4                      0                0                1                0   \n",
       "...                  ...              ...              ...              ...   \n",
       "1732756                0                0                1                0   \n",
       "1732757                0                0                1                0   \n",
       "1732758                0                0                1                0   \n",
       "1732759                0                1                0                0   \n",
       "1732760                0                0                1                0   \n",
       "\n",
       "         DISCOUNT_TYPE_q  DISCOUNT_TYPE_s  DISCOUNT_TYPE_v  DISCOUNT_TYPE_x  \n",
       "0                      0                0                0                0  \n",
       "1                      0                0                0                0  \n",
       "2                      0                0                0                0  \n",
       "3                      0                0                0                0  \n",
       "4                      0                0                0                0  \n",
       "...                  ...              ...              ...              ...  \n",
       "1732756                0                0                0                0  \n",
       "1732757                0                0                0                0  \n",
       "1732758                0                0                0                0  \n",
       "1732759                0                0                0                0  \n",
       "1732760                0                0                0                0  \n",
       "\n",
       "[1730741 rows x 19 columns]"
      ]
     },
     "execution_count": 91,
     "metadata": {},
     "output_type": "execute_result"
    }
   ],
   "source": [
    "dummy_type"
   ]
  },
  {
   "cell_type": "code",
   "execution_count": 92,
   "metadata": {},
   "outputs": [],
   "source": [
    "colums=['STORE_CODE','BASK_CODE','PROD_CODE']#去除无数量意义的编码\n",
    "dummy_type=dummy_type.drop(colums,axis=1)"
   ]
  },
  {
   "cell_type": "code",
   "execution_count": 93,
   "metadata": {},
   "outputs": [
    {
     "data": {
      "image/png": "[encoded data removed]",
      "text/plain": [
       "<Figure size 432x288 with 1 Axes>"
      ]
     },
     "metadata": {
      "needs_background": "light"
     },
     "output_type": "display_data"
    }
   ],
   "source": [
    "#  相关性分析 剔除相关性较低的特征\n",
    "plt.rcParams[\"font.sans-serif\"]=['SimHei']#用来正常显示中文标签  \n",
    "plt.rcParams[\"axes.unicode_minus\"]=False#用来正常显示负号\n",
    "plt.figure()\n",
    "dummy_type.corr()['ITEM_SPEND'].sort_values(ascending=False).plot(kind='bar')\n",
    "plt.show()"
   ]
  },
  {
   "cell_type": "markdown",
   "metadata": {},
   "source": [
    "通过相关性分析可以看出，商品折后价格和打折价格呈现负相关，出现商品价格越高降价幅度越大的现象，与事实相符。而商品价格和商品计量单位和正常价格呈现正相关。商品价格与折扣种类没有明显相关关系。"
   ]
  },
  {
   "cell_type": "code",
   "execution_count": 94,
   "metadata": {},
   "outputs": [
    {
     "data": {
      "image/png": "[encoded data removed]",
      "text/plain": [
       "<Figure size 432x288 with 1 Axes>"
      ]
     },
     "metadata": {
      "needs_background": "light"
     },
     "output_type": "display_data"
    }
   ],
   "source": [
    "#  相关性分析 剔除相关性较低的特征\n",
    "plt.rcParams[\"font.sans-serif\"]=['SimHei']#用来正常显示中文标签  \n",
    "plt.rcParams[\"axes.unicode_minus\"]=False#用来正常显示负号\n",
    "plt.figure()\n",
    "dummy_type.corr()['NORMAL_PRICE'].sort_values(ascending=False).plot(kind='bar')\n",
    "plt.show()"
   ]
  },
  {
   "cell_type": "markdown",
   "metadata": {},
   "source": [
    "通过相关性分析可以看出，商品正常价格与商品折后价格有一定联系，可以理解为打折幅度有限，商品正常价格与商品折后价格仍有很大关联性，与事实相符。\n",
    "商品正常价格与折扣种类p和n还有微弱的相关性。"
   ]
  },
  {
   "cell_type": "code",
   "execution_count": 95,
   "metadata": {},
   "outputs": [
    {
     "data": {
      "image/png": "[encoded data removed]",
      "text/plain": [
       "<Figure size 432x288 with 1 Axes>"
      ]
     },
     "metadata": {
      "needs_background": "light"
     },
     "output_type": "display_data"
    }
   ],
   "source": [
    "# 相关性分析 剔除相关性较低的特征\n",
    "plt.rcParams[\"font.sans-serif\"]=['SimHei']#用来正常显示中文标签  \n",
    "plt.rcParams[\"axes.unicode_minus\"]=False#用来正常显示负号\n",
    "plt.figure()\n",
    "a=dummy_type.groupby('SDATE').sum()['ITEM_SPEND'].sort_values(ascending=False).plot(kind='bar')\n",
    "plt.show()"
   ]
  },
  {
   "cell_type": "code",
   "execution_count": 96,
   "metadata": {},
   "outputs": [],
   "source": [
    "a=df_item.groupby('PROD_CODE').sum()[['ITEM_SPEND','ITEM_QUANTITY']]#.plot(kind='bar')\n",
    "b=df_item.groupby('PROD_CODE').count()['DISCOUNT_TYPE']#.plot(kind='bar')\n",
    "#a=df_item[['PROD_CODE','ITEM_SPEND','ITEM_QUANTITY']].sum().sort_values(ascending=False).groupby('PROD_CODE').plot(kind='bar')\n",
    "\n",
    "# grouped_Customer = df_basket[['BASK_CODE','SHOP_DATETIME', \n",
    "#           'BASK_SPEND']].sort_values(['SHOP_DATETIME']).groupby('BASK_CODE')"
   ]
  },
  {
   "cell_type": "code",
   "execution_count": 97,
   "metadata": {},
   "outputs": [
    {
     "data": {
      "text/plain": [
       "PROD_CODE\n",
       "19         13\n",
       "31        141\n",
       "33         15\n",
       "36         52\n",
       "39         83\n",
       "         ... \n",
       "224973      1\n",
       "224993      1\n",
       "225009      1\n",
       "225046      6\n",
       "225047      1\n",
       "Name: DISCOUNT_TYPE, Length: 19248, dtype: int64"
      ]
     },
     "execution_count": 97,
     "metadata": {},
     "output_type": "execute_result"
    }
   ],
   "source": [
    "b"
   ]
  },
  {
   "cell_type": "code",
   "execution_count": 98,
   "metadata": {},
   "outputs": [],
   "source": [
    "c=pd.concat([a,b],axis=1)"
   ]
  },
  {
   "cell_type": "code",
   "execution_count": 99,
   "metadata": {},
   "outputs": [],
   "source": [
    "c=pd.DataFrame(a,b)"
   ]
  },
  {
   "cell_type": "code",
   "execution_count": 100,
   "metadata": {},
   "outputs": [],
   "source": [
    "c = pd.DataFrame(c,columns = ['DISCOUNT_TYPE','ITEM_SPEND','ITEM_QUANTITY'])"
   ]
  },
  {
   "cell_type": "code",
   "execution_count": 101,
   "metadata": {},
   "outputs": [
    {
     "data": {
      "text/plain": [
       "Int64Index([ 13, 141,  15,  52,  83,  10,  81, 236,  83,  10,\n",
       "            ...\n",
       "             11,   3,  37,  23,  21,   1,   1,   1,   6,   1],\n",
       "           dtype='int64', name='DISCOUNT_TYPE', length=19248)"
      ]
     },
     "execution_count": 101,
     "metadata": {},
     "output_type": "execute_result"
    }
   ],
   "source": [
    "c.index"
   ]
  },
  {
   "cell_type": "code",
   "execution_count": 102,
   "metadata": {},
   "outputs": [
    {
     "data": {
      "text/plain": [
       "<matplotlib.axes._subplots.AxesSubplot at 0x2245509f508>"
      ]
     },
     "execution_count": 102,
     "metadata": {},
     "output_type": "execute_result"
    },
    {
     "data": {
      "image/png": "[encoded data removed]",
      "text/plain": [
       "<Figure size 432x288 with 1 Axes>"
      ]
     },
     "metadata": {
      "needs_background": "light"
     },
     "output_type": "display_data"
    }
   ],
   "source": [
    "c.corr()['ITEM_SPEND'].sort_values(ascending=False).plot(kind='bar')"
   ]
  },
  {
   "cell_type": "markdown",
   "metadata": {},
   "source": [
    "通过对商品折后价格总计，以及商品销售量总计，折扣种类总计进行相关性分析，发现三者有着很强的关联性。"
   ]
  },
  {
   "cell_type": "markdown",
   "metadata": {},
   "source": [
    "### 3.1.2 店铺关联性分析"
   ]
  },
  {
   "cell_type": "code",
   "execution_count": 103,
   "metadata": {},
   "outputs": [
    {
     "data": {
      "text/html": [
       "<div>\n",
       "<style scoped>\n",
       "    .dataframe tbody tr th:only-of-type {\n",
       "        vertical-align: middle;\n",
       "    }\n",
       "\n",
       "    .dataframe tbody tr th {\n",
       "        vertical-align: top;\n",
       "    }\n",
       "\n",
       "    .dataframe thead th {\n",
       "        text-align: right;\n",
       "    }\n",
       "</style>\n",
       "<table border=\"1\" class=\"dataframe\">\n",
       "  <thead>\n",
       "    <tr style=\"text-align: right;\">\n",
       "      <th></th>\n",
       "      <th>SDATE</th>\n",
       "      <th>POSID</th>\n",
       "      <th>BASK_CODE</th>\n",
       "      <th>PROD_CODE</th>\n",
       "      <th>ITEM_QUANTITY</th>\n",
       "      <th>ITEM_SPEND</th>\n",
       "      <th>NORMAL_PRICE</th>\n",
       "      <th>DISCOUNT_TYPE</th>\n",
       "      <th>DISCOUNT_AMOUNT</th>\n",
       "      <th>price</th>\n",
       "      <th>...</th>\n",
       "      <th>STORE_CODE_A022</th>\n",
       "      <th>STORE_CODE_D002</th>\n",
       "      <th>STORE_CODE_D003</th>\n",
       "      <th>STORE_CODE_D004</th>\n",
       "      <th>STORE_CODE_D005</th>\n",
       "      <th>STORE_CODE_D006</th>\n",
       "      <th>STORE_CODE_D007</th>\n",
       "      <th>STORE_CODE_D008</th>\n",
       "      <th>STORE_CODE_D009</th>\n",
       "      <th>STORE_CODE_D010</th>\n",
       "    </tr>\n",
       "  </thead>\n",
       "  <tbody>\n",
       "    <tr>\n",
       "      <th>0</th>\n",
       "      <td>2018-06-01</td>\n",
       "      <td>3</td>\n",
       "      <td>250451</td>\n",
       "      <td>29405</td>\n",
       "      <td>1.000</td>\n",
       "      <td>1.70</td>\n",
       "      <td>2.0</td>\n",
       "      <td>m</td>\n",
       "      <td>-0.3</td>\n",
       "      <td>1.0</td>\n",
       "      <td>...</td>\n",
       "      <td>0</td>\n",
       "      <td>0</td>\n",
       "      <td>0</td>\n",
       "      <td>0</td>\n",
       "      <td>0</td>\n",
       "      <td>0</td>\n",
       "      <td>1</td>\n",
       "      <td>0</td>\n",
       "      <td>0</td>\n",
       "      <td>0</td>\n",
       "    </tr>\n",
       "    <tr>\n",
       "      <th>1</th>\n",
       "      <td>2018-06-01</td>\n",
       "      <td>3</td>\n",
       "      <td>250451</td>\n",
       "      <td>13187</td>\n",
       "      <td>1.000</td>\n",
       "      <td>1.00</td>\n",
       "      <td>1.0</td>\n",
       "      <td>n</td>\n",
       "      <td>0.0</td>\n",
       "      <td>1.0</td>\n",
       "      <td>...</td>\n",
       "      <td>0</td>\n",
       "      <td>0</td>\n",
       "      <td>0</td>\n",
       "      <td>0</td>\n",
       "      <td>0</td>\n",
       "      <td>0</td>\n",
       "      <td>1</td>\n",
       "      <td>0</td>\n",
       "      <td>0</td>\n",
       "      <td>0</td>\n",
       "    </tr>\n",
       "    <tr>\n",
       "      <th>2</th>\n",
       "      <td>2018-06-01</td>\n",
       "      <td>3</td>\n",
       "      <td>250243</td>\n",
       "      <td>196249</td>\n",
       "      <td>1.000</td>\n",
       "      <td>99.00</td>\n",
       "      <td>99.0</td>\n",
       "      <td>m</td>\n",
       "      <td>0.0</td>\n",
       "      <td>3.0</td>\n",
       "      <td>...</td>\n",
       "      <td>0</td>\n",
       "      <td>0</td>\n",
       "      <td>0</td>\n",
       "      <td>0</td>\n",
       "      <td>0</td>\n",
       "      <td>0</td>\n",
       "      <td>1</td>\n",
       "      <td>0</td>\n",
       "      <td>0</td>\n",
       "      <td>0</td>\n",
       "    </tr>\n",
       "    <tr>\n",
       "      <th>3</th>\n",
       "      <td>2018-06-01</td>\n",
       "      <td>3</td>\n",
       "      <td>250243</td>\n",
       "      <td>199637</td>\n",
       "      <td>1.000</td>\n",
       "      <td>9.90</td>\n",
       "      <td>16.8</td>\n",
       "      <td>p</td>\n",
       "      <td>-6.9</td>\n",
       "      <td>1.0</td>\n",
       "      <td>...</td>\n",
       "      <td>0</td>\n",
       "      <td>0</td>\n",
       "      <td>0</td>\n",
       "      <td>0</td>\n",
       "      <td>0</td>\n",
       "      <td>0</td>\n",
       "      <td>1</td>\n",
       "      <td>0</td>\n",
       "      <td>0</td>\n",
       "      <td>0</td>\n",
       "    </tr>\n",
       "    <tr>\n",
       "      <th>4</th>\n",
       "      <td>2018-06-01</td>\n",
       "      <td>1</td>\n",
       "      <td>160905</td>\n",
       "      <td>195012</td>\n",
       "      <td>3.222</td>\n",
       "      <td>18.69</td>\n",
       "      <td>5.8</td>\n",
       "      <td>n</td>\n",
       "      <td>0.0</td>\n",
       "      <td>1.0</td>\n",
       "      <td>...</td>\n",
       "      <td>0</td>\n",
       "      <td>0</td>\n",
       "      <td>0</td>\n",
       "      <td>0</td>\n",
       "      <td>0</td>\n",
       "      <td>0</td>\n",
       "      <td>1</td>\n",
       "      <td>0</td>\n",
       "      <td>0</td>\n",
       "      <td>0</td>\n",
       "    </tr>\n",
       "    <tr>\n",
       "      <th>...</th>\n",
       "      <td>...</td>\n",
       "      <td>...</td>\n",
       "      <td>...</td>\n",
       "      <td>...</td>\n",
       "      <td>...</td>\n",
       "      <td>...</td>\n",
       "      <td>...</td>\n",
       "      <td>...</td>\n",
       "      <td>...</td>\n",
       "      <td>...</td>\n",
       "      <td>...</td>\n",
       "      <td>...</td>\n",
       "      <td>...</td>\n",
       "      <td>...</td>\n",
       "      <td>...</td>\n",
       "      <td>...</td>\n",
       "      <td>...</td>\n",
       "      <td>...</td>\n",
       "      <td>...</td>\n",
       "      <td>...</td>\n",
       "      <td>...</td>\n",
       "    </tr>\n",
       "    <tr>\n",
       "      <th>1732756</th>\n",
       "      <td>2018-07-05</td>\n",
       "      <td>2</td>\n",
       "      <td>284254</td>\n",
       "      <td>144474</td>\n",
       "      <td>0.470</td>\n",
       "      <td>26.32</td>\n",
       "      <td>56.0</td>\n",
       "      <td>n</td>\n",
       "      <td>0.0</td>\n",
       "      <td>NaN</td>\n",
       "      <td>...</td>\n",
       "      <td>0</td>\n",
       "      <td>0</td>\n",
       "      <td>0</td>\n",
       "      <td>0</td>\n",
       "      <td>0</td>\n",
       "      <td>0</td>\n",
       "      <td>0</td>\n",
       "      <td>0</td>\n",
       "      <td>0</td>\n",
       "      <td>0</td>\n",
       "    </tr>\n",
       "    <tr>\n",
       "      <th>1732757</th>\n",
       "      <td>2018-07-05</td>\n",
       "      <td>2</td>\n",
       "      <td>284265</td>\n",
       "      <td>2243</td>\n",
       "      <td>24.000</td>\n",
       "      <td>43.20</td>\n",
       "      <td>1.8</td>\n",
       "      <td>n</td>\n",
       "      <td>0.0</td>\n",
       "      <td>NaN</td>\n",
       "      <td>...</td>\n",
       "      <td>0</td>\n",
       "      <td>0</td>\n",
       "      <td>0</td>\n",
       "      <td>0</td>\n",
       "      <td>0</td>\n",
       "      <td>0</td>\n",
       "      <td>0</td>\n",
       "      <td>0</td>\n",
       "      <td>0</td>\n",
       "      <td>0</td>\n",
       "    </tr>\n",
       "    <tr>\n",
       "      <th>1732758</th>\n",
       "      <td>2018-07-05</td>\n",
       "      <td>2</td>\n",
       "      <td>284406</td>\n",
       "      <td>216571</td>\n",
       "      <td>1.000</td>\n",
       "      <td>14.50</td>\n",
       "      <td>14.5</td>\n",
       "      <td>n</td>\n",
       "      <td>0.0</td>\n",
       "      <td>NaN</td>\n",
       "      <td>...</td>\n",
       "      <td>0</td>\n",
       "      <td>0</td>\n",
       "      <td>0</td>\n",
       "      <td>0</td>\n",
       "      <td>0</td>\n",
       "      <td>0</td>\n",
       "      <td>0</td>\n",
       "      <td>0</td>\n",
       "      <td>0</td>\n",
       "      <td>0</td>\n",
       "    </tr>\n",
       "    <tr>\n",
       "      <th>1732759</th>\n",
       "      <td>2018-07-05</td>\n",
       "      <td>2</td>\n",
       "      <td>284266</td>\n",
       "      <td>223768</td>\n",
       "      <td>1.000</td>\n",
       "      <td>2.50</td>\n",
       "      <td>3.0</td>\n",
       "      <td>m</td>\n",
       "      <td>-0.5</td>\n",
       "      <td>NaN</td>\n",
       "      <td>...</td>\n",
       "      <td>0</td>\n",
       "      <td>0</td>\n",
       "      <td>0</td>\n",
       "      <td>0</td>\n",
       "      <td>0</td>\n",
       "      <td>0</td>\n",
       "      <td>0</td>\n",
       "      <td>0</td>\n",
       "      <td>0</td>\n",
       "      <td>0</td>\n",
       "    </tr>\n",
       "    <tr>\n",
       "      <th>1732760</th>\n",
       "      <td>2018-07-05</td>\n",
       "      <td>2</td>\n",
       "      <td>284263</td>\n",
       "      <td>205100</td>\n",
       "      <td>1.000</td>\n",
       "      <td>6.80</td>\n",
       "      <td>6.8</td>\n",
       "      <td>n</td>\n",
       "      <td>0.0</td>\n",
       "      <td>NaN</td>\n",
       "      <td>...</td>\n",
       "      <td>0</td>\n",
       "      <td>0</td>\n",
       "      <td>0</td>\n",
       "      <td>0</td>\n",
       "      <td>0</td>\n",
       "      <td>0</td>\n",
       "      <td>0</td>\n",
       "      <td>0</td>\n",
       "      <td>0</td>\n",
       "      <td>0</td>\n",
       "    </tr>\n",
       "  </tbody>\n",
       "</table>\n",
       "<p>1730741 rows × 34 columns</p>\n",
       "</div>"
      ],
      "text/plain": [
       "             SDATE  POSID  BASK_CODE  PROD_CODE  ITEM_QUANTITY  ITEM_SPEND  \\\n",
       "0       2018-06-01      3     250451      29405          1.000        1.70   \n",
       "1       2018-06-01      3     250451      13187          1.000        1.00   \n",
       "2       2018-06-01      3     250243     196249          1.000       99.00   \n",
       "3       2018-06-01      3     250243     199637          1.000        9.90   \n",
       "4       2018-06-01      1     160905     195012          3.222       18.69   \n",
       "...            ...    ...        ...        ...            ...         ...   \n",
       "1732756 2018-07-05      2     284254     144474          0.470       26.32   \n",
       "1732757 2018-07-05      2     284265       2243         24.000       43.20   \n",
       "1732758 2018-07-05      2     284406     216571          1.000       14.50   \n",
       "1732759 2018-07-05      2     284266     223768          1.000        2.50   \n",
       "1732760 2018-07-05      2     284263     205100          1.000        6.80   \n",
       "\n",
       "         NORMAL_PRICE DISCOUNT_TYPE  DISCOUNT_AMOUNT  price  ...  \\\n",
       "0                 2.0             m             -0.3    1.0  ...   \n",
       "1                 1.0             n              0.0    1.0  ...   \n",
       "2                99.0             m              0.0    3.0  ...   \n",
       "3                16.8             p             -6.9    1.0  ...   \n",
       "4                 5.8             n              0.0    1.0  ...   \n",
       "...               ...           ...              ...    ...  ...   \n",
       "1732756          56.0             n              0.0    NaN  ...   \n",
       "1732757           1.8             n              0.0    NaN  ...   \n",
       "1732758          14.5             n              0.0    NaN  ...   \n",
       "1732759           3.0             m             -0.5    NaN  ...   \n",
       "1732760           6.8             n              0.0    NaN  ...   \n",
       "\n",
       "         STORE_CODE_A022  STORE_CODE_D002  STORE_CODE_D003  STORE_CODE_D004  \\\n",
       "0                      0                0                0                0   \n",
       "1                      0                0                0                0   \n",
       "2                      0                0                0                0   \n",
       "3                      0                0                0                0   \n",
       "4                      0                0                0                0   \n",
       "...                  ...              ...              ...              ...   \n",
       "1732756                0                0                0                0   \n",
       "1732757                0                0                0                0   \n",
       "1732758                0                0                0                0   \n",
       "1732759                0                0                0                0   \n",
       "1732760                0                0                0                0   \n",
       "\n",
       "         STORE_CODE_D005  STORE_CODE_D006  STORE_CODE_D007  STORE_CODE_D008  \\\n",
       "0                      0                0                1                0   \n",
       "1                      0                0                1                0   \n",
       "2                      0                0                1                0   \n",
       "3                      0                0                1                0   \n",
       "4                      0                0                1                0   \n",
       "...                  ...              ...              ...              ...   \n",
       "1732756                0                0                0                0   \n",
       "1732757                0                0                0                0   \n",
       "1732758                0                0                0                0   \n",
       "1732759                0                0                0                0   \n",
       "1732760                0                0                0                0   \n",
       "\n",
       "         STORE_CODE_D009  STORE_CODE_D010  \n",
       "0                      0                0  \n",
       "1                      0                0  \n",
       "2                      0                0  \n",
       "3                      0                0  \n",
       "4                      0                0  \n",
       "...                  ...              ...  \n",
       "1732756                0                0  \n",
       "1732757                0                0  \n",
       "1732758                0                0  \n",
       "1732759                0                0  \n",
       "1732760                0                0  \n",
       "\n",
       "[1730741 rows x 34 columns]"
      ]
     },
     "execution_count": 103,
     "metadata": {},
     "output_type": "execute_result"
    }
   ],
   "source": [
    "col=[\"STORE_CODE\"]\n",
    "dummy_store=pd.get_dummies(df_item,columns=col)\n",
    "dummy_store"
   ]
  },
  {
   "cell_type": "code",
   "execution_count": 104,
   "metadata": {},
   "outputs": [],
   "source": [
    "colums=['SDATE','BASK_CODE','PROD_CODE']#去除无数量意义的编码\n",
    "dummy_store=dummy_store.drop(colums,axis=1)"
   ]
  },
  {
   "cell_type": "code",
   "execution_count": 105,
   "metadata": {},
   "outputs": [
    {
     "data": {
      "image/png": "[encoded data removed]",
      "text/plain": [
       "<Figure size 432x288 with 1 Axes>"
      ]
     },
     "metadata": {
      "needs_background": "light"
     },
     "output_type": "display_data"
    }
   ],
   "source": [
    "#  相关性分析 剔除相关性较低的特征\n",
    "plt.rcParams[\"font.sans-serif\"]=['SimHei']#用来正常显示中文标签  \n",
    "plt.rcParams[\"axes.unicode_minus\"]=False#用来正常显示负号\n",
    "plt.figure()\n",
    "dummy_store.corr()['ITEM_SPEND'].sort_values(ascending=False).plot(kind='bar')\n",
    "plt.show()"
   ]
  },
  {
   "cell_type": "code",
   "execution_count": 106,
   "metadata": {},
   "outputs": [
    {
     "data": {
      "image/png": "[encoded data removed]",
      "text/plain": [
       "<Figure size 432x288 with 1 Axes>"
      ]
     },
     "metadata": {
      "needs_background": "light"
     },
     "output_type": "display_data"
    }
   ],
   "source": [
    "#  相关性分析 剔除相关性较低的特征\n",
    "plt.rcParams[\"font.sans-serif\"]=['SimHei']#用来正常显示中文标签  \n",
    "plt.rcParams[\"axes.unicode_minus\"]=False#用来正常显示负号\n",
    "plt.figure()\n",
    "dummy_store.corr()['DISCOUNT_AMOUNT'].sort_values(ascending=False).plot(kind='bar')\n",
    "plt.show()"
   ]
  },
  {
   "cell_type": "code",
   "execution_count": 107,
   "metadata": {},
   "outputs": [
    {
     "data": {
      "image/png": "[encoded data removed]",
      "text/plain": [
       "<Figure size 432x288 with 1 Axes>"
      ]
     },
     "metadata": {
      "needs_background": "light"
     },
     "output_type": "display_data"
    }
   ],
   "source": [
    "#  相关性分析 剔除相关性较低的特征\n",
    "plt.rcParams[\"font.sans-serif\"]=['SimHei']#用来正常显示中文标签  \n",
    "plt.rcParams[\"axes.unicode_minus\"]=False#用来正常显示负号\n",
    "plt.figure()\n",
    "dummy_store.corr()['NORMAL_PRICE'].sort_values(ascending=False).plot(kind='bar')\n",
    "plt.show()"
   ]
  },
  {
   "cell_type": "markdown",
   "metadata": {},
   "source": [
    "从以上几个图可以看出，价格方面与店铺方面关联性不明显，说明店铺间价格基本保持一致。"
   ]
  },
  {
   "cell_type": "markdown",
   "metadata": {},
   "source": [
    "#### 小结：\n",
    "* 关联性分析中需要先对数据进行独热向量编码后再分析\n",
    "* 销售量前十与销售额前十榜单差距巨大，仅有编号为21835的商品在两份榜单都在前十，看来均匀销量与销售额往往是不能兼得的\n",
    "* n,p,m三种折扣类型占据了99%以上的销售额，其中n类型大概占据了60%\n",
    "* 通过相关性分析可以看出，商品折后价格和打折价格呈现负相关，出现商品价格越高降价幅度越大的现象，与事实相符。而商品价格和商品计量单位和正常价格呈现正相关。商品价格与折扣种类没有明显相关关系。\n",
    "* 通过对商品折后价格总计，以及商品销售量总计，折扣种类总计进行相关性分析，发现三者有着很强的关联性。\n",
    "* 通过对店铺与价格关联性分析上看，价格方面与店铺方面关联性不明显，说明店铺间价格基本保持一致。"
   ]
  },
  {
   "cell_type": "code",
   "execution_count": null,
   "metadata": {},
   "outputs": [],
   "source": []
  }
 ],
 "metadata": {
  "kernelspec": {
   "display_name": "Python 3",
   "language": "python",
   "name": "python3"
  },
  "language_info": {
   "codemirror_mode": {
    "name": "ipython",
    "version": 3
   },
   "file_extension": ".py",
   "mimetype": "text/x-python",
   "name": "python",
   "nbconvert_exporter": "python",
   "pygments_lexer": "ipython3",
   "version": "3.7.6"
  }
 },
 "nbformat": 4,
 "nbformat_minor": 4
}
