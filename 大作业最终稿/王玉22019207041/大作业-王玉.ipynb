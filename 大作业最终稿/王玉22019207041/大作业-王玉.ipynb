{
 "cells": [
  {
   "cell_type": "markdown",
   "metadata": {},
   "source": [
    "## 1.数据的导入"
   ]
  },
  {
   "cell_type": "code",
   "execution_count": 2,
   "metadata": {},
   "outputs": [
    {
     "data": {
      "text/html": [
       "<div>\n",
       "<style scoped>\n",
       "    .dataframe tbody tr th:only-of-type {\n",
       "        vertical-align: middle;\n",
       "    }\n",
       "\n",
       "    .dataframe tbody tr th {\n",
       "        vertical-align: top;\n",
       "    }\n",
       "\n",
       "    .dataframe thead th {\n",
       "        text-align: right;\n",
       "    }\n",
       "</style>\n",
       "<table border=\"1\" class=\"dataframe\">\n",
       "  <thead>\n",
       "    <tr style=\"text-align: right;\">\n",
       "      <th></th>\n",
       "      <th>SHOP_DATETIME</th>\n",
       "      <th>STORE_CODE</th>\n",
       "      <th>POS_NO</th>\n",
       "      <th>BASK_CODE</th>\n",
       "      <th>BASK_SPEND</th>\n",
       "    </tr>\n",
       "  </thead>\n",
       "  <tbody>\n",
       "    <tr>\n",
       "      <th>0</th>\n",
       "      <td>2018-06-01</td>\n",
       "      <td>D007</td>\n",
       "      <td>3</td>\n",
       "      <td>250458</td>\n",
       "      <td>8.0</td>\n",
       "    </tr>\n",
       "    <tr>\n",
       "      <th>1</th>\n",
       "      <td>2018-06-01</td>\n",
       "      <td>D007</td>\n",
       "      <td>3</td>\n",
       "      <td>250200</td>\n",
       "      <td>32.7</td>\n",
       "    </tr>\n",
       "    <tr>\n",
       "      <th>2</th>\n",
       "      <td>2018-06-01</td>\n",
       "      <td>D007</td>\n",
       "      <td>1</td>\n",
       "      <td>161068</td>\n",
       "      <td>16.8</td>\n",
       "    </tr>\n",
       "    <tr>\n",
       "      <th>3</th>\n",
       "      <td>2018-06-01</td>\n",
       "      <td>D007</td>\n",
       "      <td>8</td>\n",
       "      <td>5325</td>\n",
       "      <td>30.4</td>\n",
       "    </tr>\n",
       "    <tr>\n",
       "      <th>4</th>\n",
       "      <td>2018-06-01</td>\n",
       "      <td>D007</td>\n",
       "      <td>8</td>\n",
       "      <td>5361</td>\n",
       "      <td>191.3</td>\n",
       "    </tr>\n",
       "  </tbody>\n",
       "</table>\n",
       "</div>"
      ],
      "text/plain": [
       "  SHOP_DATETIME STORE_CODE  POS_NO  BASK_CODE  BASK_SPEND\n",
       "0    2018-06-01       D007       3     250458         8.0\n",
       "1    2018-06-01       D007       3     250200        32.7\n",
       "2    2018-06-01       D007       1     161068        16.8\n",
       "3    2018-06-01       D007       8       5325        30.4\n",
       "4    2018-06-01       D007       8       5361       191.3"
      ]
     },
     "execution_count": 2,
     "metadata": {},
     "output_type": "execute_result"
    }
   ],
   "source": [
    "import numpy as np\n",
    "import pandas as pd\n",
    "import matplotlib.pyplot as plt\n",
    "import seaborn as sns\n",
    "import warnings\n",
    "#导入数据表basket\n",
    "df_basket = pd.read_csv('basket.csv',encoding='ISO-8859-1')\n",
    "df_basket['SHOP_DATETIME'] = pd.to_datetime(df_basket.SHOP_DATETIME,format='%Y-%m-%d')\n",
    "df_basket.head()"
   ]
  },
  {
   "cell_type": "code",
   "execution_count": 3,
   "metadata": {},
   "outputs": [
    {
     "data": {
      "text/html": [
       "<div>\n",
       "<style scoped>\n",
       "    .dataframe tbody tr th:only-of-type {\n",
       "        vertical-align: middle;\n",
       "    }\n",
       "\n",
       "    .dataframe tbody tr th {\n",
       "        vertical-align: top;\n",
       "    }\n",
       "\n",
       "    .dataframe thead th {\n",
       "        text-align: right;\n",
       "    }\n",
       "</style>\n",
       "<table border=\"1\" class=\"dataframe\">\n",
       "  <thead>\n",
       "    <tr style=\"text-align: right;\">\n",
       "      <th></th>\n",
       "      <th>SDATE</th>\n",
       "      <th>STORE_CODE</th>\n",
       "      <th>POSID</th>\n",
       "      <th>BASK_CODE</th>\n",
       "      <th>PROD_CODE</th>\n",
       "      <th>ITEM_QUANTITY</th>\n",
       "      <th>ITEM_SPEND</th>\n",
       "      <th>NORMAL_PRICE</th>\n",
       "      <th>DISCOUNT_TYPE</th>\n",
       "      <th>DISCOUNT_AMOUNT</th>\n",
       "    </tr>\n",
       "  </thead>\n",
       "  <tbody>\n",
       "    <tr>\n",
       "      <th>0</th>\n",
       "      <td>2018-06-01</td>\n",
       "      <td>D007</td>\n",
       "      <td>3</td>\n",
       "      <td>250451</td>\n",
       "      <td>29405</td>\n",
       "      <td>1.000</td>\n",
       "      <td>1.70</td>\n",
       "      <td>2.0</td>\n",
       "      <td>m</td>\n",
       "      <td>-0.3</td>\n",
       "    </tr>\n",
       "    <tr>\n",
       "      <th>1</th>\n",
       "      <td>2018-06-01</td>\n",
       "      <td>D007</td>\n",
       "      <td>3</td>\n",
       "      <td>250451</td>\n",
       "      <td>13187</td>\n",
       "      <td>1.000</td>\n",
       "      <td>1.00</td>\n",
       "      <td>1.0</td>\n",
       "      <td>n</td>\n",
       "      <td>0.0</td>\n",
       "    </tr>\n",
       "    <tr>\n",
       "      <th>2</th>\n",
       "      <td>2018-06-01</td>\n",
       "      <td>D007</td>\n",
       "      <td>3</td>\n",
       "      <td>250243</td>\n",
       "      <td>196249</td>\n",
       "      <td>1.000</td>\n",
       "      <td>99.00</td>\n",
       "      <td>99.0</td>\n",
       "      <td>m</td>\n",
       "      <td>0.0</td>\n",
       "    </tr>\n",
       "    <tr>\n",
       "      <th>3</th>\n",
       "      <td>2018-06-01</td>\n",
       "      <td>D007</td>\n",
       "      <td>3</td>\n",
       "      <td>250243</td>\n",
       "      <td>199637</td>\n",
       "      <td>1.000</td>\n",
       "      <td>9.90</td>\n",
       "      <td>16.8</td>\n",
       "      <td>p</td>\n",
       "      <td>-6.9</td>\n",
       "    </tr>\n",
       "    <tr>\n",
       "      <th>4</th>\n",
       "      <td>2018-06-01</td>\n",
       "      <td>D007</td>\n",
       "      <td>1</td>\n",
       "      <td>160905</td>\n",
       "      <td>195012</td>\n",
       "      <td>3.222</td>\n",
       "      <td>18.69</td>\n",
       "      <td>5.8</td>\n",
       "      <td>n</td>\n",
       "      <td>0.0</td>\n",
       "    </tr>\n",
       "  </tbody>\n",
       "</table>\n",
       "</div>"
      ],
      "text/plain": [
       "       SDATE STORE_CODE  POSID  BASK_CODE  PROD_CODE  ITEM_QUANTITY  \\\n",
       "0 2018-06-01       D007      3     250451      29405          1.000   \n",
       "1 2018-06-01       D007      3     250451      13187          1.000   \n",
       "2 2018-06-01       D007      3     250243     196249          1.000   \n",
       "3 2018-06-01       D007      3     250243     199637          1.000   \n",
       "4 2018-06-01       D007      1     160905     195012          3.222   \n",
       "\n",
       "   ITEM_SPEND  NORMAL_PRICE DISCOUNT_TYPE  DISCOUNT_AMOUNT  \n",
       "0        1.70           2.0             m             -0.3  \n",
       "1        1.00           1.0             n              0.0  \n",
       "2       99.00          99.0             m              0.0  \n",
       "3        9.90          16.8             p             -6.9  \n",
       "4       18.69           5.8             n              0.0  "
      ]
     },
     "execution_count": 3,
     "metadata": {},
     "output_type": "execute_result"
    }
   ],
   "source": [
    "\n",
    "plt.rcParams['font.sans-serif'] = ['SimHei']\n",
    "warnings.filterwarnings('ignore')\n",
    "\n",
    "# 导入数据表item\n",
    "df_item = pd.read_csv('item.csv',encoding='ISO-8859-1')\n",
    "df_item['SDATE'] = pd.to_datetime(df_item.SDATE,format='%Y-%m-%d')\n",
    "df_item.head()\n",
    "#数据分布情况"
   ]
  },
  {
   "cell_type": "markdown",
   "metadata": {},
   "source": [
    "## 数据的处理"
   ]
  },
  {
   "cell_type": "code",
   "execution_count": 4,
   "metadata": {},
   "outputs": [
    {
     "name": "stdout",
     "output_type": "stream",
     "text": [
      "<class 'pandas.core.frame.DataFrame'>\n",
      "RangeIndex: 1732761 entries, 0 to 1732760\n",
      "Data columns (total 10 columns):\n",
      "SDATE              datetime64[ns]\n",
      "STORE_CODE         object\n",
      "POSID              int64\n",
      "BASK_CODE          int64\n",
      "PROD_CODE          int64\n",
      "ITEM_QUANTITY      float64\n",
      "ITEM_SPEND         float64\n",
      "NORMAL_PRICE       float64\n",
      "DISCOUNT_TYPE      object\n",
      "DISCOUNT_AMOUNT    float64\n",
      "dtypes: datetime64[ns](1), float64(4), int64(3), object(2)\n",
      "memory usage: 132.2+ MB\n",
      "<class 'pandas.core.frame.DataFrame'>\n",
      "RangeIndex: 571552 entries, 0 to 571551\n",
      "Data columns (total 5 columns):\n",
      "SHOP_DATETIME    571552 non-null datetime64[ns]\n",
      "STORE_CODE       571552 non-null object\n",
      "POS_NO           571552 non-null int64\n",
      "BASK_CODE        571552 non-null int64\n",
      "BASK_SPEND       571552 non-null float64\n",
      "dtypes: datetime64[ns](1), float64(1), int64(2), object(1)\n",
      "memory usage: 21.8+ MB\n"
     ]
    }
   ],
   "source": [
    "df_item.info()\n",
    "df_basket.info()"
   ]
  },
  {
   "cell_type": "code",
   "execution_count": 7,
   "metadata": {},
   "outputs": [
    {
     "data": {
      "text/html": [
       "<div>\n",
       "<style scoped>\n",
       "    .dataframe tbody tr th:only-of-type {\n",
       "        vertical-align: middle;\n",
       "    }\n",
       "\n",
       "    .dataframe tbody tr th {\n",
       "        vertical-align: top;\n",
       "    }\n",
       "\n",
       "    .dataframe thead th {\n",
       "        text-align: right;\n",
       "    }\n",
       "</style>\n",
       "<table border=\"1\" class=\"dataframe\">\n",
       "  <thead>\n",
       "    <tr style=\"text-align: right;\">\n",
       "      <th></th>\n",
       "      <th>POS_NO</th>\n",
       "      <th>BASK_CODE</th>\n",
       "      <th>BASK_SPEND</th>\n",
       "    </tr>\n",
       "  </thead>\n",
       "  <tbody>\n",
       "    <tr>\n",
       "      <th>count</th>\n",
       "      <td>571552.000000</td>\n",
       "      <td>571552.000000</td>\n",
       "      <td>571552.000000</td>\n",
       "    </tr>\n",
       "    <tr>\n",
       "      <th>mean</th>\n",
       "      <td>2.998429</td>\n",
       "      <td>167472.817102</td>\n",
       "      <td>38.973310</td>\n",
       "    </tr>\n",
       "    <tr>\n",
       "      <th>std</th>\n",
       "      <td>2.516065</td>\n",
       "      <td>87263.199857</td>\n",
       "      <td>209.038276</td>\n",
       "    </tr>\n",
       "    <tr>\n",
       "      <th>min</th>\n",
       "      <td>1.000000</td>\n",
       "      <td>961.000000</td>\n",
       "      <td>-35940.000000</td>\n",
       "    </tr>\n",
       "    <tr>\n",
       "      <th>25%</th>\n",
       "      <td>1.000000</td>\n",
       "      <td>90533.750000</td>\n",
       "      <td>9.000000</td>\n",
       "    </tr>\n",
       "    <tr>\n",
       "      <th>50%</th>\n",
       "      <td>2.000000</td>\n",
       "      <td>177603.500000</td>\n",
       "      <td>19.900000</td>\n",
       "    </tr>\n",
       "    <tr>\n",
       "      <th>75%</th>\n",
       "      <td>3.000000</td>\n",
       "      <td>238816.750000</td>\n",
       "      <td>44.700000</td>\n",
       "    </tr>\n",
       "    <tr>\n",
       "      <th>max</th>\n",
       "      <td>20.000000</td>\n",
       "      <td>323914.000000</td>\n",
       "      <td>79920.000000</td>\n",
       "    </tr>\n",
       "  </tbody>\n",
       "</table>\n",
       "</div>"
      ],
      "text/plain": [
       "              POS_NO      BASK_CODE     BASK_SPEND\n",
       "count  571552.000000  571552.000000  571552.000000\n",
       "mean        2.998429  167472.817102      38.973310\n",
       "std         2.516065   87263.199857     209.038276\n",
       "min         1.000000     961.000000  -35940.000000\n",
       "25%         1.000000   90533.750000       9.000000\n",
       "50%         2.000000  177603.500000      19.900000\n",
       "75%         3.000000  238816.750000      44.700000\n",
       "max        20.000000  323914.000000   79920.000000"
      ]
     },
     "execution_count": 7,
     "metadata": {},
     "output_type": "execute_result"
    }
   ],
   "source": [
    "df_basket.describe()\n"
   ]
  },
  {
   "cell_type": "code",
   "execution_count": 8,
   "metadata": {},
   "outputs": [
    {
     "data": {
      "text/html": [
       "<div>\n",
       "<style scoped>\n",
       "    .dataframe tbody tr th:only-of-type {\n",
       "        vertical-align: middle;\n",
       "    }\n",
       "\n",
       "    .dataframe tbody tr th {\n",
       "        vertical-align: top;\n",
       "    }\n",
       "\n",
       "    .dataframe thead th {\n",
       "        text-align: right;\n",
       "    }\n",
       "</style>\n",
       "<table border=\"1\" class=\"dataframe\">\n",
       "  <thead>\n",
       "    <tr style=\"text-align: right;\">\n",
       "      <th></th>\n",
       "      <th>POSID</th>\n",
       "      <th>BASK_CODE</th>\n",
       "      <th>PROD_CODE</th>\n",
       "      <th>ITEM_QUANTITY</th>\n",
       "      <th>ITEM_SPEND</th>\n",
       "      <th>NORMAL_PRICE</th>\n",
       "      <th>DISCOUNT_AMOUNT</th>\n",
       "    </tr>\n",
       "  </thead>\n",
       "  <tbody>\n",
       "    <tr>\n",
       "      <th>count</th>\n",
       "      <td>1.732761e+06</td>\n",
       "      <td>1.732761e+06</td>\n",
       "      <td>1.732761e+06</td>\n",
       "      <td>1.732761e+06</td>\n",
       "      <td>1.732761e+06</td>\n",
       "      <td>1.732761e+06</td>\n",
       "      <td>1.732761e+06</td>\n",
       "    </tr>\n",
       "    <tr>\n",
       "      <th>mean</th>\n",
       "      <td>2.994959e+00</td>\n",
       "      <td>1.659824e+05</td>\n",
       "      <td>1.144861e+05</td>\n",
       "      <td>1.436702e+00</td>\n",
       "      <td>1.285536e+01</td>\n",
       "      <td>1.424412e+01</td>\n",
       "      <td>-1.624232e+00</td>\n",
       "    </tr>\n",
       "    <tr>\n",
       "      <th>std</th>\n",
       "      <td>2.470286e+00</td>\n",
       "      <td>8.583102e+04</td>\n",
       "      <td>8.161988e+04</td>\n",
       "      <td>7.015504e+00</td>\n",
       "      <td>1.022148e+02</td>\n",
       "      <td>2.403937e+01</td>\n",
       "      <td>5.160490e+01</td>\n",
       "    </tr>\n",
       "    <tr>\n",
       "      <th>min</th>\n",
       "      <td>1.000000e+00</td>\n",
       "      <td>9.610000e+02</td>\n",
       "      <td>1.900000e+01</td>\n",
       "      <td>-6.000000e+02</td>\n",
       "      <td>-3.594000e+04</td>\n",
       "      <td>5.000000e-01</td>\n",
       "      <td>-5.760000e+04</td>\n",
       "    </tr>\n",
       "    <tr>\n",
       "      <th>25%</th>\n",
       "      <td>1.000000e+00</td>\n",
       "      <td>8.995200e+04</td>\n",
       "      <td>2.183500e+04</td>\n",
       "      <td>1.000000e+00</td>\n",
       "      <td>3.800000e+00</td>\n",
       "      <td>3.800000e+00</td>\n",
       "      <td>-1.000000e+00</td>\n",
       "    </tr>\n",
       "    <tr>\n",
       "      <th>50%</th>\n",
       "      <td>2.000000e+00</td>\n",
       "      <td>1.758280e+05</td>\n",
       "      <td>1.233210e+05</td>\n",
       "      <td>1.000000e+00</td>\n",
       "      <td>7.000000e+00</td>\n",
       "      <td>7.800000e+00</td>\n",
       "      <td>0.000000e+00</td>\n",
       "    </tr>\n",
       "    <tr>\n",
       "      <th>75%</th>\n",
       "      <td>3.000000e+00</td>\n",
       "      <td>2.229530e+05</td>\n",
       "      <td>1.959930e+05</td>\n",
       "      <td>1.000000e+00</td>\n",
       "      <td>1.200000e+01</td>\n",
       "      <td>1.500000e+01</td>\n",
       "      <td>0.000000e+00</td>\n",
       "    </tr>\n",
       "    <tr>\n",
       "      <th>max</th>\n",
       "      <td>2.000000e+01</td>\n",
       "      <td>3.239140e+05</td>\n",
       "      <td>2.250470e+05</td>\n",
       "      <td>4.020000e+03</td>\n",
       "      <td>6.912000e+04</td>\n",
       "      <td>1.980000e+03</td>\n",
       "      <td>9.300000e+02</td>\n",
       "    </tr>\n",
       "  </tbody>\n",
       "</table>\n",
       "</div>"
      ],
      "text/plain": [
       "              POSID     BASK_CODE     PROD_CODE  ITEM_QUANTITY    ITEM_SPEND  \\\n",
       "count  1.732761e+06  1.732761e+06  1.732761e+06   1.732761e+06  1.732761e+06   \n",
       "mean   2.994959e+00  1.659824e+05  1.144861e+05   1.436702e+00  1.285536e+01   \n",
       "std    2.470286e+00  8.583102e+04  8.161988e+04   7.015504e+00  1.022148e+02   \n",
       "min    1.000000e+00  9.610000e+02  1.900000e+01  -6.000000e+02 -3.594000e+04   \n",
       "25%    1.000000e+00  8.995200e+04  2.183500e+04   1.000000e+00  3.800000e+00   \n",
       "50%    2.000000e+00  1.758280e+05  1.233210e+05   1.000000e+00  7.000000e+00   \n",
       "75%    3.000000e+00  2.229530e+05  1.959930e+05   1.000000e+00  1.200000e+01   \n",
       "max    2.000000e+01  3.239140e+05  2.250470e+05   4.020000e+03  6.912000e+04   \n",
       "\n",
       "       NORMAL_PRICE  DISCOUNT_AMOUNT  \n",
       "count  1.732761e+06     1.732761e+06  \n",
       "mean   1.424412e+01    -1.624232e+00  \n",
       "std    2.403937e+01     5.160490e+01  \n",
       "min    5.000000e-01    -5.760000e+04  \n",
       "25%    3.800000e+00    -1.000000e+00  \n",
       "50%    7.800000e+00     0.000000e+00  \n",
       "75%    1.500000e+01     0.000000e+00  \n",
       "max    1.980000e+03     9.300000e+02  "
      ]
     },
     "execution_count": 8,
     "metadata": {},
     "output_type": "execute_result"
    }
   ],
   "source": [
    "df_item.describe()"
   ]
  },
  {
   "cell_type": "markdown",
   "metadata": {},
   "source": [
    "##### 从用户购买消费来看，平均值为38.97元，标准差为209元，最小值为-35940元，最大值为79920元。\n",
    "#### 显然用户的消费不能为负的，所以肯定存在异常值\n"
   ]
  },
  {
   "cell_type": "markdown",
   "metadata": {},
   "source": [
    "#### 从商品单价来看，平均值为12.8元，最小值为-35940元，中位数为7元，最大值为69120元，标准差为102，说明价格有一定的浮动。\n",
    "#### 存在商品价格为负的数 显然是异常值,\n",
    "#### 折扣幅度来看，平均折扣为1.6元，中位数为0元，最大折扣为57600元，最小幅度为涨价226元。"
   ]
  },
  {
   "cell_type": "code",
   "execution_count": 9,
   "metadata": {},
   "outputs": [
    {
     "data": {
      "text/plain": [
       "SDATE              0\n",
       "STORE_CODE         0\n",
       "POSID              0\n",
       "BASK_CODE          0\n",
       "PROD_CODE          0\n",
       "ITEM_QUANTITY      0\n",
       "ITEM_SPEND         0\n",
       "NORMAL_PRICE       0\n",
       "DISCOUNT_TYPE      0\n",
       "DISCOUNT_AMOUNT    0\n",
       "dtype: int64"
      ]
     },
     "execution_count": 9,
     "metadata": {},
     "output_type": "execute_result"
    }
   ],
   "source": [
    "#缺失值处理\n",
    "df_item.isnull().sum(axis=0)"
   ]
  },
  {
   "cell_type": "code",
   "execution_count": 10,
   "metadata": {},
   "outputs": [
    {
     "data": {
      "text/plain": [
       "SHOP_DATETIME    0\n",
       "STORE_CODE       0\n",
       "POS_NO           0\n",
       "BASK_CODE        0\n",
       "BASK_SPEND       0\n",
       "dtype: int64"
      ]
     },
     "execution_count": 10,
     "metadata": {},
     "output_type": "execute_result"
    }
   ],
   "source": [
    "df_basket.isnull().sum(axis=0)"
   ]
  },
  {
   "cell_type": "markdown",
   "metadata": {},
   "source": [
    "### 清除ITEM_SPEND小于0的值"
   ]
  },
  {
   "cell_type": "code",
   "execution_count": 11,
   "metadata": {},
   "outputs": [
    {
     "name": "stdout",
     "output_type": "stream",
     "text": [
      "(1730741, 10)\n",
      "(569797, 5)\n"
     ]
    }
   ],
   "source": [
    "#清除ITEM_SPEND小于0的值\n",
    "\n",
    "df_item=df_item[df_item['ITEM_SPEND']>=0]\n",
    "df_basket=df_basket[df_basket['BASK_SPEND']>=0]\n",
    "print(df_item.shape)\n",
    "print(df_basket.shape)"
   ]
  },
  {
   "cell_type": "markdown",
   "metadata": {},
   "source": [
    "## 2.统计行描述"
   ]
  },
  {
   "cell_type": "markdown",
   "metadata": {},
   "source": [
    "### 按日期销售分布"
   ]
  },
  {
   "cell_type": "markdown",
   "metadata": {},
   "source": [
    "#### 整体销售情况子数据集，包含下单日期、销售额、销量、利润、年份、月份信息\n",
    "#### 按照年份、月份对销售子数据集进行分组求和"
   ]
  },
  {
   "cell_type": "code",
   "execution_count": 12,
   "metadata": {},
   "outputs": [],
   "source": [
    "sales_day = df_basket[['SHOP_DATETIME', 'BASK_SPEND']]\n",
    "sales_day = sales_day.groupby(['SHOP_DATETIME']).sum()"
   ]
  },
  {
   "cell_type": "code",
   "execution_count": 13,
   "metadata": {},
   "outputs": [
    {
     "data": {
      "text/plain": [
       "<matplotlib.axes._subplots.AxesSubplot at 0x1a238cc860>"
      ]
     },
     "execution_count": 13,
     "metadata": {},
     "output_type": "execute_result"
    },
    {
     "data": {
      "image/png": "[encoded data removed]",
      "text/plain": [
       "<Figure size 432x288 with 1 Axes>"
      ]
     },
     "metadata": {
      "needs_background": "light"
     },
     "output_type": "display_data"
    }
   ],
   "source": [
    "sales_day.plot(color='purple')"
   ]
  },
  {
   "cell_type": "markdown",
   "metadata": {},
   "source": [
    "### 可见，消费金额8月16-18日达到了高峰。其中在8月17日，\n",
    "### 销售额达到了最大值，之后消费金额呈下降趋势，并不断趋于平稳的状态。"
   ]
  },
  {
   "cell_type": "code",
   "execution_count": 14,
   "metadata": {},
   "outputs": [],
   "source": [
    "df_basket['daynameofweek']=df_basket['SHOP_DATETIME'].dt.weekday_name"
   ]
  },
  {
   "cell_type": "code",
   "execution_count": 15,
   "metadata": {},
   "outputs": [
    {
     "data": {
      "text/html": [
       "<div>\n",
       "<style scoped>\n",
       "    .dataframe tbody tr th:only-of-type {\n",
       "        vertical-align: middle;\n",
       "    }\n",
       "\n",
       "    .dataframe tbody tr th {\n",
       "        vertical-align: top;\n",
       "    }\n",
       "\n",
       "    .dataframe thead th {\n",
       "        text-align: right;\n",
       "    }\n",
       "</style>\n",
       "<table border=\"1\" class=\"dataframe\">\n",
       "  <thead>\n",
       "    <tr style=\"text-align: right;\">\n",
       "      <th></th>\n",
       "      <th>SHOP_DATETIME</th>\n",
       "      <th>STORE_CODE</th>\n",
       "      <th>POS_NO</th>\n",
       "      <th>BASK_CODE</th>\n",
       "      <th>BASK_SPEND</th>\n",
       "      <th>daynameofweek</th>\n",
       "    </tr>\n",
       "  </thead>\n",
       "  <tbody>\n",
       "    <tr>\n",
       "      <th>0</th>\n",
       "      <td>2018-06-01</td>\n",
       "      <td>D007</td>\n",
       "      <td>3</td>\n",
       "      <td>250458</td>\n",
       "      <td>8.00</td>\n",
       "      <td>Friday</td>\n",
       "    </tr>\n",
       "    <tr>\n",
       "      <th>1</th>\n",
       "      <td>2018-06-01</td>\n",
       "      <td>D007</td>\n",
       "      <td>3</td>\n",
       "      <td>250200</td>\n",
       "      <td>32.70</td>\n",
       "      <td>Friday</td>\n",
       "    </tr>\n",
       "    <tr>\n",
       "      <th>2</th>\n",
       "      <td>2018-06-01</td>\n",
       "      <td>D007</td>\n",
       "      <td>1</td>\n",
       "      <td>161068</td>\n",
       "      <td>16.80</td>\n",
       "      <td>Friday</td>\n",
       "    </tr>\n",
       "    <tr>\n",
       "      <th>3</th>\n",
       "      <td>2018-06-01</td>\n",
       "      <td>D007</td>\n",
       "      <td>8</td>\n",
       "      <td>5325</td>\n",
       "      <td>30.40</td>\n",
       "      <td>Friday</td>\n",
       "    </tr>\n",
       "    <tr>\n",
       "      <th>4</th>\n",
       "      <td>2018-06-01</td>\n",
       "      <td>D007</td>\n",
       "      <td>8</td>\n",
       "      <td>5361</td>\n",
       "      <td>191.30</td>\n",
       "      <td>Friday</td>\n",
       "    </tr>\n",
       "    <tr>\n",
       "      <th>5</th>\n",
       "      <td>2018-06-01</td>\n",
       "      <td>D007</td>\n",
       "      <td>3</td>\n",
       "      <td>250225</td>\n",
       "      <td>77.27</td>\n",
       "      <td>Friday</td>\n",
       "    </tr>\n",
       "    <tr>\n",
       "      <th>6</th>\n",
       "      <td>2018-06-01</td>\n",
       "      <td>D007</td>\n",
       "      <td>3</td>\n",
       "      <td>250309</td>\n",
       "      <td>72.07</td>\n",
       "      <td>Friday</td>\n",
       "    </tr>\n",
       "    <tr>\n",
       "      <th>7</th>\n",
       "      <td>2018-06-01</td>\n",
       "      <td>D007</td>\n",
       "      <td>4</td>\n",
       "      <td>47502</td>\n",
       "      <td>27.21</td>\n",
       "      <td>Friday</td>\n",
       "    </tr>\n",
       "    <tr>\n",
       "      <th>8</th>\n",
       "      <td>2018-06-01</td>\n",
       "      <td>D007</td>\n",
       "      <td>3</td>\n",
       "      <td>250520</td>\n",
       "      <td>11.80</td>\n",
       "      <td>Friday</td>\n",
       "    </tr>\n",
       "    <tr>\n",
       "      <th>9</th>\n",
       "      <td>2018-06-01</td>\n",
       "      <td>D007</td>\n",
       "      <td>1</td>\n",
       "      <td>160957</td>\n",
       "      <td>141.82</td>\n",
       "      <td>Friday</td>\n",
       "    </tr>\n",
       "    <tr>\n",
       "      <th>10</th>\n",
       "      <td>2018-06-01</td>\n",
       "      <td>D007</td>\n",
       "      <td>1</td>\n",
       "      <td>160969</td>\n",
       "      <td>89.90</td>\n",
       "      <td>Friday</td>\n",
       "    </tr>\n",
       "    <tr>\n",
       "      <th>11</th>\n",
       "      <td>2018-06-01</td>\n",
       "      <td>D007</td>\n",
       "      <td>1</td>\n",
       "      <td>161159</td>\n",
       "      <td>6.90</td>\n",
       "      <td>Friday</td>\n",
       "    </tr>\n",
       "    <tr>\n",
       "      <th>12</th>\n",
       "      <td>2018-06-01</td>\n",
       "      <td>A019</td>\n",
       "      <td>1</td>\n",
       "      <td>192101</td>\n",
       "      <td>15.37</td>\n",
       "      <td>Friday</td>\n",
       "    </tr>\n",
       "    <tr>\n",
       "      <th>13</th>\n",
       "      <td>2018-06-01</td>\n",
       "      <td>D008</td>\n",
       "      <td>1</td>\n",
       "      <td>197147</td>\n",
       "      <td>10.70</td>\n",
       "      <td>Friday</td>\n",
       "    </tr>\n",
       "    <tr>\n",
       "      <th>14</th>\n",
       "      <td>2018-06-01</td>\n",
       "      <td>D008</td>\n",
       "      <td>4</td>\n",
       "      <td>17891</td>\n",
       "      <td>138.10</td>\n",
       "      <td>Friday</td>\n",
       "    </tr>\n",
       "    <tr>\n",
       "      <th>15</th>\n",
       "      <td>2018-06-01</td>\n",
       "      <td>D008</td>\n",
       "      <td>4</td>\n",
       "      <td>18160</td>\n",
       "      <td>25.60</td>\n",
       "      <td>Friday</td>\n",
       "    </tr>\n",
       "    <tr>\n",
       "      <th>16</th>\n",
       "      <td>2018-06-01</td>\n",
       "      <td>D009</td>\n",
       "      <td>3</td>\n",
       "      <td>144146</td>\n",
       "      <td>3.60</td>\n",
       "      <td>Friday</td>\n",
       "    </tr>\n",
       "    <tr>\n",
       "      <th>17</th>\n",
       "      <td>2018-06-01</td>\n",
       "      <td>D009</td>\n",
       "      <td>3</td>\n",
       "      <td>144278</td>\n",
       "      <td>3.40</td>\n",
       "      <td>Friday</td>\n",
       "    </tr>\n",
       "    <tr>\n",
       "      <th>18</th>\n",
       "      <td>2018-06-01</td>\n",
       "      <td>D009</td>\n",
       "      <td>3</td>\n",
       "      <td>144238</td>\n",
       "      <td>12.50</td>\n",
       "      <td>Friday</td>\n",
       "    </tr>\n",
       "    <tr>\n",
       "      <th>19</th>\n",
       "      <td>2018-06-01</td>\n",
       "      <td>D009</td>\n",
       "      <td>3</td>\n",
       "      <td>144106</td>\n",
       "      <td>23.92</td>\n",
       "      <td>Friday</td>\n",
       "    </tr>\n",
       "  </tbody>\n",
       "</table>\n",
       "</div>"
      ],
      "text/plain": [
       "   SHOP_DATETIME STORE_CODE  POS_NO  BASK_CODE  BASK_SPEND daynameofweek\n",
       "0     2018-06-01       D007       3     250458        8.00        Friday\n",
       "1     2018-06-01       D007       3     250200       32.70        Friday\n",
       "2     2018-06-01       D007       1     161068       16.80        Friday\n",
       "3     2018-06-01       D007       8       5325       30.40        Friday\n",
       "4     2018-06-01       D007       8       5361      191.30        Friday\n",
       "5     2018-06-01       D007       3     250225       77.27        Friday\n",
       "6     2018-06-01       D007       3     250309       72.07        Friday\n",
       "7     2018-06-01       D007       4      47502       27.21        Friday\n",
       "8     2018-06-01       D007       3     250520       11.80        Friday\n",
       "9     2018-06-01       D007       1     160957      141.82        Friday\n",
       "10    2018-06-01       D007       1     160969       89.90        Friday\n",
       "11    2018-06-01       D007       1     161159        6.90        Friday\n",
       "12    2018-06-01       A019       1     192101       15.37        Friday\n",
       "13    2018-06-01       D008       1     197147       10.70        Friday\n",
       "14    2018-06-01       D008       4      17891      138.10        Friday\n",
       "15    2018-06-01       D008       4      18160       25.60        Friday\n",
       "16    2018-06-01       D009       3     144146        3.60        Friday\n",
       "17    2018-06-01       D009       3     144278        3.40        Friday\n",
       "18    2018-06-01       D009       3     144238       12.50        Friday\n",
       "19    2018-06-01       D009       3     144106       23.92        Friday"
      ]
     },
     "execution_count": 15,
     "metadata": {},
     "output_type": "execute_result"
    }
   ],
   "source": [
    "df_basket.head(20)"
   ]
  },
  {
   "cell_type": "code",
   "execution_count": 16,
   "metadata": {},
   "outputs": [
    {
     "data": {
      "text/plain": [
       "<matplotlib.axes._subplots.AxesSubplot at 0x1a214e5240>"
      ]
     },
     "execution_count": 16,
     "metadata": {},
     "output_type": "execute_result"
    },
    {
     "data": {
      "image/png": "[encoded data removed]",
      "text/plain": [
       "<Figure size 432x288 with 1 Axes>"
      ]
     },
     "metadata": {
      "needs_background": "light"
     },
     "output_type": "display_data"
    }
   ],
   "source": [
    "df_basket.daynameofweek.value_counts().plot(kind='bar',color='purple')"
   ]
  },
  {
   "cell_type": "markdown",
   "metadata": {},
   "source": [
    "### 通过对工作日销售笔数进行统计，可以看出周日周六为单数最大的两天。"
   ]
  },
  {
   "cell_type": "markdown",
   "metadata": {},
   "source": [
    "## 按门店分类"
   ]
  },
  {
   "cell_type": "code",
   "execution_count": 17,
   "metadata": {},
   "outputs": [
    {
     "name": "stdout",
     "output_type": "stream",
     "text": [
      "STORE_CODE\n",
      "A001    66507\n",
      "D002    62949\n",
      "D007    37503\n",
      "A008    36462\n",
      "A013    30064\n",
      "A006    28470\n",
      "A012    24946\n",
      "A009    21809\n",
      "D004    21362\n",
      "D008    21029\n",
      "A021    20555\n",
      "A010    19543\n",
      "D006    18572\n",
      "A016    18279\n",
      "A007    17954\n",
      "A019    16985\n",
      "D009    15827\n",
      "A018    15731\n",
      "D005    15261\n",
      "A022    15260\n",
      "Name: BASK_SPEND, dtype: int64\n"
     ]
    },
    {
     "data": {
      "text/plain": [
       "<matplotlib.axes._subplots.AxesSubplot at 0x1a3cf02208>"
      ]
     },
     "execution_count": 17,
     "metadata": {},
     "output_type": "execute_result"
    },
    {
     "data": {
      "image/png": "[encoded data removed]",
      "text/plain": [
       "<Figure size 432x288 with 1 Axes>"
      ]
     },
     "metadata": {
      "needs_background": "light"
     },
     "output_type": "display_data"
    }
   ],
   "source": [
    "storeId_count = df_basket.groupby('STORE_CODE').count()['BASK_SPEND'].sort_values(ascending=False)\n",
    "print(storeId_count.head(20))\n",
    "storeId_count.plot(kind='bar',color='purple')"
   ]
  },
  {
   "cell_type": "markdown",
   "metadata": {},
   "source": [
    "### 门店销售情况，平均店面销售额为939766，仅有A001,A008,A013,D002,D007达到均值以上，\n",
    "### 其中D003,D010,A017三个店铺距离均值差距较大，值得注意和警惕。"
   ]
  },
  {
   "cell_type": "markdown",
   "metadata": {},
   "source": [
    "### 产品价格分布"
   ]
  },
  {
   "cell_type": "code",
   "execution_count": 18,
   "metadata": {},
   "outputs": [],
   "source": [
    "#  依据特征income创造收入人群称呼\n",
    "prices = []\n",
    "for price in df_item['ITEM_SPEND']:\n",
    "    if 0 <= price < 2:\n",
    "        prices.append(1)  #  1\n",
    "    elif 2 <= price < 4:\n",
    "        prices.append(2)  # \n",
    "    elif 4 <= price < 10:\n",
    "        prices.append(3)  #\n",
    "    elif 10 <= price < 100:\n",
    "        prices.append(4)  #\n",
    "    elif 100 <= price < 500:\n",
    "        prices.append(5)  #\n",
    "    elif 500 <= price < 1000:\n",
    "        prices.append(6)  #\n",
    "    elif 1000 <= price:\n",
    "        prices.append(7)  #\n",
    "        \n",
    "df_item['price'] = pd.DataFrame(prices)"
   ]
  },
  {
   "cell_type": "markdown",
   "metadata": {},
   "source": [
    "### 从商品价格分布可以看出，商品销售主要集中在100元以下商品，\n",
    "### 其中商品销售平均数量为9561，60元以下商品销售额达到均值以上，其余商品在均值以下。"
   ]
  },
  {
   "cell_type": "code",
   "execution_count": 19,
   "metadata": {},
   "outputs": [
    {
     "data": {
      "text/plain": [
       "{'whiskers': [<matplotlib.lines.Line2D at 0x1a21dadd68>,\n",
       "  <matplotlib.lines.Line2D at 0x1a21dade48>],\n",
       " 'caps': [<matplotlib.lines.Line2D at 0x1a21dbe438>,\n",
       "  <matplotlib.lines.Line2D at 0x1a21dbe780>],\n",
       " 'boxes': [<matplotlib.lines.Line2D at 0x1a21dad978>],\n",
       " 'medians': [<matplotlib.lines.Line2D at 0x1a21dbeac8>],\n",
       " 'fliers': [<matplotlib.lines.Line2D at 0x1a21dbee10>],\n",
       " 'means': []}"
      ]
     },
     "execution_count": 19,
     "metadata": {},
     "output_type": "execute_result"
    },
    {
     "data": {
      "image/png": "[encoded data removed]",
      "text/plain": [
       "<Figure size 432x288 with 1 Axes>"
      ]
     },
     "metadata": {
      "needs_background": "light"
     },
     "output_type": "display_data"
    },
    {
     "data": {
      "image/png": "[encoded data removed]",
      "text/plain": [
       "<Figure size 432x288 with 1 Axes>"
      ]
     },
     "metadata": {
      "needs_background": "light"
     },
     "output_type": "display_data"
    }
   ],
   "source": [
    "#价格分布\n",
    "df_item.price.value_counts().plot(kind='bar',color='purple')# 柱状图 \n",
    "plt.title(u\"分布情况\") # 标题\n",
    "plt.ylabel(u\"价格\") \n",
    "\n",
    "#使用 plt 的 .boxplot() 方法绘制箱线图\n",
    "plt.figure()\n",
    "plt.subplot()\n",
    "plt.boxplot(df_item[\"ITEM_SPEND\"],'rgb')"
   ]
  },
  {
   "cell_type": "markdown",
   "metadata": {},
   "source": [
    "## 用户行为分析"
   ]
  },
  {
   "cell_type": "markdown",
   "metadata": {},
   "source": [
    "#### 用户下单行为分析"
   ]
  },
  {
   "cell_type": "markdown",
   "metadata": {},
   "source": [
    "### 用户消费金额、消费次数的描述统计"
   ]
  },
  {
   "cell_type": "code",
   "execution_count": 20,
   "metadata": {},
   "outputs": [
    {
     "data": {
      "text/html": [
       "<div>\n",
       "<style scoped>\n",
       "    .dataframe tbody tr th:only-of-type {\n",
       "        vertical-align: middle;\n",
       "    }\n",
       "\n",
       "    .dataframe tbody tr th {\n",
       "        vertical-align: top;\n",
       "    }\n",
       "\n",
       "    .dataframe thead th {\n",
       "        text-align: right;\n",
       "    }\n",
       "</style>\n",
       "<table border=\"1\" class=\"dataframe\">\n",
       "  <thead>\n",
       "    <tr style=\"text-align: right;\">\n",
       "      <th></th>\n",
       "      <th>BASK_CODE</th>\n",
       "      <th>SHOP_DATETIME</th>\n",
       "      <th>BASK_SPEND</th>\n",
       "    </tr>\n",
       "  </thead>\n",
       "  <tbody>\n",
       "    <tr>\n",
       "      <th>0</th>\n",
       "      <td>250458</td>\n",
       "      <td>2018-06-01</td>\n",
       "      <td>8.00</td>\n",
       "    </tr>\n",
       "    <tr>\n",
       "      <th>215288</th>\n",
       "      <td>250469</td>\n",
       "      <td>2018-06-01</td>\n",
       "      <td>89.70</td>\n",
       "    </tr>\n",
       "    <tr>\n",
       "      <th>215287</th>\n",
       "      <td>161017</td>\n",
       "      <td>2018-06-01</td>\n",
       "      <td>9.90</td>\n",
       "    </tr>\n",
       "    <tr>\n",
       "      <th>215286</th>\n",
       "      <td>161158</td>\n",
       "      <td>2018-06-01</td>\n",
       "      <td>4.00</td>\n",
       "    </tr>\n",
       "    <tr>\n",
       "      <th>215285</th>\n",
       "      <td>250476</td>\n",
       "      <td>2018-06-01</td>\n",
       "      <td>86.40</td>\n",
       "    </tr>\n",
       "    <tr>\n",
       "      <th>215284</th>\n",
       "      <td>5399</td>\n",
       "      <td>2018-06-01</td>\n",
       "      <td>23.20</td>\n",
       "    </tr>\n",
       "    <tr>\n",
       "      <th>215283</th>\n",
       "      <td>5398</td>\n",
       "      <td>2018-06-01</td>\n",
       "      <td>28.73</td>\n",
       "    </tr>\n",
       "    <tr>\n",
       "      <th>215282</th>\n",
       "      <td>161038</td>\n",
       "      <td>2018-06-01</td>\n",
       "      <td>57.92</td>\n",
       "    </tr>\n",
       "    <tr>\n",
       "      <th>215281</th>\n",
       "      <td>250438</td>\n",
       "      <td>2018-06-01</td>\n",
       "      <td>67.20</td>\n",
       "    </tr>\n",
       "    <tr>\n",
       "      <th>215280</th>\n",
       "      <td>160962</td>\n",
       "      <td>2018-06-01</td>\n",
       "      <td>3.00</td>\n",
       "    </tr>\n",
       "    <tr>\n",
       "      <th>215279</th>\n",
       "      <td>35068</td>\n",
       "      <td>2018-06-01</td>\n",
       "      <td>86.70</td>\n",
       "    </tr>\n",
       "    <tr>\n",
       "      <th>215278</th>\n",
       "      <td>34947</td>\n",
       "      <td>2018-06-01</td>\n",
       "      <td>66.79</td>\n",
       "    </tr>\n",
       "    <tr>\n",
       "      <th>215277</th>\n",
       "      <td>35022</td>\n",
       "      <td>2018-06-01</td>\n",
       "      <td>14.90</td>\n",
       "    </tr>\n",
       "    <tr>\n",
       "      <th>215289</th>\n",
       "      <td>160912</td>\n",
       "      <td>2018-06-01</td>\n",
       "      <td>56.00</td>\n",
       "    </tr>\n",
       "    <tr>\n",
       "      <th>215276</th>\n",
       "      <td>148558</td>\n",
       "      <td>2018-06-01</td>\n",
       "      <td>10.80</td>\n",
       "    </tr>\n",
       "    <tr>\n",
       "      <th>215274</th>\n",
       "      <td>148745</td>\n",
       "      <td>2018-06-01</td>\n",
       "      <td>34.90</td>\n",
       "    </tr>\n",
       "    <tr>\n",
       "      <th>215273</th>\n",
       "      <td>205066</td>\n",
       "      <td>2018-06-01</td>\n",
       "      <td>31.98</td>\n",
       "    </tr>\n",
       "    <tr>\n",
       "      <th>215272</th>\n",
       "      <td>204811</td>\n",
       "      <td>2018-06-01</td>\n",
       "      <td>20.63</td>\n",
       "    </tr>\n",
       "    <tr>\n",
       "      <th>215271</th>\n",
       "      <td>204766</td>\n",
       "      <td>2018-06-01</td>\n",
       "      <td>39.85</td>\n",
       "    </tr>\n",
       "    <tr>\n",
       "      <th>215270</th>\n",
       "      <td>204765</td>\n",
       "      <td>2018-06-01</td>\n",
       "      <td>3.50</td>\n",
       "    </tr>\n",
       "    <tr>\n",
       "      <th>215269</th>\n",
       "      <td>15923</td>\n",
       "      <td>2018-06-01</td>\n",
       "      <td>291.81</td>\n",
       "    </tr>\n",
       "    <tr>\n",
       "      <th>215268</th>\n",
       "      <td>173844</td>\n",
       "      <td>2018-06-01</td>\n",
       "      <td>33.88</td>\n",
       "    </tr>\n",
       "    <tr>\n",
       "      <th>215267</th>\n",
       "      <td>15789</td>\n",
       "      <td>2018-06-01</td>\n",
       "      <td>9.90</td>\n",
       "    </tr>\n",
       "    <tr>\n",
       "      <th>215266</th>\n",
       "      <td>15755</td>\n",
       "      <td>2018-06-01</td>\n",
       "      <td>21.04</td>\n",
       "    </tr>\n",
       "    <tr>\n",
       "      <th>215265</th>\n",
       "      <td>15711</td>\n",
       "      <td>2018-06-01</td>\n",
       "      <td>1.40</td>\n",
       "    </tr>\n",
       "    <tr>\n",
       "      <th>215264</th>\n",
       "      <td>173481</td>\n",
       "      <td>2018-06-01</td>\n",
       "      <td>9.41</td>\n",
       "    </tr>\n",
       "    <tr>\n",
       "      <th>215263</th>\n",
       "      <td>207961</td>\n",
       "      <td>2018-06-01</td>\n",
       "      <td>1.50</td>\n",
       "    </tr>\n",
       "    <tr>\n",
       "      <th>215275</th>\n",
       "      <td>34952</td>\n",
       "      <td>2018-06-01</td>\n",
       "      <td>12.87</td>\n",
       "    </tr>\n",
       "    <tr>\n",
       "      <th>215262</th>\n",
       "      <td>82213</td>\n",
       "      <td>2018-06-01</td>\n",
       "      <td>8.50</td>\n",
       "    </tr>\n",
       "    <tr>\n",
       "      <th>215290</th>\n",
       "      <td>161147</td>\n",
       "      <td>2018-06-01</td>\n",
       "      <td>11.80</td>\n",
       "    </tr>\n",
       "    <tr>\n",
       "      <th>...</th>\n",
       "      <td>...</td>\n",
       "      <td>...</td>\n",
       "      <td>...</td>\n",
       "    </tr>\n",
       "    <tr>\n",
       "      <th>355654</th>\n",
       "      <td>122630</td>\n",
       "      <td>2018-07-05</td>\n",
       "      <td>9.17</td>\n",
       "    </tr>\n",
       "    <tr>\n",
       "      <th>355653</th>\n",
       "      <td>122764</td>\n",
       "      <td>2018-07-05</td>\n",
       "      <td>11.00</td>\n",
       "    </tr>\n",
       "    <tr>\n",
       "      <th>355652</th>\n",
       "      <td>308024</td>\n",
       "      <td>2018-07-05</td>\n",
       "      <td>19.90</td>\n",
       "    </tr>\n",
       "    <tr>\n",
       "      <th>355651</th>\n",
       "      <td>307975</td>\n",
       "      <td>2018-07-05</td>\n",
       "      <td>87.00</td>\n",
       "    </tr>\n",
       "    <tr>\n",
       "      <th>355650</th>\n",
       "      <td>308021</td>\n",
       "      <td>2018-07-05</td>\n",
       "      <td>6.60</td>\n",
       "    </tr>\n",
       "    <tr>\n",
       "      <th>355658</th>\n",
       "      <td>308114</td>\n",
       "      <td>2018-07-05</td>\n",
       "      <td>3.50</td>\n",
       "    </tr>\n",
       "    <tr>\n",
       "      <th>355734</th>\n",
       "      <td>250588</td>\n",
       "      <td>2018-07-05</td>\n",
       "      <td>6.20</td>\n",
       "    </tr>\n",
       "    <tr>\n",
       "      <th>355735</th>\n",
       "      <td>41884</td>\n",
       "      <td>2018-07-05</td>\n",
       "      <td>14.00</td>\n",
       "    </tr>\n",
       "    <tr>\n",
       "      <th>355736</th>\n",
       "      <td>41732</td>\n",
       "      <td>2018-07-05</td>\n",
       "      <td>69.90</td>\n",
       "    </tr>\n",
       "    <tr>\n",
       "      <th>355755</th>\n",
       "      <td>215112</td>\n",
       "      <td>2018-07-05</td>\n",
       "      <td>8.00</td>\n",
       "    </tr>\n",
       "    <tr>\n",
       "      <th>355754</th>\n",
       "      <td>165721</td>\n",
       "      <td>2018-07-05</td>\n",
       "      <td>3.50</td>\n",
       "    </tr>\n",
       "    <tr>\n",
       "      <th>355753</th>\n",
       "      <td>165642</td>\n",
       "      <td>2018-07-05</td>\n",
       "      <td>69.90</td>\n",
       "    </tr>\n",
       "    <tr>\n",
       "      <th>355752</th>\n",
       "      <td>215014</td>\n",
       "      <td>2018-07-05</td>\n",
       "      <td>16.89</td>\n",
       "    </tr>\n",
       "    <tr>\n",
       "      <th>355751</th>\n",
       "      <td>215010</td>\n",
       "      <td>2018-07-05</td>\n",
       "      <td>91.02</td>\n",
       "    </tr>\n",
       "    <tr>\n",
       "      <th>355750</th>\n",
       "      <td>215226</td>\n",
       "      <td>2018-07-05</td>\n",
       "      <td>7.80</td>\n",
       "    </tr>\n",
       "    <tr>\n",
       "      <th>355749</th>\n",
       "      <td>215365</td>\n",
       "      <td>2018-07-05</td>\n",
       "      <td>43.20</td>\n",
       "    </tr>\n",
       "    <tr>\n",
       "      <th>355748</th>\n",
       "      <td>215333</td>\n",
       "      <td>2018-07-05</td>\n",
       "      <td>16.80</td>\n",
       "    </tr>\n",
       "    <tr>\n",
       "      <th>355747</th>\n",
       "      <td>215001</td>\n",
       "      <td>2018-07-05</td>\n",
       "      <td>18.08</td>\n",
       "    </tr>\n",
       "    <tr>\n",
       "      <th>355746</th>\n",
       "      <td>215187</td>\n",
       "      <td>2018-07-05</td>\n",
       "      <td>25.00</td>\n",
       "    </tr>\n",
       "    <tr>\n",
       "      <th>355745</th>\n",
       "      <td>307986</td>\n",
       "      <td>2018-07-05</td>\n",
       "      <td>32.70</td>\n",
       "    </tr>\n",
       "    <tr>\n",
       "      <th>355744</th>\n",
       "      <td>307967</td>\n",
       "      <td>2018-07-05</td>\n",
       "      <td>10.20</td>\n",
       "    </tr>\n",
       "    <tr>\n",
       "      <th>355743</th>\n",
       "      <td>19637</td>\n",
       "      <td>2018-07-05</td>\n",
       "      <td>45.00</td>\n",
       "    </tr>\n",
       "    <tr>\n",
       "      <th>355742</th>\n",
       "      <td>308004</td>\n",
       "      <td>2018-07-05</td>\n",
       "      <td>17.02</td>\n",
       "    </tr>\n",
       "    <tr>\n",
       "      <th>355741</th>\n",
       "      <td>307806</td>\n",
       "      <td>2018-07-05</td>\n",
       "      <td>3.28</td>\n",
       "    </tr>\n",
       "    <tr>\n",
       "      <th>355740</th>\n",
       "      <td>323607</td>\n",
       "      <td>2018-07-05</td>\n",
       "      <td>77.70</td>\n",
       "    </tr>\n",
       "    <tr>\n",
       "      <th>355739</th>\n",
       "      <td>124578</td>\n",
       "      <td>2018-07-05</td>\n",
       "      <td>23.40</td>\n",
       "    </tr>\n",
       "    <tr>\n",
       "      <th>355738</th>\n",
       "      <td>124587</td>\n",
       "      <td>2018-07-05</td>\n",
       "      <td>10.00</td>\n",
       "    </tr>\n",
       "    <tr>\n",
       "      <th>355737</th>\n",
       "      <td>141664</td>\n",
       "      <td>2018-07-05</td>\n",
       "      <td>149.80</td>\n",
       "    </tr>\n",
       "    <tr>\n",
       "      <th>355819</th>\n",
       "      <td>291779</td>\n",
       "      <td>2018-07-05</td>\n",
       "      <td>7.20</td>\n",
       "    </tr>\n",
       "    <tr>\n",
       "      <th>571551</th>\n",
       "      <td>284265</td>\n",
       "      <td>2018-07-05</td>\n",
       "      <td>43.20</td>\n",
       "    </tr>\n",
       "  </tbody>\n",
       "</table>\n",
       "<p>569797 rows × 3 columns</p>\n",
       "</div>"
      ],
      "text/plain": [
       "        BASK_CODE SHOP_DATETIME  BASK_SPEND\n",
       "0          250458    2018-06-01        8.00\n",
       "215288     250469    2018-06-01       89.70\n",
       "215287     161017    2018-06-01        9.90\n",
       "215286     161158    2018-06-01        4.00\n",
       "215285     250476    2018-06-01       86.40\n",
       "215284       5399    2018-06-01       23.20\n",
       "215283       5398    2018-06-01       28.73\n",
       "215282     161038    2018-06-01       57.92\n",
       "215281     250438    2018-06-01       67.20\n",
       "215280     160962    2018-06-01        3.00\n",
       "215279      35068    2018-06-01       86.70\n",
       "215278      34947    2018-06-01       66.79\n",
       "215277      35022    2018-06-01       14.90\n",
       "215289     160912    2018-06-01       56.00\n",
       "215276     148558    2018-06-01       10.80\n",
       "215274     148745    2018-06-01       34.90\n",
       "215273     205066    2018-06-01       31.98\n",
       "215272     204811    2018-06-01       20.63\n",
       "215271     204766    2018-06-01       39.85\n",
       "215270     204765    2018-06-01        3.50\n",
       "215269      15923    2018-06-01      291.81\n",
       "215268     173844    2018-06-01       33.88\n",
       "215267      15789    2018-06-01        9.90\n",
       "215266      15755    2018-06-01       21.04\n",
       "215265      15711    2018-06-01        1.40\n",
       "215264     173481    2018-06-01        9.41\n",
       "215263     207961    2018-06-01        1.50\n",
       "215275      34952    2018-06-01       12.87\n",
       "215262      82213    2018-06-01        8.50\n",
       "215290     161147    2018-06-01       11.80\n",
       "...           ...           ...         ...\n",
       "355654     122630    2018-07-05        9.17\n",
       "355653     122764    2018-07-05       11.00\n",
       "355652     308024    2018-07-05       19.90\n",
       "355651     307975    2018-07-05       87.00\n",
       "355650     308021    2018-07-05        6.60\n",
       "355658     308114    2018-07-05        3.50\n",
       "355734     250588    2018-07-05        6.20\n",
       "355735      41884    2018-07-05       14.00\n",
       "355736      41732    2018-07-05       69.90\n",
       "355755     215112    2018-07-05        8.00\n",
       "355754     165721    2018-07-05        3.50\n",
       "355753     165642    2018-07-05       69.90\n",
       "355752     215014    2018-07-05       16.89\n",
       "355751     215010    2018-07-05       91.02\n",
       "355750     215226    2018-07-05        7.80\n",
       "355749     215365    2018-07-05       43.20\n",
       "355748     215333    2018-07-05       16.80\n",
       "355747     215001    2018-07-05       18.08\n",
       "355746     215187    2018-07-05       25.00\n",
       "355745     307986    2018-07-05       32.70\n",
       "355744     307967    2018-07-05       10.20\n",
       "355743      19637    2018-07-05       45.00\n",
       "355742     308004    2018-07-05       17.02\n",
       "355741     307806    2018-07-05        3.28\n",
       "355740     323607    2018-07-05       77.70\n",
       "355739     124578    2018-07-05       23.40\n",
       "355738     124587    2018-07-05       10.00\n",
       "355737     141664    2018-07-05      149.80\n",
       "355819     291779    2018-07-05        7.20\n",
       "571551     284265    2018-07-05       43.20\n",
       "\n",
       "[569797 rows x 3 columns]"
      ]
     },
     "execution_count": 20,
     "metadata": {},
     "output_type": "execute_result"
    }
   ],
   "source": [
    "grouped_Customer = df_basket[['BASK_CODE','SHOP_DATETIME', \n",
    "          'BASK_SPEND']].sort_values(['SHOP_DATETIME']).groupby('BASK_CODE')\n",
    "grouped_Customer.head(10)"
   ]
  },
  {
   "cell_type": "code",
   "execution_count": 21,
   "metadata": {},
   "outputs": [
    {
     "data": {
      "text/plain": [
       "count    280816.000000\n",
       "mean         80.317314\n",
       "std         282.972947\n",
       "min           0.010000\n",
       "25%          20.700000\n",
       "50%          48.940000\n",
       "75%          98.700000\n",
       "max       80064.900000\n",
       "Name: BASK_SPEND, dtype: float64"
      ]
     },
     "execution_count": 21,
     "metadata": {},
     "output_type": "execute_result"
    }
   ],
   "source": [
    "# 用户消费金额、消费次数的描述统计\n",
    "grouped_Customer.count().describe()\n",
    "grouped_Customer['BASK_SPEND'].sum().describe()"
   ]
  },
  {
   "cell_type": "markdown",
   "metadata": {},
   "source": [
    "### 用户消费金额分布图"
   ]
  },
  {
   "cell_type": "code",
   "execution_count": 22,
   "metadata": {},
   "outputs": [
    {
     "data": {
      "text/plain": [
       "<matplotlib.axes._subplots.AxesSubplot at 0x1a21d72eb8>"
      ]
     },
     "execution_count": 22,
     "metadata": {},
     "output_type": "execute_result"
    },
    {
     "data": {
      "image/png": "[encoded data removed]",
      "text/plain": [
       "<Figure size 432x288 with 1 Axes>"
      ]
     },
     "metadata": {
      "needs_background": "light"
     },
     "output_type": "display_data"
    }
   ],
   "source": [
    "plt.figure()\n",
    "plt.subplot()\n",
    "plt.boxplot(df_basket[\"BASK_SPEND\"])\n",
    "grouped_Customer.sum().query('BASK_SPEND < 150').BASK_SPEND.plot.hist(width=[1.3],color='purple',bins = 30)"
   ]
  },
  {
   "cell_type": "markdown",
   "metadata": {},
   "source": [
    "#### 可以看出用户消费金额大都集中在0-1000元以内,从上述直方图可以看出，用户消费金额，绝大部分是呈现集中趋势."
   ]
  },
  {
   "cell_type": "markdown",
   "metadata": {},
   "source": [
    "### 累计消费占比"
   ]
  },
  {
   "cell_type": "code",
   "execution_count": 23,
   "metadata": {},
   "outputs": [
    {
     "data": {
      "text/plain": [
       "<matplotlib.axes._subplots.AxesSubplot at 0x1a3dbc6d68>"
      ]
     },
     "execution_count": 23,
     "metadata": {},
     "output_type": "execute_result"
    },
    {
     "data": {
      "image/png": "[encoded data removed]",
      "text/plain": [
       "<Figure size 432x288 with 1 Axes>"
      ]
     },
     "metadata": {
      "needs_background": "light"
     },
     "output_type": "display_data"
    }
   ],
   "source": [
    "# 用户累计消费占比（百分之多少的用户占百分之多少的销售额）\n",
    "grouped_Customer.sum().sort_values('BASK_SPEND').apply(lambda x : x.cumsum()/ x.sum()).reset_index().BASK_SPEND.plot(color='purple')"
   ]
  },
  {
   "cell_type": "markdown",
   "metadata": {},
   "source": [
    "### 我们可以发现：30%的用户贡献了70%的消费额度，而排名前5000的用户就贡献了40%的消费额."
   ]
  },
  {
   "cell_type": "markdown",
   "metadata": {},
   "source": [
    "### 购买时间分析"
   ]
  },
  {
   "cell_type": "code",
   "execution_count": 24,
   "metadata": {},
   "outputs": [
    {
     "data": {
      "text/plain": [
       "<matplotlib.axes._subplots.AxesSubplot at 0x1a3db57588>"
      ]
     },
     "execution_count": 24,
     "metadata": {},
     "output_type": "execute_result"
    },
    {
     "data": {
      "image/png": "[encoded data removed]",
      "text/plain": [
       "<Figure size 432x288 with 1 Axes>"
      ]
     },
     "metadata": {
      "needs_background": "light"
     },
     "output_type": "display_data"
    }
   ],
   "source": [
    "# 用户第一次消费（首购）\n",
    "grouped_Customer.min().SHOP_DATETIME.value_counts().plot(color='purple')"
   ]
  },
  {
   "cell_type": "code",
   "execution_count": 25,
   "metadata": {},
   "outputs": [
    {
     "data": {
      "text/plain": [
       "<matplotlib.axes._subplots.AxesSubplot at 0x1a25c0bc18>"
      ]
     },
     "execution_count": 25,
     "metadata": {},
     "output_type": "execute_result"
    },
    {
     "data": {
      "image/png": "[encoded data removed]",
      "text/plain": [
       "<Figure size 432x288 with 1 Axes>"
      ]
     },
     "metadata": {
      "needs_background": "light"
     },
     "output_type": "display_data"
    }
   ],
   "source": [
    "# 用户最后一次消费\n",
    "grouped_Customer.max().SHOP_DATETIME.value_counts().plot(color='purple')"
   ]
  },
  {
   "cell_type": "markdown",
   "metadata": {},
   "source": [
    "### 新老用户消费比"
   ]
  },
  {
   "cell_type": "code",
   "execution_count": 26,
   "metadata": {},
   "outputs": [
    {
     "data": {
      "text/plain": [
       "([<matplotlib.patches.Wedge at 0x1a21d5d320>,\n",
       "  <matplotlib.patches.Wedge at 0x1a22931780>],\n",
       " [Text(-0.3521304189966928, 1.0421152373980593, 'False'),\n",
       "  Text(0.35213051656656097, -1.042115204429226, 'True')],\n",
       " [Text(-0.19207113763455969, 0.5684264931262142, '60.37%'),\n",
       "  Text(0.1920711908544878, -0.568426475143214, '39.63%')])"
      ]
     },
     "execution_count": 26,
     "metadata": {},
     "output_type": "execute_result"
    },
    {
     "data": {
      "image/png": "[encoded data removed]",
      "text/plain": [
       "<Figure size 432x288 with 1 Axes>"
      ]
     },
     "metadata": {},
     "output_type": "display_data"
    }
   ],
   "source": [
    "# 多少用户仅消费1次\n",
    "user_life =grouped_Customer.SHOP_DATETIME.agg(['min','max'])\n",
    "(user_life['min'] == user_life['max']).value_counts()\n",
    "# 可视化（饼图）\n",
    "plt.pie((user_life['min'] == user_life['max']).value_counts(normalize = True),\n",
    "       autopct='%.2f%%',\n",
    "       labels = (user_life['min'] == user_life['max']).value_counts().index)"
   ]
  },
  {
   "cell_type": "markdown",
   "metadata": {},
   "source": [
    "## 3 商品情况分析"
   ]
  },
  {
   "cell_type": "markdown",
   "metadata": {},
   "source": [
    "### 3.1销售统计"
   ]
  },
  {
   "cell_type": "code",
   "execution_count": 27,
   "metadata": {},
   "outputs": [
    {
     "name": "stdout",
     "output_type": "stream",
     "text": [
      "PROD_CODE\n",
      "205540    12617\n",
      "21835     10455\n",
      "194690     9530\n",
      "72811      7744\n",
      "178462     7372\n",
      "197532     7287\n",
      "205437     6721\n",
      "1557       6036\n",
      "109584     5932\n",
      "216571     5673\n",
      "Name: BASK_CODE, dtype: int64\n"
     ]
    }
   ],
   "source": [
    "productId_count = df_item.groupby('PROD_CODE')['BASK_CODE'].count().sort_values(ascending=False)\n",
    "print(productId_count.head(10))"
   ]
  },
  {
   "cell_type": "markdown",
   "metadata": {},
   "source": [
    "### 3.2销售额前十统计"
   ]
  },
  {
   "cell_type": "code",
   "execution_count": 28,
   "metadata": {},
   "outputs": [
    {
     "name": "stdout",
     "output_type": "stream",
     "text": [
      "PROD_CODE\n",
      "7137      405783.50\n",
      "7133      289784.00\n",
      "136839    281211.40\n",
      "149413    173820.33\n",
      "1239      149153.20\n",
      "154900    141034.70\n",
      "220834    127622.90\n",
      "21835     114483.25\n",
      "88160     103467.20\n",
      "3971       84972.00\n",
      "Name: ITEM_SPEND, dtype: float64\n"
     ]
    }
   ],
   "source": [
    "productId_amount = df_item.groupby('PROD_CODE').sum()['ITEM_SPEND'].sort_values(ascending=False)\n",
    "print(productId_amount.head(10))"
   ]
  },
  {
   "cell_type": "markdown",
   "metadata": {},
   "source": [
    "### 折扣与销售量情况"
   ]
  },
  {
   "cell_type": "code",
   "execution_count": 29,
   "metadata": {},
   "outputs": [
    {
     "data": {
      "text/html": [
       "<div>\n",
       "<style scoped>\n",
       "    .dataframe tbody tr th:only-of-type {\n",
       "        vertical-align: middle;\n",
       "    }\n",
       "\n",
       "    .dataframe tbody tr th {\n",
       "        vertical-align: top;\n",
       "    }\n",
       "\n",
       "    .dataframe thead th {\n",
       "        text-align: right;\n",
       "    }\n",
       "</style>\n",
       "<table border=\"1\" class=\"dataframe\">\n",
       "  <thead>\n",
       "    <tr style=\"text-align: right;\">\n",
       "      <th></th>\n",
       "      <th>DISCOUNT_TYPE</th>\n",
       "      <th>ITEM_SPEND</th>\n",
       "      <th>cum_percent</th>\n",
       "    </tr>\n",
       "  </thead>\n",
       "  <tbody>\n",
       "    <tr>\n",
       "      <th>0</th>\n",
       "      <td>n</td>\n",
       "      <td>1.468634e+07</td>\n",
       "      <td>0.651152</td>\n",
       "    </tr>\n",
       "    <tr>\n",
       "      <th>1</th>\n",
       "      <td>p</td>\n",
       "      <td>5.355779e+06</td>\n",
       "      <td>0.888613</td>\n",
       "    </tr>\n",
       "    <tr>\n",
       "      <th>2</th>\n",
       "      <td>m</td>\n",
       "      <td>2.155000e+06</td>\n",
       "      <td>0.984160</td>\n",
       "    </tr>\n",
       "    <tr>\n",
       "      <th>3</th>\n",
       "      <td>v</td>\n",
       "      <td>1.910762e+05</td>\n",
       "      <td>0.992632</td>\n",
       "    </tr>\n",
       "    <tr>\n",
       "      <th>4</th>\n",
       "      <td>x</td>\n",
       "      <td>9.161940e+04</td>\n",
       "      <td>0.996694</td>\n",
       "    </tr>\n",
       "    <tr>\n",
       "      <th>5</th>\n",
       "      <td>q</td>\n",
       "      <td>4.618240e+04</td>\n",
       "      <td>0.998741</td>\n",
       "    </tr>\n",
       "    <tr>\n",
       "      <th>6</th>\n",
       "      <td>Z</td>\n",
       "      <td>2.479515e+04</td>\n",
       "      <td>0.999841</td>\n",
       "    </tr>\n",
       "    <tr>\n",
       "      <th>7</th>\n",
       "      <td>s</td>\n",
       "      <td>3.573290e+03</td>\n",
       "      <td>0.999999</td>\n",
       "    </tr>\n",
       "    <tr>\n",
       "      <th>8</th>\n",
       "      <td>h</td>\n",
       "      <td>2.150000e+01</td>\n",
       "      <td>1.000000</td>\n",
       "    </tr>\n",
       "  </tbody>\n",
       "</table>\n",
       "</div>"
      ],
      "text/plain": [
       "  DISCOUNT_TYPE    ITEM_SPEND  cum_percent\n",
       "0             n  1.468634e+07     0.651152\n",
       "1             p  5.355779e+06     0.888613\n",
       "2             m  2.155000e+06     0.984160\n",
       "3             v  1.910762e+05     0.992632\n",
       "4             x  9.161940e+04     0.996694\n",
       "5             q  4.618240e+04     0.998741\n",
       "6             Z  2.479515e+04     0.999841\n",
       "7             s  3.573290e+03     0.999999\n",
       "8             h  2.150000e+01     1.000000"
      ]
     },
     "execution_count": 29,
     "metadata": {},
     "output_type": "execute_result"
    }
   ],
   "source": [
    "discount_category=df_item.groupby(['DISCOUNT_TYPE']).sum()[['ITEM_SPEND']]\n",
    "discount_category.sort_values('ITEM_SPEND',ascending=False,inplace=True)\n",
    "discount_category['cum_percent']=discount_category['ITEM_SPEND'].cumsum()/discount_category['ITEM_SPEND'].sum()\n",
    "discount_category.reset_index()"
   ]
  },
  {
   "cell_type": "code",
   "execution_count": 30,
   "metadata": {},
   "outputs": [
    {
     "data": {
      "text/plain": [
       "<matplotlib.axes._subplots.AxesSubplot at 0x1a22fb0f28>"
      ]
     },
     "execution_count": 30,
     "metadata": {},
     "output_type": "execute_result"
    },
    {
     "data": {
      "image/png": "[encoded data removed]",
      "text/plain": [
       "<Figure size 432x288 with 1 Axes>"
      ]
     },
     "metadata": {
      "needs_background": "light"
     },
     "output_type": "display_data"
    }
   ],
   "source": [
    "discount_category['cum_percent'].plot(color='purple')"
   ]
  }
 ],
 "metadata": {
  "kernelspec": {
   "display_name": "Python 3",
   "language": "python",
   "name": "python3"
  },
  "language_info": {
   "codemirror_mode": {
    "name": "ipython",
    "version": 3
   },
   "file_extension": ".py",
   "mimetype": "text/x-python",
   "name": "python",
   "nbconvert_exporter": "python",
   "pygments_lexer": "ipython3",
   "version": "3.7.3"
  }
 },
 "nbformat": 4,
 "nbformat_minor": 4
}
