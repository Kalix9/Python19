{
 "cells": [
  {
   "cell_type": "markdown",
   "metadata": {},
   "source": [
    "#                                          超市零售商品数据分析"
   ]
  },
  {
   "cell_type": "markdown",
   "metadata": {},
   "source": [
    "李云溪 22019207060"
   ]
  },
  {
   "cell_type": "markdown",
   "metadata": {},
   "source": [
    "## 1.背景与需求"
   ]
  },
  {
   "cell_type": "markdown",
   "metadata": {},
   "source": [
    "本文主要对一家超市2018年6月1日到2018年7月5日商品的销售数据进行销售情况分析、商品情况分析和用户情况分析，并给出提升销量的建议。<br/>\n",
    "其中销售情况分析包括销售额、销量、和市场布局等情况分析；<br/>\n",
    "商品情况分析包括优势商品等情况分析；<br/>\n",
    "用户情况分析包括客户数量、新老客户、客单价、RFM模型、复购率和回购率等情况分析。"
   ]
  },
  {
   "cell_type": "markdown",
   "metadata": {},
   "source": [
    "## 2.数据预处理"
   ]
  },
  {
   "cell_type": "markdown",
   "metadata": {},
   "source": [
    "### 2.1导入所需要的模块"
   ]
  },
  {
   "cell_type": "code",
   "execution_count": 1,
   "metadata": {},
   "outputs": [],
   "source": [
    "import numpy as np\n",
    "import pandas as pd\n",
    "import matplotlib.pyplot as plt\n",
    "import matplotlib as mpl\n"
   ]
  },
  {
   "cell_type": "markdown",
   "metadata": {},
   "source": [
    "### 2.2导入数据并进行数据清洗"
   ]
  },
  {
   "cell_type": "markdown",
   "metadata": {},
   "source": [
    "### 2.2.1导入market数据并进行数据清洗"
   ]
  },
  {
   "cell_type": "code",
   "execution_count": 2,
   "metadata": {},
   "outputs": [],
   "source": [
    "basket=pd.read_csv(\"Basket-2018-06-01-2018-07-05.csv\")#导入数据\n",
    "basket.isnull()#查看所有缺失值\n",
    "basket2=basket.dropna()#删除缺失值"
   ]
  },
  {
   "cell_type": "code",
   "execution_count": 3,
   "metadata": {
    "scrolled": true
   },
   "outputs": [
    {
     "data": {
      "text/html": [
       "<div>\n",
       "<style scoped>\n",
       "    .dataframe tbody tr th:only-of-type {\n",
       "        vertical-align: middle;\n",
       "    }\n",
       "\n",
       "    .dataframe tbody tr th {\n",
       "        vertical-align: top;\n",
       "    }\n",
       "\n",
       "    .dataframe thead th {\n",
       "        text-align: right;\n",
       "    }\n",
       "</style>\n",
       "<table border=\"1\" class=\"dataframe\">\n",
       "  <thead>\n",
       "    <tr style=\"text-align: right;\">\n",
       "      <th></th>\n",
       "      <th>POS_NO</th>\n",
       "      <th>BASK_CODE</th>\n",
       "      <th>BASK_SPEND</th>\n",
       "    </tr>\n",
       "  </thead>\n",
       "  <tbody>\n",
       "    <tr>\n",
       "      <th>count</th>\n",
       "      <td>571552.000000</td>\n",
       "      <td>571552.000000</td>\n",
       "      <td>571552.000000</td>\n",
       "    </tr>\n",
       "    <tr>\n",
       "      <th>mean</th>\n",
       "      <td>2.998429</td>\n",
       "      <td>167472.817102</td>\n",
       "      <td>38.973310</td>\n",
       "    </tr>\n",
       "    <tr>\n",
       "      <th>std</th>\n",
       "      <td>2.516065</td>\n",
       "      <td>87263.199857</td>\n",
       "      <td>209.038276</td>\n",
       "    </tr>\n",
       "    <tr>\n",
       "      <th>min</th>\n",
       "      <td>1.000000</td>\n",
       "      <td>961.000000</td>\n",
       "      <td>-35940.000000</td>\n",
       "    </tr>\n",
       "    <tr>\n",
       "      <th>25%</th>\n",
       "      <td>1.000000</td>\n",
       "      <td>90533.750000</td>\n",
       "      <td>9.000000</td>\n",
       "    </tr>\n",
       "    <tr>\n",
       "      <th>50%</th>\n",
       "      <td>2.000000</td>\n",
       "      <td>177603.500000</td>\n",
       "      <td>19.900000</td>\n",
       "    </tr>\n",
       "    <tr>\n",
       "      <th>75%</th>\n",
       "      <td>3.000000</td>\n",
       "      <td>238816.750000</td>\n",
       "      <td>44.700000</td>\n",
       "    </tr>\n",
       "    <tr>\n",
       "      <th>max</th>\n",
       "      <td>20.000000</td>\n",
       "      <td>323914.000000</td>\n",
       "      <td>79920.000000</td>\n",
       "    </tr>\n",
       "  </tbody>\n",
       "</table>\n",
       "</div>"
      ],
      "text/plain": [
       "              POS_NO      BASK_CODE     BASK_SPEND\n",
       "count  571552.000000  571552.000000  571552.000000\n",
       "mean        2.998429  167472.817102      38.973310\n",
       "std         2.516065   87263.199857     209.038276\n",
       "min         1.000000     961.000000  -35940.000000\n",
       "25%         1.000000   90533.750000       9.000000\n",
       "50%         2.000000  177603.500000      19.900000\n",
       "75%         3.000000  238816.750000      44.700000\n",
       "max        20.000000  323914.000000   79920.000000"
      ]
     },
     "execution_count": 3,
     "metadata": {},
     "output_type": "execute_result"
    }
   ],
   "source": [
    "#数据分布情况\n",
    "basket2.describe()"
   ]
  },
  {
   "cell_type": "markdown",
   "metadata": {},
   "source": [
    "由数据分布情况表可以看出BASK_SPEND字段存在负值，需要对数据进行清洗，剔除异常数据。"
   ]
  },
  {
   "cell_type": "code",
   "execution_count": 4,
   "metadata": {
    "scrolled": true
   },
   "outputs": [],
   "source": [
    "basket2=basket2[basket2['BASK_SPEND']>0]  #剔除basket中bask_spend列小于0的行"
   ]
  },
  {
   "cell_type": "code",
   "execution_count": 5,
   "metadata": {},
   "outputs": [
    {
     "data": {
      "text/html": [
       "<div>\n",
       "<style scoped>\n",
       "    .dataframe tbody tr th:only-of-type {\n",
       "        vertical-align: middle;\n",
       "    }\n",
       "\n",
       "    .dataframe tbody tr th {\n",
       "        vertical-align: top;\n",
       "    }\n",
       "\n",
       "    .dataframe thead th {\n",
       "        text-align: right;\n",
       "    }\n",
       "</style>\n",
       "<table border=\"1\" class=\"dataframe\">\n",
       "  <thead>\n",
       "    <tr style=\"text-align: right;\">\n",
       "      <th></th>\n",
       "      <th>POS_NO</th>\n",
       "      <th>BASK_CODE</th>\n",
       "      <th>BASK_SPEND</th>\n",
       "    </tr>\n",
       "  </thead>\n",
       "  <tbody>\n",
       "    <tr>\n",
       "      <th>count</th>\n",
       "      <td>569797.000000</td>\n",
       "      <td>569797.000000</td>\n",
       "      <td>569797.000000</td>\n",
       "    </tr>\n",
       "    <tr>\n",
       "      <th>mean</th>\n",
       "      <td>2.994330</td>\n",
       "      <td>167572.136898</td>\n",
       "      <td>39.583197</td>\n",
       "    </tr>\n",
       "    <tr>\n",
       "      <th>std</th>\n",
       "      <td>2.502507</td>\n",
       "      <td>87224.915886</td>\n",
       "      <td>196.158166</td>\n",
       "    </tr>\n",
       "    <tr>\n",
       "      <th>min</th>\n",
       "      <td>1.000000</td>\n",
       "      <td>961.000000</td>\n",
       "      <td>0.010000</td>\n",
       "    </tr>\n",
       "    <tr>\n",
       "      <th>25%</th>\n",
       "      <td>1.000000</td>\n",
       "      <td>90673.000000</td>\n",
       "      <td>9.000000</td>\n",
       "    </tr>\n",
       "    <tr>\n",
       "      <th>50%</th>\n",
       "      <td>2.000000</td>\n",
       "      <td>177692.000000</td>\n",
       "      <td>20.000000</td>\n",
       "    </tr>\n",
       "    <tr>\n",
       "      <th>75%</th>\n",
       "      <td>3.000000</td>\n",
       "      <td>238933.000000</td>\n",
       "      <td>44.800000</td>\n",
       "    </tr>\n",
       "    <tr>\n",
       "      <th>max</th>\n",
       "      <td>20.000000</td>\n",
       "      <td>323914.000000</td>\n",
       "      <td>79920.000000</td>\n",
       "    </tr>\n",
       "  </tbody>\n",
       "</table>\n",
       "</div>"
      ],
      "text/plain": [
       "              POS_NO      BASK_CODE     BASK_SPEND\n",
       "count  569797.000000  569797.000000  569797.000000\n",
       "mean        2.994330  167572.136898      39.583197\n",
       "std         2.502507   87224.915886     196.158166\n",
       "min         1.000000     961.000000       0.010000\n",
       "25%         1.000000   90673.000000       9.000000\n",
       "50%         2.000000  177692.000000      20.000000\n",
       "75%         3.000000  238933.000000      44.800000\n",
       "max        20.000000  323914.000000   79920.000000"
      ]
     },
     "execution_count": 5,
     "metadata": {},
     "output_type": "execute_result"
    }
   ],
   "source": [
    "basket2.describe()"
   ]
  },
  {
   "cell_type": "markdown",
   "metadata": {},
   "source": [
    "剔除异常值后的数据分布正常，并由数据分布情况可以分析出：<br/>\n",
    "1.各门店2018年6月1日到2018年7月5日期间最小订单的金额为0.01元。<br/>\n",
    "2.各门店2018年6月1日到2018年7月5日期间最大订单的金额为79920元。<br/>\n",
    "3.所有门店2018年6月1日到2018年7月5日所有订单的品骏订单金额为39.58元。<br/>"
   ]
  },
  {
   "cell_type": "markdown",
   "metadata": {},
   "source": [
    "将下单日期改为datetime类型，并为了后续分析新增年份列月分列以及日期列"
   ]
  },
  {
   "cell_type": "code",
   "execution_count": 6,
   "metadata": {},
   "outputs": [],
   "source": [
    "basket2[\"SHOP_DATETIME\"] = pd.to_datetime(basket2[\"SHOP_DATETIME\"])#将下单日期改为datetime类型\n",
    "basket2['year'] = basket2[\"SHOP_DATETIME\"].dt.year\n",
    "basket2['month'] = basket2['SHOP_DATETIME'].dt.month\n",
    "basket2['day']= basket2['SHOP_DATETIME'].values.astype('datetime64[D]')"
   ]
  },
  {
   "cell_type": "code",
   "execution_count": 7,
   "metadata": {},
   "outputs": [
    {
     "data": {
      "text/html": [
       "<div>\n",
       "<style scoped>\n",
       "    .dataframe tbody tr th:only-of-type {\n",
       "        vertical-align: middle;\n",
       "    }\n",
       "\n",
       "    .dataframe tbody tr th {\n",
       "        vertical-align: top;\n",
       "    }\n",
       "\n",
       "    .dataframe thead th {\n",
       "        text-align: right;\n",
       "    }\n",
       "</style>\n",
       "<table border=\"1\" class=\"dataframe\">\n",
       "  <thead>\n",
       "    <tr style=\"text-align: right;\">\n",
       "      <th></th>\n",
       "      <th>SHOP_DATETIME</th>\n",
       "      <th>STORE_CODE</th>\n",
       "      <th>POS_NO</th>\n",
       "      <th>BASK_CODE</th>\n",
       "      <th>BASK_SPEND</th>\n",
       "      <th>year</th>\n",
       "      <th>month</th>\n",
       "      <th>day</th>\n",
       "    </tr>\n",
       "  </thead>\n",
       "  <tbody>\n",
       "    <tr>\n",
       "      <th>0</th>\n",
       "      <td>2018-06-01</td>\n",
       "      <td>D007</td>\n",
       "      <td>3</td>\n",
       "      <td>250458</td>\n",
       "      <td>8.00</td>\n",
       "      <td>2018</td>\n",
       "      <td>6</td>\n",
       "      <td>2018-06-01</td>\n",
       "    </tr>\n",
       "    <tr>\n",
       "      <th>1</th>\n",
       "      <td>2018-06-01</td>\n",
       "      <td>D007</td>\n",
       "      <td>3</td>\n",
       "      <td>250200</td>\n",
       "      <td>32.70</td>\n",
       "      <td>2018</td>\n",
       "      <td>6</td>\n",
       "      <td>2018-06-01</td>\n",
       "    </tr>\n",
       "    <tr>\n",
       "      <th>2</th>\n",
       "      <td>2018-06-01</td>\n",
       "      <td>D007</td>\n",
       "      <td>1</td>\n",
       "      <td>161068</td>\n",
       "      <td>16.80</td>\n",
       "      <td>2018</td>\n",
       "      <td>6</td>\n",
       "      <td>2018-06-01</td>\n",
       "    </tr>\n",
       "    <tr>\n",
       "      <th>3</th>\n",
       "      <td>2018-06-01</td>\n",
       "      <td>D007</td>\n",
       "      <td>8</td>\n",
       "      <td>5325</td>\n",
       "      <td>30.40</td>\n",
       "      <td>2018</td>\n",
       "      <td>6</td>\n",
       "      <td>2018-06-01</td>\n",
       "    </tr>\n",
       "    <tr>\n",
       "      <th>4</th>\n",
       "      <td>2018-06-01</td>\n",
       "      <td>D007</td>\n",
       "      <td>8</td>\n",
       "      <td>5361</td>\n",
       "      <td>191.30</td>\n",
       "      <td>2018</td>\n",
       "      <td>6</td>\n",
       "      <td>2018-06-01</td>\n",
       "    </tr>\n",
       "    <tr>\n",
       "      <th>...</th>\n",
       "      <td>...</td>\n",
       "      <td>...</td>\n",
       "      <td>...</td>\n",
       "      <td>...</td>\n",
       "      <td>...</td>\n",
       "      <td>...</td>\n",
       "      <td>...</td>\n",
       "      <td>...</td>\n",
       "    </tr>\n",
       "    <tr>\n",
       "      <th>571547</th>\n",
       "      <td>2018-07-05</td>\n",
       "      <td>A010</td>\n",
       "      <td>2</td>\n",
       "      <td>284211</td>\n",
       "      <td>34.71</td>\n",
       "      <td>2018</td>\n",
       "      <td>7</td>\n",
       "      <td>2018-07-05</td>\n",
       "    </tr>\n",
       "    <tr>\n",
       "      <th>571548</th>\n",
       "      <td>2018-07-05</td>\n",
       "      <td>A010</td>\n",
       "      <td>2</td>\n",
       "      <td>284601</td>\n",
       "      <td>44.80</td>\n",
       "      <td>2018</td>\n",
       "      <td>7</td>\n",
       "      <td>2018-07-05</td>\n",
       "    </tr>\n",
       "    <tr>\n",
       "      <th>571549</th>\n",
       "      <td>2018-07-05</td>\n",
       "      <td>A010</td>\n",
       "      <td>2</td>\n",
       "      <td>284241</td>\n",
       "      <td>6.50</td>\n",
       "      <td>2018</td>\n",
       "      <td>7</td>\n",
       "      <td>2018-07-05</td>\n",
       "    </tr>\n",
       "    <tr>\n",
       "      <th>571550</th>\n",
       "      <td>2018-07-05</td>\n",
       "      <td>A010</td>\n",
       "      <td>2</td>\n",
       "      <td>284352</td>\n",
       "      <td>15.90</td>\n",
       "      <td>2018</td>\n",
       "      <td>7</td>\n",
       "      <td>2018-07-05</td>\n",
       "    </tr>\n",
       "    <tr>\n",
       "      <th>571551</th>\n",
       "      <td>2018-07-05</td>\n",
       "      <td>A010</td>\n",
       "      <td>2</td>\n",
       "      <td>284265</td>\n",
       "      <td>43.20</td>\n",
       "      <td>2018</td>\n",
       "      <td>7</td>\n",
       "      <td>2018-07-05</td>\n",
       "    </tr>\n",
       "  </tbody>\n",
       "</table>\n",
       "<p>569797 rows × 8 columns</p>\n",
       "</div>"
      ],
      "text/plain": [
       "       SHOP_DATETIME STORE_CODE  POS_NO  BASK_CODE  BASK_SPEND  year  month  \\\n",
       "0         2018-06-01       D007       3     250458        8.00  2018      6   \n",
       "1         2018-06-01       D007       3     250200       32.70  2018      6   \n",
       "2         2018-06-01       D007       1     161068       16.80  2018      6   \n",
       "3         2018-06-01       D007       8       5325       30.40  2018      6   \n",
       "4         2018-06-01       D007       8       5361      191.30  2018      6   \n",
       "...              ...        ...     ...        ...         ...   ...    ...   \n",
       "571547    2018-07-05       A010       2     284211       34.71  2018      7   \n",
       "571548    2018-07-05       A010       2     284601       44.80  2018      7   \n",
       "571549    2018-07-05       A010       2     284241        6.50  2018      7   \n",
       "571550    2018-07-05       A010       2     284352       15.90  2018      7   \n",
       "571551    2018-07-05       A010       2     284265       43.20  2018      7   \n",
       "\n",
       "              day  \n",
       "0      2018-06-01  \n",
       "1      2018-06-01  \n",
       "2      2018-06-01  \n",
       "3      2018-06-01  \n",
       "4      2018-06-01  \n",
       "...           ...  \n",
       "571547 2018-07-05  \n",
       "571548 2018-07-05  \n",
       "571549 2018-07-05  \n",
       "571550 2018-07-05  \n",
       "571551 2018-07-05  \n",
       "\n",
       "[569797 rows x 8 columns]"
      ]
     },
     "execution_count": 7,
     "metadata": {},
     "output_type": "execute_result"
    }
   ],
   "source": [
    "basket2"
   ]
  },
  {
   "cell_type": "markdown",
   "metadata": {},
   "source": [
    "### 2.2.2导入iterm数据并进行数据清洗"
   ]
  },
  {
   "cell_type": "markdown",
   "metadata": {},
   "source": [
    "导入数据，并将下单日期改为datetime类型，并查看是否有缺失值"
   ]
  },
  {
   "cell_type": "code",
   "execution_count": 8,
   "metadata": {},
   "outputs": [
    {
     "data": {
      "text/plain": [
       "SDATE              False\n",
       "STORE_CODE         False\n",
       "POSID              False\n",
       "BASK_CODE          False\n",
       "PROD_CODE          False\n",
       "ITEM_QUANTITY      False\n",
       "ITEM_SPEND         False\n",
       "NORMAL_PRICE       False\n",
       "DISCOUNT_TYPE      False\n",
       "DISCOUNT_AMOUNT    False\n",
       "dtype: bool"
      ]
     },
     "execution_count": 8,
     "metadata": {},
     "output_type": "execute_result"
    }
   ],
   "source": [
    "item=pd.read_csv(\"item.csv\")\n",
    "item['SDATE']=pd.to_datetime(item['SDATE'])\n",
    "item.isnull().any()#查看所有缺失值"
   ]
  },
  {
   "cell_type": "code",
   "execution_count": 9,
   "metadata": {},
   "outputs": [
    {
     "data": {
      "text/html": [
       "<div>\n",
       "<style scoped>\n",
       "    .dataframe tbody tr th:only-of-type {\n",
       "        vertical-align: middle;\n",
       "    }\n",
       "\n",
       "    .dataframe tbody tr th {\n",
       "        vertical-align: top;\n",
       "    }\n",
       "\n",
       "    .dataframe thead th {\n",
       "        text-align: right;\n",
       "    }\n",
       "</style>\n",
       "<table border=\"1\" class=\"dataframe\">\n",
       "  <thead>\n",
       "    <tr style=\"text-align: right;\">\n",
       "      <th></th>\n",
       "      <th>POSID</th>\n",
       "      <th>BASK_CODE</th>\n",
       "      <th>PROD_CODE</th>\n",
       "      <th>ITEM_QUANTITY</th>\n",
       "      <th>ITEM_SPEND</th>\n",
       "      <th>NORMAL_PRICE</th>\n",
       "      <th>DISCOUNT_AMOUNT</th>\n",
       "    </tr>\n",
       "  </thead>\n",
       "  <tbody>\n",
       "    <tr>\n",
       "      <th>count</th>\n",
       "      <td>1.732761e+06</td>\n",
       "      <td>1.732761e+06</td>\n",
       "      <td>1.732761e+06</td>\n",
       "      <td>1.732761e+06</td>\n",
       "      <td>1.732761e+06</td>\n",
       "      <td>1.732761e+06</td>\n",
       "      <td>1.732761e+06</td>\n",
       "    </tr>\n",
       "    <tr>\n",
       "      <th>mean</th>\n",
       "      <td>2.994959e+00</td>\n",
       "      <td>1.659824e+05</td>\n",
       "      <td>1.144861e+05</td>\n",
       "      <td>1.436702e+00</td>\n",
       "      <td>1.285536e+01</td>\n",
       "      <td>1.424412e+01</td>\n",
       "      <td>-1.624232e+00</td>\n",
       "    </tr>\n",
       "    <tr>\n",
       "      <th>std</th>\n",
       "      <td>2.470286e+00</td>\n",
       "      <td>8.583102e+04</td>\n",
       "      <td>8.161988e+04</td>\n",
       "      <td>7.015504e+00</td>\n",
       "      <td>1.022148e+02</td>\n",
       "      <td>2.403937e+01</td>\n",
       "      <td>5.160490e+01</td>\n",
       "    </tr>\n",
       "    <tr>\n",
       "      <th>min</th>\n",
       "      <td>1.000000e+00</td>\n",
       "      <td>9.610000e+02</td>\n",
       "      <td>1.900000e+01</td>\n",
       "      <td>-6.000000e+02</td>\n",
       "      <td>-3.594000e+04</td>\n",
       "      <td>5.000000e-01</td>\n",
       "      <td>-5.760000e+04</td>\n",
       "    </tr>\n",
       "    <tr>\n",
       "      <th>25%</th>\n",
       "      <td>1.000000e+00</td>\n",
       "      <td>8.995200e+04</td>\n",
       "      <td>2.183500e+04</td>\n",
       "      <td>1.000000e+00</td>\n",
       "      <td>3.800000e+00</td>\n",
       "      <td>3.800000e+00</td>\n",
       "      <td>-1.000000e+00</td>\n",
       "    </tr>\n",
       "    <tr>\n",
       "      <th>50%</th>\n",
       "      <td>2.000000e+00</td>\n",
       "      <td>1.758280e+05</td>\n",
       "      <td>1.233210e+05</td>\n",
       "      <td>1.000000e+00</td>\n",
       "      <td>7.000000e+00</td>\n",
       "      <td>7.800000e+00</td>\n",
       "      <td>0.000000e+00</td>\n",
       "    </tr>\n",
       "    <tr>\n",
       "      <th>75%</th>\n",
       "      <td>3.000000e+00</td>\n",
       "      <td>2.229530e+05</td>\n",
       "      <td>1.959930e+05</td>\n",
       "      <td>1.000000e+00</td>\n",
       "      <td>1.200000e+01</td>\n",
       "      <td>1.500000e+01</td>\n",
       "      <td>0.000000e+00</td>\n",
       "    </tr>\n",
       "    <tr>\n",
       "      <th>max</th>\n",
       "      <td>2.000000e+01</td>\n",
       "      <td>3.239140e+05</td>\n",
       "      <td>2.250470e+05</td>\n",
       "      <td>4.020000e+03</td>\n",
       "      <td>6.912000e+04</td>\n",
       "      <td>1.980000e+03</td>\n",
       "      <td>9.300000e+02</td>\n",
       "    </tr>\n",
       "  </tbody>\n",
       "</table>\n",
       "</div>"
      ],
      "text/plain": [
       "              POSID     BASK_CODE     PROD_CODE  ITEM_QUANTITY    ITEM_SPEND  \\\n",
       "count  1.732761e+06  1.732761e+06  1.732761e+06   1.732761e+06  1.732761e+06   \n",
       "mean   2.994959e+00  1.659824e+05  1.144861e+05   1.436702e+00  1.285536e+01   \n",
       "std    2.470286e+00  8.583102e+04  8.161988e+04   7.015504e+00  1.022148e+02   \n",
       "min    1.000000e+00  9.610000e+02  1.900000e+01  -6.000000e+02 -3.594000e+04   \n",
       "25%    1.000000e+00  8.995200e+04  2.183500e+04   1.000000e+00  3.800000e+00   \n",
       "50%    2.000000e+00  1.758280e+05  1.233210e+05   1.000000e+00  7.000000e+00   \n",
       "75%    3.000000e+00  2.229530e+05  1.959930e+05   1.000000e+00  1.200000e+01   \n",
       "max    2.000000e+01  3.239140e+05  2.250470e+05   4.020000e+03  6.912000e+04   \n",
       "\n",
       "       NORMAL_PRICE  DISCOUNT_AMOUNT  \n",
       "count  1.732761e+06     1.732761e+06  \n",
       "mean   1.424412e+01    -1.624232e+00  \n",
       "std    2.403937e+01     5.160490e+01  \n",
       "min    5.000000e-01    -5.760000e+04  \n",
       "25%    3.800000e+00    -1.000000e+00  \n",
       "50%    7.800000e+00     0.000000e+00  \n",
       "75%    1.500000e+01     0.000000e+00  \n",
       "max    1.980000e+03     9.300000e+02  "
      ]
     },
     "execution_count": 9,
     "metadata": {},
     "output_type": "execute_result"
    }
   ],
   "source": [
    "item.describe()#查看数据分布情况"
   ]
  },
  {
   "cell_type": "markdown",
   "metadata": {},
   "source": [
    "从数据分布情况表可以看出：<br/>\n",
    "1.ITEM_SPEND字段有负值，即商品实付金额为负，存在异常值；<br/>\n",
    "2.ITEM_QUANTITY字段有负值，即商品数量为负，存在异常值；<br/>\n",
    "3.DISCOUNT_AMOUTN字段数据有正值，即折扣后金额比折扣前金额高，存在异常值。"
   ]
  },
  {
   "cell_type": "markdown",
   "metadata": {},
   "source": [
    "剔除异常值"
   ]
  },
  {
   "cell_type": "code",
   "execution_count": 10,
   "metadata": {},
   "outputs": [
    {
     "data": {
      "text/html": [
       "<div>\n",
       "<style scoped>\n",
       "    .dataframe tbody tr th:only-of-type {\n",
       "        vertical-align: middle;\n",
       "    }\n",
       "\n",
       "    .dataframe tbody tr th {\n",
       "        vertical-align: top;\n",
       "    }\n",
       "\n",
       "    .dataframe thead th {\n",
       "        text-align: right;\n",
       "    }\n",
       "</style>\n",
       "<table border=\"1\" class=\"dataframe\">\n",
       "  <thead>\n",
       "    <tr style=\"text-align: right;\">\n",
       "      <th></th>\n",
       "      <th>SDATE</th>\n",
       "      <th>STORE_CODE</th>\n",
       "      <th>POSID</th>\n",
       "      <th>BASK_CODE</th>\n",
       "      <th>PROD_CODE</th>\n",
       "      <th>ITEM_QUANTITY</th>\n",
       "      <th>ITEM_SPEND</th>\n",
       "      <th>NORMAL_PRICE</th>\n",
       "      <th>DISCOUNT_TYPE</th>\n",
       "      <th>DISCOUNT_AMOUNT</th>\n",
       "    </tr>\n",
       "  </thead>\n",
       "  <tbody>\n",
       "    <tr>\n",
       "      <th>0</th>\n",
       "      <td>2018-06-01</td>\n",
       "      <td>D007</td>\n",
       "      <td>3</td>\n",
       "      <td>250451</td>\n",
       "      <td>29405</td>\n",
       "      <td>1.000</td>\n",
       "      <td>1.70</td>\n",
       "      <td>2.0</td>\n",
       "      <td>m</td>\n",
       "      <td>-0.3</td>\n",
       "    </tr>\n",
       "    <tr>\n",
       "      <th>1</th>\n",
       "      <td>2018-06-01</td>\n",
       "      <td>D007</td>\n",
       "      <td>3</td>\n",
       "      <td>250451</td>\n",
       "      <td>13187</td>\n",
       "      <td>1.000</td>\n",
       "      <td>1.00</td>\n",
       "      <td>1.0</td>\n",
       "      <td>n</td>\n",
       "      <td>0.0</td>\n",
       "    </tr>\n",
       "    <tr>\n",
       "      <th>2</th>\n",
       "      <td>2018-06-01</td>\n",
       "      <td>D007</td>\n",
       "      <td>3</td>\n",
       "      <td>250243</td>\n",
       "      <td>196249</td>\n",
       "      <td>1.000</td>\n",
       "      <td>99.00</td>\n",
       "      <td>99.0</td>\n",
       "      <td>m</td>\n",
       "      <td>0.0</td>\n",
       "    </tr>\n",
       "    <tr>\n",
       "      <th>3</th>\n",
       "      <td>2018-06-01</td>\n",
       "      <td>D007</td>\n",
       "      <td>3</td>\n",
       "      <td>250243</td>\n",
       "      <td>199637</td>\n",
       "      <td>1.000</td>\n",
       "      <td>9.90</td>\n",
       "      <td>16.8</td>\n",
       "      <td>p</td>\n",
       "      <td>-6.9</td>\n",
       "    </tr>\n",
       "    <tr>\n",
       "      <th>4</th>\n",
       "      <td>2018-06-01</td>\n",
       "      <td>D007</td>\n",
       "      <td>1</td>\n",
       "      <td>160905</td>\n",
       "      <td>195012</td>\n",
       "      <td>3.222</td>\n",
       "      <td>18.69</td>\n",
       "      <td>5.8</td>\n",
       "      <td>n</td>\n",
       "      <td>0.0</td>\n",
       "    </tr>\n",
       "    <tr>\n",
       "      <th>...</th>\n",
       "      <td>...</td>\n",
       "      <td>...</td>\n",
       "      <td>...</td>\n",
       "      <td>...</td>\n",
       "      <td>...</td>\n",
       "      <td>...</td>\n",
       "      <td>...</td>\n",
       "      <td>...</td>\n",
       "      <td>...</td>\n",
       "      <td>...</td>\n",
       "    </tr>\n",
       "    <tr>\n",
       "      <th>1732756</th>\n",
       "      <td>2018-07-05</td>\n",
       "      <td>A010</td>\n",
       "      <td>2</td>\n",
       "      <td>284254</td>\n",
       "      <td>144474</td>\n",
       "      <td>0.470</td>\n",
       "      <td>26.32</td>\n",
       "      <td>56.0</td>\n",
       "      <td>n</td>\n",
       "      <td>0.0</td>\n",
       "    </tr>\n",
       "    <tr>\n",
       "      <th>1732757</th>\n",
       "      <td>2018-07-05</td>\n",
       "      <td>A010</td>\n",
       "      <td>2</td>\n",
       "      <td>284265</td>\n",
       "      <td>2243</td>\n",
       "      <td>24.000</td>\n",
       "      <td>43.20</td>\n",
       "      <td>1.8</td>\n",
       "      <td>n</td>\n",
       "      <td>0.0</td>\n",
       "    </tr>\n",
       "    <tr>\n",
       "      <th>1732758</th>\n",
       "      <td>2018-07-05</td>\n",
       "      <td>A010</td>\n",
       "      <td>2</td>\n",
       "      <td>284406</td>\n",
       "      <td>216571</td>\n",
       "      <td>1.000</td>\n",
       "      <td>14.50</td>\n",
       "      <td>14.5</td>\n",
       "      <td>n</td>\n",
       "      <td>0.0</td>\n",
       "    </tr>\n",
       "    <tr>\n",
       "      <th>1732759</th>\n",
       "      <td>2018-07-05</td>\n",
       "      <td>A010</td>\n",
       "      <td>2</td>\n",
       "      <td>284266</td>\n",
       "      <td>223768</td>\n",
       "      <td>1.000</td>\n",
       "      <td>2.50</td>\n",
       "      <td>3.0</td>\n",
       "      <td>m</td>\n",
       "      <td>-0.5</td>\n",
       "    </tr>\n",
       "    <tr>\n",
       "      <th>1732760</th>\n",
       "      <td>2018-07-05</td>\n",
       "      <td>A010</td>\n",
       "      <td>2</td>\n",
       "      <td>284263</td>\n",
       "      <td>205100</td>\n",
       "      <td>1.000</td>\n",
       "      <td>6.80</td>\n",
       "      <td>6.8</td>\n",
       "      <td>n</td>\n",
       "      <td>0.0</td>\n",
       "    </tr>\n",
       "  </tbody>\n",
       "</table>\n",
       "<p>1730083 rows × 10 columns</p>\n",
       "</div>"
      ],
      "text/plain": [
       "             SDATE STORE_CODE  POSID  BASK_CODE  PROD_CODE  ITEM_QUANTITY  \\\n",
       "0       2018-06-01       D007      3     250451      29405          1.000   \n",
       "1       2018-06-01       D007      3     250451      13187          1.000   \n",
       "2       2018-06-01       D007      3     250243     196249          1.000   \n",
       "3       2018-06-01       D007      3     250243     199637          1.000   \n",
       "4       2018-06-01       D007      1     160905     195012          3.222   \n",
       "...            ...        ...    ...        ...        ...            ...   \n",
       "1732756 2018-07-05       A010      2     284254     144474          0.470   \n",
       "1732757 2018-07-05       A010      2     284265       2243         24.000   \n",
       "1732758 2018-07-05       A010      2     284406     216571          1.000   \n",
       "1732759 2018-07-05       A010      2     284266     223768          1.000   \n",
       "1732760 2018-07-05       A010      2     284263     205100          1.000   \n",
       "\n",
       "         ITEM_SPEND  NORMAL_PRICE DISCOUNT_TYPE  DISCOUNT_AMOUNT  \n",
       "0              1.70           2.0             m             -0.3  \n",
       "1              1.00           1.0             n              0.0  \n",
       "2             99.00          99.0             m              0.0  \n",
       "3              9.90          16.8             p             -6.9  \n",
       "4             18.69           5.8             n              0.0  \n",
       "...             ...           ...           ...              ...  \n",
       "1732756       26.32          56.0             n              0.0  \n",
       "1732757       43.20           1.8             n              0.0  \n",
       "1732758       14.50          14.5             n              0.0  \n",
       "1732759        2.50           3.0             m             -0.5  \n",
       "1732760        6.80           6.8             n              0.0  \n",
       "\n",
       "[1730083 rows x 10 columns]"
      ]
     },
     "execution_count": 10,
     "metadata": {},
     "output_type": "execute_result"
    }
   ],
   "source": [
    "item1=item[item['ITEM_SPEND']>0] #剔除item中ITEM_SPEND列小于0的行\n",
    "item1=item1[item1['ITEM_QUANTITY']>0]#剔除item中ITEM_QUANTITY列小于0的行\n",
    "item1=item1[item1['DISCOUNT_AMOUNT']<=0]#剔除item中DISCOUNT_AMOUNT列大于0的行\n",
    "item1"
   ]
  },
  {
   "cell_type": "code",
   "execution_count": 11,
   "metadata": {},
   "outputs": [
    {
     "data": {
      "text/plain": [
       "212634"
      ]
     },
     "execution_count": 11,
     "metadata": {},
     "output_type": "execute_result"
    }
   ],
   "source": [
    "item1.duplicated().sum()#查看是否有重复值"
   ]
  },
  {
   "cell_type": "code",
   "execution_count": 12,
   "metadata": {},
   "outputs": [
    {
     "data": {
      "text/html": [
       "<div>\n",
       "<style scoped>\n",
       "    .dataframe tbody tr th:only-of-type {\n",
       "        vertical-align: middle;\n",
       "    }\n",
       "\n",
       "    .dataframe tbody tr th {\n",
       "        vertical-align: top;\n",
       "    }\n",
       "\n",
       "    .dataframe thead th {\n",
       "        text-align: right;\n",
       "    }\n",
       "</style>\n",
       "<table border=\"1\" class=\"dataframe\">\n",
       "  <thead>\n",
       "    <tr style=\"text-align: right;\">\n",
       "      <th></th>\n",
       "      <th>SDATE</th>\n",
       "      <th>STORE_CODE</th>\n",
       "      <th>POSID</th>\n",
       "      <th>BASK_CODE</th>\n",
       "      <th>PROD_CODE</th>\n",
       "      <th>ITEM_QUANTITY</th>\n",
       "      <th>ITEM_SPEND</th>\n",
       "      <th>NORMAL_PRICE</th>\n",
       "      <th>DISCOUNT_TYPE</th>\n",
       "      <th>DISCOUNT_AMOUNT</th>\n",
       "    </tr>\n",
       "  </thead>\n",
       "  <tbody>\n",
       "    <tr>\n",
       "      <th>0</th>\n",
       "      <td>2018-06-01</td>\n",
       "      <td>D007</td>\n",
       "      <td>3</td>\n",
       "      <td>250451</td>\n",
       "      <td>29405</td>\n",
       "      <td>1.000</td>\n",
       "      <td>1.70</td>\n",
       "      <td>2.0</td>\n",
       "      <td>m</td>\n",
       "      <td>-0.3</td>\n",
       "    </tr>\n",
       "    <tr>\n",
       "      <th>1</th>\n",
       "      <td>2018-06-01</td>\n",
       "      <td>D007</td>\n",
       "      <td>3</td>\n",
       "      <td>250451</td>\n",
       "      <td>13187</td>\n",
       "      <td>1.000</td>\n",
       "      <td>1.00</td>\n",
       "      <td>1.0</td>\n",
       "      <td>n</td>\n",
       "      <td>0.0</td>\n",
       "    </tr>\n",
       "    <tr>\n",
       "      <th>2</th>\n",
       "      <td>2018-06-01</td>\n",
       "      <td>D007</td>\n",
       "      <td>3</td>\n",
       "      <td>250243</td>\n",
       "      <td>196249</td>\n",
       "      <td>1.000</td>\n",
       "      <td>99.00</td>\n",
       "      <td>99.0</td>\n",
       "      <td>m</td>\n",
       "      <td>0.0</td>\n",
       "    </tr>\n",
       "    <tr>\n",
       "      <th>3</th>\n",
       "      <td>2018-06-01</td>\n",
       "      <td>D007</td>\n",
       "      <td>3</td>\n",
       "      <td>250243</td>\n",
       "      <td>199637</td>\n",
       "      <td>1.000</td>\n",
       "      <td>9.90</td>\n",
       "      <td>16.8</td>\n",
       "      <td>p</td>\n",
       "      <td>-6.9</td>\n",
       "    </tr>\n",
       "    <tr>\n",
       "      <th>4</th>\n",
       "      <td>2018-06-01</td>\n",
       "      <td>D007</td>\n",
       "      <td>1</td>\n",
       "      <td>160905</td>\n",
       "      <td>195012</td>\n",
       "      <td>3.222</td>\n",
       "      <td>18.69</td>\n",
       "      <td>5.8</td>\n",
       "      <td>n</td>\n",
       "      <td>0.0</td>\n",
       "    </tr>\n",
       "  </tbody>\n",
       "</table>\n",
       "</div>"
      ],
      "text/plain": [
       "       SDATE STORE_CODE  POSID  BASK_CODE  PROD_CODE  ITEM_QUANTITY  \\\n",
       "0 2018-06-01       D007      3     250451      29405          1.000   \n",
       "1 2018-06-01       D007      3     250451      13187          1.000   \n",
       "2 2018-06-01       D007      3     250243     196249          1.000   \n",
       "3 2018-06-01       D007      3     250243     199637          1.000   \n",
       "4 2018-06-01       D007      1     160905     195012          3.222   \n",
       "\n",
       "   ITEM_SPEND  NORMAL_PRICE DISCOUNT_TYPE  DISCOUNT_AMOUNT  \n",
       "0        1.70           2.0             m             -0.3  \n",
       "1        1.00           1.0             n              0.0  \n",
       "2       99.00          99.0             m              0.0  \n",
       "3        9.90          16.8             p             -6.9  \n",
       "4       18.69           5.8             n              0.0  "
      ]
     },
     "execution_count": 12,
     "metadata": {},
     "output_type": "execute_result"
    }
   ],
   "source": [
    "item2 = item1.drop_duplicates(keep='first')#去掉重复行，并保留重复出现的行中第一次出现的行\n",
    "item2.head()"
   ]
  },
  {
   "cell_type": "markdown",
   "metadata": {},
   "source": [
    "# 3.销售额分析"
   ]
  },
  {
   "cell_type": "markdown",
   "metadata": {},
   "source": [
    "## 3.1每日销售额求和 "
   ]
  },
  {
   "cell_type": "code",
   "execution_count": 13,
   "metadata": {
    "scrolled": true
   },
   "outputs": [
    {
     "data": {
      "text/html": [
       "<style  type=\"text/css\" >\n",
       "    #T_253ab748_17a0_11eb_b16b_c809a88aba64row0_col0 {\n",
       "            background-color:  #c6cce3;\n",
       "            color:  #000000;\n",
       "        }    #T_253ab748_17a0_11eb_b16b_c809a88aba64row1_col0 {\n",
       "            background-color:  #c4cbe3;\n",
       "            color:  #000000;\n",
       "        }    #T_253ab748_17a0_11eb_b16b_c809a88aba64row2_col0 {\n",
       "            background-color:  #d1d2e6;\n",
       "            color:  #000000;\n",
       "        }    #T_253ab748_17a0_11eb_b16b_c809a88aba64row3_col0 {\n",
       "            background-color:  #eae6f1;\n",
       "            color:  #000000;\n",
       "        }    #T_253ab748_17a0_11eb_b16b_c809a88aba64row4_col0 {\n",
       "            background-color:  #d5d5e8;\n",
       "            color:  #000000;\n",
       "        }    #T_253ab748_17a0_11eb_b16b_c809a88aba64row5_col0 {\n",
       "            background-color:  #f3edf5;\n",
       "            color:  #000000;\n",
       "        }    #T_253ab748_17a0_11eb_b16b_c809a88aba64row6_col0 {\n",
       "            background-color:  #fcf4fa;\n",
       "            color:  #000000;\n",
       "        }    #T_253ab748_17a0_11eb_b16b_c809a88aba64row7_col0 {\n",
       "            background-color:  #e9e5f1;\n",
       "            color:  #000000;\n",
       "        }    #T_253ab748_17a0_11eb_b16b_c809a88aba64row8_col0 {\n",
       "            background-color:  #d2d2e7;\n",
       "            color:  #000000;\n",
       "        }    #T_253ab748_17a0_11eb_b16b_c809a88aba64row9_col0 {\n",
       "            background-color:  #cacee5;\n",
       "            color:  #000000;\n",
       "        }    #T_253ab748_17a0_11eb_b16b_c809a88aba64row10_col0 {\n",
       "            background-color:  #eee9f3;\n",
       "            color:  #000000;\n",
       "        }    #T_253ab748_17a0_11eb_b16b_c809a88aba64row11_col0 {\n",
       "            background-color:  #e7e3f0;\n",
       "            color:  #000000;\n",
       "        }    #T_253ab748_17a0_11eb_b16b_c809a88aba64row12_col0 {\n",
       "            background-color:  #c4cbe3;\n",
       "            color:  #000000;\n",
       "        }    #T_253ab748_17a0_11eb_b16b_c809a88aba64row13_col0 {\n",
       "            background-color:  #dfddec;\n",
       "            color:  #000000;\n",
       "        }    #T_253ab748_17a0_11eb_b16b_c809a88aba64row14_col0 {\n",
       "            background-color:  #b4c4df;\n",
       "            color:  #000000;\n",
       "        }    #T_253ab748_17a0_11eb_b16b_c809a88aba64row15_col0 {\n",
       "            background-color:  #1b7eb7;\n",
       "            color:  #000000;\n",
       "        }    #T_253ab748_17a0_11eb_b16b_c809a88aba64row16_col0 {\n",
       "            background-color:  #023858;\n",
       "            color:  #f1f1f1;\n",
       "        }    #T_253ab748_17a0_11eb_b16b_c809a88aba64row17_col0 {\n",
       "            background-color:  #056ba9;\n",
       "            color:  #f1f1f1;\n",
       "        }    #T_253ab748_17a0_11eb_b16b_c809a88aba64row18_col0 {\n",
       "            background-color:  #fff7fb;\n",
       "            color:  #000000;\n",
       "        }    #T_253ab748_17a0_11eb_b16b_c809a88aba64row19_col0 {\n",
       "            background-color:  #eee9f3;\n",
       "            color:  #000000;\n",
       "        }    #T_253ab748_17a0_11eb_b16b_c809a88aba64row20_col0 {\n",
       "            background-color:  #f3edf5;\n",
       "            color:  #000000;\n",
       "        }    #T_253ab748_17a0_11eb_b16b_c809a88aba64row21_col0 {\n",
       "            background-color:  #fff7fb;\n",
       "            color:  #000000;\n",
       "        }    #T_253ab748_17a0_11eb_b16b_c809a88aba64row22_col0 {\n",
       "            background-color:  #e6e2ef;\n",
       "            color:  #000000;\n",
       "        }    #T_253ab748_17a0_11eb_b16b_c809a88aba64row23_col0 {\n",
       "            background-color:  #efe9f3;\n",
       "            color:  #000000;\n",
       "        }    #T_253ab748_17a0_11eb_b16b_c809a88aba64row24_col0 {\n",
       "            background-color:  #f9f2f8;\n",
       "            color:  #000000;\n",
       "        }    #T_253ab748_17a0_11eb_b16b_c809a88aba64row25_col0 {\n",
       "            background-color:  #faf2f8;\n",
       "            color:  #000000;\n",
       "        }    #T_253ab748_17a0_11eb_b16b_c809a88aba64row26_col0 {\n",
       "            background-color:  #efe9f3;\n",
       "            color:  #000000;\n",
       "        }    #T_253ab748_17a0_11eb_b16b_c809a88aba64row27_col0 {\n",
       "            background-color:  #fbf4f9;\n",
       "            color:  #000000;\n",
       "        }    #T_253ab748_17a0_11eb_b16b_c809a88aba64row28_col0 {\n",
       "            background-color:  #e8e4f0;\n",
       "            color:  #000000;\n",
       "        }    #T_253ab748_17a0_11eb_b16b_c809a88aba64row29_col0 {\n",
       "            background-color:  #c5cce3;\n",
       "            color:  #000000;\n",
       "        }    #T_253ab748_17a0_11eb_b16b_c809a88aba64row30_col0 {\n",
       "            background-color:  #d6d6e9;\n",
       "            color:  #000000;\n",
       "        }    #T_253ab748_17a0_11eb_b16b_c809a88aba64row31_col0 {\n",
       "            background-color:  #dfddec;\n",
       "            color:  #000000;\n",
       "        }    #T_253ab748_17a0_11eb_b16b_c809a88aba64row32_col0 {\n",
       "            background-color:  #dbdaeb;\n",
       "            color:  #000000;\n",
       "        }    #T_253ab748_17a0_11eb_b16b_c809a88aba64row33_col0 {\n",
       "            background-color:  #eae6f1;\n",
       "            color:  #000000;\n",
       "        }    #T_253ab748_17a0_11eb_b16b_c809a88aba64row34_col0 {\n",
       "            background-color:  #f4edf6;\n",
       "            color:  #000000;\n",
       "        }</style><table id=\"T_253ab748_17a0_11eb_b16b_c809a88aba64\" ><thead>    <tr>        <th class=\"blank\" ></th>        <th class=\"blank level0\" ></th>        <th class=\"col_heading level0 col0\" >BASK_SPEND</th>    </tr>    <tr>        <th class=\"index_name level0\" >month</th>        <th class=\"index_name level1\" >day</th>        <th class=\"blank\" ></th>    </tr></thead><tbody>\n",
       "                <tr>\n",
       "                        <th id=\"T_253ab748_17a0_11eb_b16b_c809a88aba64level0_row0\" class=\"row_heading level0 row0\" rowspan=30>6</th>\n",
       "                        <th id=\"T_253ab748_17a0_11eb_b16b_c809a88aba64level1_row0\" class=\"row_heading level1 row0\" >2018-06-01 00:00:00</th>\n",
       "                        <td id=\"T_253ab748_17a0_11eb_b16b_c809a88aba64row0_col0\" class=\"data row0 col0\" >719667.990000</td>\n",
       "            </tr>\n",
       "            <tr>\n",
       "                                <th id=\"T_253ab748_17a0_11eb_b16b_c809a88aba64level1_row1\" class=\"row_heading level1 row1\" >2018-06-02 00:00:00</th>\n",
       "                        <td id=\"T_253ab748_17a0_11eb_b16b_c809a88aba64row1_col0\" class=\"data row1 col0\" >730030.080000</td>\n",
       "            </tr>\n",
       "            <tr>\n",
       "                                <th id=\"T_253ab748_17a0_11eb_b16b_c809a88aba64level1_row2\" class=\"row_heading level1 row2\" >2018-06-03 00:00:00</th>\n",
       "                        <td id=\"T_253ab748_17a0_11eb_b16b_c809a88aba64row2_col0\" class=\"data row2 col0\" >685279.360000</td>\n",
       "            </tr>\n",
       "            <tr>\n",
       "                                <th id=\"T_253ab748_17a0_11eb_b16b_c809a88aba64level1_row3\" class=\"row_heading level1 row3\" >2018-06-04 00:00:00</th>\n",
       "                        <td id=\"T_253ab748_17a0_11eb_b16b_c809a88aba64row3_col0\" class=\"data row3 col0\" >560063.100000</td>\n",
       "            </tr>\n",
       "            <tr>\n",
       "                                <th id=\"T_253ab748_17a0_11eb_b16b_c809a88aba64level1_row4\" class=\"row_heading level1 row4\" >2018-06-05 00:00:00</th>\n",
       "                        <td id=\"T_253ab748_17a0_11eb_b16b_c809a88aba64row4_col0\" class=\"data row4 col0\" >665581.440000</td>\n",
       "            </tr>\n",
       "            <tr>\n",
       "                                <th id=\"T_253ab748_17a0_11eb_b16b_c809a88aba64level1_row5\" class=\"row_heading level1 row5\" >2018-06-06 00:00:00</th>\n",
       "                        <td id=\"T_253ab748_17a0_11eb_b16b_c809a88aba64row5_col0\" class=\"data row5 col0\" >501199.090000</td>\n",
       "            </tr>\n",
       "            <tr>\n",
       "                                <th id=\"T_253ab748_17a0_11eb_b16b_c809a88aba64level1_row6\" class=\"row_heading level1 row6\" >2018-06-07 00:00:00</th>\n",
       "                        <td id=\"T_253ab748_17a0_11eb_b16b_c809a88aba64row6_col0\" class=\"data row6 col0\" >437448.310000</td>\n",
       "            </tr>\n",
       "            <tr>\n",
       "                                <th id=\"T_253ab748_17a0_11eb_b16b_c809a88aba64level1_row7\" class=\"row_heading level1 row7\" >2018-06-08 00:00:00</th>\n",
       "                        <td id=\"T_253ab748_17a0_11eb_b16b_c809a88aba64row7_col0\" class=\"data row7 col0\" >565651.690000</td>\n",
       "            </tr>\n",
       "            <tr>\n",
       "                                <th id=\"T_253ab748_17a0_11eb_b16b_c809a88aba64level1_row8\" class=\"row_heading level1 row8\" >2018-06-09 00:00:00</th>\n",
       "                        <td id=\"T_253ab748_17a0_11eb_b16b_c809a88aba64row8_col0\" class=\"data row8 col0\" >681885.490000</td>\n",
       "            </tr>\n",
       "            <tr>\n",
       "                                <th id=\"T_253ab748_17a0_11eb_b16b_c809a88aba64level1_row9\" class=\"row_heading level1 row9\" >2018-06-10 00:00:00</th>\n",
       "                        <td id=\"T_253ab748_17a0_11eb_b16b_c809a88aba64row9_col0\" class=\"data row9 col0\" >705195.220000</td>\n",
       "            </tr>\n",
       "            <tr>\n",
       "                                <th id=\"T_253ab748_17a0_11eb_b16b_c809a88aba64level1_row10\" class=\"row_heading level1 row10\" >2018-06-11 00:00:00</th>\n",
       "                        <td id=\"T_253ab748_17a0_11eb_b16b_c809a88aba64row10_col0\" class=\"data row10 col0\" >534259.960000</td>\n",
       "            </tr>\n",
       "            <tr>\n",
       "                                <th id=\"T_253ab748_17a0_11eb_b16b_c809a88aba64level1_row11\" class=\"row_heading level1 row11\" >2018-06-12 00:00:00</th>\n",
       "                        <td id=\"T_253ab748_17a0_11eb_b16b_c809a88aba64row11_col0\" class=\"data row11 col0\" >572481.760000</td>\n",
       "            </tr>\n",
       "            <tr>\n",
       "                                <th id=\"T_253ab748_17a0_11eb_b16b_c809a88aba64level1_row12\" class=\"row_heading level1 row12\" >2018-06-13 00:00:00</th>\n",
       "                        <td id=\"T_253ab748_17a0_11eb_b16b_c809a88aba64row12_col0\" class=\"data row12 col0\" >727913.430000</td>\n",
       "            </tr>\n",
       "            <tr>\n",
       "                                <th id=\"T_253ab748_17a0_11eb_b16b_c809a88aba64level1_row13\" class=\"row_heading level1 row13\" >2018-06-14 00:00:00</th>\n",
       "                        <td id=\"T_253ab748_17a0_11eb_b16b_c809a88aba64row13_col0\" class=\"data row13 col0\" >618915.510000</td>\n",
       "            </tr>\n",
       "            <tr>\n",
       "                                <th id=\"T_253ab748_17a0_11eb_b16b_c809a88aba64level1_row14\" class=\"row_heading level1 row14\" >2018-06-15 00:00:00</th>\n",
       "                        <td id=\"T_253ab748_17a0_11eb_b16b_c809a88aba64row14_col0\" class=\"data row14 col0\" >778783.560000</td>\n",
       "            </tr>\n",
       "            <tr>\n",
       "                                <th id=\"T_253ab748_17a0_11eb_b16b_c809a88aba64level1_row15\" class=\"row_heading level1 row15\" >2018-06-16 00:00:00</th>\n",
       "                        <td id=\"T_253ab748_17a0_11eb_b16b_c809a88aba64row15_col0\" class=\"data row15 col0\" >1174917.210000</td>\n",
       "            </tr>\n",
       "            <tr>\n",
       "                                <th id=\"T_253ab748_17a0_11eb_b16b_c809a88aba64level1_row16\" class=\"row_heading level1 row16\" >2018-06-17 00:00:00</th>\n",
       "                        <td id=\"T_253ab748_17a0_11eb_b16b_c809a88aba64row16_col0\" class=\"data row16 col0\" >1510911.650000</td>\n",
       "            </tr>\n",
       "            <tr>\n",
       "                                <th id=\"T_253ab748_17a0_11eb_b16b_c809a88aba64level1_row17\" class=\"row_heading level1 row17\" >2018-06-18 00:00:00</th>\n",
       "                        <td id=\"T_253ab748_17a0_11eb_b16b_c809a88aba64row17_col0\" class=\"data row17 col0\" >1262614.630000</td>\n",
       "            </tr>\n",
       "            <tr>\n",
       "                                <th id=\"T_253ab748_17a0_11eb_b16b_c809a88aba64level1_row18\" class=\"row_heading level1 row18\" >2018-06-19 00:00:00</th>\n",
       "                        <td id=\"T_253ab748_17a0_11eb_b16b_c809a88aba64row18_col0\" class=\"data row18 col0\" >414874.540000</td>\n",
       "            </tr>\n",
       "            <tr>\n",
       "                                <th id=\"T_253ab748_17a0_11eb_b16b_c809a88aba64level1_row19\" class=\"row_heading level1 row19\" >2018-06-20 00:00:00</th>\n",
       "                        <td id=\"T_253ab748_17a0_11eb_b16b_c809a88aba64row19_col0\" class=\"data row19 col0\" >534955.100000</td>\n",
       "            </tr>\n",
       "            <tr>\n",
       "                                <th id=\"T_253ab748_17a0_11eb_b16b_c809a88aba64level1_row20\" class=\"row_heading level1 row20\" >2018-06-21 00:00:00</th>\n",
       "                        <td id=\"T_253ab748_17a0_11eb_b16b_c809a88aba64row20_col0\" class=\"data row20 col0\" >500594.660000</td>\n",
       "            </tr>\n",
       "            <tr>\n",
       "                                <th id=\"T_253ab748_17a0_11eb_b16b_c809a88aba64level1_row21\" class=\"row_heading level1 row21\" >2018-06-22 00:00:00</th>\n",
       "                        <td id=\"T_253ab748_17a0_11eb_b16b_c809a88aba64row21_col0\" class=\"data row21 col0\" >413119.480000</td>\n",
       "            </tr>\n",
       "            <tr>\n",
       "                                <th id=\"T_253ab748_17a0_11eb_b16b_c809a88aba64level1_row22\" class=\"row_heading level1 row22\" >2018-06-23 00:00:00</th>\n",
       "                        <td id=\"T_253ab748_17a0_11eb_b16b_c809a88aba64row22_col0\" class=\"data row22 col0\" >584638.180000</td>\n",
       "            </tr>\n",
       "            <tr>\n",
       "                                <th id=\"T_253ab748_17a0_11eb_b16b_c809a88aba64level1_row23\" class=\"row_heading level1 row23\" >2018-06-24 00:00:00</th>\n",
       "                        <td id=\"T_253ab748_17a0_11eb_b16b_c809a88aba64row23_col0\" class=\"data row23 col0\" >530338.270000</td>\n",
       "            </tr>\n",
       "            <tr>\n",
       "                                <th id=\"T_253ab748_17a0_11eb_b16b_c809a88aba64level1_row24\" class=\"row_heading level1 row24\" >2018-06-25 00:00:00</th>\n",
       "                        <td id=\"T_253ab748_17a0_11eb_b16b_c809a88aba64row24_col0\" class=\"data row24 col0\" >457661.500000</td>\n",
       "            </tr>\n",
       "            <tr>\n",
       "                                <th id=\"T_253ab748_17a0_11eb_b16b_c809a88aba64level1_row25\" class=\"row_heading level1 row25\" >2018-06-26 00:00:00</th>\n",
       "                        <td id=\"T_253ab748_17a0_11eb_b16b_c809a88aba64row25_col0\" class=\"data row25 col0\" >454940.730000</td>\n",
       "            </tr>\n",
       "            <tr>\n",
       "                                <th id=\"T_253ab748_17a0_11eb_b16b_c809a88aba64level1_row26\" class=\"row_heading level1 row26\" >2018-06-27 00:00:00</th>\n",
       "                        <td id=\"T_253ab748_17a0_11eb_b16b_c809a88aba64row26_col0\" class=\"data row26 col0\" >530495.240000</td>\n",
       "            </tr>\n",
       "            <tr>\n",
       "                                <th id=\"T_253ab748_17a0_11eb_b16b_c809a88aba64level1_row27\" class=\"row_heading level1 row27\" >2018-06-28 00:00:00</th>\n",
       "                        <td id=\"T_253ab748_17a0_11eb_b16b_c809a88aba64row27_col0\" class=\"data row27 col0\" >440942.210000</td>\n",
       "            </tr>\n",
       "            <tr>\n",
       "                                <th id=\"T_253ab748_17a0_11eb_b16b_c809a88aba64level1_row28\" class=\"row_heading level1 row28\" >2018-06-29 00:00:00</th>\n",
       "                        <td id=\"T_253ab748_17a0_11eb_b16b_c809a88aba64row28_col0\" class=\"data row28 col0\" >570843.030000</td>\n",
       "            </tr>\n",
       "            <tr>\n",
       "                                <th id=\"T_253ab748_17a0_11eb_b16b_c809a88aba64level1_row29\" class=\"row_heading level1 row29\" >2018-06-30 00:00:00</th>\n",
       "                        <td id=\"T_253ab748_17a0_11eb_b16b_c809a88aba64row29_col0\" class=\"data row29 col0\" >721941.000000</td>\n",
       "            </tr>\n",
       "            <tr>\n",
       "                        <th id=\"T_253ab748_17a0_11eb_b16b_c809a88aba64level0_row30\" class=\"row_heading level0 row30\" rowspan=5>7</th>\n",
       "                        <th id=\"T_253ab748_17a0_11eb_b16b_c809a88aba64level1_row30\" class=\"row_heading level1 row30\" >2018-07-01 00:00:00</th>\n",
       "                        <td id=\"T_253ab748_17a0_11eb_b16b_c809a88aba64row30_col0\" class=\"data row30 col0\" >659030.130000</td>\n",
       "            </tr>\n",
       "            <tr>\n",
       "                                <th id=\"T_253ab748_17a0_11eb_b16b_c809a88aba64level1_row31\" class=\"row_heading level1 row31\" >2018-07-02 00:00:00</th>\n",
       "                        <td id=\"T_253ab748_17a0_11eb_b16b_c809a88aba64row31_col0\" class=\"data row31 col0\" >616250.510000</td>\n",
       "            </tr>\n",
       "            <tr>\n",
       "                                <th id=\"T_253ab748_17a0_11eb_b16b_c809a88aba64level1_row32\" class=\"row_heading level1 row32\" >2018-07-03 00:00:00</th>\n",
       "                        <td id=\"T_253ab748_17a0_11eb_b16b_c809a88aba64row32_col0\" class=\"data row32 col0\" >632443.830000</td>\n",
       "            </tr>\n",
       "            <tr>\n",
       "                                <th id=\"T_253ab748_17a0_11eb_b16b_c809a88aba64level1_row33\" class=\"row_heading level1 row33\" >2018-07-04 00:00:00</th>\n",
       "                        <td id=\"T_253ab748_17a0_11eb_b16b_c809a88aba64row33_col0\" class=\"data row33 col0\" >561606.460000</td>\n",
       "            </tr>\n",
       "            <tr>\n",
       "                                <th id=\"T_253ab748_17a0_11eb_b16b_c809a88aba64level1_row34\" class=\"row_heading level1 row34\" >2018-07-05 00:00:00</th>\n",
       "                        <td id=\"T_253ab748_17a0_11eb_b16b_c809a88aba64row34_col0\" class=\"data row34 col0\" >496912.420000</td>\n",
       "            </tr>\n",
       "    </tbody></table>"
      ],
      "text/plain": [
       "<pandas.io.formats.style.Styler at 0x2368d4ae6c8>"
      ]
     },
     "execution_count": 13,
     "metadata": {},
     "output_type": "execute_result"
    }
   ],
   "source": [
    "# 整体销售情况子数据集，包含下单日期、销售额、年份、月份信息\n",
    "sales_data = basket2[['SHOP_DATETIME','BASK_SPEND','month','day']]\n",
    "#按照月份及日期对销售子数据集进行分组求和\n",
    "sales_day = sales_data.groupby(['month','day']).sum()\n",
    "sales_day.style.background_gradient()# 颜色越深，销售额越高\n",
    "#按周六日呈周期性递增态势"
   ]
  },
  {
   "cell_type": "code",
   "execution_count": 14,
   "metadata": {},
   "outputs": [
    {
     "data": {
      "text/plain": [
       "<matplotlib.axes._subplots.AxesSubplot at 0x2368cee5f08>"
      ]
     },
     "execution_count": 14,
     "metadata": {},
     "output_type": "execute_result"
    },
    {
     "data": {
      "image/png": "[encoded data removed]",
      "text/plain": [
       "<Figure size 432x288 with 1 Axes>"
      ]
     },
     "metadata": {
      "needs_background": "light"
     },
     "output_type": "display_data"
    }
   ],
   "source": [
    "sales_day.plot(kind='bar')"
   ]
  },
  {
   "cell_type": "markdown",
   "metadata": {},
   "source": [
    "由上图可以看出2018年6月16日-2018年6月18日的销售额明显高于其他日期的销售额，并在6月17日这天销售额最高，经查阅日历发现，2018年6月16日-2018年6月18日为三天端午假期，并且6月18日为端午节，大家多会提前一天前往商场采购端午节家庭聚餐所需要的食材或者走亲访友的礼物。因此端午节前一天的销售总额最高。<br/>\n",
    "同时也可以观察出每日的销售总额呈现出一种7天为一个周期的波动态势，并且周六日的销售额明显攀升。<br/>\n",
    "因此，该超市应注意节假日的仓库货物存储情况，提前备好足够库存的产品，以应对节假日增高的购买量。"
   ]
  },
  {
   "cell_type": "markdown",
   "metadata": {},
   "source": [
    "##  3.2按商店的销售额分析"
   ]
  },
  {
   "cell_type": "markdown",
   "metadata": {},
   "source": [
    "计算各门店的销售总额以及其销售额占比，并将结果排序"
   ]
  },
  {
   "cell_type": "code",
   "execution_count": 15,
   "metadata": {
    "scrolled": false
   },
   "outputs": [
    {
     "data": {
      "text/html": [
       "<style  type=\"text/css\" >\n",
       "    #T_25705c74_17a0_11eb_a3b3_c809a88aba64row0_col1 {\n",
       "            background-color:  #023858;\n",
       "            color:  #f1f1f1;\n",
       "        }    #T_25705c74_17a0_11eb_a3b3_c809a88aba64row0_col2 {\n",
       "            background-color:  #023858;\n",
       "            color:  #f1f1f1;\n",
       "        }    #T_25705c74_17a0_11eb_a3b3_c809a88aba64row1_col1 {\n",
       "            background-color:  #03517e;\n",
       "            color:  #f1f1f1;\n",
       "        }    #T_25705c74_17a0_11eb_a3b3_c809a88aba64row1_col2 {\n",
       "            background-color:  #03517e;\n",
       "            color:  #f1f1f1;\n",
       "        }    #T_25705c74_17a0_11eb_a3b3_c809a88aba64row2_col1 {\n",
       "            background-color:  #afc1dd;\n",
       "            color:  #000000;\n",
       "        }    #T_25705c74_17a0_11eb_a3b3_c809a88aba64row2_col2 {\n",
       "            background-color:  #afc1dd;\n",
       "            color:  #000000;\n",
       "        }    #T_25705c74_17a0_11eb_a3b3_c809a88aba64row3_col1 {\n",
       "            background-color:  #b4c4df;\n",
       "            color:  #000000;\n",
       "        }    #T_25705c74_17a0_11eb_a3b3_c809a88aba64row3_col2 {\n",
       "            background-color:  #b4c4df;\n",
       "            color:  #000000;\n",
       "        }    #T_25705c74_17a0_11eb_a3b3_c809a88aba64row4_col1 {\n",
       "            background-color:  #c9cee4;\n",
       "            color:  #000000;\n",
       "        }    #T_25705c74_17a0_11eb_a3b3_c809a88aba64row4_col2 {\n",
       "            background-color:  #c9cee4;\n",
       "            color:  #000000;\n",
       "        }    #T_25705c74_17a0_11eb_a3b3_c809a88aba64row5_col1 {\n",
       "            background-color:  #d9d8ea;\n",
       "            color:  #000000;\n",
       "        }    #T_25705c74_17a0_11eb_a3b3_c809a88aba64row5_col2 {\n",
       "            background-color:  #d9d8ea;\n",
       "            color:  #000000;\n",
       "        }    #T_25705c74_17a0_11eb_a3b3_c809a88aba64row6_col1 {\n",
       "            background-color:  #dfddec;\n",
       "            color:  #000000;\n",
       "        }    #T_25705c74_17a0_11eb_a3b3_c809a88aba64row6_col2 {\n",
       "            background-color:  #dfddec;\n",
       "            color:  #000000;\n",
       "        }    #T_25705c74_17a0_11eb_a3b3_c809a88aba64row7_col1 {\n",
       "            background-color:  #e1dfed;\n",
       "            color:  #000000;\n",
       "        }    #T_25705c74_17a0_11eb_a3b3_c809a88aba64row7_col2 {\n",
       "            background-color:  #e1dfed;\n",
       "            color:  #000000;\n",
       "        }    #T_25705c74_17a0_11eb_a3b3_c809a88aba64row8_col1 {\n",
       "            background-color:  #e1dfed;\n",
       "            color:  #000000;\n",
       "        }    #T_25705c74_17a0_11eb_a3b3_c809a88aba64row8_col2 {\n",
       "            background-color:  #e1dfed;\n",
       "            color:  #000000;\n",
       "        }    #T_25705c74_17a0_11eb_a3b3_c809a88aba64row9_col1 {\n",
       "            background-color:  #e2dfee;\n",
       "            color:  #000000;\n",
       "        }    #T_25705c74_17a0_11eb_a3b3_c809a88aba64row9_col2 {\n",
       "            background-color:  #e2dfee;\n",
       "            color:  #000000;\n",
       "        }    #T_25705c74_17a0_11eb_a3b3_c809a88aba64row10_col1 {\n",
       "            background-color:  #e6e2ef;\n",
       "            color:  #000000;\n",
       "        }    #T_25705c74_17a0_11eb_a3b3_c809a88aba64row10_col2 {\n",
       "            background-color:  #e6e2ef;\n",
       "            color:  #000000;\n",
       "        }    #T_25705c74_17a0_11eb_a3b3_c809a88aba64row11_col1 {\n",
       "            background-color:  #e6e2ef;\n",
       "            color:  #000000;\n",
       "        }    #T_25705c74_17a0_11eb_a3b3_c809a88aba64row11_col2 {\n",
       "            background-color:  #e6e2ef;\n",
       "            color:  #000000;\n",
       "        }    #T_25705c74_17a0_11eb_a3b3_c809a88aba64row12_col1 {\n",
       "            background-color:  #e8e4f0;\n",
       "            color:  #000000;\n",
       "        }    #T_25705c74_17a0_11eb_a3b3_c809a88aba64row12_col2 {\n",
       "            background-color:  #e8e4f0;\n",
       "            color:  #000000;\n",
       "        }    #T_25705c74_17a0_11eb_a3b3_c809a88aba64row13_col1 {\n",
       "            background-color:  #eae6f1;\n",
       "            color:  #000000;\n",
       "        }    #T_25705c74_17a0_11eb_a3b3_c809a88aba64row13_col2 {\n",
       "            background-color:  #eae6f1;\n",
       "            color:  #000000;\n",
       "        }    #T_25705c74_17a0_11eb_a3b3_c809a88aba64row14_col1 {\n",
       "            background-color:  #ede7f2;\n",
       "            color:  #000000;\n",
       "        }    #T_25705c74_17a0_11eb_a3b3_c809a88aba64row14_col2 {\n",
       "            background-color:  #ede7f2;\n",
       "            color:  #000000;\n",
       "        }    #T_25705c74_17a0_11eb_a3b3_c809a88aba64row15_col1 {\n",
       "            background-color:  #ede7f2;\n",
       "            color:  #000000;\n",
       "        }    #T_25705c74_17a0_11eb_a3b3_c809a88aba64row15_col2 {\n",
       "            background-color:  #ede7f2;\n",
       "            color:  #000000;\n",
       "        }    #T_25705c74_17a0_11eb_a3b3_c809a88aba64row16_col1 {\n",
       "            background-color:  #f1ebf4;\n",
       "            color:  #000000;\n",
       "        }    #T_25705c74_17a0_11eb_a3b3_c809a88aba64row16_col2 {\n",
       "            background-color:  #f1ebf4;\n",
       "            color:  #000000;\n",
       "        }    #T_25705c74_17a0_11eb_a3b3_c809a88aba64row17_col1 {\n",
       "            background-color:  #f1ebf4;\n",
       "            color:  #000000;\n",
       "        }    #T_25705c74_17a0_11eb_a3b3_c809a88aba64row17_col2 {\n",
       "            background-color:  #f1ebf4;\n",
       "            color:  #000000;\n",
       "        }    #T_25705c74_17a0_11eb_a3b3_c809a88aba64row18_col1 {\n",
       "            background-color:  #f3edf5;\n",
       "            color:  #000000;\n",
       "        }    #T_25705c74_17a0_11eb_a3b3_c809a88aba64row18_col2 {\n",
       "            background-color:  #f3edf5;\n",
       "            color:  #000000;\n",
       "        }    #T_25705c74_17a0_11eb_a3b3_c809a88aba64row19_col1 {\n",
       "            background-color:  #f4eef6;\n",
       "            color:  #000000;\n",
       "        }    #T_25705c74_17a0_11eb_a3b3_c809a88aba64row19_col2 {\n",
       "            background-color:  #f4eef6;\n",
       "            color:  #000000;\n",
       "        }    #T_25705c74_17a0_11eb_a3b3_c809a88aba64row20_col1 {\n",
       "            background-color:  #f5eef6;\n",
       "            color:  #000000;\n",
       "        }    #T_25705c74_17a0_11eb_a3b3_c809a88aba64row20_col2 {\n",
       "            background-color:  #f5eef6;\n",
       "            color:  #000000;\n",
       "        }    #T_25705c74_17a0_11eb_a3b3_c809a88aba64row21_col1 {\n",
       "            background-color:  #f8f1f8;\n",
       "            color:  #000000;\n",
       "        }    #T_25705c74_17a0_11eb_a3b3_c809a88aba64row21_col2 {\n",
       "            background-color:  #f8f1f8;\n",
       "            color:  #000000;\n",
       "        }    #T_25705c74_17a0_11eb_a3b3_c809a88aba64row22_col1 {\n",
       "            background-color:  #faf3f9;\n",
       "            color:  #000000;\n",
       "        }    #T_25705c74_17a0_11eb_a3b3_c809a88aba64row22_col2 {\n",
       "            background-color:  #faf3f9;\n",
       "            color:  #000000;\n",
       "        }    #T_25705c74_17a0_11eb_a3b3_c809a88aba64row23_col1 {\n",
       "            background-color:  #fff7fb;\n",
       "            color:  #000000;\n",
       "        }    #T_25705c74_17a0_11eb_a3b3_c809a88aba64row23_col2 {\n",
       "            background-color:  #fff7fb;\n",
       "            color:  #000000;\n",
       "        }</style><table id=\"T_25705c74_17a0_11eb_a3b3_c809a88aba64\" ><thead>    <tr>        <th class=\"blank level0\" ></th>        <th class=\"col_heading level0 col0\" >STORE_CODE</th>        <th class=\"col_heading level0 col1\" >BASK_SPEND</th>        <th class=\"col_heading level0 col2\" >percent</th>    </tr></thead><tbody>\n",
       "                <tr>\n",
       "                        <th id=\"T_25705c74_17a0_11eb_a3b3_c809a88aba64level0_row0\" class=\"row_heading level0 row0\" >0</th>\n",
       "                        <td id=\"T_25705c74_17a0_11eb_a3b3_c809a88aba64row0_col0\" class=\"data row0 col0\" >A001</td>\n",
       "                        <td id=\"T_25705c74_17a0_11eb_a3b3_c809a88aba64row0_col1\" class=\"data row0 col1\" >3478347.859999</td>\n",
       "                        <td id=\"T_25705c74_17a0_11eb_a3b3_c809a88aba64row0_col2\" class=\"data row0 col2\" >0.154220</td>\n",
       "            </tr>\n",
       "            <tr>\n",
       "                        <th id=\"T_25705c74_17a0_11eb_a3b3_c809a88aba64level0_row1\" class=\"row_heading level0 row1\" >15</th>\n",
       "                        <td id=\"T_25705c74_17a0_11eb_a3b3_c809a88aba64row1_col0\" class=\"data row1 col0\" >D002</td>\n",
       "                        <td id=\"T_25705c74_17a0_11eb_a3b3_c809a88aba64row1_col1\" class=\"data row1 col1\" >3177384.759999</td>\n",
       "                        <td id=\"T_25705c74_17a0_11eb_a3b3_c809a88aba64row1_col2\" class=\"data row1 col2\" >0.140877</td>\n",
       "            </tr>\n",
       "            <tr>\n",
       "                        <th id=\"T_25705c74_17a0_11eb_a3b3_c809a88aba64level0_row2\" class=\"row_heading level0 row2\" >20</th>\n",
       "                        <td id=\"T_25705c74_17a0_11eb_a3b3_c809a88aba64row2_col0\" class=\"data row2 col0\" >D007</td>\n",
       "                        <td id=\"T_25705c74_17a0_11eb_a3b3_c809a88aba64row2_col1\" class=\"data row2 col1\" >1382203.010000</td>\n",
       "                        <td id=\"T_25705c74_17a0_11eb_a3b3_c809a88aba64row2_col2\" class=\"data row2 col2\" >0.061283</td>\n",
       "            </tr>\n",
       "            <tr>\n",
       "                        <th id=\"T_25705c74_17a0_11eb_a3b3_c809a88aba64level0_row3\" class=\"row_heading level0 row3\" >4</th>\n",
       "                        <td id=\"T_25705c74_17a0_11eb_a3b3_c809a88aba64row3_col0\" class=\"data row3 col0\" >A008</td>\n",
       "                        <td id=\"T_25705c74_17a0_11eb_a3b3_c809a88aba64row3_col1\" class=\"data row3 col1\" >1324641.100000</td>\n",
       "                        <td id=\"T_25705c74_17a0_11eb_a3b3_c809a88aba64row3_col2\" class=\"data row3 col2\" >0.058731</td>\n",
       "            </tr>\n",
       "            <tr>\n",
       "                        <th id=\"T_25705c74_17a0_11eb_a3b3_c809a88aba64level0_row4\" class=\"row_heading level0 row4\" >8</th>\n",
       "                        <td id=\"T_25705c74_17a0_11eb_a3b3_c809a88aba64row4_col0\" class=\"data row4 col0\" >A013</td>\n",
       "                        <td id=\"T_25705c74_17a0_11eb_a3b3_c809a88aba64row4_col1\" class=\"data row4 col1\" >1126550.930000</td>\n",
       "                        <td id=\"T_25705c74_17a0_11eb_a3b3_c809a88aba64row4_col2\" class=\"data row4 col2\" >0.049948</td>\n",
       "            </tr>\n",
       "            <tr>\n",
       "                        <th id=\"T_25705c74_17a0_11eb_a3b3_c809a88aba64level0_row5\" class=\"row_heading level0 row5\" >2</th>\n",
       "                        <td id=\"T_25705c74_17a0_11eb_a3b3_c809a88aba64row5_col0\" class=\"data row5 col0\" >A006</td>\n",
       "                        <td id=\"T_25705c74_17a0_11eb_a3b3_c809a88aba64row5_col1\" class=\"data row5 col1\" >943923.310000</td>\n",
       "                        <td id=\"T_25705c74_17a0_11eb_a3b3_c809a88aba64row5_col2\" class=\"data row5 col2\" >0.041851</td>\n",
       "            </tr>\n",
       "            <tr>\n",
       "                        <th id=\"T_25705c74_17a0_11eb_a3b3_c809a88aba64level0_row6\" class=\"row_heading level0 row6\" >7</th>\n",
       "                        <td id=\"T_25705c74_17a0_11eb_a3b3_c809a88aba64row6_col0\" class=\"data row6 col0\" >A012</td>\n",
       "                        <td id=\"T_25705c74_17a0_11eb_a3b3_c809a88aba64row6_col1\" class=\"data row6 col1\" >854660.960000</td>\n",
       "                        <td id=\"T_25705c74_17a0_11eb_a3b3_c809a88aba64row6_col2\" class=\"data row6 col2\" >0.037893</td>\n",
       "            </tr>\n",
       "            <tr>\n",
       "                        <th id=\"T_25705c74_17a0_11eb_a3b3_c809a88aba64level0_row7\" class=\"row_heading level0 row7\" >17</th>\n",
       "                        <td id=\"T_25705c74_17a0_11eb_a3b3_c809a88aba64row7_col0\" class=\"data row7 col0\" >D004</td>\n",
       "                        <td id=\"T_25705c74_17a0_11eb_a3b3_c809a88aba64row7_col1\" class=\"data row7 col1\" >815338.800000</td>\n",
       "                        <td id=\"T_25705c74_17a0_11eb_a3b3_c809a88aba64row7_col2\" class=\"data row7 col2\" >0.036150</td>\n",
       "            </tr>\n",
       "            <tr>\n",
       "                        <th id=\"T_25705c74_17a0_11eb_a3b3_c809a88aba64level0_row8\" class=\"row_heading level0 row8\" >19</th>\n",
       "                        <td id=\"T_25705c74_17a0_11eb_a3b3_c809a88aba64row8_col0\" class=\"data row8 col0\" >D006</td>\n",
       "                        <td id=\"T_25705c74_17a0_11eb_a3b3_c809a88aba64row8_col1\" class=\"data row8 col1\" >814436.490000</td>\n",
       "                        <td id=\"T_25705c74_17a0_11eb_a3b3_c809a88aba64row8_col2\" class=\"data row8 col2\" >0.036110</td>\n",
       "            </tr>\n",
       "            <tr>\n",
       "                        <th id=\"T_25705c74_17a0_11eb_a3b3_c809a88aba64level0_row9\" class=\"row_heading level0 row9\" >5</th>\n",
       "                        <td id=\"T_25705c74_17a0_11eb_a3b3_c809a88aba64row9_col0\" class=\"data row9 col0\" >A009</td>\n",
       "                        <td id=\"T_25705c74_17a0_11eb_a3b3_c809a88aba64row9_col1\" class=\"data row9 col1\" >805212.890000</td>\n",
       "                        <td id=\"T_25705c74_17a0_11eb_a3b3_c809a88aba64row9_col2\" class=\"data row9 col2\" >0.035701</td>\n",
       "            </tr>\n",
       "            <tr>\n",
       "                        <th id=\"T_25705c74_17a0_11eb_a3b3_c809a88aba64level0_row10\" class=\"row_heading level0 row10\" >13</th>\n",
       "                        <td id=\"T_25705c74_17a0_11eb_a3b3_c809a88aba64row10_col0\" class=\"data row10 col0\" >A021</td>\n",
       "                        <td id=\"T_25705c74_17a0_11eb_a3b3_c809a88aba64row10_col1\" class=\"data row10 col1\" >749779.210000</td>\n",
       "                        <td id=\"T_25705c74_17a0_11eb_a3b3_c809a88aba64row10_col2\" class=\"data row10 col2\" >0.033243</td>\n",
       "            </tr>\n",
       "            <tr>\n",
       "                        <th id=\"T_25705c74_17a0_11eb_a3b3_c809a88aba64level0_row11\" class=\"row_heading level0 row11\" >9</th>\n",
       "                        <td id=\"T_25705c74_17a0_11eb_a3b3_c809a88aba64row11_col0\" class=\"data row11 col0\" >A016</td>\n",
       "                        <td id=\"T_25705c74_17a0_11eb_a3b3_c809a88aba64row11_col1\" class=\"data row11 col1\" >749107.640000</td>\n",
       "                        <td id=\"T_25705c74_17a0_11eb_a3b3_c809a88aba64row11_col2\" class=\"data row11 col2\" >0.033213</td>\n",
       "            </tr>\n",
       "            <tr>\n",
       "                        <th id=\"T_25705c74_17a0_11eb_a3b3_c809a88aba64level0_row12\" class=\"row_heading level0 row12\" >21</th>\n",
       "                        <td id=\"T_25705c74_17a0_11eb_a3b3_c809a88aba64row12_col0\" class=\"data row12 col0\" >D008</td>\n",
       "                        <td id=\"T_25705c74_17a0_11eb_a3b3_c809a88aba64row12_col1\" class=\"data row12 col1\" >712828.960000</td>\n",
       "                        <td id=\"T_25705c74_17a0_11eb_a3b3_c809a88aba64row12_col2\" class=\"data row12 col2\" >0.031605</td>\n",
       "            </tr>\n",
       "            <tr>\n",
       "                        <th id=\"T_25705c74_17a0_11eb_a3b3_c809a88aba64level0_row13\" class=\"row_heading level0 row13\" >3</th>\n",
       "                        <td id=\"T_25705c74_17a0_11eb_a3b3_c809a88aba64row13_col0\" class=\"data row13 col0\" >A007</td>\n",
       "                        <td id=\"T_25705c74_17a0_11eb_a3b3_c809a88aba64row13_col1\" class=\"data row13 col1\" >693885.340000</td>\n",
       "                        <td id=\"T_25705c74_17a0_11eb_a3b3_c809a88aba64row13_col2\" class=\"data row13 col2\" >0.030765</td>\n",
       "            </tr>\n",
       "            <tr>\n",
       "                        <th id=\"T_25705c74_17a0_11eb_a3b3_c809a88aba64level0_row14\" class=\"row_heading level0 row14\" >6</th>\n",
       "                        <td id=\"T_25705c74_17a0_11eb_a3b3_c809a88aba64row14_col0\" class=\"data row14 col0\" >A010</td>\n",
       "                        <td id=\"T_25705c74_17a0_11eb_a3b3_c809a88aba64row14_col1\" class=\"data row14 col1\" >653372.900000</td>\n",
       "                        <td id=\"T_25705c74_17a0_11eb_a3b3_c809a88aba64row14_col2\" class=\"data row14 col2\" >0.028969</td>\n",
       "            </tr>\n",
       "            <tr>\n",
       "                        <th id=\"T_25705c74_17a0_11eb_a3b3_c809a88aba64level0_row15\" class=\"row_heading level0 row15\" >12</th>\n",
       "                        <td id=\"T_25705c74_17a0_11eb_a3b3_c809a88aba64row15_col0\" class=\"data row15 col0\" >A019</td>\n",
       "                        <td id=\"T_25705c74_17a0_11eb_a3b3_c809a88aba64row15_col1\" class=\"data row15 col1\" >650797.350000</td>\n",
       "                        <td id=\"T_25705c74_17a0_11eb_a3b3_c809a88aba64row15_col2\" class=\"data row15 col2\" >0.028855</td>\n",
       "            </tr>\n",
       "            <tr>\n",
       "                        <th id=\"T_25705c74_17a0_11eb_a3b3_c809a88aba64level0_row16\" class=\"row_heading level0 row16\" >11</th>\n",
       "                        <td id=\"T_25705c74_17a0_11eb_a3b3_c809a88aba64row16_col0\" class=\"data row16 col0\" >A018</td>\n",
       "                        <td id=\"T_25705c74_17a0_11eb_a3b3_c809a88aba64row16_col1\" class=\"data row16 col1\" >563395.090000</td>\n",
       "                        <td id=\"T_25705c74_17a0_11eb_a3b3_c809a88aba64row16_col2\" class=\"data row16 col2\" >0.024979</td>\n",
       "            </tr>\n",
       "            <tr>\n",
       "                        <th id=\"T_25705c74_17a0_11eb_a3b3_c809a88aba64level0_row17\" class=\"row_heading level0 row17\" >18</th>\n",
       "                        <td id=\"T_25705c74_17a0_11eb_a3b3_c809a88aba64row17_col0\" class=\"data row17 col0\" >D005</td>\n",
       "                        <td id=\"T_25705c74_17a0_11eb_a3b3_c809a88aba64row17_col1\" class=\"data row17 col1\" >561386.800000</td>\n",
       "                        <td id=\"T_25705c74_17a0_11eb_a3b3_c809a88aba64row17_col2\" class=\"data row17 col2\" >0.024890</td>\n",
       "            </tr>\n",
       "            <tr>\n",
       "                        <th id=\"T_25705c74_17a0_11eb_a3b3_c809a88aba64level0_row18\" class=\"row_heading level0 row18\" >1</th>\n",
       "                        <td id=\"T_25705c74_17a0_11eb_a3b3_c809a88aba64row18_col0\" class=\"data row18 col0\" >A004</td>\n",
       "                        <td id=\"T_25705c74_17a0_11eb_a3b3_c809a88aba64row18_col1\" class=\"data row18 col1\" >515663.060000</td>\n",
       "                        <td id=\"T_25705c74_17a0_11eb_a3b3_c809a88aba64row18_col2\" class=\"data row18 col2\" >0.022863</td>\n",
       "            </tr>\n",
       "            <tr>\n",
       "                        <th id=\"T_25705c74_17a0_11eb_a3b3_c809a88aba64level0_row19\" class=\"row_heading level0 row19\" >14</th>\n",
       "                        <td id=\"T_25705c74_17a0_11eb_a3b3_c809a88aba64row19_col0\" class=\"data row19 col0\" >A022</td>\n",
       "                        <td id=\"T_25705c74_17a0_11eb_a3b3_c809a88aba64row19_col1\" class=\"data row19 col1\" >488646.160000</td>\n",
       "                        <td id=\"T_25705c74_17a0_11eb_a3b3_c809a88aba64row19_col2\" class=\"data row19 col2\" >0.021665</td>\n",
       "            </tr>\n",
       "            <tr>\n",
       "                        <th id=\"T_25705c74_17a0_11eb_a3b3_c809a88aba64level0_row20\" class=\"row_heading level0 row20\" >22</th>\n",
       "                        <td id=\"T_25705c74_17a0_11eb_a3b3_c809a88aba64row20_col0\" class=\"data row20 col0\" >D009</td>\n",
       "                        <td id=\"T_25705c74_17a0_11eb_a3b3_c809a88aba64row20_col1\" class=\"data row20 col1\" >473629.180000</td>\n",
       "                        <td id=\"T_25705c74_17a0_11eb_a3b3_c809a88aba64row20_col2\" class=\"data row20 col2\" >0.020999</td>\n",
       "            </tr>\n",
       "            <tr>\n",
       "                        <th id=\"T_25705c74_17a0_11eb_a3b3_c809a88aba64level0_row21\" class=\"row_heading level0 row21\" >10</th>\n",
       "                        <td id=\"T_25705c74_17a0_11eb_a3b3_c809a88aba64row21_col0\" class=\"data row21 col0\" >A017</td>\n",
       "                        <td id=\"T_25705c74_17a0_11eb_a3b3_c809a88aba64row21_col1\" class=\"data row21 col1\" >401767.000000</td>\n",
       "                        <td id=\"T_25705c74_17a0_11eb_a3b3_c809a88aba64row21_col2\" class=\"data row21 col2\" >0.017813</td>\n",
       "            </tr>\n",
       "            <tr>\n",
       "                        <th id=\"T_25705c74_17a0_11eb_a3b3_c809a88aba64level0_row22\" class=\"row_heading level0 row22\" >23</th>\n",
       "                        <td id=\"T_25705c74_17a0_11eb_a3b3_c809a88aba64row22_col0\" class=\"data row22 col0\" >D010</td>\n",
       "                        <td id=\"T_25705c74_17a0_11eb_a3b3_c809a88aba64row22_col1\" class=\"data row22 col1\" >364347.250000</td>\n",
       "                        <td id=\"T_25705c74_17a0_11eb_a3b3_c809a88aba64row22_col2\" class=\"data row22 col2\" >0.016154</td>\n",
       "            </tr>\n",
       "            <tr>\n",
       "                        <th id=\"T_25705c74_17a0_11eb_a3b3_c809a88aba64level0_row23\" class=\"row_heading level0 row23\" >16</th>\n",
       "                        <td id=\"T_25705c74_17a0_11eb_a3b3_c809a88aba64row23_col0\" class=\"data row23 col0\" >D003</td>\n",
       "                        <td id=\"T_25705c74_17a0_11eb_a3b3_c809a88aba64row23_col1\" class=\"data row23 col1\" >253080.720000</td>\n",
       "                        <td id=\"T_25705c74_17a0_11eb_a3b3_c809a88aba64row23_col2\" class=\"data row23 col2\" >0.011221</td>\n",
       "            </tr>\n",
       "    </tbody></table>"
      ],
      "text/plain": [
       "<pandas.io.formats.style.Styler at 0x236892cc3c8>"
      ]
     },
     "execution_count": 15,
     "metadata": {},
     "output_type": "execute_result"
    }
   ],
   "source": [
    "Market_Sales = basket2.groupby('STORE_CODE')['BASK_SPEND'].sum().reset_index().sort_values(by = 'BASK_SPEND',ascending = False)\n",
    "Market_Sales[\"percent\"] = Market_Sales[\"BASK_SPEND\"] / basket2[\"BASK_SPEND\"].sum()\n",
    "Market_Sales.style.background_gradient()"
   ]
  },
  {
   "cell_type": "markdown",
   "metadata": {},
   "source": [
    "绘制各门店销售总额柱状图"
   ]
  },
  {
   "cell_type": "code",
   "execution_count": 16,
   "metadata": {},
   "outputs": [
    {
     "data": {
      "text/plain": [
       "<matplotlib.axes._subplots.AxesSubplot at 0x2368fe39648>"
      ]
     },
     "execution_count": 16,
     "metadata": {},
     "output_type": "execute_result"
    },
    {
     "data": {
      "image/png": "[encoded data removed]",
      "text/plain": [
       "<Figure size 432x288 with 1 Axes>"
      ]
     },
     "metadata": {
      "needs_background": "light"
     },
     "output_type": "display_data"
    }
   ],
   "source": [
    "a=basket2.groupby('STORE_CODE')['BASK_SPEND'].sum().reset_index().sort_values(by = 'BASK_SPEND',ascending = False)#商店按消费额大小排序\n",
    "a.set_index('STORE_CODE',inplace=True)\n",
    "a.plot(kind='barh')"
   ]
  },
  {
   "cell_type": "markdown",
   "metadata": {},
   "source": [
    "由上表以及上图可以看出:\n",
    "1.A001门店以及D002门店的销售额远远超于其他门店的销售额，并且两门店的销售总额占到所有门店销售总额的30%；<br/>\n",
    "2.D010以及D003门店销售额较低值得警惕。<br/>"
   ]
  },
  {
   "cell_type": "markdown",
   "metadata": {},
   "source": [
    "## 3.3商店按结账频数统计 "
   ]
  },
  {
   "cell_type": "markdown",
   "metadata": {},
   "source": [
    "汇总各门店的结账频数，并按从大到小的顺序进行排列"
   ]
  },
  {
   "cell_type": "code",
   "execution_count": 17,
   "metadata": {},
   "outputs": [
    {
     "data": {
      "text/plain": [
       "A001    66507\n",
       "D002    62949\n",
       "D007    37503\n",
       "A008    36462\n",
       "A013    30064\n",
       "A006    28470\n",
       "A012    24946\n",
       "A009    21809\n",
       "D004    21362\n",
       "D008    21029\n",
       "A021    20555\n",
       "A010    19543\n",
       "D006    18572\n",
       "A016    18279\n",
       "A007    17954\n",
       "A019    16985\n",
       "D009    15827\n",
       "A018    15731\n",
       "D005    15261\n",
       "A022    15260\n",
       "A004    13429\n",
       "A017    12459\n",
       "D010    11070\n",
       "D003     7771\n",
       "Name: STORE_CODE, dtype: int64"
      ]
     },
     "execution_count": 17,
     "metadata": {},
     "output_type": "execute_result"
    }
   ],
   "source": [
    "basket2.loc[:,'STORE_CODE'].value_counts()#商店按结账次数大小排序"
   ]
  },
  {
   "cell_type": "markdown",
   "metadata": {},
   "source": [
    "绘制各门店结账频数的柱状图"
   ]
  },
  {
   "cell_type": "code",
   "execution_count": 18,
   "metadata": {},
   "outputs": [
    {
     "data": {
      "image/png": "[encoded data removed]",
      "text/plain": [
       "<Figure size 432x288 with 1 Axes>"
      ]
     },
     "metadata": {
      "needs_background": "light"
     },
     "output_type": "display_data"
    }
   ],
   "source": [
    "\n",
    "count =basket2.loc[:,'STORE_CODE'].value_counts()\n",
    "name = list(count.index)\n",
    "plt.bar(np.arange(len(name)), count)\n",
    "# 设置横坐标\n",
    "plt.xticks(np.arange(len(name)), name, rotation=60)   # rotation 旋转横坐标标签\n",
    "plt.show()"
   ]
  },
  {
   "cell_type": "markdown",
   "metadata": {},
   "source": [
    "综合对比各门店的结账次数以及销售总额柱状图可以发现，结账的次数与销售额是成正比的。<br/>\n",
    "由此可以分析出零售产业通过吸引更多的顾客来增加销售额是一种非常有效的手段。"
   ]
  },
  {
   "cell_type": "markdown",
   "metadata": {},
   "source": [
    "# 4.顾客分析"
   ]
  },
  {
   "cell_type": "markdown",
   "metadata": {},
   "source": [
    "## 4.1顾客消费金额分析"
   ]
  },
  {
   "cell_type": "markdown",
   "metadata": {},
   "source": [
    "查看数据中是否有离群点，并剔除离群点"
   ]
  },
  {
   "cell_type": "code",
   "execution_count": 19,
   "metadata": {
    "scrolled": true
   },
   "outputs": [
    {
     "data": {
      "image/png": "[encoded data removed]",
      "text/plain": [
       "<Figure size 432x288 with 1 Axes>"
      ]
     },
     "metadata": {
      "needs_background": "light"
     },
     "output_type": "display_data"
    }
   ],
   "source": [
    "datatemp2=basket2[\"BASK_SPEND\"]\n",
    "datatemp2.plot(kind='box',title='BASK_SPEND Distribution',sym='r+');"
   ]
  },
  {
   "cell_type": "markdown",
   "metadata": {},
   "source": [
    "根据剔除离群点后的数据绘制单笔订单消费金额的频数分布直方图"
   ]
  },
  {
   "cell_type": "code",
   "execution_count": 20,
   "metadata": {},
   "outputs": [
    {
     "data": {
      "text/plain": [
       "(array([287136., 124141.,  61781.,  33267.,  20008.]),\n",
       " array([1.0000e-02, 2.0006e+01, 4.0002e+01, 5.9998e+01, 7.9994e+01,\n",
       "        9.9990e+01]),\n",
       " <a list of 5 Patch objects>)"
      ]
     },
     "execution_count": 20,
     "metadata": {},
     "output_type": "execute_result"
    },
    {
     "data": {
      "image/png": "[encoded data removed]",
      "text/plain": [
       "<Figure size 504x288 with 1 Axes>"
      ]
     },
     "metadata": {
      "needs_background": "light"
     },
     "output_type": "display_data"
    }
   ],
   "source": [
    "basket3=basket2[basket2['BASK_SPEND']<100]  #剔除离群点\n",
    "dataset1 = basket3[\"BASK_SPEND\"]\n",
    "fig, ax = plt.subplots(figsize=(7, 4))\n",
    "ax.hist(dataset1, bins=5)"
   ]
  },
  {
   "cell_type": "markdown",
   "metadata": {},
   "source": [
    "由单笔订单金额的频数分布直方图可以观察到：单笔消费20元以内的订单数最多，即该超市的消费客户主要以购买小型商品为主，并且喜欢进行少量多次的消费。<br/>\n",
    "因此可以分析得到顾客前往此商店的目的多是进行应急物品的购买，商店应选择应急物品为主要销售内容。"
   ]
  },
  {
   "cell_type": "markdown",
   "metadata": {},
   "source": [
    "## 4.2顾客第一次消费时间分析"
   ]
  },
  {
   "cell_type": "code",
   "execution_count": 21,
   "metadata": {},
   "outputs": [
    {
     "name": "stderr",
     "output_type": "stream",
     "text": [
      "D:\\program\\ananconda\\lib\\site-packages\\ipykernel_launcher.py:1: SettingWithCopyWarning: \n",
      "A value is trying to be set on a copy of a slice from a DataFrame.\n",
      "Try using .loc[row_indexer,col_indexer] = value instead\n",
      "\n",
      "See the caveats in the documentation: https://pandas.pydata.org/pandas-docs/stable/user_guide/indexing.html#returning-a-view-versus-a-copy\n",
      "  \"\"\"Entry point for launching an IPython kernel.\n",
      "D:\\program\\ananconda\\lib\\site-packages\\ipykernel_launcher.py:2: SettingWithCopyWarning: \n",
      "A value is trying to be set on a copy of a slice from a DataFrame.\n",
      "Try using .loc[row_indexer,col_indexer] = value instead\n",
      "\n",
      "See the caveats in the documentation: https://pandas.pydata.org/pandas-docs/stable/user_guide/indexing.html#returning-a-view-versus-a-copy\n",
      "  \n",
      "D:\\program\\ananconda\\lib\\site-packages\\ipykernel_launcher.py:3: SettingWithCopyWarning: \n",
      "A value is trying to be set on a copy of a slice from a DataFrame.\n",
      "Try using .loc[row_indexer,col_indexer] = value instead\n",
      "\n",
      "See the caveats in the documentation: https://pandas.pydata.org/pandas-docs/stable/user_guide/indexing.html#returning-a-view-versus-a-copy\n",
      "  This is separate from the ipykernel package so we can avoid doing imports until\n"
     ]
    }
   ],
   "source": [
    "item2['year'] = item2['SDATE'].dt.year          \n",
    "item2['month'] = item2['SDATE'].dt.month\n",
    "item2['day']= item2['SDATE'].values.astype('datetime64[D]')#方便后续的分析，新增加年份列和月份列"
   ]
  },
  {
   "cell_type": "code",
   "execution_count": 22,
   "metadata": {},
   "outputs": [],
   "source": [
    "grouped_Customer1 = item2[['BASK_CODE','SDATE', 'ITEM_QUANTITY', 'month']].sort_values(['SDATE']).groupby('BASK_CODE')"
   ]
  },
  {
   "cell_type": "markdown",
   "metadata": {},
   "source": [
    "绘制用户第一次购买的日期分布图"
   ]
  },
  {
   "cell_type": "code",
   "execution_count": 23,
   "metadata": {},
   "outputs": [
    {
     "data": {
      "text/plain": [
       "<matplotlib.axes._subplots.AxesSubplot at 0x23690513408>"
      ]
     },
     "execution_count": 23,
     "metadata": {},
     "output_type": "execute_result"
    },
    {
     "data": {
      "image/png": "[encoded data removed]",
      "text/plain": [
       "<Figure size 432x288 with 1 Axes>"
      ]
     },
     "metadata": {
      "needs_background": "light"
     },
     "output_type": "display_data"
    }
   ],
   "source": [
    "grouped_Customer1.min().SDATE.value_counts().plot()   #用户的第一次购买日期分布，可以看出在7月之后用户增长缓"
   ]
  },
  {
   "cell_type": "markdown",
   "metadata": {},
   "source": [
    "绘制用户最后一次购买的日期分布图"
   ]
  },
  {
   "cell_type": "code",
   "execution_count": 24,
   "metadata": {
    "scrolled": true
   },
   "outputs": [
    {
     "data": {
      "text/plain": [
       "<matplotlib.axes._subplots.AxesSubplot at 0x2369067a448>"
      ]
     },
     "execution_count": 24,
     "metadata": {},
     "output_type": "execute_result"
    },
    {
     "data": {
      "image/png": "[encoded data removed]",
      "text/plain": [
       "<Figure size 432x288 with 1 Axes>"
      ]
     },
     "metadata": {
      "needs_background": "light"
     },
     "output_type": "display_data"
    }
   ],
   "source": [
    "grouped_Customer1.max().SDATE.value_counts().plot()   #用户最后一次购买日期分布,发现用户基本没有流失，也验证了每年销售额的增长趋势"
   ]
  },
  {
   "cell_type": "markdown",
   "metadata": {},
   "source": [
    "用户第一次购买的时间多集中在6月的上半月，最后一次购买时间多集中与7月份，因此该超市的顾客多为回头客。因此应注重服务质量以及控制零售品价格，以达到挽留更多老顾客的目的。"
   ]
  },
  {
   "cell_type": "markdown",
   "metadata": {},
   "source": [
    "## 4.3新老顾客占比"
   ]
  },
  {
   "cell_type": "code",
   "execution_count": 25,
   "metadata": {},
   "outputs": [
    {
     "data": {
      "text/plain": [
       "([<matplotlib.patches.Wedge at 0x2368fef5f48>,\n",
       "  <matplotlib.patches.Wedge at 0x2368fdd6c88>],\n",
       " [Text(-0.35210934383272846, 1.042122358452061, 'False'),\n",
       "  Text(0.35210924626219015, -1.0421223914189122, 'True')],\n",
       " [Text(-0.19205964209057913, 0.5684303773374877, '60.37%'),\n",
       "  Text(0.1920595888702855, -0.5684303953194066, '39.63%')])"
      ]
     },
     "execution_count": 25,
     "metadata": {},
     "output_type": "execute_result"
    },
    {
     "data": {
      "image/png": "[encoded data removed]",
      "text/plain": [
       "<Figure size 432x288 with 1 Axes>"
      ]
     },
     "metadata": {},
     "output_type": "display_data"
    }
   ],
   "source": [
    "# 统计每个客户第一次和最后一次购买记录\n",
    "Customer_life = grouped_Customer1.SDATE.agg(['min','max'])\n",
    "# 查看只有一次购买记录的顾客数量，第一次和最后一次是同一条记录，则说明购买只有一次(这里将一个购物篮看做一个顾客)\n",
    "(Customer_life['min'] == Customer_life['max']).value_counts()\n",
    "# 可视化（饼图）\n",
    "plt.pie((Customer_life['min'] == Customer_life['max']).value_counts(normalize = True),\n",
    "       autopct='%.2f%%',\n",
    "       labels = (Customer_life['min'] == Customer_life['max']).value_counts().index)"
   ]
  },
  {
   "cell_type": "markdown",
   "metadata": {},
   "source": [
    "## 4.4客单价分析"
   ]
  },
  {
   "cell_type": "markdown",
   "metadata": {},
   "source": [
    "客单价，即平均交易金额，是指平均每个客户交易金额，客单价等于成交金额/成交用户数。<br/>\n",
    "销售额是由客单价和用户数所决定的，要提升产品的销售额，除了尽可能多地吸引客流，增加顾客交易次数以外，提高客单价也是非常重要的途径。"
   ]
  },
  {
   "cell_type": "code",
   "execution_count": 26,
   "metadata": {},
   "outputs": [
    {
     "name": "stdout",
     "output_type": "stream",
     "text": [
      "319.065685439069\n"
     ]
    },
    {
     "name": "stderr",
     "output_type": "stream",
     "text": [
      "D:\\program\\ananconda\\lib\\site-packages\\ipykernel_launcher.py:1: SettingWithCopyWarning: \n",
      "A value is trying to be set on a copy of a slice from a DataFrame.\n",
      "Try using .loc[row_indexer,col_indexer] = value instead\n",
      "\n",
      "See the caveats in the documentation: https://pandas.pydata.org/pandas-docs/stable/user_guide/indexing.html#returning-a-view-versus-a-copy\n",
      "  \"\"\"Entry point for launching an IPython kernel.\n"
     ]
    }
   ],
   "source": [
    "item2['sales'] = item2['ITEM_QUANTITY']*item2['ITEM_SPEND']\n",
    "sumPrice=item2['sales'].sum()\n",
    "countID=item2['SDATE'].count()\n",
    "avgPrice = sumPrice/countID\n",
    "print(avgPrice)"
   ]
  },
  {
   "cell_type": "markdown",
   "metadata": {},
   "source": [
    "## 4.5 RFM模型分析"
   ]
  },
  {
   "cell_type": "markdown",
   "metadata": {},
   "source": [
    "RFM模型根据客户活跃程度和交易金额的贡献，进行客户价值细分的一种方法。<br/>\n",
    "R（Recency）——最近一次交易时间间隔。基于最近一次交易日期计算的得分，距离当前日期越近，得分越高。如5分制。反映客户交易活跃度。\n",
    "F（Frequency）——客户在最近一段时间内交易次数。基于交易频率计算的得分，交易频率越高，得分越高。如5分制。反映客户交易活跃度。<br/>\n",
    "M（Monetray）——客户最近一段时间内交易金额。基于交易金额计算的得分，交易金额越高，得分越高。如5分制。反映客户价值。"
   ]
  },
  {
   "cell_type": "code",
   "execution_count": 27,
   "metadata": {},
   "outputs": [],
   "source": [
    "# RFM用户分层\n",
    "rfm = basket2.pivot_table(index = 'BASK_CODE',\n",
    "                    values = ['STORE_CODE','BASK_SPEND','SHOP_DATETIME'],\n",
    "                    aggfunc= {'BASK_CODE':'count',\n",
    "                             'BASK_SPEND':'sum',\n",
    "                             'SHOP_DATETIME':'max'})"
   ]
  },
  {
   "cell_type": "code",
   "execution_count": 28,
   "metadata": {},
   "outputs": [
    {
     "data": {
      "text/html": [
       "<div>\n",
       "<style scoped>\n",
       "    .dataframe tbody tr th:only-of-type {\n",
       "        vertical-align: middle;\n",
       "    }\n",
       "\n",
       "    .dataframe tbody tr th {\n",
       "        vertical-align: top;\n",
       "    }\n",
       "\n",
       "    .dataframe thead th {\n",
       "        text-align: right;\n",
       "    }\n",
       "</style>\n",
       "<table border=\"1\" class=\"dataframe\">\n",
       "  <thead>\n",
       "    <tr style=\"text-align: right;\">\n",
       "      <th></th>\n",
       "      <th>BASK_CODE</th>\n",
       "      <th>BASK_SPEND</th>\n",
       "      <th>SHOP_DATETIME</th>\n",
       "    </tr>\n",
       "    <tr>\n",
       "      <th>BASK_CODE</th>\n",
       "      <th></th>\n",
       "      <th></th>\n",
       "      <th></th>\n",
       "    </tr>\n",
       "  </thead>\n",
       "  <tbody>\n",
       "    <tr>\n",
       "      <th>961</th>\n",
       "      <td>1</td>\n",
       "      <td>25.0</td>\n",
       "      <td>2018-06-18</td>\n",
       "    </tr>\n",
       "    <tr>\n",
       "      <th>962</th>\n",
       "      <td>1</td>\n",
       "      <td>132.1</td>\n",
       "      <td>2018-06-18</td>\n",
       "    </tr>\n",
       "    <tr>\n",
       "      <th>964</th>\n",
       "      <td>1</td>\n",
       "      <td>28.0</td>\n",
       "      <td>2018-06-18</td>\n",
       "    </tr>\n",
       "    <tr>\n",
       "      <th>965</th>\n",
       "      <td>1</td>\n",
       "      <td>40.0</td>\n",
       "      <td>2018-06-18</td>\n",
       "    </tr>\n",
       "    <tr>\n",
       "      <th>966</th>\n",
       "      <td>1</td>\n",
       "      <td>12.5</td>\n",
       "      <td>2018-06-18</td>\n",
       "    </tr>\n",
       "  </tbody>\n",
       "</table>\n",
       "</div>"
      ],
      "text/plain": [
       "           BASK_CODE  BASK_SPEND SHOP_DATETIME\n",
       "BASK_CODE                                     \n",
       "961                1        25.0    2018-06-18\n",
       "962                1       132.1    2018-06-18\n",
       "964                1        28.0    2018-06-18\n",
       "965                1        40.0    2018-06-18\n",
       "966                1        12.5    2018-06-18"
      ]
     },
     "execution_count": 28,
     "metadata": {},
     "output_type": "execute_result"
    }
   ],
   "source": [
    "rfm.head()"
   ]
  },
  {
   "cell_type": "code",
   "execution_count": 29,
   "metadata": {},
   "outputs": [],
   "source": [
    "rfm['R'] = (rfm.SHOP_DATETIME.max() - rfm.SHOP_DATETIME) / np.timedelta64(1,'D')\n",
    "rfm.rename(columns={'BASK_CODE':'F','BASK_SPEND':'M'},inplace = True)"
   ]
  },
  {
   "cell_type": "code",
   "execution_count": 30,
   "metadata": {},
   "outputs": [
    {
     "data": {
      "text/html": [
       "<div>\n",
       "<style scoped>\n",
       "    .dataframe tbody tr th:only-of-type {\n",
       "        vertical-align: middle;\n",
       "    }\n",
       "\n",
       "    .dataframe tbody tr th {\n",
       "        vertical-align: top;\n",
       "    }\n",
       "\n",
       "    .dataframe thead th {\n",
       "        text-align: right;\n",
       "    }\n",
       "</style>\n",
       "<table border=\"1\" class=\"dataframe\">\n",
       "  <thead>\n",
       "    <tr style=\"text-align: right;\">\n",
       "      <th></th>\n",
       "      <th>F</th>\n",
       "      <th>M</th>\n",
       "      <th>SHOP_DATETIME</th>\n",
       "      <th>R</th>\n",
       "    </tr>\n",
       "    <tr>\n",
       "      <th>BASK_CODE</th>\n",
       "      <th></th>\n",
       "      <th></th>\n",
       "      <th></th>\n",
       "      <th></th>\n",
       "    </tr>\n",
       "  </thead>\n",
       "  <tbody>\n",
       "    <tr>\n",
       "      <th>961</th>\n",
       "      <td>1</td>\n",
       "      <td>25.0</td>\n",
       "      <td>2018-06-18</td>\n",
       "      <td>17.0</td>\n",
       "    </tr>\n",
       "    <tr>\n",
       "      <th>962</th>\n",
       "      <td>1</td>\n",
       "      <td>132.1</td>\n",
       "      <td>2018-06-18</td>\n",
       "      <td>17.0</td>\n",
       "    </tr>\n",
       "    <tr>\n",
       "      <th>964</th>\n",
       "      <td>1</td>\n",
       "      <td>28.0</td>\n",
       "      <td>2018-06-18</td>\n",
       "      <td>17.0</td>\n",
       "    </tr>\n",
       "    <tr>\n",
       "      <th>965</th>\n",
       "      <td>1</td>\n",
       "      <td>40.0</td>\n",
       "      <td>2018-06-18</td>\n",
       "      <td>17.0</td>\n",
       "    </tr>\n",
       "    <tr>\n",
       "      <th>966</th>\n",
       "      <td>1</td>\n",
       "      <td>12.5</td>\n",
       "      <td>2018-06-18</td>\n",
       "      <td>17.0</td>\n",
       "    </tr>\n",
       "    <tr>\n",
       "      <th>...</th>\n",
       "      <td>...</td>\n",
       "      <td>...</td>\n",
       "      <td>...</td>\n",
       "      <td>...</td>\n",
       "    </tr>\n",
       "    <tr>\n",
       "      <th>323910</th>\n",
       "      <td>1</td>\n",
       "      <td>9.0</td>\n",
       "      <td>2018-07-05</td>\n",
       "      <td>0.0</td>\n",
       "    </tr>\n",
       "    <tr>\n",
       "      <th>323911</th>\n",
       "      <td>1</td>\n",
       "      <td>17.4</td>\n",
       "      <td>2018-07-05</td>\n",
       "      <td>0.0</td>\n",
       "    </tr>\n",
       "    <tr>\n",
       "      <th>323912</th>\n",
       "      <td>1</td>\n",
       "      <td>5.9</td>\n",
       "      <td>2018-07-05</td>\n",
       "      <td>0.0</td>\n",
       "    </tr>\n",
       "    <tr>\n",
       "      <th>323913</th>\n",
       "      <td>1</td>\n",
       "      <td>1.0</td>\n",
       "      <td>2018-07-05</td>\n",
       "      <td>0.0</td>\n",
       "    </tr>\n",
       "    <tr>\n",
       "      <th>323914</th>\n",
       "      <td>1</td>\n",
       "      <td>5.0</td>\n",
       "      <td>2018-07-05</td>\n",
       "      <td>0.0</td>\n",
       "    </tr>\n",
       "  </tbody>\n",
       "</table>\n",
       "<p>280816 rows × 4 columns</p>\n",
       "</div>"
      ],
      "text/plain": [
       "           F      M SHOP_DATETIME     R\n",
       "BASK_CODE                              \n",
       "961        1   25.0    2018-06-18  17.0\n",
       "962        1  132.1    2018-06-18  17.0\n",
       "964        1   28.0    2018-06-18  17.0\n",
       "965        1   40.0    2018-06-18  17.0\n",
       "966        1   12.5    2018-06-18  17.0\n",
       "...       ..    ...           ...   ...\n",
       "323910     1    9.0    2018-07-05   0.0\n",
       "323911     1   17.4    2018-07-05   0.0\n",
       "323912     1    5.9    2018-07-05   0.0\n",
       "323913     1    1.0    2018-07-05   0.0\n",
       "323914     1    5.0    2018-07-05   0.0\n",
       "\n",
       "[280816 rows x 4 columns]"
      ]
     },
     "execution_count": 30,
     "metadata": {},
     "output_type": "execute_result"
    }
   ],
   "source": [
    "rfm"
   ]
  },
  {
   "cell_type": "markdown",
   "metadata": {},
   "source": [
    "## 建立RFM模型"
   ]
  },
  {
   "cell_type": "code",
   "execution_count": 31,
   "metadata": {},
   "outputs": [],
   "source": [
    "def rfm_func(x):\n",
    "    level = x.apply(lambda x:'1' if x > 0 else '0')\n",
    "    label = level.R +level.F + level.M\n",
    "    d = {\n",
    "        '111':'重要价值客户',\n",
    "        '011':'重要保持客户',\n",
    "        '101':'重要发展客户',\n",
    "        '001':'重要挽留客户',\n",
    "        '110':'一般价值客户',\n",
    "        '010':'一般保持客户',\n",
    "        '100':'一般发展客户',\n",
    "        '000':'一般挽留客户'\n",
    "    }\n",
    "    result = d[label]\n",
    "    return result\n",
    "rfm['label'] = rfm[['R','F','M']].apply(lambda x : x - x.mean()).apply(rfm_func,axis=1)"
   ]
  },
  {
   "cell_type": "code",
   "execution_count": 32,
   "metadata": {},
   "outputs": [
    {
     "data": {
      "text/html": [
       "<div>\n",
       "<style scoped>\n",
       "    .dataframe tbody tr th:only-of-type {\n",
       "        vertical-align: middle;\n",
       "    }\n",
       "\n",
       "    .dataframe tbody tr th {\n",
       "        vertical-align: top;\n",
       "    }\n",
       "\n",
       "    .dataframe thead th {\n",
       "        text-align: right;\n",
       "    }\n",
       "</style>\n",
       "<table border=\"1\" class=\"dataframe\">\n",
       "  <thead>\n",
       "    <tr style=\"text-align: right;\">\n",
       "      <th></th>\n",
       "      <th>F</th>\n",
       "      <th>M</th>\n",
       "      <th>R</th>\n",
       "    </tr>\n",
       "    <tr>\n",
       "      <th>label</th>\n",
       "      <th></th>\n",
       "      <th></th>\n",
       "      <th></th>\n",
       "    </tr>\n",
       "  </thead>\n",
       "  <tbody>\n",
       "    <tr>\n",
       "      <th>一般价值客户</th>\n",
       "      <td>24142</td>\n",
       "      <td>390991.43</td>\n",
       "      <td>136245.0</td>\n",
       "    </tr>\n",
       "    <tr>\n",
       "      <th>一般保持客户</th>\n",
       "      <td>78408</td>\n",
       "      <td>1245849.52</td>\n",
       "      <td>121598.0</td>\n",
       "    </tr>\n",
       "    <tr>\n",
       "      <th>一般发展客户</th>\n",
       "      <td>117098</td>\n",
       "      <td>2568485.95</td>\n",
       "      <td>1965610.0</td>\n",
       "    </tr>\n",
       "    <tr>\n",
       "      <th>一般挽留客户</th>\n",
       "      <td>102901</td>\n",
       "      <td>2110018.61</td>\n",
       "      <td>393603.0</td>\n",
       "    </tr>\n",
       "    <tr>\n",
       "      <th>重要价值客户</th>\n",
       "      <td>36373</td>\n",
       "      <td>1951109.06</td>\n",
       "      <td>190993.0</td>\n",
       "    </tr>\n",
       "    <tr>\n",
       "      <th>重要保持客户</th>\n",
       "      <td>144084</td>\n",
       "      <td>7526893.87</td>\n",
       "      <td>188421.0</td>\n",
       "    </tr>\n",
       "    <tr>\n",
       "      <th>重要发展客户</th>\n",
       "      <td>34998</td>\n",
       "      <td>3760221.04</td>\n",
       "      <td>454196.0</td>\n",
       "    </tr>\n",
       "    <tr>\n",
       "      <th>重要挽留客户</th>\n",
       "      <td>31793</td>\n",
       "      <td>3000817.29</td>\n",
       "      <td>93646.0</td>\n",
       "    </tr>\n",
       "  </tbody>\n",
       "</table>\n",
       "</div>"
      ],
      "text/plain": [
       "             F           M          R\n",
       "label                                \n",
       "一般价值客户   24142   390991.43   136245.0\n",
       "一般保持客户   78408  1245849.52   121598.0\n",
       "一般发展客户  117098  2568485.95  1965610.0\n",
       "一般挽留客户  102901  2110018.61   393603.0\n",
       "重要价值客户   36373  1951109.06   190993.0\n",
       "重要保持客户  144084  7526893.87   188421.0\n",
       "重要发展客户   34998  3760221.04   454196.0\n",
       "重要挽留客户   31793  3000817.29    93646.0"
      ]
     },
     "execution_count": 32,
     "metadata": {},
     "output_type": "execute_result"
    }
   ],
   "source": [
    "rfm.groupby('label').sum()"
   ]
  },
  {
   "cell_type": "code",
   "execution_count": 33,
   "metadata": {},
   "outputs": [
    {
     "data": {
      "text/html": [
       "<div>\n",
       "<style scoped>\n",
       "    .dataframe tbody tr th:only-of-type {\n",
       "        vertical-align: middle;\n",
       "    }\n",
       "\n",
       "    .dataframe tbody tr th {\n",
       "        vertical-align: top;\n",
       "    }\n",
       "\n",
       "    .dataframe thead th {\n",
       "        text-align: right;\n",
       "    }\n",
       "</style>\n",
       "<table border=\"1\" class=\"dataframe\">\n",
       "  <thead>\n",
       "    <tr style=\"text-align: right;\">\n",
       "      <th></th>\n",
       "      <th>F</th>\n",
       "      <th>M</th>\n",
       "      <th>SHOP_DATETIME</th>\n",
       "      <th>R</th>\n",
       "    </tr>\n",
       "    <tr>\n",
       "      <th>label</th>\n",
       "      <th></th>\n",
       "      <th></th>\n",
       "      <th></th>\n",
       "      <th></th>\n",
       "    </tr>\n",
       "  </thead>\n",
       "  <tbody>\n",
       "    <tr>\n",
       "      <th>一般价值客户</th>\n",
       "      <td>7660</td>\n",
       "      <td>7660</td>\n",
       "      <td>7660</td>\n",
       "      <td>7660</td>\n",
       "    </tr>\n",
       "    <tr>\n",
       "      <th>一般保持客户</th>\n",
       "      <td>24357</td>\n",
       "      <td>24357</td>\n",
       "      <td>24357</td>\n",
       "      <td>24357</td>\n",
       "    </tr>\n",
       "    <tr>\n",
       "      <th>一般发展客户</th>\n",
       "      <td>89623</td>\n",
       "      <td>89623</td>\n",
       "      <td>89623</td>\n",
       "      <td>89623</td>\n",
       "    </tr>\n",
       "    <tr>\n",
       "      <th>一般挽留客户</th>\n",
       "      <td>69282</td>\n",
       "      <td>69282</td>\n",
       "      <td>69282</td>\n",
       "      <td>69282</td>\n",
       "    </tr>\n",
       "    <tr>\n",
       "      <th>重要价值客户</th>\n",
       "      <td>10875</td>\n",
       "      <td>10875</td>\n",
       "      <td>10875</td>\n",
       "      <td>10875</td>\n",
       "    </tr>\n",
       "    <tr>\n",
       "      <th>重要保持客户</th>\n",
       "      <td>39323</td>\n",
       "      <td>39323</td>\n",
       "      <td>39323</td>\n",
       "      <td>39323</td>\n",
       "    </tr>\n",
       "    <tr>\n",
       "      <th>重要发展客户</th>\n",
       "      <td>21908</td>\n",
       "      <td>21908</td>\n",
       "      <td>21908</td>\n",
       "      <td>21908</td>\n",
       "    </tr>\n",
       "    <tr>\n",
       "      <th>重要挽留客户</th>\n",
       "      <td>17788</td>\n",
       "      <td>17788</td>\n",
       "      <td>17788</td>\n",
       "      <td>17788</td>\n",
       "    </tr>\n",
       "  </tbody>\n",
       "</table>\n",
       "</div>"
      ],
      "text/plain": [
       "            F      M  SHOP_DATETIME      R\n",
       "label                                     \n",
       "一般价值客户   7660   7660           7660   7660\n",
       "一般保持客户  24357  24357          24357  24357\n",
       "一般发展客户  89623  89623          89623  89623\n",
       "一般挽留客户  69282  69282          69282  69282\n",
       "重要价值客户  10875  10875          10875  10875\n",
       "重要保持客户  39323  39323          39323  39323\n",
       "重要发展客户  21908  21908          21908  21908\n",
       "重要挽留客户  17788  17788          17788  17788"
      ]
     },
     "execution_count": 33,
     "metadata": {},
     "output_type": "execute_result"
    }
   ],
   "source": [
    "rfm.groupby('label').count()"
   ]
  },
  {
   "cell_type": "code",
   "execution_count": 34,
   "metadata": {},
   "outputs": [
    {
     "data": {
      "text/plain": [
       "<matplotlib.axes._subplots.AxesSubplot at 0x23690413208>"
      ]
     },
     "execution_count": 34,
     "metadata": {},
     "output_type": "execute_result"
    },
    {
     "data": {
      "image/png": "[encoded data removed]",
      "text/plain": [
       "<Figure size 432x288 with 1 Axes>"
      ]
     },
     "metadata": {
      "needs_background": "light"
     },
     "output_type": "display_data"
    }
   ],
   "source": [
    "rfm.loc[rfm.label == '重要价值客户','color'] = 'g'\n",
    "rfm.loc[rfm.label != '重要价值客户','color'] = 'r'\n",
    "rfm.plot.scatter('F','R',c = rfm.color)"
   ]
  },
  {
   "cell_type": "markdown",
   "metadata": {},
   "source": [
    "# 5.产品分析"
   ]
  },
  {
   "cell_type": "markdown",
   "metadata": {},
   "source": [
    "## 5.1最受欢迎产品分析"
   ]
  },
  {
   "cell_type": "markdown",
   "metadata": {},
   "source": [
    "创建销售量前十的商品代码表"
   ]
  },
  {
   "cell_type": "code",
   "execution_count": 35,
   "metadata": {},
   "outputs": [
    {
     "data": {
      "text/html": [
       "<div>\n",
       "<style scoped>\n",
       "    .dataframe tbody tr th:only-of-type {\n",
       "        vertical-align: middle;\n",
       "    }\n",
       "\n",
       "    .dataframe tbody tr th {\n",
       "        vertical-align: top;\n",
       "    }\n",
       "\n",
       "    .dataframe thead th {\n",
       "        text-align: right;\n",
       "    }\n",
       "</style>\n",
       "<table border=\"1\" class=\"dataframe\">\n",
       "  <thead>\n",
       "    <tr style=\"text-align: right;\">\n",
       "      <th></th>\n",
       "      <th>PROD_CODE</th>\n",
       "      <th>ITEM_QUANTITY</th>\n",
       "    </tr>\n",
       "  </thead>\n",
       "  <tbody>\n",
       "    <tr>\n",
       "      <th>8527</th>\n",
       "      <td>149413</td>\n",
       "      <td>37718.000</td>\n",
       "    </tr>\n",
       "    <tr>\n",
       "      <th>5316</th>\n",
       "      <td>86772</td>\n",
       "      <td>28661.000</td>\n",
       "    </tr>\n",
       "    <tr>\n",
       "      <th>17199</th>\n",
       "      <td>220834</td>\n",
       "      <td>24139.000</td>\n",
       "    </tr>\n",
       "    <tr>\n",
       "      <th>1478</th>\n",
       "      <td>7133</td>\n",
       "      <td>21673.000</td>\n",
       "    </tr>\n",
       "    <tr>\n",
       "      <th>3883</th>\n",
       "      <td>61623</td>\n",
       "      <td>21318.000</td>\n",
       "    </tr>\n",
       "    <tr>\n",
       "      <th>7131</th>\n",
       "      <td>124556</td>\n",
       "      <td>18775.000</td>\n",
       "    </tr>\n",
       "    <tr>\n",
       "      <th>12010</th>\n",
       "      <td>194690</td>\n",
       "      <td>18119.336</td>\n",
       "    </tr>\n",
       "    <tr>\n",
       "      <th>301</th>\n",
       "      <td>1152</td>\n",
       "      <td>17679.000</td>\n",
       "    </tr>\n",
       "    <tr>\n",
       "      <th>7129</th>\n",
       "      <td>124554</td>\n",
       "      <td>15717.000</td>\n",
       "    </tr>\n",
       "    <tr>\n",
       "      <th>1480</th>\n",
       "      <td>7137</td>\n",
       "      <td>15284.000</td>\n",
       "    </tr>\n",
       "  </tbody>\n",
       "</table>\n",
       "</div>"
      ],
      "text/plain": [
       "       PROD_CODE  ITEM_QUANTITY\n",
       "8527      149413      37718.000\n",
       "5316       86772      28661.000\n",
       "17199     220834      24139.000\n",
       "1478        7133      21673.000\n",
       "3883       61623      21318.000\n",
       "7131      124556      18775.000\n",
       "12010     194690      18119.336\n",
       "301         1152      17679.000\n",
       "7129      124554      15717.000\n",
       "1480        7137      15284.000"
      ]
     },
     "execution_count": 35,
     "metadata": {},
     "output_type": "execute_result"
    }
   ],
   "source": [
    "#按商品货号分组，对商品数量进行求和，从大到小进行排序，得到销售量前十的商品\n",
    "a=item2.groupby('PROD_CODE')['ITEM_QUANTITY'].sum().reset_index().sort_values(by = 'ITEM_QUANTITY',ascending = False)#商店按消费额大小排序\n",
    "a.head(10)"
   ]
  },
  {
   "cell_type": "markdown",
   "metadata": {},
   "source": [
    "由上表可见，最受欢迎的产品为编号149413，对于比较受欢迎的产品，商家应注意及时补货，并摆在比较显眼位置。"
   ]
  },
  {
   "cell_type": "markdown",
   "metadata": {},
   "source": [
    "## 5.2产品交易额分析"
   ]
  },
  {
   "cell_type": "markdown",
   "metadata": {},
   "source": [
    "按商品货号分组，对销售金额进行求和，从大到小进行排序，得到交易额前十的商品"
   ]
  },
  {
   "cell_type": "code",
   "execution_count": 36,
   "metadata": {
    "scrolled": true
   },
   "outputs": [
    {
     "name": "stderr",
     "output_type": "stream",
     "text": [
      "D:\\program\\ananconda\\lib\\site-packages\\ipykernel_launcher.py:2: SettingWithCopyWarning: \n",
      "A value is trying to be set on a copy of a slice from a DataFrame.\n",
      "Try using .loc[row_indexer,col_indexer] = value instead\n",
      "\n",
      "See the caveats in the documentation: https://pandas.pydata.org/pandas-docs/stable/user_guide/indexing.html#returning-a-view-versus-a-copy\n",
      "  \n"
     ]
    },
    {
     "data": {
      "text/plain": [
       "PROD_CODE\n",
       "220834    6.570246e+07\n",
       "149413    5.511544e+07\n",
       "7137      5.361133e+07\n",
       "101421    4.113461e+07\n",
       "11929     3.062564e+07\n",
       "7133      2.570728e+07\n",
       "220320    1.659394e+07\n",
       "199639    1.496307e+07\n",
       "1157      1.232104e+07\n",
       "199628    1.165345e+07\n",
       "Name: sales, dtype: float64"
      ]
     },
     "execution_count": 36,
     "metadata": {},
     "output_type": "execute_result"
    }
   ],
   "source": [
    "#按商品货号分组，对销售金额进行求和，从大到小进行排序，得到交易额前十的商品\n",
    "item2['sales'] = item2['ITEM_QUANTITY']*item2['ITEM_SPEND']\n",
    "b=item2.groupby('PROD_CODE')['sales'].sum().sort_values(ascending=False)\n",
    "b.head(10)"
   ]
  },
  {
   "cell_type": "markdown",
   "metadata": {},
   "source": [
    "## 5.3产品折扣与销售额分析"
   ]
  },
  {
   "cell_type": "code",
   "execution_count": 37,
   "metadata": {},
   "outputs": [
    {
     "data": {
      "text/html": [
       "<div>\n",
       "<style scoped>\n",
       "    .dataframe tbody tr th:only-of-type {\n",
       "        vertical-align: middle;\n",
       "    }\n",
       "\n",
       "    .dataframe tbody tr th {\n",
       "        vertical-align: top;\n",
       "    }\n",
       "\n",
       "    .dataframe thead th {\n",
       "        text-align: right;\n",
       "    }\n",
       "</style>\n",
       "<table border=\"1\" class=\"dataframe\">\n",
       "  <thead>\n",
       "    <tr style=\"text-align: right;\">\n",
       "      <th></th>\n",
       "      <th>DISCOUNT_TYPE</th>\n",
       "      <th>ITEM_SPEND</th>\n",
       "    </tr>\n",
       "  </thead>\n",
       "  <tbody>\n",
       "    <tr>\n",
       "      <th>3</th>\n",
       "      <td>n</td>\n",
       "      <td>1.370020e+07</td>\n",
       "    </tr>\n",
       "    <tr>\n",
       "      <th>4</th>\n",
       "      <td>p</td>\n",
       "      <td>4.992203e+06</td>\n",
       "    </tr>\n",
       "    <tr>\n",
       "      <th>2</th>\n",
       "      <td>m</td>\n",
       "      <td>1.954608e+06</td>\n",
       "    </tr>\n",
       "    <tr>\n",
       "      <th>7</th>\n",
       "      <td>v</td>\n",
       "      <td>1.910762e+05</td>\n",
       "    </tr>\n",
       "    <tr>\n",
       "      <th>8</th>\n",
       "      <td>x</td>\n",
       "      <td>9.161940e+04</td>\n",
       "    </tr>\n",
       "    <tr>\n",
       "      <th>5</th>\n",
       "      <td>q</td>\n",
       "      <td>4.618240e+04</td>\n",
       "    </tr>\n",
       "    <tr>\n",
       "      <th>0</th>\n",
       "      <td>Z</td>\n",
       "      <td>2.479515e+04</td>\n",
       "    </tr>\n",
       "    <tr>\n",
       "      <th>6</th>\n",
       "      <td>s</td>\n",
       "      <td>9.228600e+02</td>\n",
       "    </tr>\n",
       "    <tr>\n",
       "      <th>1</th>\n",
       "      <td>h</td>\n",
       "      <td>2.150000e+01</td>\n",
       "    </tr>\n",
       "  </tbody>\n",
       "</table>\n",
       "</div>"
      ],
      "text/plain": [
       "  DISCOUNT_TYPE    ITEM_SPEND\n",
       "3             n  1.370020e+07\n",
       "4             p  4.992203e+06\n",
       "2             m  1.954608e+06\n",
       "7             v  1.910762e+05\n",
       "8             x  9.161940e+04\n",
       "5             q  4.618240e+04\n",
       "0             Z  2.479515e+04\n",
       "6             s  9.228600e+02\n",
       "1             h  2.150000e+01"
      ]
     },
     "execution_count": 37,
     "metadata": {},
     "output_type": "execute_result"
    }
   ],
   "source": [
    "c=item2.groupby('DISCOUNT_TYPE')['ITEM_SPEND'].sum().reset_index().sort_values(by = 'ITEM_SPEND',ascending = False)#销售量按照折扣进行分组并进行大小排序\n",
    "c"
   ]
  },
  {
   "cell_type": "markdown",
   "metadata": {},
   "source": [
    "## 5.4产品折扣与销售量分析"
   ]
  },
  {
   "cell_type": "code",
   "execution_count": 38,
   "metadata": {},
   "outputs": [
    {
     "data": {
      "text/html": [
       "<div>\n",
       "<style scoped>\n",
       "    .dataframe tbody tr th:only-of-type {\n",
       "        vertical-align: middle;\n",
       "    }\n",
       "\n",
       "    .dataframe tbody tr th {\n",
       "        vertical-align: top;\n",
       "    }\n",
       "\n",
       "    .dataframe thead th {\n",
       "        text-align: right;\n",
       "    }\n",
       "</style>\n",
       "<table border=\"1\" class=\"dataframe\">\n",
       "  <thead>\n",
       "    <tr style=\"text-align: right;\">\n",
       "      <th></th>\n",
       "      <th>DISCOUNT_TYPE</th>\n",
       "      <th>ITEM_QUANTITY</th>\n",
       "    </tr>\n",
       "  </thead>\n",
       "  <tbody>\n",
       "    <tr>\n",
       "      <th>3</th>\n",
       "      <td>n</td>\n",
       "      <td>1496483.291</td>\n",
       "    </tr>\n",
       "    <tr>\n",
       "      <th>4</th>\n",
       "      <td>p</td>\n",
       "      <td>462191.611</td>\n",
       "    </tr>\n",
       "    <tr>\n",
       "      <th>2</th>\n",
       "      <td>m</td>\n",
       "      <td>265343.962</td>\n",
       "    </tr>\n",
       "    <tr>\n",
       "      <th>7</th>\n",
       "      <td>v</td>\n",
       "      <td>13264.000</td>\n",
       "    </tr>\n",
       "    <tr>\n",
       "      <th>8</th>\n",
       "      <td>x</td>\n",
       "      <td>9687.000</td>\n",
       "    </tr>\n",
       "    <tr>\n",
       "      <th>0</th>\n",
       "      <td>Z</td>\n",
       "      <td>2164.472</td>\n",
       "    </tr>\n",
       "    <tr>\n",
       "      <th>5</th>\n",
       "      <td>q</td>\n",
       "      <td>1122.000</td>\n",
       "    </tr>\n",
       "    <tr>\n",
       "      <th>6</th>\n",
       "      <td>s</td>\n",
       "      <td>224.506</td>\n",
       "    </tr>\n",
       "    <tr>\n",
       "      <th>1</th>\n",
       "      <td>h</td>\n",
       "      <td>1.000</td>\n",
       "    </tr>\n",
       "  </tbody>\n",
       "</table>\n",
       "</div>"
      ],
      "text/plain": [
       "  DISCOUNT_TYPE  ITEM_QUANTITY\n",
       "3             n    1496483.291\n",
       "4             p     462191.611\n",
       "2             m     265343.962\n",
       "7             v      13264.000\n",
       "8             x       9687.000\n",
       "0             Z       2164.472\n",
       "5             q       1122.000\n",
       "6             s        224.506\n",
       "1             h          1.000"
      ]
     },
     "execution_count": 38,
     "metadata": {},
     "output_type": "execute_result"
    }
   ],
   "source": [
    "d=item2.groupby('DISCOUNT_TYPE')['ITEM_QUANTITY'].sum().reset_index().sort_values(by = 'ITEM_QUANTITY',ascending = False)#销售量按照折扣进行分组并进行大小排序\n",
    "d"
   ]
  },
  {
   "cell_type": "code",
   "execution_count": null,
   "metadata": {},
   "outputs": [],
   "source": []
  }
 ],
 "metadata": {
  "kernelspec": {
   "display_name": "Python 3",
   "language": "python",
   "name": "python3"
  },
  "language_info": {
   "codemirror_mode": {
    "name": "ipython",
    "version": 3
   },
   "file_extension": ".py",
   "mimetype": "text/x-python",
   "name": "python",
   "nbconvert_exporter": "python",
   "pygments_lexer": "ipython3",
   "version": "3.7.6"
  }
 },
 "nbformat": 4,
 "nbformat_minor": 4
}
