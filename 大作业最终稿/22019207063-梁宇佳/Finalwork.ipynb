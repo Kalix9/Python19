{
 "cells": [
  {
   "cell_type": "markdown",
   "metadata": {},
   "source": [
    "# 分析报告"
   ]
  },
  {
   "cell_type": "markdown",
   "metadata": {},
   "source": [
    "### 22019207063 梁宇佳"
   ]
  },
  {
   "cell_type": "markdown",
   "metadata": {},
   "source": [
    "## 一、导入所需包"
   ]
  },
  {
   "cell_type": "code",
   "execution_count": 1,
   "metadata": {},
   "outputs": [],
   "source": [
    "import numpy as np\n",
    "import pandas as pd\n",
    "import matplotlib as mpl\n",
    "import matplotlib.pyplot as plt\n",
    "%matplotlib inline"
   ]
  },
  {
   "cell_type": "markdown",
   "metadata": {},
   "source": [
    "## 二、导入数据以及数据预处理"
   ]
  },
  {
   "cell_type": "markdown",
   "metadata": {},
   "source": [
    "导入Basket和Item表,并显示前5行"
   ]
  },
  {
   "cell_type": "code",
   "execution_count": 3,
   "metadata": {},
   "outputs": [
    {
     "name": "stdout",
     "output_type": "stream",
     "text": [
      "  SHOP_DATETIME STORE_CODE  POS_NO  BASK_CODE  BASK_SPEND\n",
      "0    2018-06-01       D007       3     250458         8.0\n",
      "1    2018-06-01       D007       3     250200        32.7\n",
      "2    2018-06-01       D007       1     161068        16.8\n",
      "3    2018-06-01       D007       8       5325        30.4\n",
      "4    2018-06-01       D007       8       5361       191.3\n",
      "        SDATE STORE_CODE  POSID  BASK_CODE  PROD_CODE  ITEM_QUANTITY  \\\n",
      "0  2018-06-01       D007      3     250451      29405          1.000   \n",
      "1  2018-06-01       D007      3     250451      13187          1.000   \n",
      "2  2018-06-01       D007      3     250243     196249          1.000   \n",
      "3  2018-06-01       D007      3     250243     199637          1.000   \n",
      "4  2018-06-01       D007      1     160905     195012          3.222   \n",
      "\n",
      "   ITEM_SPEND  NORMAL_PRICE DISCOUNT_TYPE  DISCOUNT_AMOUNT  \n",
      "0        1.70           2.0             m             -0.3  \n",
      "1        1.00           1.0             n              0.0  \n",
      "2       99.00          99.0             m              0.0  \n",
      "3        9.90          16.8             p             -6.9  \n",
      "4       18.69           5.8             n              0.0  \n"
     ]
    }
   ],
   "source": [
    "myData1=pd.read_csv('Basket-2018-06-01-2018-07-05.csv', encoding=\"gbk\")\n",
    "myData2=pd.read_csv('item-2018-06-01-2018-07-05.csv', encoding=\"gbk\")\n",
    "\n",
    "print(myData1.head(5))\n",
    "print(myData2.head(5))"
   ]
  },
  {
   "cell_type": "markdown",
   "metadata": {},
   "source": [
    "检验是否有缺失值并删除"
   ]
  },
  {
   "cell_type": "code",
   "execution_count": 4,
   "metadata": {},
   "outputs": [
    {
     "name": "stdout",
     "output_type": "stream",
     "text": [
      "SHOP_DATETIME    False\n",
      "STORE_CODE       False\n",
      "POS_NO           False\n",
      "BASK_CODE        False\n",
      "BASK_SPEND       False\n",
      "dtype: bool\n",
      "******************************\n",
      "SDATE              False\n",
      "STORE_CODE         False\n",
      "POSID              False\n",
      "BASK_CODE          False\n",
      "PROD_CODE          False\n",
      "ITEM_QUANTITY      False\n",
      "ITEM_SPEND         False\n",
      "NORMAL_PRICE       False\n",
      "DISCOUNT_TYPE      False\n",
      "DISCOUNT_AMOUNT    False\n",
      "dtype: bool\n"
     ]
    }
   ],
   "source": [
    "print(myData1.isnull().any())\n",
    "print(\"*\"*30)\n",
    "print(myData2.isnull().any())"
   ]
  },
  {
   "cell_type": "markdown",
   "metadata": {},
   "source": [
    "## 三、数据分析"
   ]
  },
  {
   "cell_type": "code",
   "execution_count": 15,
   "metadata": {},
   "outputs": [
    {
     "data": {
      "text/plain": [
       "19264"
      ]
     },
     "execution_count": 15,
     "metadata": {},
     "output_type": "execute_result"
    }
   ],
   "source": [
    "#商品数据基本情况\n",
    "prod = list(data2['PROD_CODE'].unique())   \n",
    "len(prod) "
   ]
  },
  {
   "cell_type": "code",
   "execution_count": 16,
   "metadata": {},
   "outputs": [
    {
     "data": {
      "text/html": [
       "<div>\n",
       "<style scoped>\n",
       "    .dataframe tbody tr th:only-of-type {\n",
       "        vertical-align: middle;\n",
       "    }\n",
       "\n",
       "    .dataframe tbody tr th {\n",
       "        vertical-align: top;\n",
       "    }\n",
       "\n",
       "    .dataframe thead th {\n",
       "        text-align: right;\n",
       "    }\n",
       "</style>\n",
       "<table border=\"1\" class=\"dataframe\">\n",
       "  <thead>\n",
       "    <tr style=\"text-align: right;\">\n",
       "      <th></th>\n",
       "      <th>PROD_CODE</th>\n",
       "    </tr>\n",
       "  </thead>\n",
       "  <tbody>\n",
       "    <tr>\n",
       "      <th>21835</th>\n",
       "      <td>10417</td>\n",
       "    </tr>\n",
       "    <tr>\n",
       "      <th>194690</th>\n",
       "      <td>9498</td>\n",
       "    </tr>\n",
       "    <tr>\n",
       "      <th>205540</th>\n",
       "      <td>8422</td>\n",
       "    </tr>\n",
       "    <tr>\n",
       "      <th>72811</th>\n",
       "      <td>7733</td>\n",
       "    </tr>\n",
       "    <tr>\n",
       "      <th>197532</th>\n",
       "      <td>6420</td>\n",
       "    </tr>\n",
       "    <tr>\n",
       "      <th>205437</th>\n",
       "      <td>5945</td>\n",
       "    </tr>\n",
       "    <tr>\n",
       "      <th>1557</th>\n",
       "      <td>5549</td>\n",
       "    </tr>\n",
       "    <tr>\n",
       "      <th>75283</th>\n",
       "      <td>5338</td>\n",
       "    </tr>\n",
       "    <tr>\n",
       "      <th>216571</th>\n",
       "      <td>5073</td>\n",
       "    </tr>\n",
       "    <tr>\n",
       "      <th>198366</th>\n",
       "      <td>4860</td>\n",
       "    </tr>\n",
       "  </tbody>\n",
       "</table>\n",
       "</div>"
      ],
      "text/plain": [
       "        PROD_CODE\n",
       "21835       10417\n",
       "194690       9498\n",
       "205540       8422\n",
       "72811        7733\n",
       "197532       6420\n",
       "205437       5945\n",
       "1557         5549\n",
       "75283        5338\n",
       "216571       5073\n",
       "198366       4860"
      ]
     },
     "execution_count": 16,
     "metadata": {},
     "output_type": "execute_result"
    }
   ],
   "source": [
    "#售出的商品数量\n",
    "b = pd.DataFrame(data2['PROD_CODE'].value_counts()) # 统计每个唯一值出现了多少次\n",
    "bhead=b.head(10)\n",
    "bhead"
   ]
  },
  {
   "cell_type": "code",
   "execution_count": 17,
   "metadata": {},
   "outputs": [
    {
     "data": {
      "text/plain": [
       "<matplotlib.axes._subplots.AxesSubplot at 0x10dd70ba8>"
      ]
     },
     "execution_count": 17,
     "metadata": {},
     "output_type": "execute_result"
    },
    {
     "data": {
      "image/png": "[encoded data removed]",
      "text/plain": [
       "<Figure size 432x288 with 1 Axes>"
      ]
     },
     "metadata": {
      "needs_background": "light"
     },
     "output_type": "display_data"
    }
   ],
   "source": [
    "#绘制商品数量图\n",
    "bhead.plot(kind='bar')"
   ]
  },
  {
   "cell_type": "code",
   "execution_count": 18,
   "metadata": {},
   "outputs": [
    {
     "data": {
      "text/plain": [
       "24"
      ]
     },
     "execution_count": 18,
     "metadata": {},
     "output_type": "execute_result"
    }
   ],
   "source": [
    "#统计商店数量\n",
    "STORE = list(data2['STORE_CODE'].unique())   \n",
    "len(STORE) "
   ]
  },
  {
   "cell_type": "code",
   "execution_count": 19,
   "metadata": {},
   "outputs": [
    {
     "data": {
      "text/plain": [
       "D002    211224\n",
       "A001    170358\n",
       "D007    102455\n",
       "A008     94453\n",
       "A013     73599\n",
       "A006     67252\n",
       "D004     66294\n",
       "D006     58769\n",
       "A012     56536\n",
       "A021     55043\n",
       "A009     50734\n",
       "D008     49930\n",
       "A016     48929\n",
       "A019     45292\n",
       "D005     44281\n",
       "A007     43491\n",
       "A010     42489\n",
       "A004     39853\n",
       "A018     39803\n",
       "D009     39189\n",
       "A022     38448\n",
       "D010     30578\n",
       "A017     25432\n",
       "D003     19868\n",
       "Name: STORE_CODE, dtype: int64"
      ]
     },
     "execution_count": 19,
     "metadata": {},
     "output_type": "execute_result"
    }
   ],
   "source": [
    "data2['STORE_CODE'].value_counts()"
   ]
  },
  {
   "cell_type": "code",
   "execution_count": 17,
   "metadata": {},
   "outputs": [
    {
     "data": {
      "text/plain": [
       "STORE_CODE\n",
       "A001    3.435303e+06\n",
       "A004    5.123467e+05\n",
       "A006    9.383050e+05\n",
       "A007    6.866382e+05\n",
       "A008    1.311171e+06\n",
       "A009    7.977389e+05\n",
       "A010    6.448924e+05\n",
       "A012    8.469747e+05\n",
       "A013    1.117126e+06\n",
       "A016    7.398143e+05\n",
       "A017    3.945074e+05\n",
       "A018    5.584417e+05\n",
       "A019    6.486686e+05\n",
       "A021    7.387401e+05\n",
       "A022    4.874459e+05\n",
       "D002    3.129447e+06\n",
       "D003    2.435843e+05\n",
       "D004    8.078603e+05\n",
       "D005    5.541030e+05\n",
       "D006    7.935042e+05\n",
       "D007    1.361607e+06\n",
       "D008    6.930078e+05\n",
       "D009    4.704280e+05\n",
       "D010    3.636179e+05\n",
       "Name: BASK_SPEND, dtype: float64"
      ]
     },
     "execution_count": 17,
     "metadata": {},
     "output_type": "execute_result"
    }
   ],
   "source": [
    "# 根据STORE_CODE统计销售额\n",
    "sell1 =myData1.groupby(by=\"STORE_CODE\")\n",
    "sell_groupby_STORE_CODE = sell1[\"BASK_SPEND\"].sum()\n",
    "sell_groupby_STORE_CODE"
   ]
  },
  {
   "cell_type": "code",
   "execution_count": 24,
   "metadata": {},
   "outputs": [
    {
     "data": {
      "text/plain": [
       "(array([ 0,  1,  2,  3,  4,  5,  6,  7,  8,  9, 10, 11, 12, 13, 14, 15, 16,\n",
       "        17, 18, 19, 20, 21, 22, 23]), <a list of 24 Text xticklabel objects>)"
      ]
     },
     "execution_count": 24,
     "metadata": {},
     "output_type": "execute_result"
    },
    {
     "data": {
      "image/png": "[encoded data removed]",
      "text/plain": [
       "<Figure size 1008x576 with 1 Axes>"
      ]
     },
     "metadata": {
      "needs_background": "light"
     },
     "output_type": "display_data"
    }
   ],
   "source": [
    "#根据STORE_CODE统计销售额\n",
    "sell_groupby_STORE_CODE.plot(kind='bar',title='sell_groupby_STORE_CODE',figsize=(14,8))\n",
    "plt.xticks(fontsize=15,rotation=45)"
   ]
  },
  {
   "cell_type": "code",
   "execution_count": 21,
   "metadata": {},
   "outputs": [
    {
     "data": {
      "text/plain": [
       "STORE_CODE\n",
       "D002    10797\n",
       "A001     7592\n",
       "D007     6466\n",
       "A013     5443\n",
       "A008     5282\n",
       "D006     5035\n",
       "A012     4969\n",
       "D008     4927\n",
       "A021     4811\n",
       "A006     4755\n",
       "D004     4670\n",
       "A009     4596\n",
       "A007     4584\n",
       "A010     4494\n",
       "A022     4316\n",
       "A016     4264\n",
       "D005     4247\n",
       "A018     4173\n",
       "D009     4147\n",
       "A019     3678\n",
       "D010     3653\n",
       "A004     3574\n",
       "A017     3290\n",
       "D003     2894\n",
       "Name: PROD_CODE, dtype: int64"
      ]
     },
     "execution_count": 21,
     "metadata": {},
     "output_type": "execute_result"
    }
   ],
   "source": [
    "#每个店铺中的商品数量\n",
    "B=data2.groupby(['STORE_CODE']).PROD_CODE.nunique()\n",
    "#降序排列\n",
    "B.sort_values(ascending=False)"
   ]
  },
  {
   "cell_type": "code",
   "execution_count": 23,
   "metadata": {},
   "outputs": [
    {
     "data": {
      "text/plain": [
       "<function matplotlib.pyplot.show(*args, **kw)>"
      ]
     },
     "execution_count": 23,
     "metadata": {},
     "output_type": "execute_result"
    },
    {
     "data": {
      "image/png": "[encoded data removed]",
      "text/plain": [
       "<Figure size 432x288 with 1 Axes>"
      ]
     },
     "metadata": {
      "needs_background": "light"
     },
     "output_type": "display_data"
    }
   ],
   "source": [
    "plt.rcParams[\"font.sans-serif\"]='SimHei'\n",
    "B.plot(kind='bar',title='amount of items')\n",
    "plt.show"
   ]
  },
  {
   "cell_type": "code",
   "execution_count": 18,
   "metadata": {},
   "outputs": [
    {
     "data": {
      "text/plain": [
       "SHOP_DATETIME\n",
       "2018-06-01     717327.28\n",
       "2018-06-02     727910.16\n",
       "2018-06-03     682779.75\n",
       "2018-06-04     557813.05\n",
       "2018-06-05     663394.81\n",
       "2018-06-06     498250.71\n",
       "2018-06-07     436109.19\n",
       "2018-06-08     564402.27\n",
       "2018-06-09     679629.48\n",
       "2018-06-10     702961.56\n",
       "2018-06-11     532263.20\n",
       "2018-06-12     569290.86\n",
       "2018-06-13     722874.45\n",
       "2018-06-14     615684.90\n",
       "2018-06-15     774897.74\n",
       "2018-06-16    1172798.62\n",
       "2018-06-17    1506093.31\n",
       "2018-06-18    1257825.41\n",
       "2018-06-19     412881.99\n",
       "2018-06-20     533702.81\n",
       "2018-06-21     493064.51\n",
       "2018-06-22     411610.22\n",
       "2018-06-23     582622.57\n",
       "2018-06-24     529053.77\n",
       "2018-06-25     454961.04\n",
       "2018-06-26     453298.13\n",
       "2018-06-27     527871.74\n",
       "2018-06-28     438126.70\n",
       "2018-06-29     568749.99\n",
       "2018-06-30     719873.69\n",
       "2018-07-01     653284.63\n",
       "2018-07-02     520731.01\n",
       "2018-07-03     542603.77\n",
       "2018-07-04     559139.42\n",
       "2018-07-05     491390.33\n",
       "Name: BASK_SPEND, dtype: float64"
      ]
     },
     "execution_count": 18,
     "metadata": {},
     "output_type": "execute_result"
    }
   ],
   "source": [
    "#根据SHOP_DATETIME统计总销售额\n",
    "sell2 =myData1.groupby(by=\"SHOP_DATETIME\")\n",
    "sell_groupby_SHOP_DATETIME = sell2[\"BASK_SPEND\"].sum()\n",
    "sell_groupby_SHOP_DATETIME"
   ]
  },
  {
   "cell_type": "code",
   "execution_count": 22,
   "metadata": {},
   "outputs": [
    {
     "data": {
      "text/plain": [
       "(array([ 0,  1,  2,  3,  4,  5,  6,  7,  8,  9, 10, 11, 12, 13, 14, 15, 16,\n",
       "        17, 18, 19, 20, 21, 22, 23, 24, 25, 26, 27, 28, 29, 30, 31, 32, 33,\n",
       "        34]), <a list of 35 Text xticklabel objects>)"
      ]
     },
     "execution_count": 22,
     "metadata": {},
     "output_type": "execute_result"
    },
    {
     "data": {
      "image/png": "[encoded data removed]",
      "text/plain": [
       "<Figure size 1008x576 with 1 Axes>"
      ]
     },
     "metadata": {
      "needs_background": "light"
     },
     "output_type": "display_data"
    }
   ],
   "source": [
    "#绘制根据不同的日期，每日销量总数的柱状图\n",
    "Bask_spend_dt=myData1['BASK_SPEND'].groupby(myData1['SHOP_DATETIME']).sum()\n",
    "plt.rcParams['axes.unicode_minus'] = False\n",
    "Bask_spend_dt.plot(kind='bar',title='sell_groupby_SHOP_DATETIME',figsize=(14,8))\n",
    "plt.xticks(fontsize=15,rotation=45)"
   ]
  },
  {
   "cell_type": "code",
   "execution_count": 25,
   "metadata": {},
   "outputs": [
    {
     "data": {
      "text/html": [
       "<div>\n",
       "<style scoped>\n",
       "    .dataframe tbody tr th:only-of-type {\n",
       "        vertical-align: middle;\n",
       "    }\n",
       "\n",
       "    .dataframe tbody tr th {\n",
       "        vertical-align: top;\n",
       "    }\n",
       "\n",
       "    .dataframe thead th {\n",
       "        text-align: right;\n",
       "    }\n",
       "</style>\n",
       "<table border=\"1\" class=\"dataframe\">\n",
       "  <thead>\n",
       "    <tr style=\"text-align: right;\">\n",
       "      <th></th>\n",
       "      <th>A_SPEND</th>\n",
       "    </tr>\n",
       "    <tr>\n",
       "      <th>SDATE</th>\n",
       "      <th></th>\n",
       "    </tr>\n",
       "  </thead>\n",
       "  <tbody>\n",
       "    <tr>\n",
       "      <th>2018-06-01</th>\n",
       "      <td>339164.44</td>\n",
       "    </tr>\n",
       "    <tr>\n",
       "      <th>2018-06-02</th>\n",
       "      <td>325172.02</td>\n",
       "    </tr>\n",
       "    <tr>\n",
       "      <th>2018-06-03</th>\n",
       "      <td>304963.88</td>\n",
       "    </tr>\n",
       "    <tr>\n",
       "      <th>2018-06-04</th>\n",
       "      <td>227887.71</td>\n",
       "    </tr>\n",
       "    <tr>\n",
       "      <th>2018-06-05</th>\n",
       "      <td>256051.69</td>\n",
       "    </tr>\n",
       "    <tr>\n",
       "      <th>2018-06-06</th>\n",
       "      <td>296345.30</td>\n",
       "    </tr>\n",
       "    <tr>\n",
       "      <th>2018-06-07</th>\n",
       "      <td>245125.88</td>\n",
       "    </tr>\n",
       "    <tr>\n",
       "      <th>2018-06-08</th>\n",
       "      <td>332240.77</td>\n",
       "    </tr>\n",
       "    <tr>\n",
       "      <th>2018-06-09</th>\n",
       "      <td>414456.64</td>\n",
       "    </tr>\n",
       "    <tr>\n",
       "      <th>2018-06-10</th>\n",
       "      <td>415230.16</td>\n",
       "    </tr>\n",
       "    <tr>\n",
       "      <th>2018-06-11</th>\n",
       "      <td>307825.53</td>\n",
       "    </tr>\n",
       "    <tr>\n",
       "      <th>2018-06-12</th>\n",
       "      <td>344523.09</td>\n",
       "    </tr>\n",
       "    <tr>\n",
       "      <th>2018-06-13</th>\n",
       "      <td>436619.63</td>\n",
       "    </tr>\n",
       "    <tr>\n",
       "      <th>2018-06-14</th>\n",
       "      <td>366214.87</td>\n",
       "    </tr>\n",
       "    <tr>\n",
       "      <th>2018-06-15</th>\n",
       "      <td>470369.96</td>\n",
       "    </tr>\n",
       "    <tr>\n",
       "      <th>2018-06-16</th>\n",
       "      <td>762934.45</td>\n",
       "    </tr>\n",
       "    <tr>\n",
       "      <th>2018-06-17</th>\n",
       "      <td>1019161.26</td>\n",
       "    </tr>\n",
       "    <tr>\n",
       "      <th>2018-06-18</th>\n",
       "      <td>833751.38</td>\n",
       "    </tr>\n",
       "    <tr>\n",
       "      <th>2018-06-19</th>\n",
       "      <td>255108.93</td>\n",
       "    </tr>\n",
       "    <tr>\n",
       "      <th>2018-06-20</th>\n",
       "      <td>297352.35</td>\n",
       "    </tr>\n",
       "    <tr>\n",
       "      <th>2018-06-21</th>\n",
       "      <td>267284.94</td>\n",
       "    </tr>\n",
       "    <tr>\n",
       "      <th>2018-06-22</th>\n",
       "      <td>244491.82</td>\n",
       "    </tr>\n",
       "    <tr>\n",
       "      <th>2018-06-23</th>\n",
       "      <td>318068.51</td>\n",
       "    </tr>\n",
       "    <tr>\n",
       "      <th>2018-06-24</th>\n",
       "      <td>291312.08</td>\n",
       "    </tr>\n",
       "    <tr>\n",
       "      <th>2018-06-25</th>\n",
       "      <td>249868.28</td>\n",
       "    </tr>\n",
       "    <tr>\n",
       "      <th>2018-06-26</th>\n",
       "      <td>240438.08</td>\n",
       "    </tr>\n",
       "    <tr>\n",
       "      <th>2018-06-27</th>\n",
       "      <td>303405.71</td>\n",
       "    </tr>\n",
       "    <tr>\n",
       "      <th>2018-06-28</th>\n",
       "      <td>238631.59</td>\n",
       "    </tr>\n",
       "    <tr>\n",
       "      <th>2018-06-29</th>\n",
       "      <td>324224.24</td>\n",
       "    </tr>\n",
       "    <tr>\n",
       "      <th>2018-06-30</th>\n",
       "      <td>405081.49</td>\n",
       "    </tr>\n",
       "    <tr>\n",
       "      <th>2018-07-01</th>\n",
       "      <td>380135.16</td>\n",
       "    </tr>\n",
       "    <tr>\n",
       "      <th>2018-07-02</th>\n",
       "      <td>404897.87</td>\n",
       "    </tr>\n",
       "    <tr>\n",
       "      <th>2018-07-03</th>\n",
       "      <td>337832.87</td>\n",
       "    </tr>\n",
       "    <tr>\n",
       "      <th>2018-07-04</th>\n",
       "      <td>312622.69</td>\n",
       "    </tr>\n",
       "    <tr>\n",
       "      <th>2018-07-05</th>\n",
       "      <td>259958.39</td>\n",
       "    </tr>\n",
       "  </tbody>\n",
       "</table>\n",
       "</div>"
      ],
      "text/plain": [
       "              A_SPEND\n",
       "SDATE                \n",
       "2018-06-01  339164.44\n",
       "2018-06-02  325172.02\n",
       "2018-06-03  304963.88\n",
       "2018-06-04  227887.71\n",
       "2018-06-05  256051.69\n",
       "2018-06-06  296345.30\n",
       "2018-06-07  245125.88\n",
       "2018-06-08  332240.77\n",
       "2018-06-09  414456.64\n",
       "2018-06-10  415230.16\n",
       "2018-06-11  307825.53\n",
       "2018-06-12  344523.09\n",
       "2018-06-13  436619.63\n",
       "2018-06-14  366214.87\n",
       "2018-06-15  470369.96\n",
       "2018-06-16  762934.45\n",
       "2018-06-17 1019161.26\n",
       "2018-06-18  833751.38\n",
       "2018-06-19  255108.93\n",
       "2018-06-20  297352.35\n",
       "2018-06-21  267284.94\n",
       "2018-06-22  244491.82\n",
       "2018-06-23  318068.51\n",
       "2018-06-24  291312.08\n",
       "2018-06-25  249868.28\n",
       "2018-06-26  240438.08\n",
       "2018-06-27  303405.71\n",
       "2018-06-28  238631.59\n",
       "2018-06-29  324224.24\n",
       "2018-06-30  405081.49\n",
       "2018-07-01  380135.16\n",
       "2018-07-02  404897.87\n",
       "2018-07-03  337832.87\n",
       "2018-07-04  312622.69\n",
       "2018-07-05  259958.39"
      ]
     },
     "execution_count": 25,
     "metadata": {},
     "output_type": "execute_result"
    }
   ],
   "source": [
    "#统计A类店铺每天的销售额\n",
    "A=data2.loc[data['STORE_CODE'].str.contains('A')]\n",
    "A_SPEND=A[['SDATE','ITEM_SPEND']].groupby('SDATE').sum()\n",
    "A_SPEND.rename(columns={'ITEM_SPEND':'A_SPEND'}, inplace = True)#更改列名\n",
    "A_SPEND"
   ]
  },
  {
   "cell_type": "code",
   "execution_count": 26,
   "metadata": {},
   "outputs": [
    {
     "data": {
      "image/png": "[encoded data removed]",
      "text/plain": [
       "<Figure size 864x360 with 1 Axes>"
      ]
     },
     "metadata": {
      "needs_background": "light"
     },
     "output_type": "display_data"
    }
   ],
   "source": [
    "#A类店铺销售额趋势\n",
    "plt.rcParams['figure.figsize'] = (12.0, 5.0)\n",
    "A_SPEND.plot()\n",
    "plt.show()"
   ]
  },
  {
   "cell_type": "code",
   "execution_count": null,
   "metadata": {},
   "outputs": [],
   "source": []
  }
 ],
 "metadata": {
  "kernelspec": {
   "display_name": "Python 3",
   "language": "python",
   "name": "python3"
  },
  "language_info": {
   "codemirror_mode": {
    "name": "ipython",
    "version": 3
   },
   "file_extension": ".py",
   "mimetype": "text/x-python",
   "name": "python",
   "nbconvert_exporter": "python",
   "pygments_lexer": "ipython3",
   "version": "3.6.9"
  }
 },
 "nbformat": 4,
 "nbformat_minor": 4
}
