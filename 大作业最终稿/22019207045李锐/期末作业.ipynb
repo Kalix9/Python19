{
 "cells": [
  {
   "cell_type": "markdown",
   "metadata": {},
   "source": [
    "# 超市销售分析和客户分析"
   ]
  },
  {
   "cell_type": "markdown",
   "metadata": {},
   "source": [
    "### 导包导数据"
   ]
  },
  {
   "cell_type": "code",
   "execution_count": 1,
   "metadata": {},
   "outputs": [],
   "source": [
    "import matplotlib.pyplot as plt\n",
    "import pandas as pd\n",
    "import numpy as np"
   ]
  },
  {
   "cell_type": "code",
   "execution_count": 2,
   "metadata": {},
   "outputs": [
    {
     "data": {
      "text/html": [
       "<div>\n",
       "<style scoped>\n",
       "    .dataframe tbody tr th:only-of-type {\n",
       "        vertical-align: middle;\n",
       "    }\n",
       "\n",
       "    .dataframe tbody tr th {\n",
       "        vertical-align: top;\n",
       "    }\n",
       "\n",
       "    .dataframe thead th {\n",
       "        text-align: right;\n",
       "    }\n",
       "</style>\n",
       "<table border=\"1\" class=\"dataframe\">\n",
       "  <thead>\n",
       "    <tr style=\"text-align: right;\">\n",
       "      <th></th>\n",
       "      <th>SHOP_DATETIME</th>\n",
       "      <th>STORE_CODE</th>\n",
       "      <th>POS_NO</th>\n",
       "      <th>BASK_CODE</th>\n",
       "      <th>BASK_SPEND</th>\n",
       "    </tr>\n",
       "  </thead>\n",
       "  <tbody>\n",
       "    <tr>\n",
       "      <th>0</th>\n",
       "      <td>2018-06-01</td>\n",
       "      <td>D007</td>\n",
       "      <td>3</td>\n",
       "      <td>250458</td>\n",
       "      <td>8.0</td>\n",
       "    </tr>\n",
       "    <tr>\n",
       "      <th>1</th>\n",
       "      <td>2018-06-01</td>\n",
       "      <td>D007</td>\n",
       "      <td>3</td>\n",
       "      <td>250200</td>\n",
       "      <td>32.7</td>\n",
       "    </tr>\n",
       "    <tr>\n",
       "      <th>2</th>\n",
       "      <td>2018-06-01</td>\n",
       "      <td>D007</td>\n",
       "      <td>1</td>\n",
       "      <td>161068</td>\n",
       "      <td>16.8</td>\n",
       "    </tr>\n",
       "    <tr>\n",
       "      <th>3</th>\n",
       "      <td>2018-06-01</td>\n",
       "      <td>D007</td>\n",
       "      <td>8</td>\n",
       "      <td>5325</td>\n",
       "      <td>30.4</td>\n",
       "    </tr>\n",
       "    <tr>\n",
       "      <th>4</th>\n",
       "      <td>2018-06-01</td>\n",
       "      <td>D007</td>\n",
       "      <td>8</td>\n",
       "      <td>5361</td>\n",
       "      <td>191.3</td>\n",
       "    </tr>\n",
       "  </tbody>\n",
       "</table>\n",
       "</div>"
      ],
      "text/plain": [
       "  SHOP_DATETIME STORE_CODE  POS_NO  BASK_CODE  BASK_SPEND\n",
       "0    2018-06-01       D007       3     250458         8.0\n",
       "1    2018-06-01       D007       3     250200        32.7\n",
       "2    2018-06-01       D007       1     161068        16.8\n",
       "3    2018-06-01       D007       8       5325        30.4\n",
       "4    2018-06-01       D007       8       5361       191.3"
      ]
     },
     "execution_count": 2,
     "metadata": {},
     "output_type": "execute_result"
    }
   ],
   "source": [
    "filepath1=\"E:\\\\homework\\\\NumericalPython\\\\Basket-2018-06-01-2018-07-05.csv\"\n",
    "Basket=pd.read_csv(filepath1)\n",
    "Basket.head()"
   ]
  },
  {
   "cell_type": "code",
   "execution_count": 3,
   "metadata": {},
   "outputs": [
    {
     "data": {
      "text/html": [
       "<div>\n",
       "<style scoped>\n",
       "    .dataframe tbody tr th:only-of-type {\n",
       "        vertical-align: middle;\n",
       "    }\n",
       "\n",
       "    .dataframe tbody tr th {\n",
       "        vertical-align: top;\n",
       "    }\n",
       "\n",
       "    .dataframe thead th {\n",
       "        text-align: right;\n",
       "    }\n",
       "</style>\n",
       "<table border=\"1\" class=\"dataframe\">\n",
       "  <thead>\n",
       "    <tr style=\"text-align: right;\">\n",
       "      <th></th>\n",
       "      <th>SDATE</th>\n",
       "      <th>STORE_CODE</th>\n",
       "      <th>POSID</th>\n",
       "      <th>BASK_CODE</th>\n",
       "      <th>PROD_CODE</th>\n",
       "      <th>ITEM_QUANTITY</th>\n",
       "      <th>ITEM_SPEND</th>\n",
       "      <th>NORMAL_PRICE</th>\n",
       "      <th>DISCOUNT_TYPE</th>\n",
       "      <th>DISCOUNT_AMOUNT</th>\n",
       "    </tr>\n",
       "  </thead>\n",
       "  <tbody>\n",
       "    <tr>\n",
       "      <th>0</th>\n",
       "      <td>2018-06-01</td>\n",
       "      <td>D007</td>\n",
       "      <td>3</td>\n",
       "      <td>250451</td>\n",
       "      <td>29405</td>\n",
       "      <td>1.000</td>\n",
       "      <td>1.70</td>\n",
       "      <td>2.0</td>\n",
       "      <td>m</td>\n",
       "      <td>-0.3</td>\n",
       "    </tr>\n",
       "    <tr>\n",
       "      <th>1</th>\n",
       "      <td>2018-06-01</td>\n",
       "      <td>D007</td>\n",
       "      <td>3</td>\n",
       "      <td>250451</td>\n",
       "      <td>13187</td>\n",
       "      <td>1.000</td>\n",
       "      <td>1.00</td>\n",
       "      <td>1.0</td>\n",
       "      <td>n</td>\n",
       "      <td>0.0</td>\n",
       "    </tr>\n",
       "    <tr>\n",
       "      <th>2</th>\n",
       "      <td>2018-06-01</td>\n",
       "      <td>D007</td>\n",
       "      <td>3</td>\n",
       "      <td>250243</td>\n",
       "      <td>196249</td>\n",
       "      <td>1.000</td>\n",
       "      <td>99.00</td>\n",
       "      <td>99.0</td>\n",
       "      <td>m</td>\n",
       "      <td>0.0</td>\n",
       "    </tr>\n",
       "    <tr>\n",
       "      <th>3</th>\n",
       "      <td>2018-06-01</td>\n",
       "      <td>D007</td>\n",
       "      <td>3</td>\n",
       "      <td>250243</td>\n",
       "      <td>199637</td>\n",
       "      <td>1.000</td>\n",
       "      <td>9.90</td>\n",
       "      <td>16.8</td>\n",
       "      <td>p</td>\n",
       "      <td>-6.9</td>\n",
       "    </tr>\n",
       "    <tr>\n",
       "      <th>4</th>\n",
       "      <td>2018-06-01</td>\n",
       "      <td>D007</td>\n",
       "      <td>1</td>\n",
       "      <td>160905</td>\n",
       "      <td>195012</td>\n",
       "      <td>3.222</td>\n",
       "      <td>18.69</td>\n",
       "      <td>5.8</td>\n",
       "      <td>n</td>\n",
       "      <td>0.0</td>\n",
       "    </tr>\n",
       "  </tbody>\n",
       "</table>\n",
       "</div>"
      ],
      "text/plain": [
       "        SDATE STORE_CODE  POSID  BASK_CODE  PROD_CODE  ITEM_QUANTITY  \\\n",
       "0  2018-06-01       D007      3     250451      29405          1.000   \n",
       "1  2018-06-01       D007      3     250451      13187          1.000   \n",
       "2  2018-06-01       D007      3     250243     196249          1.000   \n",
       "3  2018-06-01       D007      3     250243     199637          1.000   \n",
       "4  2018-06-01       D007      1     160905     195012          3.222   \n",
       "\n",
       "   ITEM_SPEND  NORMAL_PRICE DISCOUNT_TYPE  DISCOUNT_AMOUNT  \n",
       "0        1.70           2.0             m             -0.3  \n",
       "1        1.00           1.0             n              0.0  \n",
       "2       99.00          99.0             m              0.0  \n",
       "3        9.90          16.8             p             -6.9  \n",
       "4       18.69           5.8             n              0.0  "
      ]
     },
     "execution_count": 3,
     "metadata": {},
     "output_type": "execute_result"
    }
   ],
   "source": [
    "filepath2=\"E:\\\\homework\\\\NumericalPython\\\\item-2018-06-01-2018-07-05.csv\"\n",
    "Item=pd.read_csv(filepath2)\n",
    "Item.head()"
   ]
  },
  {
   "cell_type": "markdown",
   "metadata": {},
   "source": [
    "## 超市销售分析"
   ]
  },
  {
   "cell_type": "markdown",
   "metadata": {},
   "source": [
    "### 查看数据信息"
   ]
  },
  {
   "cell_type": "code",
   "execution_count": 4,
   "metadata": {},
   "outputs": [
    {
     "name": "stdout",
     "output_type": "stream",
     "text": [
      "<class 'pandas.core.frame.DataFrame'>\n",
      "RangeIndex: 571552 entries, 0 to 571551\n",
      "Data columns (total 5 columns):\n",
      "SHOP_DATETIME    571552 non-null object\n",
      "STORE_CODE       571552 non-null object\n",
      "POS_NO           571552 non-null int64\n",
      "BASK_CODE        571552 non-null int64\n",
      "BASK_SPEND       571552 non-null float64\n",
      "dtypes: float64(1), int64(2), object(2)\n",
      "memory usage: 21.8+ MB\n"
     ]
    }
   ],
   "source": [
    "Basket.info()"
   ]
  },
  {
   "cell_type": "code",
   "execution_count": 5,
   "metadata": {},
   "outputs": [
    {
     "name": "stdout",
     "output_type": "stream",
     "text": [
      "<class 'pandas.core.frame.DataFrame'>\n",
      "RangeIndex: 1732761 entries, 0 to 1732760\n",
      "Data columns (total 10 columns):\n",
      "SDATE              object\n",
      "STORE_CODE         object\n",
      "POSID              int64\n",
      "BASK_CODE          int64\n",
      "PROD_CODE          int64\n",
      "ITEM_QUANTITY      float64\n",
      "ITEM_SPEND         float64\n",
      "NORMAL_PRICE       float64\n",
      "DISCOUNT_TYPE      object\n",
      "DISCOUNT_AMOUNT    float64\n",
      "dtypes: float64(4), int64(3), object(3)\n",
      "memory usage: 132.2+ MB\n"
     ]
    }
   ],
   "source": [
    "Item.info()"
   ]
  },
  {
   "cell_type": "markdown",
   "metadata": {},
   "source": [
    "### 判断是否有缺失值"
   ]
  },
  {
   "cell_type": "code",
   "execution_count": 6,
   "metadata": {},
   "outputs": [
    {
     "data": {
      "text/plain": [
       "SHOP_DATETIME    0.0\n",
       "STORE_CODE       0.0\n",
       "POS_NO           0.0\n",
       "BASK_CODE        0.0\n",
       "BASK_SPEND       0.0\n",
       "dtype: float64"
      ]
     },
     "execution_count": 6,
     "metadata": {},
     "output_type": "execute_result"
    }
   ],
   "source": [
    "Basket.apply(lambda x: sum(x.isnull()) / len(x), axis=0)"
   ]
  },
  {
   "cell_type": "code",
   "execution_count": 7,
   "metadata": {},
   "outputs": [
    {
     "data": {
      "text/plain": [
       "SDATE              0.0\n",
       "STORE_CODE         0.0\n",
       "POSID              0.0\n",
       "BASK_CODE          0.0\n",
       "PROD_CODE          0.0\n",
       "ITEM_QUANTITY      0.0\n",
       "ITEM_SPEND         0.0\n",
       "NORMAL_PRICE       0.0\n",
       "DISCOUNT_TYPE      0.0\n",
       "DISCOUNT_AMOUNT    0.0\n",
       "dtype: float64"
      ]
     },
     "execution_count": 7,
     "metadata": {},
     "output_type": "execute_result"
    }
   ],
   "source": [
    "Item.apply(lambda x: sum(x.isnull()) / len(x), axis=0)"
   ]
  },
  {
   "cell_type": "markdown",
   "metadata": {},
   "source": [
    "无缺失值"
   ]
  },
  {
   "cell_type": "markdown",
   "metadata": {},
   "source": [
    "### 按日期分类汇总营业额，并可视化"
   ]
  },
  {
   "cell_type": "code",
   "execution_count": 8,
   "metadata": {},
   "outputs": [
    {
     "data": {
      "text/plain": [
       "SHOP_DATETIME\n",
       "2018-06-01     717327.28\n",
       "2018-06-02     727910.16\n",
       "2018-06-03     682779.75\n",
       "2018-06-04     557813.05\n",
       "2018-06-05     663394.81\n",
       "2018-06-06     498250.71\n",
       "2018-06-07     436109.19\n",
       "2018-06-08     564402.27\n",
       "2018-06-09     679629.48\n",
       "2018-06-10     702961.56\n",
       "2018-06-11     532263.20\n",
       "2018-06-12     569290.86\n",
       "2018-06-13     722874.45\n",
       "2018-06-14     615684.90\n",
       "2018-06-15     774897.74\n",
       "2018-06-16    1172798.62\n",
       "2018-06-17    1506093.31\n",
       "2018-06-18    1257825.41\n",
       "2018-06-19     412881.99\n",
       "2018-06-20     533702.81\n",
       "2018-06-21     493064.51\n",
       "2018-06-22     411610.22\n",
       "2018-06-23     582622.57\n",
       "2018-06-24     529053.77\n",
       "2018-06-25     454961.04\n",
       "2018-06-26     453298.13\n",
       "2018-06-27     527871.74\n",
       "2018-06-28     438126.70\n",
       "2018-06-29     568749.99\n",
       "2018-06-30     719873.69\n",
       "2018-07-01     653284.63\n",
       "2018-07-02     520731.01\n",
       "2018-07-03     542603.77\n",
       "2018-07-04     559139.42\n",
       "2018-07-05     491390.33\n",
       "Name: BASK_SPEND, dtype: float64"
      ]
     },
     "execution_count": 8,
     "metadata": {},
     "output_type": "execute_result"
    }
   ],
   "source": [
    "DailyTurnover= Basket.groupby('SHOP_DATETIME')['BASK_SPEND'].sum()\n",
    "DailyTurnover"
   ]
  },
  {
   "cell_type": "code",
   "execution_count": 9,
   "metadata": {},
   "outputs": [
    {
     "data": {
      "text/plain": [
       "Text(0,0.5,'营业额（元）')"
      ]
     },
     "execution_count": 9,
     "metadata": {},
     "output_type": "execute_result"
    },
    {
     "data": {
      "image/png": "[encoded data removed]",
      "text/plain": [
       "<Figure size 1440x576 with 1 Axes>"
      ]
     },
     "metadata": {},
     "output_type": "display_data"
    }
   ],
   "source": [
    "plt.rcParams['font.sans-serif']=['SimHei'] #正常显示中文标签 \n",
    "DailyTurnover.plot(kind='bar',color=\"blue\",title=\"每日营业额\",figsize=(20,8),width=0.8)\n",
    "plt.xticks(rotation=45)\n",
    "plt.xlabel(\"日期\")\n",
    "plt.ylabel(\"营业额（元）\")"
   ]
  },
  {
   "cell_type": "markdown",
   "metadata": {},
   "source": [
    "### 按商铺分类汇总营业额，并可视化"
   ]
  },
  {
   "cell_type": "code",
   "execution_count": 10,
   "metadata": {},
   "outputs": [
    {
     "data": {
      "text/plain": [
       "STORE_CODE\n",
       "A001    3.435303e+06\n",
       "A004    5.123467e+05\n",
       "A006    9.383050e+05\n",
       "A007    6.866382e+05\n",
       "A008    1.311171e+06\n",
       "A009    7.977389e+05\n",
       "A010    6.448924e+05\n",
       "A012    8.469747e+05\n",
       "A013    1.117126e+06\n",
       "A016    7.398143e+05\n",
       "A017    3.945074e+05\n",
       "A018    5.584417e+05\n",
       "A019    6.486686e+05\n",
       "A021    7.387401e+05\n",
       "A022    4.874459e+05\n",
       "D002    3.129447e+06\n",
       "D003    2.435843e+05\n",
       "D004    8.078603e+05\n",
       "D005    5.541030e+05\n",
       "D006    7.935042e+05\n",
       "D007    1.361607e+06\n",
       "D008    6.930078e+05\n",
       "D009    4.704280e+05\n",
       "D010    3.636179e+05\n",
       "Name: BASK_SPEND, dtype: float64"
      ]
     },
     "execution_count": 10,
     "metadata": {},
     "output_type": "execute_result"
    }
   ],
   "source": [
    "StoreTurnover = Basket.groupby('STORE_CODE')['BASK_SPEND'].sum()\n",
    "StoreTurnover"
   ]
  },
  {
   "cell_type": "code",
   "execution_count": 11,
   "metadata": {},
   "outputs": [
    {
     "data": {
      "text/plain": [
       "Text(0,0.5,'营业额（元）')"
      ]
     },
     "execution_count": 11,
     "metadata": {},
     "output_type": "execute_result"
    },
    {
     "data": {
      "image/png": "[encoded data removed]",
      "text/plain": [
       "<Figure size 1008x576 with 1 Axes>"
      ]
     },
     "metadata": {},
     "output_type": "display_data"
    }
   ],
   "source": [
    "plt.rcParams['font.sans-serif']=['SimHei'] #正常显示中文标签 \n",
    "StoreTurnover.plot(kind='bar',color=\"blue\",title=\"2018-6-1到2018-7-5商铺营业额\",figsize=(14,8),width=0.8)\n",
    "plt.xticks(rotation=45)\n",
    "plt.xlabel(\"商铺\")\n",
    "plt.ylabel(\"营业额（元）\")"
   ]
  },
  {
   "cell_type": "markdown",
   "metadata": {},
   "source": [
    "### 按商铺分类汇总每日营业额，并可视化"
   ]
  },
  {
   "cell_type": "code",
   "execution_count": 12,
   "metadata": {},
   "outputs": [
    {
     "data": {
      "text/html": [
       "<div>\n",
       "<style scoped>\n",
       "    .dataframe tbody tr th:only-of-type {\n",
       "        vertical-align: middle;\n",
       "    }\n",
       "\n",
       "    .dataframe tbody tr th {\n",
       "        vertical-align: top;\n",
       "    }\n",
       "\n",
       "    .dataframe thead th {\n",
       "        text-align: right;\n",
       "    }\n",
       "</style>\n",
       "<table border=\"1\" class=\"dataframe\">\n",
       "  <thead>\n",
       "    <tr style=\"text-align: right;\">\n",
       "      <th></th>\n",
       "      <th></th>\n",
       "      <th>BASK_SPEND</th>\n",
       "    </tr>\n",
       "    <tr>\n",
       "      <th>STORE_CODE</th>\n",
       "      <th>SHOP_DATETIME</th>\n",
       "      <th></th>\n",
       "    </tr>\n",
       "  </thead>\n",
       "  <tbody>\n",
       "    <tr>\n",
       "      <th rowspan=\"30\" valign=\"top\">A001</th>\n",
       "      <th>2018-06-01</th>\n",
       "      <td>101971.08</td>\n",
       "    </tr>\n",
       "    <tr>\n",
       "      <th>2018-06-02</th>\n",
       "      <td>78829.76</td>\n",
       "    </tr>\n",
       "    <tr>\n",
       "      <th>2018-06-03</th>\n",
       "      <td>79162.82</td>\n",
       "    </tr>\n",
       "    <tr>\n",
       "      <th>2018-06-04</th>\n",
       "      <td>53990.84</td>\n",
       "    </tr>\n",
       "    <tr>\n",
       "      <th>2018-06-05</th>\n",
       "      <td>81708.30</td>\n",
       "    </tr>\n",
       "    <tr>\n",
       "      <th>2018-06-06</th>\n",
       "      <td>79167.81</td>\n",
       "    </tr>\n",
       "    <tr>\n",
       "      <th>2018-06-07</th>\n",
       "      <td>59450.59</td>\n",
       "    </tr>\n",
       "    <tr>\n",
       "      <th>2018-06-08</th>\n",
       "      <td>65490.97</td>\n",
       "    </tr>\n",
       "    <tr>\n",
       "      <th>2018-06-09</th>\n",
       "      <td>128980.30</td>\n",
       "    </tr>\n",
       "    <tr>\n",
       "      <th>2018-06-10</th>\n",
       "      <td>95312.58</td>\n",
       "    </tr>\n",
       "    <tr>\n",
       "      <th>2018-06-11</th>\n",
       "      <td>79403.76</td>\n",
       "    </tr>\n",
       "    <tr>\n",
       "      <th>2018-06-12</th>\n",
       "      <td>104093.21</td>\n",
       "    </tr>\n",
       "    <tr>\n",
       "      <th>2018-06-13</th>\n",
       "      <td>123849.34</td>\n",
       "    </tr>\n",
       "    <tr>\n",
       "      <th>2018-06-14</th>\n",
       "      <td>94912.87</td>\n",
       "    </tr>\n",
       "    <tr>\n",
       "      <th>2018-06-15</th>\n",
       "      <td>139586.92</td>\n",
       "    </tr>\n",
       "    <tr>\n",
       "      <th>2018-06-16</th>\n",
       "      <td>312102.30</td>\n",
       "    </tr>\n",
       "    <tr>\n",
       "      <th>2018-06-17</th>\n",
       "      <td>324323.29</td>\n",
       "    </tr>\n",
       "    <tr>\n",
       "      <th>2018-06-18</th>\n",
       "      <td>204457.64</td>\n",
       "    </tr>\n",
       "    <tr>\n",
       "      <th>2018-06-19</th>\n",
       "      <td>53757.07</td>\n",
       "    </tr>\n",
       "    <tr>\n",
       "      <th>2018-06-20</th>\n",
       "      <td>85382.17</td>\n",
       "    </tr>\n",
       "    <tr>\n",
       "      <th>2018-06-21</th>\n",
       "      <td>67307.82</td>\n",
       "    </tr>\n",
       "    <tr>\n",
       "      <th>2018-06-22</th>\n",
       "      <td>60339.19</td>\n",
       "    </tr>\n",
       "    <tr>\n",
       "      <th>2018-06-23</th>\n",
       "      <td>80734.51</td>\n",
       "    </tr>\n",
       "    <tr>\n",
       "      <th>2018-06-24</th>\n",
       "      <td>75519.24</td>\n",
       "    </tr>\n",
       "    <tr>\n",
       "      <th>2018-06-25</th>\n",
       "      <td>64212.92</td>\n",
       "    </tr>\n",
       "    <tr>\n",
       "      <th>2018-06-26</th>\n",
       "      <td>68054.72</td>\n",
       "    </tr>\n",
       "    <tr>\n",
       "      <th>2018-06-27</th>\n",
       "      <td>72622.72</td>\n",
       "    </tr>\n",
       "    <tr>\n",
       "      <th>2018-06-28</th>\n",
       "      <td>55328.60</td>\n",
       "    </tr>\n",
       "    <tr>\n",
       "      <th>2018-06-29</th>\n",
       "      <td>80056.55</td>\n",
       "    </tr>\n",
       "    <tr>\n",
       "      <th>2018-06-30</th>\n",
       "      <td>96779.60</td>\n",
       "    </tr>\n",
       "    <tr>\n",
       "      <th>...</th>\n",
       "      <th>...</th>\n",
       "      <td>...</td>\n",
       "    </tr>\n",
       "    <tr>\n",
       "      <th rowspan=\"30\" valign=\"top\">D010</th>\n",
       "      <th>2018-06-06</th>\n",
       "      <td>7399.43</td>\n",
       "    </tr>\n",
       "    <tr>\n",
       "      <th>2018-06-07</th>\n",
       "      <td>6092.84</td>\n",
       "    </tr>\n",
       "    <tr>\n",
       "      <th>2018-06-08</th>\n",
       "      <td>9189.23</td>\n",
       "    </tr>\n",
       "    <tr>\n",
       "      <th>2018-06-09</th>\n",
       "      <td>8734.05</td>\n",
       "    </tr>\n",
       "    <tr>\n",
       "      <th>2018-06-10</th>\n",
       "      <td>9756.03</td>\n",
       "    </tr>\n",
       "    <tr>\n",
       "      <th>2018-06-11</th>\n",
       "      <td>7019.06</td>\n",
       "    </tr>\n",
       "    <tr>\n",
       "      <th>2018-06-12</th>\n",
       "      <td>7986.64</td>\n",
       "    </tr>\n",
       "    <tr>\n",
       "      <th>2018-06-13</th>\n",
       "      <td>16255.41</td>\n",
       "    </tr>\n",
       "    <tr>\n",
       "      <th>2018-06-14</th>\n",
       "      <td>9622.02</td>\n",
       "    </tr>\n",
       "    <tr>\n",
       "      <th>2018-06-15</th>\n",
       "      <td>9917.27</td>\n",
       "    </tr>\n",
       "    <tr>\n",
       "      <th>2018-06-16</th>\n",
       "      <td>10749.31</td>\n",
       "    </tr>\n",
       "    <tr>\n",
       "      <th>2018-06-17</th>\n",
       "      <td>13938.28</td>\n",
       "    </tr>\n",
       "    <tr>\n",
       "      <th>2018-06-18</th>\n",
       "      <td>12506.37</td>\n",
       "    </tr>\n",
       "    <tr>\n",
       "      <th>2018-06-19</th>\n",
       "      <td>6195.97</td>\n",
       "    </tr>\n",
       "    <tr>\n",
       "      <th>2018-06-20</th>\n",
       "      <td>9832.95</td>\n",
       "    </tr>\n",
       "    <tr>\n",
       "      <th>2018-06-21</th>\n",
       "      <td>7856.04</td>\n",
       "    </tr>\n",
       "    <tr>\n",
       "      <th>2018-06-22</th>\n",
       "      <td>8705.35</td>\n",
       "    </tr>\n",
       "    <tr>\n",
       "      <th>2018-06-23</th>\n",
       "      <td>12218.14</td>\n",
       "    </tr>\n",
       "    <tr>\n",
       "      <th>2018-06-24</th>\n",
       "      <td>11059.92</td>\n",
       "    </tr>\n",
       "    <tr>\n",
       "      <th>2018-06-25</th>\n",
       "      <td>7558.33</td>\n",
       "    </tr>\n",
       "    <tr>\n",
       "      <th>2018-06-26</th>\n",
       "      <td>6974.78</td>\n",
       "    </tr>\n",
       "    <tr>\n",
       "      <th>2018-06-27</th>\n",
       "      <td>9806.22</td>\n",
       "    </tr>\n",
       "    <tr>\n",
       "      <th>2018-06-28</th>\n",
       "      <td>9772.18</td>\n",
       "    </tr>\n",
       "    <tr>\n",
       "      <th>2018-06-29</th>\n",
       "      <td>8572.54</td>\n",
       "    </tr>\n",
       "    <tr>\n",
       "      <th>2018-06-30</th>\n",
       "      <td>12713.65</td>\n",
       "    </tr>\n",
       "    <tr>\n",
       "      <th>2018-07-01</th>\n",
       "      <td>10267.59</td>\n",
       "    </tr>\n",
       "    <tr>\n",
       "      <th>2018-07-02</th>\n",
       "      <td>10359.38</td>\n",
       "    </tr>\n",
       "    <tr>\n",
       "      <th>2018-07-03</th>\n",
       "      <td>7817.37</td>\n",
       "    </tr>\n",
       "    <tr>\n",
       "      <th>2018-07-04</th>\n",
       "      <td>9528.12</td>\n",
       "    </tr>\n",
       "    <tr>\n",
       "      <th>2018-07-05</th>\n",
       "      <td>9600.31</td>\n",
       "    </tr>\n",
       "  </tbody>\n",
       "</table>\n",
       "<p>840 rows × 1 columns</p>\n",
       "</div>"
      ],
      "text/plain": [
       "                          BASK_SPEND\n",
       "STORE_CODE SHOP_DATETIME            \n",
       "A001       2018-06-01      101971.08\n",
       "           2018-06-02       78829.76\n",
       "           2018-06-03       79162.82\n",
       "           2018-06-04       53990.84\n",
       "           2018-06-05       81708.30\n",
       "           2018-06-06       79167.81\n",
       "           2018-06-07       59450.59\n",
       "           2018-06-08       65490.97\n",
       "           2018-06-09      128980.30\n",
       "           2018-06-10       95312.58\n",
       "           2018-06-11       79403.76\n",
       "           2018-06-12      104093.21\n",
       "           2018-06-13      123849.34\n",
       "           2018-06-14       94912.87\n",
       "           2018-06-15      139586.92\n",
       "           2018-06-16      312102.30\n",
       "           2018-06-17      324323.29\n",
       "           2018-06-18      204457.64\n",
       "           2018-06-19       53757.07\n",
       "           2018-06-20       85382.17\n",
       "           2018-06-21       67307.82\n",
       "           2018-06-22       60339.19\n",
       "           2018-06-23       80734.51\n",
       "           2018-06-24       75519.24\n",
       "           2018-06-25       64212.92\n",
       "           2018-06-26       68054.72\n",
       "           2018-06-27       72622.72\n",
       "           2018-06-28       55328.60\n",
       "           2018-06-29       80056.55\n",
       "           2018-06-30       96779.60\n",
       "...                              ...\n",
       "D010       2018-06-06        7399.43\n",
       "           2018-06-07        6092.84\n",
       "           2018-06-08        9189.23\n",
       "           2018-06-09        8734.05\n",
       "           2018-06-10        9756.03\n",
       "           2018-06-11        7019.06\n",
       "           2018-06-12        7986.64\n",
       "           2018-06-13       16255.41\n",
       "           2018-06-14        9622.02\n",
       "           2018-06-15        9917.27\n",
       "           2018-06-16       10749.31\n",
       "           2018-06-17       13938.28\n",
       "           2018-06-18       12506.37\n",
       "           2018-06-19        6195.97\n",
       "           2018-06-20        9832.95\n",
       "           2018-06-21        7856.04\n",
       "           2018-06-22        8705.35\n",
       "           2018-06-23       12218.14\n",
       "           2018-06-24       11059.92\n",
       "           2018-06-25        7558.33\n",
       "           2018-06-26        6974.78\n",
       "           2018-06-27        9806.22\n",
       "           2018-06-28        9772.18\n",
       "           2018-06-29        8572.54\n",
       "           2018-06-30       12713.65\n",
       "           2018-07-01       10267.59\n",
       "           2018-07-02       10359.38\n",
       "           2018-07-03        7817.37\n",
       "           2018-07-04        9528.12\n",
       "           2018-07-05        9600.31\n",
       "\n",
       "[840 rows x 1 columns]"
      ]
     },
     "execution_count": 12,
     "metadata": {},
     "output_type": "execute_result"
    }
   ],
   "source": [
    "StoreDailyTurnover = Basket.groupby(['STORE_CODE','SHOP_DATETIME'])[['BASK_SPEND']].sum()\n",
    "StoreDailyTurnover"
   ]
  },
  {
   "cell_type": "markdown",
   "metadata": {},
   "source": [
    "### 展示A001商铺每日的营业额，直观了解营业额多少\n",
    "### 同理可以画出每个商铺的营业额情况图"
   ]
  },
  {
   "cell_type": "code",
   "execution_count": 13,
   "metadata": {},
   "outputs": [
    {
     "data": {
      "text/plain": [
       "<matplotlib.axes._subplots.AxesSubplot at 0x205a5aef128>"
      ]
     },
     "execution_count": 13,
     "metadata": {},
     "output_type": "execute_result"
    },
    {
     "data": {
      "image/png": "[encoded data removed]",
      "text/plain": [
       "<Figure size 1008x576 with 1 Axes>"
      ]
     },
     "metadata": {},
     "output_type": "display_data"
    }
   ],
   "source": [
    "StoreDailyTurnover.loc['A001'].plot(kind='bar',color=\"blue\",title=\"A001商铺每日营业额\",figsize=(14,8),width=0.8)"
   ]
  },
  {
   "cell_type": "code",
   "execution_count": 14,
   "metadata": {},
   "outputs": [
    {
     "data": {
      "text/plain": [
       "<matplotlib.axes._subplots.AxesSubplot at 0x205a5b8ac50>"
      ]
     },
     "execution_count": 14,
     "metadata": {},
     "output_type": "execute_result"
    },
    {
     "data": {
      "image/png": "[encoded data removed]",
      "text/plain": [
       "<Figure size 1008x576 with 1 Axes>"
      ]
     },
     "metadata": {},
     "output_type": "display_data"
    }
   ],
   "source": [
    "StoreDailyTurnover.loc['D010'].plot(kind='bar',color=\"blue\",title=\"D010商铺每日营业额\",figsize=(14,8),width=0.8)"
   ]
  },
  {
   "cell_type": "code",
   "execution_count": 15,
   "metadata": {},
   "outputs": [
    {
     "data": {
      "text/plain": [
       "<matplotlib.axes._subplots.AxesSubplot at 0x205a5ab74e0>"
      ]
     },
     "execution_count": 15,
     "metadata": {},
     "output_type": "execute_result"
    },
    {
     "data": {
      "image/png": "[encoded data removed]",
      "text/plain": [
       "<Figure size 1008x576 with 1 Axes>"
      ]
     },
     "metadata": {},
     "output_type": "display_data"
    }
   ],
   "source": [
    "StoreDailyTurnover.loc['A009'].plot(kind='bar',color=\"blue\",title=\"A009商铺每日营业额\",figsize=(14,8),width=0.8)"
   ]
  },
  {
   "cell_type": "markdown",
   "metadata": {},
   "source": [
    "### 按日期分类汇总每个商铺的营业额"
   ]
  },
  {
   "cell_type": "code",
   "execution_count": 16,
   "metadata": {},
   "outputs": [
    {
     "data": {
      "text/html": [
       "<div>\n",
       "<style scoped>\n",
       "    .dataframe tbody tr th:only-of-type {\n",
       "        vertical-align: middle;\n",
       "    }\n",
       "\n",
       "    .dataframe tbody tr th {\n",
       "        vertical-align: top;\n",
       "    }\n",
       "\n",
       "    .dataframe thead th {\n",
       "        text-align: right;\n",
       "    }\n",
       "</style>\n",
       "<table border=\"1\" class=\"dataframe\">\n",
       "  <thead>\n",
       "    <tr style=\"text-align: right;\">\n",
       "      <th></th>\n",
       "      <th></th>\n",
       "      <th>BASK_SPEND</th>\n",
       "    </tr>\n",
       "    <tr>\n",
       "      <th>SHOP_DATETIME</th>\n",
       "      <th>STORE_CODE</th>\n",
       "      <th></th>\n",
       "    </tr>\n",
       "  </thead>\n",
       "  <tbody>\n",
       "    <tr>\n",
       "      <th rowspan=\"24\" valign=\"top\">2018-06-01</th>\n",
       "      <th>A001</th>\n",
       "      <td>101971.08</td>\n",
       "    </tr>\n",
       "    <tr>\n",
       "      <th>A004</th>\n",
       "      <td>14150.15</td>\n",
       "    </tr>\n",
       "    <tr>\n",
       "      <th>A006</th>\n",
       "      <td>26030.72</td>\n",
       "    </tr>\n",
       "    <tr>\n",
       "      <th>A007</th>\n",
       "      <td>17852.97</td>\n",
       "    </tr>\n",
       "    <tr>\n",
       "      <th>A008</th>\n",
       "      <td>30640.96</td>\n",
       "    </tr>\n",
       "    <tr>\n",
       "      <th>A009</th>\n",
       "      <td>16385.23</td>\n",
       "    </tr>\n",
       "    <tr>\n",
       "      <th>A010</th>\n",
       "      <td>16300.65</td>\n",
       "    </tr>\n",
       "    <tr>\n",
       "      <th>A012</th>\n",
       "      <td>19861.13</td>\n",
       "    </tr>\n",
       "    <tr>\n",
       "      <th>A013</th>\n",
       "      <td>28527.41</td>\n",
       "    </tr>\n",
       "    <tr>\n",
       "      <th>A016</th>\n",
       "      <td>19869.10</td>\n",
       "    </tr>\n",
       "    <tr>\n",
       "      <th>A017</th>\n",
       "      <td>9029.29</td>\n",
       "    </tr>\n",
       "    <tr>\n",
       "      <th>A018</th>\n",
       "      <td>18969.13</td>\n",
       "    </tr>\n",
       "    <tr>\n",
       "      <th>A019</th>\n",
       "      <td>14964.73</td>\n",
       "    </tr>\n",
       "    <tr>\n",
       "      <th>A021</th>\n",
       "      <td>17177.69</td>\n",
       "    </tr>\n",
       "    <tr>\n",
       "      <th>A022</th>\n",
       "      <td>13259.52</td>\n",
       "    </tr>\n",
       "    <tr>\n",
       "      <th>D002</th>\n",
       "      <td>145214.53</td>\n",
       "    </tr>\n",
       "    <tr>\n",
       "      <th>D003</th>\n",
       "      <td>7643.14</td>\n",
       "    </tr>\n",
       "    <tr>\n",
       "      <th>D004</th>\n",
       "      <td>30569.62</td>\n",
       "    </tr>\n",
       "    <tr>\n",
       "      <th>D005</th>\n",
       "      <td>23083.06</td>\n",
       "    </tr>\n",
       "    <tr>\n",
       "      <th>D006</th>\n",
       "      <td>26467.53</td>\n",
       "    </tr>\n",
       "    <tr>\n",
       "      <th>D007</th>\n",
       "      <td>59981.88</td>\n",
       "    </tr>\n",
       "    <tr>\n",
       "      <th>D008</th>\n",
       "      <td>28572.57</td>\n",
       "    </tr>\n",
       "    <tr>\n",
       "      <th>D009</th>\n",
       "      <td>16487.55</td>\n",
       "    </tr>\n",
       "    <tr>\n",
       "      <th>D010</th>\n",
       "      <td>14317.64</td>\n",
       "    </tr>\n",
       "    <tr>\n",
       "      <th rowspan=\"6\" valign=\"top\">2018-06-02</th>\n",
       "      <th>A001</th>\n",
       "      <td>78829.76</td>\n",
       "    </tr>\n",
       "    <tr>\n",
       "      <th>A004</th>\n",
       "      <td>12703.12</td>\n",
       "    </tr>\n",
       "    <tr>\n",
       "      <th>A006</th>\n",
       "      <td>30289.97</td>\n",
       "    </tr>\n",
       "    <tr>\n",
       "      <th>A007</th>\n",
       "      <td>17054.69</td>\n",
       "    </tr>\n",
       "    <tr>\n",
       "      <th>A008</th>\n",
       "      <td>38710.92</td>\n",
       "    </tr>\n",
       "    <tr>\n",
       "      <th>A009</th>\n",
       "      <td>19239.32</td>\n",
       "    </tr>\n",
       "    <tr>\n",
       "      <th>...</th>\n",
       "      <th>...</th>\n",
       "      <td>...</td>\n",
       "    </tr>\n",
       "    <tr>\n",
       "      <th rowspan=\"6\" valign=\"top\">2018-07-04</th>\n",
       "      <th>D005</th>\n",
       "      <td>17141.44</td>\n",
       "    </tr>\n",
       "    <tr>\n",
       "      <th>D006</th>\n",
       "      <td>21069.21</td>\n",
       "    </tr>\n",
       "    <tr>\n",
       "      <th>D007</th>\n",
       "      <td>33298.38</td>\n",
       "    </tr>\n",
       "    <tr>\n",
       "      <th>D008</th>\n",
       "      <td>14548.80</td>\n",
       "    </tr>\n",
       "    <tr>\n",
       "      <th>D009</th>\n",
       "      <td>15079.38</td>\n",
       "    </tr>\n",
       "    <tr>\n",
       "      <th>D010</th>\n",
       "      <td>9528.12</td>\n",
       "    </tr>\n",
       "    <tr>\n",
       "      <th rowspan=\"24\" valign=\"top\">2018-07-05</th>\n",
       "      <th>A001</th>\n",
       "      <td>63646.30</td>\n",
       "    </tr>\n",
       "    <tr>\n",
       "      <th>A004</th>\n",
       "      <td>13951.44</td>\n",
       "    </tr>\n",
       "    <tr>\n",
       "      <th>A006</th>\n",
       "      <td>17822.67</td>\n",
       "    </tr>\n",
       "    <tr>\n",
       "      <th>A007</th>\n",
       "      <td>11569.09</td>\n",
       "    </tr>\n",
       "    <tr>\n",
       "      <th>A008</th>\n",
       "      <td>23918.81</td>\n",
       "    </tr>\n",
       "    <tr>\n",
       "      <th>A009</th>\n",
       "      <td>15906.64</td>\n",
       "    </tr>\n",
       "    <tr>\n",
       "      <th>A010</th>\n",
       "      <td>20001.10</td>\n",
       "    </tr>\n",
       "    <tr>\n",
       "      <th>A012</th>\n",
       "      <td>13016.85</td>\n",
       "    </tr>\n",
       "    <tr>\n",
       "      <th>A013</th>\n",
       "      <td>23559.48</td>\n",
       "    </tr>\n",
       "    <tr>\n",
       "      <th>A016</th>\n",
       "      <td>20528.58</td>\n",
       "    </tr>\n",
       "    <tr>\n",
       "      <th>A017</th>\n",
       "      <td>7561.39</td>\n",
       "    </tr>\n",
       "    <tr>\n",
       "      <th>A018</th>\n",
       "      <td>15377.81</td>\n",
       "    </tr>\n",
       "    <tr>\n",
       "      <th>A019</th>\n",
       "      <td>13074.81</td>\n",
       "    </tr>\n",
       "    <tr>\n",
       "      <th>A021</th>\n",
       "      <td>12854.31</td>\n",
       "    </tr>\n",
       "    <tr>\n",
       "      <th>A022</th>\n",
       "      <td>11716.89</td>\n",
       "    </tr>\n",
       "    <tr>\n",
       "      <th>D002</th>\n",
       "      <td>79635.70</td>\n",
       "    </tr>\n",
       "    <tr>\n",
       "      <th>D003</th>\n",
       "      <td>5102.22</td>\n",
       "    </tr>\n",
       "    <tr>\n",
       "      <th>D004</th>\n",
       "      <td>17887.57</td>\n",
       "    </tr>\n",
       "    <tr>\n",
       "      <th>D005</th>\n",
       "      <td>16430.37</td>\n",
       "    </tr>\n",
       "    <tr>\n",
       "      <th>D006</th>\n",
       "      <td>17412.82</td>\n",
       "    </tr>\n",
       "    <tr>\n",
       "      <th>D007</th>\n",
       "      <td>31622.61</td>\n",
       "    </tr>\n",
       "    <tr>\n",
       "      <th>D008</th>\n",
       "      <td>17266.90</td>\n",
       "    </tr>\n",
       "    <tr>\n",
       "      <th>D009</th>\n",
       "      <td>11925.66</td>\n",
       "    </tr>\n",
       "    <tr>\n",
       "      <th>D010</th>\n",
       "      <td>9600.31</td>\n",
       "    </tr>\n",
       "  </tbody>\n",
       "</table>\n",
       "<p>840 rows × 1 columns</p>\n",
       "</div>"
      ],
      "text/plain": [
       "                          BASK_SPEND\n",
       "SHOP_DATETIME STORE_CODE            \n",
       "2018-06-01    A001         101971.08\n",
       "              A004          14150.15\n",
       "              A006          26030.72\n",
       "              A007          17852.97\n",
       "              A008          30640.96\n",
       "              A009          16385.23\n",
       "              A010          16300.65\n",
       "              A012          19861.13\n",
       "              A013          28527.41\n",
       "              A016          19869.10\n",
       "              A017           9029.29\n",
       "              A018          18969.13\n",
       "              A019          14964.73\n",
       "              A021          17177.69\n",
       "              A022          13259.52\n",
       "              D002         145214.53\n",
       "              D003           7643.14\n",
       "              D004          30569.62\n",
       "              D005          23083.06\n",
       "              D006          26467.53\n",
       "              D007          59981.88\n",
       "              D008          28572.57\n",
       "              D009          16487.55\n",
       "              D010          14317.64\n",
       "2018-06-02    A001          78829.76\n",
       "              A004          12703.12\n",
       "              A006          30289.97\n",
       "              A007          17054.69\n",
       "              A008          38710.92\n",
       "              A009          19239.32\n",
       "...                              ...\n",
       "2018-07-04    D005          17141.44\n",
       "              D006          21069.21\n",
       "              D007          33298.38\n",
       "              D008          14548.80\n",
       "              D009          15079.38\n",
       "              D010           9528.12\n",
       "2018-07-05    A001          63646.30\n",
       "              A004          13951.44\n",
       "              A006          17822.67\n",
       "              A007          11569.09\n",
       "              A008          23918.81\n",
       "              A009          15906.64\n",
       "              A010          20001.10\n",
       "              A012          13016.85\n",
       "              A013          23559.48\n",
       "              A016          20528.58\n",
       "              A017           7561.39\n",
       "              A018          15377.81\n",
       "              A019          13074.81\n",
       "              A021          12854.31\n",
       "              A022          11716.89\n",
       "              D002          79635.70\n",
       "              D003           5102.22\n",
       "              D004          17887.57\n",
       "              D005          16430.37\n",
       "              D006          17412.82\n",
       "              D007          31622.61\n",
       "              D008          17266.90\n",
       "              D009          11925.66\n",
       "              D010           9600.31\n",
       "\n",
       "[840 rows x 1 columns]"
      ]
     },
     "execution_count": 16,
     "metadata": {},
     "output_type": "execute_result"
    }
   ],
   "source": [
    "DailyStoreTurnover= Basket.groupby(['SHOP_DATETIME','STORE_CODE'])[['BASK_SPEND']].sum()\n",
    "DailyStoreTurnover"
   ]
  },
  {
   "cell_type": "markdown",
   "metadata": {},
   "source": [
    "### 可展示某一天各个商铺的营业额情况"
   ]
  },
  {
   "cell_type": "code",
   "execution_count": 17,
   "metadata": {},
   "outputs": [
    {
     "data": {
      "text/plain": [
       "<matplotlib.axes._subplots.AxesSubplot at 0x205a64a2c18>"
      ]
     },
     "execution_count": 17,
     "metadata": {},
     "output_type": "execute_result"
    },
    {
     "data": {
      "image/png": "[encoded data removed]",
      "text/plain": [
       "<Figure size 1008x576 with 1 Axes>"
      ]
     },
     "metadata": {},
     "output_type": "display_data"
    }
   ],
   "source": [
    "DailyStoreTurnover.loc['2018-06-01'].plot(kind='bar',color=\"blue\",title=\"2018-06-01 商铺营业额\",figsize=(14,8),width=0.8)"
   ]
  },
  {
   "cell_type": "markdown",
   "metadata": {},
   "source": [
    "### 本次分析的数据时间粒度为一个月，故以月为粒度研究发现不大，可将月转化为星期。"
   ]
  },
  {
   "cell_type": "code",
   "execution_count": 18,
   "metadata": {},
   "outputs": [],
   "source": [
    "from datetime import datetime\n",
    "week=[]\n",
    "for index in range(len(Basket.SHOP_DATETIME)):\n",
    "    week += [datetime.strptime(Basket.SHOP_DATETIME[index],\"%Y-%m-%d\").weekday()+1]\n",
    "Basket['SHOP_WEEK']=week"
   ]
  },
  {
   "cell_type": "markdown",
   "metadata": {},
   "source": [
    "### 按星期分类汇总商铺营业额，并可视化"
   ]
  },
  {
   "cell_type": "code",
   "execution_count": 19,
   "metadata": {},
   "outputs": [
    {
     "data": {
      "text/plain": [
       "SHOP_WEEK\n",
       "1    3.323594e+06\n",
       "2    2.641470e+06\n",
       "3    2.841839e+06\n",
       "4    2.474376e+06\n",
       "5    3.036987e+06\n",
       "6    3.882835e+06\n",
       "7    4.074173e+06\n",
       "Name: BASK_SPEND, dtype: float64"
      ]
     },
     "execution_count": 19,
     "metadata": {},
     "output_type": "execute_result"
    }
   ],
   "source": [
    "WeekTurnover= Basket.groupby('SHOP_WEEK')['BASK_SPEND'].sum()\n",
    "WeekTurnover"
   ]
  },
  {
   "cell_type": "code",
   "execution_count": 20,
   "metadata": {},
   "outputs": [
    {
     "data": {
      "text/plain": [
       "<matplotlib.axes._subplots.AxesSubplot at 0x205a64dff98>"
      ]
     },
     "execution_count": 20,
     "metadata": {},
     "output_type": "execute_result"
    },
    {
     "data": {
      "image/png": "[encoded data removed]",
      "text/plain": [
       "<Figure size 720x576 with 1 Axes>"
      ]
     },
     "metadata": {},
     "output_type": "display_data"
    }
   ],
   "source": [
    "WeekTurnover.plot(kind='bar',color=\"blue\",title=\"一周内每日营业额\",figsize=(10,8))"
   ]
  },
  {
   "cell_type": "markdown",
   "metadata": {},
   "source": [
    "### 按商铺分类汇总一周内的营业额"
   ]
  },
  {
   "cell_type": "code",
   "execution_count": 21,
   "metadata": {},
   "outputs": [
    {
     "data": {
      "text/html": [
       "<div>\n",
       "<style scoped>\n",
       "    .dataframe tbody tr th:only-of-type {\n",
       "        vertical-align: middle;\n",
       "    }\n",
       "\n",
       "    .dataframe tbody tr th {\n",
       "        vertical-align: top;\n",
       "    }\n",
       "\n",
       "    .dataframe thead th {\n",
       "        text-align: right;\n",
       "    }\n",
       "</style>\n",
       "<table border=\"1\" class=\"dataframe\">\n",
       "  <thead>\n",
       "    <tr style=\"text-align: right;\">\n",
       "      <th></th>\n",
       "      <th></th>\n",
       "      <th>BASK_SPEND</th>\n",
       "    </tr>\n",
       "    <tr>\n",
       "      <th>STORE_CODE</th>\n",
       "      <th>SHOP_WEEK</th>\n",
       "      <th></th>\n",
       "    </tr>\n",
       "  </thead>\n",
       "  <tbody>\n",
       "    <tr>\n",
       "      <th rowspan=\"7\" valign=\"top\">A001</th>\n",
       "      <th>1</th>\n",
       "      <td>472017.39</td>\n",
       "    </tr>\n",
       "    <tr>\n",
       "      <th>2</th>\n",
       "      <td>381032.57</td>\n",
       "    </tr>\n",
       "    <tr>\n",
       "      <th>3</th>\n",
       "      <td>435021.76</td>\n",
       "    </tr>\n",
       "    <tr>\n",
       "      <th>4</th>\n",
       "      <td>340646.18</td>\n",
       "    </tr>\n",
       "    <tr>\n",
       "      <th>5</th>\n",
       "      <td>447444.71</td>\n",
       "    </tr>\n",
       "    <tr>\n",
       "      <th>6</th>\n",
       "      <td>697426.47</td>\n",
       "    </tr>\n",
       "    <tr>\n",
       "      <th>7</th>\n",
       "      <td>661713.98</td>\n",
       "    </tr>\n",
       "    <tr>\n",
       "      <th rowspan=\"7\" valign=\"top\">A004</th>\n",
       "      <th>1</th>\n",
       "      <td>79852.84</td>\n",
       "    </tr>\n",
       "    <tr>\n",
       "      <th>2</th>\n",
       "      <td>66858.83</td>\n",
       "    </tr>\n",
       "    <tr>\n",
       "      <th>3</th>\n",
       "      <td>65185.46</td>\n",
       "    </tr>\n",
       "    <tr>\n",
       "      <th>4</th>\n",
       "      <td>56722.94</td>\n",
       "    </tr>\n",
       "    <tr>\n",
       "      <th>5</th>\n",
       "      <td>69600.86</td>\n",
       "    </tr>\n",
       "    <tr>\n",
       "      <th>6</th>\n",
       "      <td>81761.81</td>\n",
       "    </tr>\n",
       "    <tr>\n",
       "      <th>7</th>\n",
       "      <td>92363.93</td>\n",
       "    </tr>\n",
       "    <tr>\n",
       "      <th rowspan=\"7\" valign=\"top\">A006</th>\n",
       "      <th>1</th>\n",
       "      <td>140879.28</td>\n",
       "    </tr>\n",
       "    <tr>\n",
       "      <th>2</th>\n",
       "      <td>108541.61</td>\n",
       "    </tr>\n",
       "    <tr>\n",
       "      <th>3</th>\n",
       "      <td>119355.97</td>\n",
       "    </tr>\n",
       "    <tr>\n",
       "      <th>4</th>\n",
       "      <td>102073.84</td>\n",
       "    </tr>\n",
       "    <tr>\n",
       "      <th>5</th>\n",
       "      <td>127921.97</td>\n",
       "    </tr>\n",
       "    <tr>\n",
       "      <th>6</th>\n",
       "      <td>159742.19</td>\n",
       "    </tr>\n",
       "    <tr>\n",
       "      <th>7</th>\n",
       "      <td>179790.11</td>\n",
       "    </tr>\n",
       "    <tr>\n",
       "      <th rowspan=\"7\" valign=\"top\">A007</th>\n",
       "      <th>1</th>\n",
       "      <td>112019.93</td>\n",
       "    </tr>\n",
       "    <tr>\n",
       "      <th>2</th>\n",
       "      <td>66005.01</td>\n",
       "    </tr>\n",
       "    <tr>\n",
       "      <th>3</th>\n",
       "      <td>86584.89</td>\n",
       "    </tr>\n",
       "    <tr>\n",
       "      <th>4</th>\n",
       "      <td>73648.53</td>\n",
       "    </tr>\n",
       "    <tr>\n",
       "      <th>5</th>\n",
       "      <td>93341.48</td>\n",
       "    </tr>\n",
       "    <tr>\n",
       "      <th>6</th>\n",
       "      <td>120031.15</td>\n",
       "    </tr>\n",
       "    <tr>\n",
       "      <th>7</th>\n",
       "      <td>135007.17</td>\n",
       "    </tr>\n",
       "    <tr>\n",
       "      <th rowspan=\"2\" valign=\"top\">A008</th>\n",
       "      <th>1</th>\n",
       "      <td>214457.08</td>\n",
       "    </tr>\n",
       "    <tr>\n",
       "      <th>2</th>\n",
       "      <td>138191.26</td>\n",
       "    </tr>\n",
       "    <tr>\n",
       "      <th>...</th>\n",
       "      <th>...</th>\n",
       "      <td>...</td>\n",
       "    </tr>\n",
       "    <tr>\n",
       "      <th rowspan=\"2\" valign=\"top\">D006</th>\n",
       "      <th>6</th>\n",
       "      <td>143125.00</td>\n",
       "    </tr>\n",
       "    <tr>\n",
       "      <th>7</th>\n",
       "      <td>138331.68</td>\n",
       "    </tr>\n",
       "    <tr>\n",
       "      <th rowspan=\"7\" valign=\"top\">D007</th>\n",
       "      <th>1</th>\n",
       "      <td>208531.64</td>\n",
       "    </tr>\n",
       "    <tr>\n",
       "      <th>2</th>\n",
       "      <td>184823.07</td>\n",
       "    </tr>\n",
       "    <tr>\n",
       "      <th>3</th>\n",
       "      <td>189947.50</td>\n",
       "    </tr>\n",
       "    <tr>\n",
       "      <th>4</th>\n",
       "      <td>158953.41</td>\n",
       "    </tr>\n",
       "    <tr>\n",
       "      <th>5</th>\n",
       "      <td>182970.90</td>\n",
       "    </tr>\n",
       "    <tr>\n",
       "      <th>6</th>\n",
       "      <td>223944.55</td>\n",
       "    </tr>\n",
       "    <tr>\n",
       "      <th>7</th>\n",
       "      <td>212435.51</td>\n",
       "    </tr>\n",
       "    <tr>\n",
       "      <th rowspan=\"7\" valign=\"top\">D008</th>\n",
       "      <th>1</th>\n",
       "      <td>101284.68</td>\n",
       "    </tr>\n",
       "    <tr>\n",
       "      <th>2</th>\n",
       "      <td>94071.08</td>\n",
       "    </tr>\n",
       "    <tr>\n",
       "      <th>3</th>\n",
       "      <td>82560.75</td>\n",
       "    </tr>\n",
       "    <tr>\n",
       "      <th>4</th>\n",
       "      <td>77454.43</td>\n",
       "    </tr>\n",
       "    <tr>\n",
       "      <th>5</th>\n",
       "      <td>100652.68</td>\n",
       "    </tr>\n",
       "    <tr>\n",
       "      <th>6</th>\n",
       "      <td>121700.01</td>\n",
       "    </tr>\n",
       "    <tr>\n",
       "      <th>7</th>\n",
       "      <td>115284.13</td>\n",
       "    </tr>\n",
       "    <tr>\n",
       "      <th rowspan=\"7\" valign=\"top\">D009</th>\n",
       "      <th>1</th>\n",
       "      <td>69919.55</td>\n",
       "    </tr>\n",
       "    <tr>\n",
       "      <th>2</th>\n",
       "      <td>61923.03</td>\n",
       "    </tr>\n",
       "    <tr>\n",
       "      <th>3</th>\n",
       "      <td>63055.53</td>\n",
       "    </tr>\n",
       "    <tr>\n",
       "      <th>4</th>\n",
       "      <td>58396.91</td>\n",
       "    </tr>\n",
       "    <tr>\n",
       "      <th>5</th>\n",
       "      <td>66965.86</td>\n",
       "    </tr>\n",
       "    <tr>\n",
       "      <th>6</th>\n",
       "      <td>78963.85</td>\n",
       "    </tr>\n",
       "    <tr>\n",
       "      <th>7</th>\n",
       "      <td>71203.23</td>\n",
       "    </tr>\n",
       "    <tr>\n",
       "      <th rowspan=\"7\" valign=\"top\">D010</th>\n",
       "      <th>1</th>\n",
       "      <td>51664.99</td>\n",
       "    </tr>\n",
       "    <tr>\n",
       "      <th>2</th>\n",
       "      <td>44422.83</td>\n",
       "    </tr>\n",
       "    <tr>\n",
       "      <th>3</th>\n",
       "      <td>52822.13</td>\n",
       "    </tr>\n",
       "    <tr>\n",
       "      <th>4</th>\n",
       "      <td>42943.39</td>\n",
       "    </tr>\n",
       "    <tr>\n",
       "      <th>5</th>\n",
       "      <td>50702.03</td>\n",
       "    </tr>\n",
       "    <tr>\n",
       "      <th>6</th>\n",
       "      <td>60388.95</td>\n",
       "    </tr>\n",
       "    <tr>\n",
       "      <th>7</th>\n",
       "      <td>60673.55</td>\n",
       "    </tr>\n",
       "  </tbody>\n",
       "</table>\n",
       "<p>168 rows × 1 columns</p>\n",
       "</div>"
      ],
      "text/plain": [
       "                      BASK_SPEND\n",
       "STORE_CODE SHOP_WEEK            \n",
       "A001       1           472017.39\n",
       "           2           381032.57\n",
       "           3           435021.76\n",
       "           4           340646.18\n",
       "           5           447444.71\n",
       "           6           697426.47\n",
       "           7           661713.98\n",
       "A004       1            79852.84\n",
       "           2            66858.83\n",
       "           3            65185.46\n",
       "           4            56722.94\n",
       "           5            69600.86\n",
       "           6            81761.81\n",
       "           7            92363.93\n",
       "A006       1           140879.28\n",
       "           2           108541.61\n",
       "           3           119355.97\n",
       "           4           102073.84\n",
       "           5           127921.97\n",
       "           6           159742.19\n",
       "           7           179790.11\n",
       "A007       1           112019.93\n",
       "           2            66005.01\n",
       "           3            86584.89\n",
       "           4            73648.53\n",
       "           5            93341.48\n",
       "           6           120031.15\n",
       "           7           135007.17\n",
       "A008       1           214457.08\n",
       "           2           138191.26\n",
       "...                          ...\n",
       "D006       6           143125.00\n",
       "           7           138331.68\n",
       "D007       1           208531.64\n",
       "           2           184823.07\n",
       "           3           189947.50\n",
       "           4           158953.41\n",
       "           5           182970.90\n",
       "           6           223944.55\n",
       "           7           212435.51\n",
       "D008       1           101284.68\n",
       "           2            94071.08\n",
       "           3            82560.75\n",
       "           4            77454.43\n",
       "           5           100652.68\n",
       "           6           121700.01\n",
       "           7           115284.13\n",
       "D009       1            69919.55\n",
       "           2            61923.03\n",
       "           3            63055.53\n",
       "           4            58396.91\n",
       "           5            66965.86\n",
       "           6            78963.85\n",
       "           7            71203.23\n",
       "D010       1            51664.99\n",
       "           2            44422.83\n",
       "           3            52822.13\n",
       "           4            42943.39\n",
       "           5            50702.03\n",
       "           6            60388.95\n",
       "           7            60673.55\n",
       "\n",
       "[168 rows x 1 columns]"
      ]
     },
     "execution_count": 21,
     "metadata": {},
     "output_type": "execute_result"
    }
   ],
   "source": [
    "StoreWeekTurnover = Basket.groupby(['STORE_CODE','SHOP_WEEK'])[['BASK_SPEND']].sum()\n",
    "StoreWeekTurnover"
   ]
  },
  {
   "cell_type": "markdown",
   "metadata": {},
   "source": [
    "### 查看A001商铺一周内的营业额占比，同理可以了解任何一个商铺的情况"
   ]
  },
  {
   "cell_type": "code",
   "execution_count": 22,
   "metadata": {},
   "outputs": [
    {
     "data": {
      "text/plain": [
       "<matplotlib.axes._subplots.AxesSubplot at 0x205a67bc748>"
      ]
     },
     "execution_count": 22,
     "metadata": {},
     "output_type": "execute_result"
    },
    {
     "data": {
      "image/png": "[encoded data removed]",
      "text/plain": [
       "<Figure size 432x288 with 1 Axes>"
      ]
     },
     "metadata": {},
     "output_type": "display_data"
    }
   ],
   "source": [
    "week=['星期一','星期二','星期三','星期四','星期五','星期六','星期日']\n",
    "StoreWeekTurnover.loc['A001']['BASK_SPEND'].plot(kind='pie',labels=week,title=\"A001商铺一周内营业额占比\",autopct='%.2f%%')"
   ]
  },
  {
   "cell_type": "code",
   "execution_count": 23,
   "metadata": {},
   "outputs": [
    {
     "data": {
      "text/plain": [
       "<matplotlib.axes._subplots.AxesSubplot at 0x205a6b11860>"
      ]
     },
     "execution_count": 23,
     "metadata": {},
     "output_type": "execute_result"
    },
    {
     "data": {
      "image/png": "[encoded data removed]",
      "text/plain": [
       "<Figure size 432x288 with 1 Axes>"
      ]
     },
     "metadata": {},
     "output_type": "display_data"
    }
   ],
   "source": [
    "StoreWeekTurnover.loc['A004']['BASK_SPEND'].plot(kind='pie',labels=week,title=\"A004商铺一周内营业额占比\",autopct='%.2f%%')"
   ]
  },
  {
   "cell_type": "code",
   "execution_count": 24,
   "metadata": {},
   "outputs": [
    {
     "data": {
      "text/plain": [
       "<matplotlib.axes._subplots.AxesSubplot at 0x205a6b65f98>"
      ]
     },
     "execution_count": 24,
     "metadata": {},
     "output_type": "execute_result"
    },
    {
     "data": {
      "image/png": "[encoded data removed]",
      "text/plain": [
       "<Figure size 432x288 with 1 Axes>"
      ]
     },
     "metadata": {},
     "output_type": "display_data"
    }
   ],
   "source": [
    "StoreWeekTurnover.loc['D010']['BASK_SPEND'].plot(kind='pie',labels=week,title=\"D010商铺一周内营业额占比\",autopct='%.2f%%')"
   ]
  },
  {
   "cell_type": "markdown",
   "metadata": {},
   "source": [
    "### 按商铺分类汇总一星期每天的营业额"
   ]
  },
  {
   "cell_type": "code",
   "execution_count": 25,
   "metadata": {},
   "outputs": [
    {
     "data": {
      "text/html": [
       "<div>\n",
       "<style scoped>\n",
       "    .dataframe tbody tr th:only-of-type {\n",
       "        vertical-align: middle;\n",
       "    }\n",
       "\n",
       "    .dataframe tbody tr th {\n",
       "        vertical-align: top;\n",
       "    }\n",
       "\n",
       "    .dataframe thead th {\n",
       "        text-align: right;\n",
       "    }\n",
       "</style>\n",
       "<table border=\"1\" class=\"dataframe\">\n",
       "  <thead>\n",
       "    <tr style=\"text-align: right;\">\n",
       "      <th></th>\n",
       "      <th></th>\n",
       "      <th>BASK_SPEND</th>\n",
       "    </tr>\n",
       "    <tr>\n",
       "      <th>SHOP_WEEK</th>\n",
       "      <th>STORE_CODE</th>\n",
       "      <th></th>\n",
       "    </tr>\n",
       "  </thead>\n",
       "  <tbody>\n",
       "    <tr>\n",
       "      <th rowspan=\"24\" valign=\"top\">1</th>\n",
       "      <th>A001</th>\n",
       "      <td>472017.39</td>\n",
       "    </tr>\n",
       "    <tr>\n",
       "      <th>A004</th>\n",
       "      <td>79852.84</td>\n",
       "    </tr>\n",
       "    <tr>\n",
       "      <th>A006</th>\n",
       "      <td>140879.28</td>\n",
       "    </tr>\n",
       "    <tr>\n",
       "      <th>A007</th>\n",
       "      <td>112019.93</td>\n",
       "    </tr>\n",
       "    <tr>\n",
       "      <th>A008</th>\n",
       "      <td>214457.08</td>\n",
       "    </tr>\n",
       "    <tr>\n",
       "      <th>A009</th>\n",
       "      <td>135757.11</td>\n",
       "    </tr>\n",
       "    <tr>\n",
       "      <th>A010</th>\n",
       "      <td>97784.78</td>\n",
       "    </tr>\n",
       "    <tr>\n",
       "      <th>A012</th>\n",
       "      <td>127789.36</td>\n",
       "    </tr>\n",
       "    <tr>\n",
       "      <th>A013</th>\n",
       "      <td>175108.68</td>\n",
       "    </tr>\n",
       "    <tr>\n",
       "      <th>A016</th>\n",
       "      <td>103253.50</td>\n",
       "    </tr>\n",
       "    <tr>\n",
       "      <th>A017</th>\n",
       "      <td>63236.68</td>\n",
       "    </tr>\n",
       "    <tr>\n",
       "      <th>A018</th>\n",
       "      <td>79467.85</td>\n",
       "    </tr>\n",
       "    <tr>\n",
       "      <th>A019</th>\n",
       "      <td>115857.72</td>\n",
       "    </tr>\n",
       "    <tr>\n",
       "      <th>A021</th>\n",
       "      <td>108197.45</td>\n",
       "    </tr>\n",
       "    <tr>\n",
       "      <th>A022</th>\n",
       "      <td>73066.65</td>\n",
       "    </tr>\n",
       "    <tr>\n",
       "      <th>D002</th>\n",
       "      <td>431956.46</td>\n",
       "    </tr>\n",
       "    <tr>\n",
       "      <th>D003</th>\n",
       "      <td>35836.09</td>\n",
       "    </tr>\n",
       "    <tr>\n",
       "      <th>D004</th>\n",
       "      <td>120932.82</td>\n",
       "    </tr>\n",
       "    <tr>\n",
       "      <th>D005</th>\n",
       "      <td>84991.07</td>\n",
       "    </tr>\n",
       "    <tr>\n",
       "      <th>D006</th>\n",
       "      <td>119730.11</td>\n",
       "    </tr>\n",
       "    <tr>\n",
       "      <th>D007</th>\n",
       "      <td>208531.64</td>\n",
       "    </tr>\n",
       "    <tr>\n",
       "      <th>D008</th>\n",
       "      <td>101284.68</td>\n",
       "    </tr>\n",
       "    <tr>\n",
       "      <th>D009</th>\n",
       "      <td>69919.55</td>\n",
       "    </tr>\n",
       "    <tr>\n",
       "      <th>D010</th>\n",
       "      <td>51664.99</td>\n",
       "    </tr>\n",
       "    <tr>\n",
       "      <th rowspan=\"6\" valign=\"top\">2</th>\n",
       "      <th>A001</th>\n",
       "      <td>381032.57</td>\n",
       "    </tr>\n",
       "    <tr>\n",
       "      <th>A004</th>\n",
       "      <td>66858.83</td>\n",
       "    </tr>\n",
       "    <tr>\n",
       "      <th>A006</th>\n",
       "      <td>108541.61</td>\n",
       "    </tr>\n",
       "    <tr>\n",
       "      <th>A007</th>\n",
       "      <td>66005.01</td>\n",
       "    </tr>\n",
       "    <tr>\n",
       "      <th>A008</th>\n",
       "      <td>138191.26</td>\n",
       "    </tr>\n",
       "    <tr>\n",
       "      <th>A009</th>\n",
       "      <td>84234.16</td>\n",
       "    </tr>\n",
       "    <tr>\n",
       "      <th>...</th>\n",
       "      <th>...</th>\n",
       "      <td>...</td>\n",
       "    </tr>\n",
       "    <tr>\n",
       "      <th rowspan=\"6\" valign=\"top\">6</th>\n",
       "      <th>D005</th>\n",
       "      <td>95086.20</td>\n",
       "    </tr>\n",
       "    <tr>\n",
       "      <th>D006</th>\n",
       "      <td>143125.00</td>\n",
       "    </tr>\n",
       "    <tr>\n",
       "      <th>D007</th>\n",
       "      <td>223944.55</td>\n",
       "    </tr>\n",
       "    <tr>\n",
       "      <th>D008</th>\n",
       "      <td>121700.01</td>\n",
       "    </tr>\n",
       "    <tr>\n",
       "      <th>D009</th>\n",
       "      <td>78963.85</td>\n",
       "    </tr>\n",
       "    <tr>\n",
       "      <th>D010</th>\n",
       "      <td>60388.95</td>\n",
       "    </tr>\n",
       "    <tr>\n",
       "      <th rowspan=\"24\" valign=\"top\">7</th>\n",
       "      <th>A001</th>\n",
       "      <td>661713.98</td>\n",
       "    </tr>\n",
       "    <tr>\n",
       "      <th>A004</th>\n",
       "      <td>92363.93</td>\n",
       "    </tr>\n",
       "    <tr>\n",
       "      <th>A006</th>\n",
       "      <td>179790.11</td>\n",
       "    </tr>\n",
       "    <tr>\n",
       "      <th>A007</th>\n",
       "      <td>135007.17</td>\n",
       "    </tr>\n",
       "    <tr>\n",
       "      <th>A008</th>\n",
       "      <td>273692.30</td>\n",
       "    </tr>\n",
       "    <tr>\n",
       "      <th>A009</th>\n",
       "      <td>155682.23</td>\n",
       "    </tr>\n",
       "    <tr>\n",
       "      <th>A010</th>\n",
       "      <td>124282.35</td>\n",
       "    </tr>\n",
       "    <tr>\n",
       "      <th>A012</th>\n",
       "      <td>146219.24</td>\n",
       "    </tr>\n",
       "    <tr>\n",
       "      <th>A013</th>\n",
       "      <td>215782.05</td>\n",
       "    </tr>\n",
       "    <tr>\n",
       "      <th>A016</th>\n",
       "      <td>144661.96</td>\n",
       "    </tr>\n",
       "    <tr>\n",
       "      <th>A017</th>\n",
       "      <td>68320.10</td>\n",
       "    </tr>\n",
       "    <tr>\n",
       "      <th>A018</th>\n",
       "      <td>99081.50</td>\n",
       "    </tr>\n",
       "    <tr>\n",
       "      <th>A019</th>\n",
       "      <td>135553.75</td>\n",
       "    </tr>\n",
       "    <tr>\n",
       "      <th>A021</th>\n",
       "      <td>128635.64</td>\n",
       "    </tr>\n",
       "    <tr>\n",
       "      <th>A022</th>\n",
       "      <td>84079.31</td>\n",
       "    </tr>\n",
       "    <tr>\n",
       "      <th>D002</th>\n",
       "      <td>557231.68</td>\n",
       "    </tr>\n",
       "    <tr>\n",
       "      <th>D003</th>\n",
       "      <td>43152.24</td>\n",
       "    </tr>\n",
       "    <tr>\n",
       "      <th>D004</th>\n",
       "      <td>134834.38</td>\n",
       "    </tr>\n",
       "    <tr>\n",
       "      <th>D005</th>\n",
       "      <td>96161.00</td>\n",
       "    </tr>\n",
       "    <tr>\n",
       "      <th>D006</th>\n",
       "      <td>138331.68</td>\n",
       "    </tr>\n",
       "    <tr>\n",
       "      <th>D007</th>\n",
       "      <td>212435.51</td>\n",
       "    </tr>\n",
       "    <tr>\n",
       "      <th>D008</th>\n",
       "      <td>115284.13</td>\n",
       "    </tr>\n",
       "    <tr>\n",
       "      <th>D009</th>\n",
       "      <td>71203.23</td>\n",
       "    </tr>\n",
       "    <tr>\n",
       "      <th>D010</th>\n",
       "      <td>60673.55</td>\n",
       "    </tr>\n",
       "  </tbody>\n",
       "</table>\n",
       "<p>168 rows × 1 columns</p>\n",
       "</div>"
      ],
      "text/plain": [
       "                      BASK_SPEND\n",
       "SHOP_WEEK STORE_CODE            \n",
       "1         A001         472017.39\n",
       "          A004          79852.84\n",
       "          A006         140879.28\n",
       "          A007         112019.93\n",
       "          A008         214457.08\n",
       "          A009         135757.11\n",
       "          A010          97784.78\n",
       "          A012         127789.36\n",
       "          A013         175108.68\n",
       "          A016         103253.50\n",
       "          A017          63236.68\n",
       "          A018          79467.85\n",
       "          A019         115857.72\n",
       "          A021         108197.45\n",
       "          A022          73066.65\n",
       "          D002         431956.46\n",
       "          D003          35836.09\n",
       "          D004         120932.82\n",
       "          D005          84991.07\n",
       "          D006         119730.11\n",
       "          D007         208531.64\n",
       "          D008         101284.68\n",
       "          D009          69919.55\n",
       "          D010          51664.99\n",
       "2         A001         381032.57\n",
       "          A004          66858.83\n",
       "          A006         108541.61\n",
       "          A007          66005.01\n",
       "          A008         138191.26\n",
       "          A009          84234.16\n",
       "...                          ...\n",
       "6         D005          95086.20\n",
       "          D006         143125.00\n",
       "          D007         223944.55\n",
       "          D008         121700.01\n",
       "          D009          78963.85\n",
       "          D010          60388.95\n",
       "7         A001         661713.98\n",
       "          A004          92363.93\n",
       "          A006         179790.11\n",
       "          A007         135007.17\n",
       "          A008         273692.30\n",
       "          A009         155682.23\n",
       "          A010         124282.35\n",
       "          A012         146219.24\n",
       "          A013         215782.05\n",
       "          A016         144661.96\n",
       "          A017          68320.10\n",
       "          A018          99081.50\n",
       "          A019         135553.75\n",
       "          A021         128635.64\n",
       "          A022          84079.31\n",
       "          D002         557231.68\n",
       "          D003          43152.24\n",
       "          D004         134834.38\n",
       "          D005          96161.00\n",
       "          D006         138331.68\n",
       "          D007         212435.51\n",
       "          D008         115284.13\n",
       "          D009          71203.23\n",
       "          D010          60673.55\n",
       "\n",
       "[168 rows x 1 columns]"
      ]
     },
     "execution_count": 25,
     "metadata": {},
     "output_type": "execute_result"
    }
   ],
   "source": [
    "WeekStoreTurnover= Basket.groupby(['SHOP_WEEK','STORE_CODE'])[['BASK_SPEND']].sum()\n",
    "WeekStoreTurnover"
   ]
  },
  {
   "cell_type": "markdown",
   "metadata": {},
   "source": [
    "### 展示星期一各个商铺的营业额，同理可以展示每一天的"
   ]
  },
  {
   "cell_type": "code",
   "execution_count": 26,
   "metadata": {},
   "outputs": [
    {
     "data": {
      "text/plain": [
       "<matplotlib.axes._subplots.AxesSubplot at 0x205a6bbf588>"
      ]
     },
     "execution_count": 26,
     "metadata": {},
     "output_type": "execute_result"
    },
    {
     "data": {
      "image/png": "[encoded data removed]",
      "text/plain": [
       "<Figure size 1008x576 with 1 Axes>"
      ]
     },
     "metadata": {},
     "output_type": "display_data"
    }
   ],
   "source": [
    "WeekStoreTurnover.loc[1].plot(kind='bar',color=\"blue\",title=\"星期一商铺营业额\",figsize=(14,8),width=0.8)"
   ]
  },
  {
   "cell_type": "code",
   "execution_count": 27,
   "metadata": {},
   "outputs": [
    {
     "data": {
      "text/plain": [
       "<matplotlib.axes._subplots.AxesSubplot at 0x205a67add30>"
      ]
     },
     "execution_count": 27,
     "metadata": {},
     "output_type": "execute_result"
    },
    {
     "data": {
      "image/png": "[encoded data removed]",
      "text/plain": [
       "<Figure size 1008x576 with 1 Axes>"
      ]
     },
     "metadata": {},
     "output_type": "display_data"
    }
   ],
   "source": [
    "WeekStoreTurnover.loc[2].plot(kind='bar',color=\"blue\",title=\"星期二商铺营业额\",figsize=(14,8),width=0.8)"
   ]
  },
  {
   "cell_type": "code",
   "execution_count": 28,
   "metadata": {},
   "outputs": [
    {
     "data": {
      "text/plain": [
       "<matplotlib.axes._subplots.AxesSubplot at 0x205a6ed7860>"
      ]
     },
     "execution_count": 28,
     "metadata": {},
     "output_type": "execute_result"
    },
    {
     "data": {
      "image/png": "[encoded data removed]",
      "text/plain": [
       "<Figure size 1008x576 with 1 Axes>"
      ]
     },
     "metadata": {},
     "output_type": "display_data"
    }
   ],
   "source": [
    "WeekStoreTurnover.loc[3].plot(kind='bar',color=\"blue\",title=\"星期三商铺营业额\",figsize=(14,8),width=0.8)"
   ]
  },
  {
   "cell_type": "code",
   "execution_count": 29,
   "metadata": {},
   "outputs": [
    {
     "data": {
      "text/plain": [
       "<matplotlib.axes._subplots.AxesSubplot at 0x205a83dbbe0>"
      ]
     },
     "execution_count": 29,
     "metadata": {},
     "output_type": "execute_result"
    },
    {
     "data": {
      "image/png": "[encoded data removed]",
      "text/plain": [
       "<Figure size 1008x576 with 1 Axes>"
      ]
     },
     "metadata": {},
     "output_type": "display_data"
    }
   ],
   "source": [
    "WeekStoreTurnover.loc[4].plot(kind='bar',color=\"blue\",title=\"星期四商铺营业额\",figsize=(14,8),width=0.8)"
   ]
  },
  {
   "cell_type": "code",
   "execution_count": 30,
   "metadata": {},
   "outputs": [
    {
     "data": {
      "text/plain": [
       "<matplotlib.axes._subplots.AxesSubplot at 0x205a87bb080>"
      ]
     },
     "execution_count": 30,
     "metadata": {},
     "output_type": "execute_result"
    },
    {
     "data": {
      "image/png": "[encoded data removed]",
      "text/plain": [
       "<Figure size 1008x576 with 1 Axes>"
      ]
     },
     "metadata": {},
     "output_type": "display_data"
    }
   ],
   "source": [
    "WeekStoreTurnover.loc[5].plot(kind='bar',color=\"blue\",title=\"星期五商铺营业额\",figsize=(14,8),width=0.8)"
   ]
  },
  {
   "cell_type": "code",
   "execution_count": 31,
   "metadata": {},
   "outputs": [
    {
     "data": {
      "text/plain": [
       "<matplotlib.axes._subplots.AxesSubplot at 0x205a64eadd8>"
      ]
     },
     "execution_count": 31,
     "metadata": {},
     "output_type": "execute_result"
    },
    {
     "data": {
      "image/png": "[encoded data removed]",
      "text/plain": [
       "<Figure size 1008x576 with 1 Axes>"
      ]
     },
     "metadata": {},
     "output_type": "display_data"
    }
   ],
   "source": [
    "WeekStoreTurnover.loc[6].plot(kind='bar',color=\"blue\",title=\"星期六商铺营业额\",figsize=(14,8),width=0.8)"
   ]
  },
  {
   "cell_type": "code",
   "execution_count": 32,
   "metadata": {},
   "outputs": [
    {
     "data": {
      "text/plain": [
       "<matplotlib.axes._subplots.AxesSubplot at 0x205b2c05588>"
      ]
     },
     "execution_count": 32,
     "metadata": {},
     "output_type": "execute_result"
    },
    {
     "data": {
      "image/png": "[encoded data removed]",
      "text/plain": [
       "<Figure size 1008x576 with 1 Axes>"
      ]
     },
     "metadata": {},
     "output_type": "display_data"
    }
   ],
   "source": [
    "WeekStoreTurnover.loc[7].plot(kind='bar',color=\"blue\",title=\"星期日商铺营业额\",figsize=(14,8),width=0.8)"
   ]
  },
  {
   "cell_type": "markdown",
   "metadata": {},
   "source": [
    "### 商品分析"
   ]
  },
  {
   "cell_type": "markdown",
   "metadata": {},
   "source": [
    "### 处理商品数量值为负的异常值，改为正数"
   ]
  },
  {
   "cell_type": "code",
   "execution_count": 33,
   "metadata": {},
   "outputs": [],
   "source": [
    "Item['ITEM_QUANTITY']=abs(Item['ITEM_QUANTITY'])"
   ]
  },
  {
   "cell_type": "markdown",
   "metadata": {},
   "source": [
    "### 商品价格箱型图分析"
   ]
  },
  {
   "cell_type": "code",
   "execution_count": 34,
   "metadata": {},
   "outputs": [
    {
     "data": {
      "image/png": "[encoded data removed]",
      "text/plain": [
       "<Figure size 432x288 with 1 Axes>"
      ]
     },
     "metadata": {},
     "output_type": "display_data"
    }
   ],
   "source": [
    "normal_price_array = np.array(Item['NORMAL_PRICE'])\n",
    " \n",
    "df = pd.DataFrame(normal_price_array)\n",
    "df.plot.box(title=\"正常价格\")\n",
    "plt.grid(linestyle=\"--\", alpha=0.3)\n",
    "plt.show()"
   ]
  },
  {
   "cell_type": "markdown",
   "metadata": {},
   "source": [
    "### 商品价格0-20价格箱型图分析"
   ]
  },
  {
   "cell_type": "code",
   "execution_count": 35,
   "metadata": {},
   "outputs": [
    {
     "data": {
      "image/png": "[encoded data removed]",
      "text/plain": [
       "<Figure size 432x288 with 1 Axes>"
      ]
     },
     "metadata": {},
     "output_type": "display_data"
    }
   ],
   "source": [
    "Item_normal=Item.loc[(Item['NORMAL_PRICE']<=20)]\n",
    "normal_price_array = np.array(Item_normal['NORMAL_PRICE'])\n",
    " \n",
    "df = pd.DataFrame(normal_price_array)\n",
    "df.plot.box(title=\"正常价格\")\n",
    "plt.grid(linestyle=\"--\", alpha=0.3)\n",
    "plt.show()"
   ]
  },
  {
   "cell_type": "code",
   "execution_count": 36,
   "metadata": {},
   "outputs": [],
   "source": [
    "item_new = Item[['BASK_CODE', 'PROD_CODE']]"
   ]
  },
  {
   "cell_type": "markdown",
   "metadata": {},
   "source": [
    "### 店铺促销情况分析"
   ]
  },
  {
   "cell_type": "code",
   "execution_count": 37,
   "metadata": {},
   "outputs": [
    {
     "data": {
      "text/plain": [
       "STORE_CODE\n",
       "D002   -465244.61\n",
       "A001   -454457.05\n",
       "D007   -215108.26\n",
       "A008   -138164.49\n",
       "A013   -135125.86\n",
       "A012   -116310.50\n",
       "A006   -115700.27\n",
       "D004   -109239.76\n",
       "D008    -90824.42\n",
       "D006    -84627.86\n",
       "Name: DISCOUNT_AMOUNT, dtype: float64"
      ]
     },
     "execution_count": 37,
     "metadata": {},
     "output_type": "execute_result"
    }
   ],
   "source": [
    "discount_storeid = Item.groupby(by=\"STORE_CODE\")[\"DISCOUNT_AMOUNT\"].sum().sort_values(ascending=True)\n",
    "discount_storeid.head(10)"
   ]
  },
  {
   "cell_type": "code",
   "execution_count": 38,
   "metadata": {},
   "outputs": [
    {
     "data": {
      "image/png": "[encoded data removed]",
      "text/plain": [
       "<Figure size 720x432 with 1 Axes>"
      ]
     },
     "metadata": {},
     "output_type": "display_data"
    }
   ],
   "source": [
    "plt.figure(figsize=(10,6))\n",
    "x=discount_storeid.index.tolist()\n",
    "y=discount_storeid.values.tolist()\n",
    "width = 0.4\n",
    "p2 = plt.bar(x, y, width, label=\"促销额\")\n",
    "plt.xlabel('商铺',fontsize=12)\n",
    "plt.ylabel('促销额',fontsize=12)\n",
    "plt.title('商铺促销额',fontsize=12) \n",
    "plt.xticks(fontsize=12,rotation=45)\n",
    "plt.yticks(fontsize=12)\n",
    "plt.legend(loc=\"lower right\") \n",
    "plt.show()"
   ]
  },
  {
   "cell_type": "markdown",
   "metadata": {},
   "source": [
    "### 相关性分析"
   ]
  },
  {
   "cell_type": "code",
   "execution_count": 39,
   "metadata": {},
   "outputs": [
    {
     "name": "stdout",
     "output_type": "stream",
     "text": [
      "                    POSID  BASK_CODE  PROD_CODE  ITEM_QUANTITY  ITEM_SPEND  \\\n",
      "POSID            1.000000  -0.093078  -0.007516       0.005695    0.019737   \n",
      "BASK_CODE       -0.093078   1.000000   0.003042      -0.011182   -0.013570   \n",
      "PROD_CODE       -0.007516   0.003042   1.000000      -0.007539    0.004962   \n",
      "ITEM_QUANTITY    0.005695  -0.011182  -0.007539       1.000000    0.325871   \n",
      "ITEM_SPEND       0.019737  -0.013570   0.004962       0.325871    1.000000   \n",
      "NORMAL_PRICE     0.052431  -0.017298   0.093936      -0.018375    0.231680   \n",
      "DISCOUNT_AMOUNT -0.005892   0.005220  -0.013600      -0.180876   -0.710971   \n",
      "\n",
      "                 NORMAL_PRICE  DISCOUNT_AMOUNT  \n",
      "POSID                0.052431        -0.005892  \n",
      "BASK_CODE           -0.017298         0.005220  \n",
      "PROD_CODE            0.093936        -0.013600  \n",
      "ITEM_QUANTITY       -0.018375        -0.180876  \n",
      "ITEM_SPEND           0.231680        -0.710971  \n",
      "NORMAL_PRICE         1.000000        -0.080423  \n",
      "DISCOUNT_AMOUNT     -0.080423         1.000000  \n"
     ]
    }
   ],
   "source": [
    "#关联关系\n",
    "print(Item.corr(method='pearson'))   #协方差矩阵"
   ]
  },
  {
   "cell_type": "code",
   "execution_count": 40,
   "metadata": {},
   "outputs": [
    {
     "data": {
      "image/png": "[encoded data removed]",
      "text/plain": [
       "<Figure size 432x288 with 2 Axes>"
      ]
     },
     "metadata": {},
     "output_type": "display_data"
    }
   ],
   "source": [
    "#相关矩阵图\n",
    "#names = ['item_quantity','item_spend','normal_price','discount_amount','order_week']\n",
    "fig = plt.figure()\n",
    "ax = fig.add_subplot(111)\n",
    "cax = ax.matshow(Item.corr(), vmin=-1,vmax=1, interpolation='none')\n",
    "fig.colorbar(cax)\n",
    "ticks = np.arange(0, 7, 1)\n",
    "ax.set_xticks(ticks)\n",
    "ax.set_yticks(ticks)\n",
    "#ax.set_xticklabels(names,rotation=45,fontsize=12)\n",
    "#ax.set_yticklabels(names,fontsize=12)\n",
    "plt.show()"
   ]
  },
  {
   "cell_type": "markdown",
   "metadata": {},
   "source": [
    "### 用户角度分析"
   ]
  },
  {
   "cell_type": "code",
   "execution_count": 41,
   "metadata": {},
   "outputs": [
    {
     "data": {
      "text/html": [
       "<div>\n",
       "<style scoped>\n",
       "    .dataframe tbody tr th:only-of-type {\n",
       "        vertical-align: middle;\n",
       "    }\n",
       "\n",
       "    .dataframe tbody tr th {\n",
       "        vertical-align: top;\n",
       "    }\n",
       "\n",
       "    .dataframe thead th {\n",
       "        text-align: right;\n",
       "    }\n",
       "</style>\n",
       "<table border=\"1\" class=\"dataframe\">\n",
       "  <thead>\n",
       "    <tr style=\"text-align: right;\">\n",
       "      <th></th>\n",
       "      <th>POSID</th>\n",
       "      <th>PROD_CODE</th>\n",
       "      <th>ITEM_QUANTITY</th>\n",
       "      <th>ITEM_SPEND</th>\n",
       "      <th>NORMAL_PRICE</th>\n",
       "      <th>DISCOUNT_AMOUNT</th>\n",
       "    </tr>\n",
       "    <tr>\n",
       "      <th>BASK_CODE</th>\n",
       "      <th></th>\n",
       "      <th></th>\n",
       "      <th></th>\n",
       "      <th></th>\n",
       "      <th></th>\n",
       "      <th></th>\n",
       "    </tr>\n",
       "  </thead>\n",
       "  <tbody>\n",
       "    <tr>\n",
       "      <th>961</th>\n",
       "      <td>3</td>\n",
       "      <td>7137</td>\n",
       "      <td>1.0</td>\n",
       "      <td>25.0</td>\n",
       "      <td>25.0</td>\n",
       "      <td>0.0</td>\n",
       "    </tr>\n",
       "    <tr>\n",
       "      <th>962</th>\n",
       "      <td>6</td>\n",
       "      <td>102942</td>\n",
       "      <td>11.0</td>\n",
       "      <td>132.1</td>\n",
       "      <td>19.6</td>\n",
       "      <td>0.0</td>\n",
       "    </tr>\n",
       "    <tr>\n",
       "      <th>964</th>\n",
       "      <td>6</td>\n",
       "      <td>7936</td>\n",
       "      <td>2.0</td>\n",
       "      <td>28.0</td>\n",
       "      <td>28.0</td>\n",
       "      <td>0.0</td>\n",
       "    </tr>\n",
       "    <tr>\n",
       "      <th>965</th>\n",
       "      <td>6</td>\n",
       "      <td>38638</td>\n",
       "      <td>2.0</td>\n",
       "      <td>40.0</td>\n",
       "      <td>40.0</td>\n",
       "      <td>0.0</td>\n",
       "    </tr>\n",
       "    <tr>\n",
       "      <th>966</th>\n",
       "      <td>3</td>\n",
       "      <td>7133</td>\n",
       "      <td>1.0</td>\n",
       "      <td>12.5</td>\n",
       "      <td>12.5</td>\n",
       "      <td>0.0</td>\n",
       "    </tr>\n",
       "  </tbody>\n",
       "</table>\n",
       "</div>"
      ],
      "text/plain": [
       "           POSID  PROD_CODE  ITEM_QUANTITY  ITEM_SPEND  NORMAL_PRICE  \\\n",
       "BASK_CODE                                                              \n",
       "961            3       7137            1.0        25.0          25.0   \n",
       "962            6     102942           11.0       132.1          19.6   \n",
       "964            6       7936            2.0        28.0          28.0   \n",
       "965            6      38638            2.0        40.0          40.0   \n",
       "966            3       7133            1.0        12.5          12.5   \n",
       "\n",
       "           DISCOUNT_AMOUNT  \n",
       "BASK_CODE                   \n",
       "961                    0.0  \n",
       "962                    0.0  \n",
       "964                    0.0  \n",
       "965                    0.0  \n",
       "966                    0.0  "
      ]
     },
     "execution_count": 41,
     "metadata": {},
     "output_type": "execute_result"
    }
   ],
   "source": [
    "user_grouped=Item.groupby('BASK_CODE').sum()\n",
    "user_grouped.head()"
   ]
  },
  {
   "cell_type": "code",
   "execution_count": 42,
   "metadata": {},
   "outputs": [
    {
     "data": {
      "text/html": [
       "<div>\n",
       "<style scoped>\n",
       "    .dataframe tbody tr th:only-of-type {\n",
       "        vertical-align: middle;\n",
       "    }\n",
       "\n",
       "    .dataframe tbody tr th {\n",
       "        vertical-align: top;\n",
       "    }\n",
       "\n",
       "    .dataframe thead th {\n",
       "        text-align: right;\n",
       "    }\n",
       "</style>\n",
       "<table border=\"1\" class=\"dataframe\">\n",
       "  <thead>\n",
       "    <tr style=\"text-align: right;\">\n",
       "      <th></th>\n",
       "      <th>POSID</th>\n",
       "      <th>PROD_CODE</th>\n",
       "      <th>ITEM_QUANTITY</th>\n",
       "      <th>ITEM_SPEND</th>\n",
       "      <th>NORMAL_PRICE</th>\n",
       "      <th>DISCOUNT_AMOUNT</th>\n",
       "    </tr>\n",
       "  </thead>\n",
       "  <tbody>\n",
       "    <tr>\n",
       "      <th>count</th>\n",
       "      <td>281211.000000</td>\n",
       "      <td>2.812110e+05</td>\n",
       "      <td>281211.000000</td>\n",
       "      <td>281211.000000</td>\n",
       "      <td>281211.000000</td>\n",
       "      <td>281211.000000</td>\n",
       "    </tr>\n",
       "    <tr>\n",
       "      <th>mean</th>\n",
       "      <td>18.454289</td>\n",
       "      <td>7.054386e+05</td>\n",
       "      <td>8.922560</td>\n",
       "      <td>79.211955</td>\n",
       "      <td>87.769193</td>\n",
       "      <td>-10.008166</td>\n",
       "    </tr>\n",
       "    <tr>\n",
       "      <th>std</th>\n",
       "      <td>23.066865</td>\n",
       "      <td>6.869107e+05</td>\n",
       "      <td>24.705411</td>\n",
       "      <td>301.311749</td>\n",
       "      <td>100.969038</td>\n",
       "      <td>147.354113</td>\n",
       "    </tr>\n",
       "    <tr>\n",
       "      <th>min</th>\n",
       "      <td>1.000000</td>\n",
       "      <td>3.100000e+01</td>\n",
       "      <td>0.010000</td>\n",
       "      <td>-35866.100000</td>\n",
       "      <td>0.500000</td>\n",
       "      <td>-63510.600000</td>\n",
       "    </tr>\n",
       "    <tr>\n",
       "      <th>25%</th>\n",
       "      <td>5.000000</td>\n",
       "      <td>2.208340e+05</td>\n",
       "      <td>2.000000</td>\n",
       "      <td>20.490000</td>\n",
       "      <td>22.200000</td>\n",
       "      <td>-10.120000</td>\n",
       "    </tr>\n",
       "    <tr>\n",
       "      <th>50%</th>\n",
       "      <td>11.000000</td>\n",
       "      <td>4.989160e+05</td>\n",
       "      <td>5.000000</td>\n",
       "      <td>48.780000</td>\n",
       "      <td>56.500000</td>\n",
       "      <td>-3.000000</td>\n",
       "    </tr>\n",
       "    <tr>\n",
       "      <th>75%</th>\n",
       "      <td>23.000000</td>\n",
       "      <td>9.618265e+05</td>\n",
       "      <td>11.134000</td>\n",
       "      <td>98.500000</td>\n",
       "      <td>119.200000</td>\n",
       "      <td>0.000000</td>\n",
       "    </tr>\n",
       "    <tr>\n",
       "      <th>max</th>\n",
       "      <td>697.000000</td>\n",
       "      <td>1.000368e+07</td>\n",
       "      <td>6581.000000</td>\n",
       "      <td>80064.900000</td>\n",
       "      <td>4236.900000</td>\n",
       "      <td>1335.980000</td>\n",
       "    </tr>\n",
       "  </tbody>\n",
       "</table>\n",
       "</div>"
      ],
      "text/plain": [
       "               POSID     PROD_CODE  ITEM_QUANTITY     ITEM_SPEND  \\\n",
       "count  281211.000000  2.812110e+05  281211.000000  281211.000000   \n",
       "mean       18.454289  7.054386e+05       8.922560      79.211955   \n",
       "std        23.066865  6.869107e+05      24.705411     301.311749   \n",
       "min         1.000000  3.100000e+01       0.010000  -35866.100000   \n",
       "25%         5.000000  2.208340e+05       2.000000      20.490000   \n",
       "50%        11.000000  4.989160e+05       5.000000      48.780000   \n",
       "75%        23.000000  9.618265e+05      11.134000      98.500000   \n",
       "max       697.000000  1.000368e+07    6581.000000   80064.900000   \n",
       "\n",
       "        NORMAL_PRICE  DISCOUNT_AMOUNT  \n",
       "count  281211.000000    281211.000000  \n",
       "mean       87.769193       -10.008166  \n",
       "std       100.969038       147.354113  \n",
       "min         0.500000    -63510.600000  \n",
       "25%        22.200000       -10.120000  \n",
       "50%        56.500000        -3.000000  \n",
       "75%       119.200000         0.000000  \n",
       "max      4236.900000      1335.980000  "
      ]
     },
     "execution_count": 42,
     "metadata": {},
     "output_type": "execute_result"
    }
   ],
   "source": [
    "user_grouped.describe()"
   ]
  },
  {
   "cell_type": "markdown",
   "metadata": {},
   "source": [
    "### 用户消费购买力"
   ]
  },
  {
   "cell_type": "code",
   "execution_count": 43,
   "metadata": {},
   "outputs": [
    {
     "data": {
      "text/plain": [
       "<matplotlib.axes._subplots.AxesSubplot at 0x205b467e6a0>"
      ]
     },
     "execution_count": 43,
     "metadata": {},
     "output_type": "execute_result"
    },
    {
     "data": {
      "image/png": "[encoded data removed]",
      "text/plain": [
       "<Figure size 720x432 with 2 Axes>"
      ]
     },
     "metadata": {},
     "output_type": "display_data"
    }
   ],
   "source": [
    "plt.figure(figsize=(10,6))\n",
    "plt.subplot(121)\n",
    "Item.ITEM_SPEND.hist(bins=30)\n",
    "\n",
    "plt.subplot(122)\n",
    "Item.groupby('PROD_CODE').ITEM_QUANTITY.sum().hist(bins=30)"
   ]
  },
  {
   "cell_type": "markdown",
   "metadata": {},
   "source": [
    "### 用户消费时间节点分析"
   ]
  },
  {
   "cell_type": "code",
   "execution_count": 44,
   "metadata": {},
   "outputs": [
    {
     "data": {
      "text/plain": [
       "2018-06-01    7920\n",
       "2018-06-02    2246\n",
       "2018-06-03    1213\n",
       "2018-06-04     699\n",
       "2018-06-05     665\n",
       "2018-06-06     579\n",
       "2018-06-09     471\n",
       "2018-06-08     446\n",
       "2018-06-07     418\n",
       "2018-06-10     367\n",
       "Name: SDATE, dtype: int64"
      ]
     },
     "execution_count": 44,
     "metadata": {},
     "output_type": "execute_result"
    }
   ],
   "source": [
    "Item.groupby('PROD_CODE').SDATE.min().value_counts().head(10)"
   ]
  },
  {
   "cell_type": "code",
   "execution_count": 45,
   "metadata": {},
   "outputs": [
    {
     "data": {
      "text/plain": [
       "2018-07-05    7497\n",
       "2018-07-04    2262\n",
       "2018-07-03    1369\n",
       "2018-07-02     917\n",
       "2018-07-01     833\n",
       "2018-06-30     752\n",
       "2018-06-29     467\n",
       "2018-06-28     349\n",
       "2018-06-24     321\n",
       "2018-06-27     319\n",
       "Name: SDATE, dtype: int64"
      ]
     },
     "execution_count": 45,
     "metadata": {},
     "output_type": "execute_result"
    }
   ],
   "source": [
    "Item.groupby('PROD_CODE').SDATE.max().value_counts().head(10)"
   ]
  },
  {
   "cell_type": "code",
   "execution_count": null,
   "metadata": {},
   "outputs": [],
   "source": []
  },
  {
   "cell_type": "code",
   "execution_count": null,
   "metadata": {},
   "outputs": [],
   "source": []
  }
 ],
 "metadata": {
  "kernelspec": {
   "display_name": "Python 3",
   "language": "python",
   "name": "python3"
  },
  "language_info": {
   "codemirror_mode": {
    "name": "ipython",
    "version": 3
   },
   "file_extension": ".py",
   "mimetype": "text/x-python",
   "name": "python",
   "nbconvert_exporter": "python",
   "pygments_lexer": "ipython3",
   "version": "3.6.5"
  }
 },
 "nbformat": 4,
 "nbformat_minor": 2
}
