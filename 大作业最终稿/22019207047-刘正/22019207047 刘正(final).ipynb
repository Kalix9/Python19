{
 "cells": [
  {
   "cell_type": "markdown",
   "metadata": {},
   "source": [
    "<center><font size=\"6.9\"><b>Python进行零售商品数据分析</b></font></center>"
   ]
  },
  {
   "cell_type": "markdown",
   "metadata": {},
   "source": [
    "本次零售超市报告分析主要内容如下：  \n",
    "1、清洗数据。将列名统一修改、处理缺失数据和异常数据、转换日期等数据类型  \n",
    "2、查看总体销售情况  \n",
    "3、商品维度进行分析。主要分析内容有：商品价格分析，商品销售量、销售额情况分析，商品关联分析  \n",
    "4、店铺维度进行分析。主要分析内容有：店铺销售量、销售额法分析，店铺促销情况分析，店铺销售时间分析，周均消费次数分析，客单价分析等  \n",
    "5、相关性分析：用关联关系表、相关矩阵图和密度图初步对变量之间的关系进行分析。  \n",
    "6、用户维度进行分析。主要分析内容有：分析用户基本购买情况，按时间（周）对用户购买情况进行分析，用户购买力分析，用户消费时间节点分析，用户复购率分析，用户RFM区分用户\n"
   ]
  },
  {
   "cell_type": "markdown",
   "metadata": {},
   "source": [
    "## **一、导入所需的包**"
   ]
  },
  {
   "cell_type": "code",
   "execution_count": 2,
   "metadata": {},
   "outputs": [],
   "source": [
    "import pandas as pd\n",
    "import numpy as np\n",
    "import matplotlib.pyplot as plt\n",
    "#实现关联规则所需的包\n",
    "from mlxtend.preprocessing import TransactionEncoder\n",
    "from mlxtend.frequent_patterns import apriori\n",
    "from mlxtend.frequent_patterns import association_rules"
   ]
  },
  {
   "cell_type": "markdown",
   "metadata": {},
   "source": [
    "## **二、导入数据**"
   ]
  },
  {
   "cell_type": "code",
   "execution_count": 3,
   "metadata": {},
   "outputs": [
    {
     "data": {
      "text/html": [
       "<div>\n",
       "<style scoped>\n",
       "    .dataframe tbody tr th:only-of-type {\n",
       "        vertical-align: middle;\n",
       "    }\n",
       "\n",
       "    .dataframe tbody tr th {\n",
       "        vertical-align: top;\n",
       "    }\n",
       "\n",
       "    .dataframe thead th {\n",
       "        text-align: right;\n",
       "    }\n",
       "</style>\n",
       "<table border=\"1\" class=\"dataframe\">\n",
       "  <thead>\n",
       "    <tr style=\"text-align: right;\">\n",
       "      <th></th>\n",
       "      <th>SHOP_DATETIME</th>\n",
       "      <th>STORE_CODE</th>\n",
       "      <th>POS_NO</th>\n",
       "      <th>BASK_CODE</th>\n",
       "      <th>BASK_SPEND</th>\n",
       "    </tr>\n",
       "  </thead>\n",
       "  <tbody>\n",
       "    <tr>\n",
       "      <th>0</th>\n",
       "      <td>2018-06-01</td>\n",
       "      <td>D007</td>\n",
       "      <td>3</td>\n",
       "      <td>250458</td>\n",
       "      <td>8.0</td>\n",
       "    </tr>\n",
       "    <tr>\n",
       "      <th>1</th>\n",
       "      <td>2018-06-01</td>\n",
       "      <td>D007</td>\n",
       "      <td>3</td>\n",
       "      <td>250200</td>\n",
       "      <td>32.7</td>\n",
       "    </tr>\n",
       "    <tr>\n",
       "      <th>2</th>\n",
       "      <td>2018-06-01</td>\n",
       "      <td>D007</td>\n",
       "      <td>1</td>\n",
       "      <td>161068</td>\n",
       "      <td>16.8</td>\n",
       "    </tr>\n",
       "    <tr>\n",
       "      <th>3</th>\n",
       "      <td>2018-06-01</td>\n",
       "      <td>D007</td>\n",
       "      <td>8</td>\n",
       "      <td>5325</td>\n",
       "      <td>30.4</td>\n",
       "    </tr>\n",
       "    <tr>\n",
       "      <th>4</th>\n",
       "      <td>2018-06-01</td>\n",
       "      <td>D007</td>\n",
       "      <td>8</td>\n",
       "      <td>5361</td>\n",
       "      <td>191.3</td>\n",
       "    </tr>\n",
       "  </tbody>\n",
       "</table>\n",
       "</div>"
      ],
      "text/plain": [
       "  SHOP_DATETIME STORE_CODE  POS_NO  BASK_CODE  BASK_SPEND\n",
       "0    2018-06-01       D007       3     250458         8.0\n",
       "1    2018-06-01       D007       3     250200        32.7\n",
       "2    2018-06-01       D007       1     161068        16.8\n",
       "3    2018-06-01       D007       8       5325        30.4\n",
       "4    2018-06-01       D007       8       5361       191.3"
      ]
     },
     "execution_count": 3,
     "metadata": {},
     "output_type": "execute_result"
    }
   ],
   "source": [
    "#导入basket数据、简单查看数据\n",
    "basket = pd.read_csv(\"Basket-2018-06-01-2018-07-05.csv\")\n",
    "basket.head()"
   ]
  },
  {
   "cell_type": "code",
   "execution_count": 4,
   "metadata": {},
   "outputs": [
    {
     "data": {
      "text/html": [
       "<div>\n",
       "<style scoped>\n",
       "    .dataframe tbody tr th:only-of-type {\n",
       "        vertical-align: middle;\n",
       "    }\n",
       "\n",
       "    .dataframe tbody tr th {\n",
       "        vertical-align: top;\n",
       "    }\n",
       "\n",
       "    .dataframe thead th {\n",
       "        text-align: right;\n",
       "    }\n",
       "</style>\n",
       "<table border=\"1\" class=\"dataframe\">\n",
       "  <thead>\n",
       "    <tr style=\"text-align: right;\">\n",
       "      <th></th>\n",
       "      <th>SDATE</th>\n",
       "      <th>STORE_CODE</th>\n",
       "      <th>POSID</th>\n",
       "      <th>BASK_CODE</th>\n",
       "      <th>PROD_CODE</th>\n",
       "      <th>ITEM_QUANTITY</th>\n",
       "      <th>ITEM_SPEND</th>\n",
       "      <th>NORMAL_PRICE</th>\n",
       "      <th>DISCOUNT_TYPE</th>\n",
       "      <th>DISCOUNT_AMOUNT</th>\n",
       "    </tr>\n",
       "  </thead>\n",
       "  <tbody>\n",
       "    <tr>\n",
       "      <th>0</th>\n",
       "      <td>2018-06-01</td>\n",
       "      <td>D007</td>\n",
       "      <td>3</td>\n",
       "      <td>250451</td>\n",
       "      <td>29405</td>\n",
       "      <td>1.000</td>\n",
       "      <td>1.70</td>\n",
       "      <td>2.0</td>\n",
       "      <td>m</td>\n",
       "      <td>-0.3</td>\n",
       "    </tr>\n",
       "    <tr>\n",
       "      <th>1</th>\n",
       "      <td>2018-06-01</td>\n",
       "      <td>D007</td>\n",
       "      <td>3</td>\n",
       "      <td>250451</td>\n",
       "      <td>13187</td>\n",
       "      <td>1.000</td>\n",
       "      <td>1.00</td>\n",
       "      <td>1.0</td>\n",
       "      <td>n</td>\n",
       "      <td>0.0</td>\n",
       "    </tr>\n",
       "    <tr>\n",
       "      <th>2</th>\n",
       "      <td>2018-06-01</td>\n",
       "      <td>D007</td>\n",
       "      <td>3</td>\n",
       "      <td>250243</td>\n",
       "      <td>196249</td>\n",
       "      <td>1.000</td>\n",
       "      <td>99.00</td>\n",
       "      <td>99.0</td>\n",
       "      <td>m</td>\n",
       "      <td>0.0</td>\n",
       "    </tr>\n",
       "    <tr>\n",
       "      <th>3</th>\n",
       "      <td>2018-06-01</td>\n",
       "      <td>D007</td>\n",
       "      <td>3</td>\n",
       "      <td>250243</td>\n",
       "      <td>199637</td>\n",
       "      <td>1.000</td>\n",
       "      <td>9.90</td>\n",
       "      <td>16.8</td>\n",
       "      <td>p</td>\n",
       "      <td>-6.9</td>\n",
       "    </tr>\n",
       "    <tr>\n",
       "      <th>4</th>\n",
       "      <td>2018-06-01</td>\n",
       "      <td>D007</td>\n",
       "      <td>1</td>\n",
       "      <td>160905</td>\n",
       "      <td>195012</td>\n",
       "      <td>3.222</td>\n",
       "      <td>18.69</td>\n",
       "      <td>5.8</td>\n",
       "      <td>n</td>\n",
       "      <td>0.0</td>\n",
       "    </tr>\n",
       "  </tbody>\n",
       "</table>\n",
       "</div>"
      ],
      "text/plain": [
       "        SDATE STORE_CODE  POSID  BASK_CODE  PROD_CODE  ITEM_QUANTITY  \\\n",
       "0  2018-06-01       D007      3     250451      29405          1.000   \n",
       "1  2018-06-01       D007      3     250451      13187          1.000   \n",
       "2  2018-06-01       D007      3     250243     196249          1.000   \n",
       "3  2018-06-01       D007      3     250243     199637          1.000   \n",
       "4  2018-06-01       D007      1     160905     195012          3.222   \n",
       "\n",
       "   ITEM_SPEND  NORMAL_PRICE DISCOUNT_TYPE  DISCOUNT_AMOUNT  \n",
       "0        1.70           2.0             m             -0.3  \n",
       "1        1.00           1.0             n              0.0  \n",
       "2       99.00          99.0             m              0.0  \n",
       "3        9.90          16.8             p             -6.9  \n",
       "4       18.69           5.8             n              0.0  "
      ]
     },
     "execution_count": 4,
     "metadata": {},
     "output_type": "execute_result"
    }
   ],
   "source": [
    "#导入item数据、简单查看数据\n",
    "item = pd.read_csv(\"item-2018-06-01-2018-07-05.csv\")\n",
    "item.head()"
   ]
  },
  {
   "cell_type": "markdown",
   "metadata": {},
   "source": [
    "本文数据集为真实零售超市的真实数据，该数据集包含2018年6月1日-2018年7月5日的公司网上零售的交易信息。本小节简单展示了basket和item数据集，basket数据表字段包括：SHOP_DATETIME（订单日期）、STORE_CODE（商店编号）、POS_NO（POS机编号、BASK_CODE（订单编号）、BASK_SPEND（订单金额）；item数据集字段包括：SDATE（订单日期）、STORE_CODE（商店编号）、POSID（POS机编号）、BASK_CODE（订单编号）、PROD_CODE（商品编号）、ITEM_QUANTITY（商品数量）、ITEM_SPEND（商品实际价格）、NORMAL_PRICE（商品单价）、DISCOUNT_TYPE（折扣类型）、DISCOUNT_AMOUNT（折扣金额）"
   ]
  },
  {
   "cell_type": "markdown",
   "metadata": {},
   "source": [
    "## **三、数据查看与清洗**"
   ]
  },
  {
   "cell_type": "markdown",
   "metadata": {},
   "source": [
    "### **1、查看数据特征**"
   ]
  },
  {
   "cell_type": "code",
   "execution_count": 5,
   "metadata": {},
   "outputs": [
    {
     "name": "stdout",
     "output_type": "stream",
     "text": [
      "<class 'pandas.core.frame.DataFrame'>\n",
      "RangeIndex: 571552 entries, 0 to 571551\n",
      "Data columns (total 5 columns):\n",
      " #   Column         Non-Null Count   Dtype  \n",
      "---  ------         --------------   -----  \n",
      " 0   SHOP_DATETIME  571552 non-null  object \n",
      " 1   STORE_CODE     571552 non-null  object \n",
      " 2   POS_NO         571552 non-null  int64  \n",
      " 3   BASK_CODE      571552 non-null  int64  \n",
      " 4   BASK_SPEND     571552 non-null  float64\n",
      "dtypes: float64(1), int64(2), object(2)\n",
      "memory usage: 21.8+ MB\n"
     ]
    },
    {
     "data": {
      "text/html": [
       "<div>\n",
       "<style scoped>\n",
       "    .dataframe tbody tr th:only-of-type {\n",
       "        vertical-align: middle;\n",
       "    }\n",
       "\n",
       "    .dataframe tbody tr th {\n",
       "        vertical-align: top;\n",
       "    }\n",
       "\n",
       "    .dataframe thead th {\n",
       "        text-align: right;\n",
       "    }\n",
       "</style>\n",
       "<table border=\"1\" class=\"dataframe\">\n",
       "  <thead>\n",
       "    <tr style=\"text-align: right;\">\n",
       "      <th></th>\n",
       "      <th>POS_NO</th>\n",
       "      <th>BASK_CODE</th>\n",
       "      <th>BASK_SPEND</th>\n",
       "    </tr>\n",
       "  </thead>\n",
       "  <tbody>\n",
       "    <tr>\n",
       "      <th>count</th>\n",
       "      <td>571552.000000</td>\n",
       "      <td>571552.000000</td>\n",
       "      <td>571552.000000</td>\n",
       "    </tr>\n",
       "    <tr>\n",
       "      <th>mean</th>\n",
       "      <td>2.998429</td>\n",
       "      <td>167472.817102</td>\n",
       "      <td>38.973310</td>\n",
       "    </tr>\n",
       "    <tr>\n",
       "      <th>std</th>\n",
       "      <td>2.516065</td>\n",
       "      <td>87263.199857</td>\n",
       "      <td>209.038276</td>\n",
       "    </tr>\n",
       "    <tr>\n",
       "      <th>min</th>\n",
       "      <td>1.000000</td>\n",
       "      <td>961.000000</td>\n",
       "      <td>-35940.000000</td>\n",
       "    </tr>\n",
       "    <tr>\n",
       "      <th>25%</th>\n",
       "      <td>1.000000</td>\n",
       "      <td>90533.750000</td>\n",
       "      <td>9.000000</td>\n",
       "    </tr>\n",
       "    <tr>\n",
       "      <th>50%</th>\n",
       "      <td>2.000000</td>\n",
       "      <td>177603.500000</td>\n",
       "      <td>19.900000</td>\n",
       "    </tr>\n",
       "    <tr>\n",
       "      <th>75%</th>\n",
       "      <td>3.000000</td>\n",
       "      <td>238816.750000</td>\n",
       "      <td>44.700000</td>\n",
       "    </tr>\n",
       "    <tr>\n",
       "      <th>max</th>\n",
       "      <td>20.000000</td>\n",
       "      <td>323914.000000</td>\n",
       "      <td>79920.000000</td>\n",
       "    </tr>\n",
       "  </tbody>\n",
       "</table>\n",
       "</div>"
      ],
      "text/plain": [
       "              POS_NO      BASK_CODE     BASK_SPEND\n",
       "count  571552.000000  571552.000000  571552.000000\n",
       "mean        2.998429  167472.817102      38.973310\n",
       "std         2.516065   87263.199857     209.038276\n",
       "min         1.000000     961.000000  -35940.000000\n",
       "25%         1.000000   90533.750000       9.000000\n",
       "50%         2.000000  177603.500000      19.900000\n",
       "75%         3.000000  238816.750000      44.700000\n",
       "max        20.000000  323914.000000   79920.000000"
      ]
     },
     "execution_count": 5,
     "metadata": {},
     "output_type": "execute_result"
    }
   ],
   "source": [
    "#查看basket数据总体特征\n",
    "basket.info()\n",
    "basket.describe()"
   ]
  },
  {
   "cell_type": "code",
   "execution_count": 6,
   "metadata": {},
   "outputs": [
    {
     "name": "stdout",
     "output_type": "stream",
     "text": [
      "<class 'pandas.core.frame.DataFrame'>\n",
      "RangeIndex: 1732761 entries, 0 to 1732760\n",
      "Data columns (total 10 columns):\n",
      " #   Column           Dtype  \n",
      "---  ------           -----  \n",
      " 0   SDATE            object \n",
      " 1   STORE_CODE       object \n",
      " 2   POSID            int64  \n",
      " 3   BASK_CODE        int64  \n",
      " 4   PROD_CODE        int64  \n",
      " 5   ITEM_QUANTITY    float64\n",
      " 6   ITEM_SPEND       float64\n",
      " 7   NORMAL_PRICE     float64\n",
      " 8   DISCOUNT_TYPE    object \n",
      " 9   DISCOUNT_AMOUNT  float64\n",
      "dtypes: float64(4), int64(3), object(3)\n",
      "memory usage: 132.2+ MB\n"
     ]
    },
    {
     "data": {
      "text/html": [
       "<div>\n",
       "<style scoped>\n",
       "    .dataframe tbody tr th:only-of-type {\n",
       "        vertical-align: middle;\n",
       "    }\n",
       "\n",
       "    .dataframe tbody tr th {\n",
       "        vertical-align: top;\n",
       "    }\n",
       "\n",
       "    .dataframe thead th {\n",
       "        text-align: right;\n",
       "    }\n",
       "</style>\n",
       "<table border=\"1\" class=\"dataframe\">\n",
       "  <thead>\n",
       "    <tr style=\"text-align: right;\">\n",
       "      <th></th>\n",
       "      <th>POSID</th>\n",
       "      <th>BASK_CODE</th>\n",
       "      <th>PROD_CODE</th>\n",
       "      <th>ITEM_QUANTITY</th>\n",
       "      <th>ITEM_SPEND</th>\n",
       "      <th>NORMAL_PRICE</th>\n",
       "      <th>DISCOUNT_AMOUNT</th>\n",
       "    </tr>\n",
       "  </thead>\n",
       "  <tbody>\n",
       "    <tr>\n",
       "      <th>count</th>\n",
       "      <td>1.732761e+06</td>\n",
       "      <td>1.732761e+06</td>\n",
       "      <td>1.732761e+06</td>\n",
       "      <td>1.732761e+06</td>\n",
       "      <td>1.732761e+06</td>\n",
       "      <td>1.732761e+06</td>\n",
       "      <td>1.732761e+06</td>\n",
       "    </tr>\n",
       "    <tr>\n",
       "      <th>mean</th>\n",
       "      <td>2.994959e+00</td>\n",
       "      <td>1.659824e+05</td>\n",
       "      <td>1.144861e+05</td>\n",
       "      <td>1.436702e+00</td>\n",
       "      <td>1.285536e+01</td>\n",
       "      <td>1.424412e+01</td>\n",
       "      <td>-1.624232e+00</td>\n",
       "    </tr>\n",
       "    <tr>\n",
       "      <th>std</th>\n",
       "      <td>2.470286e+00</td>\n",
       "      <td>8.583102e+04</td>\n",
       "      <td>8.161988e+04</td>\n",
       "      <td>7.015504e+00</td>\n",
       "      <td>1.022148e+02</td>\n",
       "      <td>2.403937e+01</td>\n",
       "      <td>5.160490e+01</td>\n",
       "    </tr>\n",
       "    <tr>\n",
       "      <th>min</th>\n",
       "      <td>1.000000e+00</td>\n",
       "      <td>9.610000e+02</td>\n",
       "      <td>1.900000e+01</td>\n",
       "      <td>-6.000000e+02</td>\n",
       "      <td>-3.594000e+04</td>\n",
       "      <td>5.000000e-01</td>\n",
       "      <td>-5.760000e+04</td>\n",
       "    </tr>\n",
       "    <tr>\n",
       "      <th>25%</th>\n",
       "      <td>1.000000e+00</td>\n",
       "      <td>8.995200e+04</td>\n",
       "      <td>2.183500e+04</td>\n",
       "      <td>1.000000e+00</td>\n",
       "      <td>3.800000e+00</td>\n",
       "      <td>3.800000e+00</td>\n",
       "      <td>-1.000000e+00</td>\n",
       "    </tr>\n",
       "    <tr>\n",
       "      <th>50%</th>\n",
       "      <td>2.000000e+00</td>\n",
       "      <td>1.758280e+05</td>\n",
       "      <td>1.233210e+05</td>\n",
       "      <td>1.000000e+00</td>\n",
       "      <td>7.000000e+00</td>\n",
       "      <td>7.800000e+00</td>\n",
       "      <td>0.000000e+00</td>\n",
       "    </tr>\n",
       "    <tr>\n",
       "      <th>75%</th>\n",
       "      <td>3.000000e+00</td>\n",
       "      <td>2.229530e+05</td>\n",
       "      <td>1.959930e+05</td>\n",
       "      <td>1.000000e+00</td>\n",
       "      <td>1.200000e+01</td>\n",
       "      <td>1.500000e+01</td>\n",
       "      <td>0.000000e+00</td>\n",
       "    </tr>\n",
       "    <tr>\n",
       "      <th>max</th>\n",
       "      <td>2.000000e+01</td>\n",
       "      <td>3.239140e+05</td>\n",
       "      <td>2.250470e+05</td>\n",
       "      <td>4.020000e+03</td>\n",
       "      <td>6.912000e+04</td>\n",
       "      <td>1.980000e+03</td>\n",
       "      <td>9.300000e+02</td>\n",
       "    </tr>\n",
       "  </tbody>\n",
       "</table>\n",
       "</div>"
      ],
      "text/plain": [
       "              POSID     BASK_CODE     PROD_CODE  ITEM_QUANTITY    ITEM_SPEND  \\\n",
       "count  1.732761e+06  1.732761e+06  1.732761e+06   1.732761e+06  1.732761e+06   \n",
       "mean   2.994959e+00  1.659824e+05  1.144861e+05   1.436702e+00  1.285536e+01   \n",
       "std    2.470286e+00  8.583102e+04  8.161988e+04   7.015504e+00  1.022148e+02   \n",
       "min    1.000000e+00  9.610000e+02  1.900000e+01  -6.000000e+02 -3.594000e+04   \n",
       "25%    1.000000e+00  8.995200e+04  2.183500e+04   1.000000e+00  3.800000e+00   \n",
       "50%    2.000000e+00  1.758280e+05  1.233210e+05   1.000000e+00  7.000000e+00   \n",
       "75%    3.000000e+00  2.229530e+05  1.959930e+05   1.000000e+00  1.200000e+01   \n",
       "max    2.000000e+01  3.239140e+05  2.250470e+05   4.020000e+03  6.912000e+04   \n",
       "\n",
       "       NORMAL_PRICE  DISCOUNT_AMOUNT  \n",
       "count  1.732761e+06     1.732761e+06  \n",
       "mean   1.424412e+01    -1.624232e+00  \n",
       "std    2.403937e+01     5.160490e+01  \n",
       "min    5.000000e-01    -5.760000e+04  \n",
       "25%    3.800000e+00    -1.000000e+00  \n",
       "50%    7.800000e+00     0.000000e+00  \n",
       "75%    1.500000e+01     0.000000e+00  \n",
       "max    1.980000e+03     9.300000e+02  "
      ]
     },
     "execution_count": 6,
     "metadata": {},
     "output_type": "execute_result"
    }
   ],
   "source": [
    "#查看item数据总体特征\n",
    "item.info()\n",
    "item.describe()"
   ]
  },
  {
   "cell_type": "markdown",
   "metadata": {},
   "source": [
    "从图片中初步可以看出数据集可能存在的异常数据以及需要进行初步处理的地方有以下几点：  \n",
    "1)两个数据表中的SDATE字段均需要做数据类型转换；  \n",
    "2)Basket表中的BASK_SPEND字段有负值，即订单金额为负；  \n",
    "3)item表中的ITEM_SPEND字段有负值，即商品实付金额为负；  \n",
    "4)item表中的ITEM_QUANTITY字段有负值，即商品数量为负；  \n",
    "5)item表中的DISCOUNT_AMOUTN字段数据有正值，即折扣后金额比折扣前金额高。"
   ]
  },
  {
   "cell_type": "markdown",
   "metadata": {},
   "source": [
    "### **2、修改列名**"
   ]
  },
  {
   "cell_type": "code",
   "execution_count": 7,
   "metadata": {},
   "outputs": [],
   "source": [
    "#为方便阅读与查看，将列名统一改为符合驼峰命名法\n",
    "basket.columns = ['shop_date','store_id','pos_id','bask_id','bask_spend']\n",
    "item.columns = ['shop_date','store_id','pos_id','bask_id','prod_id','item_quantity','item_spend','normal_price','discount_type','discount_amount']"
   ]
  },
  {
   "cell_type": "markdown",
   "metadata": {},
   "source": [
    "### **3、缺失数据**"
   ]
  },
  {
   "cell_type": "code",
   "execution_count": 8,
   "metadata": {},
   "outputs": [
    {
     "data": {
      "text/plain": [
       "shop_date          0.0\n",
       "store_id           0.0\n",
       "pos_id             0.0\n",
       "bask_id            0.0\n",
       "prod_id            0.0\n",
       "item_quantity      0.0\n",
       "item_spend         0.0\n",
       "normal_price       0.0\n",
       "discount_type      0.0\n",
       "discount_amount    0.0\n",
       "dtype: float64"
      ]
     },
     "execution_count": 8,
     "metadata": {},
     "output_type": "execute_result"
    }
   ],
   "source": [
    "item.apply(lambda x: sum(x.isnull()) / len(x), axis=0)"
   ]
  },
  {
   "cell_type": "code",
   "execution_count": 9,
   "metadata": {},
   "outputs": [
    {
     "data": {
      "text/plain": [
       "shop_date     0.0\n",
       "store_id      0.0\n",
       "pos_id        0.0\n",
       "bask_id       0.0\n",
       "bask_spend    0.0\n",
       "dtype: float64"
      ]
     },
     "execution_count": 9,
     "metadata": {},
     "output_type": "execute_result"
    }
   ],
   "source": [
    "basket.apply(lambda x: sum(x.isnull()) / len(x), axis=0)"
   ]
  },
  {
   "cell_type": "markdown",
   "metadata": {},
   "source": [
    "数据不存在缺失情况，不需要对缺失数据进行填充。"
   ]
  },
  {
   "cell_type": "markdown",
   "metadata": {},
   "source": [
    "### **4、查看并转换数据类型**"
   ]
  },
  {
   "cell_type": "markdown",
   "metadata": {},
   "source": [
    "**(1)查看数据表数据类型**"
   ]
  },
  {
   "cell_type": "code",
   "execution_count": 10,
   "metadata": {},
   "outputs": [
    {
     "name": "stdout",
     "output_type": "stream",
     "text": [
      "-----------item-----------\n",
      "shop_date           object\n",
      "store_id            object\n",
      "pos_id               int64\n",
      "bask_id              int64\n",
      "prod_id              int64\n",
      "item_quantity      float64\n",
      "item_spend         float64\n",
      "normal_price       float64\n",
      "discount_type       object\n",
      "discount_amount    float64\n",
      "dtype: object\n"
     ]
    }
   ],
   "source": [
    "print('-----------item-----------')\n",
    "print(item.dtypes)"
   ]
  },
  {
   "cell_type": "code",
   "execution_count": 11,
   "metadata": {},
   "outputs": [
    {
     "name": "stdout",
     "output_type": "stream",
     "text": [
      "---------basket---------\n",
      "shop_date      object\n",
      "store_id       object\n",
      "pos_id          int64\n",
      "bask_id         int64\n",
      "bask_spend    float64\n",
      "dtype: object\n"
     ]
    }
   ],
   "source": [
    "print('---------basket---------')\n",
    "print(basket.dtypes)"
   ]
  },
  {
   "cell_type": "markdown",
   "metadata": {},
   "source": [
    "**(2)转换数据类型**"
   ]
  },
  {
   "cell_type": "markdown",
   "metadata": {},
   "source": [
    "数据类型中的object表示如果一列中含有多个类型,则该列的类型会是object,同样字符串类型的列也会被当成object类型，因此数据类型中object类型需要调整。此外为方便计算，涉及编号的数据类型应为String类型，SDATE数据类型应为日期类型，数值类型由于涉及零售的金钱问题，也应都调整为两位小数。  \n",
    "1)调整编号数据类型  \n",
    "2)调整日期数据类型  \n",
    "3)将金钱调整为两位小数  \n",
    "4)调整后数据类型"
   ]
  },
  {
   "cell_type": "code",
   "execution_count": 12,
   "metadata": {},
   "outputs": [],
   "source": [
    "#编号数据类型\n",
    "item[\"store_id\"] = item[\"store_id\"].astype(str)\n",
    "item[\"pos_id\"] = item[\"pos_id\"].astype(str)\n",
    "item[\"bask_id\"] = item[\"bask_id\"].astype(str)\n",
    "item[\"prod_id\"] = item[\"prod_id\"].astype(str)\n",
    "basket[\"store_id\"] = basket[\"store_id\"].astype(str)\n",
    "basket[\"pos_id\"] = basket[\"pos_id\"].astype(str)\n",
    "basket[\"bask_id\"] = basket[\"bask_id\"].astype(str)"
   ]
  },
  {
   "cell_type": "code",
   "execution_count": 13,
   "metadata": {},
   "outputs": [],
   "source": [
    "#日期数据类型\n",
    "item.shop_date = pd.to_datetime(item.shop_date)\n",
    "basket.shop_date = pd.to_datetime(basket.shop_date)"
   ]
  },
  {
   "cell_type": "code",
   "execution_count": 14,
   "metadata": {},
   "outputs": [],
   "source": [
    "#金钱保留两位小数\n",
    "pd.set_option('display.float_format', lambda x: '%.2f' % x)#将所有数据转换为两位小数"
   ]
  },
  {
   "cell_type": "markdown",
   "metadata": {},
   "source": [
    "**(3)查看修改后数据表数据类型**"
   ]
  },
  {
   "cell_type": "code",
   "execution_count": 15,
   "metadata": {},
   "outputs": [
    {
     "name": "stdout",
     "output_type": "stream",
     "text": [
      "-----------item-----------\n",
      "shop_date          datetime64[ns]\n",
      "store_id                   object\n",
      "pos_id                     object\n",
      "bask_id                    object\n",
      "prod_id                    object\n",
      "item_quantity             float64\n",
      "item_spend                float64\n",
      "normal_price              float64\n",
      "discount_type              object\n",
      "discount_amount           float64\n",
      "dtype: object\n",
      "---------basket---------\n",
      "shop_date     datetime64[ns]\n",
      "store_id              object\n",
      "pos_id                object\n",
      "bask_id               object\n",
      "bask_spend           float64\n",
      "dtype: object\n"
     ]
    }
   ],
   "source": [
    "print('-----------item-----------')\n",
    "print(item.dtypes)\n",
    "print('---------basket---------')\n",
    "print(basket.dtypes)"
   ]
  },
  {
   "cell_type": "markdown",
   "metadata": {},
   "source": [
    "### **5、查看异常值并删除**"
   ]
  },
  {
   "cell_type": "markdown",
   "metadata": {},
   "source": [
    "根据上一小节对数据的初步查看发现的问题进行操作，在上一小节中发现数据表中商品数量、订单总金额、商品实付金额均有负值，且折扣金额为正，折扣金额的计算可能受到金额为负的影响，此外，数据也可能存在空值。因此，异常值的删除主要有以下几个操作：  \n",
    "1)将商品数量、订单总金额、商品实付金额为负值的调整为正值；  \n",
    "2)新建销售总金额字段：销售总金额=单价*数量  \n",
    "根据修改后的数据进行折扣金额的计算：折扣金额=销售总金额-实际付款金额（ITEM_SPEND），与实际折扣金额不同的可以判定为异常数据，进行删除操作；  \n",
    "3)删除过后分析是否还存在折扣金额为正的数据，若存在，也进行删除操作。"
   ]
  },
  {
   "cell_type": "code",
   "execution_count": 16,
   "metadata": {},
   "outputs": [],
   "source": [
    "#将商品数量ITEM_QUANTITY为负的改为正值\n",
    "item[item.item_quantity < 0]\n",
    "item['item_quantity'] = np.where(item['item_quantity'] < 0, -(item['item_quantity']), (item['item_quantity']))\n",
    "#将表中实际支付为负的改为正值\n",
    "item[item.item_spend < 0]\n",
    "item['item_spend'] = np.where(item['item_spend'] < 0, -(item['item_spend']), (item['item_spend']))\n",
    "#计算应付金额并改为小数点两位\n",
    "item['item_spend_new'] = item['item_quantity']*item['normal_price']\n",
    "item = item.round({'item_spend_new': 2})\n",
    "#计算折扣并减去现有数据\n",
    "item['discount_new'] = item['item_spend']-item['item_spend_new']         #新计算折扣\n",
    "item['discount_differ']=item['discount_new']-item['discount_amount']     #新计算折扣-数据的折扣\n",
    "item = item.round({'discount_differ': 2})\n",
    "#删除折扣值不一样的值（使用drop方法可以删除行数据或列数据）\n",
    "#item_new=item.loc[(item['discount_differ'] != 0)]   将折扣有问题的提取出来\n",
    "item.drop(index=item[item.discount_differ != 0].index,inplace=True)"
   ]
  },
  {
   "cell_type": "code",
   "execution_count": 17,
   "metadata": {},
   "outputs": [
    {
     "data": {
      "text/html": [
       "<div>\n",
       "<style scoped>\n",
       "    .dataframe tbody tr th:only-of-type {\n",
       "        vertical-align: middle;\n",
       "    }\n",
       "\n",
       "    .dataframe tbody tr th {\n",
       "        vertical-align: top;\n",
       "    }\n",
       "\n",
       "    .dataframe thead th {\n",
       "        text-align: right;\n",
       "    }\n",
       "</style>\n",
       "<table border=\"1\" class=\"dataframe\">\n",
       "  <thead>\n",
       "    <tr style=\"text-align: right;\">\n",
       "      <th></th>\n",
       "      <th>shop_date</th>\n",
       "      <th>store_id</th>\n",
       "      <th>pos_id</th>\n",
       "      <th>bask_id</th>\n",
       "      <th>prod_id</th>\n",
       "      <th>item_quantity</th>\n",
       "      <th>item_spend</th>\n",
       "      <th>normal_price</th>\n",
       "      <th>discount_type</th>\n",
       "      <th>discount_amount</th>\n",
       "      <th>item_spend_new</th>\n",
       "      <th>discount_new</th>\n",
       "      <th>discount_differ</th>\n",
       "    </tr>\n",
       "  </thead>\n",
       "  <tbody>\n",
       "  </tbody>\n",
       "</table>\n",
       "</div>"
      ],
      "text/plain": [
       "Empty DataFrame\n",
       "Columns: [shop_date, store_id, pos_id, bask_id, prod_id, item_quantity, item_spend, normal_price, discount_type, discount_amount, item_spend_new, discount_new, discount_differ]\n",
       "Index: []"
      ]
     },
     "execution_count": 17,
     "metadata": {},
     "output_type": "execute_result"
    }
   ],
   "source": [
    "#查看删除异常值后的结果\n",
    "item[(item['discount_differ'] != 0)]"
   ]
  },
  {
   "cell_type": "code",
   "execution_count": 18,
   "metadata": {},
   "outputs": [
    {
     "data": {
      "text/html": [
       "<div>\n",
       "<style scoped>\n",
       "    .dataframe tbody tr th:only-of-type {\n",
       "        vertical-align: middle;\n",
       "    }\n",
       "\n",
       "    .dataframe tbody tr th {\n",
       "        vertical-align: top;\n",
       "    }\n",
       "\n",
       "    .dataframe thead th {\n",
       "        text-align: right;\n",
       "    }\n",
       "</style>\n",
       "<table border=\"1\" class=\"dataframe\">\n",
       "  <thead>\n",
       "    <tr style=\"text-align: right;\">\n",
       "      <th></th>\n",
       "      <th>shop_date</th>\n",
       "      <th>store_id</th>\n",
       "      <th>pos_id</th>\n",
       "      <th>bask_id</th>\n",
       "      <th>prod_id</th>\n",
       "      <th>item_quantity</th>\n",
       "      <th>item_spend</th>\n",
       "      <th>normal_price</th>\n",
       "      <th>discount_type</th>\n",
       "      <th>discount_amount</th>\n",
       "      <th>item_spend_new</th>\n",
       "      <th>discount_new</th>\n",
       "      <th>discount_differ</th>\n",
       "    </tr>\n",
       "  </thead>\n",
       "  <tbody>\n",
       "  </tbody>\n",
       "</table>\n",
       "</div>"
      ],
      "text/plain": [
       "Empty DataFrame\n",
       "Columns: [shop_date, store_id, pos_id, bask_id, prod_id, item_quantity, item_spend, normal_price, discount_type, discount_amount, item_spend_new, discount_new, discount_differ]\n",
       "Index: []"
      ]
     },
     "execution_count": 18,
     "metadata": {},
     "output_type": "execute_result"
    }
   ],
   "source": [
    "#删除折扣金额为正的值\n",
    "item[item.discount_amount > 0]\n",
    "#删除（使用drop方法可以删除行数据或列数据）\n",
    "item.drop(index=item[item.discount_amount > 0].index,inplace=True)\n",
    "#检查下是否已删除\n",
    "item[item.discount_amount > 0]"
   ]
  },
  {
   "cell_type": "markdown",
   "metadata": {},
   "source": [
    "最后发现不存在折扣金额与实际折扣不同的数据，可以判定无异常值。 "
   ]
  },
  {
   "cell_type": "code",
   "execution_count": 19,
   "metadata": {},
   "outputs": [],
   "source": [
    "#删除不需要的列\n",
    "item.drop(item.columns[[10,11,12]], axis=1, inplace=True) "
   ]
  },
  {
   "cell_type": "markdown",
   "metadata": {},
   "source": [
    "## **三、数据分析**"
   ]
  },
  {
   "cell_type": "markdown",
   "metadata": {},
   "source": [
    "### **1、总体销量数据**"
   ]
  },
  {
   "cell_type": "code",
   "execution_count": 22,
   "metadata": {},
   "outputs": [
    {
     "name": "stdout",
     "output_type": "stream",
     "text": [
      "---------总体销量数据---------\n",
      "总订单数 280878\n",
      "总销售额 22216624.170000013\n",
      "有流水的商品数 19261\n"
     ]
    }
   ],
   "source": [
    "print(\"---------总体销量数据---------\")\n",
    "print(\"总订单数\",item['bask_id'].unique().size)\n",
    "print(\"总销售额\",item.item_spend.sum())\n",
    "print(\"有流水的商品数\",item.prod_id.unique().size)"
   ]
  },
  {
   "cell_type": "markdown",
   "metadata": {},
   "source": [
    "由总体销售情况分析可知，商店在2018年6月1日-2018年7月5日总订单数有280878单，总销售额为22216624.17元，有流水的商品数共19261个。"
   ]
  },
  {
   "cell_type": "markdown",
   "metadata": {},
   "source": [
    "### **2、商品(productId)维度分析**"
   ]
  },
  {
   "cell_type": "markdown",
   "metadata": {},
   "source": [
    "**（1）商品价格分析**"
   ]
  },
  {
   "cell_type": "code",
   "execution_count": 23,
   "metadata": {},
   "outputs": [
    {
     "data": {
      "image/png": "[encoded data removed]",
      "text/plain": [
       "<Figure size 432x288 with 1 Axes>"
      ]
     },
     "metadata": {
      "needs_background": "light"
     },
     "output_type": "display_data"
    }
   ],
   "source": [
    "#商品价格箱型图分析\n",
    "normal_price_array = np.array(item['normal_price'])\n",
    " \n",
    "df = pd.DataFrame(normal_price_array)\n",
    "df.plot.box(title=\"normal_price\")\n",
    "plt.grid(linestyle=\"--\", alpha=0.3)\n",
    "plt.show()"
   ]
  },
  {
   "cell_type": "code",
   "execution_count": 24,
   "metadata": {},
   "outputs": [
    {
     "data": {
      "image/png": "[encoded data removed]",
      "text/plain": [
       "<Figure size 432x288 with 1 Axes>"
      ]
     },
     "metadata": {
      "needs_background": "light"
     },
     "output_type": "display_data"
    }
   ],
   "source": [
    "#商品价格0-50价格箱型图分析\n",
    "item_normal=item.loc[(item['normal_price']<=50)]\n",
    "\n",
    "normal_price_array = np.array(item_normal['normal_price'])\n",
    "df = pd.DataFrame(normal_price_array)\n",
    "df.plot.box(title=\"normal_price\")\n",
    "plt.grid(linestyle=\"--\", alpha=0.3)\n",
    "plt.show()"
   ]
  },
  {
   "cell_type": "code",
   "execution_count": 25,
   "metadata": {},
   "outputs": [
    {
     "data": {
      "text/plain": [
       "[0.5, 3.6, 7.0, 13.8, 51.0]"
      ]
     },
     "execution_count": 25,
     "metadata": {},
     "output_type": "execute_result"
    }
   ],
   "source": [
    "#求商品价格的四分位数\n",
    "df_1 = pd.to_numeric(item_normal['normal_price'])\n",
    "q = [df_1.quantile(i) for i in [0,.25,.5,.75,1]];q[-1] += 1\n",
    "q"
   ]
  },
  {
   "cell_type": "markdown",
   "metadata": {},
   "source": [
    "由最后的箱型图可知，商品价格最多的在3.6元~13.8元之间，也符合消费者在零售商店购买的商品价格会比较低，店家可以根据消费者的消费情况对商品进行调整，多上架一些平价、常用的商品供消费者选择"
   ]
  },
  {
   "cell_type": "markdown",
   "metadata": {},
   "source": [
    "由于商品销售量最后的销售量为1，数量共2673个，因此查看销售量最后2673个商品中同时销售额在后10的商品，发现销售额最后的商品均为销量为1的商品，查看了商品销量和销售额之后，就可以查看销量和销售额都排名靠后的商品是哪些，找出之后再看具体是哪些商品，找出原因，考虑如何优化或者是否要下架。"
   ]
  },
  {
   "cell_type": "markdown",
   "metadata": {},
   "source": [
    "**（2）查看销量排名前十和最后的商品**"
   ]
  },
  {
   "cell_type": "code",
   "execution_count": 26,
   "metadata": {},
   "outputs": [
    {
     "name": "stdout",
     "output_type": "stream",
     "text": [
      "商品销量前十的prodId及销量\n",
      "prod_id\n",
      "205540    12622\n",
      "21835     10420\n",
      "194690     9467\n",
      "72811      7732\n",
      "178462     7373\n",
      "197532     7289\n",
      "205437     6722\n",
      "1557       6038\n",
      "109584     5932\n",
      "216571     5674\n",
      "Name: bask_id, dtype: int64\n",
      "商品销量最后的prod_id及销量\n",
      "16588    1\n",
      "16589    1\n",
      "16590    1\n",
      "16591    1\n",
      "16592    1\n",
      "        ..\n",
      "19256    1\n",
      "19257    1\n",
      "19258    1\n",
      "19259    1\n",
      "19260    1\n",
      "Name: Count, Length: 2673, dtype: int64\n"
     ]
    }
   ],
   "source": [
    "prod_order_count = item.groupby(\"prod_id\").count().sort_values([\"bask_id\"],ascending=False).bask_id\n",
    "print(\"商品销量前十的prodId及销量\")\n",
    "prod_top_10 = prod_order_count.head(10)\n",
    "print(prod_top_10)\n",
    "dict_prod_count = {'prod_id':prod_order_count.index,'Count':prod_order_count.values}\n",
    "df_prod_count = pd.DataFrame(dict_prod_count)\n",
    "df_prod_tail=df_prod_count.loc[(df_prod_count['Count']==1)]\n",
    "print('商品销量最后的prod_id及销量')\n",
    "print(df_prod_tail['Count'])"
   ]
  },
  {
   "cell_type": "code",
   "execution_count": 27,
   "metadata": {},
   "outputs": [
    {
     "data": {
      "image/png": "[encoded data removed]",
      "text/plain": [
       "<Figure size 576x432 with 1 Axes>"
      ]
     },
     "metadata": {
      "needs_background": "light"
     },
     "output_type": "display_data"
    }
   ],
   "source": [
    "plt.figure(figsize=(8, 6))\n",
    "N = 10\n",
    "index=[1,2,3,4,5,6,7,8,9,10]\n",
    "values=prod_top_10.values.tolist()\n",
    "width = 0.4\n",
    "p2 = plt.bar(index, values, width, label=\"order_count\")\n",
    "plt.xlabel('prod_id')\n",
    "plt.ylabel('order_count')\n",
    "plt.title('prod_top_10')\n",
    "plt.xticks(index, ('205540','21835','194690','72811','178462','197532','205437','1557','109584','216571')) \n",
    "plt.legend(loc=\"upper right\") \n",
    "plt.show()"
   ]
  },
  {
   "cell_type": "markdown",
   "metadata": {},
   "source": [
    "本小节分析了商品销售量前10和商品销售量最后的商品数量，此外将商品销售量前10的商品绘制柱状图进行分析。由图表可知，前3销售量的商品很明显比后面商品销量多，差别至少为2000以上，而商品销量最后的商品在计算过程中发现有很多商品销量为1，将所有销量为1的商品提取出来，共有2673个，这2673个商品在这一段时间只销售了1个商品，可能为商品为不常用商品，也可能是商品本身有其他问题。"
   ]
  },
  {
   "cell_type": "markdown",
   "metadata": {},
   "source": [
    "**（3）查看销售额排名前十和后十的商品**"
   ]
  },
  {
   "cell_type": "code",
   "execution_count": 28,
   "metadata": {},
   "outputs": [
    {
     "name": "stdout",
     "output_type": "stream",
     "text": [
      "商品销售额前十的prod_id及销售额\n",
      "prod_id\n",
      "136839   281461.40\n",
      "212574   257989.30\n",
      "7137     248784.00\n",
      "7133     197177.00\n",
      "149413   173937.93\n",
      "154900   141314.70\n",
      "220834   127732.90\n",
      "21835    113998.81\n",
      "88160    103467.20\n",
      "1239      96640.00\n",
      "Name: item_spend, dtype: float64\n",
      "商品销售额后十的prod_id及销售额\n",
      "prod_id\n",
      "179005   1.20\n",
      "56482    1.15\n",
      "10948    1.00\n",
      "213291   1.00\n",
      "146536   1.00\n",
      "24925    0.82\n",
      "156573   0.80\n",
      "156643   0.80\n",
      "2628     0.50\n",
      "5588     0.50\n",
      "Name: item_spend, dtype: float64\n"
     ]
    }
   ],
   "source": [
    "prod_payMoney_amount = item.groupby(\"prod_id\").sum().sort_values([\"item_spend\"],ascending=False).item_spend\n",
    "prod_payMoney_top_10 = prod_payMoney_amount.head(10)\n",
    "prod_payMoney_tail_10 = prod_payMoney_amount.tail(10)\n",
    "print(\"商品销售额前十的prod_id及销售额\")\n",
    "print(prod_payMoney_top_10)\n",
    "print(\"商品销售额后十的prod_id及销售额\")\n",
    "print(prod_payMoney_tail_10)"
   ]
  },
  {
   "cell_type": "code",
   "execution_count": 29,
   "metadata": {},
   "outputs": [
    {
     "data": {
      "image/png": "[encoded data removed]",
      "text/plain": [
       "<Figure size 576x432 with 1 Axes>"
      ]
     },
     "metadata": {
      "needs_background": "light"
     },
     "output_type": "display_data"
    }
   ],
   "source": [
    "plt.figure(figsize=(8, 6))\n",
    "N = 10\n",
    "index=[1,2,3,4,5,6,7,8,9,10]\n",
    "values=prod_payMoney_top_10 .values.tolist()\n",
    "width = 0.4\n",
    "p2 = plt.bar(index, values, width, label=\"prod_spend\")\n",
    "plt.xlabel('prod_id')\n",
    "plt.ylabel('prod_spend')\n",
    "plt.title('prod_spend_top')\n",
    "plt.xticks(index, ('136839','212574','7137','7133','149413','154900','220834','21835','88160','1239')) \n",
    "plt.legend(loc=\"upper right\") \n",
    "plt.show()"
   ]
  },
  {
   "cell_type": "markdown",
   "metadata": {},
   "source": [
    "本小节主要分析了商品销售额前10和商品销售量后10的商品，此外将商品销售量前10的商品绘制柱状图进行分析。由图表可知，前3销售量的商品很明显比后面商品销售额多，差别至少为50000以上，而商品销量最后的商品仅仅在1元左右，这些商品无论是数量还是销售额都很少，商品可能存在问题。"
   ]
  },
  {
   "cell_type": "markdown",
   "metadata": {},
   "source": [
    "**（4）查看销售量与销售额关系**"
   ]
  },
  {
   "cell_type": "code",
   "execution_count": 30,
   "metadata": {},
   "outputs": [
    {
     "name": "stdout",
     "output_type": "stream",
     "text": [
      "销量与销售额共同分析\n",
      "['179005' '10948' '156573' '156643' '146536' '24925' '2628' '56482' '5588'\n",
      " '213291']\n"
     ]
    }
   ],
   "source": [
    "#intersection方法可以查看交集\n",
    "problem_prod_id = prod_order_count.tail(2673).index.intersection(prod_payMoney_amount.tail(10).index)\n",
    "print(\"销量与销售额共同分析\")\n",
    "print(problem_prod_id.values)"
   ]
  },
  {
   "cell_type": "markdown",
   "metadata": {},
   "source": [
    "**（5）商品关联度分析**"
   ]
  },
  {
   "cell_type": "code",
   "execution_count": 22,
   "metadata": {},
   "outputs": [],
   "source": [
    "item_new = item[['bask_id', 'prod_id']]"
   ]
  },
  {
   "cell_type": "code",
   "execution_count": 37,
   "metadata": {},
   "outputs": [],
   "source": [
    "# 关联规则中不考虑多次购买同一件物品，删除重复数据\n",
    "data = item_new.drop_duplicates()\n",
    "\n",
    "# 初始化列表\n",
    "data_set = []\n",
    "\n",
    "# 分组聚合，同一用户购买多种商品的合并为一条数据，只有1件商品的没有意义，需要进行过滤\n",
    "groups = item_new.groupby(by='bask_id')\n",
    "for group in groups:\n",
    "    if len(group[1]) >= 2:\n",
    "        data_set.append(group[1]['prod_id'].tolist())\n",
    "\n",
    "te = TransactionEncoder()\n",
    "te_ary = te.fit(data_set).transform(data_set)\n",
    "df = pd.DataFrame(te_ary, columns=te.columns_)"
   ]
  },
  {
   "cell_type": "code",
   "execution_count": 65,
   "metadata": {},
   "outputs": [],
   "source": [
    "frequent_itemsets = apriori(df, min_support=0.005, use_colnames=True)"
   ]
  },
  {
   "cell_type": "code",
   "execution_count": 70,
   "metadata": {},
   "outputs": [
    {
     "data": {
      "text/html": [
       "<div>\n",
       "<style scoped>\n",
       "    .dataframe tbody tr th:only-of-type {\n",
       "        vertical-align: middle;\n",
       "    }\n",
       "\n",
       "    .dataframe tbody tr th {\n",
       "        vertical-align: top;\n",
       "    }\n",
       "\n",
       "    .dataframe thead th {\n",
       "        text-align: right;\n",
       "    }\n",
       "</style>\n",
       "<table border=\"1\" class=\"dataframe\">\n",
       "  <thead>\n",
       "    <tr style=\"text-align: right;\">\n",
       "      <th></th>\n",
       "      <th>antecedents</th>\n",
       "      <th>consequents</th>\n",
       "      <th>antecedent support</th>\n",
       "      <th>consequent support</th>\n",
       "      <th>support</th>\n",
       "      <th>confidence</th>\n",
       "      <th>lift</th>\n",
       "      <th>leverage</th>\n",
       "      <th>conviction</th>\n",
       "    </tr>\n",
       "  </thead>\n",
       "  <tbody>\n",
       "    <tr>\n",
       "      <th>0</th>\n",
       "      <td>(124555)</td>\n",
       "      <td>(125140)</td>\n",
       "      <td>0.01</td>\n",
       "      <td>0.01</td>\n",
       "      <td>0.01</td>\n",
       "      <td>0.44</td>\n",
       "      <td>29.79</td>\n",
       "      <td>0.00</td>\n",
       "      <td>1.77</td>\n",
       "    </tr>\n",
       "    <tr>\n",
       "      <th>1</th>\n",
       "      <td>(124557)</td>\n",
       "      <td>(124556)</td>\n",
       "      <td>0.01</td>\n",
       "      <td>0.02</td>\n",
       "      <td>0.01</td>\n",
       "      <td>0.46</td>\n",
       "      <td>26.68</td>\n",
       "      <td>0.00</td>\n",
       "      <td>1.81</td>\n",
       "    </tr>\n",
       "    <tr>\n",
       "      <th>2</th>\n",
       "      <td>(124556)</td>\n",
       "      <td>(125140)</td>\n",
       "      <td>0.02</td>\n",
       "      <td>0.01</td>\n",
       "      <td>0.01</td>\n",
       "      <td>0.42</td>\n",
       "      <td>28.06</td>\n",
       "      <td>0.01</td>\n",
       "      <td>1.69</td>\n",
       "    </tr>\n",
       "    <tr>\n",
       "      <th>3</th>\n",
       "      <td>(125140)</td>\n",
       "      <td>(124556)</td>\n",
       "      <td>0.01</td>\n",
       "      <td>0.02</td>\n",
       "      <td>0.01</td>\n",
       "      <td>0.48</td>\n",
       "      <td>28.06</td>\n",
       "      <td>0.01</td>\n",
       "      <td>1.89</td>\n",
       "    </tr>\n",
       "    <tr>\n",
       "      <th>4</th>\n",
       "      <td>(4190)</td>\n",
       "      <td>(124556)</td>\n",
       "      <td>0.01</td>\n",
       "      <td>0.02</td>\n",
       "      <td>0.01</td>\n",
       "      <td>0.45</td>\n",
       "      <td>26.00</td>\n",
       "      <td>0.01</td>\n",
       "      <td>1.77</td>\n",
       "    </tr>\n",
       "    <tr>\n",
       "      <th>5</th>\n",
       "      <td>(4190)</td>\n",
       "      <td>(125140)</td>\n",
       "      <td>0.01</td>\n",
       "      <td>0.01</td>\n",
       "      <td>0.01</td>\n",
       "      <td>0.43</td>\n",
       "      <td>29.02</td>\n",
       "      <td>0.01</td>\n",
       "      <td>1.73</td>\n",
       "    </tr>\n",
       "    <tr>\n",
       "      <th>6</th>\n",
       "      <td>(1570)</td>\n",
       "      <td>(1557)</td>\n",
       "      <td>0.01</td>\n",
       "      <td>0.02</td>\n",
       "      <td>0.01</td>\n",
       "      <td>0.70</td>\n",
       "      <td>31.13</td>\n",
       "      <td>0.01</td>\n",
       "      <td>3.31</td>\n",
       "    </tr>\n",
       "  </tbody>\n",
       "</table>\n",
       "</div>"
      ],
      "text/plain": [
       "  antecedents consequents  antecedent support  consequent support  support  \\\n",
       "0    (124555)    (125140)                0.01                0.01     0.01   \n",
       "1    (124557)    (124556)                0.01                0.02     0.01   \n",
       "2    (124556)    (125140)                0.02                0.01     0.01   \n",
       "3    (125140)    (124556)                0.01                0.02     0.01   \n",
       "4      (4190)    (124556)                0.01                0.02     0.01   \n",
       "5      (4190)    (125140)                0.01                0.01     0.01   \n",
       "6      (1570)      (1557)                0.01                0.02     0.01   \n",
       "\n",
       "   confidence  lift  leverage  conviction  \n",
       "0        0.44 29.79      0.00        1.77  \n",
       "1        0.46 26.68      0.00        1.81  \n",
       "2        0.42 28.06      0.01        1.69  \n",
       "3        0.48 28.06      0.01        1.89  \n",
       "4        0.45 26.00      0.01        1.77  \n",
       "5        0.43 29.02      0.01        1.73  \n",
       "6        0.70 31.13      0.01        3.31  "
      ]
     },
     "execution_count": 70,
     "metadata": {},
     "output_type": "execute_result"
    }
   ],
   "source": [
    "rules = association_rules(frequent_itemsets, min_threshold=0.4)\n",
    "rules"
   ]
  },
  {
   "cell_type": "markdown",
   "metadata": {},
   "source": [
    "从以上的结果可以总结出：  \n",
    "从总体上看，所有组合商品中支持度数值偏低，这是由于平台销售的商品种类繁多，也可能是用户同时购买两个商品的可能性低，需要进一步进行分析；  \n",
    "商品组合[1570] --> [1557]的置信度最高，表示支持率在1%的情况下购买商品编号1570的用户中有70%会购买商品编号1557，可以对这两种商品进行捆绑销售；"
   ]
  },
  {
   "cell_type": "markdown",
   "metadata": {},
   "source": [
    "### **3、店铺维度分析**"
   ]
  },
  {
   "cell_type": "markdown",
   "metadata": {},
   "source": [
    "进行店铺维度的分析可以分析各店铺销售情况，判断哪些店铺销售情况不好，考虑是否需要对店铺员工进行培训或裁员。"
   ]
  },
  {
   "cell_type": "markdown",
   "metadata": {},
   "source": [
    "**（1）店铺销售量情况分析**"
   ]
  },
  {
   "cell_type": "code",
   "execution_count": 38,
   "metadata": {},
   "outputs": [
    {
     "name": "stdout",
     "output_type": "stream",
     "text": [
      "销售数量前10的店铺\n",
      "store_id\n",
      "D002    242040\n",
      "A001    193274\n",
      "D007    117528\n",
      "A008    105930\n",
      "A013     81355\n",
      "A006     77677\n",
      "D004     76497\n",
      "D006     69905\n",
      "A012     63716\n",
      "A021     62853\n",
      "Name: prod_id, dtype: int64\n"
     ]
    }
   ],
   "source": [
    "# 1）找出销售数量前十的店\n",
    "quan=item.groupby(\"store_id\").count().sort_values([\"prod_id\"],ascending=False).prod_id\n",
    "quan_top_10 = quan.head(10)\n",
    "print(\"销售数量前10的店铺\")\n",
    "print(quan_top_10)"
   ]
  },
  {
   "cell_type": "code",
   "execution_count": 50,
   "metadata": {},
   "outputs": [
    {
     "data": {
      "image/png": "[encoded data removed]",
      "text/plain": [
       "<Figure size 720x432 with 1 Axes>"
      ]
     },
     "metadata": {
      "needs_background": "light"
     },
     "output_type": "display_data"
    }
   ],
   "source": [
    "plt.figure(figsize=(10,6))\n",
    "x=quan.index.tolist()\n",
    "y=quan.values.tolist()\n",
    "width = 0.4\n",
    "p2 = plt.bar(x, y, width, label=\"销售量\")\n",
    "plt.xlabel('商店',fontsize=12)\n",
    "plt.ylabel('销售量',fontsize=12)\n",
    "plt.title('商店销售量比较图',fontsize=12) \n",
    "plt.legend(loc=\"upper right\") \n",
    "plt.xticks(fontsize=12,rotation=45)\n",
    "plt.yticks(fontsize=12)\n",
    "plt.show()"
   ]
  },
  {
   "cell_type": "markdown",
   "metadata": {},
   "source": [
    "本小节分析了商品销售量前10的店铺，可以发现商品销售数量前2的店铺销售量远超过后面的店铺，超过150000个商品，说明D002和A001两个店铺商品数量销售情况很好。"
   ]
  },
  {
   "cell_type": "code",
   "execution_count": 55,
   "metadata": {},
   "outputs": [
    {
     "name": "stdout",
     "output_type": "stream",
     "text": [
      "---交易额前10的店---\n",
      "store_id\n",
      "A001   3300089.92\n",
      "D002   3174086.58\n",
      "D007   1378684.27\n",
      "A008   1333823.32\n",
      "A013   1079565.25\n",
      "A006    910200.17\n",
      "A012    860496.50\n",
      "D004    820932.46\n",
      "A009    811515.73\n",
      "D006    804117.71\n",
      "Name: item_spend, dtype: float64\n"
     ]
    }
   ],
   "source": [
    "# 2）找出交易额前十的商店\n",
    "price =  item[item[\"item_spend\"] > 0].groupby(\"store_id\")[\"item_spend\"].sum().sort_values(ascending=False)\n",
    "price_top_10 = price.head(10)\n",
    "print(\"---交易额前10的店---\")\n",
    "print(price_top_10)"
   ]
  },
  {
   "cell_type": "code",
   "execution_count": 59,
   "metadata": {},
   "outputs": [
    {
     "data": {
      "image/png": "[encoded data removed]",
      "text/plain": [
       "<Figure size 720x432 with 1 Axes>"
      ]
     },
     "metadata": {
      "needs_background": "light"
     },
     "output_type": "display_data"
    }
   ],
   "source": [
    "plt.figure(figsize=(10,6))\n",
    "x=price.index.tolist()\n",
    "y=price.values.tolist()\n",
    "width = 0.4\n",
    "p2 = plt.bar(x, y, width, label=\"销售量\")\n",
    "plt.xlabel('商店',fontsize=12)\n",
    "plt.ylabel('销售额',fontsize=12)\n",
    "plt.title('商店销售额',fontsize=12) \n",
    "plt.xticks(fontsize=12,rotation=45)\n",
    "plt.yticks(fontsize=12)\n",
    "plt.legend(loc=\"upper right\") \n",
    "plt.show()"
   ]
  },
  {
   "cell_type": "markdown",
   "metadata": {},
   "source": [
    "本小节分析了商品销售额前10的店铺，进行图表分析，可以发现A001和D002两个店铺销售额远超其他店铺，至少超过了2000000元，根据上小节分析，这两个店铺销售量与销售额均远超其他店铺，说明两个店铺销售情况良好。"
   ]
  },
  {
   "cell_type": "markdown",
   "metadata": {},
   "source": [
    "**（2）店铺促销情况分析**"
   ]
  },
  {
   "cell_type": "code",
   "execution_count": 25,
   "metadata": {},
   "outputs": [
    {
     "data": {
      "text/plain": [
       "store_id\n",
       "D002   -467277.67\n",
       "A001   -452816.43\n",
       "D007   -215143.94\n",
       "A008   -138888.42\n",
       "A013   -136626.64\n",
       "A012   -116978.08\n",
       "A006   -116201.95\n",
       "D004   -110090.36\n",
       "D008    -90884.61\n",
       "D006    -85849.05\n",
       "Name: discount_amount, dtype: float64"
      ]
     },
     "execution_count": 25,
     "metadata": {},
     "output_type": "execute_result"
    }
   ],
   "source": [
    "discount_storeid = item.groupby(by=\"store_id\")[\"discount_amount\"].sum().sort_values(ascending=True)\n",
    "discount_storeid.head(10)"
   ]
  },
  {
   "cell_type": "code",
   "execution_count": 26,
   "metadata": {},
   "outputs": [
    {
     "data": {
      "image/png": "[encoded data removed]",
      "text/plain": [
       "<Figure size 720x432 with 1 Axes>"
      ]
     },
     "metadata": {
      "needs_background": "light"
     },
     "output_type": "display_data"
    }
   ],
   "source": [
    "plt.figure(figsize=(10,6))\n",
    "x=discount_storeid.index.tolist()\n",
    "y=discount_storeid.values.tolist()\n",
    "width = 0.4\n",
    "p2 = plt.bar(x, y, width, label=\"促销额\")\n",
    "plt.xlabel('商店',fontsize=12)\n",
    "plt.ylabel('促销额',fontsize=12)\n",
    "plt.title('商店促销额',fontsize=12) \n",
    "plt.xticks(fontsize=12,rotation=45)\n",
    "plt.yticks(fontsize=12)\n",
    "plt.legend(loc=\"lower right\") \n",
    "plt.show()"
   ]
  },
  {
   "cell_type": "markdown",
   "metadata": {},
   "source": [
    "### **4、销售情况分析**"
   ]
  },
  {
   "cell_type": "markdown",
   "metadata": {},
   "source": [
    "**（1）下单时间分析**"
   ]
  },
  {
   "cell_type": "code",
   "execution_count": 32,
   "metadata": {},
   "outputs": [
    {
     "data": {
      "text/plain": [
       "Text(0.5, 1.0, '每周下单分布')"
      ]
     },
     "execution_count": 32,
     "metadata": {},
     "output_type": "execute_result"
    },
    {
     "data": {
      "image/png": "[encoded data removed]",
      "text/plain": [
       "<Figure size 720x432 with 1 Axes>"
      ]
     },
     "metadata": {
      "needs_background": "light"
     },
     "output_type": "display_data"
    }
   ],
   "source": [
    "#增加\"orderWeek\"字段，记录星期几下单\n",
    "item[\"order_week\"] = item.shop_date.dt.dayofweek\n",
    "#分组计算每周下单数\n",
    "order_week_count = item.groupby(\"order_week\").count().bask_id\n",
    "#绘制折线图\n",
    "plt.figure(figsize=(10,6))\n",
    "plt.plot(order_week_count,marker=\"o\")\n",
    "xticks_labels = [\"周一\",\"周二\",\"周三\",\"周四\",\"周五\",\"周六\",\"周日\"]\n",
    "plt.xticks(range(7),xticks_labels)\n",
    "plt.ylabel(\"下单量\",fontsize=15)\n",
    "plt.title(\"每周下单分布\",fontsize=15)"
   ]
  },
  {
   "cell_type": "markdown",
   "metadata": {},
   "source": [
    "**（2）销售额分析**"
   ]
  },
  {
   "cell_type": "code",
   "execution_count": 33,
   "metadata": {},
   "outputs": [
    {
     "data": {
      "text/plain": [
       "Text(0.5, 1.0, '每周销售额分布')"
      ]
     },
     "execution_count": 33,
     "metadata": {},
     "output_type": "execute_result"
    },
    {
     "data": {
      "image/png": "[encoded data removed]",
      "text/plain": [
       "<Figure size 720x432 with 1 Axes>"
      ]
     },
     "metadata": {
      "needs_background": "light"
     },
     "output_type": "display_data"
    }
   ],
   "source": [
    "#分组计算每周销售额\n",
    "order_week_count = item.groupby(\"order_week\").sum().item_spend\n",
    "#绘制折线图\n",
    "plt.figure(figsize=(10,6))\n",
    "plt.plot(order_week_count,marker=\"o\")\n",
    "xticks_labels = [\"周一\",\"周二\",\"周三\",\"周四\",\"周五\",\"周六\",\"周日\"]\n",
    "plt.xticks(range(7),xticks_labels)\n",
    "plt.ylabel(\"销售额\",fontsize=15)\n",
    "plt.title(\"每周销售额分布\",fontsize=15)"
   ]
  },
  {
   "cell_type": "markdown",
   "metadata": {},
   "source": [
    "由于数据表中时间仅有日期，没有具体的销售时间，且数据量由2018年6月1日-2018年7月5日，仅有约一个月的时间，因此分析月销售量没有很大的意义，因此首先对每周周一至周日的销售情况进行分组计算，求出一周内不同天的销售情况，分析每周哪一天销售情况最好。  \n",
    "由图表可以看出，周一至周五的下单量在一条线上下波动，没有很大的起伏，周六和周日两天的下单量远远高于周一至周五的下单量，高出了至少50000单，销售额也是同样的趋势，超出了至少400000元，可以看出一般周末用户的下单量与交易额会远远高于工作日的下单情况，商家可以考虑在周末多上一些商品供用户选择。"
   ]
  },
  {
   "cell_type": "markdown",
   "metadata": {},
   "source": [
    "**（3）每日销售额/销售量分析**"
   ]
  },
  {
   "cell_type": "code",
   "execution_count": 34,
   "metadata": {},
   "outputs": [],
   "source": [
    "#分组计算每日销售额与销售量\n",
    "item_spend_date = item.groupby(\"shop_date\").sum().item_spend\n",
    "item_num_date = item.groupby(\"shop_date\").sum().item_quantity\n",
    "labels = item['shop_date'].unique()"
   ]
  },
  {
   "cell_type": "code",
   "execution_count": 35,
   "metadata": {},
   "outputs": [
    {
     "data": {
      "text/plain": [
       "Text(0.5, 1.0, '日销售量分析')"
      ]
     },
     "execution_count": 35,
     "metadata": {},
     "output_type": "execute_result"
    },
    {
     "data": {
      "image/png": "[encoded data removed]",
      "text/plain": [
       "<Figure size 720x432 with 2 Axes>"
      ]
     },
     "metadata": {
      "needs_background": "light"
     },
     "output_type": "display_data"
    }
   ],
   "source": [
    "#分别绘制每日销售额、销售量折线图\n",
    "#设置画布大小\n",
    "plt.figure(figsize=(10,6))\n",
    "\n",
    "plt.subplot(2,2,1)\n",
    "plt.plot(item_spend_date,marker=\"o\")\n",
    "plt.xticks(rotation=45)\n",
    "plt.title(\"日销售额分析\")\n",
    "\n",
    "plt.subplot(2,2,2)\n",
    "plt.plot(item_num_date,marker=\"o\",color='orange')\n",
    "plt.xticks(rotation=45)\n",
    "plt.title(\"日销售量分析\")"
   ]
  },
  {
   "cell_type": "code",
   "execution_count": 36,
   "metadata": {},
   "outputs": [
    {
     "data": {
      "text/plain": [
       "Text(0.5, 1.0, '日销售额/销售量对比分析')"
      ]
     },
     "execution_count": 36,
     "metadata": {},
     "output_type": "execute_result"
    },
    {
     "data": {
      "image/png": "[encoded data removed]",
      "text/plain": [
       "<Figure size 720x432 with 1 Axes>"
      ]
     },
     "metadata": {
      "needs_background": "light"
     },
     "output_type": "display_data"
    }
   ],
   "source": [
    "#绘制日销售额/销售量对比绘制折线图\n",
    "plt.figure(figsize=(10,6))\n",
    "plt.plot(item_spend_date,marker=\"o\")\n",
    "plt.plot(item_num_date,marker=\"o\")\n",
    "plt.legend(['销售额','销售量'],loc='upper right',fontsize=15)\n",
    "plt.xticks(labels,rotation=45)\n",
    "plt.title(\"日销售额/销售量对比分析\",fontsize=15)"
   ]
  },
  {
   "cell_type": "markdown",
   "metadata": {},
   "source": [
    "本小节分组计算了日销售额与日销售量的数据，并绘制了折线图进行趋势对比分析，由图中可知，销售量与销售额的趋势几乎相同，且均在2018年6月16日达到最高。"
   ]
  },
  {
   "cell_type": "markdown",
   "metadata": {},
   "source": [
    "**（4）周均消费次数/金额**"
   ]
  },
  {
   "cell_type": "code",
   "execution_count": 37,
   "metadata": {},
   "outputs": [
    {
     "name": "stdout",
     "output_type": "stream",
     "text": [
      "总订单数 280878 次\n",
      "周数 6 周\n",
      "周均消费次数 46813 次\n"
     ]
    }
   ],
   "source": [
    "#1周均消费次数=总消费次数/周数\n",
    "bask_count = item.groupby('bask_id').count().shape[0]\n",
    "week_count = item.loc[:,\"order_week\"].max()\n",
    "print(\"总订单数\",bask_count,'次')\n",
    "print(\"周数\",week_count,'周')\n",
    "print(\"周均消费次数\",bask_count//week_count,'次')"
   ]
  },
  {
   "cell_type": "code",
   "execution_count": 38,
   "metadata": {},
   "outputs": [
    {
     "name": "stdout",
     "output_type": "stream",
     "text": [
      "周均消费金额为： 3702770.0 元\n"
     ]
    }
   ],
   "source": [
    "#周均消费金额\n",
    "price_sum = item.loc[:,'item_spend'].sum()\n",
    "week_price = price_sum//week_count\n",
    "print('周均消费金额为：',week_price,'元')"
   ]
  },
  {
   "cell_type": "markdown",
   "metadata": {},
   "source": [
    "**（5）客单价**"
   ]
  },
  {
   "cell_type": "code",
   "execution_count": 39,
   "metadata": {},
   "outputs": [
    {
     "name": "stdout",
     "output_type": "stream",
     "text": [
      "客单价为： 79.0 元\n"
     ]
    }
   ],
   "source": [
    "price_num = price_sum//bask_count\n",
    "print('客单价为：',price_num,'元')"
   ]
  },
  {
   "cell_type": "markdown",
   "metadata": {},
   "source": [
    "由于数据表中数据量由2018年6月1日-2018年7月5日，仅有约一个月的时间，因此分析月销售量没有很大的意义，因此首先对每周周一至周日的销售情况进行分组计算，求出不同周的大致销售情况，最终结果可知总订单数为280878次，共有6周的数据，周均消费次数为46813次"
   ]
  },
  {
   "cell_type": "markdown",
   "metadata": {},
   "source": [
    "### **5、相关性分析**"
   ]
  },
  {
   "cell_type": "markdown",
   "metadata": {},
   "source": [
    "**（1）查看数据相关性**"
   ]
  },
  {
   "cell_type": "code",
   "execution_count": 40,
   "metadata": {},
   "outputs": [
    {
     "name": "stdout",
     "output_type": "stream",
     "text": [
      "                 item_quantity  item_spend  normal_price  discount_amount  \\\n",
      "item_quantity             1.00        0.38         -0.04            -0.18   \n",
      "item_spend                0.38        1.00          0.22            -0.74   \n",
      "normal_price             -0.04        0.22          1.00            -0.09   \n",
      "discount_amount          -0.18       -0.74         -0.09             1.00   \n",
      "order_week               -0.00       -0.00          0.01            -0.00   \n",
      "\n",
      "                 order_week  \n",
      "item_quantity         -0.00  \n",
      "item_spend            -0.00  \n",
      "normal_price           0.01  \n",
      "discount_amount       -0.00  \n",
      "order_week             1.00  \n"
     ]
    }
   ],
   "source": [
    "#关联关系\n",
    "print(item.corr(method='pearson'))   #协方差矩阵"
   ]
  },
  {
   "cell_type": "code",
   "execution_count": 41,
   "metadata": {},
   "outputs": [
    {
     "data": {
      "image/png": "[encoded data removed]",
      "text/plain": [
       "<Figure size 432x288 with 2 Axes>"
      ]
     },
     "metadata": {
      "needs_background": "light"
     },
     "output_type": "display_data"
    }
   ],
   "source": [
    "#相关矩阵图\n",
    "names = ['item_quantity','item_spend','normal_price','discount_amount','order_week']\n",
    "fig = plt.figure()\n",
    "ax = fig.add_subplot(111)\n",
    "cax = ax.matshow(item.corr(), vmin=-1,vmax=1, interpolation='none')\n",
    "fig.colorbar(cax)\n",
    "ticks = np.arange(0, 5, 1)\n",
    "ax.set_xticks(ticks)\n",
    "ax.set_yticks(ticks)\n",
    "ax.set_xticklabels(names,rotation=45,fontsize=12)\n",
    "ax.set_yticklabels(names,fontsize=12)\n",
    "plt.show()"
   ]
  },
  {
   "cell_type": "markdown",
   "metadata": {},
   "source": [
    "我们可以查看数据的相关性，值越接近1，说明相关性越强。也可以把相关性信息进行可视化，颜色越接近黄色相关性越高，越接近紫色相关性越低。由相关性图可知，商品销售总额与商品数量、折扣金额和商品销售总额相关性相对强，周数和销售额相关性最弱"
   ]
  },
  {
   "cell_type": "markdown",
   "metadata": {},
   "source": [
    "### **6、用户分析**"
   ]
  },
  {
   "cell_type": "markdown",
   "metadata": {},
   "source": [
    "**（1）用户角度分析**"
   ]
  },
  {
   "cell_type": "code",
   "execution_count": 28,
   "metadata": {},
   "outputs": [
    {
     "data": {
      "text/html": [
       "<div>\n",
       "<style scoped>\n",
       "    .dataframe tbody tr th:only-of-type {\n",
       "        vertical-align: middle;\n",
       "    }\n",
       "\n",
       "    .dataframe tbody tr th {\n",
       "        vertical-align: top;\n",
       "    }\n",
       "\n",
       "    .dataframe thead th {\n",
       "        text-align: right;\n",
       "    }\n",
       "</style>\n",
       "<table border=\"1\" class=\"dataframe\">\n",
       "  <thead>\n",
       "    <tr style=\"text-align: right;\">\n",
       "      <th></th>\n",
       "      <th>item_quantity</th>\n",
       "      <th>item_spend</th>\n",
       "      <th>normal_price</th>\n",
       "      <th>discount_amount</th>\n",
       "    </tr>\n",
       "    <tr>\n",
       "      <th>bask_id</th>\n",
       "      <th></th>\n",
       "      <th></th>\n",
       "      <th></th>\n",
       "      <th></th>\n",
       "    </tr>\n",
       "  </thead>\n",
       "  <tbody>\n",
       "    <tr>\n",
       "      <th>100001</th>\n",
       "      <td>12.00</td>\n",
       "      <td>80.60</td>\n",
       "      <td>80.60</td>\n",
       "      <td>0.00</td>\n",
       "    </tr>\n",
       "    <tr>\n",
       "      <th>100002</th>\n",
       "      <td>1.41</td>\n",
       "      <td>16.02</td>\n",
       "      <td>33.50</td>\n",
       "      <td>-2.38</td>\n",
       "    </tr>\n",
       "    <tr>\n",
       "      <th>100003</th>\n",
       "      <td>7.00</td>\n",
       "      <td>45.30</td>\n",
       "      <td>57.40</td>\n",
       "      <td>-12.10</td>\n",
       "    </tr>\n",
       "    <tr>\n",
       "      <th>100004</th>\n",
       "      <td>5.00</td>\n",
       "      <td>107.80</td>\n",
       "      <td>114.90</td>\n",
       "      <td>-7.10</td>\n",
       "    </tr>\n",
       "    <tr>\n",
       "      <th>100005</th>\n",
       "      <td>5.11</td>\n",
       "      <td>72.60</td>\n",
       "      <td>90.20</td>\n",
       "      <td>-25.84</td>\n",
       "    </tr>\n",
       "  </tbody>\n",
       "</table>\n",
       "</div>"
      ],
      "text/plain": [
       "         item_quantity  item_spend  normal_price  discount_amount\n",
       "bask_id                                                          \n",
       "100001           12.00       80.60         80.60             0.00\n",
       "100002            1.41       16.02         33.50            -2.38\n",
       "100003            7.00       45.30         57.40           -12.10\n",
       "100004            5.00      107.80        114.90            -7.10\n",
       "100005            5.11       72.60         90.20           -25.84"
      ]
     },
     "execution_count": 28,
     "metadata": {},
     "output_type": "execute_result"
    }
   ],
   "source": [
    "user_grouped=item.groupby('bask_id').sum()\n",
    "user_grouped.head()"
   ]
  },
  {
   "cell_type": "code",
   "execution_count": 29,
   "metadata": {},
   "outputs": [
    {
     "data": {
      "text/html": [
       "<div>\n",
       "<style scoped>\n",
       "    .dataframe tbody tr th:only-of-type {\n",
       "        vertical-align: middle;\n",
       "    }\n",
       "\n",
       "    .dataframe tbody tr th {\n",
       "        vertical-align: top;\n",
       "    }\n",
       "\n",
       "    .dataframe thead th {\n",
       "        text-align: right;\n",
       "    }\n",
       "</style>\n",
       "<table border=\"1\" class=\"dataframe\">\n",
       "  <thead>\n",
       "    <tr style=\"text-align: right;\">\n",
       "      <th></th>\n",
       "      <th>item_quantity</th>\n",
       "      <th>item_spend</th>\n",
       "      <th>normal_price</th>\n",
       "      <th>discount_amount</th>\n",
       "    </tr>\n",
       "  </thead>\n",
       "  <tbody>\n",
       "    <tr>\n",
       "      <th>count</th>\n",
       "      <td>280878.00</td>\n",
       "      <td>280878.00</td>\n",
       "      <td>280878.00</td>\n",
       "      <td>280878.00</td>\n",
       "    </tr>\n",
       "    <tr>\n",
       "      <th>mean</th>\n",
       "      <td>8.83</td>\n",
       "      <td>79.10</td>\n",
       "      <td>85.89</td>\n",
       "      <td>-10.06</td>\n",
       "    </tr>\n",
       "    <tr>\n",
       "      <th>std</th>\n",
       "      <td>24.48</td>\n",
       "      <td>291.24</td>\n",
       "      <td>95.76</td>\n",
       "      <td>147.36</td>\n",
       "    </tr>\n",
       "    <tr>\n",
       "      <th>min</th>\n",
       "      <td>0.01</td>\n",
       "      <td>0.01</td>\n",
       "      <td>0.50</td>\n",
       "      <td>-63510.60</td>\n",
       "    </tr>\n",
       "    <tr>\n",
       "      <th>25%</th>\n",
       "      <td>2.00</td>\n",
       "      <td>20.63</td>\n",
       "      <td>22.00</td>\n",
       "      <td>-10.16</td>\n",
       "    </tr>\n",
       "    <tr>\n",
       "      <th>50%</th>\n",
       "      <td>5.00</td>\n",
       "      <td>48.70</td>\n",
       "      <td>55.80</td>\n",
       "      <td>-3.00</td>\n",
       "    </tr>\n",
       "    <tr>\n",
       "      <th>75%</th>\n",
       "      <td>11.00</td>\n",
       "      <td>97.80</td>\n",
       "      <td>117.30</td>\n",
       "      <td>0.00</td>\n",
       "    </tr>\n",
       "    <tr>\n",
       "      <th>max</th>\n",
       "      <td>6581.00</td>\n",
       "      <td>80064.90</td>\n",
       "      <td>2615.90</td>\n",
       "      <td>0.00</td>\n",
       "    </tr>\n",
       "  </tbody>\n",
       "</table>\n",
       "</div>"
      ],
      "text/plain": [
       "       item_quantity  item_spend  normal_price  discount_amount\n",
       "count      280878.00   280878.00     280878.00        280878.00\n",
       "mean            8.83       79.10         85.89           -10.06\n",
       "std            24.48      291.24         95.76           147.36\n",
       "min             0.01        0.01          0.50        -63510.60\n",
       "25%             2.00       20.63         22.00           -10.16\n",
       "50%             5.00       48.70         55.80            -3.00\n",
       "75%            11.00       97.80        117.30             0.00\n",
       "max          6581.00    80064.90       2615.90             0.00"
      ]
     },
     "execution_count": 29,
     "metadata": {},
     "output_type": "execute_result"
    }
   ],
   "source": [
    "user_grouped.describe()"
   ]
  },
  {
   "cell_type": "markdown",
   "metadata": {},
   "source": [
    "以一个basket为一个用户，从用户角度看，每位用户平均购买8.83单位的商品，最多的用户购买了6581个商品，属于狂热用户了。用户的平均消费金额（客单价）79.1元，标准差是291.24，结合分位数和最大值看，平均值和50~75分位之间的接近，肯定存在小部分的高额消费用户。"
   ]
  },
  {
   "cell_type": "markdown",
   "metadata": {},
   "source": [
    "**（2）按周维度分析**"
   ]
  },
  {
   "cell_type": "code",
   "execution_count": 33,
   "metadata": {},
   "outputs": [],
   "source": [
    "#增加\"orderWeek\"字段，记录哪一周下单\n",
    "item[\"order_week\"] = item.shop_date.dt.weekday      #weekday周、dayofweek天、day_name"
   ]
  },
  {
   "cell_type": "code",
   "execution_count": 39,
   "metadata": {},
   "outputs": [
    {
     "data": {
      "text/plain": [
       "Text(0.5, 1.0, '每周销售额分析')"
      ]
     },
     "execution_count": 39,
     "metadata": {},
     "output_type": "execute_result"
    },
    {
     "data": {
      "image/png": "[encoded data removed]",
      "text/plain": [
       "<Figure size 576x432 with 2 Axes>"
      ]
     },
     "metadata": {
      "needs_background": "light"
     },
     "output_type": "display_data"
    }
   ],
   "source": [
    "plt.figure(figsize=(8,6))\n",
    "\n",
    "plt.subplot(2,2,1)\n",
    "item.groupby('order_week').item_quantity.sum().plot()\n",
    "plt.title(\"每周销售量分析\",fontsize=10)\n",
    "\n",
    "plt.subplot(2,2,2)\n",
    "item.groupby('order_week').item_spend.sum().plot()\n",
    "plt.title(\"每周销售额分析\",fontsize=10)"
   ]
  },
  {
   "cell_type": "markdown",
   "metadata": {},
   "source": [
    "按周统计每周的商品销量和销售额。从图中可以看到，销售量和销售额趋势相同，没有什么异常的地方，前几周销量比较平稳，甚至有些下降，而后面几周销量逐渐高涨，可能是商店逐渐被用户所认可。"
   ]
  },
  {
   "cell_type": "markdown",
   "metadata": {},
   "source": [
    "**（3）观察用户消费购买力**"
   ]
  },
  {
   "cell_type": "code",
   "execution_count": 50,
   "metadata": {},
   "outputs": [
    {
     "data": {
      "text/plain": [
       "<matplotlib.axes._subplots.AxesSubplot at 0x265914426a0>"
      ]
     },
     "execution_count": 50,
     "metadata": {},
     "output_type": "execute_result"
    },
    {
     "data": {
      "image/png": "[encoded data removed]",
      "text/plain": [
       "<Figure size 720x432 with 2 Axes>"
      ]
     },
     "metadata": {
      "needs_background": "light"
     },
     "output_type": "display_data"
    }
   ],
   "source": [
    "plt.figure(figsize=(10,6))\n",
    "plt.subplot(121)\n",
    "item.item_spend.hist(bins=30)\n",
    "\n",
    "plt.subplot(122)\n",
    "item.groupby('prod_id').item_quantity.sum().hist(bins=30)"
   ]
  },
  {
   "cell_type": "markdown",
   "metadata": {},
   "source": [
    "左边的直方图的x轴代表item_spend的分组，一共30组。y轴代表item_spend中对应到各个分组的频数。从直方图看，大部分用户的消费能力确实不高，高消费用户在图上几乎看不到。这也确实符合消费行为的行业规律。"
   ]
  },
  {
   "cell_type": "markdown",
   "metadata": {},
   "source": [
    "**（4）用户消费时间节点分析**"
   ]
  },
  {
   "cell_type": "code",
   "execution_count": 57,
   "metadata": {},
   "outputs": [
    {
     "data": {
      "text/plain": [
       "2018-06-01    7910\n",
       "2018-06-02    2246\n",
       "2018-06-03    1215\n",
       "2018-06-04     701\n",
       "2018-06-05     661\n",
       "Name: shop_date, dtype: int64"
      ]
     },
     "execution_count": 57,
     "metadata": {},
     "output_type": "execute_result"
    }
   ],
   "source": [
    "item.groupby('prod_id').shop_date.min().value_counts().head(5)"
   ]
  },
  {
   "cell_type": "code",
   "execution_count": 56,
   "metadata": {},
   "outputs": [
    {
     "data": {
      "text/plain": [
       "2018-07-05    7486\n",
       "2018-07-04    2257\n",
       "2018-07-03    1372\n",
       "2018-07-02     914\n",
       "2018-07-01     834\n",
       "Name: shop_date, dtype: int64"
      ]
     },
     "execution_count": 56,
     "metadata": {},
     "output_type": "execute_result"
    }
   ],
   "source": [
    "item.groupby('prod_id').shop_date.max().value_counts().head(5)"
   ]
  },
  {
   "cell_type": "markdown",
   "metadata": {},
   "source": [
    "如上面所示是用户第一次消费时间和最后一次消费时间，最开始和最后的消费数量比较多，中间部分消费数量比较少，可能是由于促销原因"
   ]
  },
  {
   "cell_type": "markdown",
   "metadata": {},
   "source": [
    "**（5）分析用户的复购率**"
   ]
  },
  {
   "cell_type": "markdown",
   "metadata": {},
   "source": [
    "复购率 - 单位时间内，消费两次及以上的用户数 / 购买总用户数  "
   ]
  },
  {
   "cell_type": "code",
   "execution_count": 72,
   "metadata": {},
   "outputs": [],
   "source": [
    "pivoted_counts=item.pivot_table(index=\"bask_id\",columns='order_week',values='prod_id',aggfunc='count').fillna(0)\n",
    "columns_day=item.order_week.sort_values().astype('str').unique()\n",
    "\n",
    "pivoted_counts.columns=columns_day"
   ]
  },
  {
   "cell_type": "code",
   "execution_count": 73,
   "metadata": {},
   "outputs": [],
   "source": [
    "#复购率\n",
    "pivoted_counts_transf=pivoted_counts.applymap(lambda x:1 if x>1 else np.NAN if x==0 else 0)"
   ]
  },
  {
   "cell_type": "code",
   "execution_count": 74,
   "metadata": {},
   "outputs": [
    {
     "data": {
      "text/plain": [
       "<matplotlib.axes._subplots.AxesSubplot at 0x265aed9e9a0>"
      ]
     },
     "execution_count": 74,
     "metadata": {},
     "output_type": "execute_result"
    },
    {
     "data": {
      "image/png": "[encoded data removed]",
      "text/plain": [
       "<Figure size 720x288 with 1 Axes>"
      ]
     },
     "metadata": {
      "needs_background": "light"
     },
     "output_type": "display_data"
    }
   ],
   "source": [
    "(pivoted_counts_transf.sum()/pivoted_counts_transf.count()).plot(figsize=(10,4))"
   ]
  },
  {
   "cell_type": "markdown",
   "metadata": {},
   "source": [
    "图上复购率可知复购率一直在62%以上，可能因为是零售商店，用户会经常购买商品，尤其到最后几周复购率更高，可能因为用户信任店铺"
   ]
  },
  {
   "cell_type": "markdown",
   "metadata": {},
   "source": [
    "**（6）用户RFM分析**"
   ]
  },
  {
   "cell_type": "code",
   "execution_count": 76,
   "metadata": {},
   "outputs": [
    {
     "data": {
      "text/html": [
       "<div>\n",
       "<style scoped>\n",
       "    .dataframe tbody tr th:only-of-type {\n",
       "        vertical-align: middle;\n",
       "    }\n",
       "\n",
       "    .dataframe tbody tr th {\n",
       "        vertical-align: top;\n",
       "    }\n",
       "\n",
       "    .dataframe thead th {\n",
       "        text-align: right;\n",
       "    }\n",
       "</style>\n",
       "<table border=\"1\" class=\"dataframe\">\n",
       "  <thead>\n",
       "    <tr style=\"text-align: right;\">\n",
       "      <th></th>\n",
       "      <th>shop_date</th>\n",
       "      <th>store_id</th>\n",
       "      <th>pos_id</th>\n",
       "      <th>bask_id</th>\n",
       "      <th>prod_id</th>\n",
       "      <th>item_quantity</th>\n",
       "      <th>item_spend</th>\n",
       "      <th>normal_price</th>\n",
       "      <th>discount_type</th>\n",
       "      <th>discount_amount</th>\n",
       "      <th>order_week</th>\n",
       "    </tr>\n",
       "  </thead>\n",
       "  <tbody>\n",
       "    <tr>\n",
       "      <th>0</th>\n",
       "      <td>2018-06-01</td>\n",
       "      <td>D007</td>\n",
       "      <td>3</td>\n",
       "      <td>250451</td>\n",
       "      <td>29405</td>\n",
       "      <td>1.00</td>\n",
       "      <td>1.70</td>\n",
       "      <td>2.00</td>\n",
       "      <td>m</td>\n",
       "      <td>-0.30</td>\n",
       "      <td>4</td>\n",
       "    </tr>\n",
       "    <tr>\n",
       "      <th>1</th>\n",
       "      <td>2018-06-01</td>\n",
       "      <td>D007</td>\n",
       "      <td>3</td>\n",
       "      <td>250451</td>\n",
       "      <td>13187</td>\n",
       "      <td>1.00</td>\n",
       "      <td>1.00</td>\n",
       "      <td>1.00</td>\n",
       "      <td>n</td>\n",
       "      <td>0.00</td>\n",
       "      <td>4</td>\n",
       "    </tr>\n",
       "    <tr>\n",
       "      <th>2</th>\n",
       "      <td>2018-06-01</td>\n",
       "      <td>D007</td>\n",
       "      <td>3</td>\n",
       "      <td>250243</td>\n",
       "      <td>196249</td>\n",
       "      <td>1.00</td>\n",
       "      <td>99.00</td>\n",
       "      <td>99.00</td>\n",
       "      <td>m</td>\n",
       "      <td>0.00</td>\n",
       "      <td>4</td>\n",
       "    </tr>\n",
       "    <tr>\n",
       "      <th>3</th>\n",
       "      <td>2018-06-01</td>\n",
       "      <td>D007</td>\n",
       "      <td>3</td>\n",
       "      <td>250243</td>\n",
       "      <td>199637</td>\n",
       "      <td>1.00</td>\n",
       "      <td>9.90</td>\n",
       "      <td>16.80</td>\n",
       "      <td>p</td>\n",
       "      <td>-6.90</td>\n",
       "      <td>4</td>\n",
       "    </tr>\n",
       "    <tr>\n",
       "      <th>4</th>\n",
       "      <td>2018-06-01</td>\n",
       "      <td>D007</td>\n",
       "      <td>1</td>\n",
       "      <td>160905</td>\n",
       "      <td>195012</td>\n",
       "      <td>3.22</td>\n",
       "      <td>18.69</td>\n",
       "      <td>5.80</td>\n",
       "      <td>n</td>\n",
       "      <td>0.00</td>\n",
       "      <td>4</td>\n",
       "    </tr>\n",
       "  </tbody>\n",
       "</table>\n",
       "</div>"
      ],
      "text/plain": [
       "   shop_date store_id pos_id bask_id prod_id  item_quantity  item_spend  \\\n",
       "0 2018-06-01     D007      3  250451   29405           1.00        1.70   \n",
       "1 2018-06-01     D007      3  250451   13187           1.00        1.00   \n",
       "2 2018-06-01     D007      3  250243  196249           1.00       99.00   \n",
       "3 2018-06-01     D007      3  250243  199637           1.00        9.90   \n",
       "4 2018-06-01     D007      1  160905  195012           3.22       18.69   \n",
       "\n",
       "   normal_price discount_type  discount_amount  order_week  \n",
       "0          2.00             m            -0.30           4  \n",
       "1          1.00             n             0.00           4  \n",
       "2         99.00             m             0.00           4  \n",
       "3         16.80             p            -6.90           4  \n",
       "4          5.80             n             0.00           4  "
      ]
     },
     "execution_count": 76,
     "metadata": {},
     "output_type": "execute_result"
    }
   ],
   "source": [
    "item.head()"
   ]
  },
  {
   "cell_type": "code",
   "execution_count": 99,
   "metadata": {},
   "outputs": [],
   "source": [
    "#关键字提取\n",
    "rfm=item[['bask_id','shop_date','item_spend']]"
   ]
  },
  {
   "cell_type": "code",
   "execution_count": 100,
   "metadata": {},
   "outputs": [],
   "source": [
    "r = rfm.groupby('bask_id')['shop_date'].max().reset_index()\n",
    "#R值构造\n",
    "r['R'] = (pd.to_datetime('2018-7-5') - r['shop_date']).dt.days\n",
    "r = r[['bask_id','R']]\n",
    "#F值构造\n",
    "item['date_label'] = item['shop_date'].astype(str).str[:10]\n",
    "dup_f = item.groupby(['bask_id','date_label'])['shop_date'].count().reset_index()\n",
    "f = dup_f.groupby('bask_id')['shop_date'].count().reset_index()\n",
    "f.columns = ['bask_id','F']\n",
    "# M 值构造:我们只需要得到每个用户总金额，再用总金额除以购买频次，就能拿到用户平均支付金额：\n",
    "sum_m = item.groupby('bask_id')['item_spend'].sum().reset_index()\n",
    "sum_m.columns = ['bask_id','item_spend_all']\n",
    "com_m = pd.merge(sum_m,f,left_on = 'bask_id',right_on = 'bask_id',how = 'inner')\n",
    "#计算用户平均支付金额\n",
    "com_m['M'] = com_m['item_spend_all'] / com_m['F']\n",
    "#三个指标合并\n",
    "rfm = pd.merge(r,com_m,left_on = 'bask_id',right_on = 'bask_id',how = 'inner')\n",
    "rfm = rfm[['bask_id','R','F','M']]\n",
    "rfm['R-SCORE'] = pd.cut(rfm['R'],bins = [0,30,60,90,120,1000000],labels = [5,4,3,2,1],right = False).astype(float)\n",
    "rfm['F-SCORE'] = pd.cut(rfm['F'],bins = [1,2,3,4,5,1000000],labels = [1,2,3,4,5],right = False).astype(float)\n",
    "rfm['M-SCORE'] = pd.cut(rfm['M'],bins = [0,50,100,150,200,10000000],labels = [1,2,3,4,5],right = False).astype(float)\n",
    "rfm['R是否大于均值'] = (rfm['R-SCORE'] > rfm['R-SCORE'].mean()) * 1\n",
    "rfm['F是否大于均值'] = (rfm['F-SCORE'] > rfm['F-SCORE'].mean()) * 1\n",
    "rfm['M是否大于均值'] = (rfm['M-SCORE'] > rfm['M-SCORE'].mean()) * 1\n",
    "#先引入一个人群数值的辅助列，把之前判断的 R\\F\\M 是否大于均值的三个值给串联起来：\n",
    "rfm['人群数值'] = (rfm['R是否大于均值'] * 100) + (rfm['F是否大于均值'] * 10) + (rfm['M是否大于均值'] * 1)"
   ]
  },
  {
   "cell_type": "markdown",
   "metadata": {},
   "source": [
    "为了得到最终的 R 值，用今天减去每位用户最近一次付款时间，就得到 R 值了，这份订单是 7 月 5 日生成的，所以这里我们把“2018-7-5”当作“今天”："
   ]
  },
  {
   "cell_type": "code",
   "execution_count": 94,
   "metadata": {},
   "outputs": [],
   "source": [
    "def transform_label(x):\n",
    "    if x == 111:\n",
    "        label = '重要价值客户'\n",
    "    elif x == 110:\n",
    "        label = '消费潜力客户'\n",
    "    elif x == 101:\n",
    "        label = '频次深耕客户'\n",
    "    elif x == 100:\n",
    "        label = '新客户'\n",
    "    elif x == 11:\n",
    "        label = '重要价值流失预警客户'\n",
    "    elif x == 10:\n",
    "        label = '一般客户'\n",
    "    elif x == 1:\n",
    "        label = '高消费唤回客户'\n",
    "    elif x == 0:\n",
    "        label = '流失客户'\n",
    "    return label"
   ]
  },
  {
   "cell_type": "code",
   "execution_count": 95,
   "metadata": {},
   "outputs": [
    {
     "data": {
      "text/html": [
       "<div>\n",
       "<style scoped>\n",
       "    .dataframe tbody tr th:only-of-type {\n",
       "        vertical-align: middle;\n",
       "    }\n",
       "\n",
       "    .dataframe tbody tr th {\n",
       "        vertical-align: top;\n",
       "    }\n",
       "\n",
       "    .dataframe thead th {\n",
       "        text-align: right;\n",
       "    }\n",
       "</style>\n",
       "<table border=\"1\" class=\"dataframe\">\n",
       "  <thead>\n",
       "    <tr style=\"text-align: right;\">\n",
       "      <th></th>\n",
       "      <th>bask_id</th>\n",
       "      <th>R</th>\n",
       "      <th>F</th>\n",
       "      <th>M</th>\n",
       "      <th>R-SCORE</th>\n",
       "      <th>F-SCORE</th>\n",
       "      <th>M-SCORE</th>\n",
       "      <th>R是否大于均值</th>\n",
       "      <th>F是否大于均值</th>\n",
       "      <th>M是否大于均值</th>\n",
       "      <th>人群数值</th>\n",
       "      <th>人群类型</th>\n",
       "    </tr>\n",
       "  </thead>\n",
       "  <tbody>\n",
       "    <tr>\n",
       "      <th>0</th>\n",
       "      <td>100001</td>\n",
       "      <td>24</td>\n",
       "      <td>1</td>\n",
       "      <td>80.60</td>\n",
       "      <td>5.00</td>\n",
       "      <td>1.00</td>\n",
       "      <td>2.00</td>\n",
       "      <td>1</td>\n",
       "      <td>0</td>\n",
       "      <td>1</td>\n",
       "      <td>101</td>\n",
       "      <td>频次深耕客户</td>\n",
       "    </tr>\n",
       "    <tr>\n",
       "      <th>1</th>\n",
       "      <td>100002</td>\n",
       "      <td>24</td>\n",
       "      <td>1</td>\n",
       "      <td>16.02</td>\n",
       "      <td>5.00</td>\n",
       "      <td>1.00</td>\n",
       "      <td>1.00</td>\n",
       "      <td>1</td>\n",
       "      <td>0</td>\n",
       "      <td>0</td>\n",
       "      <td>100</td>\n",
       "      <td>新客户</td>\n",
       "    </tr>\n",
       "    <tr>\n",
       "      <th>2</th>\n",
       "      <td>100003</td>\n",
       "      <td>24</td>\n",
       "      <td>1</td>\n",
       "      <td>45.30</td>\n",
       "      <td>5.00</td>\n",
       "      <td>1.00</td>\n",
       "      <td>1.00</td>\n",
       "      <td>1</td>\n",
       "      <td>0</td>\n",
       "      <td>0</td>\n",
       "      <td>100</td>\n",
       "      <td>新客户</td>\n",
       "    </tr>\n",
       "    <tr>\n",
       "      <th>3</th>\n",
       "      <td>100004</td>\n",
       "      <td>24</td>\n",
       "      <td>1</td>\n",
       "      <td>107.80</td>\n",
       "      <td>5.00</td>\n",
       "      <td>1.00</td>\n",
       "      <td>3.00</td>\n",
       "      <td>1</td>\n",
       "      <td>0</td>\n",
       "      <td>1</td>\n",
       "      <td>101</td>\n",
       "      <td>频次深耕客户</td>\n",
       "    </tr>\n",
       "    <tr>\n",
       "      <th>4</th>\n",
       "      <td>100005</td>\n",
       "      <td>24</td>\n",
       "      <td>1</td>\n",
       "      <td>72.60</td>\n",
       "      <td>5.00</td>\n",
       "      <td>1.00</td>\n",
       "      <td>2.00</td>\n",
       "      <td>1</td>\n",
       "      <td>0</td>\n",
       "      <td>1</td>\n",
       "      <td>101</td>\n",
       "      <td>频次深耕客户</td>\n",
       "    </tr>\n",
       "  </tbody>\n",
       "</table>\n",
       "</div>"
      ],
      "text/plain": [
       "  bask_id   R  F      M  R-SCORE  F-SCORE  M-SCORE  R是否大于均值  F是否大于均值  M是否大于均值  \\\n",
       "0  100001  24  1  80.60     5.00     1.00     2.00        1        0        1   \n",
       "1  100002  24  1  16.02     5.00     1.00     1.00        1        0        0   \n",
       "2  100003  24  1  45.30     5.00     1.00     1.00        1        0        0   \n",
       "3  100004  24  1 107.80     5.00     1.00     3.00        1        0        1   \n",
       "4  100005  24  1  72.60     5.00     1.00     2.00        1        0        1   \n",
       "\n",
       "   人群数值    人群类型  \n",
       "0   101  频次深耕客户  \n",
       "1   100     新客户  \n",
       "2   100     新客户  \n",
       "3   101  频次深耕客户  \n",
       "4   101  频次深耕客户  "
      ]
     },
     "execution_count": 95,
     "metadata": {},
     "output_type": "execute_result"
    }
   ],
   "source": [
    "rfm['人群类型'] = rfm['人群数值'].apply(transform_label)\n",
    "rfm.head()"
   ]
  },
  {
   "cell_type": "code",
   "execution_count": 96,
   "metadata": {},
   "outputs": [
    {
     "data": {
      "text/html": [
       "<div>\n",
       "<style scoped>\n",
       "    .dataframe tbody tr th:only-of-type {\n",
       "        vertical-align: middle;\n",
       "    }\n",
       "\n",
       "    .dataframe tbody tr th {\n",
       "        vertical-align: top;\n",
       "    }\n",
       "\n",
       "    .dataframe thead th {\n",
       "        text-align: right;\n",
       "    }\n",
       "</style>\n",
       "<table border=\"1\" class=\"dataframe\">\n",
       "  <thead>\n",
       "    <tr style=\"text-align: right;\">\n",
       "      <th></th>\n",
       "      <th>客户类型</th>\n",
       "      <th>人数</th>\n",
       "      <th>人数占比</th>\n",
       "    </tr>\n",
       "  </thead>\n",
       "  <tbody>\n",
       "    <tr>\n",
       "      <th>0</th>\n",
       "      <td>新客户</td>\n",
       "      <td>143927</td>\n",
       "      <td>0.51</td>\n",
       "    </tr>\n",
       "    <tr>\n",
       "      <th>1</th>\n",
       "      <td>消费潜力客户</td>\n",
       "      <td>64460</td>\n",
       "      <td>0.23</td>\n",
       "    </tr>\n",
       "    <tr>\n",
       "      <th>2</th>\n",
       "      <td>频次深耕客户</td>\n",
       "      <td>41827</td>\n",
       "      <td>0.15</td>\n",
       "    </tr>\n",
       "    <tr>\n",
       "      <th>3</th>\n",
       "      <td>重要价值客户</td>\n",
       "      <td>16323</td>\n",
       "      <td>0.06</td>\n",
       "    </tr>\n",
       "    <tr>\n",
       "      <th>4</th>\n",
       "      <td>流失客户</td>\n",
       "      <td>10996</td>\n",
       "      <td>0.04</td>\n",
       "    </tr>\n",
       "    <tr>\n",
       "      <th>5</th>\n",
       "      <td>高消费唤回客户</td>\n",
       "      <td>3273</td>\n",
       "      <td>0.01</td>\n",
       "    </tr>\n",
       "    <tr>\n",
       "      <th>6</th>\n",
       "      <td>一般客户</td>\n",
       "      <td>56</td>\n",
       "      <td>0.00</td>\n",
       "    </tr>\n",
       "    <tr>\n",
       "      <th>7</th>\n",
       "      <td>重要价值流失预警客户</td>\n",
       "      <td>16</td>\n",
       "      <td>0.00</td>\n",
       "    </tr>\n",
       "  </tbody>\n",
       "</table>\n",
       "</div>"
      ],
      "text/plain": [
       "         客户类型      人数  人数占比\n",
       "0         新客户  143927  0.51\n",
       "1      消费潜力客户   64460  0.23\n",
       "2      频次深耕客户   41827  0.15\n",
       "3      重要价值客户   16323  0.06\n",
       "4        流失客户   10996  0.04\n",
       "5     高消费唤回客户    3273  0.01\n",
       "6        一般客户      56  0.00\n",
       "7  重要价值流失预警客户      16  0.00"
      ]
     },
     "execution_count": 96,
     "metadata": {},
     "output_type": "execute_result"
    }
   ],
   "source": [
    "count = rfm['人群类型'].value_counts().reset_index()\n",
    "count.columns = ['客户类型','人数']\n",
    "count['人数占比'] = count['人数'] / count['人数'].sum()\n",
    "count"
   ]
  },
  {
   "cell_type": "code",
   "execution_count": 97,
   "metadata": {},
   "outputs": [
    {
     "data": {
      "text/html": [
       "<div>\n",
       "<style scoped>\n",
       "    .dataframe tbody tr th:only-of-type {\n",
       "        vertical-align: middle;\n",
       "    }\n",
       "\n",
       "    .dataframe tbody tr th {\n",
       "        vertical-align: top;\n",
       "    }\n",
       "\n",
       "    .dataframe thead th {\n",
       "        text-align: right;\n",
       "    }\n",
       "</style>\n",
       "<table border=\"1\" class=\"dataframe\">\n",
       "  <thead>\n",
       "    <tr style=\"text-align: right;\">\n",
       "      <th></th>\n",
       "      <th>客户类型</th>\n",
       "      <th>消费金额</th>\n",
       "      <th>金额占比</th>\n",
       "    </tr>\n",
       "  </thead>\n",
       "  <tbody>\n",
       "    <tr>\n",
       "      <th>0</th>\n",
       "      <td>一般客户</td>\n",
       "      <td>4402.14</td>\n",
       "      <td>0.00</td>\n",
       "    </tr>\n",
       "    <tr>\n",
       "      <th>1</th>\n",
       "      <td>新客户</td>\n",
       "      <td>4375668.79</td>\n",
       "      <td>0.20</td>\n",
       "    </tr>\n",
       "    <tr>\n",
       "      <th>2</th>\n",
       "      <td>流失客户</td>\n",
       "      <td>227760.53</td>\n",
       "      <td>0.01</td>\n",
       "    </tr>\n",
       "    <tr>\n",
       "      <th>3</th>\n",
       "      <td>消费潜力客户</td>\n",
       "      <td>5700122.19</td>\n",
       "      <td>0.26</td>\n",
       "    </tr>\n",
       "    <tr>\n",
       "      <th>4</th>\n",
       "      <td>重要价值客户</td>\n",
       "      <td>4942937.89</td>\n",
       "      <td>0.22</td>\n",
       "    </tr>\n",
       "    <tr>\n",
       "      <th>5</th>\n",
       "      <td>重要价值流失预警客户</td>\n",
       "      <td>3602.50</td>\n",
       "      <td>0.00</td>\n",
       "    </tr>\n",
       "    <tr>\n",
       "      <th>6</th>\n",
       "      <td>频次深耕客户</td>\n",
       "      <td>6596386.35</td>\n",
       "      <td>0.30</td>\n",
       "    </tr>\n",
       "    <tr>\n",
       "      <th>7</th>\n",
       "      <td>高消费唤回客户</td>\n",
       "      <td>365743.78</td>\n",
       "      <td>0.02</td>\n",
       "    </tr>\n",
       "  </tbody>\n",
       "</table>\n",
       "</div>"
      ],
      "text/plain": [
       "         客户类型       消费金额  金额占比\n",
       "0        一般客户    4402.14  0.00\n",
       "1         新客户 4375668.79  0.20\n",
       "2        流失客户  227760.53  0.01\n",
       "3      消费潜力客户 5700122.19  0.26\n",
       "4      重要价值客户 4942937.89  0.22\n",
       "5  重要价值流失预警客户    3602.50  0.00\n",
       "6      频次深耕客户 6596386.35  0.30\n",
       "7     高消费唤回客户  365743.78  0.02"
      ]
     },
     "execution_count": 97,
     "metadata": {},
     "output_type": "execute_result"
    }
   ],
   "source": [
    "rfm['购买总金额'] = rfm['F'] * rfm['M']\n",
    "mon = rfm.groupby('人群类型')['购买总金额'].sum().reset_index()\n",
    "mon.columns = ['客户类型','消费金额']\n",
    "mon['金额占比'] = mon['消费金额'] / mon['消费金额'].sum()\n",
    "mon"
   ]
  },
  {
   "cell_type": "code",
   "execution_count": 98,
   "metadata": {},
   "outputs": [
    {
     "data": {
      "text/html": [
       "<div>\n",
       "<style scoped>\n",
       "    .dataframe tbody tr th:only-of-type {\n",
       "        vertical-align: middle;\n",
       "    }\n",
       "\n",
       "    .dataframe tbody tr th {\n",
       "        vertical-align: top;\n",
       "    }\n",
       "\n",
       "    .dataframe thead th {\n",
       "        text-align: right;\n",
       "    }\n",
       "</style>\n",
       "<table border=\"1\" class=\"dataframe\">\n",
       "  <thead>\n",
       "    <tr style=\"text-align: right;\">\n",
       "      <th></th>\n",
       "      <th>客户类型</th>\n",
       "      <th>人数</th>\n",
       "      <th>人数占比</th>\n",
       "      <th>消费金额</th>\n",
       "      <th>金额占比</th>\n",
       "    </tr>\n",
       "  </thead>\n",
       "  <tbody>\n",
       "    <tr>\n",
       "      <th>0</th>\n",
       "      <td>新客户</td>\n",
       "      <td>143927</td>\n",
       "      <td>0.51</td>\n",
       "      <td>4375668.79</td>\n",
       "      <td>0.20</td>\n",
       "    </tr>\n",
       "    <tr>\n",
       "      <th>1</th>\n",
       "      <td>消费潜力客户</td>\n",
       "      <td>64460</td>\n",
       "      <td>0.23</td>\n",
       "      <td>5700122.19</td>\n",
       "      <td>0.26</td>\n",
       "    </tr>\n",
       "    <tr>\n",
       "      <th>2</th>\n",
       "      <td>频次深耕客户</td>\n",
       "      <td>41827</td>\n",
       "      <td>0.15</td>\n",
       "      <td>6596386.35</td>\n",
       "      <td>0.30</td>\n",
       "    </tr>\n",
       "    <tr>\n",
       "      <th>3</th>\n",
       "      <td>重要价值客户</td>\n",
       "      <td>16323</td>\n",
       "      <td>0.06</td>\n",
       "      <td>4942937.89</td>\n",
       "      <td>0.22</td>\n",
       "    </tr>\n",
       "    <tr>\n",
       "      <th>4</th>\n",
       "      <td>流失客户</td>\n",
       "      <td>10996</td>\n",
       "      <td>0.04</td>\n",
       "      <td>227760.53</td>\n",
       "      <td>0.01</td>\n",
       "    </tr>\n",
       "    <tr>\n",
       "      <th>5</th>\n",
       "      <td>高消费唤回客户</td>\n",
       "      <td>3273</td>\n",
       "      <td>0.01</td>\n",
       "      <td>365743.78</td>\n",
       "      <td>0.02</td>\n",
       "    </tr>\n",
       "    <tr>\n",
       "      <th>6</th>\n",
       "      <td>一般客户</td>\n",
       "      <td>56</td>\n",
       "      <td>0.00</td>\n",
       "      <td>4402.14</td>\n",
       "      <td>0.00</td>\n",
       "    </tr>\n",
       "    <tr>\n",
       "      <th>7</th>\n",
       "      <td>重要价值流失预警客户</td>\n",
       "      <td>16</td>\n",
       "      <td>0.00</td>\n",
       "      <td>3602.50</td>\n",
       "      <td>0.00</td>\n",
       "    </tr>\n",
       "  </tbody>\n",
       "</table>\n",
       "</div>"
      ],
      "text/plain": [
       "         客户类型      人数  人数占比       消费金额  金额占比\n",
       "0         新客户  143927  0.51 4375668.79  0.20\n",
       "1      消费潜力客户   64460  0.23 5700122.19  0.26\n",
       "2      频次深耕客户   41827  0.15 6596386.35  0.30\n",
       "3      重要价值客户   16323  0.06 4942937.89  0.22\n",
       "4        流失客户   10996  0.04  227760.53  0.01\n",
       "5     高消费唤回客户    3273  0.01  365743.78  0.02\n",
       "6        一般客户      56  0.00    4402.14  0.00\n",
       "7  重要价值流失预警客户      16  0.00    3602.50  0.00"
      ]
     },
     "execution_count": 98,
     "metadata": {},
     "output_type": "execute_result"
    }
   ],
   "source": [
    "result = pd.merge(count,mon,left_on = '客户类型',right_on = '客户类型')\n",
    "result"
   ]
  },
  {
   "cell_type": "code",
   "execution_count": null,
   "metadata": {},
   "outputs": [],
   "source": []
  }
 ],
 "metadata": {
  "kernelspec": {
   "display_name": "Python 3",
   "language": "python",
   "name": "python3"
  },
  "language_info": {
   "codemirror_mode": {
    "name": "ipython",
    "version": 3
   },
   "file_extension": ".py",
   "mimetype": "text/x-python",
   "name": "python",
   "nbconvert_exporter": "python",
   "pygments_lexer": "ipython3",
   "version": "3.8.3"
  }
 },
 "nbformat": 4,
 "nbformat_minor": 4
}
