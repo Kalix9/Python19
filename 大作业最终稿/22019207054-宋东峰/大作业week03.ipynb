{
 "cells": [
  {
   "cell_type": "markdown",
   "metadata": {},
   "source": [
    "大作业"
   ]
  },
  {
   "cell_type": "code",
   "execution_count": 4,
   "metadata": {},
   "outputs": [],
   "source": [
    "import pandas as pd\n",
    "import numpy as np"
   ]
  },
  {
   "cell_type": "markdown",
   "metadata": {},
   "source": [
    "一、导入数据"
   ]
  },
  {
   "cell_type": "markdown",
   "metadata": {},
   "source": [
    "导入数据1，用sample()方法随机抽取5个样本数据预览。"
   ]
  },
  {
   "cell_type": "code",
   "execution_count": 6,
   "metadata": {},
   "outputs": [
    {
     "data": {
      "text/html": [
       "<div>\n",
       "<style scoped>\n",
       "    .dataframe tbody tr th:only-of-type {\n",
       "        vertical-align: middle;\n",
       "    }\n",
       "\n",
       "    .dataframe tbody tr th {\n",
       "        vertical-align: top;\n",
       "    }\n",
       "\n",
       "    .dataframe thead th {\n",
       "        text-align: right;\n",
       "    }\n",
       "</style>\n",
       "<table border=\"1\" class=\"dataframe\">\n",
       "  <thead>\n",
       "    <tr style=\"text-align: right;\">\n",
       "      <th></th>\n",
       "      <th>SDATE</th>\n",
       "      <th>STORE_CODE</th>\n",
       "      <th>POSID</th>\n",
       "      <th>BASK_CODE</th>\n",
       "      <th>PROD_CODE</th>\n",
       "      <th>ITEM_QUANTITY</th>\n",
       "      <th>ITEM_SPEND</th>\n",
       "      <th>NORMAL_PRICE</th>\n",
       "      <th>DISCOUNT_TYPE</th>\n",
       "      <th>DISCOUNT_AMOUNT</th>\n",
       "    </tr>\n",
       "  </thead>\n",
       "  <tbody>\n",
       "    <tr>\n",
       "      <th>373906</th>\n",
       "      <td>2018/6/8</td>\n",
       "      <td>A010</td>\n",
       "      <td>2</td>\n",
       "      <td>264715</td>\n",
       "      <td>214597</td>\n",
       "      <td>1.0</td>\n",
       "      <td>1.0</td>\n",
       "      <td>1.0</td>\n",
       "      <td>n</td>\n",
       "      <td>0.0</td>\n",
       "    </tr>\n",
       "    <tr>\n",
       "      <th>945587</th>\n",
       "      <td>2018/6/16</td>\n",
       "      <td>A016</td>\n",
       "      <td>1</td>\n",
       "      <td>88181</td>\n",
       "      <td>198366</td>\n",
       "      <td>1.0</td>\n",
       "      <td>10.9</td>\n",
       "      <td>12.5</td>\n",
       "      <td>p</td>\n",
       "      <td>-1.6</td>\n",
       "    </tr>\n",
       "    <tr>\n",
       "      <th>17215</th>\n",
       "      <td>2018/6/2</td>\n",
       "      <td>A004</td>\n",
       "      <td>2</td>\n",
       "      <td>108779</td>\n",
       "      <td>4903</td>\n",
       "      <td>1.0</td>\n",
       "      <td>18.8</td>\n",
       "      <td>24.9</td>\n",
       "      <td>p</td>\n",
       "      <td>-6.1</td>\n",
       "    </tr>\n",
       "    <tr>\n",
       "      <th>501656</th>\n",
       "      <td>2018/6/11</td>\n",
       "      <td>A004</td>\n",
       "      <td>2</td>\n",
       "      <td>113261</td>\n",
       "      <td>278</td>\n",
       "      <td>1.0</td>\n",
       "      <td>16.0</td>\n",
       "      <td>16.0</td>\n",
       "      <td>n</td>\n",
       "      <td>0.0</td>\n",
       "    </tr>\n",
       "    <tr>\n",
       "      <th>726900</th>\n",
       "      <td>2018/6/15</td>\n",
       "      <td>D007</td>\n",
       "      <td>3</td>\n",
       "      <td>262685</td>\n",
       "      <td>205437</td>\n",
       "      <td>1.0</td>\n",
       "      <td>8.9</td>\n",
       "      <td>11.9</td>\n",
       "      <td>p</td>\n",
       "      <td>-3.0</td>\n",
       "    </tr>\n",
       "  </tbody>\n",
       "</table>\n",
       "</div>"
      ],
      "text/plain": [
       "            SDATE STORE_CODE  POSID  BASK_CODE  PROD_CODE  ITEM_QUANTITY  \\\n",
       "373906   2018/6/8       A010      2     264715     214597            1.0   \n",
       "945587  2018/6/16       A016      1      88181     198366            1.0   \n",
       "17215    2018/6/2       A004      2     108779       4903            1.0   \n",
       "501656  2018/6/11       A004      2     113261        278            1.0   \n",
       "726900  2018/6/15       D007      3     262685     205437            1.0   \n",
       "\n",
       "        ITEM_SPEND  NORMAL_PRICE DISCOUNT_TYPE  DISCOUNT_AMOUNT  \n",
       "373906         1.0           1.0             n              0.0  \n",
       "945587        10.9          12.5             p             -1.6  \n",
       "17215         18.8          24.9             p             -6.1  \n",
       "501656        16.0          16.0             n              0.0  \n",
       "726900         8.9          11.9             p             -3.0  "
      ]
     },
     "execution_count": 6,
     "metadata": {},
     "output_type": "execute_result"
    }
   ],
   "source": [
    "data_1 = pd.read_csv('item-2018-06-01-2018-07-05.csv')\n",
    "data_1.sample(5)"
   ]
  },
  {
   "cell_type": "markdown",
   "metadata": {},
   "source": [
    "导入数据2，用sample()方法随机抽取5个样本数据预览。"
   ]
  },
  {
   "cell_type": "code",
   "execution_count": 7,
   "metadata": {},
   "outputs": [
    {
     "data": {
      "text/html": [
       "<div>\n",
       "<style scoped>\n",
       "    .dataframe tbody tr th:only-of-type {\n",
       "        vertical-align: middle;\n",
       "    }\n",
       "\n",
       "    .dataframe tbody tr th {\n",
       "        vertical-align: top;\n",
       "    }\n",
       "\n",
       "    .dataframe thead th {\n",
       "        text-align: right;\n",
       "    }\n",
       "</style>\n",
       "<table border=\"1\" class=\"dataframe\">\n",
       "  <thead>\n",
       "    <tr style=\"text-align: right;\">\n",
       "      <th></th>\n",
       "      <th>SHOP_DATETIME</th>\n",
       "      <th>STORE_CODE</th>\n",
       "      <th>POS_NO</th>\n",
       "      <th>BASK_CODE</th>\n",
       "      <th>BASK_SPEND</th>\n",
       "    </tr>\n",
       "  </thead>\n",
       "  <tbody>\n",
       "    <tr>\n",
       "      <th>451893</th>\n",
       "      <td>2018-06-08</td>\n",
       "      <td>A021</td>\n",
       "      <td>4</td>\n",
       "      <td>47830</td>\n",
       "      <td>20.85</td>\n",
       "    </tr>\n",
       "    <tr>\n",
       "      <th>22122</th>\n",
       "      <td>2018-06-14</td>\n",
       "      <td>A007</td>\n",
       "      <td>2</td>\n",
       "      <td>121222</td>\n",
       "      <td>38.79</td>\n",
       "    </tr>\n",
       "    <tr>\n",
       "      <th>152733</th>\n",
       "      <td>2018-06-04</td>\n",
       "      <td>D003</td>\n",
       "      <td>2</td>\n",
       "      <td>54020</td>\n",
       "      <td>2.90</td>\n",
       "    </tr>\n",
       "    <tr>\n",
       "      <th>303791</th>\n",
       "      <td>2018-06-13</td>\n",
       "      <td>D005</td>\n",
       "      <td>3</td>\n",
       "      <td>5630</td>\n",
       "      <td>24.50</td>\n",
       "    </tr>\n",
       "    <tr>\n",
       "      <th>168454</th>\n",
       "      <td>2018-06-12</td>\n",
       "      <td>D002</td>\n",
       "      <td>4</td>\n",
       "      <td>148399</td>\n",
       "      <td>4.70</td>\n",
       "    </tr>\n",
       "  </tbody>\n",
       "</table>\n",
       "</div>"
      ],
      "text/plain": [
       "       SHOP_DATETIME STORE_CODE  POS_NO  BASK_CODE  BASK_SPEND\n",
       "451893    2018-06-08       A021       4      47830       20.85\n",
       "22122     2018-06-14       A007       2     121222       38.79\n",
       "152733    2018-06-04       D003       2      54020        2.90\n",
       "303791    2018-06-13       D005       3       5630       24.50\n",
       "168454    2018-06-12       D002       4     148399        4.70"
      ]
     },
     "execution_count": 7,
     "metadata": {},
     "output_type": "execute_result"
    }
   ],
   "source": [
    "data_2 = pd.read_csv('Basket-2018-06-01-2018-07-05.csv')\n",
    "data_2.sample(5)"
   ]
  },
  {
   "cell_type": "markdown",
   "metadata": {},
   "source": [
    "用Info()方法查看数据1各字段数据类型."
   ]
  },
  {
   "cell_type": "code",
   "execution_count": 8,
   "metadata": {},
   "outputs": [
    {
     "name": "stdout",
     "output_type": "stream",
     "text": [
      "<class 'pandas.core.frame.DataFrame'>\n",
      "RangeIndex: 1048575 entries, 0 to 1048574\n",
      "Data columns (total 10 columns):\n",
      " #   Column           Non-Null Count    Dtype  \n",
      "---  ------           --------------    -----  \n",
      " 0   SDATE            1048575 non-null  object \n",
      " 1   STORE_CODE       1048575 non-null  object \n",
      " 2   POSID            1048575 non-null  int64  \n",
      " 3   BASK_CODE        1048575 non-null  int64  \n",
      " 4   PROD_CODE        1048575 non-null  int64  \n",
      " 5   ITEM_QUANTITY    1048575 non-null  float64\n",
      " 6   ITEM_SPEND       1048575 non-null  float64\n",
      " 7   NORMAL_PRICE     1048575 non-null  float64\n",
      " 8   DISCOUNT_TYPE    1048575 non-null  object \n",
      " 9   DISCOUNT_AMOUNT  1048575 non-null  float64\n",
      "dtypes: float64(4), int64(3), object(3)\n",
      "memory usage: 80.0+ MB\n"
     ]
    }
   ],
   "source": [
    "data_1.info()"
   ]
  },
  {
   "cell_type": "markdown",
   "metadata": {},
   "source": [
    "用Info()方法查看数据1各字段数据类型."
   ]
  },
  {
   "cell_type": "code",
   "execution_count": 9,
   "metadata": {},
   "outputs": [
    {
     "name": "stdout",
     "output_type": "stream",
     "text": [
      "<class 'pandas.core.frame.DataFrame'>\n",
      "RangeIndex: 571552 entries, 0 to 571551\n",
      "Data columns (total 5 columns):\n",
      " #   Column         Non-Null Count   Dtype  \n",
      "---  ------         --------------   -----  \n",
      " 0   SHOP_DATETIME  571552 non-null  object \n",
      " 1   STORE_CODE     571552 non-null  object \n",
      " 2   POS_NO         571552 non-null  int64  \n",
      " 3   BASK_CODE      571552 non-null  int64  \n",
      " 4   BASK_SPEND     571552 non-null  float64\n",
      "dtypes: float64(1), int64(2), object(2)\n",
      "memory usage: 21.8+ MB\n"
     ]
    }
   ],
   "source": [
    "data_2.info()"
   ]
  },
  {
   "cell_type": "markdown",
   "metadata": {},
   "source": [
    "二、数据处理"
   ]
  },
  {
   "cell_type": "markdown",
   "metadata": {},
   "source": [
    "删除数据1重复数据。"
   ]
  },
  {
   "cell_type": "code",
   "execution_count": 11,
   "metadata": {},
   "outputs": [],
   "source": [
    "data_1 = data_1.drop_duplicates()"
   ]
  },
  {
   "cell_type": "markdown",
   "metadata": {},
   "source": [
    "删除数据2重复数据。"
   ]
  },
  {
   "cell_type": "code",
   "execution_count": 12,
   "metadata": {},
   "outputs": [],
   "source": [
    "data_2 = data_2.drop_duplicates()"
   ]
  },
  {
   "cell_type": "markdown",
   "metadata": {},
   "source": [
    "数据1是否存在缺失值"
   ]
  },
  {
   "cell_type": "code",
   "execution_count": 13,
   "metadata": {},
   "outputs": [
    {
     "name": "stdout",
     "output_type": "stream",
     "text": [
      "SDATE              False\n",
      "STORE_CODE         False\n",
      "POSID              False\n",
      "BASK_CODE          False\n",
      "PROD_CODE          False\n",
      "ITEM_QUANTITY      False\n",
      "ITEM_SPEND         False\n",
      "NORMAL_PRICE       False\n",
      "DISCOUNT_TYPE      False\n",
      "DISCOUNT_AMOUNT    False\n",
      "dtype: bool\n"
     ]
    }
   ],
   "source": [
    "data_1.isnull().any()\n",
    "print(data_1.isnull().any())"
   ]
  },
  {
   "cell_type": "markdown",
   "metadata": {},
   "source": [
    "数据2是否存在缺失值"
   ]
  },
  {
   "cell_type": "code",
   "execution_count": 14,
   "metadata": {},
   "outputs": [
    {
     "name": "stdout",
     "output_type": "stream",
     "text": [
      "SHOP_DATETIME    False\n",
      "STORE_CODE       False\n",
      "POS_NO           False\n",
      "BASK_CODE        False\n",
      "BASK_SPEND       False\n",
      "dtype: bool\n"
     ]
    }
   ],
   "source": [
    "data_2.isnull().any()\n",
    "print(data_2.isnull().any())"
   ]
  },
  {
   "cell_type": "code",
   "execution_count": 15,
   "metadata": {},
   "outputs": [
    {
     "data": {
      "text/html": [
       "<div>\n",
       "<style scoped>\n",
       "    .dataframe tbody tr th:only-of-type {\n",
       "        vertical-align: middle;\n",
       "    }\n",
       "\n",
       "    .dataframe tbody tr th {\n",
       "        vertical-align: top;\n",
       "    }\n",
       "\n",
       "    .dataframe thead th {\n",
       "        text-align: right;\n",
       "    }\n",
       "</style>\n",
       "<table border=\"1\" class=\"dataframe\">\n",
       "  <thead>\n",
       "    <tr style=\"text-align: right;\">\n",
       "      <th></th>\n",
       "      <th>POSID</th>\n",
       "      <th>BASK_CODE</th>\n",
       "      <th>PROD_CODE</th>\n",
       "      <th>ITEM_QUANTITY</th>\n",
       "      <th>ITEM_SPEND</th>\n",
       "      <th>NORMAL_PRICE</th>\n",
       "      <th>DISCOUNT_AMOUNT</th>\n",
       "    </tr>\n",
       "  </thead>\n",
       "  <tbody>\n",
       "    <tr>\n",
       "      <th>count</th>\n",
       "      <td>919798.000000</td>\n",
       "      <td>919798.000000</td>\n",
       "      <td>919798.000000</td>\n",
       "      <td>919798.000000</td>\n",
       "      <td>919798.000000</td>\n",
       "      <td>919798.000000</td>\n",
       "      <td>919798.000000</td>\n",
       "    </tr>\n",
       "    <tr>\n",
       "      <th>mean</th>\n",
       "      <td>3.018145</td>\n",
       "      <td>161417.225990</td>\n",
       "      <td>115695.898499</td>\n",
       "      <td>1.530732</td>\n",
       "      <td>14.442620</td>\n",
       "      <td>15.748373</td>\n",
       "      <td>-2.078002</td>\n",
       "    </tr>\n",
       "    <tr>\n",
       "      <th>std</th>\n",
       "      <td>2.480789</td>\n",
       "      <td>85991.738441</td>\n",
       "      <td>81229.634561</td>\n",
       "      <td>8.792848</td>\n",
       "      <td>116.100263</td>\n",
       "      <td>25.560155</td>\n",
       "      <td>67.577646</td>\n",
       "    </tr>\n",
       "    <tr>\n",
       "      <th>min</th>\n",
       "      <td>1.000000</td>\n",
       "      <td>961.000000</td>\n",
       "      <td>19.000000</td>\n",
       "      <td>-120.000000</td>\n",
       "      <td>-870.000000</td>\n",
       "      <td>0.500000</td>\n",
       "      <td>-57600.000000</td>\n",
       "    </tr>\n",
       "    <tr>\n",
       "      <th>25%</th>\n",
       "      <td>1.000000</td>\n",
       "      <td>85034.000000</td>\n",
       "      <td>23460.000000</td>\n",
       "      <td>1.000000</td>\n",
       "      <td>4.000000</td>\n",
       "      <td>4.000000</td>\n",
       "      <td>-1.600000</td>\n",
       "    </tr>\n",
       "    <tr>\n",
       "      <th>50%</th>\n",
       "      <td>2.000000</td>\n",
       "      <td>169996.500000</td>\n",
       "      <td>124554.000000</td>\n",
       "      <td>1.000000</td>\n",
       "      <td>7.900000</td>\n",
       "      <td>8.700000</td>\n",
       "      <td>0.000000</td>\n",
       "    </tr>\n",
       "    <tr>\n",
       "      <th>75%</th>\n",
       "      <td>3.000000</td>\n",
       "      <td>219089.750000</td>\n",
       "      <td>196250.000000</td>\n",
       "      <td>1.000000</td>\n",
       "      <td>12.900000</td>\n",
       "      <td>16.800000</td>\n",
       "      <td>0.000000</td>\n",
       "    </tr>\n",
       "    <tr>\n",
       "      <th>max</th>\n",
       "      <td>20.000000</td>\n",
       "      <td>314827.000000</td>\n",
       "      <td>224745.000000</td>\n",
       "      <td>4020.000000</td>\n",
       "      <td>69120.000000</td>\n",
       "      <td>1980.000000</td>\n",
       "      <td>696.000000</td>\n",
       "    </tr>\n",
       "  </tbody>\n",
       "</table>\n",
       "</div>"
      ],
      "text/plain": [
       "               POSID      BASK_CODE      PROD_CODE  ITEM_QUANTITY  \\\n",
       "count  919798.000000  919798.000000  919798.000000  919798.000000   \n",
       "mean        3.018145  161417.225990  115695.898499       1.530732   \n",
       "std         2.480789   85991.738441   81229.634561       8.792848   \n",
       "min         1.000000     961.000000      19.000000    -120.000000   \n",
       "25%         1.000000   85034.000000   23460.000000       1.000000   \n",
       "50%         2.000000  169996.500000  124554.000000       1.000000   \n",
       "75%         3.000000  219089.750000  196250.000000       1.000000   \n",
       "max        20.000000  314827.000000  224745.000000    4020.000000   \n",
       "\n",
       "          ITEM_SPEND   NORMAL_PRICE  DISCOUNT_AMOUNT  \n",
       "count  919798.000000  919798.000000    919798.000000  \n",
       "mean       14.442620      15.748373        -2.078002  \n",
       "std       116.100263      25.560155        67.577646  \n",
       "min      -870.000000       0.500000    -57600.000000  \n",
       "25%         4.000000       4.000000        -1.600000  \n",
       "50%         7.900000       8.700000         0.000000  \n",
       "75%        12.900000      16.800000         0.000000  \n",
       "max     69120.000000    1980.000000       696.000000  "
      ]
     },
     "execution_count": 15,
     "metadata": {},
     "output_type": "execute_result"
    }
   ],
   "source": [
    "data_1.describe()"
   ]
  },
  {
   "cell_type": "markdown",
   "metadata": {},
   "source": [
    "删除数据1无效数据"
   ]
  },
  {
   "cell_type": "code",
   "execution_count": 17,
   "metadata": {},
   "outputs": [
    {
     "data": {
      "text/html": [
       "<div>\n",
       "<style scoped>\n",
       "    .dataframe tbody tr th:only-of-type {\n",
       "        vertical-align: middle;\n",
       "    }\n",
       "\n",
       "    .dataframe tbody tr th {\n",
       "        vertical-align: top;\n",
       "    }\n",
       "\n",
       "    .dataframe thead th {\n",
       "        text-align: right;\n",
       "    }\n",
       "</style>\n",
       "<table border=\"1\" class=\"dataframe\">\n",
       "  <thead>\n",
       "    <tr style=\"text-align: right;\">\n",
       "      <th></th>\n",
       "      <th>POSID</th>\n",
       "      <th>BASK_CODE</th>\n",
       "      <th>PROD_CODE</th>\n",
       "      <th>ITEM_QUANTITY</th>\n",
       "      <th>ITEM_SPEND</th>\n",
       "      <th>NORMAL_PRICE</th>\n",
       "      <th>DISCOUNT_AMOUNT</th>\n",
       "    </tr>\n",
       "  </thead>\n",
       "  <tbody>\n",
       "    <tr>\n",
       "      <th>count</th>\n",
       "      <td>918123.000000</td>\n",
       "      <td>918123.000000</td>\n",
       "      <td>918123.000000</td>\n",
       "      <td>918123.000000</td>\n",
       "      <td>918123.000000</td>\n",
       "      <td>918123.000000</td>\n",
       "      <td>918123.000000</td>\n",
       "    </tr>\n",
       "    <tr>\n",
       "      <th>mean</th>\n",
       "      <td>3.016386</td>\n",
       "      <td>161456.908379</td>\n",
       "      <td>115700.779317</td>\n",
       "      <td>1.536841</td>\n",
       "      <td>14.525912</td>\n",
       "      <td>15.703587</td>\n",
       "      <td>-2.047947</td>\n",
       "    </tr>\n",
       "    <tr>\n",
       "      <th>std</th>\n",
       "      <td>2.475197</td>\n",
       "      <td>85979.597365</td>\n",
       "      <td>81209.088022</td>\n",
       "      <td>8.794101</td>\n",
       "      <td>116.154551</td>\n",
       "      <td>25.466823</td>\n",
       "      <td>67.404537</td>\n",
       "    </tr>\n",
       "    <tr>\n",
       "      <th>min</th>\n",
       "      <td>1.000000</td>\n",
       "      <td>961.000000</td>\n",
       "      <td>19.000000</td>\n",
       "      <td>0.010000</td>\n",
       "      <td>0.250000</td>\n",
       "      <td>0.500000</td>\n",
       "      <td>-57600.000000</td>\n",
       "    </tr>\n",
       "    <tr>\n",
       "      <th>25%</th>\n",
       "      <td>1.000000</td>\n",
       "      <td>85077.000000</td>\n",
       "      <td>23460.000000</td>\n",
       "      <td>1.000000</td>\n",
       "      <td>4.000000</td>\n",
       "      <td>4.000000</td>\n",
       "      <td>-1.600000</td>\n",
       "    </tr>\n",
       "    <tr>\n",
       "      <th>50%</th>\n",
       "      <td>2.000000</td>\n",
       "      <td>170043.000000</td>\n",
       "      <td>124554.000000</td>\n",
       "      <td>1.000000</td>\n",
       "      <td>7.900000</td>\n",
       "      <td>8.600000</td>\n",
       "      <td>0.000000</td>\n",
       "    </tr>\n",
       "    <tr>\n",
       "      <th>75%</th>\n",
       "      <td>3.000000</td>\n",
       "      <td>219134.500000</td>\n",
       "      <td>196250.000000</td>\n",
       "      <td>1.000000</td>\n",
       "      <td>12.900000</td>\n",
       "      <td>16.800000</td>\n",
       "      <td>0.000000</td>\n",
       "    </tr>\n",
       "    <tr>\n",
       "      <th>max</th>\n",
       "      <td>20.000000</td>\n",
       "      <td>314827.000000</td>\n",
       "      <td>224745.000000</td>\n",
       "      <td>4020.000000</td>\n",
       "      <td>69120.000000</td>\n",
       "      <td>1980.000000</td>\n",
       "      <td>226.400000</td>\n",
       "    </tr>\n",
       "  </tbody>\n",
       "</table>\n",
       "</div>"
      ],
      "text/plain": [
       "               POSID      BASK_CODE      PROD_CODE  ITEM_QUANTITY  \\\n",
       "count  918123.000000  918123.000000  918123.000000  918123.000000   \n",
       "mean        3.016386  161456.908379  115700.779317       1.536841   \n",
       "std         2.475197   85979.597365   81209.088022       8.794101   \n",
       "min         1.000000     961.000000      19.000000       0.010000   \n",
       "25%         1.000000   85077.000000   23460.000000       1.000000   \n",
       "50%         2.000000  170043.000000  124554.000000       1.000000   \n",
       "75%         3.000000  219134.500000  196250.000000       1.000000   \n",
       "max        20.000000  314827.000000  224745.000000    4020.000000   \n",
       "\n",
       "          ITEM_SPEND   NORMAL_PRICE  DISCOUNT_AMOUNT  \n",
       "count  918123.000000  918123.000000    918123.000000  \n",
       "mean       14.525912      15.703587        -2.047947  \n",
       "std       116.154551      25.466823        67.404537  \n",
       "min         0.250000       0.500000    -57600.000000  \n",
       "25%         4.000000       4.000000        -1.600000  \n",
       "50%         7.900000       8.600000         0.000000  \n",
       "75%        12.900000      16.800000         0.000000  \n",
       "max     69120.000000    1980.000000       226.400000  "
      ]
     },
     "execution_count": 17,
     "metadata": {},
     "output_type": "execute_result"
    }
   ],
   "source": [
    "r_1=data_1.loc[:,'ITEM_SPEND'] >0\n",
    "data_1= data_1.loc[r_1,:]\n",
    "r_2=data_1.loc[:,'ITEM_QUANTITY'] >0\n",
    "data_1=data_1.loc[r_2,:]\n",
    "data_1.describe()"
   ]
  },
  {
   "cell_type": "code",
   "execution_count": 18,
   "metadata": {},
   "outputs": [
    {
     "data": {
      "text/html": [
       "<div>\n",
       "<style scoped>\n",
       "    .dataframe tbody tr th:only-of-type {\n",
       "        vertical-align: middle;\n",
       "    }\n",
       "\n",
       "    .dataframe tbody tr th {\n",
       "        vertical-align: top;\n",
       "    }\n",
       "\n",
       "    .dataframe thead th {\n",
       "        text-align: right;\n",
       "    }\n",
       "</style>\n",
       "<table border=\"1\" class=\"dataframe\">\n",
       "  <thead>\n",
       "    <tr style=\"text-align: right;\">\n",
       "      <th></th>\n",
       "      <th>POS_NO</th>\n",
       "      <th>BASK_CODE</th>\n",
       "      <th>BASK_SPEND</th>\n",
       "    </tr>\n",
       "  </thead>\n",
       "  <tbody>\n",
       "    <tr>\n",
       "      <th>count</th>\n",
       "      <td>571552.000000</td>\n",
       "      <td>571552.000000</td>\n",
       "      <td>571552.000000</td>\n",
       "    </tr>\n",
       "    <tr>\n",
       "      <th>mean</th>\n",
       "      <td>2.998429</td>\n",
       "      <td>167472.817102</td>\n",
       "      <td>38.973310</td>\n",
       "    </tr>\n",
       "    <tr>\n",
       "      <th>std</th>\n",
       "      <td>2.516065</td>\n",
       "      <td>87263.199857</td>\n",
       "      <td>209.038276</td>\n",
       "    </tr>\n",
       "    <tr>\n",
       "      <th>min</th>\n",
       "      <td>1.000000</td>\n",
       "      <td>961.000000</td>\n",
       "      <td>-35940.000000</td>\n",
       "    </tr>\n",
       "    <tr>\n",
       "      <th>25%</th>\n",
       "      <td>1.000000</td>\n",
       "      <td>90533.750000</td>\n",
       "      <td>9.000000</td>\n",
       "    </tr>\n",
       "    <tr>\n",
       "      <th>50%</th>\n",
       "      <td>2.000000</td>\n",
       "      <td>177603.500000</td>\n",
       "      <td>19.900000</td>\n",
       "    </tr>\n",
       "    <tr>\n",
       "      <th>75%</th>\n",
       "      <td>3.000000</td>\n",
       "      <td>238816.750000</td>\n",
       "      <td>44.700000</td>\n",
       "    </tr>\n",
       "    <tr>\n",
       "      <th>max</th>\n",
       "      <td>20.000000</td>\n",
       "      <td>323914.000000</td>\n",
       "      <td>79920.000000</td>\n",
       "    </tr>\n",
       "  </tbody>\n",
       "</table>\n",
       "</div>"
      ],
      "text/plain": [
       "              POS_NO      BASK_CODE     BASK_SPEND\n",
       "count  571552.000000  571552.000000  571552.000000\n",
       "mean        2.998429  167472.817102      38.973310\n",
       "std         2.516065   87263.199857     209.038276\n",
       "min         1.000000     961.000000  -35940.000000\n",
       "25%         1.000000   90533.750000       9.000000\n",
       "50%         2.000000  177603.500000      19.900000\n",
       "75%         3.000000  238816.750000      44.700000\n",
       "max        20.000000  323914.000000   79920.000000"
      ]
     },
     "execution_count": 18,
     "metadata": {},
     "output_type": "execute_result"
    }
   ],
   "source": [
    "data_2.describe()"
   ]
  },
  {
   "cell_type": "markdown",
   "metadata": {},
   "source": [
    "删除数据2无效数据"
   ]
  },
  {
   "cell_type": "code",
   "execution_count": 19,
   "metadata": {},
   "outputs": [
    {
     "data": {
      "text/html": [
       "<div>\n",
       "<style scoped>\n",
       "    .dataframe tbody tr th:only-of-type {\n",
       "        vertical-align: middle;\n",
       "    }\n",
       "\n",
       "    .dataframe tbody tr th {\n",
       "        vertical-align: top;\n",
       "    }\n",
       "\n",
       "    .dataframe thead th {\n",
       "        text-align: right;\n",
       "    }\n",
       "</style>\n",
       "<table border=\"1\" class=\"dataframe\">\n",
       "  <thead>\n",
       "    <tr style=\"text-align: right;\">\n",
       "      <th></th>\n",
       "      <th>POS_NO</th>\n",
       "      <th>BASK_CODE</th>\n",
       "      <th>BASK_SPEND</th>\n",
       "    </tr>\n",
       "  </thead>\n",
       "  <tbody>\n",
       "    <tr>\n",
       "      <th>count</th>\n",
       "      <td>569797.000000</td>\n",
       "      <td>569797.000000</td>\n",
       "      <td>569797.000000</td>\n",
       "    </tr>\n",
       "    <tr>\n",
       "      <th>mean</th>\n",
       "      <td>2.994330</td>\n",
       "      <td>167572.136898</td>\n",
       "      <td>39.583197</td>\n",
       "    </tr>\n",
       "    <tr>\n",
       "      <th>std</th>\n",
       "      <td>2.502507</td>\n",
       "      <td>87224.915886</td>\n",
       "      <td>196.158166</td>\n",
       "    </tr>\n",
       "    <tr>\n",
       "      <th>min</th>\n",
       "      <td>1.000000</td>\n",
       "      <td>961.000000</td>\n",
       "      <td>0.010000</td>\n",
       "    </tr>\n",
       "    <tr>\n",
       "      <th>25%</th>\n",
       "      <td>1.000000</td>\n",
       "      <td>90673.000000</td>\n",
       "      <td>9.000000</td>\n",
       "    </tr>\n",
       "    <tr>\n",
       "      <th>50%</th>\n",
       "      <td>2.000000</td>\n",
       "      <td>177692.000000</td>\n",
       "      <td>20.000000</td>\n",
       "    </tr>\n",
       "    <tr>\n",
       "      <th>75%</th>\n",
       "      <td>3.000000</td>\n",
       "      <td>238933.000000</td>\n",
       "      <td>44.800000</td>\n",
       "    </tr>\n",
       "    <tr>\n",
       "      <th>max</th>\n",
       "      <td>20.000000</td>\n",
       "      <td>323914.000000</td>\n",
       "      <td>79920.000000</td>\n",
       "    </tr>\n",
       "  </tbody>\n",
       "</table>\n",
       "</div>"
      ],
      "text/plain": [
       "              POS_NO      BASK_CODE     BASK_SPEND\n",
       "count  569797.000000  569797.000000  569797.000000\n",
       "mean        2.994330  167572.136898      39.583197\n",
       "std         2.502507   87224.915886     196.158166\n",
       "min         1.000000     961.000000       0.010000\n",
       "25%         1.000000   90673.000000       9.000000\n",
       "50%         2.000000  177692.000000      20.000000\n",
       "75%         3.000000  238933.000000      44.800000\n",
       "max        20.000000  323914.000000   79920.000000"
      ]
     },
     "execution_count": 19,
     "metadata": {},
     "output_type": "execute_result"
    }
   ],
   "source": [
    "r_3=data_2.loc[:,'BASK_SPEND'] >0\n",
    "data_2=data_2.loc[r_3,:]\n",
    "data_2.describe()"
   ]
  },
  {
   "cell_type": "markdown",
   "metadata": {},
   "source": [
    "三、数据分析："
   ]
  },
  {
   "cell_type": "markdown",
   "metadata": {},
   "source": [
    "将两个表的列名统一"
   ]
  },
  {
   "cell_type": "code",
   "execution_count": 20,
   "metadata": {},
   "outputs": [],
   "source": [
    "data_1.columns=['SDATE','STORE_CODE','POS_NO','BASK_CODE','PROD_CODE','ITEM_QUANTITY','ITEM_SPEND','NORMAL_PRICE','DISCOUNT_TYPE','DISCOUNT_AMOUNT']\n",
    "data_2.columns=['SDATE','STORE_CODE','POS_NO','BASK_CODE','BASK_SPEND']"
   ]
  },
  {
   "cell_type": "markdown",
   "metadata": {},
   "source": [
    "（1）相关性分析"
   ]
  },
  {
   "cell_type": "markdown",
   "metadata": {},
   "source": [
    "观察'ITEM_QUANTITY','ITEM_SPEND','NORMAL_PRICE','DISCOUNT_AMOUNT'之间的相关关系"
   ]
  },
  {
   "cell_type": "code",
   "execution_count": 23,
   "metadata": {},
   "outputs": [
    {
     "data": {
      "text/html": [
       "<div>\n",
       "<style scoped>\n",
       "    .dataframe tbody tr th:only-of-type {\n",
       "        vertical-align: middle;\n",
       "    }\n",
       "\n",
       "    .dataframe tbody tr th {\n",
       "        vertical-align: top;\n",
       "    }\n",
       "\n",
       "    .dataframe thead th {\n",
       "        text-align: right;\n",
       "    }\n",
       "</style>\n",
       "<table border=\"1\" class=\"dataframe\">\n",
       "  <thead>\n",
       "    <tr style=\"text-align: right;\">\n",
       "      <th></th>\n",
       "      <th>ITEM_QUANTITY</th>\n",
       "      <th>ITEM_SPEND</th>\n",
       "      <th>NORMAL_PRICE</th>\n",
       "      <th>DISCOUNT_AMOUNT</th>\n",
       "    </tr>\n",
       "  </thead>\n",
       "  <tbody>\n",
       "    <tr>\n",
       "      <th>ITEM_QUANTITY</th>\n",
       "      <td>1.000000</td>\n",
       "      <td>0.356903</td>\n",
       "      <td>-0.020040</td>\n",
       "      <td>-0.150769</td>\n",
       "    </tr>\n",
       "    <tr>\n",
       "      <th>ITEM_SPEND</th>\n",
       "      <td>0.356903</td>\n",
       "      <td>1.000000</td>\n",
       "      <td>0.245812</td>\n",
       "      <td>-0.820671</td>\n",
       "    </tr>\n",
       "    <tr>\n",
       "      <th>NORMAL_PRICE</th>\n",
       "      <td>-0.020040</td>\n",
       "      <td>0.245812</td>\n",
       "      <td>1.000000</td>\n",
       "      <td>-0.078033</td>\n",
       "    </tr>\n",
       "    <tr>\n",
       "      <th>DISCOUNT_AMOUNT</th>\n",
       "      <td>-0.150769</td>\n",
       "      <td>-0.820671</td>\n",
       "      <td>-0.078033</td>\n",
       "      <td>1.000000</td>\n",
       "    </tr>\n",
       "  </tbody>\n",
       "</table>\n",
       "</div>"
      ],
      "text/plain": [
       "                 ITEM_QUANTITY  ITEM_SPEND  NORMAL_PRICE  DISCOUNT_AMOUNT\n",
       "ITEM_QUANTITY         1.000000    0.356903     -0.020040        -0.150769\n",
       "ITEM_SPEND            0.356903    1.000000      0.245812        -0.820671\n",
       "NORMAL_PRICE         -0.020040    0.245812      1.000000        -0.078033\n",
       "DISCOUNT_AMOUNT      -0.150769   -0.820671     -0.078033         1.000000"
      ]
     },
     "execution_count": 23,
     "metadata": {},
     "output_type": "execute_result"
    }
   ],
   "source": [
    "data_1[[\n",
    "      'ITEM_QUANTITY','ITEM_SPEND','NORMAL_PRICE','DISCOUNT_AMOUNT'\n",
    "      ]].corr()"
   ]
  },
  {
   "cell_type": "code",
   "execution_count": 24,
   "metadata": {},
   "outputs": [
    {
     "data": {
      "text/plain": [
       "<matplotlib.axes._subplots.AxesSubplot at 0x7f80410e7310>"
      ]
     },
     "execution_count": 24,
     "metadata": {},
     "output_type": "execute_result"
    },
    {
     "name": "stderr",
     "output_type": "stream",
     "text": [
      "findfont: Font family ['sans-serif'] not found. Falling back to DejaVu Sans.\n"
     ]
    },
    {
     "data": {
      "image/png": "[encoded data removed]",
      "text/plain": [
       "<Figure size 864x864 with 2 Axes>"
      ]
     },
     "metadata": {
      "needs_background": "light"
     },
     "output_type": "display_data"
    }
   ],
   "source": [
    "import matplotlib.pyplot as plt\n",
    "import seaborn as sns\n",
    "%matplotlib inline\n",
    "plt.rcParams['font.sans-serif'] = ['SimHei']  # 设置加载的字体名\n",
    "plt.rcParams['axes.unicode_minus'] = False   # 解决保存图像是负号'-'显示为方块的问题\n",
    "fig,axes=plt.subplots(2,1,figsize=(12,12))\n",
    "sns.regplot(x='ITEM_QUANTITY',y='ITEM_SPEND',data=data_1,color='r',marker='+',ax=axes[0])\n",
    "sns.regplot(x='NORMAL_PRICE',y='DISCOUNT_AMOUNT',data=data_1,color='g',marker='*',ax=axes[1])"
   ]
  },
  {
   "cell_type": "markdown",
   "metadata": {},
   "source": [
    "（2）计算统计量（商店个数、销售次数、销售金额、日销售金额、日平均销售金额、次平均销售金额）"
   ]
  },
  {
   "cell_type": "markdown",
   "metadata": {},
   "source": [
    "统计商店个数，从数据1、数据2得到相同结果。"
   ]
  },
  {
   "cell_type": "code",
   "execution_count": 25,
   "metadata": {},
   "outputs": [
    {
     "data": {
      "text/plain": [
       "24"
      ]
     },
     "execution_count": 25,
     "metadata": {},
     "output_type": "execute_result"
    }
   ],
   "source": [
    "store_num_1=data_1.drop_duplicates(subset=['STORE_CODE'])\n",
    "store_num_1.shape[0]"
   ]
  },
  {
   "cell_type": "code",
   "execution_count": 26,
   "metadata": {},
   "outputs": [
    {
     "data": {
      "text/plain": [
       "24"
      ]
     },
     "execution_count": 26,
     "metadata": {},
     "output_type": "execute_result"
    }
   ],
   "source": [
    "store_num_2=data_2.drop_duplicates(subset=['STORE_CODE'])\n",
    "store_num_2.shape[0]"
   ]
  },
  {
   "cell_type": "markdown",
   "metadata": {},
   "source": [
    "可得：商店个数：24"
   ]
  },
  {
   "cell_type": "markdown",
   "metadata": {},
   "source": [
    "统计从6月1号至7月5号各个商店的销售次数"
   ]
  },
  {
   "cell_type": "code",
   "execution_count": 27,
   "metadata": {},
   "outputs": [
    {
     "data": {
      "text/plain": [
       "A001    66507\n",
       "D002    62949\n",
       "D007    37503\n",
       "A008    36462\n",
       "A013    30064\n",
       "A006    28470\n",
       "A012    24946\n",
       "A009    21809\n",
       "D004    21362\n",
       "D008    21029\n",
       "A021    20555\n",
       "A010    19543\n",
       "D006    18572\n",
       "A016    18279\n",
       "A007    17954\n",
       "A019    16985\n",
       "D009    15827\n",
       "A018    15731\n",
       "D005    15261\n",
       "A022    15260\n",
       "A004    13429\n",
       "A017    12459\n",
       "D010    11070\n",
       "D003     7771\n",
       "Name: STORE_CODE, dtype: int64"
      ]
     },
     "execution_count": 27,
     "metadata": {},
     "output_type": "execute_result"
    }
   ],
   "source": [
    "a=data_2['STORE_CODE'].value_counts()\n",
    "a"
   ]
  },
  {
   "cell_type": "code",
   "execution_count": 29,
   "metadata": {},
   "outputs": [
    {
     "data": {
      "image/png": "[encoded data removed]",
      "text/plain": [
       "<Figure size 2304x720 with 1 Axes>"
      ]
     },
     "metadata": {
      "needs_background": "light"
     },
     "output_type": "display_data"
    }
   ],
   "source": [
    "plt.bar(a.index, a.values)\n",
    "plt.rcParams['figure.figsize'] = (19.0, 10.0)\n",
    "plt.show()"
   ]
  },
  {
   "cell_type": "markdown",
   "metadata": {},
   "source": [
    "统计从6月1号至7月5号各个商店的销售金额"
   ]
  },
  {
   "cell_type": "code",
   "execution_count": 30,
   "metadata": {},
   "outputs": [
    {
     "data": {
      "text/html": [
       "<div>\n",
       "<style scoped>\n",
       "    .dataframe tbody tr th:only-of-type {\n",
       "        vertical-align: middle;\n",
       "    }\n",
       "\n",
       "    .dataframe tbody tr th {\n",
       "        vertical-align: top;\n",
       "    }\n",
       "\n",
       "    .dataframe thead th {\n",
       "        text-align: right;\n",
       "    }\n",
       "</style>\n",
       "<table border=\"1\" class=\"dataframe\">\n",
       "  <thead>\n",
       "    <tr style=\"text-align: right;\">\n",
       "      <th></th>\n",
       "      <th>SDATE</th>\n",
       "      <th>STORE_CODE</th>\n",
       "      <th>POS_NO</th>\n",
       "      <th>BASK_CODE</th>\n",
       "      <th>BASK_SPEND</th>\n",
       "    </tr>\n",
       "  </thead>\n",
       "  <tbody>\n",
       "    <tr>\n",
       "      <th>0</th>\n",
       "      <td>2018-06-01</td>\n",
       "      <td>D007</td>\n",
       "      <td>3</td>\n",
       "      <td>250458</td>\n",
       "      <td>8.0</td>\n",
       "    </tr>\n",
       "    <tr>\n",
       "      <th>1</th>\n",
       "      <td>2018-06-01</td>\n",
       "      <td>D007</td>\n",
       "      <td>3</td>\n",
       "      <td>250200</td>\n",
       "      <td>32.7</td>\n",
       "    </tr>\n",
       "    <tr>\n",
       "      <th>2</th>\n",
       "      <td>2018-06-01</td>\n",
       "      <td>D007</td>\n",
       "      <td>1</td>\n",
       "      <td>161068</td>\n",
       "      <td>16.8</td>\n",
       "    </tr>\n",
       "    <tr>\n",
       "      <th>3</th>\n",
       "      <td>2018-06-01</td>\n",
       "      <td>D007</td>\n",
       "      <td>8</td>\n",
       "      <td>5325</td>\n",
       "      <td>30.4</td>\n",
       "    </tr>\n",
       "    <tr>\n",
       "      <th>4</th>\n",
       "      <td>2018-06-01</td>\n",
       "      <td>D007</td>\n",
       "      <td>8</td>\n",
       "      <td>5361</td>\n",
       "      <td>191.3</td>\n",
       "    </tr>\n",
       "  </tbody>\n",
       "</table>\n",
       "</div>"
      ],
      "text/plain": [
       "       SDATE STORE_CODE  POS_NO  BASK_CODE  BASK_SPEND\n",
       "0 2018-06-01       D007       3     250458         8.0\n",
       "1 2018-06-01       D007       3     250200        32.7\n",
       "2 2018-06-01       D007       1     161068        16.8\n",
       "3 2018-06-01       D007       8       5325        30.4\n",
       "4 2018-06-01       D007       8       5361       191.3"
      ]
     },
     "execution_count": 30,
     "metadata": {},
     "output_type": "execute_result"
    }
   ],
   "source": [
    "from pandas import to_datetime\n",
    "groupdata_2=data_2\n",
    "groupdata_2.SDATE=to_datetime(groupdata_2.SDATE,format=\"%Y/%m/%d\")\n",
    "groupdata_2.head()"
   ]
  },
  {
   "cell_type": "code",
   "execution_count": 31,
   "metadata": {},
   "outputs": [],
   "source": [
    "groupdata_2.sort_values(by='SDATE', inplace=True)"
   ]
  },
  {
   "cell_type": "code",
   "execution_count": 32,
   "metadata": {},
   "outputs": [
    {
     "data": {
      "text/plain": [
       "<pandas.core.groupby.generic.DataFrameGroupBy object at 0x7f803f1f49a0>"
      ]
     },
     "execution_count": 32,
     "metadata": {},
     "output_type": "execute_result"
    }
   ],
   "source": [
    "groupdata_2_1 = groupdata_2.groupby(groupdata_2.STORE_CODE)\n",
    "groupdata_2_1"
   ]
  },
  {
   "cell_type": "code",
   "execution_count": 33,
   "metadata": {},
   "outputs": [
    {
     "data": {
      "text/html": [
       "<div>\n",
       "<style scoped>\n",
       "    .dataframe tbody tr th:only-of-type {\n",
       "        vertical-align: middle;\n",
       "    }\n",
       "\n",
       "    .dataframe tbody tr th {\n",
       "        vertical-align: top;\n",
       "    }\n",
       "\n",
       "    .dataframe thead th {\n",
       "        text-align: right;\n",
       "    }\n",
       "</style>\n",
       "<table border=\"1\" class=\"dataframe\">\n",
       "  <thead>\n",
       "    <tr style=\"text-align: right;\">\n",
       "      <th></th>\n",
       "      <th>POS_NO</th>\n",
       "      <th>BASK_CODE</th>\n",
       "      <th>BASK_SPEND</th>\n",
       "    </tr>\n",
       "    <tr>\n",
       "      <th>STORE_CODE</th>\n",
       "      <th></th>\n",
       "      <th></th>\n",
       "      <th></th>\n",
       "    </tr>\n",
       "  </thead>\n",
       "  <tbody>\n",
       "    <tr>\n",
       "      <th>A001</th>\n",
       "      <td>362297</td>\n",
       "      <td>11569109746</td>\n",
       "      <td>3.478348e+06</td>\n",
       "    </tr>\n",
       "    <tr>\n",
       "      <th>A004</th>\n",
       "      <td>27594</td>\n",
       "      <td>1522658556</td>\n",
       "      <td>5.156631e+05</td>\n",
       "    </tr>\n",
       "    <tr>\n",
       "      <th>A006</th>\n",
       "      <td>65559</td>\n",
       "      <td>8042653934</td>\n",
       "      <td>9.439233e+05</td>\n",
       "    </tr>\n",
       "    <tr>\n",
       "      <th>A007</th>\n",
       "      <td>36558</td>\n",
       "      <td>2042843270</td>\n",
       "      <td>6.938853e+05</td>\n",
       "    </tr>\n",
       "    <tr>\n",
       "      <th>A008</th>\n",
       "      <td>93968</td>\n",
       "      <td>7748221557</td>\n",
       "      <td>1.324641e+06</td>\n",
       "    </tr>\n",
       "  </tbody>\n",
       "</table>\n",
       "</div>"
      ],
      "text/plain": [
       "            POS_NO    BASK_CODE    BASK_SPEND\n",
       "STORE_CODE                                   \n",
       "A001        362297  11569109746  3.478348e+06\n",
       "A004         27594   1522658556  5.156631e+05\n",
       "A006         65559   8042653934  9.439233e+05\n",
       "A007         36558   2042843270  6.938853e+05\n",
       "A008         93968   7748221557  1.324641e+06"
      ]
     },
     "execution_count": 33,
     "metadata": {},
     "output_type": "execute_result"
    }
   ],
   "source": [
    "groupdata_2_2 = groupdata_2_1.sum()\n",
    "groupdata_2_2.head()"
   ]
  },
  {
   "cell_type": "code",
   "execution_count": 34,
   "metadata": {},
   "outputs": [
    {
     "data": {
      "text/html": [
       "<div>\n",
       "<style scoped>\n",
       "    .dataframe tbody tr th:only-of-type {\n",
       "        vertical-align: middle;\n",
       "    }\n",
       "\n",
       "    .dataframe tbody tr th {\n",
       "        vertical-align: top;\n",
       "    }\n",
       "\n",
       "    .dataframe thead th {\n",
       "        text-align: right;\n",
       "    }\n",
       "</style>\n",
       "<table border=\"1\" class=\"dataframe\">\n",
       "  <thead>\n",
       "    <tr style=\"text-align: right;\">\n",
       "      <th></th>\n",
       "      <th>POS_NO</th>\n",
       "      <th>BASK_CODE</th>\n",
       "      <th>BASK_SPEND</th>\n",
       "    </tr>\n",
       "    <tr>\n",
       "      <th>STORE_CODE</th>\n",
       "      <th></th>\n",
       "      <th></th>\n",
       "      <th></th>\n",
       "    </tr>\n",
       "  </thead>\n",
       "  <tbody>\n",
       "    <tr>\n",
       "      <th>A001</th>\n",
       "      <td>362297</td>\n",
       "      <td>11569109746</td>\n",
       "      <td>3.478348e+06</td>\n",
       "    </tr>\n",
       "    <tr>\n",
       "      <th>D002</th>\n",
       "      <td>362228</td>\n",
       "      <td>8181180122</td>\n",
       "      <td>3.177385e+06</td>\n",
       "    </tr>\n",
       "    <tr>\n",
       "      <th>D007</th>\n",
       "      <td>90900</td>\n",
       "      <td>8030277804</td>\n",
       "      <td>1.382203e+06</td>\n",
       "    </tr>\n",
       "    <tr>\n",
       "      <th>A008</th>\n",
       "      <td>93968</td>\n",
       "      <td>7748221557</td>\n",
       "      <td>1.324641e+06</td>\n",
       "    </tr>\n",
       "    <tr>\n",
       "      <th>A013</th>\n",
       "      <td>110035</td>\n",
       "      <td>5133025011</td>\n",
       "      <td>1.126551e+06</td>\n",
       "    </tr>\n",
       "  </tbody>\n",
       "</table>\n",
       "</div>"
      ],
      "text/plain": [
       "            POS_NO    BASK_CODE    BASK_SPEND\n",
       "STORE_CODE                                   \n",
       "A001        362297  11569109746  3.478348e+06\n",
       "D002        362228   8181180122  3.177385e+06\n",
       "D007         90900   8030277804  1.382203e+06\n",
       "A008         93968   7748221557  1.324641e+06\n",
       "A013        110035   5133025011  1.126551e+06"
      ]
     },
     "execution_count": 34,
     "metadata": {},
     "output_type": "execute_result"
    }
   ],
   "source": [
    "groupdata_2_2.sort_values(\"BASK_SPEND\",ascending=False,inplace=True)\n",
    "groupdata_2_2.head()"
   ]
  },
  {
   "cell_type": "code",
   "execution_count": 35,
   "metadata": {},
   "outputs": [
    {
     "name": "stderr",
     "output_type": "stream",
     "text": [
      "findfont: Font family ['sans-serif'] not found. Falling back to DejaVu Sans.\n"
     ]
    },
    {
     "data": {
      "image/png": "[encoded data removed]",
      "text/plain": [
       "<Figure size 1368x720 with 1 Axes>"
      ]
     },
     "metadata": {
      "needs_background": "light"
     },
     "output_type": "display_data"
    }
   ],
   "source": [
    "from pylab import mpl\n",
    "plt.bar(groupdata_2_2.index,groupdata_2_2['BASK_SPEND'])\n",
    "plt.title('store sales')\n",
    "plt.xlabel('store')\n",
    "plt.ylabel('money')\n",
    "plt.rcParams['figure.figsize'] = (19.0, 10.0)\n",
    "plt.show()"
   ]
  },
  {
   "cell_type": "markdown",
   "metadata": {},
   "source": [
    "可得：对比销售次数图和销售金额图，发现商店的排序基本一致，符合一般实际销售情况。"
   ]
  },
  {
   "cell_type": "markdown",
   "metadata": {},
   "source": [
    "统计从6月1号至7月5号商店每天的销售金额，并进行排序"
   ]
  },
  {
   "cell_type": "code",
   "execution_count": 36,
   "metadata": {},
   "outputs": [
    {
     "data": {
      "text/plain": [
       "<pandas.core.groupby.generic.DataFrameGroupBy object at 0x7f8040afd0d0>"
      ]
     },
     "execution_count": 36,
     "metadata": {},
     "output_type": "execute_result"
    }
   ],
   "source": [
    "groupdata_2_3 = groupdata_2.groupby(groupdata_2.SDATE)\n",
    "groupdata_2_3"
   ]
  },
  {
   "cell_type": "code",
   "execution_count": 37,
   "metadata": {},
   "outputs": [],
   "source": [
    "day_sales = groupdata_2_3.sum()"
   ]
  },
  {
   "cell_type": "code",
   "execution_count": 38,
   "metadata": {},
   "outputs": [
    {
     "data": {
      "image/png": "[encoded data removed]",
      "text/plain": [
       "<Figure size 1368x720 with 1 Axes>"
      ]
     },
     "metadata": {
      "needs_background": "light"
     },
     "output_type": "display_data"
    }
   ],
   "source": [
    "from pylab import mpl\n",
    "plt.plot(day_sales['BASK_SPEND'])\n",
    "plt.title('sales') \n",
    "plt.xlabel('day')\n",
    "plt.ylabel('money')\n",
    "plt.rcParams['figure.figsize'] = (32.0, 10.0)\n",
    "plt.show()"
   ]
  },
  {
   "cell_type": "markdown",
   "metadata": {},
   "source": [
    "可得；从上图可以看出商店每天销售金额的变化。"
   ]
  },
  {
   "cell_type": "markdown",
   "metadata": {},
   "source": [
    "统计日平均销售金额"
   ]
  },
  {
   "cell_type": "code",
   "execution_count": 39,
   "metadata": {},
   "outputs": [],
   "source": [
    "AllMoney = data_2.loc[:,'BASK_SPEND'].sum()"
   ]
  },
  {
   "cell_type": "code",
   "execution_count": 40,
   "metadata": {},
   "outputs": [
    {
     "data": {
      "text/plain": [
       "35"
      ]
     },
     "execution_count": 40,
     "metadata": {},
     "output_type": "execute_result"
    }
   ],
   "source": [
    "day_sum= data_2.drop_duplicates(subset=['SDATE'])\n",
    "days = day_sum.shape[0]\n",
    "days"
   ]
  },
  {
   "cell_type": "code",
   "execution_count": 41,
   "metadata": {},
   "outputs": [
    {
     "data": {
      "text/plain": [
       "644411.0"
      ]
     },
     "execution_count": 41,
     "metadata": {},
     "output_type": "execute_result"
    }
   ],
   "source": [
    "sales_per_day=AllMoney//days\n",
    "sales_per_day"
   ]
  },
  {
   "cell_type": "markdown",
   "metadata": {},
   "source": [
    "统计次平均售卖金额"
   ]
  },
  {
   "cell_type": "code",
   "execution_count": 43,
   "metadata": {},
   "outputs": [
    {
     "data": {
      "text/plain": [
       "39.0"
      ]
     },
     "execution_count": 43,
     "metadata": {},
     "output_type": "execute_result"
    }
   ],
   "source": [
    "spend_times=data_2.shape[0]\n",
    "spend_per_time=AllMoney//spend_times\n",
    "spend_per_time"
   ]
  },
  {
   "cell_type": "markdown",
   "metadata": {},
   "source": [
    "（3）统计量分布"
   ]
  },
  {
   "cell_type": "markdown",
   "metadata": {},
   "source": [
    "统计销售量前十"
   ]
  },
  {
   "cell_type": "code",
   "execution_count": 46,
   "metadata": {},
   "outputs": [
    {
     "name": "stdout",
     "output_type": "stream",
     "text": [
      "PROD_CODE\n",
      "194690    6810\n",
      "21835     6589\n",
      "72811     5104\n",
      "205540    4468\n",
      "75283     4014\n",
      "219118    3890\n",
      "197532    3711\n",
      "205437    3594\n",
      "216571    3320\n",
      "178462    3209\n",
      "Name: BASK_CODE, dtype: int64\n"
     ]
    }
   ],
   "source": [
    "product_quantity_sort = data_1.groupby('PROD_CODE')['BASK_CODE'].count().sort_values(ascending=False)\n",
    "print(product_quantity_sort.head(10))"
   ]
  },
  {
   "cell_type": "markdown",
   "metadata": {},
   "source": [
    "统计销售金额前十"
   ]
  },
  {
   "cell_type": "code",
   "execution_count": 49,
   "metadata": {},
   "outputs": [
    {
     "name": "stdout",
     "output_type": "stream",
     "text": [
      "PROD_CODE\n",
      "7137      236511.00\n",
      "136839    207763.00\n",
      "7133      180327.50\n",
      "149413    124727.71\n",
      "154900    101363.20\n",
      "220834     93843.06\n",
      "1239       84235.00\n",
      "88160      82399.40\n",
      "220320     70800.00\n",
      "11929      70037.40\n",
      "Name: ITEM_SPEND, dtype: float64\n"
     ]
    }
   ],
   "source": [
    "product_amount_sort = data_1.groupby('PROD_CODE').sum()['ITEM_SPEND'].sort_values(ascending=False)\n",
    "print(product_amount_sort.head(10))"
   ]
  },
  {
   "cell_type": "markdown",
   "metadata": {},
   "source": [
    "产品价格分布"
   ]
  },
  {
   "cell_type": "code",
   "execution_count": 50,
   "metadata": {},
   "outputs": [],
   "source": [
    "prices = []\n",
    "for price in data_1['ITEM_SPEND']:\n",
    "    if 0 <= price < 20:\n",
    "        prices.append(1)  #  \n",
    "    elif 20 <= price < 50:\n",
    "        prices.append(2)  # \n",
    "    elif 50 <= price < 100:\n",
    "        prices.append(3)  #\n",
    "    elif 100 <= price < 500:\n",
    "        prices.append(4)  #\n",
    "    elif 500 <= price < 1000:\n",
    "        prices.append(5)  #\n",
    "    elif 1000 <= price < 2000:\n",
    "        prices.append(6)  #\n",
    "    elif 2000 <= price:\n",
    "        prices.append(7)  #\n",
    "        \n",
    "data_1['price'] = pd.DataFrame(prices)"
   ]
  },
  {
   "cell_type": "code",
   "execution_count": 51,
   "metadata": {},
   "outputs": [
    {
     "data": {
      "text/plain": [
       "Text(0, 0.5, '价格')"
      ]
     },
     "execution_count": 51,
     "metadata": {},
     "output_type": "execute_result"
    },
    {
     "name": "stderr",
     "output_type": "stream",
     "text": [
      "/Users/songdongfeng/opt/anaconda3/lib/python3.8/site-packages/matplotlib/backends/backend_agg.py:214: RuntimeWarning: Glyph 20998 missing from current font.\n",
      "  font.set_text(s, 0.0, flags=flags)\n",
      "/Users/songdongfeng/opt/anaconda3/lib/python3.8/site-packages/matplotlib/backends/backend_agg.py:214: RuntimeWarning: Glyph 24067 missing from current font.\n",
      "  font.set_text(s, 0.0, flags=flags)\n",
      "/Users/songdongfeng/opt/anaconda3/lib/python3.8/site-packages/matplotlib/backends/backend_agg.py:214: RuntimeWarning: Glyph 24773 missing from current font.\n",
      "  font.set_text(s, 0.0, flags=flags)\n",
      "/Users/songdongfeng/opt/anaconda3/lib/python3.8/site-packages/matplotlib/backends/backend_agg.py:214: RuntimeWarning: Glyph 20917 missing from current font.\n",
      "  font.set_text(s, 0.0, flags=flags)\n",
      "/Users/songdongfeng/opt/anaconda3/lib/python3.8/site-packages/matplotlib/backends/backend_agg.py:214: RuntimeWarning: Glyph 20215 missing from current font.\n",
      "  font.set_text(s, 0.0, flags=flags)\n",
      "/Users/songdongfeng/opt/anaconda3/lib/python3.8/site-packages/matplotlib/backends/backend_agg.py:214: RuntimeWarning: Glyph 26684 missing from current font.\n",
      "  font.set_text(s, 0.0, flags=flags)\n",
      "/Users/songdongfeng/opt/anaconda3/lib/python3.8/site-packages/matplotlib/backends/backend_agg.py:183: RuntimeWarning: Glyph 20215 missing from current font.\n",
      "  font.set_text(s, 0, flags=flags)\n",
      "/Users/songdongfeng/opt/anaconda3/lib/python3.8/site-packages/matplotlib/backends/backend_agg.py:183: RuntimeWarning: Glyph 26684 missing from current font.\n",
      "  font.set_text(s, 0, flags=flags)\n",
      "/Users/songdongfeng/opt/anaconda3/lib/python3.8/site-packages/matplotlib/backends/backend_agg.py:183: RuntimeWarning: Glyph 20998 missing from current font.\n",
      "  font.set_text(s, 0, flags=flags)\n",
      "/Users/songdongfeng/opt/anaconda3/lib/python3.8/site-packages/matplotlib/backends/backend_agg.py:183: RuntimeWarning: Glyph 24067 missing from current font.\n",
      "  font.set_text(s, 0, flags=flags)\n",
      "/Users/songdongfeng/opt/anaconda3/lib/python3.8/site-packages/matplotlib/backends/backend_agg.py:183: RuntimeWarning: Glyph 24773 missing from current font.\n",
      "  font.set_text(s, 0, flags=flags)\n",
      "/Users/songdongfeng/opt/anaconda3/lib/python3.8/site-packages/matplotlib/backends/backend_agg.py:183: RuntimeWarning: Glyph 20917 missing from current font.\n",
      "  font.set_text(s, 0, flags=flags)\n"
     ]
    },
    {
     "data": {
      "image/png": "[encoded data removed]",
      "text/plain": [
       "<Figure size 2304x720 with 1 Axes>"
      ]
     },
     "metadata": {
      "needs_background": "light"
     },
     "output_type": "display_data"
    }
   ],
   "source": [
    "data_1.price.value_counts().plot(kind='bar')# 柱状图 \n",
    "plt.title(u\"分布情况\") # 标题\n",
    "plt.ylabel(u\"价格\")  "
   ]
  },
  {
   "cell_type": "markdown",
   "metadata": {},
   "source": [
    "产品折扣分布"
   ]
  },
  {
   "cell_type": "code",
   "execution_count": 53,
   "metadata": {},
   "outputs": [
    {
     "data": {
      "text/plain": [
       "<matplotlib.axes._subplots.AxesSubplot at 0x7f8040c1f0a0>"
      ]
     },
     "execution_count": 53,
     "metadata": {},
     "output_type": "execute_result"
    },
    {
     "data": {
      "image/png": "[encoded data removed]",
      "text/plain": [
       "<Figure size 2304x720 with 1 Axes>"
      ]
     },
     "metadata": {
      "needs_background": "light"
     },
     "output_type": "display_data"
    }
   ],
   "source": [
    "data_1.DISCOUNT_TYPE.value_counts().plot(kind='bar')"
   ]
  },
  {
   "cell_type": "code",
   "execution_count": null,
   "metadata": {},
   "outputs": [],
   "source": []
  }
 ],
 "metadata": {
  "kernelspec": {
   "display_name": "Python 3",
   "language": "python",
   "name": "python3"
  },
  "language_info": {
   "codemirror_mode": {
    "name": "ipython",
    "version": 3
   },
   "file_extension": ".py",
   "mimetype": "text/x-python",
   "name": "python",
   "nbconvert_exporter": "python",
   "pygments_lexer": "ipython3",
   "version": "3.8.3"
  }
 },
 "nbformat": 4,
 "nbformat_minor": 4
}
