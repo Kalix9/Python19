{
 "cells": [
  {
   "cell_type": "code",
   "execution_count": 1,
   "metadata": {},
   "outputs": [],
   "source": [
    "import pandas as pd\n",
    "import numpy as np\n",
    "import matplotlib.pyplot as plt"
   ]
  },
  {
   "cell_type": "markdown",
   "metadata": {},
   "source": [
    "## 导入并检查数据"
   ]
  },
  {
   "cell_type": "code",
   "execution_count": 2,
   "metadata": {},
   "outputs": [
    {
     "data": {
      "text/html": [
       "<div>\n",
       "<style scoped>\n",
       "    .dataframe tbody tr th:only-of-type {\n",
       "        vertical-align: middle;\n",
       "    }\n",
       "\n",
       "    .dataframe tbody tr th {\n",
       "        vertical-align: top;\n",
       "    }\n",
       "\n",
       "    .dataframe thead th {\n",
       "        text-align: right;\n",
       "    }\n",
       "</style>\n",
       "<table border=\"1\" class=\"dataframe\">\n",
       "  <thead>\n",
       "    <tr style=\"text-align: right;\">\n",
       "      <th></th>\n",
       "      <th>SHOP_DATETIME</th>\n",
       "      <th>STORE_CODE</th>\n",
       "      <th>POS_NO</th>\n",
       "      <th>BASK_CODE</th>\n",
       "      <th>BASK_SPEND</th>\n",
       "    </tr>\n",
       "  </thead>\n",
       "  <tbody>\n",
       "    <tr>\n",
       "      <th>0</th>\n",
       "      <td>2018-06-01</td>\n",
       "      <td>D007</td>\n",
       "      <td>3</td>\n",
       "      <td>250458</td>\n",
       "      <td>8.0</td>\n",
       "    </tr>\n",
       "    <tr>\n",
       "      <th>1</th>\n",
       "      <td>2018-06-01</td>\n",
       "      <td>D007</td>\n",
       "      <td>3</td>\n",
       "      <td>250200</td>\n",
       "      <td>32.7</td>\n",
       "    </tr>\n",
       "    <tr>\n",
       "      <th>2</th>\n",
       "      <td>2018-06-01</td>\n",
       "      <td>D007</td>\n",
       "      <td>1</td>\n",
       "      <td>161068</td>\n",
       "      <td>16.8</td>\n",
       "    </tr>\n",
       "    <tr>\n",
       "      <th>3</th>\n",
       "      <td>2018-06-01</td>\n",
       "      <td>D007</td>\n",
       "      <td>8</td>\n",
       "      <td>5325</td>\n",
       "      <td>30.4</td>\n",
       "    </tr>\n",
       "    <tr>\n",
       "      <th>4</th>\n",
       "      <td>2018-06-01</td>\n",
       "      <td>D007</td>\n",
       "      <td>8</td>\n",
       "      <td>5361</td>\n",
       "      <td>191.3</td>\n",
       "    </tr>\n",
       "  </tbody>\n",
       "</table>\n",
       "</div>"
      ],
      "text/plain": [
       "  SHOP_DATETIME STORE_CODE  POS_NO  BASK_CODE  BASK_SPEND\n",
       "0    2018-06-01       D007       3     250458         8.0\n",
       "1    2018-06-01       D007       3     250200        32.7\n",
       "2    2018-06-01       D007       1     161068        16.8\n",
       "3    2018-06-01       D007       8       5325        30.4\n",
       "4    2018-06-01       D007       8       5361       191.3"
      ]
     },
     "execution_count": 2,
     "metadata": {},
     "output_type": "execute_result"
    }
   ],
   "source": [
    "basket = pd.read_csv(\"Basket-2018-06-01-2018-07-05.csv\")\n",
    "item = pd.read_csv(\"item-2018-06-01-2018-07-05.csv\")\n",
    "basket.head()"
   ]
  },
  {
   "cell_type": "code",
   "execution_count": 3,
   "metadata": {},
   "outputs": [
    {
     "data": {
      "text/plain": [
       "SHOP_DATETIME    False\n",
       "STORE_CODE       False\n",
       "POS_NO           False\n",
       "BASK_CODE        False\n",
       "BASK_SPEND       False\n",
       "dtype: bool"
      ]
     },
     "execution_count": 3,
     "metadata": {},
     "output_type": "execute_result"
    }
   ],
   "source": [
    "basket.isnull().any()"
   ]
  },
  {
   "cell_type": "code",
   "execution_count": 4,
   "metadata": {},
   "outputs": [
    {
     "data": {
      "text/html": [
       "<div>\n",
       "<style scoped>\n",
       "    .dataframe tbody tr th:only-of-type {\n",
       "        vertical-align: middle;\n",
       "    }\n",
       "\n",
       "    .dataframe tbody tr th {\n",
       "        vertical-align: top;\n",
       "    }\n",
       "\n",
       "    .dataframe thead th {\n",
       "        text-align: right;\n",
       "    }\n",
       "</style>\n",
       "<table border=\"1\" class=\"dataframe\">\n",
       "  <thead>\n",
       "    <tr style=\"text-align: right;\">\n",
       "      <th></th>\n",
       "      <th>SDATE</th>\n",
       "      <th>STORE_CODE</th>\n",
       "      <th>POSID</th>\n",
       "      <th>BASK_CODE</th>\n",
       "      <th>PROD_CODE</th>\n",
       "      <th>ITEM_QUANTITY</th>\n",
       "      <th>ITEM_SPEND</th>\n",
       "      <th>NORMAL_PRICE</th>\n",
       "      <th>DISCOUNT_TYPE</th>\n",
       "      <th>DISCOUNT_AMOUNT</th>\n",
       "    </tr>\n",
       "  </thead>\n",
       "  <tbody>\n",
       "    <tr>\n",
       "      <th>0</th>\n",
       "      <td>2018-06-01</td>\n",
       "      <td>D007</td>\n",
       "      <td>3</td>\n",
       "      <td>250451</td>\n",
       "      <td>29405</td>\n",
       "      <td>1.000</td>\n",
       "      <td>1.70</td>\n",
       "      <td>2.0</td>\n",
       "      <td>m</td>\n",
       "      <td>-0.3</td>\n",
       "    </tr>\n",
       "    <tr>\n",
       "      <th>1</th>\n",
       "      <td>2018-06-01</td>\n",
       "      <td>D007</td>\n",
       "      <td>3</td>\n",
       "      <td>250451</td>\n",
       "      <td>13187</td>\n",
       "      <td>1.000</td>\n",
       "      <td>1.00</td>\n",
       "      <td>1.0</td>\n",
       "      <td>n</td>\n",
       "      <td>0.0</td>\n",
       "    </tr>\n",
       "    <tr>\n",
       "      <th>2</th>\n",
       "      <td>2018-06-01</td>\n",
       "      <td>D007</td>\n",
       "      <td>3</td>\n",
       "      <td>250243</td>\n",
       "      <td>196249</td>\n",
       "      <td>1.000</td>\n",
       "      <td>99.00</td>\n",
       "      <td>99.0</td>\n",
       "      <td>m</td>\n",
       "      <td>0.0</td>\n",
       "    </tr>\n",
       "    <tr>\n",
       "      <th>3</th>\n",
       "      <td>2018-06-01</td>\n",
       "      <td>D007</td>\n",
       "      <td>3</td>\n",
       "      <td>250243</td>\n",
       "      <td>199637</td>\n",
       "      <td>1.000</td>\n",
       "      <td>9.90</td>\n",
       "      <td>16.8</td>\n",
       "      <td>p</td>\n",
       "      <td>-6.9</td>\n",
       "    </tr>\n",
       "    <tr>\n",
       "      <th>4</th>\n",
       "      <td>2018-06-01</td>\n",
       "      <td>D007</td>\n",
       "      <td>1</td>\n",
       "      <td>160905</td>\n",
       "      <td>195012</td>\n",
       "      <td>3.222</td>\n",
       "      <td>18.69</td>\n",
       "      <td>5.8</td>\n",
       "      <td>n</td>\n",
       "      <td>0.0</td>\n",
       "    </tr>\n",
       "  </tbody>\n",
       "</table>\n",
       "</div>"
      ],
      "text/plain": [
       "        SDATE STORE_CODE  POSID  BASK_CODE  PROD_CODE  ITEM_QUANTITY  \\\n",
       "0  2018-06-01       D007      3     250451      29405          1.000   \n",
       "1  2018-06-01       D007      3     250451      13187          1.000   \n",
       "2  2018-06-01       D007      3     250243     196249          1.000   \n",
       "3  2018-06-01       D007      3     250243     199637          1.000   \n",
       "4  2018-06-01       D007      1     160905     195012          3.222   \n",
       "\n",
       "   ITEM_SPEND  NORMAL_PRICE DISCOUNT_TYPE  DISCOUNT_AMOUNT  \n",
       "0        1.70           2.0             m             -0.3  \n",
       "1        1.00           1.0             n              0.0  \n",
       "2       99.00          99.0             m              0.0  \n",
       "3        9.90          16.8             p             -6.9  \n",
       "4       18.69           5.8             n              0.0  "
      ]
     },
     "execution_count": 4,
     "metadata": {},
     "output_type": "execute_result"
    }
   ],
   "source": [
    "item.head()"
   ]
  },
  {
   "cell_type": "code",
   "execution_count": 5,
   "metadata": {},
   "outputs": [
    {
     "data": {
      "text/plain": [
       "SDATE              False\n",
       "STORE_CODE         False\n",
       "POSID              False\n",
       "BASK_CODE          False\n",
       "PROD_CODE          False\n",
       "ITEM_QUANTITY      False\n",
       "ITEM_SPEND         False\n",
       "NORMAL_PRICE       False\n",
       "DISCOUNT_TYPE      False\n",
       "DISCOUNT_AMOUNT    False\n",
       "dtype: bool"
      ]
     },
     "execution_count": 5,
     "metadata": {},
     "output_type": "execute_result"
    }
   ],
   "source": [
    "item.isnull().any()"
   ]
  },
  {
   "cell_type": "markdown",
   "metadata": {},
   "source": [
    "## 统计\n",
    "### 统计每个商店在售商品的数量"
   ]
  },
  {
   "cell_type": "code",
   "execution_count": 6,
   "metadata": {},
   "outputs": [
    {
     "data": {
      "text/plain": [
       "STORE_CODE\n",
       "A001     7597\n",
       "A004     3576\n",
       "A006     4758\n",
       "A007     4589\n",
       "A008     5283\n",
       "A009     4596\n",
       "A010     4494\n",
       "A012     4969\n",
       "A013     5446\n",
       "A016     4265\n",
       "A017     3290\n",
       "A018     4177\n",
       "A019     3678\n",
       "A021     4811\n",
       "A022     4316\n",
       "D002    10802\n",
       "D003     2898\n",
       "D004     4670\n",
       "D005     4248\n",
       "D006     5039\n",
       "D007     6468\n",
       "D008     4970\n",
       "D009     4148\n",
       "D010     3654\n",
       "dtype: int64"
      ]
     },
     "execution_count": 6,
     "metadata": {},
     "output_type": "execute_result"
    }
   ],
   "source": [
    "store_goods = item.groupby([\"STORE_CODE\"])[\"PROD_CODE\"].unique()\n",
    "store_goods_num = pd.Series([len(d) for d in store_goods], index=store_goods.index)\n",
    "store_goods_num"
   ]
  },
  {
   "cell_type": "code",
   "execution_count": 25,
   "metadata": {},
   "outputs": [
    {
     "data": {
      "image/png": "[encoded data removed]",
      "text/plain": [
       "<Figure size 1152x288 with 1 Axes>"
      ]
     },
     "metadata": {
      "needs_background": "light"
     },
     "output_type": "display_data"
    }
   ],
   "source": [
    "plt.figure(figsize=(16, 4))\n",
    "plt.bar(store_goods_num.index, store_goods_num, width=0.8, fc=\"b\")\n",
    "plt.xlabel(\"store\")\n",
    "plt.ylabel(\"goods numbers\")\n",
    "plt.show()"
   ]
  },
  {
   "cell_type": "markdown",
   "metadata": {},
   "source": [
    "### 统计每个商店的销售额"
   ]
  },
  {
   "cell_type": "code",
   "execution_count": 8,
   "metadata": {},
   "outputs": [
    {
     "data": {
      "text/plain": [
       "STORE_CODE\n",
       "A001    3.435303e+06\n",
       "A004    5.123467e+05\n",
       "A006    9.383050e+05\n",
       "A007    6.866382e+05\n",
       "A008    1.311171e+06\n",
       "A009    7.977389e+05\n",
       "A010    6.448924e+05\n",
       "A012    8.469747e+05\n",
       "A013    1.117126e+06\n",
       "A016    7.398143e+05\n",
       "A017    3.945074e+05\n",
       "A018    5.584417e+05\n",
       "A019    6.486686e+05\n",
       "A021    7.387401e+05\n",
       "A022    4.874459e+05\n",
       "D002    3.129447e+06\n",
       "D003    2.435843e+05\n",
       "D004    8.078603e+05\n",
       "D005    5.541030e+05\n",
       "D006    7.935042e+05\n",
       "D007    1.361607e+06\n",
       "D008    6.930078e+05\n",
       "D009    4.704280e+05\n",
       "D010    3.636179e+05\n",
       "Name: ITEM_SPEND, dtype: float64"
      ]
     },
     "execution_count": 8,
     "metadata": {},
     "output_type": "execute_result"
    }
   ],
   "source": [
    "store_sales = item.groupby([\"STORE_CODE\"])[\"ITEM_SPEND\"].sum()\n",
    "store_sales"
   ]
  },
  {
   "cell_type": "code",
   "execution_count": 24,
   "metadata": {},
   "outputs": [
    {
     "data": {
      "image/png": "[encoded data removed]",
      "text/plain": [
       "<Figure size 1152x288 with 1 Axes>"
      ]
     },
     "metadata": {
      "needs_background": "light"
     },
     "output_type": "display_data"
    }
   ],
   "source": [
    "plt.figure(figsize=(16, 4))\n",
    "plt.bar(store_sales.index, store_sales, fc=\"b\")\n",
    "plt.xlabel(\"store\")\n",
    "plt.ylabel(\"sales\")\n",
    "plt.show()"
   ]
  },
  {
   "cell_type": "markdown",
   "metadata": {},
   "source": [
    "### 统计每种商品的销量"
   ]
  },
  {
   "cell_type": "code",
   "execution_count": 10,
   "metadata": {},
   "outputs": [],
   "source": [
    "goods_sale_nums = item.groupby([\"PROD_CODE\"])[\"ITEM_QUANTITY\"].sum()"
   ]
  },
  {
   "cell_type": "markdown",
   "metadata": {},
   "source": [
    "#### 销售量前10的商品"
   ]
  },
  {
   "cell_type": "code",
   "execution_count": 11,
   "metadata": {},
   "outputs": [
    {
     "data": {
      "text/plain": [
       "PROD_CODE\n",
       "149413    39823.000\n",
       "86772     31252.000\n",
       "220834    25644.000\n",
       "7133      23015.000\n",
       "61623     21756.000\n",
       "124556    19887.000\n",
       "205540    19302.000\n",
       "1152      19135.000\n",
       "194690    18101.534\n",
       "124554    16641.000\n",
       "Name: ITEM_QUANTITY, dtype: float64"
      ]
     },
     "execution_count": 11,
     "metadata": {},
     "output_type": "execute_result"
    }
   ],
   "source": [
    "sale_nums_top10 = goods_sale_nums.sort_values(ascending = False,inplace = False)[:10]\n",
    "sale_nums_top10"
   ]
  },
  {
   "cell_type": "markdown",
   "metadata": {},
   "source": [
    "### 统计每种商品的销售额"
   ]
  },
  {
   "cell_type": "code",
   "execution_count": 12,
   "metadata": {},
   "outputs": [],
   "source": [
    "goods_sales = item.groupby([\"PROD_CODE\"])[\"ITEM_SPEND\"].sum()"
   ]
  },
  {
   "cell_type": "markdown",
   "metadata": {},
   "source": [
    "#### 销售额前10的商品"
   ]
  },
  {
   "cell_type": "code",
   "execution_count": 13,
   "metadata": {},
   "outputs": [
    {
     "data": {
      "text/plain": [
       "PROD_CODE\n",
       "7137      405757.50\n",
       "7133      289616.00\n",
       "136839    280198.10\n",
       "149413    173332.43\n",
       "1239      148703.20\n",
       "154900    140534.90\n",
       "220834    127344.90\n",
       "21835     114438.46\n",
       "88160     103116.80\n",
       "3971       84488.00\n",
       "Name: ITEM_SPEND, dtype: float64"
      ]
     },
     "execution_count": 13,
     "metadata": {},
     "output_type": "execute_result"
    }
   ],
   "source": [
    "sales_top10 = goods_sales.sort_values(ascending = False,inplace = False)[:10]\n",
    "sales_top10"
   ]
  },
  {
   "cell_type": "markdown",
   "metadata": {},
   "source": [
    "### 统计每个商店的客单价"
   ]
  },
  {
   "cell_type": "code",
   "execution_count": 14,
   "metadata": {},
   "outputs": [
    {
     "data": {
      "text/plain": [
       "STORE_CODE\n",
       "A001    52.964078\n",
       "A004    37.979738\n",
       "A006    32.868777\n",
       "A007    54.176910\n",
       "A008    35.847850\n",
       "A009    36.473065\n",
       "A010    32.916109\n",
       "A012    33.846494\n",
       "A013    37.067041\n",
       "A016    40.336638\n",
       "A017    31.527804\n",
       "A018    35.409403\n",
       "A019    38.114376\n",
       "A021    35.757024\n",
       "A022    31.850883\n",
       "D002    54.981674\n",
       "D003    31.216753\n",
       "D004    37.732847\n",
       "D005    36.149723\n",
       "D006    42.567686\n",
       "D007    36.208126\n",
       "D008    32.911040\n",
       "D009    29.631391\n",
       "D010    32.773129\n",
       "dtype: float64"
      ]
     },
     "execution_count": 14,
     "metadata": {},
     "output_type": "execute_result"
    }
   ],
   "source": [
    "store_bask_spent = item.groupby([\"STORE_CODE\", \"BASK_CODE\"])[\"ITEM_SPEND\"].sum()\n",
    "store_index = store_bask_spent.index.levels[0]\n",
    "store_atv = pd.Series([store_bask_spent[i].sum() / len(store_bask_spent[i]) for i in store_index],\n",
    "                      index=store_index)\n",
    "store_atv"
   ]
  },
  {
   "cell_type": "code",
   "execution_count": 23,
   "metadata": {},
   "outputs": [
    {
     "data": {
      "image/png": "[encoded data removed]",
      "text/plain": [
       "<Figure size 1152x288 with 1 Axes>"
      ]
     },
     "metadata": {
      "needs_background": "light"
     },
     "output_type": "display_data"
    }
   ],
   "source": [
    "plt.figure(figsize=(16, 4))\n",
    "plt.bar(store_atv.index, store_atv, fc=\"b\")\n",
    "plt.xlabel(\"store\")\n",
    "plt.ylabel(\"atv\")\n",
    "plt.show()"
   ]
  },
  {
   "cell_type": "code",
   "execution_count": null,
   "metadata": {},
   "outputs": [],
   "source": []
  }
 ],
 "metadata": {
  "kernelspec": {
   "display_name": "Python 3",
   "language": "python",
   "name": "python3"
  },
  "language_info": {
   "codemirror_mode": {
    "name": "ipython",
    "version": 3
   },
   "file_extension": ".py",
   "mimetype": "text/x-python",
   "name": "python",
   "nbconvert_exporter": "python",
   "pygments_lexer": "ipython3",
   "version": "3.6.8"
  }
 },
 "nbformat": 4,
 "nbformat_minor": 2
}
