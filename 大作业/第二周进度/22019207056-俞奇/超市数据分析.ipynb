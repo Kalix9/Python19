{
 "cells": [
  {
   "cell_type": "markdown",
   "metadata": {},
   "source": [
    "## 1.数据收集与整合"
   ]
  },
  {
   "cell_type": "code",
   "execution_count": 9,
   "metadata": {},
   "outputs": [
    {
     "name": "stdout",
     "output_type": "stream",
     "text": [
      "(571552, 5)\n"
     ]
    },
    {
     "data": {
      "text/html": [
       "<div>\n",
       "<style scoped>\n",
       "    .dataframe tbody tr th:only-of-type {\n",
       "        vertical-align: middle;\n",
       "    }\n",
       "\n",
       "    .dataframe tbody tr th {\n",
       "        vertical-align: top;\n",
       "    }\n",
       "\n",
       "    .dataframe thead th {\n",
       "        text-align: right;\n",
       "    }\n",
       "</style>\n",
       "<table border=\"1\" class=\"dataframe\">\n",
       "  <thead>\n",
       "    <tr style=\"text-align: right;\">\n",
       "      <th></th>\n",
       "      <th>POS_NO</th>\n",
       "      <th>BASK_CODE</th>\n",
       "      <th>BASK_SPEND</th>\n",
       "    </tr>\n",
       "  </thead>\n",
       "  <tbody>\n",
       "    <tr>\n",
       "      <th>count</th>\n",
       "      <td>571552.000000</td>\n",
       "      <td>571552.000000</td>\n",
       "      <td>571552.000000</td>\n",
       "    </tr>\n",
       "    <tr>\n",
       "      <th>mean</th>\n",
       "      <td>2.998429</td>\n",
       "      <td>167472.817102</td>\n",
       "      <td>38.973310</td>\n",
       "    </tr>\n",
       "    <tr>\n",
       "      <th>std</th>\n",
       "      <td>2.516065</td>\n",
       "      <td>87263.199857</td>\n",
       "      <td>209.038276</td>\n",
       "    </tr>\n",
       "    <tr>\n",
       "      <th>min</th>\n",
       "      <td>1.000000</td>\n",
       "      <td>961.000000</td>\n",
       "      <td>-35940.000000</td>\n",
       "    </tr>\n",
       "    <tr>\n",
       "      <th>25%</th>\n",
       "      <td>1.000000</td>\n",
       "      <td>90533.750000</td>\n",
       "      <td>9.000000</td>\n",
       "    </tr>\n",
       "    <tr>\n",
       "      <th>50%</th>\n",
       "      <td>2.000000</td>\n",
       "      <td>177603.500000</td>\n",
       "      <td>19.900000</td>\n",
       "    </tr>\n",
       "    <tr>\n",
       "      <th>75%</th>\n",
       "      <td>3.000000</td>\n",
       "      <td>238816.750000</td>\n",
       "      <td>44.700000</td>\n",
       "    </tr>\n",
       "    <tr>\n",
       "      <th>max</th>\n",
       "      <td>20.000000</td>\n",
       "      <td>323914.000000</td>\n",
       "      <td>79920.000000</td>\n",
       "    </tr>\n",
       "  </tbody>\n",
       "</table>\n",
       "</div>"
      ],
      "text/plain": [
       "              POS_NO      BASK_CODE     BASK_SPEND\n",
       "count  571552.000000  571552.000000  571552.000000\n",
       "mean        2.998429  167472.817102      38.973310\n",
       "std         2.516065   87263.199857     209.038276\n",
       "min         1.000000     961.000000  -35940.000000\n",
       "25%         1.000000   90533.750000       9.000000\n",
       "50%         2.000000  177603.500000      19.900000\n",
       "75%         3.000000  238816.750000      44.700000\n",
       "max        20.000000  323914.000000   79920.000000"
      ]
     },
     "execution_count": 9,
     "metadata": {},
     "output_type": "execute_result"
    }
   ],
   "source": [
    "# 加载数据分析需要使用的库\n",
    "import numpy as np\n",
    "import pandas as pd\n",
    "import matplotlib.pyplot as plt\n",
    "import seaborn as sns\n",
    "import warnings\n",
    "\n",
    "plt.rcParams['font.sans-serif'] = ['SimHei']\n",
    "warnings.filterwarnings('ignore')\n",
    "\n",
    "#数据加载和整合\n",
    "# 加载零售数据集，使用'ISO-8859-1'编码方式\n",
    "df = pd.read_csv('G:\\上课文件\\Python计算\\数据作业\\Basket-2018-06-01-2018-07-05.csv',encoding='ISO-8859-1')\n",
    "df['SHOP_DATETIME'] = pd.to_datetime(df.SHOP_DATETIME,format='%Y-%m-%d')\n",
    "df.head()\n",
    "#数据大小\n",
    "print(df.shape)\n",
    "#数据分布情况\n",
    "df.describe()"
   ]
  },
  {
   "cell_type": "markdown",
   "metadata": {},
   "source": [
    "## 2.数据清洗"
   ]
  },
  {
   "cell_type": "code",
   "execution_count": 10,
   "metadata": {},
   "outputs": [
    {
     "name": "stdout",
     "output_type": "stream",
     "text": [
      "<class 'pandas.core.frame.DataFrame'>\n",
      "RangeIndex: 571552 entries, 0 to 571551\n",
      "Data columns (total 5 columns):\n",
      "SHOP_DATETIME    571552 non-null datetime64[ns]\n",
      "STORE_CODE       571552 non-null object\n",
      "POS_NO           571552 non-null int64\n",
      "BASK_CODE        571552 non-null int64\n",
      "BASK_SPEND       571552 non-null float64\n",
      "dtypes: datetime64[ns](1), float64(1), int64(2), object(1)\n",
      "memory usage: 21.8+ MB\n"
     ]
    }
   ],
   "source": [
    "df.info()"
   ]
  },
  {
   "cell_type": "code",
   "execution_count": 11,
   "metadata": {},
   "outputs": [
    {
     "data": {
      "text/plain": [
       "0"
      ]
     },
     "execution_count": 11,
     "metadata": {},
     "output_type": "execute_result"
    }
   ],
   "source": [
    "# 擦看有无异常值\n",
    "df.describe()    #BASK_SPEND有复数出现异常，需要处理\n",
    "#重复值处理\n",
    "df.duplicated().sum()   #无重复值，不需要处理"
   ]
  },
  {
   "cell_type": "code",
   "execution_count": 12,
   "metadata": {},
   "outputs": [],
   "source": [
    "df=df[df['BASK_SPEND']>=0]"
   ]
  },
  {
   "cell_type": "code",
   "execution_count": 13,
   "metadata": {},
   "outputs": [
    {
     "name": "stdout",
     "output_type": "stream",
     "text": [
      "<class 'pandas.core.frame.DataFrame'>\n",
      "Int64Index: 569797 entries, 0 to 571551\n",
      "Data columns (total 5 columns):\n",
      "SHOP_DATETIME    569797 non-null datetime64[ns]\n",
      "STORE_CODE       569797 non-null object\n",
      "POS_NO           569797 non-null int64\n",
      "BASK_CODE        569797 non-null int64\n",
      "BASK_SPEND       569797 non-null float64\n",
      "dtypes: datetime64[ns](1), float64(1), int64(2), object(1)\n",
      "memory usage: 26.1+ MB\n"
     ]
    }
   ],
   "source": [
    "df.info()"
   ]
  },
  {
   "cell_type": "code",
   "execution_count": 14,
   "metadata": {},
   "outputs": [
    {
     "data": {
      "text/html": [
       "<div>\n",
       "<style scoped>\n",
       "    .dataframe tbody tr th:only-of-type {\n",
       "        vertical-align: middle;\n",
       "    }\n",
       "\n",
       "    .dataframe tbody tr th {\n",
       "        vertical-align: top;\n",
       "    }\n",
       "\n",
       "    .dataframe thead th {\n",
       "        text-align: right;\n",
       "    }\n",
       "</style>\n",
       "<table border=\"1\" class=\"dataframe\">\n",
       "  <thead>\n",
       "    <tr style=\"text-align: right;\">\n",
       "      <th></th>\n",
       "      <th>0</th>\n",
       "    </tr>\n",
       "  </thead>\n",
       "  <tbody>\n",
       "    <tr>\n",
       "      <th>SHOP_DATETIME</th>\n",
       "      <td>0</td>\n",
       "    </tr>\n",
       "    <tr>\n",
       "      <th>STORE_CODE</th>\n",
       "      <td>0</td>\n",
       "    </tr>\n",
       "    <tr>\n",
       "      <th>POS_NO</th>\n",
       "      <td>0</td>\n",
       "    </tr>\n",
       "    <tr>\n",
       "      <th>BASK_CODE</th>\n",
       "      <td>0</td>\n",
       "    </tr>\n",
       "    <tr>\n",
       "      <th>BASK_SPEND</th>\n",
       "      <td>0</td>\n",
       "    </tr>\n",
       "  </tbody>\n",
       "</table>\n",
       "</div>"
      ],
      "text/plain": [
       "               0\n",
       "SHOP_DATETIME  0\n",
       "STORE_CODE     0\n",
       "POS_NO         0\n",
       "BASK_CODE      0\n",
       "BASK_SPEND     0"
      ]
     },
     "execution_count": 14,
     "metadata": {},
     "output_type": "execute_result"
    }
   ],
   "source": [
    "#查看空值情况\n",
    "pd.DataFrame(df.isnull().sum()) #各个列都无空值"
   ]
  },
  {
   "cell_type": "markdown",
   "metadata": {},
   "source": [
    "## 3.数据分析及可视化"
   ]
  },
  {
   "cell_type": "markdown",
   "metadata": {},
   "source": [
    "### 3.1 销售情况分析"
   ]
  },
  {
   "cell_type": "code",
   "execution_count": 15,
   "metadata": {},
   "outputs": [
    {
     "data": {
      "text/plain": [
       "Index(['SHOP_DATETIME', 'STORE_CODE', 'POS_NO', 'BASK_CODE', 'BASK_SPEND'], dtype='object')"
      ]
     },
     "execution_count": 15,
     "metadata": {},
     "output_type": "execute_result"
    }
   ],
   "source": [
    "df.columns"
   ]
  },
  {
   "cell_type": "code",
   "execution_count": 16,
   "metadata": {},
   "outputs": [],
   "source": [
    "# 整体销售情况子数据集，包含下单日期、销售额、销量、利润、年份、月份信息\n",
    "sales_day = df[['SHOP_DATETIME', 'BASK_SPEND']]\n",
    "\n",
    "#按照年份、月份对销售子数据集进行分组求和\n",
    "sales_day = sales_day.groupby(['SHOP_DATETIME']).sum()"
   ]
  },
  {
   "cell_type": "code",
   "execution_count": 17,
   "metadata": {},
   "outputs": [
    {
     "data": {
      "text/plain": [
       "<matplotlib.axes._subplots.AxesSubplot at 0x1b7e0456408>"
      ]
     },
     "execution_count": 17,
     "metadata": {},
     "output_type": "execute_result"
    },
    {
     "data": {
      "image/png": "[encoded data removed]",
      "text/plain": [
       "<Figure size 432x288 with 1 Axes>"
      ]
     },
     "metadata": {
      "needs_background": "light"
     },
     "output_type": "display_data"
    }
   ],
   "source": [
    "sales_day.plot()"
   ]
  },
  {
   "cell_type": "markdown",
   "metadata": {},
   "source": [
    "### 3.2 商品情况分析"
   ]
  },
  {
   "cell_type": "markdown",
   "metadata": {},
   "source": [
    "### 销售额前十名的商品"
   ]
  },
  {
   "cell_type": "code",
   "execution_count": 18,
   "metadata": {},
   "outputs": [
    {
     "name": "stdout",
     "output_type": "stream",
     "text": [
      "STORE_CODE\n",
      "A001    66507\n",
      "D002    62949\n",
      "D007    37503\n",
      "A008    36462\n",
      "A013    30064\n",
      "A006    28470\n",
      "A012    24946\n",
      "A009    21809\n",
      "D004    21362\n",
      "D008    21029\n",
      "Name: BASK_SPEND, dtype: int64\n"
     ]
    }
   ],
   "source": [
    "productId_count = df.groupby('STORE_CODE').count()['BASK_SPEND'].sort_values(ascending=False)\n",
    "print(productId_count.head(10))"
   ]
  },
  {
   "cell_type": "code",
   "execution_count": 19,
   "metadata": {},
   "outputs": [
    {
     "data": {
      "text/plain": [
       "<matplotlib.axes._subplots.AxesSubplot at 0x1b7dfa6d408>"
      ]
     },
     "execution_count": 19,
     "metadata": {},
     "output_type": "execute_result"
    },
    {
     "data": {
      "image/png": "[encoded data removed]",
      "text/plain": [
       "<Figure size 432x288 with 1 Axes>"
      ]
     },
     "metadata": {
      "needs_background": "light"
     },
     "output_type": "display_data"
    }
   ],
   "source": [
    "productId_count.plot(kind='bar')"
   ]
  },
  {
   "cell_type": "markdown",
   "metadata": {},
   "source": [
    "## 3.3 用户下单行为分析"
   ]
  },
  {
   "cell_type": "markdown",
   "metadata": {},
   "source": [
    "### 3.3.1 用户消费金额、消费次数的描述统计"
   ]
  },
  {
   "cell_type": "code",
   "execution_count": 20,
   "metadata": {},
   "outputs": [
    {
     "data": {
      "text/html": [
       "<div>\n",
       "<style scoped>\n",
       "    .dataframe tbody tr th:only-of-type {\n",
       "        vertical-align: middle;\n",
       "    }\n",
       "\n",
       "    .dataframe tbody tr th {\n",
       "        vertical-align: top;\n",
       "    }\n",
       "\n",
       "    .dataframe thead th {\n",
       "        text-align: right;\n",
       "    }\n",
       "</style>\n",
       "<table border=\"1\" class=\"dataframe\">\n",
       "  <thead>\n",
       "    <tr style=\"text-align: right;\">\n",
       "      <th></th>\n",
       "      <th>BASK_CODE</th>\n",
       "      <th>SHOP_DATETIME</th>\n",
       "      <th>BASK_SPEND</th>\n",
       "    </tr>\n",
       "  </thead>\n",
       "  <tbody>\n",
       "    <tr>\n",
       "      <th>0</th>\n",
       "      <td>250458</td>\n",
       "      <td>2018-06-01</td>\n",
       "      <td>8.0</td>\n",
       "    </tr>\n",
       "    <tr>\n",
       "      <th>215288</th>\n",
       "      <td>250469</td>\n",
       "      <td>2018-06-01</td>\n",
       "      <td>89.7</td>\n",
       "    </tr>\n",
       "    <tr>\n",
       "      <th>215287</th>\n",
       "      <td>161017</td>\n",
       "      <td>2018-06-01</td>\n",
       "      <td>9.9</td>\n",
       "    </tr>\n",
       "    <tr>\n",
       "      <th>215286</th>\n",
       "      <td>161158</td>\n",
       "      <td>2018-06-01</td>\n",
       "      <td>4.0</td>\n",
       "    </tr>\n",
       "    <tr>\n",
       "      <th>215285</th>\n",
       "      <td>250476</td>\n",
       "      <td>2018-06-01</td>\n",
       "      <td>86.4</td>\n",
       "    </tr>\n",
       "    <tr>\n",
       "      <th>...</th>\n",
       "      <td>...</td>\n",
       "      <td>...</td>\n",
       "      <td>...</td>\n",
       "    </tr>\n",
       "    <tr>\n",
       "      <th>355739</th>\n",
       "      <td>124578</td>\n",
       "      <td>2018-07-05</td>\n",
       "      <td>23.4</td>\n",
       "    </tr>\n",
       "    <tr>\n",
       "      <th>355738</th>\n",
       "      <td>124587</td>\n",
       "      <td>2018-07-05</td>\n",
       "      <td>10.0</td>\n",
       "    </tr>\n",
       "    <tr>\n",
       "      <th>355737</th>\n",
       "      <td>141664</td>\n",
       "      <td>2018-07-05</td>\n",
       "      <td>149.8</td>\n",
       "    </tr>\n",
       "    <tr>\n",
       "      <th>355819</th>\n",
       "      <td>291779</td>\n",
       "      <td>2018-07-05</td>\n",
       "      <td>7.2</td>\n",
       "    </tr>\n",
       "    <tr>\n",
       "      <th>571551</th>\n",
       "      <td>284265</td>\n",
       "      <td>2018-07-05</td>\n",
       "      <td>43.2</td>\n",
       "    </tr>\n",
       "  </tbody>\n",
       "</table>\n",
       "<p>567089 rows × 3 columns</p>\n",
       "</div>"
      ],
      "text/plain": [
       "        BASK_CODE SHOP_DATETIME  BASK_SPEND\n",
       "0          250458    2018-06-01         8.0\n",
       "215288     250469    2018-06-01        89.7\n",
       "215287     161017    2018-06-01         9.9\n",
       "215286     161158    2018-06-01         4.0\n",
       "215285     250476    2018-06-01        86.4\n",
       "...           ...           ...         ...\n",
       "355739     124578    2018-07-05        23.4\n",
       "355738     124587    2018-07-05        10.0\n",
       "355737     141664    2018-07-05       149.8\n",
       "355819     291779    2018-07-05         7.2\n",
       "571551     284265    2018-07-05        43.2\n",
       "\n",
       "[567089 rows x 3 columns]"
      ]
     },
     "execution_count": 20,
     "metadata": {},
     "output_type": "execute_result"
    }
   ],
   "source": [
    "# 客户消费分析\n",
    "grouped_Customer = df[['BASK_CODE','SHOP_DATETIME', \n",
    "          'BASK_SPEND']].sort_values(['SHOP_DATETIME']).groupby('BASK_CODE')\n",
    "grouped_Customer.head()"
   ]
  },
  {
   "cell_type": "code",
   "execution_count": 21,
   "metadata": {},
   "outputs": [
    {
     "data": {
      "text/html": [
       "<div>\n",
       "<style scoped>\n",
       "    .dataframe tbody tr th:only-of-type {\n",
       "        vertical-align: middle;\n",
       "    }\n",
       "\n",
       "    .dataframe tbody tr th {\n",
       "        vertical-align: top;\n",
       "    }\n",
       "\n",
       "    .dataframe thead th {\n",
       "        text-align: right;\n",
       "    }\n",
       "</style>\n",
       "<table border=\"1\" class=\"dataframe\">\n",
       "  <thead>\n",
       "    <tr style=\"text-align: right;\">\n",
       "      <th></th>\n",
       "      <th>SHOP_DATETIME</th>\n",
       "      <th>BASK_SPEND</th>\n",
       "    </tr>\n",
       "  </thead>\n",
       "  <tbody>\n",
       "    <tr>\n",
       "      <th>count</th>\n",
       "      <td>280816.000000</td>\n",
       "      <td>280816.000000</td>\n",
       "    </tr>\n",
       "    <tr>\n",
       "      <th>mean</th>\n",
       "      <td>2.029076</td>\n",
       "      <td>2.029076</td>\n",
       "    </tr>\n",
       "    <tr>\n",
       "      <th>std</th>\n",
       "      <td>1.077605</td>\n",
       "      <td>1.077605</td>\n",
       "    </tr>\n",
       "    <tr>\n",
       "      <th>min</th>\n",
       "      <td>1.000000</td>\n",
       "      <td>1.000000</td>\n",
       "    </tr>\n",
       "    <tr>\n",
       "      <th>25%</th>\n",
       "      <td>1.000000</td>\n",
       "      <td>1.000000</td>\n",
       "    </tr>\n",
       "    <tr>\n",
       "      <th>50%</th>\n",
       "      <td>2.000000</td>\n",
       "      <td>2.000000</td>\n",
       "    </tr>\n",
       "    <tr>\n",
       "      <th>75%</th>\n",
       "      <td>3.000000</td>\n",
       "      <td>3.000000</td>\n",
       "    </tr>\n",
       "    <tr>\n",
       "      <th>max</th>\n",
       "      <td>7.000000</td>\n",
       "      <td>7.000000</td>\n",
       "    </tr>\n",
       "  </tbody>\n",
       "</table>\n",
       "</div>"
      ],
      "text/plain": [
       "       SHOP_DATETIME     BASK_SPEND\n",
       "count  280816.000000  280816.000000\n",
       "mean        2.029076       2.029076\n",
       "std         1.077605       1.077605\n",
       "min         1.000000       1.000000\n",
       "25%         1.000000       1.000000\n",
       "50%         2.000000       2.000000\n",
       "75%         3.000000       3.000000\n",
       "max         7.000000       7.000000"
      ]
     },
     "execution_count": 21,
     "metadata": {},
     "output_type": "execute_result"
    }
   ],
   "source": [
    "# 用户消费金额、消费次数的描述统计(在此为平均每个用户平均消费金额，不是每笔平均消费金额)\n",
    "grouped_Customer.count().describe()"
   ]
  },
  {
   "cell_type": "code",
   "execution_count": 22,
   "metadata": {},
   "outputs": [
    {
     "data": {
      "text/plain": [
       "count    280816.000000\n",
       "mean         80.317314\n",
       "std         282.972947\n",
       "min           0.010000\n",
       "25%          20.700000\n",
       "50%          48.940000\n",
       "75%          98.700000\n",
       "max       80064.900000\n",
       "Name: BASK_SPEND, dtype: float64"
      ]
     },
     "execution_count": 22,
     "metadata": {},
     "output_type": "execute_result"
    }
   ],
   "source": [
    "grouped_Customer['BASK_SPEND'].sum().describe()"
   ]
  },
  {
   "cell_type": "markdown",
   "metadata": {},
   "source": [
    "### 3.3.2 用户消费金额分布图"
   ]
  },
  {
   "cell_type": "code",
   "execution_count": 23,
   "metadata": {},
   "outputs": [
    {
     "data": {
      "text/plain": [
       "<matplotlib.axes._subplots.AxesSubplot at 0x1b7dfb63c08>"
      ]
     },
     "execution_count": 23,
     "metadata": {},
     "output_type": "execute_result"
    },
    {
     "data": {
      "image/png": "[encoded data removed]",
      "text/plain": [
       "<Figure size 432x288 with 1 Axes>"
      ]
     },
     "metadata": {
      "needs_background": "light"
     },
     "output_type": "display_data"
    }
   ],
   "source": [
    "# 用户消费金额分布图\n",
    "grouped_Customer.sum().BASK_SPEND.plot.hist(bins = 20)"
   ]
  },
  {
   "cell_type": "code",
   "execution_count": 24,
   "metadata": {},
   "outputs": [
    {
     "data": {
      "text/plain": [
       "<matplotlib.axes._subplots.AxesSubplot at 0x1b7e037f888>"
      ]
     },
     "execution_count": 24,
     "metadata": {},
     "output_type": "execute_result"
    },
    {
     "data": {
      "image/png": "[encoded data removed]",
      "text/plain": [
       "<Figure size 432x288 with 1 Axes>"
      ]
     },
     "metadata": {
      "needs_background": "light"
     },
     "output_type": "display_data"
    }
   ],
   "source": [
    "grouped_Customer.sum().query('BASK_SPEND < 100').BASK_SPEND.plot.hist(width=[1.7],bins = 30)"
   ]
  },
  {
   "cell_type": "markdown",
   "metadata": {},
   "source": [
    "### 3.3.3 用户累计消费占比"
   ]
  },
  {
   "cell_type": "code",
   "execution_count": 25,
   "metadata": {},
   "outputs": [
    {
     "data": {
      "text/plain": [
       "<matplotlib.axes._subplots.AxesSubplot at 0x1b7e0d444c8>"
      ]
     },
     "execution_count": 25,
     "metadata": {},
     "output_type": "execute_result"
    },
    {
     "data": {
      "image/png": "[encoded data removed]",
      "text/plain": [
       "<Figure size 432x288 with 1 Axes>"
      ]
     },
     "metadata": {
      "needs_background": "light"
     },
     "output_type": "display_data"
    }
   ],
   "source": [
    "# 用户累计消费占比（百分之多少的用户占百分之多少的销售额）\n",
    "grouped_Customer.sum().sort_values('BASK_SPEND').apply(lambda x : x.cumsum()/ x.sum()).reset_index().BASK_SPEND.plot()"
   ]
  },
  {
   "cell_type": "markdown",
   "metadata": {},
   "source": [
    "**购买时间分析**"
   ]
  },
  {
   "cell_type": "code",
   "execution_count": 26,
   "metadata": {},
   "outputs": [
    {
     "data": {
      "text/plain": [
       "<matplotlib.axes._subplots.AxesSubplot at 0x1b7e0d84248>"
      ]
     },
     "execution_count": 26,
     "metadata": {},
     "output_type": "execute_result"
    },
    {
     "data": {
      "image/png": "[encoded data removed]",
      "text/plain": [
       "<Figure size 432x288 with 1 Axes>"
      ]
     },
     "metadata": {
      "needs_background": "light"
     },
     "output_type": "display_data"
    }
   ],
   "source": [
    "# 用户第一次消费（首购）\n",
    "grouped_Customer.min().SHOP_DATETIME.value_counts().plot()"
   ]
  },
  {
   "cell_type": "code",
   "execution_count": 27,
   "metadata": {},
   "outputs": [
    {
     "data": {
      "text/plain": [
       "<matplotlib.axes._subplots.AxesSubplot at 0x1b7e0e13188>"
      ]
     },
     "execution_count": 27,
     "metadata": {},
     "output_type": "execute_result"
    },
    {
     "data": {
      "image/png": "[encoded data removed]",
      "text/plain": [
       "<Figure size 432x288 with 1 Axes>"
      ]
     },
     "metadata": {
      "needs_background": "light"
     },
     "output_type": "display_data"
    }
   ],
   "source": [
    "# 用户最后一次消费\n",
    "grouped_Customer.max().SHOP_DATETIME.value_counts().plot()"
   ]
  },
  {
   "cell_type": "markdown",
   "metadata": {},
   "source": [
    "### 3.3.4 新老客户消费比"
   ]
  },
  {
   "cell_type": "code",
   "execution_count": 28,
   "metadata": {},
   "outputs": [
    {
     "data": {
      "text/plain": [
       "([<matplotlib.patches.Wedge at 0x1b7e0fb5148>,\n",
       "  <matplotlib.patches.Wedge at 0x1b7e0fb5e08>],\n",
       " [Text(-0.3521304189966928, 1.0421152373980593, 'False'),\n",
       "  Text(0.35213051656656097, -1.042115204429226, 'True')],\n",
       " [Text(-0.19207113763455969, 0.5684264931262142, '60.37%'),\n",
       "  Text(0.1920711908544878, -0.568426475143214, '39.63%')])"
      ]
     },
     "execution_count": 28,
     "metadata": {},
     "output_type": "execute_result"
    },
    {
     "data": {
      "image/png": "[encoded data removed]",
      "text/plain": [
       "<Figure size 432x288 with 1 Axes>"
      ]
     },
     "metadata": {},
     "output_type": "display_data"
    }
   ],
   "source": [
    "# 多少用户仅消费1次\n",
    "user_life =grouped_Customer.SHOP_DATETIME.agg(['min','max'])\n",
    "(user_life['min'] == user_life['max']).value_counts()\n",
    "# 可视化（饼图）\n",
    "plt.pie((user_life['min'] == user_life['max']).value_counts(normalize = True),\n",
    "       autopct='%.2f%%',\n",
    "       labels = (user_life['min'] == user_life['max']).value_counts().index)"
   ]
  },
  {
   "cell_type": "markdown",
   "metadata": {},
   "source": [
    "## 3.4 RFM模型分析"
   ]
  },
  {
   "cell_type": "markdown",
   "metadata": {},
   "source": [
    "### 3.4.1 用户分层"
   ]
  },
  {
   "cell_type": "code",
   "execution_count": 29,
   "metadata": {},
   "outputs": [],
   "source": [
    "# RFM用户分层\n",
    "rfm = df.pivot_table(index = 'BASK_CODE',\n",
    "                    values = ['STORE_CODE','BASK_SPEND','SHOP_DATETIME'],\n",
    "                    aggfunc= {'BASK_CODE':'count',\n",
    "                             'BASK_SPEND':'sum',\n",
    "                             'SHOP_DATETIME':'max'})"
   ]
  },
  {
   "cell_type": "code",
   "execution_count": 30,
   "metadata": {},
   "outputs": [
    {
     "data": {
      "text/html": [
       "<div>\n",
       "<style scoped>\n",
       "    .dataframe tbody tr th:only-of-type {\n",
       "        vertical-align: middle;\n",
       "    }\n",
       "\n",
       "    .dataframe tbody tr th {\n",
       "        vertical-align: top;\n",
       "    }\n",
       "\n",
       "    .dataframe thead th {\n",
       "        text-align: right;\n",
       "    }\n",
       "</style>\n",
       "<table border=\"1\" class=\"dataframe\">\n",
       "  <thead>\n",
       "    <tr style=\"text-align: right;\">\n",
       "      <th></th>\n",
       "      <th>BASK_CODE</th>\n",
       "      <th>BASK_SPEND</th>\n",
       "      <th>SHOP_DATETIME</th>\n",
       "    </tr>\n",
       "    <tr>\n",
       "      <th>BASK_CODE</th>\n",
       "      <th></th>\n",
       "      <th></th>\n",
       "      <th></th>\n",
       "    </tr>\n",
       "  </thead>\n",
       "  <tbody>\n",
       "    <tr>\n",
       "      <th>961</th>\n",
       "      <td>1</td>\n",
       "      <td>25.0</td>\n",
       "      <td>2018-06-18</td>\n",
       "    </tr>\n",
       "    <tr>\n",
       "      <th>962</th>\n",
       "      <td>1</td>\n",
       "      <td>132.1</td>\n",
       "      <td>2018-06-18</td>\n",
       "    </tr>\n",
       "    <tr>\n",
       "      <th>964</th>\n",
       "      <td>1</td>\n",
       "      <td>28.0</td>\n",
       "      <td>2018-06-18</td>\n",
       "    </tr>\n",
       "    <tr>\n",
       "      <th>965</th>\n",
       "      <td>1</td>\n",
       "      <td>40.0</td>\n",
       "      <td>2018-06-18</td>\n",
       "    </tr>\n",
       "    <tr>\n",
       "      <th>966</th>\n",
       "      <td>1</td>\n",
       "      <td>12.5</td>\n",
       "      <td>2018-06-18</td>\n",
       "    </tr>\n",
       "  </tbody>\n",
       "</table>\n",
       "</div>"
      ],
      "text/plain": [
       "           BASK_CODE  BASK_SPEND SHOP_DATETIME\n",
       "BASK_CODE                                     \n",
       "961                1        25.0    2018-06-18\n",
       "962                1       132.1    2018-06-18\n",
       "964                1        28.0    2018-06-18\n",
       "965                1        40.0    2018-06-18\n",
       "966                1        12.5    2018-06-18"
      ]
     },
     "execution_count": 30,
     "metadata": {},
     "output_type": "execute_result"
    }
   ],
   "source": [
    "rfm.head()"
   ]
  },
  {
   "cell_type": "code",
   "execution_count": 31,
   "metadata": {},
   "outputs": [],
   "source": [
    "rfm['R'] = (rfm.SHOP_DATETIME.max() - rfm.SHOP_DATETIME) / np.timedelta64(1,'D')\n",
    "rfm.rename(columns={'BASK_CODE':'F','BASK_SPEND':'M'},inplace = True)"
   ]
  },
  {
   "cell_type": "code",
   "execution_count": 32,
   "metadata": {},
   "outputs": [
    {
     "data": {
      "text/html": [
       "<div>\n",
       "<style scoped>\n",
       "    .dataframe tbody tr th:only-of-type {\n",
       "        vertical-align: middle;\n",
       "    }\n",
       "\n",
       "    .dataframe tbody tr th {\n",
       "        vertical-align: top;\n",
       "    }\n",
       "\n",
       "    .dataframe thead th {\n",
       "        text-align: right;\n",
       "    }\n",
       "</style>\n",
       "<table border=\"1\" class=\"dataframe\">\n",
       "  <thead>\n",
       "    <tr style=\"text-align: right;\">\n",
       "      <th></th>\n",
       "      <th>F</th>\n",
       "      <th>M</th>\n",
       "      <th>SHOP_DATETIME</th>\n",
       "      <th>R</th>\n",
       "    </tr>\n",
       "    <tr>\n",
       "      <th>BASK_CODE</th>\n",
       "      <th></th>\n",
       "      <th></th>\n",
       "      <th></th>\n",
       "      <th></th>\n",
       "    </tr>\n",
       "  </thead>\n",
       "  <tbody>\n",
       "    <tr>\n",
       "      <th>961</th>\n",
       "      <td>1</td>\n",
       "      <td>25.0</td>\n",
       "      <td>2018-06-18</td>\n",
       "      <td>17.0</td>\n",
       "    </tr>\n",
       "    <tr>\n",
       "      <th>962</th>\n",
       "      <td>1</td>\n",
       "      <td>132.1</td>\n",
       "      <td>2018-06-18</td>\n",
       "      <td>17.0</td>\n",
       "    </tr>\n",
       "    <tr>\n",
       "      <th>964</th>\n",
       "      <td>1</td>\n",
       "      <td>28.0</td>\n",
       "      <td>2018-06-18</td>\n",
       "      <td>17.0</td>\n",
       "    </tr>\n",
       "    <tr>\n",
       "      <th>965</th>\n",
       "      <td>1</td>\n",
       "      <td>40.0</td>\n",
       "      <td>2018-06-18</td>\n",
       "      <td>17.0</td>\n",
       "    </tr>\n",
       "    <tr>\n",
       "      <th>966</th>\n",
       "      <td>1</td>\n",
       "      <td>12.5</td>\n",
       "      <td>2018-06-18</td>\n",
       "      <td>17.0</td>\n",
       "    </tr>\n",
       "    <tr>\n",
       "      <th>...</th>\n",
       "      <td>...</td>\n",
       "      <td>...</td>\n",
       "      <td>...</td>\n",
       "      <td>...</td>\n",
       "    </tr>\n",
       "    <tr>\n",
       "      <th>323910</th>\n",
       "      <td>1</td>\n",
       "      <td>9.0</td>\n",
       "      <td>2018-07-05</td>\n",
       "      <td>0.0</td>\n",
       "    </tr>\n",
       "    <tr>\n",
       "      <th>323911</th>\n",
       "      <td>1</td>\n",
       "      <td>17.4</td>\n",
       "      <td>2018-07-05</td>\n",
       "      <td>0.0</td>\n",
       "    </tr>\n",
       "    <tr>\n",
       "      <th>323912</th>\n",
       "      <td>1</td>\n",
       "      <td>5.9</td>\n",
       "      <td>2018-07-05</td>\n",
       "      <td>0.0</td>\n",
       "    </tr>\n",
       "    <tr>\n",
       "      <th>323913</th>\n",
       "      <td>1</td>\n",
       "      <td>1.0</td>\n",
       "      <td>2018-07-05</td>\n",
       "      <td>0.0</td>\n",
       "    </tr>\n",
       "    <tr>\n",
       "      <th>323914</th>\n",
       "      <td>1</td>\n",
       "      <td>5.0</td>\n",
       "      <td>2018-07-05</td>\n",
       "      <td>0.0</td>\n",
       "    </tr>\n",
       "  </tbody>\n",
       "</table>\n",
       "<p>280816 rows × 4 columns</p>\n",
       "</div>"
      ],
      "text/plain": [
       "           F      M SHOP_DATETIME     R\n",
       "BASK_CODE                              \n",
       "961        1   25.0    2018-06-18  17.0\n",
       "962        1  132.1    2018-06-18  17.0\n",
       "964        1   28.0    2018-06-18  17.0\n",
       "965        1   40.0    2018-06-18  17.0\n",
       "966        1   12.5    2018-06-18  17.0\n",
       "...       ..    ...           ...   ...\n",
       "323910     1    9.0    2018-07-05   0.0\n",
       "323911     1   17.4    2018-07-05   0.0\n",
       "323912     1    5.9    2018-07-05   0.0\n",
       "323913     1    1.0    2018-07-05   0.0\n",
       "323914     1    5.0    2018-07-05   0.0\n",
       "\n",
       "[280816 rows x 4 columns]"
      ]
     },
     "execution_count": 32,
     "metadata": {},
     "output_type": "execute_result"
    }
   ],
   "source": [
    "rfm"
   ]
  },
  {
   "cell_type": "markdown",
   "metadata": {},
   "source": [
    "### 3.4.2 建立RFM模型"
   ]
  },
  {
   "cell_type": "code",
   "execution_count": 33,
   "metadata": {},
   "outputs": [],
   "source": [
    "def rfm_func(x):\n",
    "    level = x.apply(lambda x:'1' if x > 0 else '0')\n",
    "    label = level.R +level.F + level.M\n",
    "    d = {\n",
    "        '111':'重要价值客户',\n",
    "        '011':'重要保持客户',\n",
    "        '101':'重要发展客户',\n",
    "        '001':'重要挽留客户',\n",
    "        '110':'一般价值客户',\n",
    "        '010':'一般保持客户',\n",
    "        '100':'一般发展客户',\n",
    "        '000':'一般挽留客户'\n",
    "    }\n",
    "    result = d[label]\n",
    "    return result\n",
    "rfm['label'] = rfm[['R','F','M']].apply(lambda x : x - x.mean()).apply(rfm_func,axis=1)"
   ]
  },
  {
   "cell_type": "code",
   "execution_count": 34,
   "metadata": {},
   "outputs": [
    {
     "data": {
      "text/html": [
       "<div>\n",
       "<style scoped>\n",
       "    .dataframe tbody tr th:only-of-type {\n",
       "        vertical-align: middle;\n",
       "    }\n",
       "\n",
       "    .dataframe tbody tr th {\n",
       "        vertical-align: top;\n",
       "    }\n",
       "\n",
       "    .dataframe thead th {\n",
       "        text-align: right;\n",
       "    }\n",
       "</style>\n",
       "<table border=\"1\" class=\"dataframe\">\n",
       "  <thead>\n",
       "    <tr style=\"text-align: right;\">\n",
       "      <th></th>\n",
       "      <th>F</th>\n",
       "      <th>M</th>\n",
       "      <th>R</th>\n",
       "    </tr>\n",
       "    <tr>\n",
       "      <th>label</th>\n",
       "      <th></th>\n",
       "      <th></th>\n",
       "      <th></th>\n",
       "    </tr>\n",
       "  </thead>\n",
       "  <tbody>\n",
       "    <tr>\n",
       "      <th>一般价值客户</th>\n",
       "      <td>24142</td>\n",
       "      <td>390991.43</td>\n",
       "      <td>136245.0</td>\n",
       "    </tr>\n",
       "    <tr>\n",
       "      <th>一般保持客户</th>\n",
       "      <td>78408</td>\n",
       "      <td>1245849.52</td>\n",
       "      <td>121598.0</td>\n",
       "    </tr>\n",
       "    <tr>\n",
       "      <th>一般发展客户</th>\n",
       "      <td>117098</td>\n",
       "      <td>2568485.95</td>\n",
       "      <td>1965610.0</td>\n",
       "    </tr>\n",
       "    <tr>\n",
       "      <th>一般挽留客户</th>\n",
       "      <td>102901</td>\n",
       "      <td>2110018.61</td>\n",
       "      <td>393603.0</td>\n",
       "    </tr>\n",
       "    <tr>\n",
       "      <th>重要价值客户</th>\n",
       "      <td>36373</td>\n",
       "      <td>1951109.06</td>\n",
       "      <td>190993.0</td>\n",
       "    </tr>\n",
       "    <tr>\n",
       "      <th>重要保持客户</th>\n",
       "      <td>144084</td>\n",
       "      <td>7526893.87</td>\n",
       "      <td>188421.0</td>\n",
       "    </tr>\n",
       "    <tr>\n",
       "      <th>重要发展客户</th>\n",
       "      <td>34998</td>\n",
       "      <td>3760221.04</td>\n",
       "      <td>454196.0</td>\n",
       "    </tr>\n",
       "    <tr>\n",
       "      <th>重要挽留客户</th>\n",
       "      <td>31793</td>\n",
       "      <td>3000817.29</td>\n",
       "      <td>93646.0</td>\n",
       "    </tr>\n",
       "  </tbody>\n",
       "</table>\n",
       "</div>"
      ],
      "text/plain": [
       "             F           M          R\n",
       "label                                \n",
       "一般价值客户   24142   390991.43   136245.0\n",
       "一般保持客户   78408  1245849.52   121598.0\n",
       "一般发展客户  117098  2568485.95  1965610.0\n",
       "一般挽留客户  102901  2110018.61   393603.0\n",
       "重要价值客户   36373  1951109.06   190993.0\n",
       "重要保持客户  144084  7526893.87   188421.0\n",
       "重要发展客户   34998  3760221.04   454196.0\n",
       "重要挽留客户   31793  3000817.29    93646.0"
      ]
     },
     "execution_count": 34,
     "metadata": {},
     "output_type": "execute_result"
    }
   ],
   "source": [
    "rfm.groupby('label').sum()"
   ]
  },
  {
   "cell_type": "code",
   "execution_count": 35,
   "metadata": {},
   "outputs": [
    {
     "data": {
      "text/html": [
       "<div>\n",
       "<style scoped>\n",
       "    .dataframe tbody tr th:only-of-type {\n",
       "        vertical-align: middle;\n",
       "    }\n",
       "\n",
       "    .dataframe tbody tr th {\n",
       "        vertical-align: top;\n",
       "    }\n",
       "\n",
       "    .dataframe thead th {\n",
       "        text-align: right;\n",
       "    }\n",
       "</style>\n",
       "<table border=\"1\" class=\"dataframe\">\n",
       "  <thead>\n",
       "    <tr style=\"text-align: right;\">\n",
       "      <th></th>\n",
       "      <th>F</th>\n",
       "      <th>M</th>\n",
       "      <th>SHOP_DATETIME</th>\n",
       "      <th>R</th>\n",
       "    </tr>\n",
       "    <tr>\n",
       "      <th>label</th>\n",
       "      <th></th>\n",
       "      <th></th>\n",
       "      <th></th>\n",
       "      <th></th>\n",
       "    </tr>\n",
       "  </thead>\n",
       "  <tbody>\n",
       "    <tr>\n",
       "      <th>一般价值客户</th>\n",
       "      <td>7660</td>\n",
       "      <td>7660</td>\n",
       "      <td>7660</td>\n",
       "      <td>7660</td>\n",
       "    </tr>\n",
       "    <tr>\n",
       "      <th>一般保持客户</th>\n",
       "      <td>24357</td>\n",
       "      <td>24357</td>\n",
       "      <td>24357</td>\n",
       "      <td>24357</td>\n",
       "    </tr>\n",
       "    <tr>\n",
       "      <th>一般发展客户</th>\n",
       "      <td>89623</td>\n",
       "      <td>89623</td>\n",
       "      <td>89623</td>\n",
       "      <td>89623</td>\n",
       "    </tr>\n",
       "    <tr>\n",
       "      <th>一般挽留客户</th>\n",
       "      <td>69282</td>\n",
       "      <td>69282</td>\n",
       "      <td>69282</td>\n",
       "      <td>69282</td>\n",
       "    </tr>\n",
       "    <tr>\n",
       "      <th>重要价值客户</th>\n",
       "      <td>10875</td>\n",
       "      <td>10875</td>\n",
       "      <td>10875</td>\n",
       "      <td>10875</td>\n",
       "    </tr>\n",
       "    <tr>\n",
       "      <th>重要保持客户</th>\n",
       "      <td>39323</td>\n",
       "      <td>39323</td>\n",
       "      <td>39323</td>\n",
       "      <td>39323</td>\n",
       "    </tr>\n",
       "    <tr>\n",
       "      <th>重要发展客户</th>\n",
       "      <td>21908</td>\n",
       "      <td>21908</td>\n",
       "      <td>21908</td>\n",
       "      <td>21908</td>\n",
       "    </tr>\n",
       "    <tr>\n",
       "      <th>重要挽留客户</th>\n",
       "      <td>17788</td>\n",
       "      <td>17788</td>\n",
       "      <td>17788</td>\n",
       "      <td>17788</td>\n",
       "    </tr>\n",
       "  </tbody>\n",
       "</table>\n",
       "</div>"
      ],
      "text/plain": [
       "            F      M  SHOP_DATETIME      R\n",
       "label                                     \n",
       "一般价值客户   7660   7660           7660   7660\n",
       "一般保持客户  24357  24357          24357  24357\n",
       "一般发展客户  89623  89623          89623  89623\n",
       "一般挽留客户  69282  69282          69282  69282\n",
       "重要价值客户  10875  10875          10875  10875\n",
       "重要保持客户  39323  39323          39323  39323\n",
       "重要发展客户  21908  21908          21908  21908\n",
       "重要挽留客户  17788  17788          17788  17788"
      ]
     },
     "execution_count": 35,
     "metadata": {},
     "output_type": "execute_result"
    }
   ],
   "source": [
    "rfm.groupby('label').count()"
   ]
  },
  {
   "cell_type": "code",
   "execution_count": 36,
   "metadata": {},
   "outputs": [
    {
     "data": {
      "text/plain": [
       "<matplotlib.axes._subplots.AxesSubplot at 0x1b7e0e83bc8>"
      ]
     },
     "execution_count": 36,
     "metadata": {},
     "output_type": "execute_result"
    },
    {
     "data": {
      "image/png": "[encoded data removed]",
      "text/plain": [
       "<Figure size 432x288 with 1 Axes>"
      ]
     },
     "metadata": {
      "needs_background": "light"
     },
     "output_type": "display_data"
    }
   ],
   "source": [
    "rfm.loc[rfm.label == '重要价值客户','color'] = 'g'\n",
    "rfm.loc[rfm.label != '重要价值客户','color'] = 'r'\n",
    "rfm.plot.scatter('F','R',c = rfm.color)"
   ]
  },
  {
   "cell_type": "code",
   "execution_count": 37,
   "metadata": {},
   "outputs": [],
   "source": [
    "# 用户生命周期-新、老、活跃、回流、流失\n",
    "df['day'] = df.SHOP_DATETIME.values.astype('datetime64[D]')\n",
    "pivoted_counts = df.pivot_table(index = 'BASK_CODE',\n",
    "                               columns= 'day',\n",
    "                               values= 'SHOP_DATETIME',\n",
    "                               aggfunc= 'count').fillna(0)"
   ]
  },
  {
   "cell_type": "code",
   "execution_count": 38,
   "metadata": {},
   "outputs": [
    {
     "data": {
      "text/html": [
       "<div>\n",
       "<style scoped>\n",
       "    .dataframe tbody tr th:only-of-type {\n",
       "        vertical-align: middle;\n",
       "    }\n",
       "\n",
       "    .dataframe tbody tr th {\n",
       "        vertical-align: top;\n",
       "    }\n",
       "\n",
       "    .dataframe thead th {\n",
       "        text-align: right;\n",
       "    }\n",
       "</style>\n",
       "<table border=\"1\" class=\"dataframe\">\n",
       "  <thead>\n",
       "    <tr style=\"text-align: right;\">\n",
       "      <th>day</th>\n",
       "      <th>2018-06-01</th>\n",
       "      <th>2018-06-02</th>\n",
       "      <th>2018-06-03</th>\n",
       "      <th>2018-06-04</th>\n",
       "      <th>2018-06-05</th>\n",
       "      <th>2018-06-06</th>\n",
       "      <th>2018-06-07</th>\n",
       "      <th>2018-06-08</th>\n",
       "      <th>2018-06-09</th>\n",
       "      <th>2018-06-10</th>\n",
       "      <th>...</th>\n",
       "      <th>2018-06-26</th>\n",
       "      <th>2018-06-27</th>\n",
       "      <th>2018-06-28</th>\n",
       "      <th>2018-06-29</th>\n",
       "      <th>2018-06-30</th>\n",
       "      <th>2018-07-01</th>\n",
       "      <th>2018-07-02</th>\n",
       "      <th>2018-07-03</th>\n",
       "      <th>2018-07-04</th>\n",
       "      <th>2018-07-05</th>\n",
       "    </tr>\n",
       "    <tr>\n",
       "      <th>BASK_CODE</th>\n",
       "      <th></th>\n",
       "      <th></th>\n",
       "      <th></th>\n",
       "      <th></th>\n",
       "      <th></th>\n",
       "      <th></th>\n",
       "      <th></th>\n",
       "      <th></th>\n",
       "      <th></th>\n",
       "      <th></th>\n",
       "      <th></th>\n",
       "      <th></th>\n",
       "      <th></th>\n",
       "      <th></th>\n",
       "      <th></th>\n",
       "      <th></th>\n",
       "      <th></th>\n",
       "      <th></th>\n",
       "      <th></th>\n",
       "      <th></th>\n",
       "      <th></th>\n",
       "    </tr>\n",
       "  </thead>\n",
       "  <tbody>\n",
       "    <tr>\n",
       "      <th>961</th>\n",
       "      <td>0.0</td>\n",
       "      <td>0.0</td>\n",
       "      <td>0.0</td>\n",
       "      <td>0.0</td>\n",
       "      <td>0.0</td>\n",
       "      <td>0.0</td>\n",
       "      <td>0.0</td>\n",
       "      <td>0.0</td>\n",
       "      <td>0.0</td>\n",
       "      <td>0.0</td>\n",
       "      <td>...</td>\n",
       "      <td>0.0</td>\n",
       "      <td>0.0</td>\n",
       "      <td>0.0</td>\n",
       "      <td>0.0</td>\n",
       "      <td>0.0</td>\n",
       "      <td>0.0</td>\n",
       "      <td>0.0</td>\n",
       "      <td>0.0</td>\n",
       "      <td>0.0</td>\n",
       "      <td>0.0</td>\n",
       "    </tr>\n",
       "    <tr>\n",
       "      <th>962</th>\n",
       "      <td>0.0</td>\n",
       "      <td>0.0</td>\n",
       "      <td>0.0</td>\n",
       "      <td>0.0</td>\n",
       "      <td>0.0</td>\n",
       "      <td>0.0</td>\n",
       "      <td>0.0</td>\n",
       "      <td>0.0</td>\n",
       "      <td>0.0</td>\n",
       "      <td>0.0</td>\n",
       "      <td>...</td>\n",
       "      <td>0.0</td>\n",
       "      <td>0.0</td>\n",
       "      <td>0.0</td>\n",
       "      <td>0.0</td>\n",
       "      <td>0.0</td>\n",
       "      <td>0.0</td>\n",
       "      <td>0.0</td>\n",
       "      <td>0.0</td>\n",
       "      <td>0.0</td>\n",
       "      <td>0.0</td>\n",
       "    </tr>\n",
       "    <tr>\n",
       "      <th>964</th>\n",
       "      <td>0.0</td>\n",
       "      <td>0.0</td>\n",
       "      <td>0.0</td>\n",
       "      <td>0.0</td>\n",
       "      <td>0.0</td>\n",
       "      <td>0.0</td>\n",
       "      <td>0.0</td>\n",
       "      <td>0.0</td>\n",
       "      <td>0.0</td>\n",
       "      <td>0.0</td>\n",
       "      <td>...</td>\n",
       "      <td>0.0</td>\n",
       "      <td>0.0</td>\n",
       "      <td>0.0</td>\n",
       "      <td>0.0</td>\n",
       "      <td>0.0</td>\n",
       "      <td>0.0</td>\n",
       "      <td>0.0</td>\n",
       "      <td>0.0</td>\n",
       "      <td>0.0</td>\n",
       "      <td>0.0</td>\n",
       "    </tr>\n",
       "    <tr>\n",
       "      <th>965</th>\n",
       "      <td>0.0</td>\n",
       "      <td>0.0</td>\n",
       "      <td>0.0</td>\n",
       "      <td>0.0</td>\n",
       "      <td>0.0</td>\n",
       "      <td>0.0</td>\n",
       "      <td>0.0</td>\n",
       "      <td>0.0</td>\n",
       "      <td>0.0</td>\n",
       "      <td>0.0</td>\n",
       "      <td>...</td>\n",
       "      <td>0.0</td>\n",
       "      <td>0.0</td>\n",
       "      <td>0.0</td>\n",
       "      <td>0.0</td>\n",
       "      <td>0.0</td>\n",
       "      <td>0.0</td>\n",
       "      <td>0.0</td>\n",
       "      <td>0.0</td>\n",
       "      <td>0.0</td>\n",
       "      <td>0.0</td>\n",
       "    </tr>\n",
       "    <tr>\n",
       "      <th>966</th>\n",
       "      <td>0.0</td>\n",
       "      <td>0.0</td>\n",
       "      <td>0.0</td>\n",
       "      <td>0.0</td>\n",
       "      <td>0.0</td>\n",
       "      <td>0.0</td>\n",
       "      <td>0.0</td>\n",
       "      <td>0.0</td>\n",
       "      <td>0.0</td>\n",
       "      <td>0.0</td>\n",
       "      <td>...</td>\n",
       "      <td>0.0</td>\n",
       "      <td>0.0</td>\n",
       "      <td>0.0</td>\n",
       "      <td>0.0</td>\n",
       "      <td>0.0</td>\n",
       "      <td>0.0</td>\n",
       "      <td>0.0</td>\n",
       "      <td>0.0</td>\n",
       "      <td>0.0</td>\n",
       "      <td>0.0</td>\n",
       "    </tr>\n",
       "    <tr>\n",
       "      <th>...</th>\n",
       "      <td>...</td>\n",
       "      <td>...</td>\n",
       "      <td>...</td>\n",
       "      <td>...</td>\n",
       "      <td>...</td>\n",
       "      <td>...</td>\n",
       "      <td>...</td>\n",
       "      <td>...</td>\n",
       "      <td>...</td>\n",
       "      <td>...</td>\n",
       "      <td>...</td>\n",
       "      <td>...</td>\n",
       "      <td>...</td>\n",
       "      <td>...</td>\n",
       "      <td>...</td>\n",
       "      <td>...</td>\n",
       "      <td>...</td>\n",
       "      <td>...</td>\n",
       "      <td>...</td>\n",
       "      <td>...</td>\n",
       "      <td>...</td>\n",
       "    </tr>\n",
       "    <tr>\n",
       "      <th>323910</th>\n",
       "      <td>0.0</td>\n",
       "      <td>0.0</td>\n",
       "      <td>0.0</td>\n",
       "      <td>0.0</td>\n",
       "      <td>0.0</td>\n",
       "      <td>0.0</td>\n",
       "      <td>0.0</td>\n",
       "      <td>0.0</td>\n",
       "      <td>0.0</td>\n",
       "      <td>0.0</td>\n",
       "      <td>...</td>\n",
       "      <td>0.0</td>\n",
       "      <td>0.0</td>\n",
       "      <td>0.0</td>\n",
       "      <td>0.0</td>\n",
       "      <td>0.0</td>\n",
       "      <td>0.0</td>\n",
       "      <td>0.0</td>\n",
       "      <td>0.0</td>\n",
       "      <td>0.0</td>\n",
       "      <td>1.0</td>\n",
       "    </tr>\n",
       "    <tr>\n",
       "      <th>323911</th>\n",
       "      <td>0.0</td>\n",
       "      <td>0.0</td>\n",
       "      <td>0.0</td>\n",
       "      <td>0.0</td>\n",
       "      <td>0.0</td>\n",
       "      <td>0.0</td>\n",
       "      <td>0.0</td>\n",
       "      <td>0.0</td>\n",
       "      <td>0.0</td>\n",
       "      <td>0.0</td>\n",
       "      <td>...</td>\n",
       "      <td>0.0</td>\n",
       "      <td>0.0</td>\n",
       "      <td>0.0</td>\n",
       "      <td>0.0</td>\n",
       "      <td>0.0</td>\n",
       "      <td>0.0</td>\n",
       "      <td>0.0</td>\n",
       "      <td>0.0</td>\n",
       "      <td>0.0</td>\n",
       "      <td>1.0</td>\n",
       "    </tr>\n",
       "    <tr>\n",
       "      <th>323912</th>\n",
       "      <td>0.0</td>\n",
       "      <td>0.0</td>\n",
       "      <td>0.0</td>\n",
       "      <td>0.0</td>\n",
       "      <td>0.0</td>\n",
       "      <td>0.0</td>\n",
       "      <td>0.0</td>\n",
       "      <td>0.0</td>\n",
       "      <td>0.0</td>\n",
       "      <td>0.0</td>\n",
       "      <td>...</td>\n",
       "      <td>0.0</td>\n",
       "      <td>0.0</td>\n",
       "      <td>0.0</td>\n",
       "      <td>0.0</td>\n",
       "      <td>0.0</td>\n",
       "      <td>0.0</td>\n",
       "      <td>0.0</td>\n",
       "      <td>0.0</td>\n",
       "      <td>0.0</td>\n",
       "      <td>1.0</td>\n",
       "    </tr>\n",
       "    <tr>\n",
       "      <th>323913</th>\n",
       "      <td>0.0</td>\n",
       "      <td>0.0</td>\n",
       "      <td>0.0</td>\n",
       "      <td>0.0</td>\n",
       "      <td>0.0</td>\n",
       "      <td>0.0</td>\n",
       "      <td>0.0</td>\n",
       "      <td>0.0</td>\n",
       "      <td>0.0</td>\n",
       "      <td>0.0</td>\n",
       "      <td>...</td>\n",
       "      <td>0.0</td>\n",
       "      <td>0.0</td>\n",
       "      <td>0.0</td>\n",
       "      <td>0.0</td>\n",
       "      <td>0.0</td>\n",
       "      <td>0.0</td>\n",
       "      <td>0.0</td>\n",
       "      <td>0.0</td>\n",
       "      <td>0.0</td>\n",
       "      <td>1.0</td>\n",
       "    </tr>\n",
       "    <tr>\n",
       "      <th>323914</th>\n",
       "      <td>0.0</td>\n",
       "      <td>0.0</td>\n",
       "      <td>0.0</td>\n",
       "      <td>0.0</td>\n",
       "      <td>0.0</td>\n",
       "      <td>0.0</td>\n",
       "      <td>0.0</td>\n",
       "      <td>0.0</td>\n",
       "      <td>0.0</td>\n",
       "      <td>0.0</td>\n",
       "      <td>...</td>\n",
       "      <td>0.0</td>\n",
       "      <td>0.0</td>\n",
       "      <td>0.0</td>\n",
       "      <td>0.0</td>\n",
       "      <td>0.0</td>\n",
       "      <td>0.0</td>\n",
       "      <td>0.0</td>\n",
       "      <td>0.0</td>\n",
       "      <td>0.0</td>\n",
       "      <td>1.0</td>\n",
       "    </tr>\n",
       "  </tbody>\n",
       "</table>\n",
       "<p>280816 rows × 35 columns</p>\n",
       "</div>"
      ],
      "text/plain": [
       "day        2018-06-01  2018-06-02  2018-06-03  2018-06-04  2018-06-05  \\\n",
       "BASK_CODE                                                               \n",
       "961               0.0         0.0         0.0         0.0         0.0   \n",
       "962               0.0         0.0         0.0         0.0         0.0   \n",
       "964               0.0         0.0         0.0         0.0         0.0   \n",
       "965               0.0         0.0         0.0         0.0         0.0   \n",
       "966               0.0         0.0         0.0         0.0         0.0   \n",
       "...               ...         ...         ...         ...         ...   \n",
       "323910            0.0         0.0         0.0         0.0         0.0   \n",
       "323911            0.0         0.0         0.0         0.0         0.0   \n",
       "323912            0.0         0.0         0.0         0.0         0.0   \n",
       "323913            0.0         0.0         0.0         0.0         0.0   \n",
       "323914            0.0         0.0         0.0         0.0         0.0   \n",
       "\n",
       "day        2018-06-06  2018-06-07  2018-06-08  2018-06-09  2018-06-10  ...  \\\n",
       "BASK_CODE                                                              ...   \n",
       "961               0.0         0.0         0.0         0.0         0.0  ...   \n",
       "962               0.0         0.0         0.0         0.0         0.0  ...   \n",
       "964               0.0         0.0         0.0         0.0         0.0  ...   \n",
       "965               0.0         0.0         0.0         0.0         0.0  ...   \n",
       "966               0.0         0.0         0.0         0.0         0.0  ...   \n",
       "...               ...         ...         ...         ...         ...  ...   \n",
       "323910            0.0         0.0         0.0         0.0         0.0  ...   \n",
       "323911            0.0         0.0         0.0         0.0         0.0  ...   \n",
       "323912            0.0         0.0         0.0         0.0         0.0  ...   \n",
       "323913            0.0         0.0         0.0         0.0         0.0  ...   \n",
       "323914            0.0         0.0         0.0         0.0         0.0  ...   \n",
       "\n",
       "day        2018-06-26  2018-06-27  2018-06-28  2018-06-29  2018-06-30  \\\n",
       "BASK_CODE                                                               \n",
       "961               0.0         0.0         0.0         0.0         0.0   \n",
       "962               0.0         0.0         0.0         0.0         0.0   \n",
       "964               0.0         0.0         0.0         0.0         0.0   \n",
       "965               0.0         0.0         0.0         0.0         0.0   \n",
       "966               0.0         0.0         0.0         0.0         0.0   \n",
       "...               ...         ...         ...         ...         ...   \n",
       "323910            0.0         0.0         0.0         0.0         0.0   \n",
       "323911            0.0         0.0         0.0         0.0         0.0   \n",
       "323912            0.0         0.0         0.0         0.0         0.0   \n",
       "323913            0.0         0.0         0.0         0.0         0.0   \n",
       "323914            0.0         0.0         0.0         0.0         0.0   \n",
       "\n",
       "day        2018-07-01  2018-07-02  2018-07-03  2018-07-04  2018-07-05  \n",
       "BASK_CODE                                                              \n",
       "961               0.0         0.0         0.0         0.0         0.0  \n",
       "962               0.0         0.0         0.0         0.0         0.0  \n",
       "964               0.0         0.0         0.0         0.0         0.0  \n",
       "965               0.0         0.0         0.0         0.0         0.0  \n",
       "966               0.0         0.0         0.0         0.0         0.0  \n",
       "...               ...         ...         ...         ...         ...  \n",
       "323910            0.0         0.0         0.0         0.0         1.0  \n",
       "323911            0.0         0.0         0.0         0.0         1.0  \n",
       "323912            0.0         0.0         0.0         0.0         1.0  \n",
       "323913            0.0         0.0         0.0         0.0         1.0  \n",
       "323914            0.0         0.0         0.0         0.0         1.0  \n",
       "\n",
       "[280816 rows x 35 columns]"
      ]
     },
     "execution_count": 38,
     "metadata": {},
     "output_type": "execute_result"
    }
   ],
   "source": [
    "pivoted_counts"
   ]
  },
  {
   "cell_type": "code",
   "execution_count": 39,
   "metadata": {},
   "outputs": [],
   "source": [
    "# 进行简化\n",
    "df_purchase = pivoted_counts.applymap(lambda x : 1 if x>0 else 0)"
   ]
  },
  {
   "cell_type": "code",
   "execution_count": 40,
   "metadata": {},
   "outputs": [
    {
     "data": {
      "text/html": [
       "<div>\n",
       "<style scoped>\n",
       "    .dataframe tbody tr th:only-of-type {\n",
       "        vertical-align: middle;\n",
       "    }\n",
       "\n",
       "    .dataframe tbody tr th {\n",
       "        vertical-align: top;\n",
       "    }\n",
       "\n",
       "    .dataframe thead th {\n",
       "        text-align: right;\n",
       "    }\n",
       "</style>\n",
       "<table border=\"1\" class=\"dataframe\">\n",
       "  <thead>\n",
       "    <tr style=\"text-align: right;\">\n",
       "      <th>day</th>\n",
       "      <th>2018-06-01</th>\n",
       "      <th>2018-06-02</th>\n",
       "      <th>2018-06-03</th>\n",
       "      <th>2018-06-04</th>\n",
       "      <th>2018-06-05</th>\n",
       "      <th>2018-06-06</th>\n",
       "      <th>2018-06-07</th>\n",
       "      <th>2018-06-08</th>\n",
       "      <th>2018-06-09</th>\n",
       "      <th>2018-06-10</th>\n",
       "      <th>...</th>\n",
       "      <th>2018-06-26</th>\n",
       "      <th>2018-06-27</th>\n",
       "      <th>2018-06-28</th>\n",
       "      <th>2018-06-29</th>\n",
       "      <th>2018-06-30</th>\n",
       "      <th>2018-07-01</th>\n",
       "      <th>2018-07-02</th>\n",
       "      <th>2018-07-03</th>\n",
       "      <th>2018-07-04</th>\n",
       "      <th>2018-07-05</th>\n",
       "    </tr>\n",
       "    <tr>\n",
       "      <th>BASK_CODE</th>\n",
       "      <th></th>\n",
       "      <th></th>\n",
       "      <th></th>\n",
       "      <th></th>\n",
       "      <th></th>\n",
       "      <th></th>\n",
       "      <th></th>\n",
       "      <th></th>\n",
       "      <th></th>\n",
       "      <th></th>\n",
       "      <th></th>\n",
       "      <th></th>\n",
       "      <th></th>\n",
       "      <th></th>\n",
       "      <th></th>\n",
       "      <th></th>\n",
       "      <th></th>\n",
       "      <th></th>\n",
       "      <th></th>\n",
       "      <th></th>\n",
       "      <th></th>\n",
       "    </tr>\n",
       "  </thead>\n",
       "  <tbody>\n",
       "    <tr>\n",
       "      <th>961</th>\n",
       "      <td>0</td>\n",
       "      <td>0</td>\n",
       "      <td>0</td>\n",
       "      <td>0</td>\n",
       "      <td>0</td>\n",
       "      <td>0</td>\n",
       "      <td>0</td>\n",
       "      <td>0</td>\n",
       "      <td>0</td>\n",
       "      <td>0</td>\n",
       "      <td>...</td>\n",
       "      <td>0</td>\n",
       "      <td>0</td>\n",
       "      <td>0</td>\n",
       "      <td>0</td>\n",
       "      <td>0</td>\n",
       "      <td>0</td>\n",
       "      <td>0</td>\n",
       "      <td>0</td>\n",
       "      <td>0</td>\n",
       "      <td>0</td>\n",
       "    </tr>\n",
       "    <tr>\n",
       "      <th>962</th>\n",
       "      <td>0</td>\n",
       "      <td>0</td>\n",
       "      <td>0</td>\n",
       "      <td>0</td>\n",
       "      <td>0</td>\n",
       "      <td>0</td>\n",
       "      <td>0</td>\n",
       "      <td>0</td>\n",
       "      <td>0</td>\n",
       "      <td>0</td>\n",
       "      <td>...</td>\n",
       "      <td>0</td>\n",
       "      <td>0</td>\n",
       "      <td>0</td>\n",
       "      <td>0</td>\n",
       "      <td>0</td>\n",
       "      <td>0</td>\n",
       "      <td>0</td>\n",
       "      <td>0</td>\n",
       "      <td>0</td>\n",
       "      <td>0</td>\n",
       "    </tr>\n",
       "    <tr>\n",
       "      <th>964</th>\n",
       "      <td>0</td>\n",
       "      <td>0</td>\n",
       "      <td>0</td>\n",
       "      <td>0</td>\n",
       "      <td>0</td>\n",
       "      <td>0</td>\n",
       "      <td>0</td>\n",
       "      <td>0</td>\n",
       "      <td>0</td>\n",
       "      <td>0</td>\n",
       "      <td>...</td>\n",
       "      <td>0</td>\n",
       "      <td>0</td>\n",
       "      <td>0</td>\n",
       "      <td>0</td>\n",
       "      <td>0</td>\n",
       "      <td>0</td>\n",
       "      <td>0</td>\n",
       "      <td>0</td>\n",
       "      <td>0</td>\n",
       "      <td>0</td>\n",
       "    </tr>\n",
       "    <tr>\n",
       "      <th>965</th>\n",
       "      <td>0</td>\n",
       "      <td>0</td>\n",
       "      <td>0</td>\n",
       "      <td>0</td>\n",
       "      <td>0</td>\n",
       "      <td>0</td>\n",
       "      <td>0</td>\n",
       "      <td>0</td>\n",
       "      <td>0</td>\n",
       "      <td>0</td>\n",
       "      <td>...</td>\n",
       "      <td>0</td>\n",
       "      <td>0</td>\n",
       "      <td>0</td>\n",
       "      <td>0</td>\n",
       "      <td>0</td>\n",
       "      <td>0</td>\n",
       "      <td>0</td>\n",
       "      <td>0</td>\n",
       "      <td>0</td>\n",
       "      <td>0</td>\n",
       "    </tr>\n",
       "    <tr>\n",
       "      <th>966</th>\n",
       "      <td>0</td>\n",
       "      <td>0</td>\n",
       "      <td>0</td>\n",
       "      <td>0</td>\n",
       "      <td>0</td>\n",
       "      <td>0</td>\n",
       "      <td>0</td>\n",
       "      <td>0</td>\n",
       "      <td>0</td>\n",
       "      <td>0</td>\n",
       "      <td>...</td>\n",
       "      <td>0</td>\n",
       "      <td>0</td>\n",
       "      <td>0</td>\n",
       "      <td>0</td>\n",
       "      <td>0</td>\n",
       "      <td>0</td>\n",
       "      <td>0</td>\n",
       "      <td>0</td>\n",
       "      <td>0</td>\n",
       "      <td>0</td>\n",
       "    </tr>\n",
       "    <tr>\n",
       "      <th>...</th>\n",
       "      <td>...</td>\n",
       "      <td>...</td>\n",
       "      <td>...</td>\n",
       "      <td>...</td>\n",
       "      <td>...</td>\n",
       "      <td>...</td>\n",
       "      <td>...</td>\n",
       "      <td>...</td>\n",
       "      <td>...</td>\n",
       "      <td>...</td>\n",
       "      <td>...</td>\n",
       "      <td>...</td>\n",
       "      <td>...</td>\n",
       "      <td>...</td>\n",
       "      <td>...</td>\n",
       "      <td>...</td>\n",
       "      <td>...</td>\n",
       "      <td>...</td>\n",
       "      <td>...</td>\n",
       "      <td>...</td>\n",
       "      <td>...</td>\n",
       "    </tr>\n",
       "    <tr>\n",
       "      <th>323910</th>\n",
       "      <td>0</td>\n",
       "      <td>0</td>\n",
       "      <td>0</td>\n",
       "      <td>0</td>\n",
       "      <td>0</td>\n",
       "      <td>0</td>\n",
       "      <td>0</td>\n",
       "      <td>0</td>\n",
       "      <td>0</td>\n",
       "      <td>0</td>\n",
       "      <td>...</td>\n",
       "      <td>0</td>\n",
       "      <td>0</td>\n",
       "      <td>0</td>\n",
       "      <td>0</td>\n",
       "      <td>0</td>\n",
       "      <td>0</td>\n",
       "      <td>0</td>\n",
       "      <td>0</td>\n",
       "      <td>0</td>\n",
       "      <td>1</td>\n",
       "    </tr>\n",
       "    <tr>\n",
       "      <th>323911</th>\n",
       "      <td>0</td>\n",
       "      <td>0</td>\n",
       "      <td>0</td>\n",
       "      <td>0</td>\n",
       "      <td>0</td>\n",
       "      <td>0</td>\n",
       "      <td>0</td>\n",
       "      <td>0</td>\n",
       "      <td>0</td>\n",
       "      <td>0</td>\n",
       "      <td>...</td>\n",
       "      <td>0</td>\n",
       "      <td>0</td>\n",
       "      <td>0</td>\n",
       "      <td>0</td>\n",
       "      <td>0</td>\n",
       "      <td>0</td>\n",
       "      <td>0</td>\n",
       "      <td>0</td>\n",
       "      <td>0</td>\n",
       "      <td>1</td>\n",
       "    </tr>\n",
       "    <tr>\n",
       "      <th>323912</th>\n",
       "      <td>0</td>\n",
       "      <td>0</td>\n",
       "      <td>0</td>\n",
       "      <td>0</td>\n",
       "      <td>0</td>\n",
       "      <td>0</td>\n",
       "      <td>0</td>\n",
       "      <td>0</td>\n",
       "      <td>0</td>\n",
       "      <td>0</td>\n",
       "      <td>...</td>\n",
       "      <td>0</td>\n",
       "      <td>0</td>\n",
       "      <td>0</td>\n",
       "      <td>0</td>\n",
       "      <td>0</td>\n",
       "      <td>0</td>\n",
       "      <td>0</td>\n",
       "      <td>0</td>\n",
       "      <td>0</td>\n",
       "      <td>1</td>\n",
       "    </tr>\n",
       "    <tr>\n",
       "      <th>323913</th>\n",
       "      <td>0</td>\n",
       "      <td>0</td>\n",
       "      <td>0</td>\n",
       "      <td>0</td>\n",
       "      <td>0</td>\n",
       "      <td>0</td>\n",
       "      <td>0</td>\n",
       "      <td>0</td>\n",
       "      <td>0</td>\n",
       "      <td>0</td>\n",
       "      <td>...</td>\n",
       "      <td>0</td>\n",
       "      <td>0</td>\n",
       "      <td>0</td>\n",
       "      <td>0</td>\n",
       "      <td>0</td>\n",
       "      <td>0</td>\n",
       "      <td>0</td>\n",
       "      <td>0</td>\n",
       "      <td>0</td>\n",
       "      <td>1</td>\n",
       "    </tr>\n",
       "    <tr>\n",
       "      <th>323914</th>\n",
       "      <td>0</td>\n",
       "      <td>0</td>\n",
       "      <td>0</td>\n",
       "      <td>0</td>\n",
       "      <td>0</td>\n",
       "      <td>0</td>\n",
       "      <td>0</td>\n",
       "      <td>0</td>\n",
       "      <td>0</td>\n",
       "      <td>0</td>\n",
       "      <td>...</td>\n",
       "      <td>0</td>\n",
       "      <td>0</td>\n",
       "      <td>0</td>\n",
       "      <td>0</td>\n",
       "      <td>0</td>\n",
       "      <td>0</td>\n",
       "      <td>0</td>\n",
       "      <td>0</td>\n",
       "      <td>0</td>\n",
       "      <td>1</td>\n",
       "    </tr>\n",
       "  </tbody>\n",
       "</table>\n",
       "<p>280816 rows × 35 columns</p>\n",
       "</div>"
      ],
      "text/plain": [
       "day        2018-06-01  2018-06-02  2018-06-03  2018-06-04  2018-06-05  \\\n",
       "BASK_CODE                                                               \n",
       "961                 0           0           0           0           0   \n",
       "962                 0           0           0           0           0   \n",
       "964                 0           0           0           0           0   \n",
       "965                 0           0           0           0           0   \n",
       "966                 0           0           0           0           0   \n",
       "...               ...         ...         ...         ...         ...   \n",
       "323910              0           0           0           0           0   \n",
       "323911              0           0           0           0           0   \n",
       "323912              0           0           0           0           0   \n",
       "323913              0           0           0           0           0   \n",
       "323914              0           0           0           0           0   \n",
       "\n",
       "day        2018-06-06  2018-06-07  2018-06-08  2018-06-09  2018-06-10  ...  \\\n",
       "BASK_CODE                                                              ...   \n",
       "961                 0           0           0           0           0  ...   \n",
       "962                 0           0           0           0           0  ...   \n",
       "964                 0           0           0           0           0  ...   \n",
       "965                 0           0           0           0           0  ...   \n",
       "966                 0           0           0           0           0  ...   \n",
       "...               ...         ...         ...         ...         ...  ...   \n",
       "323910              0           0           0           0           0  ...   \n",
       "323911              0           0           0           0           0  ...   \n",
       "323912              0           0           0           0           0  ...   \n",
       "323913              0           0           0           0           0  ...   \n",
       "323914              0           0           0           0           0  ...   \n",
       "\n",
       "day        2018-06-26  2018-06-27  2018-06-28  2018-06-29  2018-06-30  \\\n",
       "BASK_CODE                                                               \n",
       "961                 0           0           0           0           0   \n",
       "962                 0           0           0           0           0   \n",
       "964                 0           0           0           0           0   \n",
       "965                 0           0           0           0           0   \n",
       "966                 0           0           0           0           0   \n",
       "...               ...         ...         ...         ...         ...   \n",
       "323910              0           0           0           0           0   \n",
       "323911              0           0           0           0           0   \n",
       "323912              0           0           0           0           0   \n",
       "323913              0           0           0           0           0   \n",
       "323914              0           0           0           0           0   \n",
       "\n",
       "day        2018-07-01  2018-07-02  2018-07-03  2018-07-04  2018-07-05  \n",
       "BASK_CODE                                                              \n",
       "961                 0           0           0           0           0  \n",
       "962                 0           0           0           0           0  \n",
       "964                 0           0           0           0           0  \n",
       "965                 0           0           0           0           0  \n",
       "966                 0           0           0           0           0  \n",
       "...               ...         ...         ...         ...         ...  \n",
       "323910              0           0           0           0           1  \n",
       "323911              0           0           0           0           1  \n",
       "323912              0           0           0           0           1  \n",
       "323913              0           0           0           0           1  \n",
       "323914              0           0           0           0           1  \n",
       "\n",
       "[280816 rows x 35 columns]"
      ]
     },
     "execution_count": 40,
     "metadata": {},
     "output_type": "execute_result"
    }
   ],
   "source": [
    "df_purchase "
   ]
  },
  {
   "cell_type": "code",
   "execution_count": 41,
   "metadata": {},
   "outputs": [],
   "source": [
    "def active_statu(data):\n",
    "    status = []\n",
    "    for i in range(18):\n",
    "        # 当月未消费\n",
    "        if data[i] == 0:\n",
    "            if len(status) > 0:\n",
    "                if status[i-1] == 'unreg':\n",
    "                    status.append('unreg')\n",
    "                else:\n",
    "                    status.append('unactive')\n",
    "            else:\n",
    "                status.append('unreg')\n",
    "        # 当月有消费\n",
    "        else:\n",
    "            if len(status) == 0:\n",
    "                status.append('new')\n",
    "            else:\n",
    "                if status[i-1] == 'unactive':\n",
    "                    status.append('return')\n",
    "                elif status[i-1] == 'unreg':\n",
    "                    status.append('new')\n",
    "                else:\n",
    "                    status.append('active')\n",
    "                    \n",
    "    return status\n",
    "\n",
    "purshase_stats = df_purchase.apply(active_statu,axis=1)\n",
    "purshase_stats = pd.DataFrame(purshase_stats)[0].apply(pd.Series)\n",
    "#purshase_stats.columns = pivoted_counts.columns"
   ]
  },
  {
   "cell_type": "code",
   "execution_count": 42,
   "metadata": {},
   "outputs": [
    {
     "data": {
      "text/plain": [
       "<matplotlib.axes._subplots.AxesSubplot at 0x1b7e0ff8fc8>"
      ]
     },
     "execution_count": 42,
     "metadata": {},
     "output_type": "execute_result"
    },
    {
     "data": {
      "image/png": "[encoded data removed]",
      "text/plain": [
       "<Figure size 432x288 with 1 Axes>"
      ]
     },
     "metadata": {
      "needs_background": "light"
     },
     "output_type": "display_data"
    }
   ],
   "source": [
    "purshase_stats_ct = purshase_stats.replace('unreg',np.NAN).apply(lambda x : pd.value_counts(x))\n",
    "purshase_stats_ct.fillna(0).T.plot.area()"
   ]
  },
  {
   "cell_type": "code",
   "execution_count": 43,
   "metadata": {},
   "outputs": [
    {
     "data": {
      "text/plain": [
       "<matplotlib.axes._subplots.AxesSubplot at 0x1b7ef23bf48>"
      ]
     },
     "execution_count": 43,
     "metadata": {},
     "output_type": "execute_result"
    },
    {
     "data": {
      "image/png": "[encoded data removed]",
      "text/plain": [
       "<Figure size 432x288 with 1 Axes>"
      ]
     },
     "metadata": {
      "needs_background": "light"
     },
     "output_type": "display_data"
    }
   ],
   "source": [
    "# 可以逐行计算百分比\n",
    "purshase_stats_ct.fillna(0).T.apply(lambda x : x/x.sum(),axis = 1)\n",
    "purshase_stats_ct.fillna(0).T.apply(lambda x : x/x.sum(),axis = 1).plot.area()"
   ]
  },
  {
   "cell_type": "markdown",
   "metadata": {},
   "source": [
    "### 3.4.3 用户购买周期"
   ]
  },
  {
   "cell_type": "code",
   "execution_count": null,
   "metadata": {},
   "outputs": [],
   "source": [
    "# 用户订单周期\n",
    "order_diff = grouped_Customer.apply(lambda x: x.SHOP_DATETIME - x.SHOP_DATETIME.shift())"
   ]
  },
  {
   "cell_type": "code",
   "execution_count": null,
   "metadata": {},
   "outputs": [],
   "source": [
    "order_diff"
   ]
  },
  {
   "cell_type": "code",
   "execution_count": null,
   "metadata": {},
   "outputs": [],
   "source": [
    "(order_diff/np.timedelta64(1,'D')).hist(bins=20)"
   ]
  },
  {
   "cell_type": "code",
   "execution_count": null,
   "metadata": {},
   "outputs": [],
   "source": [
    "#查看生命周期描述统计\n",
    "(user_life['max'] - user_life['min']).describe()"
   ]
  },
  {
   "cell_type": "code",
   "execution_count": null,
   "metadata": {},
   "outputs": [],
   "source": [
    "((user_life['max'] - user_life['min'])/np.timedelta64(1,'D')).hist(bins = 40)"
   ]
  },
  {
   "cell_type": "markdown",
   "metadata": {},
   "source": [
    "### 3.4.3 用户复购率和留存率"
   ]
  },
  {
   "cell_type": "code",
   "execution_count": null,
   "metadata": {},
   "outputs": [],
   "source": [
    "purchase_r = pivoted_counts.applymap(lambda x : 1 if x > 1 else np.NAN if x == 0 else 0 )"
   ]
  },
  {
   "cell_type": "code",
   "execution_count": null,
   "metadata": {},
   "outputs": [],
   "source": [
    "purchase_r"
   ]
  },
  {
   "cell_type": "code",
   "execution_count": null,
   "metadata": {},
   "outputs": [],
   "source": [
    "(purchase_r.sum() / purchase_r.count()).plot(figsize = (10,4))"
   ]
  },
  {
   "cell_type": "markdown",
   "metadata": {},
   "source": [
    "### 回购率"
   ]
  },
  {
   "cell_type": "code",
   "execution_count": null,
   "metadata": {},
   "outputs": [],
   "source": [
    "def purchase_back(data):\n",
    "    status = []\n",
    "    for i in range(17):\n",
    "        if data[i] ==1:\n",
    "            if data[i+1] == 1 :\n",
    "                status.append(1)\n",
    "            if data[i+1] == 0 :\n",
    "                status.append(0)\n",
    "        else:\n",
    "            status.append(np.NAN)\n",
    "    status.append(np.NAN)\n",
    "    return status\n",
    "\n",
    "purchase_b = df_purchase.apply(purchase_back,axis=1)\n",
    "purchase_b = pd.DataFrame(purchase_b)[0].apply(pd.Series)\n",
    "#purchase_b.columns = pivoted_counts.columns"
   ]
  },
  {
   "cell_type": "code",
   "execution_count": null,
   "metadata": {},
   "outputs": [],
   "source": [
    "(purchase_b.sum()/purchase_b.count()).plot(figsize = (10,4))"
   ]
  },
  {
   "cell_type": "code",
   "execution_count": null,
   "metadata": {},
   "outputs": [],
   "source": []
  }
 ],
 "metadata": {
  "kernelspec": {
   "display_name": "Python 3",
   "language": "python",
   "name": "python3"
  },
  "language_info": {
   "codemirror_mode": {
    "name": "ipython",
    "version": 3
   },
   "file_extension": ".py",
   "mimetype": "text/x-python",
   "name": "python",
   "nbconvert_exporter": "python",
   "pygments_lexer": "ipython3",
   "version": "3.7.6"
  }
 },
 "nbformat": 4,
 "nbformat_minor": 4
}
