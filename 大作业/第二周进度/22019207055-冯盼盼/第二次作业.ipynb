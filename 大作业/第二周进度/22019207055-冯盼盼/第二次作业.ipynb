{
 "cells": [
  {
   "cell_type": "markdown",
   "metadata": {},
   "source": [
    "### 一、导入数据并处理数据"
   ]
  },
  {
   "cell_type": "markdown",
   "metadata": {},
   "source": [
    "##### 本文数据是超市的销售情况。两个表分别是销售总价表格和对应详细的销售情况表。首先导入数据，判断数据有无缺失值、重复值、异常值等情况。"
   ]
  },
  {
   "cell_type": "code",
   "execution_count": 3,
   "metadata": {},
   "outputs": [],
   "source": [
    "import pandas as pd \n",
    "import numpy as np\n",
    "import matplotlib.pyplot as plt\n",
    "import matplotlib\n",
    "from pandas import to_datetime"
   ]
  },
  {
   "cell_type": "code",
   "execution_count": 4,
   "metadata": {},
   "outputs": [],
   "source": [
    "data1=pd.read_csv('datastore1.csv',encoding=\"gb2312\")\n",
    "data2=pd.read_csv('datastore2.csv',encoding=\"gb2312\")"
   ]
  },
  {
   "cell_type": "code",
   "execution_count": 5,
   "metadata": {},
   "outputs": [
    {
     "data": {
      "text/plain": [
       "SHOP_DATETIME    0\n",
       "STORE_CODE       0\n",
       "POS_NO           0\n",
       "BASK_CODE        0\n",
       "BASK_SPEND       0\n",
       "dtype: int64"
      ]
     },
     "execution_count": 5,
     "metadata": {},
     "output_type": "execute_result"
    }
   ],
   "source": [
    "#判断有无缺失值\n",
    "data1.isnull().sum(axis=0)"
   ]
  },
  {
   "cell_type": "code",
   "execution_count": 6,
   "metadata": {},
   "outputs": [
    {
     "data": {
      "text/plain": [
       "SDATE              0\n",
       "STORE_CODE         0\n",
       "POSID              0\n",
       "BASK_CODE          0\n",
       "PROD_CODE          0\n",
       "ITEM_QUANTITY      0\n",
       "ITEM_SPEND         0\n",
       "NORMAL_PRICE       0\n",
       "DISCOUNT_TYPE      0\n",
       "DISCOUNT_AMOUNT    0\n",
       "dtype: int64"
      ]
     },
     "execution_count": 6,
     "metadata": {},
     "output_type": "execute_result"
    }
   ],
   "source": [
    "data2.isnull().sum(axis=0)"
   ]
  },
  {
   "cell_type": "code",
   "execution_count": 7,
   "metadata": {},
   "outputs": [
    {
     "data": {
      "text/html": [
       "<div>\n",
       "<style scoped>\n",
       "    .dataframe tbody tr th:only-of-type {\n",
       "        vertical-align: middle;\n",
       "    }\n",
       "\n",
       "    .dataframe tbody tr th {\n",
       "        vertical-align: top;\n",
       "    }\n",
       "\n",
       "    .dataframe thead th {\n",
       "        text-align: right;\n",
       "    }\n",
       "</style>\n",
       "<table border=\"1\" class=\"dataframe\">\n",
       "  <thead>\n",
       "    <tr style=\"text-align: right;\">\n",
       "      <th></th>\n",
       "      <th>POS_NO</th>\n",
       "      <th>BASK_CODE</th>\n",
       "      <th>BASK_SPEND</th>\n",
       "    </tr>\n",
       "  </thead>\n",
       "  <tbody>\n",
       "    <tr>\n",
       "      <td>count</td>\n",
       "      <td>571552.000000</td>\n",
       "      <td>571552.000000</td>\n",
       "      <td>571552.000000</td>\n",
       "    </tr>\n",
       "    <tr>\n",
       "      <td>mean</td>\n",
       "      <td>2.998429</td>\n",
       "      <td>167472.817102</td>\n",
       "      <td>38.973310</td>\n",
       "    </tr>\n",
       "    <tr>\n",
       "      <td>std</td>\n",
       "      <td>2.516065</td>\n",
       "      <td>87263.199857</td>\n",
       "      <td>209.038276</td>\n",
       "    </tr>\n",
       "    <tr>\n",
       "      <td>min</td>\n",
       "      <td>1.000000</td>\n",
       "      <td>961.000000</td>\n",
       "      <td>-35940.000000</td>\n",
       "    </tr>\n",
       "    <tr>\n",
       "      <td>25%</td>\n",
       "      <td>1.000000</td>\n",
       "      <td>90533.750000</td>\n",
       "      <td>9.000000</td>\n",
       "    </tr>\n",
       "    <tr>\n",
       "      <td>50%</td>\n",
       "      <td>2.000000</td>\n",
       "      <td>177603.500000</td>\n",
       "      <td>19.900000</td>\n",
       "    </tr>\n",
       "    <tr>\n",
       "      <td>75%</td>\n",
       "      <td>3.000000</td>\n",
       "      <td>238816.750000</td>\n",
       "      <td>44.700000</td>\n",
       "    </tr>\n",
       "    <tr>\n",
       "      <td>max</td>\n",
       "      <td>20.000000</td>\n",
       "      <td>323914.000000</td>\n",
       "      <td>79920.000000</td>\n",
       "    </tr>\n",
       "  </tbody>\n",
       "</table>\n",
       "</div>"
      ],
      "text/plain": [
       "              POS_NO      BASK_CODE     BASK_SPEND\n",
       "count  571552.000000  571552.000000  571552.000000\n",
       "mean        2.998429  167472.817102      38.973310\n",
       "std         2.516065   87263.199857     209.038276\n",
       "min         1.000000     961.000000  -35940.000000\n",
       "25%         1.000000   90533.750000       9.000000\n",
       "50%         2.000000  177603.500000      19.900000\n",
       "75%         3.000000  238816.750000      44.700000\n",
       "max        20.000000  323914.000000   79920.000000"
      ]
     },
     "execution_count": 7,
     "metadata": {},
     "output_type": "execute_result"
    }
   ],
   "source": [
    "data1.describe()"
   ]
  },
  {
   "cell_type": "code",
   "execution_count": 8,
   "metadata": {},
   "outputs": [
    {
     "data": {
      "text/html": [
       "<div>\n",
       "<style scoped>\n",
       "    .dataframe tbody tr th:only-of-type {\n",
       "        vertical-align: middle;\n",
       "    }\n",
       "\n",
       "    .dataframe tbody tr th {\n",
       "        vertical-align: top;\n",
       "    }\n",
       "\n",
       "    .dataframe thead th {\n",
       "        text-align: right;\n",
       "    }\n",
       "</style>\n",
       "<table border=\"1\" class=\"dataframe\">\n",
       "  <thead>\n",
       "    <tr style=\"text-align: right;\">\n",
       "      <th></th>\n",
       "      <th>POS_NO</th>\n",
       "      <th>BASK_CODE</th>\n",
       "      <th>BASK_SPEND</th>\n",
       "    </tr>\n",
       "  </thead>\n",
       "  <tbody>\n",
       "    <tr>\n",
       "      <td>count</td>\n",
       "      <td>569797.000000</td>\n",
       "      <td>569797.000000</td>\n",
       "      <td>569797.000000</td>\n",
       "    </tr>\n",
       "    <tr>\n",
       "      <td>mean</td>\n",
       "      <td>2.994330</td>\n",
       "      <td>167572.136898</td>\n",
       "      <td>39.583197</td>\n",
       "    </tr>\n",
       "    <tr>\n",
       "      <td>std</td>\n",
       "      <td>2.502507</td>\n",
       "      <td>87224.915886</td>\n",
       "      <td>196.158166</td>\n",
       "    </tr>\n",
       "    <tr>\n",
       "      <td>min</td>\n",
       "      <td>1.000000</td>\n",
       "      <td>961.000000</td>\n",
       "      <td>0.010000</td>\n",
       "    </tr>\n",
       "    <tr>\n",
       "      <td>25%</td>\n",
       "      <td>1.000000</td>\n",
       "      <td>90673.000000</td>\n",
       "      <td>9.000000</td>\n",
       "    </tr>\n",
       "    <tr>\n",
       "      <td>50%</td>\n",
       "      <td>2.000000</td>\n",
       "      <td>177692.000000</td>\n",
       "      <td>20.000000</td>\n",
       "    </tr>\n",
       "    <tr>\n",
       "      <td>75%</td>\n",
       "      <td>3.000000</td>\n",
       "      <td>238933.000000</td>\n",
       "      <td>44.800000</td>\n",
       "    </tr>\n",
       "    <tr>\n",
       "      <td>max</td>\n",
       "      <td>20.000000</td>\n",
       "      <td>323914.000000</td>\n",
       "      <td>79920.000000</td>\n",
       "    </tr>\n",
       "  </tbody>\n",
       "</table>\n",
       "</div>"
      ],
      "text/plain": [
       "              POS_NO      BASK_CODE     BASK_SPEND\n",
       "count  569797.000000  569797.000000  569797.000000\n",
       "mean        2.994330  167572.136898      39.583197\n",
       "std         2.502507   87224.915886     196.158166\n",
       "min         1.000000     961.000000       0.010000\n",
       "25%         1.000000   90673.000000       9.000000\n",
       "50%         2.000000  177692.000000      20.000000\n",
       "75%         3.000000  238933.000000      44.800000\n",
       "max        20.000000  323914.000000   79920.000000"
      ]
     },
     "execution_count": 8,
     "metadata": {},
     "output_type": "execute_result"
    }
   ],
   "source": [
    "pop=data1.loc[:,'BASK_SPEND'] > 0\n",
    "data1= data1.loc[pop,:]\n",
    "data1.describe()"
   ]
  },
  {
   "cell_type": "code",
   "execution_count": 9,
   "metadata": {},
   "outputs": [
    {
     "data": {
      "text/html": [
       "<div>\n",
       "<style scoped>\n",
       "    .dataframe tbody tr th:only-of-type {\n",
       "        vertical-align: middle;\n",
       "    }\n",
       "\n",
       "    .dataframe tbody tr th {\n",
       "        vertical-align: top;\n",
       "    }\n",
       "\n",
       "    .dataframe thead th {\n",
       "        text-align: right;\n",
       "    }\n",
       "</style>\n",
       "<table border=\"1\" class=\"dataframe\">\n",
       "  <thead>\n",
       "    <tr style=\"text-align: right;\">\n",
       "      <th></th>\n",
       "      <th>POSID</th>\n",
       "      <th>BASK_CODE</th>\n",
       "      <th>PROD_CODE</th>\n",
       "      <th>ITEM_QUANTITY</th>\n",
       "      <th>ITEM_SPEND</th>\n",
       "      <th>NORMAL_PRICE</th>\n",
       "      <th>DISCOUNT_AMOUNT</th>\n",
       "    </tr>\n",
       "  </thead>\n",
       "  <tbody>\n",
       "    <tr>\n",
       "      <td>count</td>\n",
       "      <td>1.732761e+06</td>\n",
       "      <td>1.732761e+06</td>\n",
       "      <td>1.732761e+06</td>\n",
       "      <td>1.732761e+06</td>\n",
       "      <td>1.732761e+06</td>\n",
       "      <td>1.732761e+06</td>\n",
       "      <td>1.732761e+06</td>\n",
       "    </tr>\n",
       "    <tr>\n",
       "      <td>mean</td>\n",
       "      <td>2.994959e+00</td>\n",
       "      <td>1.659824e+05</td>\n",
       "      <td>1.144861e+05</td>\n",
       "      <td>1.436702e+00</td>\n",
       "      <td>1.285536e+01</td>\n",
       "      <td>1.424412e+01</td>\n",
       "      <td>-1.624232e+00</td>\n",
       "    </tr>\n",
       "    <tr>\n",
       "      <td>std</td>\n",
       "      <td>2.470286e+00</td>\n",
       "      <td>8.583102e+04</td>\n",
       "      <td>8.161988e+04</td>\n",
       "      <td>7.015504e+00</td>\n",
       "      <td>1.022148e+02</td>\n",
       "      <td>2.403937e+01</td>\n",
       "      <td>5.160490e+01</td>\n",
       "    </tr>\n",
       "    <tr>\n",
       "      <td>min</td>\n",
       "      <td>1.000000e+00</td>\n",
       "      <td>9.610000e+02</td>\n",
       "      <td>1.900000e+01</td>\n",
       "      <td>-6.000000e+02</td>\n",
       "      <td>-3.594000e+04</td>\n",
       "      <td>5.000000e-01</td>\n",
       "      <td>-5.760000e+04</td>\n",
       "    </tr>\n",
       "    <tr>\n",
       "      <td>25%</td>\n",
       "      <td>1.000000e+00</td>\n",
       "      <td>8.995200e+04</td>\n",
       "      <td>2.183500e+04</td>\n",
       "      <td>1.000000e+00</td>\n",
       "      <td>3.800000e+00</td>\n",
       "      <td>3.800000e+00</td>\n",
       "      <td>-1.000000e+00</td>\n",
       "    </tr>\n",
       "    <tr>\n",
       "      <td>50%</td>\n",
       "      <td>2.000000e+00</td>\n",
       "      <td>1.758280e+05</td>\n",
       "      <td>1.233210e+05</td>\n",
       "      <td>1.000000e+00</td>\n",
       "      <td>7.000000e+00</td>\n",
       "      <td>7.800000e+00</td>\n",
       "      <td>0.000000e+00</td>\n",
       "    </tr>\n",
       "    <tr>\n",
       "      <td>75%</td>\n",
       "      <td>3.000000e+00</td>\n",
       "      <td>2.229530e+05</td>\n",
       "      <td>1.959930e+05</td>\n",
       "      <td>1.000000e+00</td>\n",
       "      <td>1.200000e+01</td>\n",
       "      <td>1.500000e+01</td>\n",
       "      <td>0.000000e+00</td>\n",
       "    </tr>\n",
       "    <tr>\n",
       "      <td>max</td>\n",
       "      <td>2.000000e+01</td>\n",
       "      <td>3.239140e+05</td>\n",
       "      <td>2.250470e+05</td>\n",
       "      <td>4.020000e+03</td>\n",
       "      <td>6.912000e+04</td>\n",
       "      <td>1.980000e+03</td>\n",
       "      <td>9.300000e+02</td>\n",
       "    </tr>\n",
       "  </tbody>\n",
       "</table>\n",
       "</div>"
      ],
      "text/plain": [
       "              POSID     BASK_CODE     PROD_CODE  ITEM_QUANTITY    ITEM_SPEND  \\\n",
       "count  1.732761e+06  1.732761e+06  1.732761e+06   1.732761e+06  1.732761e+06   \n",
       "mean   2.994959e+00  1.659824e+05  1.144861e+05   1.436702e+00  1.285536e+01   \n",
       "std    2.470286e+00  8.583102e+04  8.161988e+04   7.015504e+00  1.022148e+02   \n",
       "min    1.000000e+00  9.610000e+02  1.900000e+01  -6.000000e+02 -3.594000e+04   \n",
       "25%    1.000000e+00  8.995200e+04  2.183500e+04   1.000000e+00  3.800000e+00   \n",
       "50%    2.000000e+00  1.758280e+05  1.233210e+05   1.000000e+00  7.000000e+00   \n",
       "75%    3.000000e+00  2.229530e+05  1.959930e+05   1.000000e+00  1.200000e+01   \n",
       "max    2.000000e+01  3.239140e+05  2.250470e+05   4.020000e+03  6.912000e+04   \n",
       "\n",
       "       NORMAL_PRICE  DISCOUNT_AMOUNT  \n",
       "count  1.732761e+06     1.732761e+06  \n",
       "mean   1.424412e+01    -1.624232e+00  \n",
       "std    2.403937e+01     5.160490e+01  \n",
       "min    5.000000e-01    -5.760000e+04  \n",
       "25%    3.800000e+00    -1.000000e+00  \n",
       "50%    7.800000e+00     0.000000e+00  \n",
       "75%    1.500000e+01     0.000000e+00  \n",
       "max    1.980000e+03     9.300000e+02  "
      ]
     },
     "execution_count": 9,
     "metadata": {},
     "output_type": "execute_result"
    }
   ],
   "source": [
    "data2.describe()"
   ]
  },
  {
   "cell_type": "code",
   "execution_count": 10,
   "metadata": {},
   "outputs": [
    {
     "data": {
      "text/html": [
       "<div>\n",
       "<style scoped>\n",
       "    .dataframe tbody tr th:only-of-type {\n",
       "        vertical-align: middle;\n",
       "    }\n",
       "\n",
       "    .dataframe tbody tr th {\n",
       "        vertical-align: top;\n",
       "    }\n",
       "\n",
       "    .dataframe thead th {\n",
       "        text-align: right;\n",
       "    }\n",
       "</style>\n",
       "<table border=\"1\" class=\"dataframe\">\n",
       "  <thead>\n",
       "    <tr style=\"text-align: right;\">\n",
       "      <th></th>\n",
       "      <th>POSID</th>\n",
       "      <th>BASK_CODE</th>\n",
       "      <th>PROD_CODE</th>\n",
       "      <th>ITEM_QUANTITY</th>\n",
       "      <th>ITEM_SPEND</th>\n",
       "      <th>NORMAL_PRICE</th>\n",
       "      <th>DISCOUNT_AMOUNT</th>\n",
       "    </tr>\n",
       "  </thead>\n",
       "  <tbody>\n",
       "    <tr>\n",
       "      <td>count</td>\n",
       "      <td>1.730099e+06</td>\n",
       "      <td>1.730099e+06</td>\n",
       "      <td>1.730099e+06</td>\n",
       "      <td>1.730099e+06</td>\n",
       "      <td>1.730099e+06</td>\n",
       "      <td>1.730099e+06</td>\n",
       "      <td>1.730099e+06</td>\n",
       "    </tr>\n",
       "    <tr>\n",
       "      <td>mean</td>\n",
       "      <td>2.993406e+00</td>\n",
       "      <td>1.660229e+05</td>\n",
       "      <td>1.144745e+05</td>\n",
       "      <td>1.444062e+00</td>\n",
       "      <td>1.303645e+01</td>\n",
       "      <td>1.420607e+01</td>\n",
       "      <td>-1.611119e+00</td>\n",
       "    </tr>\n",
       "    <tr>\n",
       "      <td>std</td>\n",
       "      <td>2.465070e+00</td>\n",
       "      <td>8.581586e+04</td>\n",
       "      <td>8.160804e+04</td>\n",
       "      <td>6.975110e+00</td>\n",
       "      <td>9.334512e+01</td>\n",
       "      <td>2.392655e+01</td>\n",
       "      <td>5.146345e+01</td>\n",
       "    </tr>\n",
       "    <tr>\n",
       "      <td>min</td>\n",
       "      <td>1.000000e+00</td>\n",
       "      <td>9.610000e+02</td>\n",
       "      <td>1.900000e+01</td>\n",
       "      <td>1.000000e-02</td>\n",
       "      <td>1.000000e-02</td>\n",
       "      <td>5.000000e-01</td>\n",
       "      <td>-5.760000e+04</td>\n",
       "    </tr>\n",
       "    <tr>\n",
       "      <td>25%</td>\n",
       "      <td>1.000000e+00</td>\n",
       "      <td>8.999650e+04</td>\n",
       "      <td>2.183500e+04</td>\n",
       "      <td>1.000000e+00</td>\n",
       "      <td>3.800000e+00</td>\n",
       "      <td>3.800000e+00</td>\n",
       "      <td>-1.000000e+00</td>\n",
       "    </tr>\n",
       "    <tr>\n",
       "      <td>50%</td>\n",
       "      <td>2.000000e+00</td>\n",
       "      <td>1.758750e+05</td>\n",
       "      <td>1.233210e+05</td>\n",
       "      <td>1.000000e+00</td>\n",
       "      <td>7.020000e+00</td>\n",
       "      <td>7.700000e+00</td>\n",
       "      <td>0.000000e+00</td>\n",
       "    </tr>\n",
       "    <tr>\n",
       "      <td>75%</td>\n",
       "      <td>3.000000e+00</td>\n",
       "      <td>2.229690e+05</td>\n",
       "      <td>1.959930e+05</td>\n",
       "      <td>1.000000e+00</td>\n",
       "      <td>1.203000e+01</td>\n",
       "      <td>1.500000e+01</td>\n",
       "      <td>0.000000e+00</td>\n",
       "    </tr>\n",
       "    <tr>\n",
       "      <td>max</td>\n",
       "      <td>2.000000e+01</td>\n",
       "      <td>3.239140e+05</td>\n",
       "      <td>2.250470e+05</td>\n",
       "      <td>4.020000e+03</td>\n",
       "      <td>6.912000e+04</td>\n",
       "      <td>1.980000e+03</td>\n",
       "      <td>2.264000e+02</td>\n",
       "    </tr>\n",
       "  </tbody>\n",
       "</table>\n",
       "</div>"
      ],
      "text/plain": [
       "              POSID     BASK_CODE     PROD_CODE  ITEM_QUANTITY    ITEM_SPEND  \\\n",
       "count  1.730099e+06  1.730099e+06  1.730099e+06   1.730099e+06  1.730099e+06   \n",
       "mean   2.993406e+00  1.660229e+05  1.144745e+05   1.444062e+00  1.303645e+01   \n",
       "std    2.465070e+00  8.581586e+04  8.160804e+04   6.975110e+00  9.334512e+01   \n",
       "min    1.000000e+00  9.610000e+02  1.900000e+01   1.000000e-02  1.000000e-02   \n",
       "25%    1.000000e+00  8.999650e+04  2.183500e+04   1.000000e+00  3.800000e+00   \n",
       "50%    2.000000e+00  1.758750e+05  1.233210e+05   1.000000e+00  7.020000e+00   \n",
       "75%    3.000000e+00  2.229690e+05  1.959930e+05   1.000000e+00  1.203000e+01   \n",
       "max    2.000000e+01  3.239140e+05  2.250470e+05   4.020000e+03  6.912000e+04   \n",
       "\n",
       "       NORMAL_PRICE  DISCOUNT_AMOUNT  \n",
       "count  1.730099e+06     1.730099e+06  \n",
       "mean   1.420607e+01    -1.611119e+00  \n",
       "std    2.392655e+01     5.146345e+01  \n",
       "min    5.000000e-01    -5.760000e+04  \n",
       "25%    3.800000e+00    -1.000000e+00  \n",
       "50%    7.700000e+00     0.000000e+00  \n",
       "75%    1.500000e+01     0.000000e+00  \n",
       "max    1.980000e+03     2.264000e+02  "
      ]
     },
     "execution_count": 10,
     "metadata": {},
     "output_type": "execute_result"
    }
   ],
   "source": [
    "pop1=data2.loc[:,'ITEM_SPEND'] >0\n",
    "data2= data2.loc[pop1,:]\n",
    "pop2=data2.loc[:,'ITEM_QUANTITY'] >0\n",
    "data2=data2.loc[pop2,:]\n",
    "data2.describe()"
   ]
  },
  {
   "cell_type": "code",
   "execution_count": 11,
   "metadata": {},
   "outputs": [
    {
     "data": {
      "text/plain": [
       "0"
      ]
     },
     "execution_count": 11,
     "metadata": {},
     "output_type": "execute_result"
    }
   ],
   "source": [
    "data1.duplicated().sum()"
   ]
  },
  {
   "cell_type": "code",
   "execution_count": 12,
   "metadata": {},
   "outputs": [
    {
     "data": {
      "text/plain": [
       "212634"
      ]
     },
     "execution_count": 12,
     "metadata": {},
     "output_type": "execute_result"
    }
   ],
   "source": [
    "data2.duplicated().sum()#有重复是因为购买了同一物品购买多次"
   ]
  },
  {
   "cell_type": "markdown",
   "metadata": {},
   "source": [
    "### 二、对数据进行分析"
   ]
  },
  {
   "cell_type": "markdown",
   "metadata": {},
   "source": [
    "##### 为方便分析数据，将两个表的相同概念的列名统一"
   ]
  },
  {
   "cell_type": "code",
   "execution_count": 13,
   "metadata": {},
   "outputs": [],
   "source": [
    "data1.columns=['SDATE','STORE_CODE','POSID','BASK_CODE','BASK_SPEND']\n",
    "data2.columns=['SDATE','STORE_CODE','POSID','BASK_CODE','PROD_CODE','ITEM_QUANTITY','ITEM_SPEND','NORMAL_PRICE','DISCOUNT_TYPE','DISCOUNT_AMOUNT']"
   ]
  },
  {
   "cell_type": "markdown",
   "metadata": {},
   "source": [
    "##### 1、首先判断共有多少个商店"
   ]
  },
  {
   "cell_type": "code",
   "execution_count": 14,
   "metadata": {},
   "outputs": [
    {
     "data": {
      "text/plain": [
       "24"
      ]
     },
     "execution_count": 14,
     "metadata": {},
     "output_type": "execute_result"
    }
   ],
   "source": [
    "store_number=data1.drop_duplicates(subset=['STORE_CODE'])\n",
    "store_number.shape[0]"
   ]
  },
  {
   "cell_type": "code",
   "execution_count": 15,
   "metadata": {},
   "outputs": [
    {
     "data": {
      "text/plain": [
       "24"
      ]
     },
     "execution_count": 15,
     "metadata": {},
     "output_type": "execute_result"
    }
   ],
   "source": [
    "store_number=data2.drop_duplicates(subset=['STORE_CODE'])\n",
    "store_number.shape[0]"
   ]
  },
  {
   "cell_type": "markdown",
   "metadata": {},
   "source": [
    "##### 结论：通过对两个表分析，可以得知超市共有24家"
   ]
  },
  {
   "cell_type": "markdown",
   "metadata": {},
   "source": [
    "##### 2、计算从6月1号至7月5号各个店的销售次数情况（不等于销售金额）"
   ]
  },
  {
   "cell_type": "code",
   "execution_count": 16,
   "metadata": {},
   "outputs": [
    {
     "data": {
      "text/plain": [
       "A001    66507\n",
       "D002    62949\n",
       "D007    37503\n",
       "A008    36462\n",
       "A013    30064\n",
       "A006    28470\n",
       "A012    24946\n",
       "A009    21809\n",
       "D004    21362\n",
       "D008    21029\n",
       "A021    20555\n",
       "A010    19543\n",
       "D006    18572\n",
       "A016    18279\n",
       "A007    17954\n",
       "A019    16985\n",
       "D009    15827\n",
       "A018    15731\n",
       "D005    15261\n",
       "A022    15260\n",
       "A004    13429\n",
       "A017    12459\n",
       "D010    11070\n",
       "D003     7771\n",
       "Name: STORE_CODE, dtype: int64"
      ]
     },
     "execution_count": 16,
     "metadata": {},
     "output_type": "execute_result"
    }
   ],
   "source": [
    "a=data1['STORE_CODE'].value_counts()\n",
    "a"
   ]
  },
  {
   "cell_type": "code",
   "execution_count": 18,
   "metadata": {},
   "outputs": [
    {
     "data": {
      "image/png": "[encoded data removed]",
      "text/plain": [
       "<Figure size 1368x720 with 1 Axes>"
      ]
     },
     "metadata": {
      "needs_background": "light"
     },
     "output_type": "display_data"
    }
   ],
   "source": [
    "plt.bar(a.index, a.values)\n",
    "plt.rcParams['figure.figsize'] = (19.0, 10.0)\n",
    "plt.show()"
   ]
  },
  {
   "cell_type": "markdown",
   "metadata": {},
   "source": [
    "##### 从上图可知各店的销售次数情况，销售次数多可能与超市选址有关。"
   ]
  },
  {
   "cell_type": "markdown",
   "metadata": {},
   "source": [
    "##### 3、计算从6月1号至7月5号各个店的销售金额"
   ]
  },
  {
   "cell_type": "code",
   "execution_count": 19,
   "metadata": {},
   "outputs": [
    {
     "data": {
      "text/html": [
       "<div>\n",
       "<style scoped>\n",
       "    .dataframe tbody tr th:only-of-type {\n",
       "        vertical-align: middle;\n",
       "    }\n",
       "\n",
       "    .dataframe tbody tr th {\n",
       "        vertical-align: top;\n",
       "    }\n",
       "\n",
       "    .dataframe thead th {\n",
       "        text-align: right;\n",
       "    }\n",
       "</style>\n",
       "<table border=\"1\" class=\"dataframe\">\n",
       "  <thead>\n",
       "    <tr style=\"text-align: right;\">\n",
       "      <th></th>\n",
       "      <th>SDATE</th>\n",
       "      <th>STORE_CODE</th>\n",
       "      <th>POSID</th>\n",
       "      <th>BASK_CODE</th>\n",
       "      <th>BASK_SPEND</th>\n",
       "    </tr>\n",
       "  </thead>\n",
       "  <tbody>\n",
       "    <tr>\n",
       "      <td>0</td>\n",
       "      <td>2018-06-01</td>\n",
       "      <td>D007</td>\n",
       "      <td>3</td>\n",
       "      <td>250458</td>\n",
       "      <td>8.0</td>\n",
       "    </tr>\n",
       "    <tr>\n",
       "      <td>1</td>\n",
       "      <td>2018-06-01</td>\n",
       "      <td>D007</td>\n",
       "      <td>3</td>\n",
       "      <td>250200</td>\n",
       "      <td>32.7</td>\n",
       "    </tr>\n",
       "    <tr>\n",
       "      <td>2</td>\n",
       "      <td>2018-06-01</td>\n",
       "      <td>D007</td>\n",
       "      <td>1</td>\n",
       "      <td>161068</td>\n",
       "      <td>16.8</td>\n",
       "    </tr>\n",
       "    <tr>\n",
       "      <td>3</td>\n",
       "      <td>2018-06-01</td>\n",
       "      <td>D007</td>\n",
       "      <td>8</td>\n",
       "      <td>5325</td>\n",
       "      <td>30.4</td>\n",
       "    </tr>\n",
       "    <tr>\n",
       "      <td>4</td>\n",
       "      <td>2018-06-01</td>\n",
       "      <td>D007</td>\n",
       "      <td>8</td>\n",
       "      <td>5361</td>\n",
       "      <td>191.3</td>\n",
       "    </tr>\n",
       "  </tbody>\n",
       "</table>\n",
       "</div>"
      ],
      "text/plain": [
       "       SDATE STORE_CODE  POSID  BASK_CODE  BASK_SPEND\n",
       "0 2018-06-01       D007      3     250458         8.0\n",
       "1 2018-06-01       D007      3     250200        32.7\n",
       "2 2018-06-01       D007      1     161068        16.8\n",
       "3 2018-06-01       D007      8       5325        30.4\n",
       "4 2018-06-01       D007      8       5361       191.3"
      ]
     },
     "execution_count": 19,
     "metadata": {},
     "output_type": "execute_result"
    }
   ],
   "source": [
    "from pandas import to_datetime\n",
    "#时间转化\n",
    "groupdata1=data1\n",
    "groupdata1.SDATE=to_datetime(groupdata1.SDATE,format=\"%Y/%m/%d\")\n",
    "groupdata1.head()"
   ]
  },
  {
   "cell_type": "code",
   "execution_count": 20,
   "metadata": {},
   "outputs": [],
   "source": [
    "groupdata1.sort_values(by='SDATE', inplace=True)"
   ]
  },
  {
   "cell_type": "code",
   "execution_count": 21,
   "metadata": {},
   "outputs": [
    {
     "data": {
      "text/plain": [
       "<pandas.core.groupby.generic.DataFrameGroupBy object at 0x000001AA6A4A8B08>"
      ]
     },
     "execution_count": 21,
     "metadata": {},
     "output_type": "execute_result"
    }
   ],
   "source": [
    "gb2 = groupdata1.groupby(groupdata1.STORE_CODE)\n",
    "gb2"
   ]
  },
  {
   "cell_type": "code",
   "execution_count": 22,
   "metadata": {},
   "outputs": [
    {
     "data": {
      "text/html": [
       "<div>\n",
       "<style scoped>\n",
       "    .dataframe tbody tr th:only-of-type {\n",
       "        vertical-align: middle;\n",
       "    }\n",
       "\n",
       "    .dataframe tbody tr th {\n",
       "        vertical-align: top;\n",
       "    }\n",
       "\n",
       "    .dataframe thead th {\n",
       "        text-align: right;\n",
       "    }\n",
       "</style>\n",
       "<table border=\"1\" class=\"dataframe\">\n",
       "  <thead>\n",
       "    <tr style=\"text-align: right;\">\n",
       "      <th></th>\n",
       "      <th>POSID</th>\n",
       "      <th>BASK_CODE</th>\n",
       "      <th>BASK_SPEND</th>\n",
       "    </tr>\n",
       "    <tr>\n",
       "      <th>STORE_CODE</th>\n",
       "      <th></th>\n",
       "      <th></th>\n",
       "      <th></th>\n",
       "    </tr>\n",
       "  </thead>\n",
       "  <tbody>\n",
       "    <tr>\n",
       "      <td>A001</td>\n",
       "      <td>362297</td>\n",
       "      <td>11569109746</td>\n",
       "      <td>3.478348e+06</td>\n",
       "    </tr>\n",
       "    <tr>\n",
       "      <td>A004</td>\n",
       "      <td>27594</td>\n",
       "      <td>1522658556</td>\n",
       "      <td>5.156631e+05</td>\n",
       "    </tr>\n",
       "    <tr>\n",
       "      <td>A006</td>\n",
       "      <td>65559</td>\n",
       "      <td>8042653934</td>\n",
       "      <td>9.439233e+05</td>\n",
       "    </tr>\n",
       "    <tr>\n",
       "      <td>A007</td>\n",
       "      <td>36558</td>\n",
       "      <td>2042843270</td>\n",
       "      <td>6.938853e+05</td>\n",
       "    </tr>\n",
       "    <tr>\n",
       "      <td>A008</td>\n",
       "      <td>93968</td>\n",
       "      <td>7748221557</td>\n",
       "      <td>1.324641e+06</td>\n",
       "    </tr>\n",
       "  </tbody>\n",
       "</table>\n",
       "</div>"
      ],
      "text/plain": [
       "             POSID    BASK_CODE    BASK_SPEND\n",
       "STORE_CODE                                   \n",
       "A001        362297  11569109746  3.478348e+06\n",
       "A004         27594   1522658556  5.156631e+05\n",
       "A006         65559   8042653934  9.439233e+05\n",
       "A007         36558   2042843270  6.938853e+05\n",
       "A008         93968   7748221557  1.324641e+06"
      ]
     },
     "execution_count": 22,
     "metadata": {},
     "output_type": "execute_result"
    }
   ],
   "source": [
    "store_data1 = gb2.sum()\n",
    "store_data1.head()"
   ]
  },
  {
   "cell_type": "code",
   "execution_count": 23,
   "metadata": {},
   "outputs": [
    {
     "data": {
      "text/html": [
       "<div>\n",
       "<style scoped>\n",
       "    .dataframe tbody tr th:only-of-type {\n",
       "        vertical-align: middle;\n",
       "    }\n",
       "\n",
       "    .dataframe tbody tr th {\n",
       "        vertical-align: top;\n",
       "    }\n",
       "\n",
       "    .dataframe thead th {\n",
       "        text-align: right;\n",
       "    }\n",
       "</style>\n",
       "<table border=\"1\" class=\"dataframe\">\n",
       "  <thead>\n",
       "    <tr style=\"text-align: right;\">\n",
       "      <th></th>\n",
       "      <th>POSID</th>\n",
       "      <th>BASK_CODE</th>\n",
       "      <th>BASK_SPEND</th>\n",
       "    </tr>\n",
       "    <tr>\n",
       "      <th>STORE_CODE</th>\n",
       "      <th></th>\n",
       "      <th></th>\n",
       "      <th></th>\n",
       "    </tr>\n",
       "  </thead>\n",
       "  <tbody>\n",
       "    <tr>\n",
       "      <td>A001</td>\n",
       "      <td>362297</td>\n",
       "      <td>11569109746</td>\n",
       "      <td>3.478348e+06</td>\n",
       "    </tr>\n",
       "    <tr>\n",
       "      <td>D002</td>\n",
       "      <td>362228</td>\n",
       "      <td>8181180122</td>\n",
       "      <td>3.177385e+06</td>\n",
       "    </tr>\n",
       "    <tr>\n",
       "      <td>D007</td>\n",
       "      <td>90900</td>\n",
       "      <td>8030277804</td>\n",
       "      <td>1.382203e+06</td>\n",
       "    </tr>\n",
       "    <tr>\n",
       "      <td>A008</td>\n",
       "      <td>93968</td>\n",
       "      <td>7748221557</td>\n",
       "      <td>1.324641e+06</td>\n",
       "    </tr>\n",
       "    <tr>\n",
       "      <td>A013</td>\n",
       "      <td>110035</td>\n",
       "      <td>5133025011</td>\n",
       "      <td>1.126551e+06</td>\n",
       "    </tr>\n",
       "  </tbody>\n",
       "</table>\n",
       "</div>"
      ],
      "text/plain": [
       "             POSID    BASK_CODE    BASK_SPEND\n",
       "STORE_CODE                                   \n",
       "A001        362297  11569109746  3.478348e+06\n",
       "D002        362228   8181180122  3.177385e+06\n",
       "D007         90900   8030277804  1.382203e+06\n",
       "A008         93968   7748221557  1.324641e+06\n",
       "A013        110035   5133025011  1.126551e+06"
      ]
     },
     "execution_count": 23,
     "metadata": {},
     "output_type": "execute_result"
    }
   ],
   "source": [
    "store_data1.sort_values(\"BASK_SPEND\",ascending=False,inplace=True)\n",
    "store_data1.head()"
   ]
  },
  {
   "cell_type": "code",
   "execution_count": 24,
   "metadata": {},
   "outputs": [
    {
     "data": {
      "image/png": "[encoded data removed]",
      "text/plain": [
       "<Figure size 1368x720 with 1 Axes>"
      ]
     },
     "metadata": {
      "needs_background": "light"
     },
     "output_type": "display_data"
    }
   ],
   "source": [
    "from pylab import mpl\n",
    "#mpl.rcParams['font.sans-serif'] = ['SimHei']\n",
    "plt.bar(store_data1.index,store_data1['BASK_SPEND'])\n",
    "plt.title('DAY MONEY')\n",
    "plt.xlabel('time')\n",
    "plt.ylabel('money')\n",
    "plt.rcParams['figure.figsize'] = (19.0, 10.0)\n",
    "plt.show()"
   ]
  },
  {
   "cell_type": "markdown",
   "metadata": {},
   "source": [
    "##### 对比销售次数图和销售金额图，发现商店的排序基本对应，这说明销售次数高的销售金额也高"
   ]
  },
  {
   "cell_type": "markdown",
   "metadata": {},
   "source": [
    "##### 4、计算从6月1号至7月5号每天的销售金额排序"
   ]
  },
  {
   "cell_type": "code",
   "execution_count": 25,
   "metadata": {},
   "outputs": [
    {
     "data": {
      "text/plain": [
       "<pandas.core.groupby.generic.DataFrameGroupBy object at 0x000001AA00A21A48>"
      ]
     },
     "execution_count": 25,
     "metadata": {},
     "output_type": "execute_result"
    }
   ],
   "source": [
    "gb = groupdata1.groupby(groupdata1.SDATE)\n",
    "gb"
   ]
  },
  {
   "cell_type": "code",
   "execution_count": 26,
   "metadata": {},
   "outputs": [],
   "source": [
    "#对应时间相加\n",
    "day_data1 = gb.sum()"
   ]
  },
  {
   "cell_type": "code",
   "execution_count": 28,
   "metadata": {},
   "outputs": [
    {
     "data": {
      "image/png": "[encoded data removed]",
      "text/plain": [
       "<Figure size 1368x720 with 1 Axes>"
      ]
     },
     "metadata": {
      "needs_background": "light"
     },
     "output_type": "display_data"
    }
   ],
   "source": [
    "from pylab import mpl\n",
    "plt.plot(day_data1['BASK_SPEND'])\n",
    "plt.title('DAY MONEY')\n",
    "plt.xlabel('time')\n",
    "plt.ylabel('money')\n",
    "plt.rcParams['figure.figsize'] = (19.0, 10.0)\n",
    "plt.show()"
   ]
  },
  {
   "cell_type": "markdown",
   "metadata": {},
   "source": [
    "##### 从上图可以看出每天总金额的变化，在6月17日销售额达到最值，这天是中秋节，金额的巨幅提高可能与此有较大关系。"
   ]
  },
  {
   "cell_type": "markdown",
   "metadata": {},
   "source": [
    "##### 5、日售卖金额"
   ]
  },
  {
   "cell_type": "code",
   "execution_count": 29,
   "metadata": {},
   "outputs": [],
   "source": [
    "totalMoney = data1.loc[:,'BASK_SPEND'].sum()"
   ]
  },
  {
   "cell_type": "code",
   "execution_count": 30,
   "metadata": {},
   "outputs": [
    {
     "data": {
      "text/plain": [
       "35"
      ]
     },
     "execution_count": 30,
     "metadata": {},
     "output_type": "execute_result"
    }
   ],
   "source": [
    "DAYS= data1.drop_duplicates(subset=['SDATE'])\n",
    "totalI = DAYS.shape[0]\n",
    "totalI"
   ]
  },
  {
   "cell_type": "code",
   "execution_count": 31,
   "metadata": {},
   "outputs": [
    {
     "data": {
      "text/plain": [
       "644411.0"
      ]
     },
     "execution_count": 31,
     "metadata": {},
     "output_type": "execute_result"
    }
   ],
   "source": [
    "days_m=totalMoney//totalI\n",
    "days_m"
   ]
  },
  {
   "cell_type": "markdown",
   "metadata": {},
   "source": [
    "##### 6、次平均售卖金额"
   ]
  },
  {
   "cell_type": "code",
   "execution_count": 32,
   "metadata": {},
   "outputs": [
    {
     "data": {
      "text/plain": [
       "39.0"
      ]
     },
     "execution_count": 32,
     "metadata": {},
     "output_type": "execute_result"
    }
   ],
   "source": [
    "total_costnumber=data1.shape[0]\n",
    "day_cost=totalMoney//total_costnumber\n",
    "day_cost"
   ]
  },
  {
   "cell_type": "markdown",
   "metadata": {},
   "source": [
    "##### 7、分析销售次数最多和销售次数最少的两家商店金额的变化。"
   ]
  },
  {
   "cell_type": "code",
   "execution_count": 33,
   "metadata": {},
   "outputs": [],
   "source": [
    "date_store = data1.groupby(['STORE_CODE', 'SDATE']).size()"
   ]
  },
  {
   "cell_type": "code",
   "execution_count": 34,
   "metadata": {},
   "outputs": [],
   "source": [
    "date_A001 = date_store['A001']\n",
    "date_A001_dict= {'SDATE': date_A001.index,'COUNT': date_A001.values}\n",
    "date_A001 = pd.DataFrame(date_A001_dict)\n",
    "date_A001['SDATE'] = date_A001['SDATE'].apply(lambda x:x.strftime('%Y.%m.%d'))\n",
    "date_A001 = date_A001.set_index('SDATE')"
   ]
  },
  {
   "cell_type": "code",
   "execution_count": 35,
   "metadata": {},
   "outputs": [],
   "source": [
    "date_D003  = date_store['D003']\n",
    "date_D003_dict= {'SDATE': date_D003.index,'COUNT': date_D003.values}\n",
    "date_D003 = pd.DataFrame(date_D003_dict)\n",
    "date_D003['SDATE'] = date_D003['SDATE'].apply(lambda x:x.strftime('%Y.%m.%d'))\n",
    "date_D003 = date_D003.set_index('SDATE')"
   ]
  },
  {
   "cell_type": "code",
   "execution_count": 36,
   "metadata": {},
   "outputs": [
    {
     "data": {
      "image/png": "[encoded data removed]",
      "text/plain": [
       "<Figure size 1368x720 with 1 Axes>"
      ]
     },
     "metadata": {
      "needs_background": "light"
     },
     "output_type": "display_data"
    }
   ],
   "source": [
    "fig1, = plt.plot(date_A001.index, date_A001.values)\n",
    "plt.xticks(date_A001.index, rotation=90)\n",
    "fig2, = plt.plot(date_D003.index, date_D003.values)\n",
    "plt.legend([fig1, fig2], ['A001', 'D003'], bbox_to_anchor=(1.05, 0), loc=3, borderaxespad=0)\n",
    "plt.show()"
   ]
  },
  {
   "cell_type": "markdown",
   "metadata": {},
   "source": [
    "##### 从上图可以看出A001每天的销量依然有大变化，但是D003每天的销售额变化幅度非常小。"
   ]
  },
  {
   "cell_type": "markdown",
   "metadata": {},
   "source": [
    "##### 8、判断限量前10的商品之间有无相关性"
   ]
  },
  {
   "cell_type": "code",
   "execution_count": 37,
   "metadata": {},
   "outputs": [
    {
     "data": {
      "text/plain": [
       "<pandas.core.groupby.generic.DataFrameGroupBy object at 0x000001AA0043C248>"
      ]
     },
     "execution_count": 37,
     "metadata": {},
     "output_type": "execute_result"
    }
   ],
   "source": [
    "groupdata2=data2\n",
    "groupdata2.SDATE=to_datetime(groupdata2.SDATE,format=\"%Y/%m/%d\")\n",
    "groupdata2.sort_values(by='SDATE', inplace=True)\n",
    "gb2 = groupdata2.groupby(groupdata2.PROD_CODE)\n",
    "gb2"
   ]
  },
  {
   "cell_type": "code",
   "execution_count": 38,
   "metadata": {},
   "outputs": [
    {
     "data": {
      "text/html": [
       "<div>\n",
       "<style scoped>\n",
       "    .dataframe tbody tr th:only-of-type {\n",
       "        vertical-align: middle;\n",
       "    }\n",
       "\n",
       "    .dataframe tbody tr th {\n",
       "        vertical-align: top;\n",
       "    }\n",
       "\n",
       "    .dataframe thead th {\n",
       "        text-align: right;\n",
       "    }\n",
       "</style>\n",
       "<table border=\"1\" class=\"dataframe\">\n",
       "  <thead>\n",
       "    <tr style=\"text-align: right;\">\n",
       "      <th></th>\n",
       "      <th>POSID</th>\n",
       "      <th>BASK_CODE</th>\n",
       "      <th>ITEM_QUANTITY</th>\n",
       "      <th>ITEM_SPEND</th>\n",
       "      <th>NORMAL_PRICE</th>\n",
       "      <th>DISCOUNT_AMOUNT</th>\n",
       "    </tr>\n",
       "    <tr>\n",
       "      <th>PROD_CODE</th>\n",
       "      <th></th>\n",
       "      <th></th>\n",
       "      <th></th>\n",
       "      <th></th>\n",
       "      <th></th>\n",
       "      <th></th>\n",
       "    </tr>\n",
       "  </thead>\n",
       "  <tbody>\n",
       "    <tr>\n",
       "      <td>19</td>\n",
       "      <td>51</td>\n",
       "      <td>1432102</td>\n",
       "      <td>13.0</td>\n",
       "      <td>496.7</td>\n",
       "      <td>505.7</td>\n",
       "      <td>-9.0</td>\n",
       "    </tr>\n",
       "    <tr>\n",
       "      <td>31</td>\n",
       "      <td>422</td>\n",
       "      <td>24662773</td>\n",
       "      <td>141.0</td>\n",
       "      <td>5184.9</td>\n",
       "      <td>5922.0</td>\n",
       "      <td>-737.1</td>\n",
       "    </tr>\n",
       "    <tr>\n",
       "      <td>33</td>\n",
       "      <td>49</td>\n",
       "      <td>2487295</td>\n",
       "      <td>15.0</td>\n",
       "      <td>613.5</td>\n",
       "      <td>613.5</td>\n",
       "      <td>0.0</td>\n",
       "    </tr>\n",
       "    <tr>\n",
       "      <td>36</td>\n",
       "      <td>133</td>\n",
       "      <td>8874084</td>\n",
       "      <td>52.0</td>\n",
       "      <td>1341.6</td>\n",
       "      <td>1341.6</td>\n",
       "      <td>0.0</td>\n",
       "    </tr>\n",
       "    <tr>\n",
       "      <td>39</td>\n",
       "      <td>437</td>\n",
       "      <td>13774376</td>\n",
       "      <td>83.0</td>\n",
       "      <td>406.7</td>\n",
       "      <td>406.7</td>\n",
       "      <td>0.0</td>\n",
       "    </tr>\n",
       "    <tr>\n",
       "      <td>...</td>\n",
       "      <td>...</td>\n",
       "      <td>...</td>\n",
       "      <td>...</td>\n",
       "      <td>...</td>\n",
       "      <td>...</td>\n",
       "      <td>...</td>\n",
       "    </tr>\n",
       "    <tr>\n",
       "      <td>224973</td>\n",
       "      <td>1</td>\n",
       "      <td>218136</td>\n",
       "      <td>1.0</td>\n",
       "      <td>33.8</td>\n",
       "      <td>33.8</td>\n",
       "      <td>0.0</td>\n",
       "    </tr>\n",
       "    <tr>\n",
       "      <td>224993</td>\n",
       "      <td>3</td>\n",
       "      <td>278501</td>\n",
       "      <td>1.0</td>\n",
       "      <td>14.5</td>\n",
       "      <td>14.5</td>\n",
       "      <td>0.0</td>\n",
       "    </tr>\n",
       "    <tr>\n",
       "      <td>225009</td>\n",
       "      <td>3</td>\n",
       "      <td>180867</td>\n",
       "      <td>1.0</td>\n",
       "      <td>9.9</td>\n",
       "      <td>9.9</td>\n",
       "      <td>0.0</td>\n",
       "    </tr>\n",
       "    <tr>\n",
       "      <td>225046</td>\n",
       "      <td>38</td>\n",
       "      <td>1643441</td>\n",
       "      <td>6.0</td>\n",
       "      <td>83.4</td>\n",
       "      <td>83.4</td>\n",
       "      <td>0.0</td>\n",
       "    </tr>\n",
       "    <tr>\n",
       "      <td>225047</td>\n",
       "      <td>1</td>\n",
       "      <td>191989</td>\n",
       "      <td>1.0</td>\n",
       "      <td>3.6</td>\n",
       "      <td>3.6</td>\n",
       "      <td>0.0</td>\n",
       "    </tr>\n",
       "  </tbody>\n",
       "</table>\n",
       "<p>19247 rows × 6 columns</p>\n",
       "</div>"
      ],
      "text/plain": [
       "           POSID  BASK_CODE  ITEM_QUANTITY  ITEM_SPEND  NORMAL_PRICE  \\\n",
       "PROD_CODE                                                              \n",
       "19            51    1432102           13.0       496.7         505.7   \n",
       "31           422   24662773          141.0      5184.9        5922.0   \n",
       "33            49    2487295           15.0       613.5         613.5   \n",
       "36           133    8874084           52.0      1341.6        1341.6   \n",
       "39           437   13774376           83.0       406.7         406.7   \n",
       "...          ...        ...            ...         ...           ...   \n",
       "224973         1     218136            1.0        33.8          33.8   \n",
       "224993         3     278501            1.0        14.5          14.5   \n",
       "225009         3     180867            1.0         9.9           9.9   \n",
       "225046        38    1643441            6.0        83.4          83.4   \n",
       "225047         1     191989            1.0         3.6           3.6   \n",
       "\n",
       "           DISCOUNT_AMOUNT  \n",
       "PROD_CODE                   \n",
       "19                    -9.0  \n",
       "31                  -737.1  \n",
       "33                     0.0  \n",
       "36                     0.0  \n",
       "39                     0.0  \n",
       "...                    ...  \n",
       "224973                 0.0  \n",
       "224993                 0.0  \n",
       "225009                 0.0  \n",
       "225046                 0.0  \n",
       "225047                 0.0  \n",
       "\n",
       "[19247 rows x 6 columns]"
      ]
     },
     "execution_count": 38,
     "metadata": {},
     "output_type": "execute_result"
    }
   ],
   "source": [
    "product_data2 = gb2.sum()\n",
    "product_data2"
   ]
  },
  {
   "cell_type": "code",
   "execution_count": 39,
   "metadata": {},
   "outputs": [
    {
     "data": {
      "text/html": [
       "<div>\n",
       "<style scoped>\n",
       "    .dataframe tbody tr th:only-of-type {\n",
       "        vertical-align: middle;\n",
       "    }\n",
       "\n",
       "    .dataframe tbody tr th {\n",
       "        vertical-align: top;\n",
       "    }\n",
       "\n",
       "    .dataframe thead th {\n",
       "        text-align: right;\n",
       "    }\n",
       "</style>\n",
       "<table border=\"1\" class=\"dataframe\">\n",
       "  <thead>\n",
       "    <tr style=\"text-align: right;\">\n",
       "      <th></th>\n",
       "      <th>POSID</th>\n",
       "      <th>BASK_CODE</th>\n",
       "      <th>ITEM_QUANTITY</th>\n",
       "      <th>ITEM_SPEND</th>\n",
       "      <th>NORMAL_PRICE</th>\n",
       "      <th>DISCOUNT_AMOUNT</th>\n",
       "    </tr>\n",
       "    <tr>\n",
       "      <th>PROD_CODE</th>\n",
       "      <th></th>\n",
       "      <th></th>\n",
       "      <th></th>\n",
       "      <th></th>\n",
       "      <th></th>\n",
       "      <th></th>\n",
       "    </tr>\n",
       "  </thead>\n",
       "  <tbody>\n",
       "    <tr>\n",
       "      <td>149413</td>\n",
       "      <td>6839</td>\n",
       "      <td>378662245</td>\n",
       "      <td>39931.00</td>\n",
       "      <td>173820.33</td>\n",
       "      <td>12005.233338</td>\n",
       "      <td>-22560.37</td>\n",
       "    </tr>\n",
       "    <tr>\n",
       "      <td>86772</td>\n",
       "      <td>8845</td>\n",
       "      <td>521091166</td>\n",
       "      <td>31365.00</td>\n",
       "      <td>65967.20</td>\n",
       "      <td>8187.833333</td>\n",
       "      <td>-12221.30</td>\n",
       "    </tr>\n",
       "    <tr>\n",
       "      <td>220834</td>\n",
       "      <td>4518</td>\n",
       "      <td>251784144</td>\n",
       "      <td>25704.00</td>\n",
       "      <td>127622.90</td>\n",
       "      <td>8471.500001</td>\n",
       "      <td>-8513.40</td>\n",
       "    </tr>\n",
       "    <tr>\n",
       "      <td>7133</td>\n",
       "      <td>25551</td>\n",
       "      <td>451855888</td>\n",
       "      <td>23028.00</td>\n",
       "      <td>289784.00</td>\n",
       "      <td>107567.000000</td>\n",
       "      <td>-1129.00</td>\n",
       "    </tr>\n",
       "    <tr>\n",
       "      <td>61623</td>\n",
       "      <td>9258</td>\n",
       "      <td>432129591</td>\n",
       "      <td>21828.00</td>\n",
       "      <td>38905.90</td>\n",
       "      <td>5040.166667</td>\n",
       "      <td>-863.40</td>\n",
       "    </tr>\n",
       "    <tr>\n",
       "      <td>124556</td>\n",
       "      <td>14340</td>\n",
       "      <td>923116764</td>\n",
       "      <td>19907.00</td>\n",
       "      <td>17103.17</td>\n",
       "      <td>5182.000000</td>\n",
       "      <td>-2411.23</td>\n",
       "    </tr>\n",
       "    <tr>\n",
       "      <td>205540</td>\n",
       "      <td>37018</td>\n",
       "      <td>2165376903</td>\n",
       "      <td>19313.00</td>\n",
       "      <td>27650.23</td>\n",
       "      <td>18122.200000</td>\n",
       "      <td>-36.97</td>\n",
       "    </tr>\n",
       "    <tr>\n",
       "      <td>1152</td>\n",
       "      <td>5021</td>\n",
       "      <td>247137394</td>\n",
       "      <td>19183.00</td>\n",
       "      <td>46344.39</td>\n",
       "      <td>3768.068750</td>\n",
       "      <td>-121.01</td>\n",
       "    </tr>\n",
       "    <tr>\n",
       "      <td>194690</td>\n",
       "      <td>28456</td>\n",
       "      <td>1577241570</td>\n",
       "      <td>18151.51</td>\n",
       "      <td>61628.75</td>\n",
       "      <td>37169.080000</td>\n",
       "      <td>-9163.47</td>\n",
       "    </tr>\n",
       "    <tr>\n",
       "      <td>124554</td>\n",
       "      <td>11618</td>\n",
       "      <td>824457312</td>\n",
       "      <td>16681.00</td>\n",
       "      <td>14474.22</td>\n",
       "      <td>4639.200000</td>\n",
       "      <td>-1811.98</td>\n",
       "    </tr>\n",
       "  </tbody>\n",
       "</table>\n",
       "</div>"
      ],
      "text/plain": [
       "           POSID   BASK_CODE  ITEM_QUANTITY  ITEM_SPEND   NORMAL_PRICE  \\\n",
       "PROD_CODE                                                                \n",
       "149413      6839   378662245       39931.00   173820.33   12005.233338   \n",
       "86772       8845   521091166       31365.00    65967.20    8187.833333   \n",
       "220834      4518   251784144       25704.00   127622.90    8471.500001   \n",
       "7133       25551   451855888       23028.00   289784.00  107567.000000   \n",
       "61623       9258   432129591       21828.00    38905.90    5040.166667   \n",
       "124556     14340   923116764       19907.00    17103.17    5182.000000   \n",
       "205540     37018  2165376903       19313.00    27650.23   18122.200000   \n",
       "1152        5021   247137394       19183.00    46344.39    3768.068750   \n",
       "194690     28456  1577241570       18151.51    61628.75   37169.080000   \n",
       "124554     11618   824457312       16681.00    14474.22    4639.200000   \n",
       "\n",
       "           DISCOUNT_AMOUNT  \n",
       "PROD_CODE                   \n",
       "149413           -22560.37  \n",
       "86772            -12221.30  \n",
       "220834            -8513.40  \n",
       "7133              -1129.00  \n",
       "61623              -863.40  \n",
       "124556            -2411.23  \n",
       "205540              -36.97  \n",
       "1152               -121.01  \n",
       "194690            -9163.47  \n",
       "124554            -1811.98  "
      ]
     },
     "execution_count": 39,
     "metadata": {},
     "output_type": "execute_result"
    }
   ],
   "source": [
    "product_sort=product_data2.sort_values('ITEM_QUANTITY',axis = 0,ascending = False)\n",
    "product_sort.head(10)"
   ]
  },
  {
   "cell_type": "code",
   "execution_count": 56,
   "metadata": {},
   "outputs": [
    {
     "data": {
      "text/html": [
       "<div>\n",
       "<style scoped>\n",
       "    .dataframe tbody tr th:only-of-type {\n",
       "        vertical-align: middle;\n",
       "    }\n",
       "\n",
       "    .dataframe tbody tr th {\n",
       "        vertical-align: top;\n",
       "    }\n",
       "\n",
       "    .dataframe thead th {\n",
       "        text-align: right;\n",
       "    }\n",
       "</style>\n",
       "<table border=\"1\" class=\"dataframe\">\n",
       "  <thead>\n",
       "    <tr style=\"text-align: right;\">\n",
       "      <th></th>\n",
       "      <th>SDATE</th>\n",
       "      <th>STORE_CODE</th>\n",
       "      <th>POSID</th>\n",
       "      <th>BASK_CODE</th>\n",
       "      <th>PROD_CODE</th>\n",
       "      <th>ITEM_QUANTITY</th>\n",
       "      <th>ITEM_SPEND</th>\n",
       "      <th>NORMAL_PRICE</th>\n",
       "      <th>DISCOUNT_TYPE</th>\n",
       "      <th>DISCOUNT_AMOUNT</th>\n",
       "    </tr>\n",
       "  </thead>\n",
       "  <tbody>\n",
       "    <tr>\n",
       "      <td>48527</td>\n",
       "      <td>2018-06-01</td>\n",
       "      <td>A021</td>\n",
       "      <td>3</td>\n",
       "      <td>73050</td>\n",
       "      <td>149413</td>\n",
       "      <td>12.0</td>\n",
       "      <td>50.9</td>\n",
       "      <td>4.916667</td>\n",
       "      <td>m</td>\n",
       "      <td>-8.1</td>\n",
       "    </tr>\n",
       "    <tr>\n",
       "      <td>13751</td>\n",
       "      <td>2018-06-01</td>\n",
       "      <td>D006</td>\n",
       "      <td>2</td>\n",
       "      <td>35045</td>\n",
       "      <td>149413</td>\n",
       "      <td>12.0</td>\n",
       "      <td>40.0</td>\n",
       "      <td>4.583333</td>\n",
       "      <td>p</td>\n",
       "      <td>-15.0</td>\n",
       "    </tr>\n",
       "    <tr>\n",
       "      <td>11296</td>\n",
       "      <td>2018-06-01</td>\n",
       "      <td>D006</td>\n",
       "      <td>3</td>\n",
       "      <td>148731</td>\n",
       "      <td>149413</td>\n",
       "      <td>12.0</td>\n",
       "      <td>40.0</td>\n",
       "      <td>4.583333</td>\n",
       "      <td>p</td>\n",
       "      <td>-15.0</td>\n",
       "    </tr>\n",
       "    <tr>\n",
       "      <td>11269</td>\n",
       "      <td>2018-06-01</td>\n",
       "      <td>D006</td>\n",
       "      <td>2</td>\n",
       "      <td>35150</td>\n",
       "      <td>149413</td>\n",
       "      <td>12.0</td>\n",
       "      <td>40.0</td>\n",
       "      <td>4.583333</td>\n",
       "      <td>p</td>\n",
       "      <td>-15.0</td>\n",
       "    </tr>\n",
       "    <tr>\n",
       "      <td>10521</td>\n",
       "      <td>2018-06-01</td>\n",
       "      <td>D002</td>\n",
       "      <td>1</td>\n",
       "      <td>49104</td>\n",
       "      <td>149413</td>\n",
       "      <td>12.0</td>\n",
       "      <td>43.8</td>\n",
       "      <td>4.900000</td>\n",
       "      <td>p</td>\n",
       "      <td>-15.0</td>\n",
       "    </tr>\n",
       "  </tbody>\n",
       "</table>\n",
       "</div>"
      ],
      "text/plain": [
       "           SDATE STORE_CODE  POSID  BASK_CODE  PROD_CODE  ITEM_QUANTITY  \\\n",
       "48527 2018-06-01       A021      3      73050     149413           12.0   \n",
       "13751 2018-06-01       D006      2      35045     149413           12.0   \n",
       "11296 2018-06-01       D006      3     148731     149413           12.0   \n",
       "11269 2018-06-01       D006      2      35150     149413           12.0   \n",
       "10521 2018-06-01       D002      1      49104     149413           12.0   \n",
       "\n",
       "       ITEM_SPEND  NORMAL_PRICE DISCOUNT_TYPE  DISCOUNT_AMOUNT  \n",
       "48527        50.9      4.916667             m             -8.1  \n",
       "13751        40.0      4.583333             p            -15.0  \n",
       "11296        40.0      4.583333             p            -15.0  \n",
       "11269        40.0      4.583333             p            -15.0  \n",
       "10521        43.8      4.900000             p            -15.0  "
      ]
     },
     "execution_count": 56,
     "metadata": {},
     "output_type": "execute_result"
    }
   ],
   "source": [
    "top1=data2[data2.PROD_CODE==149413]\n",
    "top1=top1.sort_values('SDATE',axis = 0,ascending = True)\n",
    "top1.head()"
   ]
  },
  {
   "cell_type": "code",
   "execution_count": 57,
   "metadata": {},
   "outputs": [
    {
     "data": {
      "text/html": [
       "<div>\n",
       "<style scoped>\n",
       "    .dataframe tbody tr th:only-of-type {\n",
       "        vertical-align: middle;\n",
       "    }\n",
       "\n",
       "    .dataframe tbody tr th {\n",
       "        vertical-align: top;\n",
       "    }\n",
       "\n",
       "    .dataframe thead th {\n",
       "        text-align: right;\n",
       "    }\n",
       "</style>\n",
       "<table border=\"1\" class=\"dataframe\">\n",
       "  <thead>\n",
       "    <tr style=\"text-align: right;\">\n",
       "      <th></th>\n",
       "      <th>SDATE</th>\n",
       "      <th>POSID</th>\n",
       "      <th>BASK_CODE</th>\n",
       "      <th>PROD_CODE</th>\n",
       "      <th>ITEM_QUANTITY</th>\n",
       "      <th>ITEM_SPEND</th>\n",
       "      <th>NORMAL_PRICE</th>\n",
       "      <th>DISCOUNT_AMOUNT</th>\n",
       "    </tr>\n",
       "  </thead>\n",
       "  <tbody>\n",
       "    <tr>\n",
       "      <td>0</td>\n",
       "      <td>2018-06-01</td>\n",
       "      <td>191</td>\n",
       "      <td>7153774</td>\n",
       "      <td>8964780</td>\n",
       "      <td>676.0</td>\n",
       "      <td>2644.22</td>\n",
       "      <td>293.700000</td>\n",
       "      <td>-638.18</td>\n",
       "    </tr>\n",
       "    <tr>\n",
       "      <td>1</td>\n",
       "      <td>2018-06-02</td>\n",
       "      <td>186</td>\n",
       "      <td>9710806</td>\n",
       "      <td>10160084</td>\n",
       "      <td>797.0</td>\n",
       "      <td>3181.24</td>\n",
       "      <td>332.400000</td>\n",
       "      <td>-682.06</td>\n",
       "    </tr>\n",
       "    <tr>\n",
       "      <td>2</td>\n",
       "      <td>2018-06-03</td>\n",
       "      <td>231</td>\n",
       "      <td>9916094</td>\n",
       "      <td>10608323</td>\n",
       "      <td>823.0</td>\n",
       "      <td>3213.90</td>\n",
       "      <td>347.850000</td>\n",
       "      <td>-772.80</td>\n",
       "    </tr>\n",
       "    <tr>\n",
       "      <td>3</td>\n",
       "      <td>2018-06-04</td>\n",
       "      <td>116</td>\n",
       "      <td>6520464</td>\n",
       "      <td>6723585</td>\n",
       "      <td>541.0</td>\n",
       "      <td>2156.10</td>\n",
       "      <td>217.650000</td>\n",
       "      <td>-454.20</td>\n",
       "    </tr>\n",
       "    <tr>\n",
       "      <td>4</td>\n",
       "      <td>2018-06-05</td>\n",
       "      <td>134</td>\n",
       "      <td>6665615</td>\n",
       "      <td>7620063</td>\n",
       "      <td>590.0</td>\n",
       "      <td>2367.40</td>\n",
       "      <td>245.616667</td>\n",
       "      <td>-472.20</td>\n",
       "    </tr>\n",
       "  </tbody>\n",
       "</table>\n",
       "</div>"
      ],
      "text/plain": [
       "       SDATE  POSID  BASK_CODE  PROD_CODE  ITEM_QUANTITY  ITEM_SPEND  \\\n",
       "0 2018-06-01    191    7153774    8964780          676.0     2644.22   \n",
       "1 2018-06-02    186    9710806   10160084          797.0     3181.24   \n",
       "2 2018-06-03    231    9916094   10608323          823.0     3213.90   \n",
       "3 2018-06-04    116    6520464    6723585          541.0     2156.10   \n",
       "4 2018-06-05    134    6665615    7620063          590.0     2367.40   \n",
       "\n",
       "   NORMAL_PRICE  DISCOUNT_AMOUNT  \n",
       "0    293.700000          -638.18  \n",
       "1    332.400000          -682.06  \n",
       "2    347.850000          -772.80  \n",
       "3    217.650000          -454.20  \n",
       "4    245.616667          -472.20  "
      ]
     },
     "execution_count": 57,
     "metadata": {},
     "output_type": "execute_result"
    }
   ],
   "source": [
    "top1_daysale=top1.groupby(top1.SDATE)\n",
    "top1_daysale=top1_daysale.sum().reset_index()\n",
    "top1_daysale.head()"
   ]
  },
  {
   "cell_type": "code",
   "execution_count": 58,
   "metadata": {},
   "outputs": [
    {
     "data": {
      "text/plain": [
       "<Figure size 864x504 with 0 Axes>"
      ]
     },
     "metadata": {},
     "output_type": "display_data"
    }
   ],
   "source": [
    "#销量前五的商品每日销售情况\n",
    "plt.figure(figsize=(12,7))\n",
    "\n",
    "top2=data2[data2.PROD_CODE==86772]\n",
    "top2=top2.sort_values('SDATE',axis = 0,ascending = True)\n",
    "top2_daysale=top2.groupby(top2.SDATE)\n",
    "top2_daysale=top2_daysale.sum().reset_index()\n",
    "\n",
    "top3=data2[data2.PROD_CODE==220834]\n",
    "top3=top3.sort_values('SDATE',axis = 0,ascending = True)\n",
    "top3_daysale=top3.groupby(top3.SDATE)\n",
    "top3_daysale=top3_daysale.sum().reset_index()\n",
    "\n",
    "top4=data2[data2.PROD_CODE==7133]\n",
    "top4=top4.sort_values('SDATE',axis = 0,ascending = True)\n",
    "top4_daysale=top4.groupby(top4.SDATE)\n",
    "top4_daysale=top4_daysale.sum().reset_index()\n",
    "\n",
    "top5=data2[data2.PROD_CODE==61623]\n",
    "top5=top5.sort_values('SDATE',axis = 0,ascending = True)\n",
    "top5_daysale=top5.groupby(top5.SDATE)\n",
    "top5_daysale=top5_daysale.sum().reset_index()"
   ]
  },
  {
   "cell_type": "code",
   "execution_count": 59,
   "metadata": {},
   "outputs": [
    {
     "data": {
      "text/html": [
       "<div>\n",
       "<style scoped>\n",
       "    .dataframe tbody tr th:only-of-type {\n",
       "        vertical-align: middle;\n",
       "    }\n",
       "\n",
       "    .dataframe tbody tr th {\n",
       "        vertical-align: top;\n",
       "    }\n",
       "\n",
       "    .dataframe thead th {\n",
       "        text-align: right;\n",
       "    }\n",
       "</style>\n",
       "<table border=\"1\" class=\"dataframe\">\n",
       "  <thead>\n",
       "    <tr style=\"text-align: right;\">\n",
       "      <th></th>\n",
       "      <th>SDATE</th>\n",
       "      <th>POSID</th>\n",
       "      <th>BASK_CODE</th>\n",
       "      <th>PROD_CODE</th>\n",
       "      <th>ITEM_QUANTITY</th>\n",
       "      <th>ITEM_SPEND</th>\n",
       "      <th>NORMAL_PRICE</th>\n",
       "      <th>DISCOUNT_AMOUNT</th>\n",
       "    </tr>\n",
       "  </thead>\n",
       "  <tbody>\n",
       "    <tr>\n",
       "      <td>0</td>\n",
       "      <td>2018-06-01</td>\n",
       "      <td>191</td>\n",
       "      <td>7153774</td>\n",
       "      <td>8964780</td>\n",
       "      <td>676.0</td>\n",
       "      <td>2644.22</td>\n",
       "      <td>293.700000</td>\n",
       "      <td>-638.18</td>\n",
       "    </tr>\n",
       "    <tr>\n",
       "      <td>1</td>\n",
       "      <td>2018-06-02</td>\n",
       "      <td>186</td>\n",
       "      <td>9710806</td>\n",
       "      <td>10160084</td>\n",
       "      <td>797.0</td>\n",
       "      <td>3181.24</td>\n",
       "      <td>332.400000</td>\n",
       "      <td>-682.06</td>\n",
       "    </tr>\n",
       "    <tr>\n",
       "      <td>2</td>\n",
       "      <td>2018-06-03</td>\n",
       "      <td>231</td>\n",
       "      <td>9916094</td>\n",
       "      <td>10608323</td>\n",
       "      <td>823.0</td>\n",
       "      <td>3213.90</td>\n",
       "      <td>347.850000</td>\n",
       "      <td>-772.80</td>\n",
       "    </tr>\n",
       "    <tr>\n",
       "      <td>3</td>\n",
       "      <td>2018-06-04</td>\n",
       "      <td>116</td>\n",
       "      <td>6520464</td>\n",
       "      <td>6723585</td>\n",
       "      <td>541.0</td>\n",
       "      <td>2156.10</td>\n",
       "      <td>217.650000</td>\n",
       "      <td>-454.20</td>\n",
       "    </tr>\n",
       "    <tr>\n",
       "      <td>4</td>\n",
       "      <td>2018-06-05</td>\n",
       "      <td>134</td>\n",
       "      <td>6665615</td>\n",
       "      <td>7620063</td>\n",
       "      <td>590.0</td>\n",
       "      <td>2367.40</td>\n",
       "      <td>245.616667</td>\n",
       "      <td>-472.20</td>\n",
       "    </tr>\n",
       "  </tbody>\n",
       "</table>\n",
       "</div>"
      ],
      "text/plain": [
       "       SDATE  POSID  BASK_CODE  PROD_CODE  ITEM_QUANTITY  ITEM_SPEND  \\\n",
       "0 2018-06-01    191    7153774    8964780          676.0     2644.22   \n",
       "1 2018-06-02    186    9710806   10160084          797.0     3181.24   \n",
       "2 2018-06-03    231    9916094   10608323          823.0     3213.90   \n",
       "3 2018-06-04    116    6520464    6723585          541.0     2156.10   \n",
       "4 2018-06-05    134    6665615    7620063          590.0     2367.40   \n",
       "\n",
       "   NORMAL_PRICE  DISCOUNT_AMOUNT  \n",
       "0    293.700000          -638.18  \n",
       "1    332.400000          -682.06  \n",
       "2    347.850000          -772.80  \n",
       "3    217.650000          -454.20  \n",
       "4    245.616667          -472.20  "
      ]
     },
     "execution_count": 59,
     "metadata": {},
     "output_type": "execute_result"
    }
   ],
   "source": [
    "top1_daysale.head()"
   ]
  },
  {
   "cell_type": "code",
   "execution_count": 60,
   "metadata": {},
   "outputs": [
    {
     "data": {
      "image/png": "[encoded data removed]",
      "text/plain": [
       "<Figure size 1368x720 with 1 Axes>"
      ]
     },
     "metadata": {
      "needs_background": "light"
     },
     "output_type": "display_data"
    }
   ],
   "source": [
    "fig1, = plt.plot(top1_daysale.SDATE,top1_daysale.ITEM_QUANTITY,color='red')\n",
    "plt.xticks(top2_daysale.SDATE, rotation=45)\n",
    "fig2, = plt.plot(top2_daysale.SDATE, top2_daysale.ITEM_QUANTITY,color='blue')\n",
    "fig3, = plt.plot(top3_daysale.SDATE, top3_daysale.ITEM_QUANTITY,color='pink')\n",
    "fig4, = plt.plot(top4_daysale.SDATE, top4_daysale.ITEM_QUANTITY,color='yellow')\n",
    "fig5, = plt.plot(top5_daysale.SDATE, top5_daysale.ITEM_QUANTITY,color='green')\n",
    "\n",
    "plt.legend([fig1, fig2,fig3,fig4,fig5], ['149413','86772', '220834','7133','61623'], bbox_to_anchor=(1.05, 0), loc=3, borderaxespad=0)\n",
    "plt.show()"
   ]
  },
  {
   "cell_type": "code",
   "execution_count": 61,
   "metadata": {},
   "outputs": [
    {
     "data": {
      "text/html": [
       "<div>\n",
       "<style scoped>\n",
       "    .dataframe tbody tr th:only-of-type {\n",
       "        vertical-align: middle;\n",
       "    }\n",
       "\n",
       "    .dataframe tbody tr th {\n",
       "        vertical-align: top;\n",
       "    }\n",
       "\n",
       "    .dataframe thead th {\n",
       "        text-align: right;\n",
       "    }\n",
       "</style>\n",
       "<table border=\"1\" class=\"dataframe\">\n",
       "  <thead>\n",
       "    <tr style=\"text-align: right;\">\n",
       "      <th></th>\n",
       "      <th>SDATE</th>\n",
       "      <th>POSID</th>\n",
       "      <th>BASK_CODE</th>\n",
       "      <th>PROD_CODE</th>\n",
       "      <th>ITEM_QUANTITY</th>\n",
       "      <th>ITEM_SPEND</th>\n",
       "      <th>NORMAL_PRICE</th>\n",
       "      <th>DISCOUNT_AMOUNT</th>\n",
       "    </tr>\n",
       "  </thead>\n",
       "  <tbody>\n",
       "    <tr>\n",
       "      <td>0</td>\n",
       "      <td>2018-06-01</td>\n",
       "      <td>191</td>\n",
       "      <td>7153774</td>\n",
       "      <td>8964780</td>\n",
       "      <td>676.0</td>\n",
       "      <td>2644.22</td>\n",
       "      <td>293.700000</td>\n",
       "      <td>-638.18</td>\n",
       "    </tr>\n",
       "    <tr>\n",
       "      <td>1</td>\n",
       "      <td>2018-06-02</td>\n",
       "      <td>186</td>\n",
       "      <td>9710806</td>\n",
       "      <td>10160084</td>\n",
       "      <td>797.0</td>\n",
       "      <td>3181.24</td>\n",
       "      <td>332.400000</td>\n",
       "      <td>-682.06</td>\n",
       "    </tr>\n",
       "    <tr>\n",
       "      <td>2</td>\n",
       "      <td>2018-06-03</td>\n",
       "      <td>231</td>\n",
       "      <td>9916094</td>\n",
       "      <td>10608323</td>\n",
       "      <td>823.0</td>\n",
       "      <td>3213.90</td>\n",
       "      <td>347.850000</td>\n",
       "      <td>-772.80</td>\n",
       "    </tr>\n",
       "    <tr>\n",
       "      <td>3</td>\n",
       "      <td>2018-06-04</td>\n",
       "      <td>116</td>\n",
       "      <td>6520464</td>\n",
       "      <td>6723585</td>\n",
       "      <td>541.0</td>\n",
       "      <td>2156.10</td>\n",
       "      <td>217.650000</td>\n",
       "      <td>-454.20</td>\n",
       "    </tr>\n",
       "    <tr>\n",
       "      <td>4</td>\n",
       "      <td>2018-06-05</td>\n",
       "      <td>134</td>\n",
       "      <td>6665615</td>\n",
       "      <td>7620063</td>\n",
       "      <td>590.0</td>\n",
       "      <td>2367.40</td>\n",
       "      <td>245.616667</td>\n",
       "      <td>-472.20</td>\n",
       "    </tr>\n",
       "  </tbody>\n",
       "</table>\n",
       "</div>"
      ],
      "text/plain": [
       "       SDATE  POSID  BASK_CODE  PROD_CODE  ITEM_QUANTITY  ITEM_SPEND  \\\n",
       "0 2018-06-01    191    7153774    8964780          676.0     2644.22   \n",
       "1 2018-06-02    186    9710806   10160084          797.0     3181.24   \n",
       "2 2018-06-03    231    9916094   10608323          823.0     3213.90   \n",
       "3 2018-06-04    116    6520464    6723585          541.0     2156.10   \n",
       "4 2018-06-05    134    6665615    7620063          590.0     2367.40   \n",
       "\n",
       "   NORMAL_PRICE  DISCOUNT_AMOUNT  \n",
       "0    293.700000          -638.18  \n",
       "1    332.400000          -682.06  \n",
       "2    347.850000          -772.80  \n",
       "3    217.650000          -454.20  \n",
       "4    245.616667          -472.20  "
      ]
     },
     "execution_count": 61,
     "metadata": {},
     "output_type": "execute_result"
    }
   ],
   "source": [
    "top1_daysale.head()"
   ]
  },
  {
   "cell_type": "code",
   "execution_count": 62,
   "metadata": {},
   "outputs": [
    {
     "name": "stderr",
     "output_type": "stream",
     "text": [
      "C:\\Users\\DELL\\Anaconda3\\lib\\site-packages\\ipykernel_launcher.py:6: FutureWarning: The join_axes-keyword is deprecated. Use .reindex or .reindex_like on the result to achieve the same functionality.\n",
      "  \n"
     ]
    },
    {
     "data": {
      "text/html": [
       "<div>\n",
       "<style scoped>\n",
       "    .dataframe tbody tr th:only-of-type {\n",
       "        vertical-align: middle;\n",
       "    }\n",
       "\n",
       "    .dataframe tbody tr th {\n",
       "        vertical-align: top;\n",
       "    }\n",
       "\n",
       "    .dataframe thead th {\n",
       "        text-align: right;\n",
       "    }\n",
       "</style>\n",
       "<table border=\"1\" class=\"dataframe\">\n",
       "  <thead>\n",
       "    <tr style=\"text-align: right;\">\n",
       "      <th></th>\n",
       "      <th>SDATE</th>\n",
       "      <th>PROD_CODE</th>\n",
       "      <th>PROD_CODE</th>\n",
       "      <th>PROD_CODE</th>\n",
       "      <th>PROD_CODE</th>\n",
       "      <th>PROD_CODE</th>\n",
       "    </tr>\n",
       "  </thead>\n",
       "  <tbody>\n",
       "    <tr>\n",
       "      <td>0</td>\n",
       "      <td>2018-06-01</td>\n",
       "      <td>8964780</td>\n",
       "      <td>5466636</td>\n",
       "      <td>8391692</td>\n",
       "      <td>1127014</td>\n",
       "      <td>11954862</td>\n",
       "    </tr>\n",
       "    <tr>\n",
       "      <td>1</td>\n",
       "      <td>2018-06-02</td>\n",
       "      <td>10160084</td>\n",
       "      <td>5987268</td>\n",
       "      <td>9716696</td>\n",
       "      <td>1077083</td>\n",
       "      <td>7148268</td>\n",
       "    </tr>\n",
       "    <tr>\n",
       "      <td>2</td>\n",
       "      <td>2018-06-03</td>\n",
       "      <td>10608323</td>\n",
       "      <td>5293092</td>\n",
       "      <td>7508356</td>\n",
       "      <td>1127014</td>\n",
       "      <td>6532038</td>\n",
       "    </tr>\n",
       "    <tr>\n",
       "      <td>3</td>\n",
       "      <td>2018-06-04</td>\n",
       "      <td>6723585</td>\n",
       "      <td>5813724</td>\n",
       "      <td>6845854</td>\n",
       "      <td>1055684</td>\n",
       "      <td>4436856</td>\n",
       "    </tr>\n",
       "    <tr>\n",
       "      <td>4</td>\n",
       "      <td>2018-06-05</td>\n",
       "      <td>7620063</td>\n",
       "      <td>5293092</td>\n",
       "      <td>9495862</td>\n",
       "      <td>1241142</td>\n",
       "      <td>6223923</td>\n",
       "    </tr>\n",
       "  </tbody>\n",
       "</table>\n",
       "</div>"
      ],
      "text/plain": [
       "       SDATE  PROD_CODE  PROD_CODE  PROD_CODE  PROD_CODE  PROD_CODE\n",
       "0 2018-06-01    8964780    5466636    8391692    1127014   11954862\n",
       "1 2018-06-02   10160084    5987268    9716696    1077083    7148268\n",
       "2 2018-06-03   10608323    5293092    7508356    1127014    6532038\n",
       "3 2018-06-04    6723585    5813724    6845854    1055684    4436856\n",
       "4 2018-06-05    7620063    5293092    9495862    1241142    6223923"
      ]
     },
     "execution_count": 62,
     "metadata": {},
     "output_type": "execute_result"
    }
   ],
   "source": [
    "top1_daysale = top1_daysale.drop(['POSID','BASK_CODE','ITEM_QUANTITY','ITEM_SPEND','NORMAL_PRICE','DISCOUNT_AMOUNT'],axis=1)\n",
    "top2_daysale = top2_daysale.drop(['SDATE','POSID','BASK_CODE','ITEM_QUANTITY','ITEM_SPEND','NORMAL_PRICE','DISCOUNT_AMOUNT'],axis=1)\n",
    "top3_daysale = top3_daysale.drop(['SDATE','POSID','BASK_CODE','ITEM_QUANTITY','ITEM_SPEND','NORMAL_PRICE','DISCOUNT_AMOUNT'],axis=1)\n",
    "top4_daysale = top4_daysale.drop(['SDATE','POSID','BASK_CODE','ITEM_QUANTITY','ITEM_SPEND','NORMAL_PRICE','DISCOUNT_AMOUNT'],axis=1)\n",
    "top5_daysale = top5_daysale.drop(['SDATE','POSID','BASK_CODE','ITEM_QUANTITY','ITEM_SPEND','NORMAL_PRICE','DISCOUNT_AMOUNT'],axis=1)\n",
    "item_daysale = pd.concat([top1_daysale, top2_daysale,top3_daysale,top4_daysale,top5_daysale], axis=1, join_axes=[top1_daysale.index])\n",
    "item_daysale.head()"
   ]
  },
  {
   "cell_type": "code",
   "execution_count": 63,
   "metadata": {},
   "outputs": [],
   "source": [
    "item_daysale.columns=['date','top1','top2','top3','top4','top5']"
   ]
  },
  {
   "cell_type": "code",
   "execution_count": 64,
   "metadata": {},
   "outputs": [
    {
     "data": {
      "text/html": [
       "<div>\n",
       "<style scoped>\n",
       "    .dataframe tbody tr th:only-of-type {\n",
       "        vertical-align: middle;\n",
       "    }\n",
       "\n",
       "    .dataframe tbody tr th {\n",
       "        vertical-align: top;\n",
       "    }\n",
       "\n",
       "    .dataframe thead th {\n",
       "        text-align: right;\n",
       "    }\n",
       "</style>\n",
       "<table border=\"1\" class=\"dataframe\">\n",
       "  <thead>\n",
       "    <tr style=\"text-align: right;\">\n",
       "      <th></th>\n",
       "      <th>top1</th>\n",
       "      <th>top2</th>\n",
       "      <th>top3</th>\n",
       "      <th>top4</th>\n",
       "      <th>top5</th>\n",
       "    </tr>\n",
       "  </thead>\n",
       "  <tbody>\n",
       "    <tr>\n",
       "      <td>top1</td>\n",
       "      <td>1.000000</td>\n",
       "      <td>0.260033</td>\n",
       "      <td>0.970225</td>\n",
       "      <td>0.341620</td>\n",
       "      <td>0.524066</td>\n",
       "    </tr>\n",
       "    <tr>\n",
       "      <td>top2</td>\n",
       "      <td>0.260033</td>\n",
       "      <td>1.000000</td>\n",
       "      <td>0.257063</td>\n",
       "      <td>-0.010445</td>\n",
       "      <td>0.115279</td>\n",
       "    </tr>\n",
       "    <tr>\n",
       "      <td>top3</td>\n",
       "      <td>0.970225</td>\n",
       "      <td>0.257063</td>\n",
       "      <td>1.000000</td>\n",
       "      <td>0.323483</td>\n",
       "      <td>0.515114</td>\n",
       "    </tr>\n",
       "    <tr>\n",
       "      <td>top4</td>\n",
       "      <td>0.341620</td>\n",
       "      <td>-0.010445</td>\n",
       "      <td>0.323483</td>\n",
       "      <td>1.000000</td>\n",
       "      <td>0.440224</td>\n",
       "    </tr>\n",
       "    <tr>\n",
       "      <td>top5</td>\n",
       "      <td>0.524066</td>\n",
       "      <td>0.115279</td>\n",
       "      <td>0.515114</td>\n",
       "      <td>0.440224</td>\n",
       "      <td>1.000000</td>\n",
       "    </tr>\n",
       "  </tbody>\n",
       "</table>\n",
       "</div>"
      ],
      "text/plain": [
       "          top1      top2      top3      top4      top5\n",
       "top1  1.000000  0.260033  0.970225  0.341620  0.524066\n",
       "top2  0.260033  1.000000  0.257063 -0.010445  0.115279\n",
       "top3  0.970225  0.257063  1.000000  0.323483  0.515114\n",
       "top4  0.341620 -0.010445  0.323483  1.000000  0.440224\n",
       "top5  0.524066  0.115279  0.515114  0.440224  1.000000"
      ]
     },
     "execution_count": 64,
     "metadata": {},
     "output_type": "execute_result"
    }
   ],
   "source": [
    "correlation_matrix=item_daysale.corr()\n",
    "correlation_matrix"
   ]
  },
  {
   "cell_type": "code",
   "execution_count": 65,
   "metadata": {},
   "outputs": [
    {
     "data": {
      "text/plain": [
       "[Text(0, 0, 'top1'),\n",
       " Text(0, 0, 'top2'),\n",
       " Text(0, 0, 'top3'),\n",
       " Text(0, 0, 'top4'),\n",
       " Text(0, 0, 'top5')]"
      ]
     },
     "execution_count": 65,
     "metadata": {},
     "output_type": "execute_result"
    },
    {
     "data": {
      "image/png": "[encoded data removed]",
      "text/plain": [
       "<Figure size 1368x720 with 2 Axes>"
      ]
     },
     "metadata": {
      "needs_background": "light"
     },
     "output_type": "display_data"
    }
   ],
   "source": [
    "fig = plt.figure() # 调用figure创建一个绘图对象 \n",
    "ax = fig.add_subplot(111) # 设置1个子网格并添加子网格对象 \n",
    "hot_img = ax.matshow(np.abs(correlation_matrix), vmin=0, vmax=1) \n",
    "# 绘制热力图，值域从0到1 \n",
    "fig.colorbar(hot_img) # 为热力图生成颜色渐变条 \n",
    "ticks = np.arange(0, 5, 1) # 生成0～9，步长为1 \n",
    "ax.set_xticks(ticks) # 生成x轴刻度 \n",
    "ax.set_yticks(ticks) # 设置y轴刻度 \n",
    "names = ['top1','top2','top3','top4','top5'] # 生成坐标轴标签文字 \n",
    "ax.set_xticklabels(names) # 生成x轴标签 \n",
    "ax.set_yticklabels(names) # 生成y轴标签 "
   ]
  },
  {
   "cell_type": "markdown",
   "metadata": {},
   "source": [
    "##### 从热力图中可以看出产品149413和产品220834具有高相关性。"
   ]
  },
  {
   "cell_type": "code",
   "execution_count": null,
   "metadata": {},
   "outputs": [],
   "source": []
  }
 ],
 "metadata": {
  "kernelspec": {
   "display_name": "Python 3",
   "language": "python",
   "name": "python3"
  },
  "language_info": {
   "codemirror_mode": {
    "name": "ipython",
    "version": 3
   },
   "file_extension": ".py",
   "mimetype": "text/x-python",
   "name": "python",
   "nbconvert_exporter": "python",
   "pygments_lexer": "ipython3",
   "version": "3.7.4"
  }
 },
 "nbformat": 4,
 "nbformat_minor": 4
}
