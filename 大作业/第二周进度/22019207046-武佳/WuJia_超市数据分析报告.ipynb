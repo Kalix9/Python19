{
 "cells": [
  {
   "cell_type": "markdown",
   "metadata": {},
   "source": [
    "# 超市数据分析报告"
   ]
  },
  {
   "cell_type": "markdown",
   "metadata": {},
   "source": [
    "### 22019207046 武佳"
   ]
  },
  {
   "cell_type": "code",
   "execution_count": 1,
   "metadata": {},
   "outputs": [],
   "source": [
    "import numpy as np\n",
    "import pandas as pd\n",
    "import matplotlib as mpl\n",
    "import matplotlib.pyplot as plt\n",
    "%matplotlib inline"
   ]
  },
  {
   "cell_type": "code",
   "execution_count": 2,
   "metadata": {},
   "outputs": [
    {
     "data": {
      "text/html": [
       "<div>\n",
       "<style scoped>\n",
       "    .dataframe tbody tr th:only-of-type {\n",
       "        vertical-align: middle;\n",
       "    }\n",
       "\n",
       "    .dataframe tbody tr th {\n",
       "        vertical-align: top;\n",
       "    }\n",
       "\n",
       "    .dataframe thead th {\n",
       "        text-align: right;\n",
       "    }\n",
       "</style>\n",
       "<table border=\"1\" class=\"dataframe\">\n",
       "  <thead>\n",
       "    <tr style=\"text-align: right;\">\n",
       "      <th></th>\n",
       "      <th>SDATE</th>\n",
       "      <th>STORE_CODE</th>\n",
       "      <th>POSID</th>\n",
       "      <th>BASK_CODE</th>\n",
       "      <th>PROD_CODE</th>\n",
       "      <th>ITEM_QUANTITY</th>\n",
       "      <th>ITEM_SPEND</th>\n",
       "      <th>NORMAL_PRICE</th>\n",
       "      <th>DISCOUNT_TYPE</th>\n",
       "      <th>DISCOUNT_AMOUNT</th>\n",
       "    </tr>\n",
       "  </thead>\n",
       "  <tbody>\n",
       "    <tr>\n",
       "      <th>0</th>\n",
       "      <td>2018-06-01</td>\n",
       "      <td>D007</td>\n",
       "      <td>3</td>\n",
       "      <td>250451</td>\n",
       "      <td>29405</td>\n",
       "      <td>1.000</td>\n",
       "      <td>1.70</td>\n",
       "      <td>2.0</td>\n",
       "      <td>m</td>\n",
       "      <td>-0.3</td>\n",
       "    </tr>\n",
       "    <tr>\n",
       "      <th>1</th>\n",
       "      <td>2018-06-01</td>\n",
       "      <td>D007</td>\n",
       "      <td>3</td>\n",
       "      <td>250451</td>\n",
       "      <td>13187</td>\n",
       "      <td>1.000</td>\n",
       "      <td>1.00</td>\n",
       "      <td>1.0</td>\n",
       "      <td>n</td>\n",
       "      <td>0.0</td>\n",
       "    </tr>\n",
       "    <tr>\n",
       "      <th>2</th>\n",
       "      <td>2018-06-01</td>\n",
       "      <td>D007</td>\n",
       "      <td>3</td>\n",
       "      <td>250243</td>\n",
       "      <td>196249</td>\n",
       "      <td>1.000</td>\n",
       "      <td>99.00</td>\n",
       "      <td>99.0</td>\n",
       "      <td>m</td>\n",
       "      <td>0.0</td>\n",
       "    </tr>\n",
       "    <tr>\n",
       "      <th>3</th>\n",
       "      <td>2018-06-01</td>\n",
       "      <td>D007</td>\n",
       "      <td>3</td>\n",
       "      <td>250243</td>\n",
       "      <td>199637</td>\n",
       "      <td>1.000</td>\n",
       "      <td>9.90</td>\n",
       "      <td>16.8</td>\n",
       "      <td>p</td>\n",
       "      <td>-6.9</td>\n",
       "    </tr>\n",
       "    <tr>\n",
       "      <th>4</th>\n",
       "      <td>2018-06-01</td>\n",
       "      <td>D007</td>\n",
       "      <td>1</td>\n",
       "      <td>160905</td>\n",
       "      <td>195012</td>\n",
       "      <td>3.222</td>\n",
       "      <td>18.69</td>\n",
       "      <td>5.8</td>\n",
       "      <td>n</td>\n",
       "      <td>0.0</td>\n",
       "    </tr>\n",
       "  </tbody>\n",
       "</table>\n",
       "</div>"
      ],
      "text/plain": [
       "        SDATE STORE_CODE  POSID  BASK_CODE  PROD_CODE  ITEM_QUANTITY  \\\n",
       "0  2018-06-01       D007      3     250451      29405          1.000   \n",
       "1  2018-06-01       D007      3     250451      13187          1.000   \n",
       "2  2018-06-01       D007      3     250243     196249          1.000   \n",
       "3  2018-06-01       D007      3     250243     199637          1.000   \n",
       "4  2018-06-01       D007      1     160905     195012          3.222   \n",
       "\n",
       "   ITEM_SPEND  NORMAL_PRICE DISCOUNT_TYPE  DISCOUNT_AMOUNT  \n",
       "0        1.70           2.0             m             -0.3  \n",
       "1        1.00           1.0             n              0.0  \n",
       "2       99.00          99.0             m              0.0  \n",
       "3        9.90          16.8             p             -6.9  \n",
       "4       18.69           5.8             n              0.0  "
      ]
     },
     "execution_count": 2,
     "metadata": {},
     "output_type": "execute_result"
    }
   ],
   "source": [
    "data = pd.read_csv('item-2018-06-01-2018-07-05.csv')  # 导入数据\n",
    "data.head()"
   ]
  },
  {
   "cell_type": "markdown",
   "metadata": {},
   "source": [
    "# 一、数据基本情况及数据预处理"
   ]
  },
  {
   "cell_type": "markdown",
   "metadata": {},
   "source": [
    "## 1.1数据预处理"
   ]
  },
  {
   "cell_type": "markdown",
   "metadata": {},
   "source": [
    "### 1. 删除所有含有NAN的行"
   ]
  },
  {
   "cell_type": "code",
   "execution_count": 3,
   "metadata": {
    "scrolled": false
   },
   "outputs": [
    {
     "data": {
      "text/html": [
       "<div>\n",
       "<style scoped>\n",
       "    .dataframe tbody tr th:only-of-type {\n",
       "        vertical-align: middle;\n",
       "    }\n",
       "\n",
       "    .dataframe tbody tr th {\n",
       "        vertical-align: top;\n",
       "    }\n",
       "\n",
       "    .dataframe thead th {\n",
       "        text-align: right;\n",
       "    }\n",
       "</style>\n",
       "<table border=\"1\" class=\"dataframe\">\n",
       "  <thead>\n",
       "    <tr style=\"text-align: right;\">\n",
       "      <th></th>\n",
       "      <th>SDATE</th>\n",
       "      <th>STORE_CODE</th>\n",
       "      <th>POSID</th>\n",
       "      <th>BASK_CODE</th>\n",
       "      <th>PROD_CODE</th>\n",
       "      <th>ITEM_QUANTITY</th>\n",
       "      <th>ITEM_SPEND</th>\n",
       "      <th>NORMAL_PRICE</th>\n",
       "      <th>DISCOUNT_TYPE</th>\n",
       "      <th>DISCOUNT_AMOUNT</th>\n",
       "    </tr>\n",
       "  </thead>\n",
       "  <tbody>\n",
       "    <tr>\n",
       "      <th>0</th>\n",
       "      <td>2018-06-01</td>\n",
       "      <td>D007</td>\n",
       "      <td>3</td>\n",
       "      <td>250451</td>\n",
       "      <td>29405</td>\n",
       "      <td>1.000</td>\n",
       "      <td>1.70</td>\n",
       "      <td>2.0</td>\n",
       "      <td>m</td>\n",
       "      <td>-0.3</td>\n",
       "    </tr>\n",
       "    <tr>\n",
       "      <th>1</th>\n",
       "      <td>2018-06-01</td>\n",
       "      <td>D007</td>\n",
       "      <td>3</td>\n",
       "      <td>250451</td>\n",
       "      <td>13187</td>\n",
       "      <td>1.000</td>\n",
       "      <td>1.00</td>\n",
       "      <td>1.0</td>\n",
       "      <td>n</td>\n",
       "      <td>0.0</td>\n",
       "    </tr>\n",
       "    <tr>\n",
       "      <th>2</th>\n",
       "      <td>2018-06-01</td>\n",
       "      <td>D007</td>\n",
       "      <td>3</td>\n",
       "      <td>250243</td>\n",
       "      <td>196249</td>\n",
       "      <td>1.000</td>\n",
       "      <td>99.00</td>\n",
       "      <td>99.0</td>\n",
       "      <td>m</td>\n",
       "      <td>0.0</td>\n",
       "    </tr>\n",
       "    <tr>\n",
       "      <th>3</th>\n",
       "      <td>2018-06-01</td>\n",
       "      <td>D007</td>\n",
       "      <td>3</td>\n",
       "      <td>250243</td>\n",
       "      <td>199637</td>\n",
       "      <td>1.000</td>\n",
       "      <td>9.90</td>\n",
       "      <td>16.8</td>\n",
       "      <td>p</td>\n",
       "      <td>-6.9</td>\n",
       "    </tr>\n",
       "    <tr>\n",
       "      <th>4</th>\n",
       "      <td>2018-06-01</td>\n",
       "      <td>D007</td>\n",
       "      <td>1</td>\n",
       "      <td>160905</td>\n",
       "      <td>195012</td>\n",
       "      <td>3.222</td>\n",
       "      <td>18.69</td>\n",
       "      <td>5.8</td>\n",
       "      <td>n</td>\n",
       "      <td>0.0</td>\n",
       "    </tr>\n",
       "    <tr>\n",
       "      <th>...</th>\n",
       "      <td>...</td>\n",
       "      <td>...</td>\n",
       "      <td>...</td>\n",
       "      <td>...</td>\n",
       "      <td>...</td>\n",
       "      <td>...</td>\n",
       "      <td>...</td>\n",
       "      <td>...</td>\n",
       "      <td>...</td>\n",
       "      <td>...</td>\n",
       "    </tr>\n",
       "    <tr>\n",
       "      <th>1732756</th>\n",
       "      <td>2018-07-05</td>\n",
       "      <td>A010</td>\n",
       "      <td>2</td>\n",
       "      <td>284254</td>\n",
       "      <td>144474</td>\n",
       "      <td>0.470</td>\n",
       "      <td>26.32</td>\n",
       "      <td>56.0</td>\n",
       "      <td>n</td>\n",
       "      <td>0.0</td>\n",
       "    </tr>\n",
       "    <tr>\n",
       "      <th>1732757</th>\n",
       "      <td>2018-07-05</td>\n",
       "      <td>A010</td>\n",
       "      <td>2</td>\n",
       "      <td>284265</td>\n",
       "      <td>2243</td>\n",
       "      <td>24.000</td>\n",
       "      <td>43.20</td>\n",
       "      <td>1.8</td>\n",
       "      <td>n</td>\n",
       "      <td>0.0</td>\n",
       "    </tr>\n",
       "    <tr>\n",
       "      <th>1732758</th>\n",
       "      <td>2018-07-05</td>\n",
       "      <td>A010</td>\n",
       "      <td>2</td>\n",
       "      <td>284406</td>\n",
       "      <td>216571</td>\n",
       "      <td>1.000</td>\n",
       "      <td>14.50</td>\n",
       "      <td>14.5</td>\n",
       "      <td>n</td>\n",
       "      <td>0.0</td>\n",
       "    </tr>\n",
       "    <tr>\n",
       "      <th>1732759</th>\n",
       "      <td>2018-07-05</td>\n",
       "      <td>A010</td>\n",
       "      <td>2</td>\n",
       "      <td>284266</td>\n",
       "      <td>223768</td>\n",
       "      <td>1.000</td>\n",
       "      <td>2.50</td>\n",
       "      <td>3.0</td>\n",
       "      <td>m</td>\n",
       "      <td>-0.5</td>\n",
       "    </tr>\n",
       "    <tr>\n",
       "      <th>1732760</th>\n",
       "      <td>2018-07-05</td>\n",
       "      <td>A010</td>\n",
       "      <td>2</td>\n",
       "      <td>284263</td>\n",
       "      <td>205100</td>\n",
       "      <td>1.000</td>\n",
       "      <td>6.80</td>\n",
       "      <td>6.8</td>\n",
       "      <td>n</td>\n",
       "      <td>0.0</td>\n",
       "    </tr>\n",
       "  </tbody>\n",
       "</table>\n",
       "<p>1732761 rows × 10 columns</p>\n",
       "</div>"
      ],
      "text/plain": [
       "              SDATE STORE_CODE  POSID  BASK_CODE  PROD_CODE  ITEM_QUANTITY  \\\n",
       "0        2018-06-01       D007      3     250451      29405          1.000   \n",
       "1        2018-06-01       D007      3     250451      13187          1.000   \n",
       "2        2018-06-01       D007      3     250243     196249          1.000   \n",
       "3        2018-06-01       D007      3     250243     199637          1.000   \n",
       "4        2018-06-01       D007      1     160905     195012          3.222   \n",
       "...             ...        ...    ...        ...        ...            ...   \n",
       "1732756  2018-07-05       A010      2     284254     144474          0.470   \n",
       "1732757  2018-07-05       A010      2     284265       2243         24.000   \n",
       "1732758  2018-07-05       A010      2     284406     216571          1.000   \n",
       "1732759  2018-07-05       A010      2     284266     223768          1.000   \n",
       "1732760  2018-07-05       A010      2     284263     205100          1.000   \n",
       "\n",
       "         ITEM_SPEND  NORMAL_PRICE DISCOUNT_TYPE  DISCOUNT_AMOUNT  \n",
       "0              1.70           2.0             m             -0.3  \n",
       "1              1.00           1.0             n              0.0  \n",
       "2             99.00          99.0             m              0.0  \n",
       "3              9.90          16.8             p             -6.9  \n",
       "4             18.69           5.8             n              0.0  \n",
       "...             ...           ...           ...              ...  \n",
       "1732756       26.32          56.0             n              0.0  \n",
       "1732757       43.20           1.8             n              0.0  \n",
       "1732758       14.50          14.5             n              0.0  \n",
       "1732759        2.50           3.0             m             -0.5  \n",
       "1732760        6.80           6.8             n              0.0  \n",
       "\n",
       "[1732761 rows x 10 columns]"
      ]
     },
     "execution_count": 3,
     "metadata": {},
     "output_type": "execute_result"
    }
   ],
   "source": [
    "data.dropna(axis=0,how='any') "
   ]
  },
  {
   "cell_type": "markdown",
   "metadata": {},
   "source": [
    "### 2. 删除所有重复的行"
   ]
  },
  {
   "cell_type": "code",
   "execution_count": 4,
   "metadata": {
    "scrolled": true
   },
   "outputs": [
    {
     "data": {
      "text/plain": [
       "0          False\n",
       "1          False\n",
       "2          False\n",
       "3          False\n",
       "4          False\n",
       "           ...  \n",
       "1732756    False\n",
       "1732757    False\n",
       "1732758    False\n",
       "1732759    False\n",
       "1732760    False\n",
       "Length: 1732761, dtype: bool"
      ]
     },
     "execution_count": 4,
     "metadata": {},
     "output_type": "execute_result"
    }
   ],
   "source": [
    "#判断是否有重复的数据\n",
    "data.duplicated()"
   ]
  },
  {
   "cell_type": "code",
   "execution_count": 5,
   "metadata": {},
   "outputs": [
    {
     "data": {
      "text/html": [
       "<div>\n",
       "<style scoped>\n",
       "    .dataframe tbody tr th:only-of-type {\n",
       "        vertical-align: middle;\n",
       "    }\n",
       "\n",
       "    .dataframe tbody tr th {\n",
       "        vertical-align: top;\n",
       "    }\n",
       "\n",
       "    .dataframe thead th {\n",
       "        text-align: right;\n",
       "    }\n",
       "</style>\n",
       "<table border=\"1\" class=\"dataframe\">\n",
       "  <thead>\n",
       "    <tr style=\"text-align: right;\">\n",
       "      <th></th>\n",
       "      <th>SDATE</th>\n",
       "      <th>STORE_CODE</th>\n",
       "      <th>POSID</th>\n",
       "      <th>BASK_CODE</th>\n",
       "      <th>PROD_CODE</th>\n",
       "      <th>ITEM_QUANTITY</th>\n",
       "      <th>ITEM_SPEND</th>\n",
       "      <th>NORMAL_PRICE</th>\n",
       "      <th>DISCOUNT_TYPE</th>\n",
       "      <th>DISCOUNT_AMOUNT</th>\n",
       "    </tr>\n",
       "  </thead>\n",
       "  <tbody>\n",
       "    <tr>\n",
       "      <th>0</th>\n",
       "      <td>2018-06-01</td>\n",
       "      <td>D007</td>\n",
       "      <td>3</td>\n",
       "      <td>250451</td>\n",
       "      <td>29405</td>\n",
       "      <td>1.000</td>\n",
       "      <td>1.70</td>\n",
       "      <td>2.0</td>\n",
       "      <td>m</td>\n",
       "      <td>-0.3</td>\n",
       "    </tr>\n",
       "    <tr>\n",
       "      <th>1</th>\n",
       "      <td>2018-06-01</td>\n",
       "      <td>D007</td>\n",
       "      <td>3</td>\n",
       "      <td>250451</td>\n",
       "      <td>13187</td>\n",
       "      <td>1.000</td>\n",
       "      <td>1.00</td>\n",
       "      <td>1.0</td>\n",
       "      <td>n</td>\n",
       "      <td>0.0</td>\n",
       "    </tr>\n",
       "    <tr>\n",
       "      <th>2</th>\n",
       "      <td>2018-06-01</td>\n",
       "      <td>D007</td>\n",
       "      <td>3</td>\n",
       "      <td>250243</td>\n",
       "      <td>196249</td>\n",
       "      <td>1.000</td>\n",
       "      <td>99.00</td>\n",
       "      <td>99.0</td>\n",
       "      <td>m</td>\n",
       "      <td>0.0</td>\n",
       "    </tr>\n",
       "    <tr>\n",
       "      <th>3</th>\n",
       "      <td>2018-06-01</td>\n",
       "      <td>D007</td>\n",
       "      <td>3</td>\n",
       "      <td>250243</td>\n",
       "      <td>199637</td>\n",
       "      <td>1.000</td>\n",
       "      <td>9.90</td>\n",
       "      <td>16.8</td>\n",
       "      <td>p</td>\n",
       "      <td>-6.9</td>\n",
       "    </tr>\n",
       "    <tr>\n",
       "      <th>4</th>\n",
       "      <td>2018-06-01</td>\n",
       "      <td>D007</td>\n",
       "      <td>1</td>\n",
       "      <td>160905</td>\n",
       "      <td>195012</td>\n",
       "      <td>3.222</td>\n",
       "      <td>18.69</td>\n",
       "      <td>5.8</td>\n",
       "      <td>n</td>\n",
       "      <td>0.0</td>\n",
       "    </tr>\n",
       "    <tr>\n",
       "      <th>...</th>\n",
       "      <td>...</td>\n",
       "      <td>...</td>\n",
       "      <td>...</td>\n",
       "      <td>...</td>\n",
       "      <td>...</td>\n",
       "      <td>...</td>\n",
       "      <td>...</td>\n",
       "      <td>...</td>\n",
       "      <td>...</td>\n",
       "      <td>...</td>\n",
       "    </tr>\n",
       "    <tr>\n",
       "      <th>1732756</th>\n",
       "      <td>2018-07-05</td>\n",
       "      <td>A010</td>\n",
       "      <td>2</td>\n",
       "      <td>284254</td>\n",
       "      <td>144474</td>\n",
       "      <td>0.470</td>\n",
       "      <td>26.32</td>\n",
       "      <td>56.0</td>\n",
       "      <td>n</td>\n",
       "      <td>0.0</td>\n",
       "    </tr>\n",
       "    <tr>\n",
       "      <th>1732757</th>\n",
       "      <td>2018-07-05</td>\n",
       "      <td>A010</td>\n",
       "      <td>2</td>\n",
       "      <td>284265</td>\n",
       "      <td>2243</td>\n",
       "      <td>24.000</td>\n",
       "      <td>43.20</td>\n",
       "      <td>1.8</td>\n",
       "      <td>n</td>\n",
       "      <td>0.0</td>\n",
       "    </tr>\n",
       "    <tr>\n",
       "      <th>1732758</th>\n",
       "      <td>2018-07-05</td>\n",
       "      <td>A010</td>\n",
       "      <td>2</td>\n",
       "      <td>284406</td>\n",
       "      <td>216571</td>\n",
       "      <td>1.000</td>\n",
       "      <td>14.50</td>\n",
       "      <td>14.5</td>\n",
       "      <td>n</td>\n",
       "      <td>0.0</td>\n",
       "    </tr>\n",
       "    <tr>\n",
       "      <th>1732759</th>\n",
       "      <td>2018-07-05</td>\n",
       "      <td>A010</td>\n",
       "      <td>2</td>\n",
       "      <td>284266</td>\n",
       "      <td>223768</td>\n",
       "      <td>1.000</td>\n",
       "      <td>2.50</td>\n",
       "      <td>3.0</td>\n",
       "      <td>m</td>\n",
       "      <td>-0.5</td>\n",
       "    </tr>\n",
       "    <tr>\n",
       "      <th>1732760</th>\n",
       "      <td>2018-07-05</td>\n",
       "      <td>A010</td>\n",
       "      <td>2</td>\n",
       "      <td>284263</td>\n",
       "      <td>205100</td>\n",
       "      <td>1.000</td>\n",
       "      <td>6.80</td>\n",
       "      <td>6.8</td>\n",
       "      <td>n</td>\n",
       "      <td>0.0</td>\n",
       "    </tr>\n",
       "  </tbody>\n",
       "</table>\n",
       "<p>1520037 rows × 10 columns</p>\n",
       "</div>"
      ],
      "text/plain": [
       "              SDATE STORE_CODE  POSID  BASK_CODE  PROD_CODE  ITEM_QUANTITY  \\\n",
       "0        2018-06-01       D007      3     250451      29405          1.000   \n",
       "1        2018-06-01       D007      3     250451      13187          1.000   \n",
       "2        2018-06-01       D007      3     250243     196249          1.000   \n",
       "3        2018-06-01       D007      3     250243     199637          1.000   \n",
       "4        2018-06-01       D007      1     160905     195012          3.222   \n",
       "...             ...        ...    ...        ...        ...            ...   \n",
       "1732756  2018-07-05       A010      2     284254     144474          0.470   \n",
       "1732757  2018-07-05       A010      2     284265       2243         24.000   \n",
       "1732758  2018-07-05       A010      2     284406     216571          1.000   \n",
       "1732759  2018-07-05       A010      2     284266     223768          1.000   \n",
       "1732760  2018-07-05       A010      2     284263     205100          1.000   \n",
       "\n",
       "         ITEM_SPEND  NORMAL_PRICE DISCOUNT_TYPE  DISCOUNT_AMOUNT  \n",
       "0              1.70           2.0             m             -0.3  \n",
       "1              1.00           1.0             n              0.0  \n",
       "2             99.00          99.0             m              0.0  \n",
       "3              9.90          16.8             p             -6.9  \n",
       "4             18.69           5.8             n              0.0  \n",
       "...             ...           ...           ...              ...  \n",
       "1732756       26.32          56.0             n              0.0  \n",
       "1732757       43.20           1.8             n              0.0  \n",
       "1732758       14.50          14.5             n              0.0  \n",
       "1732759        2.50           3.0             m             -0.5  \n",
       "1732760        6.80           6.8             n              0.0  \n",
       "\n",
       "[1520037 rows x 10 columns]"
      ]
     },
     "execution_count": 5,
     "metadata": {},
     "output_type": "execute_result"
    }
   ],
   "source": [
    "#删除重复项\n",
    "data1=data.drop_duplicates()\n",
    "data1"
   ]
  },
  {
   "cell_type": "markdown",
   "metadata": {},
   "source": [
    "### 3.删除异常数据"
   ]
  },
  {
   "cell_type": "markdown",
   "metadata": {},
   "source": [
    "#### 通过公式计算实际折扣，将计算所得作为新的列添加到原数据中。为了比较实际折扣与表中已知的折扣，将两列数据均保留两位小数。筛选出实际折扣与已知折扣不相等的数据行，共5737行，异常数据占总体数据不足1%，删除后样本量仍然足够，对后续数据分析影响不大，故删除这些异常值。\n",
    "#### 经过预处理，现样本数据data2的数据量为1,514,300条。"
   ]
  },
  {
   "cell_type": "code",
   "execution_count": 6,
   "metadata": {},
   "outputs": [],
   "source": [
    "data1=data1.copy()\n",
    "#将商品数量、商品售价和折扣中的负数变正数\n",
    "data1[\"ITEM_QUANTITY\"] = data1[\"ITEM_QUANTITY\"].abs()\n",
    "data1[\"ITEM_SPEND\"] = data1[\"ITEM_SPEND\"].abs()\n",
    "data1[\"DISCOUNT_AMOUNT\"] = data1[\"DISCOUNT_AMOUNT\"].abs()"
   ]
  },
  {
   "cell_type": "code",
   "execution_count": 7,
   "metadata": {},
   "outputs": [],
   "source": [
    "#计算实际折扣\n",
    "data1['money']=data1['ITEM_QUANTITY'] *data1[ 'NORMAL_PRICE'] - data1['ITEM_SPEND']"
   ]
  },
  {
   "cell_type": "code",
   "execution_count": 8,
   "metadata": {},
   "outputs": [],
   "source": [
    "#将实际折扣和表中已有的折扣值均保留两位小数\n",
    "data1['DISCOUNT_AMOUNT'] = data1['DISCOUNT_AMOUNT'].apply(lambda x: round(x,2))\n",
    "data1['money'] = data1['money'].apply(lambda y: round(y,2))"
   ]
  },
  {
   "cell_type": "code",
   "execution_count": 9,
   "metadata": {
    "scrolled": true
   },
   "outputs": [],
   "source": [
    "#计算实际折扣与已有折扣的差值，并将其添加到数据列表中\n",
    "data1['chazhi']=data1['DISCOUNT_AMOUNT'] - data1['money']"
   ]
  },
  {
   "cell_type": "code",
   "execution_count": 10,
   "metadata": {
    "scrolled": false
   },
   "outputs": [
    {
     "data": {
      "text/html": [
       "<div>\n",
       "<style scoped>\n",
       "    .dataframe tbody tr th:only-of-type {\n",
       "        vertical-align: middle;\n",
       "    }\n",
       "\n",
       "    .dataframe tbody tr th {\n",
       "        vertical-align: top;\n",
       "    }\n",
       "\n",
       "    .dataframe thead th {\n",
       "        text-align: right;\n",
       "    }\n",
       "</style>\n",
       "<table border=\"1\" class=\"dataframe\">\n",
       "  <thead>\n",
       "    <tr style=\"text-align: right;\">\n",
       "      <th></th>\n",
       "      <th>SDATE</th>\n",
       "      <th>STORE_CODE</th>\n",
       "      <th>POSID</th>\n",
       "      <th>BASK_CODE</th>\n",
       "      <th>PROD_CODE</th>\n",
       "      <th>ITEM_QUANTITY</th>\n",
       "      <th>ITEM_SPEND</th>\n",
       "      <th>NORMAL_PRICE</th>\n",
       "      <th>DISCOUNT_TYPE</th>\n",
       "      <th>DISCOUNT_AMOUNT</th>\n",
       "      <th>money</th>\n",
       "      <th>chazhi</th>\n",
       "    </tr>\n",
       "  </thead>\n",
       "  <tbody>\n",
       "    <tr>\n",
       "      <th>0</th>\n",
       "      <td>2018-06-01</td>\n",
       "      <td>D007</td>\n",
       "      <td>3</td>\n",
       "      <td>250451</td>\n",
       "      <td>29405</td>\n",
       "      <td>1.000</td>\n",
       "      <td>1.70</td>\n",
       "      <td>2.0</td>\n",
       "      <td>m</td>\n",
       "      <td>0.3</td>\n",
       "      <td>0.3</td>\n",
       "      <td>0.0</td>\n",
       "    </tr>\n",
       "    <tr>\n",
       "      <th>1</th>\n",
       "      <td>2018-06-01</td>\n",
       "      <td>D007</td>\n",
       "      <td>3</td>\n",
       "      <td>250451</td>\n",
       "      <td>13187</td>\n",
       "      <td>1.000</td>\n",
       "      <td>1.00</td>\n",
       "      <td>1.0</td>\n",
       "      <td>n</td>\n",
       "      <td>0.0</td>\n",
       "      <td>0.0</td>\n",
       "      <td>0.0</td>\n",
       "    </tr>\n",
       "    <tr>\n",
       "      <th>2</th>\n",
       "      <td>2018-06-01</td>\n",
       "      <td>D007</td>\n",
       "      <td>3</td>\n",
       "      <td>250243</td>\n",
       "      <td>196249</td>\n",
       "      <td>1.000</td>\n",
       "      <td>99.00</td>\n",
       "      <td>99.0</td>\n",
       "      <td>m</td>\n",
       "      <td>0.0</td>\n",
       "      <td>0.0</td>\n",
       "      <td>0.0</td>\n",
       "    </tr>\n",
       "    <tr>\n",
       "      <th>3</th>\n",
       "      <td>2018-06-01</td>\n",
       "      <td>D007</td>\n",
       "      <td>3</td>\n",
       "      <td>250243</td>\n",
       "      <td>199637</td>\n",
       "      <td>1.000</td>\n",
       "      <td>9.90</td>\n",
       "      <td>16.8</td>\n",
       "      <td>p</td>\n",
       "      <td>6.9</td>\n",
       "      <td>6.9</td>\n",
       "      <td>0.0</td>\n",
       "    </tr>\n",
       "    <tr>\n",
       "      <th>4</th>\n",
       "      <td>2018-06-01</td>\n",
       "      <td>D007</td>\n",
       "      <td>1</td>\n",
       "      <td>160905</td>\n",
       "      <td>195012</td>\n",
       "      <td>3.222</td>\n",
       "      <td>18.69</td>\n",
       "      <td>5.8</td>\n",
       "      <td>n</td>\n",
       "      <td>0.0</td>\n",
       "      <td>-0.0</td>\n",
       "      <td>0.0</td>\n",
       "    </tr>\n",
       "    <tr>\n",
       "      <th>...</th>\n",
       "      <td>...</td>\n",
       "      <td>...</td>\n",
       "      <td>...</td>\n",
       "      <td>...</td>\n",
       "      <td>...</td>\n",
       "      <td>...</td>\n",
       "      <td>...</td>\n",
       "      <td>...</td>\n",
       "      <td>...</td>\n",
       "      <td>...</td>\n",
       "      <td>...</td>\n",
       "      <td>...</td>\n",
       "    </tr>\n",
       "    <tr>\n",
       "      <th>1732756</th>\n",
       "      <td>2018-07-05</td>\n",
       "      <td>A010</td>\n",
       "      <td>2</td>\n",
       "      <td>284254</td>\n",
       "      <td>144474</td>\n",
       "      <td>0.470</td>\n",
       "      <td>26.32</td>\n",
       "      <td>56.0</td>\n",
       "      <td>n</td>\n",
       "      <td>0.0</td>\n",
       "      <td>0.0</td>\n",
       "      <td>0.0</td>\n",
       "    </tr>\n",
       "    <tr>\n",
       "      <th>1732757</th>\n",
       "      <td>2018-07-05</td>\n",
       "      <td>A010</td>\n",
       "      <td>2</td>\n",
       "      <td>284265</td>\n",
       "      <td>2243</td>\n",
       "      <td>24.000</td>\n",
       "      <td>43.20</td>\n",
       "      <td>1.8</td>\n",
       "      <td>n</td>\n",
       "      <td>0.0</td>\n",
       "      <td>0.0</td>\n",
       "      <td>0.0</td>\n",
       "    </tr>\n",
       "    <tr>\n",
       "      <th>1732758</th>\n",
       "      <td>2018-07-05</td>\n",
       "      <td>A010</td>\n",
       "      <td>2</td>\n",
       "      <td>284406</td>\n",
       "      <td>216571</td>\n",
       "      <td>1.000</td>\n",
       "      <td>14.50</td>\n",
       "      <td>14.5</td>\n",
       "      <td>n</td>\n",
       "      <td>0.0</td>\n",
       "      <td>0.0</td>\n",
       "      <td>0.0</td>\n",
       "    </tr>\n",
       "    <tr>\n",
       "      <th>1732759</th>\n",
       "      <td>2018-07-05</td>\n",
       "      <td>A010</td>\n",
       "      <td>2</td>\n",
       "      <td>284266</td>\n",
       "      <td>223768</td>\n",
       "      <td>1.000</td>\n",
       "      <td>2.50</td>\n",
       "      <td>3.0</td>\n",
       "      <td>m</td>\n",
       "      <td>0.5</td>\n",
       "      <td>0.5</td>\n",
       "      <td>0.0</td>\n",
       "    </tr>\n",
       "    <tr>\n",
       "      <th>1732760</th>\n",
       "      <td>2018-07-05</td>\n",
       "      <td>A010</td>\n",
       "      <td>2</td>\n",
       "      <td>284263</td>\n",
       "      <td>205100</td>\n",
       "      <td>1.000</td>\n",
       "      <td>6.80</td>\n",
       "      <td>6.8</td>\n",
       "      <td>n</td>\n",
       "      <td>0.0</td>\n",
       "      <td>0.0</td>\n",
       "      <td>0.0</td>\n",
       "    </tr>\n",
       "  </tbody>\n",
       "</table>\n",
       "<p>1514300 rows × 12 columns</p>\n",
       "</div>"
      ],
      "text/plain": [
       "              SDATE STORE_CODE  POSID  BASK_CODE  PROD_CODE  ITEM_QUANTITY  \\\n",
       "0        2018-06-01       D007      3     250451      29405          1.000   \n",
       "1        2018-06-01       D007      3     250451      13187          1.000   \n",
       "2        2018-06-01       D007      3     250243     196249          1.000   \n",
       "3        2018-06-01       D007      3     250243     199637          1.000   \n",
       "4        2018-06-01       D007      1     160905     195012          3.222   \n",
       "...             ...        ...    ...        ...        ...            ...   \n",
       "1732756  2018-07-05       A010      2     284254     144474          0.470   \n",
       "1732757  2018-07-05       A010      2     284265       2243         24.000   \n",
       "1732758  2018-07-05       A010      2     284406     216571          1.000   \n",
       "1732759  2018-07-05       A010      2     284266     223768          1.000   \n",
       "1732760  2018-07-05       A010      2     284263     205100          1.000   \n",
       "\n",
       "         ITEM_SPEND  NORMAL_PRICE DISCOUNT_TYPE  DISCOUNT_AMOUNT  money  \\\n",
       "0              1.70           2.0             m              0.3    0.3   \n",
       "1              1.00           1.0             n              0.0    0.0   \n",
       "2             99.00          99.0             m              0.0    0.0   \n",
       "3              9.90          16.8             p              6.9    6.9   \n",
       "4             18.69           5.8             n              0.0   -0.0   \n",
       "...             ...           ...           ...              ...    ...   \n",
       "1732756       26.32          56.0             n              0.0    0.0   \n",
       "1732757       43.20           1.8             n              0.0    0.0   \n",
       "1732758       14.50          14.5             n              0.0    0.0   \n",
       "1732759        2.50           3.0             m              0.5    0.5   \n",
       "1732760        6.80           6.8             n              0.0    0.0   \n",
       "\n",
       "         chazhi  \n",
       "0           0.0  \n",
       "1           0.0  \n",
       "2           0.0  \n",
       "3           0.0  \n",
       "4           0.0  \n",
       "...         ...  \n",
       "1732756     0.0  \n",
       "1732757     0.0  \n",
       "1732758     0.0  \n",
       "1732759     0.0  \n",
       "1732760     0.0  \n",
       "\n",
       "[1514300 rows x 12 columns]"
      ]
     },
     "execution_count": 10,
     "metadata": {},
     "output_type": "execute_result"
    }
   ],
   "source": [
    "#筛选出满足实际折扣与表中折扣相等的行,作为后续数据分析的样本数据\n",
    "data2=data1[data1.chazhi.isin([0])] \n",
    "data2"
   ]
  },
  {
   "cell_type": "markdown",
   "metadata": {},
   "source": [
    "## 1.2数据基本情况"
   ]
  },
  {
   "cell_type": "markdown",
   "metadata": {},
   "source": [
    "### 1.商品种类"
   ]
  },
  {
   "cell_type": "markdown",
   "metadata": {},
   "source": [
    "#### 超市共19264种商品，出现次数最多的前十名商品分别是：21835、194690、205540、72811、197532、205437、1557、75283、216571、198366。\t"
   ]
  },
  {
   "cell_type": "code",
   "execution_count": 11,
   "metadata": {},
   "outputs": [
    {
     "data": {
      "text/plain": [
       "19264"
      ]
     },
     "execution_count": 11,
     "metadata": {},
     "output_type": "execute_result"
    }
   ],
   "source": [
    "prod = list(data2['PROD_CODE'].unique())   # 列出该列的唯一值\n",
    "len(prod) # 统计该列有多少个不一样的值"
   ]
  },
  {
   "cell_type": "code",
   "execution_count": 12,
   "metadata": {},
   "outputs": [
    {
     "data": {
      "text/html": [
       "<div>\n",
       "<style scoped>\n",
       "    .dataframe tbody tr th:only-of-type {\n",
       "        vertical-align: middle;\n",
       "    }\n",
       "\n",
       "    .dataframe tbody tr th {\n",
       "        vertical-align: top;\n",
       "    }\n",
       "\n",
       "    .dataframe thead th {\n",
       "        text-align: right;\n",
       "    }\n",
       "</style>\n",
       "<table border=\"1\" class=\"dataframe\">\n",
       "  <thead>\n",
       "    <tr style=\"text-align: right;\">\n",
       "      <th></th>\n",
       "      <th>PROD_CODE</th>\n",
       "    </tr>\n",
       "  </thead>\n",
       "  <tbody>\n",
       "    <tr>\n",
       "      <th>21835</th>\n",
       "      <td>10417</td>\n",
       "    </tr>\n",
       "    <tr>\n",
       "      <th>194690</th>\n",
       "      <td>9498</td>\n",
       "    </tr>\n",
       "    <tr>\n",
       "      <th>205540</th>\n",
       "      <td>8422</td>\n",
       "    </tr>\n",
       "    <tr>\n",
       "      <th>72811</th>\n",
       "      <td>7733</td>\n",
       "    </tr>\n",
       "    <tr>\n",
       "      <th>197532</th>\n",
       "      <td>6420</td>\n",
       "    </tr>\n",
       "    <tr>\n",
       "      <th>...</th>\n",
       "      <td>...</td>\n",
       "    </tr>\n",
       "    <tr>\n",
       "      <th>160227</th>\n",
       "      <td>1</td>\n",
       "    </tr>\n",
       "    <tr>\n",
       "      <th>205097</th>\n",
       "      <td>1</td>\n",
       "    </tr>\n",
       "    <tr>\n",
       "      <th>222763</th>\n",
       "      <td>1</td>\n",
       "    </tr>\n",
       "    <tr>\n",
       "      <th>220614</th>\n",
       "      <td>1</td>\n",
       "    </tr>\n",
       "    <tr>\n",
       "      <th>76344</th>\n",
       "      <td>1</td>\n",
       "    </tr>\n",
       "  </tbody>\n",
       "</table>\n",
       "<p>19264 rows × 1 columns</p>\n",
       "</div>"
      ],
      "text/plain": [
       "        PROD_CODE\n",
       "21835       10417\n",
       "194690       9498\n",
       "205540       8422\n",
       "72811        7733\n",
       "197532       6420\n",
       "...           ...\n",
       "160227          1\n",
       "205097          1\n",
       "222763          1\n",
       "220614          1\n",
       "76344           1\n",
       "\n",
       "[19264 rows x 1 columns]"
      ]
     },
     "execution_count": 12,
     "metadata": {},
     "output_type": "execute_result"
    }
   ],
   "source": [
    "b = pd.DataFrame(data2['PROD_CODE'].value_counts()) # 统计每个唯一值出现了多少次\n",
    "b"
   ]
  },
  {
   "cell_type": "markdown",
   "metadata": {},
   "source": [
    "出现次数最多的前十名商品编号"
   ]
  },
  {
   "cell_type": "code",
   "execution_count": 13,
   "metadata": {
    "scrolled": true
   },
   "outputs": [
    {
     "data": {
      "text/html": [
       "<div>\n",
       "<style scoped>\n",
       "    .dataframe tbody tr th:only-of-type {\n",
       "        vertical-align: middle;\n",
       "    }\n",
       "\n",
       "    .dataframe tbody tr th {\n",
       "        vertical-align: top;\n",
       "    }\n",
       "\n",
       "    .dataframe thead th {\n",
       "        text-align: right;\n",
       "    }\n",
       "</style>\n",
       "<table border=\"1\" class=\"dataframe\">\n",
       "  <thead>\n",
       "    <tr style=\"text-align: right;\">\n",
       "      <th></th>\n",
       "      <th>PROD_CODE</th>\n",
       "    </tr>\n",
       "  </thead>\n",
       "  <tbody>\n",
       "    <tr>\n",
       "      <th>21835</th>\n",
       "      <td>10417</td>\n",
       "    </tr>\n",
       "    <tr>\n",
       "      <th>194690</th>\n",
       "      <td>9498</td>\n",
       "    </tr>\n",
       "    <tr>\n",
       "      <th>205540</th>\n",
       "      <td>8422</td>\n",
       "    </tr>\n",
       "    <tr>\n",
       "      <th>72811</th>\n",
       "      <td>7733</td>\n",
       "    </tr>\n",
       "    <tr>\n",
       "      <th>197532</th>\n",
       "      <td>6420</td>\n",
       "    </tr>\n",
       "    <tr>\n",
       "      <th>205437</th>\n",
       "      <td>5945</td>\n",
       "    </tr>\n",
       "    <tr>\n",
       "      <th>1557</th>\n",
       "      <td>5549</td>\n",
       "    </tr>\n",
       "    <tr>\n",
       "      <th>75283</th>\n",
       "      <td>5338</td>\n",
       "    </tr>\n",
       "    <tr>\n",
       "      <th>216571</th>\n",
       "      <td>5073</td>\n",
       "    </tr>\n",
       "    <tr>\n",
       "      <th>198366</th>\n",
       "      <td>4860</td>\n",
       "    </tr>\n",
       "  </tbody>\n",
       "</table>\n",
       "</div>"
      ],
      "text/plain": [
       "        PROD_CODE\n",
       "21835       10417\n",
       "194690       9498\n",
       "205540       8422\n",
       "72811        7733\n",
       "197532       6420\n",
       "205437       5945\n",
       "1557         5549\n",
       "75283        5338\n",
       "216571       5073\n",
       "198366       4860"
      ]
     },
     "execution_count": 13,
     "metadata": {},
     "output_type": "execute_result"
    }
   ],
   "source": [
    "bhead=b.head(10)\n",
    "bhead"
   ]
  },
  {
   "cell_type": "code",
   "execution_count": 14,
   "metadata": {},
   "outputs": [
    {
     "data": {
      "text/plain": [
       "<matplotlib.axes._subplots.AxesSubplot at 0x16535da6dc0>"
      ]
     },
     "execution_count": 14,
     "metadata": {},
     "output_type": "execute_result"
    },
    {
     "data": {
      "image/png": "[encoded data removed]",
      "text/plain": [
       "<Figure size 432x288 with 1 Axes>"
      ]
     },
     "metadata": {
      "needs_background": "light"
     },
     "output_type": "display_data"
    }
   ],
   "source": [
    "bhead.plot(kind='bar')"
   ]
  },
  {
   "cell_type": "markdown",
   "metadata": {},
   "source": [
    "### 2.商店数量"
   ]
  },
  {
   "cell_type": "markdown",
   "metadata": {},
   "source": [
    "#### 超市共有24个门店，其中A类门店有15家，D类门店有9家。"
   ]
  },
  {
   "cell_type": "code",
   "execution_count": 15,
   "metadata": {},
   "outputs": [
    {
     "data": {
      "text/plain": [
       "24"
      ]
     },
     "execution_count": 15,
     "metadata": {},
     "output_type": "execute_result"
    }
   ],
   "source": [
    "STORE = list(data2['STORE_CODE'].unique())   # 列出该列的唯一值\n",
    "len(STORE) # 统计该列有多少个不一样的值"
   ]
  },
  {
   "cell_type": "code",
   "execution_count": 16,
   "metadata": {},
   "outputs": [
    {
     "data": {
      "text/plain": [
       "D002    211224\n",
       "A001    170358\n",
       "D007    102455\n",
       "A008     94453\n",
       "A013     73599\n",
       "A006     67252\n",
       "D004     66294\n",
       "D006     58769\n",
       "A012     56536\n",
       "A021     55043\n",
       "A009     50734\n",
       "D008     49930\n",
       "A016     48929\n",
       "A019     45292\n",
       "D005     44281\n",
       "A007     43491\n",
       "A010     42489\n",
       "A004     39853\n",
       "A018     39803\n",
       "D009     39189\n",
       "A022     38448\n",
       "D010     30578\n",
       "A017     25432\n",
       "D003     19868\n",
       "Name: STORE_CODE, dtype: int64"
      ]
     },
     "execution_count": 16,
     "metadata": {},
     "output_type": "execute_result"
    }
   ],
   "source": [
    "data2['STORE_CODE'].value_counts()"
   ]
  },
  {
   "cell_type": "code",
   "execution_count": 17,
   "metadata": {},
   "outputs": [
    {
     "data": {
      "text/plain": [
       "15"
      ]
     },
     "execution_count": 17,
     "metadata": {},
     "output_type": "execute_result"
    }
   ],
   "source": [
    "#A类店铺的数量\n",
    "A=data2.loc[data['STORE_CODE'].str.contains('A')]\n",
    "STORE_A = list(A['STORE_CODE'].unique())   # 列出该列的唯一值\n",
    "len(STORE_A)"
   ]
  },
  {
   "cell_type": "code",
   "execution_count": 18,
   "metadata": {
    "scrolled": true
   },
   "outputs": [
    {
     "data": {
      "text/plain": [
       "9"
      ]
     },
     "execution_count": 18,
     "metadata": {},
     "output_type": "execute_result"
    }
   ],
   "source": [
    "#D类店铺的数量\n",
    "D=data2.loc[data['STORE_CODE'].str.contains('D')]\n",
    "STORE_D = list(D['STORE_CODE'].unique())   # 列出该列的唯一值\n",
    "len(STORE_D)"
   ]
  },
  {
   "cell_type": "markdown",
   "metadata": {},
   "source": [
    "### 3.购物篮数量"
   ]
  },
  {
   "cell_type": "markdown",
   "metadata": {},
   "source": [
    "#### 不重复的购物篮编码，共有280990个。正常情况下，一个购物篮编码对应一次购买行为，但是通过浏览数据，同样的购物篮编码对应一次或几次购买行为，如编码为205154的购物篮，在数据中共出现60次，这60次出现在不同的时间甚至门店。因此，购物篮编码不能单独用作统计交易次数的依据。故将时间和购物篮编码组合成为新的一列，使得购物篮编码唯一。"
   ]
  },
  {
   "cell_type": "code",
   "execution_count": 19,
   "metadata": {},
   "outputs": [
    {
     "data": {
      "text/plain": [
       "280990"
      ]
     },
     "execution_count": 19,
     "metadata": {},
     "output_type": "execute_result"
    }
   ],
   "source": [
    "bask = list(data2['BASK_CODE'].unique())   # 列出该列的唯一值\n",
    "len(bask) # 统计该列有多少个不一样的值"
   ]
  },
  {
   "cell_type": "code",
   "execution_count": 20,
   "metadata": {
    "scrolled": true
   },
   "outputs": [
    {
     "data": {
      "text/html": [
       "<div>\n",
       "<style scoped>\n",
       "    .dataframe tbody tr th:only-of-type {\n",
       "        vertical-align: middle;\n",
       "    }\n",
       "\n",
       "    .dataframe tbody tr th {\n",
       "        vertical-align: top;\n",
       "    }\n",
       "\n",
       "    .dataframe thead th {\n",
       "        text-align: right;\n",
       "    }\n",
       "</style>\n",
       "<table border=\"1\" class=\"dataframe\">\n",
       "  <thead>\n",
       "    <tr style=\"text-align: right;\">\n",
       "      <th></th>\n",
       "      <th>BASK_CODE</th>\n",
       "    </tr>\n",
       "  </thead>\n",
       "  <tbody>\n",
       "    <tr>\n",
       "      <th>205154</th>\n",
       "      <td>60</td>\n",
       "    </tr>\n",
       "    <tr>\n",
       "      <th>37307</th>\n",
       "      <td>59</td>\n",
       "    </tr>\n",
       "    <tr>\n",
       "      <th>211486</th>\n",
       "      <td>53</td>\n",
       "    </tr>\n",
       "    <tr>\n",
       "      <th>161504</th>\n",
       "      <td>53</td>\n",
       "    </tr>\n",
       "    <tr>\n",
       "      <th>36227</th>\n",
       "      <td>53</td>\n",
       "    </tr>\n",
       "    <tr>\n",
       "      <th>...</th>\n",
       "      <td>...</td>\n",
       "    </tr>\n",
       "    <tr>\n",
       "      <th>6728</th>\n",
       "      <td>1</td>\n",
       "    </tr>\n",
       "    <tr>\n",
       "      <th>12877</th>\n",
       "      <td>1</td>\n",
       "    </tr>\n",
       "    <tr>\n",
       "      <th>33972</th>\n",
       "      <td>1</td>\n",
       "    </tr>\n",
       "    <tr>\n",
       "      <th>72296</th>\n",
       "      <td>1</td>\n",
       "    </tr>\n",
       "    <tr>\n",
       "      <th>6147</th>\n",
       "      <td>1</td>\n",
       "    </tr>\n",
       "  </tbody>\n",
       "</table>\n",
       "<p>280990 rows × 1 columns</p>\n",
       "</div>"
      ],
      "text/plain": [
       "        BASK_CODE\n",
       "205154         60\n",
       "37307          59\n",
       "211486         53\n",
       "161504         53\n",
       "36227          53\n",
       "...           ...\n",
       "6728            1\n",
       "12877           1\n",
       "33972           1\n",
       "72296           1\n",
       "6147            1\n",
       "\n",
       "[280990 rows x 1 columns]"
      ]
     },
     "execution_count": 20,
     "metadata": {},
     "output_type": "execute_result"
    }
   ],
   "source": [
    "bask_n = pd.DataFrame(data2['BASK_CODE'].value_counts()) # 统计每个唯一值出现了多少次\n",
    "bask_n"
   ]
  },
  {
   "cell_type": "code",
   "execution_count": 21,
   "metadata": {
    "scrolled": false
   },
   "outputs": [
    {
     "data": {
      "text/html": [
       "<div>\n",
       "<style scoped>\n",
       "    .dataframe tbody tr th:only-of-type {\n",
       "        vertical-align: middle;\n",
       "    }\n",
       "\n",
       "    .dataframe tbody tr th {\n",
       "        vertical-align: top;\n",
       "    }\n",
       "\n",
       "    .dataframe thead th {\n",
       "        text-align: right;\n",
       "    }\n",
       "</style>\n",
       "<table border=\"1\" class=\"dataframe\">\n",
       "  <thead>\n",
       "    <tr style=\"text-align: right;\">\n",
       "      <th></th>\n",
       "      <th>SDATE</th>\n",
       "      <th>STORE_CODE</th>\n",
       "      <th>POSID</th>\n",
       "      <th>BASK_CODE</th>\n",
       "      <th>basket_code</th>\n",
       "      <th>PROD_CODE</th>\n",
       "      <th>ITEM_QUANTITY</th>\n",
       "      <th>ITEM_SPEND</th>\n",
       "      <th>NORMAL_PRICE</th>\n",
       "      <th>DISCOUNT_TYPE</th>\n",
       "      <th>DISCOUNT_AMOUNT</th>\n",
       "      <th>money</th>\n",
       "      <th>chazhi</th>\n",
       "    </tr>\n",
       "  </thead>\n",
       "  <tbody>\n",
       "    <tr>\n",
       "      <th>0</th>\n",
       "      <td>2018-06-01</td>\n",
       "      <td>D007</td>\n",
       "      <td>3</td>\n",
       "      <td>250451</td>\n",
       "      <td>2018-06-01250451</td>\n",
       "      <td>29405</td>\n",
       "      <td>1.000</td>\n",
       "      <td>1.70</td>\n",
       "      <td>2.0</td>\n",
       "      <td>m</td>\n",
       "      <td>0.3</td>\n",
       "      <td>0.3</td>\n",
       "      <td>0.0</td>\n",
       "    </tr>\n",
       "    <tr>\n",
       "      <th>1</th>\n",
       "      <td>2018-06-01</td>\n",
       "      <td>D007</td>\n",
       "      <td>3</td>\n",
       "      <td>250451</td>\n",
       "      <td>2018-06-01250451</td>\n",
       "      <td>13187</td>\n",
       "      <td>1.000</td>\n",
       "      <td>1.00</td>\n",
       "      <td>1.0</td>\n",
       "      <td>n</td>\n",
       "      <td>0.0</td>\n",
       "      <td>0.0</td>\n",
       "      <td>0.0</td>\n",
       "    </tr>\n",
       "    <tr>\n",
       "      <th>2</th>\n",
       "      <td>2018-06-01</td>\n",
       "      <td>D007</td>\n",
       "      <td>3</td>\n",
       "      <td>250243</td>\n",
       "      <td>2018-06-01250243</td>\n",
       "      <td>196249</td>\n",
       "      <td>1.000</td>\n",
       "      <td>99.00</td>\n",
       "      <td>99.0</td>\n",
       "      <td>m</td>\n",
       "      <td>0.0</td>\n",
       "      <td>0.0</td>\n",
       "      <td>0.0</td>\n",
       "    </tr>\n",
       "    <tr>\n",
       "      <th>3</th>\n",
       "      <td>2018-06-01</td>\n",
       "      <td>D007</td>\n",
       "      <td>3</td>\n",
       "      <td>250243</td>\n",
       "      <td>2018-06-01250243</td>\n",
       "      <td>199637</td>\n",
       "      <td>1.000</td>\n",
       "      <td>9.90</td>\n",
       "      <td>16.8</td>\n",
       "      <td>p</td>\n",
       "      <td>6.9</td>\n",
       "      <td>6.9</td>\n",
       "      <td>0.0</td>\n",
       "    </tr>\n",
       "    <tr>\n",
       "      <th>4</th>\n",
       "      <td>2018-06-01</td>\n",
       "      <td>D007</td>\n",
       "      <td>1</td>\n",
       "      <td>160905</td>\n",
       "      <td>2018-06-01160905</td>\n",
       "      <td>195012</td>\n",
       "      <td>3.222</td>\n",
       "      <td>18.69</td>\n",
       "      <td>5.8</td>\n",
       "      <td>n</td>\n",
       "      <td>0.0</td>\n",
       "      <td>-0.0</td>\n",
       "      <td>0.0</td>\n",
       "    </tr>\n",
       "  </tbody>\n",
       "</table>\n",
       "</div>"
      ],
      "text/plain": [
       "        SDATE STORE_CODE  POSID  BASK_CODE       basket_code  PROD_CODE  \\\n",
       "0  2018-06-01       D007      3     250451  2018-06-01250451      29405   \n",
       "1  2018-06-01       D007      3     250451  2018-06-01250451      13187   \n",
       "2  2018-06-01       D007      3     250243  2018-06-01250243     196249   \n",
       "3  2018-06-01       D007      3     250243  2018-06-01250243     199637   \n",
       "4  2018-06-01       D007      1     160905  2018-06-01160905     195012   \n",
       "\n",
       "   ITEM_QUANTITY  ITEM_SPEND  NORMAL_PRICE DISCOUNT_TYPE  DISCOUNT_AMOUNT  \\\n",
       "0          1.000        1.70           2.0             m              0.3   \n",
       "1          1.000        1.00           1.0             n              0.0   \n",
       "2          1.000       99.00          99.0             m              0.0   \n",
       "3          1.000        9.90          16.8             p              6.9   \n",
       "4          3.222       18.69           5.8             n              0.0   \n",
       "\n",
       "   money  chazhi  \n",
       "0    0.3     0.0  \n",
       "1    0.0     0.0  \n",
       "2    0.0     0.0  \n",
       "3    6.9     0.0  \n",
       "4   -0.0     0.0  "
      ]
     },
     "execution_count": 21,
     "metadata": {},
     "output_type": "execute_result"
    }
   ],
   "source": [
    "#将日期和购物篮编码合并作为新的一列，插入到第4列\n",
    "basket = data2[\"SDATE\"] +data2[\"BASK_CODE\"].map(str)\n",
    "data2.insert(4,'basket_code',basket)\n",
    "data2.head()"
   ]
  },
  {
   "cell_type": "code",
   "execution_count": 22,
   "metadata": {
    "scrolled": false
   },
   "outputs": [
    {
     "data": {
      "text/html": [
       "<div>\n",
       "<style scoped>\n",
       "    .dataframe tbody tr th:only-of-type {\n",
       "        vertical-align: middle;\n",
       "    }\n",
       "\n",
       "    .dataframe tbody tr th {\n",
       "        vertical-align: top;\n",
       "    }\n",
       "\n",
       "    .dataframe thead th {\n",
       "        text-align: right;\n",
       "    }\n",
       "</style>\n",
       "<table border=\"1\" class=\"dataframe\">\n",
       "  <thead>\n",
       "    <tr style=\"text-align: right;\">\n",
       "      <th></th>\n",
       "      <th>basket_code</th>\n",
       "    </tr>\n",
       "  </thead>\n",
       "  <tbody>\n",
       "    <tr>\n",
       "      <th>2018-07-05224729</th>\n",
       "      <td>52</td>\n",
       "    </tr>\n",
       "    <tr>\n",
       "      <th>2018-06-10147354</th>\n",
       "      <td>49</td>\n",
       "    </tr>\n",
       "    <tr>\n",
       "      <th>2018-06-10149308</th>\n",
       "      <td>48</td>\n",
       "    </tr>\n",
       "    <tr>\n",
       "      <th>2018-07-03223579</th>\n",
       "      <td>44</td>\n",
       "    </tr>\n",
       "    <tr>\n",
       "      <th>2018-06-0536227</th>\n",
       "      <td>44</td>\n",
       "    </tr>\n",
       "  </tbody>\n",
       "</table>\n",
       "</div>"
      ],
      "text/plain": [
       "                  basket_code\n",
       "2018-07-05224729           52\n",
       "2018-06-10147354           49\n",
       "2018-06-10149308           48\n",
       "2018-07-03223579           44\n",
       "2018-06-0536227            44"
      ]
     },
     "execution_count": 22,
     "metadata": {},
     "output_type": "execute_result"
    }
   ],
   "source": [
    "basket_n = pd.DataFrame(data2['basket_code'].value_counts()) # 统计每个唯一值出现了多少次\n",
    "basket_n.head()"
   ]
  },
  {
   "cell_type": "markdown",
   "metadata": {},
   "source": [
    "### 4.打折类型"
   ]
  },
  {
   "cell_type": "markdown",
   "metadata": {},
   "source": [
    "#### 共有9种打折方式，分别是n,p,m,v,x,q,Z,s,h"
   ]
  },
  {
   "cell_type": "code",
   "execution_count": 23,
   "metadata": {},
   "outputs": [
    {
     "data": {
      "text/plain": [
       "9"
      ]
     },
     "execution_count": 23,
     "metadata": {},
     "output_type": "execute_result"
    }
   ],
   "source": [
    "disc = list(data2['DISCOUNT_TYPE'].unique())   # 列出该列的唯一值\n",
    "len(disc) # 统计该列有多少个不一样的值"
   ]
  },
  {
   "cell_type": "code",
   "execution_count": 24,
   "metadata": {},
   "outputs": [
    {
     "data": {
      "text/html": [
       "<div>\n",
       "<style scoped>\n",
       "    .dataframe tbody tr th:only-of-type {\n",
       "        vertical-align: middle;\n",
       "    }\n",
       "\n",
       "    .dataframe tbody tr th {\n",
       "        vertical-align: top;\n",
       "    }\n",
       "\n",
       "    .dataframe thead th {\n",
       "        text-align: right;\n",
       "    }\n",
       "</style>\n",
       "<table border=\"1\" class=\"dataframe\">\n",
       "  <thead>\n",
       "    <tr style=\"text-align: right;\">\n",
       "      <th></th>\n",
       "      <th>DISCOUNT_TYPE</th>\n",
       "    </tr>\n",
       "  </thead>\n",
       "  <tbody>\n",
       "    <tr>\n",
       "      <th>n</th>\n",
       "      <td>1052404</td>\n",
       "    </tr>\n",
       "    <tr>\n",
       "      <th>p</th>\n",
       "      <td>311911</td>\n",
       "    </tr>\n",
       "    <tr>\n",
       "      <th>m</th>\n",
       "      <td>131943</td>\n",
       "    </tr>\n",
       "    <tr>\n",
       "      <th>v</th>\n",
       "      <td>11851</td>\n",
       "    </tr>\n",
       "    <tr>\n",
       "      <th>x</th>\n",
       "      <td>4530</td>\n",
       "    </tr>\n",
       "    <tr>\n",
       "      <th>q</th>\n",
       "      <td>1458</td>\n",
       "    </tr>\n",
       "    <tr>\n",
       "      <th>Z</th>\n",
       "      <td>196</td>\n",
       "    </tr>\n",
       "    <tr>\n",
       "      <th>s</th>\n",
       "      <td>6</td>\n",
       "    </tr>\n",
       "    <tr>\n",
       "      <th>h</th>\n",
       "      <td>1</td>\n",
       "    </tr>\n",
       "  </tbody>\n",
       "</table>\n",
       "</div>"
      ],
      "text/plain": [
       "   DISCOUNT_TYPE\n",
       "n        1052404\n",
       "p         311911\n",
       "m         131943\n",
       "v          11851\n",
       "x           4530\n",
       "q           1458\n",
       "Z            196\n",
       "s              6\n",
       "h              1"
      ]
     },
     "execution_count": 24,
     "metadata": {},
     "output_type": "execute_result"
    }
   ],
   "source": [
    "disc_n = pd.DataFrame(data2['DISCOUNT_TYPE'].value_counts()) # 统计每个唯一值出现了多少次\n",
    "disc_n"
   ]
  },
  {
   "cell_type": "markdown",
   "metadata": {},
   "source": [
    "### 5.时间"
   ]
  },
  {
   "cell_type": "markdown",
   "metadata": {},
   "source": [
    "#### 数据记录了超市从2018-6-1到2018-7-5，共35天的销售记录，其中6月17日消费次数高达25817次，其次是6月18日和6月19日，均突破了2万次，明显高于其他时间，后续可以分析出现此现象的原因。下表显示了消费次数最多的前十天。"
   ]
  },
  {
   "cell_type": "code",
   "execution_count": 25,
   "metadata": {},
   "outputs": [
    {
     "data": {
      "text/plain": [
       "35"
      ]
     },
     "execution_count": 25,
     "metadata": {},
     "output_type": "execute_result"
    }
   ],
   "source": [
    "date = list(data2['SDATE'].unique())   # 列出该列的唯一值\n",
    "len(date) # 统计该列有多少个不一样的值"
   ]
  },
  {
   "cell_type": "code",
   "execution_count": 26,
   "metadata": {},
   "outputs": [
    {
     "data": {
      "text/html": [
       "<div>\n",
       "<style scoped>\n",
       "    .dataframe tbody tr th:only-of-type {\n",
       "        vertical-align: middle;\n",
       "    }\n",
       "\n",
       "    .dataframe tbody tr th {\n",
       "        vertical-align: top;\n",
       "    }\n",
       "\n",
       "    .dataframe thead th {\n",
       "        text-align: right;\n",
       "    }\n",
       "</style>\n",
       "<table border=\"1\" class=\"dataframe\">\n",
       "  <thead>\n",
       "    <tr style=\"text-align: right;\">\n",
       "      <th></th>\n",
       "      <th>basket_code</th>\n",
       "    </tr>\n",
       "    <tr>\n",
       "      <th>SDATE</th>\n",
       "      <th></th>\n",
       "    </tr>\n",
       "  </thead>\n",
       "  <tbody>\n",
       "    <tr>\n",
       "      <th>2018-06-17</th>\n",
       "      <td>25817</td>\n",
       "    </tr>\n",
       "    <tr>\n",
       "      <th>2018-06-18</th>\n",
       "      <td>23656</td>\n",
       "    </tr>\n",
       "    <tr>\n",
       "      <th>2018-06-16</th>\n",
       "      <td>21389</td>\n",
       "    </tr>\n",
       "    <tr>\n",
       "      <th>2018-06-13</th>\n",
       "      <td>18944</td>\n",
       "    </tr>\n",
       "    <tr>\n",
       "      <th>2018-06-02</th>\n",
       "      <td>18381</td>\n",
       "    </tr>\n",
       "    <tr>\n",
       "      <th>2018-06-10</th>\n",
       "      <td>18294</td>\n",
       "    </tr>\n",
       "    <tr>\n",
       "      <th>2018-06-15</th>\n",
       "      <td>17654</td>\n",
       "    </tr>\n",
       "    <tr>\n",
       "      <th>2018-06-01</th>\n",
       "      <td>17576</td>\n",
       "    </tr>\n",
       "    <tr>\n",
       "      <th>2018-07-01</th>\n",
       "      <td>17436</td>\n",
       "    </tr>\n",
       "    <tr>\n",
       "      <th>2018-06-30</th>\n",
       "      <td>17381</td>\n",
       "    </tr>\n",
       "  </tbody>\n",
       "</table>\n",
       "</div>"
      ],
      "text/plain": [
       "            basket_code\n",
       "SDATE                  \n",
       "2018-06-17        25817\n",
       "2018-06-18        23656\n",
       "2018-06-16        21389\n",
       "2018-06-13        18944\n",
       "2018-06-02        18381\n",
       "2018-06-10        18294\n",
       "2018-06-15        17654\n",
       "2018-06-01        17576\n",
       "2018-07-01        17436\n",
       "2018-06-30        17381"
      ]
     },
     "execution_count": 26,
     "metadata": {},
     "output_type": "execute_result"
    }
   ],
   "source": [
    "#交易次数最多的10天\n",
    "date_n=data2[['SDATE','basket_code',]].groupby('SDATE').nunique()\n",
    "date_n.rename(columns={'SDATE':'111'}, inplace = True)#更改列名\n",
    "del date_n['111']\n",
    "date_n.sort_values(ascending=False,by='basket_code').head(10)"
   ]
  },
  {
   "cell_type": "markdown",
   "metadata": {},
   "source": [
    "# 二、数据分析"
   ]
  },
  {
   "cell_type": "markdown",
   "metadata": {},
   "source": [
    "## 2.1店铺销售情况"
   ]
  },
  {
   "cell_type": "code",
   "execution_count": 27,
   "metadata": {},
   "outputs": [],
   "source": [
    "#为了直观的显示数字，不采用科学计数法\n",
    "np.set_printoptions(suppress=True)\n",
    "pd.set_option('display.float_format', lambda x: '%.2f' % x) "
   ]
  },
  {
   "cell_type": "markdown",
   "metadata": {},
   "source": [
    "### 1.各店铺的销售额"
   ]
  },
  {
   "cell_type": "markdown",
   "metadata": {},
   "source": [
    "#### 下表及图展示了各店铺35天的销售额情况，其中A001店铺的销售额最高，是3103098.63元；售额过百万的店铺有A001，D002，D007，A008，A013；销售额最低的店铺是D003，销售额只有241674.49元。企业应该去找出销售额的店铺的原因，去解决问题，提高销售额。"
   ]
  },
  {
   "cell_type": "code",
   "execution_count": 28,
   "metadata": {},
   "outputs": [
    {
     "data": {
      "text/html": [
       "<div>\n",
       "<style scoped>\n",
       "    .dataframe tbody tr th:only-of-type {\n",
       "        vertical-align: middle;\n",
       "    }\n",
       "\n",
       "    .dataframe tbody tr th {\n",
       "        vertical-align: top;\n",
       "    }\n",
       "\n",
       "    .dataframe thead th {\n",
       "        text-align: right;\n",
       "    }\n",
       "</style>\n",
       "<table border=\"1\" class=\"dataframe\">\n",
       "  <thead>\n",
       "    <tr style=\"text-align: right;\">\n",
       "      <th></th>\n",
       "      <th>ITEM_SPEND</th>\n",
       "    </tr>\n",
       "    <tr>\n",
       "      <th>STORE_CODE</th>\n",
       "      <th></th>\n",
       "    </tr>\n",
       "  </thead>\n",
       "  <tbody>\n",
       "    <tr>\n",
       "      <th>A001</th>\n",
       "      <td>3103098.63</td>\n",
       "    </tr>\n",
       "    <tr>\n",
       "      <th>D002</th>\n",
       "      <td>2939895.03</td>\n",
       "    </tr>\n",
       "    <tr>\n",
       "      <th>D007</th>\n",
       "      <td>1274325.82</td>\n",
       "    </tr>\n",
       "    <tr>\n",
       "      <th>A008</th>\n",
       "      <td>1250599.48</td>\n",
       "    </tr>\n",
       "    <tr>\n",
       "      <th>A013</th>\n",
       "      <td>1018381.03</td>\n",
       "    </tr>\n",
       "    <tr>\n",
       "      <th>A006</th>\n",
       "      <td>846284.97</td>\n",
       "    </tr>\n",
       "    <tr>\n",
       "      <th>A012</th>\n",
       "      <td>812873.32</td>\n",
       "    </tr>\n",
       "    <tr>\n",
       "      <th>A009</th>\n",
       "      <td>769504.18</td>\n",
       "    </tr>\n",
       "    <tr>\n",
       "      <th>D004</th>\n",
       "      <td>760443.64</td>\n",
       "    </tr>\n",
       "    <tr>\n",
       "      <th>D006</th>\n",
       "      <td>746898.69</td>\n",
       "    </tr>\n",
       "    <tr>\n",
       "      <th>A021</th>\n",
       "      <td>712036.05</td>\n",
       "    </tr>\n",
       "    <tr>\n",
       "      <th>A016</th>\n",
       "      <td>709783.90</td>\n",
       "    </tr>\n",
       "    <tr>\n",
       "      <th>D008</th>\n",
       "      <td>650308.52</td>\n",
       "    </tr>\n",
       "    <tr>\n",
       "      <th>A010</th>\n",
       "      <td>615186.21</td>\n",
       "    </tr>\n",
       "    <tr>\n",
       "      <th>A019</th>\n",
       "      <td>611793.91</td>\n",
       "    </tr>\n",
       "    <tr>\n",
       "      <th>A007</th>\n",
       "      <td>606931.39</td>\n",
       "    </tr>\n",
       "    <tr>\n",
       "      <th>D005</th>\n",
       "      <td>530647.93</td>\n",
       "    </tr>\n",
       "    <tr>\n",
       "      <th>A018</th>\n",
       "      <td>483298.49</td>\n",
       "    </tr>\n",
       "    <tr>\n",
       "      <th>A004</th>\n",
       "      <td>453278.65</td>\n",
       "    </tr>\n",
       "    <tr>\n",
       "      <th>A022</th>\n",
       "      <td>452023.73</td>\n",
       "    </tr>\n",
       "    <tr>\n",
       "      <th>D009</th>\n",
       "      <td>439941.34</td>\n",
       "    </tr>\n",
       "    <tr>\n",
       "      <th>A017</th>\n",
       "      <td>383679.72</td>\n",
       "    </tr>\n",
       "    <tr>\n",
       "      <th>D010</th>\n",
       "      <td>341417.60</td>\n",
       "    </tr>\n",
       "    <tr>\n",
       "      <th>D003</th>\n",
       "      <td>241674.49</td>\n",
       "    </tr>\n",
       "  </tbody>\n",
       "</table>\n",
       "</div>"
      ],
      "text/plain": [
       "            ITEM_SPEND\n",
       "STORE_CODE            \n",
       "A001        3103098.63\n",
       "D002        2939895.03\n",
       "D007        1274325.82\n",
       "A008        1250599.48\n",
       "A013        1018381.03\n",
       "A006         846284.97\n",
       "A012         812873.32\n",
       "A009         769504.18\n",
       "D004         760443.64\n",
       "D006         746898.69\n",
       "A021         712036.05\n",
       "A016         709783.90\n",
       "D008         650308.52\n",
       "A010         615186.21\n",
       "A019         611793.91\n",
       "A007         606931.39\n",
       "D005         530647.93\n",
       "A018         483298.49\n",
       "A004         453278.65\n",
       "A022         452023.73\n",
       "D009         439941.34\n",
       "A017         383679.72\n",
       "D010         341417.60\n",
       "D003         241674.49"
      ]
     },
     "execution_count": 28,
     "metadata": {},
     "output_type": "execute_result"
    }
   ],
   "source": [
    "df_store=data2[['STORE_CODE','ITEM_SPEND',]].groupby('STORE_CODE').sum()\n",
    "df_store.sort_values(ascending=False,by='ITEM_SPEND')#降序排列 "
   ]
  },
  {
   "cell_type": "code",
   "execution_count": 29,
   "metadata": {},
   "outputs": [
    {
     "data": {
      "text/plain": [
       "<function matplotlib.pyplot.show(*args, **kw)>"
      ]
     },
     "execution_count": 29,
     "metadata": {},
     "output_type": "execute_result"
    },
    {
     "data": {
      "image/png": "[encoded data removed]",
      "text/plain": [
       "<Figure size 432x288 with 1 Axes>"
      ]
     },
     "metadata": {
      "needs_background": "light"
     },
     "output_type": "display_data"
    }
   ],
   "source": [
    "plt.rcParams[\"font.sans-serif\"]='SimHei'\n",
    "df_store.plot(kind='bar',title='各店铺销售额')\n",
    "plt.show"
   ]
  },
  {
   "cell_type": "markdown",
   "metadata": {},
   "source": [
    "### 2. 各店铺的商品数量"
   ]
  },
  {
   "cell_type": "markdown",
   "metadata": {},
   "source": [
    "#### 下表及图展示了各店铺商品数量的情况，其中店铺D002的商品数量最多，共有10797种商品；有5000种以上商品的店铺分别是D002，A001，D007，A013，A008，D006；店铺D003有2894种商品，是这24家店铺中商品数量最少的店铺。"
   ]
  },
  {
   "cell_type": "code",
   "execution_count": 30,
   "metadata": {},
   "outputs": [
    {
     "data": {
      "text/plain": [
       "STORE_CODE\n",
       "D002    10797\n",
       "A001     7592\n",
       "D007     6466\n",
       "A013     5443\n",
       "A008     5282\n",
       "D006     5035\n",
       "A012     4969\n",
       "D008     4927\n",
       "A021     4811\n",
       "A006     4755\n",
       "D004     4670\n",
       "A009     4596\n",
       "A007     4584\n",
       "A010     4494\n",
       "A022     4316\n",
       "A016     4264\n",
       "D005     4247\n",
       "A018     4173\n",
       "D009     4147\n",
       "A019     3678\n",
       "D010     3653\n",
       "A004     3574\n",
       "A017     3290\n",
       "D003     2894\n",
       "Name: PROD_CODE, dtype: int64"
      ]
     },
     "execution_count": 30,
     "metadata": {},
     "output_type": "execute_result"
    }
   ],
   "source": [
    "#每个店铺中的商品数量\n",
    "B=data2.groupby(['STORE_CODE']).PROD_CODE.nunique()\n",
    "#降序排列\n",
    "B.sort_values(ascending=False)\n"
   ]
  },
  {
   "cell_type": "code",
   "execution_count": 31,
   "metadata": {
    "scrolled": true
   },
   "outputs": [
    {
     "data": {
      "text/plain": [
       "<function matplotlib.pyplot.show(*args, **kw)>"
      ]
     },
     "execution_count": 31,
     "metadata": {},
     "output_type": "execute_result"
    },
    {
     "data": {
      "image/png": "[encoded data removed]",
      "text/plain": [
       "<Figure size 432x288 with 1 Axes>"
      ]
     },
     "metadata": {
      "needs_background": "light"
     },
     "output_type": "display_data"
    }
   ],
   "source": [
    "plt.rcParams[\"font.sans-serif\"]='SimHei'\n",
    "B.plot(kind='bar',title='各店铺商品数量')\n",
    "plt.show"
   ]
  },
  {
   "cell_type": "markdown",
   "metadata": {},
   "source": [
    "### 3.  A、D两类店铺的销售额趋势"
   ]
  },
  {
   "cell_type": "code",
   "execution_count": 32,
   "metadata": {
    "scrolled": true
   },
   "outputs": [
    {
     "data": {
      "text/html": [
       "<div>\n",
       "<style scoped>\n",
       "    .dataframe tbody tr th:only-of-type {\n",
       "        vertical-align: middle;\n",
       "    }\n",
       "\n",
       "    .dataframe tbody tr th {\n",
       "        vertical-align: top;\n",
       "    }\n",
       "\n",
       "    .dataframe thead th {\n",
       "        text-align: right;\n",
       "    }\n",
       "</style>\n",
       "<table border=\"1\" class=\"dataframe\">\n",
       "  <thead>\n",
       "    <tr style=\"text-align: right;\">\n",
       "      <th></th>\n",
       "      <th>A_SPEND</th>\n",
       "    </tr>\n",
       "    <tr>\n",
       "      <th>SDATE</th>\n",
       "      <th></th>\n",
       "    </tr>\n",
       "  </thead>\n",
       "  <tbody>\n",
       "    <tr>\n",
       "      <th>2018-06-01</th>\n",
       "      <td>339164.44</td>\n",
       "    </tr>\n",
       "    <tr>\n",
       "      <th>2018-06-02</th>\n",
       "      <td>325172.02</td>\n",
       "    </tr>\n",
       "    <tr>\n",
       "      <th>2018-06-03</th>\n",
       "      <td>304963.88</td>\n",
       "    </tr>\n",
       "    <tr>\n",
       "      <th>2018-06-04</th>\n",
       "      <td>227887.71</td>\n",
       "    </tr>\n",
       "    <tr>\n",
       "      <th>2018-06-05</th>\n",
       "      <td>256051.69</td>\n",
       "    </tr>\n",
       "    <tr>\n",
       "      <th>2018-06-06</th>\n",
       "      <td>296345.30</td>\n",
       "    </tr>\n",
       "    <tr>\n",
       "      <th>2018-06-07</th>\n",
       "      <td>245125.88</td>\n",
       "    </tr>\n",
       "    <tr>\n",
       "      <th>2018-06-08</th>\n",
       "      <td>332240.77</td>\n",
       "    </tr>\n",
       "    <tr>\n",
       "      <th>2018-06-09</th>\n",
       "      <td>414456.64</td>\n",
       "    </tr>\n",
       "    <tr>\n",
       "      <th>2018-06-10</th>\n",
       "      <td>415230.16</td>\n",
       "    </tr>\n",
       "    <tr>\n",
       "      <th>2018-06-11</th>\n",
       "      <td>307825.53</td>\n",
       "    </tr>\n",
       "    <tr>\n",
       "      <th>2018-06-12</th>\n",
       "      <td>344523.09</td>\n",
       "    </tr>\n",
       "    <tr>\n",
       "      <th>2018-06-13</th>\n",
       "      <td>436619.63</td>\n",
       "    </tr>\n",
       "    <tr>\n",
       "      <th>2018-06-14</th>\n",
       "      <td>366214.87</td>\n",
       "    </tr>\n",
       "    <tr>\n",
       "      <th>2018-06-15</th>\n",
       "      <td>470369.96</td>\n",
       "    </tr>\n",
       "    <tr>\n",
       "      <th>2018-06-16</th>\n",
       "      <td>762934.45</td>\n",
       "    </tr>\n",
       "    <tr>\n",
       "      <th>2018-06-17</th>\n",
       "      <td>1019161.26</td>\n",
       "    </tr>\n",
       "    <tr>\n",
       "      <th>2018-06-18</th>\n",
       "      <td>833751.38</td>\n",
       "    </tr>\n",
       "    <tr>\n",
       "      <th>2018-06-19</th>\n",
       "      <td>255108.93</td>\n",
       "    </tr>\n",
       "    <tr>\n",
       "      <th>2018-06-20</th>\n",
       "      <td>297352.35</td>\n",
       "    </tr>\n",
       "    <tr>\n",
       "      <th>2018-06-21</th>\n",
       "      <td>267284.94</td>\n",
       "    </tr>\n",
       "    <tr>\n",
       "      <th>2018-06-22</th>\n",
       "      <td>244491.82</td>\n",
       "    </tr>\n",
       "    <tr>\n",
       "      <th>2018-06-23</th>\n",
       "      <td>318068.51</td>\n",
       "    </tr>\n",
       "    <tr>\n",
       "      <th>2018-06-24</th>\n",
       "      <td>291312.08</td>\n",
       "    </tr>\n",
       "    <tr>\n",
       "      <th>2018-06-25</th>\n",
       "      <td>249868.28</td>\n",
       "    </tr>\n",
       "    <tr>\n",
       "      <th>2018-06-26</th>\n",
       "      <td>240438.08</td>\n",
       "    </tr>\n",
       "    <tr>\n",
       "      <th>2018-06-27</th>\n",
       "      <td>303405.71</td>\n",
       "    </tr>\n",
       "    <tr>\n",
       "      <th>2018-06-28</th>\n",
       "      <td>238631.59</td>\n",
       "    </tr>\n",
       "    <tr>\n",
       "      <th>2018-06-29</th>\n",
       "      <td>324224.24</td>\n",
       "    </tr>\n",
       "    <tr>\n",
       "      <th>2018-06-30</th>\n",
       "      <td>405081.49</td>\n",
       "    </tr>\n",
       "    <tr>\n",
       "      <th>2018-07-01</th>\n",
       "      <td>380135.16</td>\n",
       "    </tr>\n",
       "    <tr>\n",
       "      <th>2018-07-02</th>\n",
       "      <td>404897.87</td>\n",
       "    </tr>\n",
       "    <tr>\n",
       "      <th>2018-07-03</th>\n",
       "      <td>337832.87</td>\n",
       "    </tr>\n",
       "    <tr>\n",
       "      <th>2018-07-04</th>\n",
       "      <td>312622.69</td>\n",
       "    </tr>\n",
       "    <tr>\n",
       "      <th>2018-07-05</th>\n",
       "      <td>259958.39</td>\n",
       "    </tr>\n",
       "  </tbody>\n",
       "</table>\n",
       "</div>"
      ],
      "text/plain": [
       "              A_SPEND\n",
       "SDATE                \n",
       "2018-06-01  339164.44\n",
       "2018-06-02  325172.02\n",
       "2018-06-03  304963.88\n",
       "2018-06-04  227887.71\n",
       "2018-06-05  256051.69\n",
       "2018-06-06  296345.30\n",
       "2018-06-07  245125.88\n",
       "2018-06-08  332240.77\n",
       "2018-06-09  414456.64\n",
       "2018-06-10  415230.16\n",
       "2018-06-11  307825.53\n",
       "2018-06-12  344523.09\n",
       "2018-06-13  436619.63\n",
       "2018-06-14  366214.87\n",
       "2018-06-15  470369.96\n",
       "2018-06-16  762934.45\n",
       "2018-06-17 1019161.26\n",
       "2018-06-18  833751.38\n",
       "2018-06-19  255108.93\n",
       "2018-06-20  297352.35\n",
       "2018-06-21  267284.94\n",
       "2018-06-22  244491.82\n",
       "2018-06-23  318068.51\n",
       "2018-06-24  291312.08\n",
       "2018-06-25  249868.28\n",
       "2018-06-26  240438.08\n",
       "2018-06-27  303405.71\n",
       "2018-06-28  238631.59\n",
       "2018-06-29  324224.24\n",
       "2018-06-30  405081.49\n",
       "2018-07-01  380135.16\n",
       "2018-07-02  404897.87\n",
       "2018-07-03  337832.87\n",
       "2018-07-04  312622.69\n",
       "2018-07-05  259958.39"
      ]
     },
     "execution_count": 32,
     "metadata": {},
     "output_type": "execute_result"
    }
   ],
   "source": [
    "#A类店铺每天的销售额\n",
    "A_SPEND=A[['SDATE','ITEM_SPEND']].groupby('SDATE').sum()\n",
    "A_SPEND.rename(columns={'ITEM_SPEND':'A_SPEND'}, inplace = True)#更改列名\n",
    "A_SPEND"
   ]
  },
  {
   "cell_type": "markdown",
   "metadata": {},
   "source": [
    "#### 下图展示的是A类店铺从2018-6-1到2018-7-5期间的总体销售额趋势。可以很明显的看到在6-16到6-18这三天A类店铺销售额有明显的涨幅，在6月17日达到了峰值，在18日之后销售额又趋于平稳，回归了日常状态。后续就可以借此分析出现销售额明显增长的原因，是由于店铺的营销活动，或是其他原因，结合店铺的实际情况，可以找出销售额突然增长的原因。"
   ]
  },
  {
   "cell_type": "code",
   "execution_count": 33,
   "metadata": {},
   "outputs": [
    {
     "data": {
      "image/png": "[encoded data removed]",
      "text/plain": [
       "<Figure size 864x360 with 1 Axes>"
      ]
     },
     "metadata": {
      "needs_background": "light"
     },
     "output_type": "display_data"
    }
   ],
   "source": [
    "#A类店铺销售额趋势\n",
    "plt.rcParams['figure.figsize'] = (12.0, 5.0)#调整画布尺寸大小\n",
    "A_SPEND.plot()\n",
    "plt.show()"
   ]
  },
  {
   "cell_type": "markdown",
   "metadata": {},
   "source": [
    "#### 下图是D类店铺从2018-6-1到2018-7-5期间的总体销售额趋势，可以看出D类店铺的销售额总体较低，上下浮动不大，后续可以找出D类店铺出现问题的原因，有针对性的提出解决方案。"
   ]
  },
  {
   "cell_type": "code",
   "execution_count": 34,
   "metadata": {},
   "outputs": [
    {
     "data": {
      "image/png": "[encoded data removed]",
      "text/plain": [
       "<Figure size 864x360 with 1 Axes>"
      ]
     },
     "metadata": {
      "needs_background": "light"
     },
     "output_type": "display_data"
    }
   ],
   "source": [
    "#D类店铺每天的销售额\n",
    "D_SPEND=D[['SDATE','ITEM_SPEND']].groupby('SDATE').sum()\n",
    "D_SPEND.rename(columns={'ITEM_SPEND':'D_SPEND'}, inplace = True)\n",
    "plt.rcParams['figure.figsize'] = (12.0, 5.0)#调整画布尺寸大小\n",
    "D_SPEND.plot()\n",
    "plt.show()"
   ]
  },
  {
   "cell_type": "markdown",
   "metadata": {},
   "source": [
    "#### 将A类店和D类店的销售额变化趋势放在同一张表中，可以更直观的比较两类店铺的经营情况。两类店铺在此期间的销售额变化趋势基本保持一致，除16-18日的明显增长，两类店铺的日常经营比较稳定，销售额波动不大；但是D类店铺的销售额明显低于A类店铺，经营效益较差，后续需要与A类店铺做对比，找出效益低的原因，有针对性的改进，提升经营情况和销售额。"
   ]
  },
  {
   "cell_type": "code",
   "execution_count": 35,
   "metadata": {
    "scrolled": false
   },
   "outputs": [
    {
     "data": {
      "image/png": "[encoded data removed]",
      "text/plain": [
       "<Figure size 864x360 with 1 Axes>"
      ]
     },
     "metadata": {
      "needs_background": "light"
     },
     "output_type": "display_data"
    }
   ],
   "source": [
    "#将A、D的销售额趋势显示在同一张表中\n",
    "AD=pd.merge(A_SPEND, D_SPEND,on='SDATE')#将A和D合并为一个dataframe，通过相同的键\n",
    "\n",
    "plt.rcParams['figure.figsize'] = (12.0, 5.0)#调整画布尺寸大小\n",
    "AD.plot()\n",
    "plt.show()"
   ]
  },
  {
   "cell_type": "markdown",
   "metadata": {},
   "source": [
    "### 4. 门店的交易次数"
   ]
  },
  {
   "cell_type": "markdown",
   "metadata": {},
   "source": [
    "#### 下表显示了每个门店发生的交易次数，发生交易次数最多的是A001店铺，其次是D002和D007，根据上面对每个店铺销售额、商品数量的统计，这三家店铺稳居前列，说明这三家店铺的经营状况较好。"
   ]
  },
  {
   "cell_type": "code",
   "execution_count": 36,
   "metadata": {},
   "outputs": [
    {
     "data": {
      "text/html": [
       "<div>\n",
       "<style scoped>\n",
       "    .dataframe tbody tr th:only-of-type {\n",
       "        vertical-align: middle;\n",
       "    }\n",
       "\n",
       "    .dataframe tbody tr th {\n",
       "        vertical-align: top;\n",
       "    }\n",
       "\n",
       "    .dataframe thead th {\n",
       "        text-align: right;\n",
       "    }\n",
       "</style>\n",
       "<table border=\"1\" class=\"dataframe\">\n",
       "  <thead>\n",
       "    <tr style=\"text-align: right;\">\n",
       "      <th></th>\n",
       "      <th>basket_code</th>\n",
       "    </tr>\n",
       "    <tr>\n",
       "      <th>STORE_CODE</th>\n",
       "      <th></th>\n",
       "    </tr>\n",
       "  </thead>\n",
       "  <tbody>\n",
       "    <tr>\n",
       "      <th>A001</th>\n",
       "      <td>66377</td>\n",
       "    </tr>\n",
       "    <tr>\n",
       "      <th>D002</th>\n",
       "      <td>62925</td>\n",
       "    </tr>\n",
       "    <tr>\n",
       "      <th>D007</th>\n",
       "      <td>37526</td>\n",
       "    </tr>\n",
       "    <tr>\n",
       "      <th>A008</th>\n",
       "      <td>36533</td>\n",
       "    </tr>\n",
       "    <tr>\n",
       "      <th>A013</th>\n",
       "      <td>30030</td>\n",
       "    </tr>\n",
       "    <tr>\n",
       "      <th>A006</th>\n",
       "      <td>28443</td>\n",
       "    </tr>\n",
       "    <tr>\n",
       "      <th>A012</th>\n",
       "      <td>25023</td>\n",
       "    </tr>\n",
       "    <tr>\n",
       "      <th>A009</th>\n",
       "      <td>21870</td>\n",
       "    </tr>\n",
       "    <tr>\n",
       "      <th>D004</th>\n",
       "      <td>21406</td>\n",
       "    </tr>\n",
       "    <tr>\n",
       "      <th>A021</th>\n",
       "      <td>20660</td>\n",
       "    </tr>\n",
       "    <tr>\n",
       "      <th>D008</th>\n",
       "      <td>20618</td>\n",
       "    </tr>\n",
       "    <tr>\n",
       "      <th>A010</th>\n",
       "      <td>19588</td>\n",
       "    </tr>\n",
       "    <tr>\n",
       "      <th>D006</th>\n",
       "      <td>18591</td>\n",
       "    </tr>\n",
       "    <tr>\n",
       "      <th>A016</th>\n",
       "      <td>18338</td>\n",
       "    </tr>\n",
       "    <tr>\n",
       "      <th>A007</th>\n",
       "      <td>17889</td>\n",
       "    </tr>\n",
       "    <tr>\n",
       "      <th>A019</th>\n",
       "      <td>17019</td>\n",
       "    </tr>\n",
       "    <tr>\n",
       "      <th>D009</th>\n",
       "      <td>15873</td>\n",
       "    </tr>\n",
       "    <tr>\n",
       "      <th>A018</th>\n",
       "      <td>15715</td>\n",
       "    </tr>\n",
       "    <tr>\n",
       "      <th>D005</th>\n",
       "      <td>15308</td>\n",
       "    </tr>\n",
       "    <tr>\n",
       "      <th>A022</th>\n",
       "      <td>15290</td>\n",
       "    </tr>\n",
       "    <tr>\n",
       "      <th>A004</th>\n",
       "      <td>13427</td>\n",
       "    </tr>\n",
       "    <tr>\n",
       "      <th>A017</th>\n",
       "      <td>12513</td>\n",
       "    </tr>\n",
       "    <tr>\n",
       "      <th>D010</th>\n",
       "      <td>11091</td>\n",
       "    </tr>\n",
       "    <tr>\n",
       "      <th>D003</th>\n",
       "      <td>7780</td>\n",
       "    </tr>\n",
       "  </tbody>\n",
       "</table>\n",
       "</div>"
      ],
      "text/plain": [
       "            basket_code\n",
       "STORE_CODE             \n",
       "A001              66377\n",
       "D002              62925\n",
       "D007              37526\n",
       "A008              36533\n",
       "A013              30030\n",
       "A006              28443\n",
       "A012              25023\n",
       "A009              21870\n",
       "D004              21406\n",
       "A021              20660\n",
       "D008              20618\n",
       "A010              19588\n",
       "D006              18591\n",
       "A016              18338\n",
       "A007              17889\n",
       "A019              17019\n",
       "D009              15873\n",
       "A018              15715\n",
       "D005              15308\n",
       "A022              15290\n",
       "A004              13427\n",
       "A017              12513\n",
       "D010              11091\n",
       "D003               7780"
      ]
     },
     "execution_count": 36,
     "metadata": {},
     "output_type": "execute_result"
    }
   ],
   "source": [
    "store_n=data2[['STORE_CODE','basket_code',]].groupby('STORE_CODE').nunique()\n",
    "store_n.rename(columns={'STORE_CODE':'111'}, inplace = True)#更改列名\n",
    "del store_n['111']\n",
    "store_n.sort_values(ascending=False,by='basket_code')"
   ]
  },
  {
   "cell_type": "markdown",
   "metadata": {},
   "source": [
    "## 2.2. 商品销售情况"
   ]
  },
  {
   "cell_type": "markdown",
   "metadata": {},
   "source": [
    "#### 下表显示了超市总体销售量排名前十的商品编码，可以看出编码为149413的商品销量最好，高达37826件；在后续经营决策中可以考虑增加此种商品的库存，或增加同类型产品，防止缺货，以提高销售额。同理销量排名末尾的商品，可以经过一段时间的观察统计，决定是否要下架不再进行售卖，或者考虑用新品类替代。"
   ]
  },
  {
   "cell_type": "code",
   "execution_count": 37,
   "metadata": {
    "scrolled": true
   },
   "outputs": [
    {
     "data": {
      "text/html": [
       "<div>\n",
       "<style scoped>\n",
       "    .dataframe tbody tr th:only-of-type {\n",
       "        vertical-align: middle;\n",
       "    }\n",
       "\n",
       "    .dataframe tbody tr th {\n",
       "        vertical-align: top;\n",
       "    }\n",
       "\n",
       "    .dataframe thead th {\n",
       "        text-align: right;\n",
       "    }\n",
       "</style>\n",
       "<table border=\"1\" class=\"dataframe\">\n",
       "  <thead>\n",
       "    <tr style=\"text-align: right;\">\n",
       "      <th></th>\n",
       "      <th>ITEM_QUANTITY</th>\n",
       "    </tr>\n",
       "    <tr>\n",
       "      <th>PROD_CODE</th>\n",
       "      <th></th>\n",
       "    </tr>\n",
       "  </thead>\n",
       "  <tbody>\n",
       "    <tr>\n",
       "      <th>149413</th>\n",
       "      <td>37826.00</td>\n",
       "    </tr>\n",
       "    <tr>\n",
       "      <th>86772</th>\n",
       "      <td>28774.00</td>\n",
       "    </tr>\n",
       "    <tr>\n",
       "      <th>220834</th>\n",
       "      <td>24187.00</td>\n",
       "    </tr>\n",
       "    <tr>\n",
       "      <th>61623</th>\n",
       "      <td>21390.00</td>\n",
       "    </tr>\n",
       "    <tr>\n",
       "      <th>124556</th>\n",
       "      <td>18795.00</td>\n",
       "    </tr>\n",
       "    <tr>\n",
       "      <th>194690</th>\n",
       "      <td>18087.80</td>\n",
       "    </tr>\n",
       "    <tr>\n",
       "      <th>1152</th>\n",
       "      <td>17727.00</td>\n",
       "    </tr>\n",
       "    <tr>\n",
       "      <th>124554</th>\n",
       "      <td>15757.00</td>\n",
       "    </tr>\n",
       "    <tr>\n",
       "      <th>205540</th>\n",
       "      <td>15096.00</td>\n",
       "    </tr>\n",
       "    <tr>\n",
       "      <th>7133</th>\n",
       "      <td>15056.00</td>\n",
       "    </tr>\n",
       "  </tbody>\n",
       "</table>\n",
       "</div>"
      ],
      "text/plain": [
       "           ITEM_QUANTITY\n",
       "PROD_CODE               \n",
       "149413          37826.00\n",
       "86772           28774.00\n",
       "220834          24187.00\n",
       "61623           21390.00\n",
       "124556          18795.00\n",
       "194690          18087.80\n",
       "1152            17727.00\n",
       "124554          15757.00\n",
       "205540          15096.00\n",
       "7133            15056.00"
      ]
     },
     "execution_count": 37,
     "metadata": {},
     "output_type": "execute_result"
    }
   ],
   "source": [
    "#销量排名前十的商品编码及其销量\n",
    "df_store=data2[['PROD_CODE','ITEM_QUANTITY',]].groupby('PROD_CODE').sum()\n",
    "df_store.sort_values(ascending=False,by='ITEM_QUANTITY').head(10)#降序排列 "
   ]
  },
  {
   "cell_type": "code",
   "execution_count": 38,
   "metadata": {},
   "outputs": [
    {
     "data": {
      "text/html": [
       "<div>\n",
       "<style scoped>\n",
       "    .dataframe tbody tr th:only-of-type {\n",
       "        vertical-align: middle;\n",
       "    }\n",
       "\n",
       "    .dataframe tbody tr th {\n",
       "        vertical-align: top;\n",
       "    }\n",
       "\n",
       "    .dataframe thead th {\n",
       "        text-align: right;\n",
       "    }\n",
       "</style>\n",
       "<table border=\"1\" class=\"dataframe\">\n",
       "  <thead>\n",
       "    <tr style=\"text-align: right;\">\n",
       "      <th></th>\n",
       "      <th>ITEM_QUANTITY</th>\n",
       "    </tr>\n",
       "    <tr>\n",
       "      <th>PROD_CODE</th>\n",
       "      <th></th>\n",
       "    </tr>\n",
       "  </thead>\n",
       "  <tbody>\n",
       "    <tr>\n",
       "      <th>152624</th>\n",
       "      <td>0.11</td>\n",
       "    </tr>\n",
       "    <tr>\n",
       "      <th>207123</th>\n",
       "      <td>0.10</td>\n",
       "    </tr>\n",
       "    <tr>\n",
       "      <th>221623</th>\n",
       "      <td>0.10</td>\n",
       "    </tr>\n",
       "    <tr>\n",
       "      <th>209747</th>\n",
       "      <td>0.09</td>\n",
       "    </tr>\n",
       "    <tr>\n",
       "      <th>178247</th>\n",
       "      <td>0.09</td>\n",
       "    </tr>\n",
       "    <tr>\n",
       "      <th>223171</th>\n",
       "      <td>0.09</td>\n",
       "    </tr>\n",
       "    <tr>\n",
       "      <th>189718</th>\n",
       "      <td>0.06</td>\n",
       "    </tr>\n",
       "    <tr>\n",
       "      <th>24925</th>\n",
       "      <td>0.05</td>\n",
       "    </tr>\n",
       "    <tr>\n",
       "      <th>56482</th>\n",
       "      <td>0.05</td>\n",
       "    </tr>\n",
       "    <tr>\n",
       "      <th>207282</th>\n",
       "      <td>0.04</td>\n",
       "    </tr>\n",
       "  </tbody>\n",
       "</table>\n",
       "</div>"
      ],
      "text/plain": [
       "           ITEM_QUANTITY\n",
       "PROD_CODE               \n",
       "152624              0.11\n",
       "207123              0.10\n",
       "221623              0.10\n",
       "209747              0.09\n",
       "178247              0.09\n",
       "223171              0.09\n",
       "189718              0.06\n",
       "24925               0.05\n",
       "56482               0.05\n",
       "207282              0.04"
      ]
     },
     "execution_count": 38,
     "metadata": {},
     "output_type": "execute_result"
    }
   ],
   "source": [
    "#销量排名末尾的10种商品及其销量\n",
    "df_store.sort_values(ascending=False,by='ITEM_QUANTITY').tail(10)"
   ]
  },
  {
   "cell_type": "markdown",
   "metadata": {},
   "source": [
    "#### 下面两张表是A类店铺和D类销量排名前十的商品编码及销售量，与上述建议相似，各店铺可根据自己的商品销量情况，调整商品结构。"
   ]
  },
  {
   "cell_type": "code",
   "execution_count": 39,
   "metadata": {},
   "outputs": [
    {
     "data": {
      "text/html": [
       "<div>\n",
       "<style scoped>\n",
       "    .dataframe tbody tr th:only-of-type {\n",
       "        vertical-align: middle;\n",
       "    }\n",
       "\n",
       "    .dataframe tbody tr th {\n",
       "        vertical-align: top;\n",
       "    }\n",
       "\n",
       "    .dataframe thead th {\n",
       "        text-align: right;\n",
       "    }\n",
       "</style>\n",
       "<table border=\"1\" class=\"dataframe\">\n",
       "  <thead>\n",
       "    <tr style=\"text-align: right;\">\n",
       "      <th></th>\n",
       "      <th>ITEM_QUANTITY</th>\n",
       "    </tr>\n",
       "    <tr>\n",
       "      <th>PROD_CODE</th>\n",
       "      <th></th>\n",
       "    </tr>\n",
       "  </thead>\n",
       "  <tbody>\n",
       "    <tr>\n",
       "      <th>149413</th>\n",
       "      <td>29866.00</td>\n",
       "    </tr>\n",
       "    <tr>\n",
       "      <th>86772</th>\n",
       "      <td>16175.00</td>\n",
       "    </tr>\n",
       "    <tr>\n",
       "      <th>220834</th>\n",
       "      <td>15511.00</td>\n",
       "    </tr>\n",
       "    <tr>\n",
       "      <th>7133</th>\n",
       "      <td>13610.00</td>\n",
       "    </tr>\n",
       "    <tr>\n",
       "      <th>4463</th>\n",
       "      <td>11878.00</td>\n",
       "    </tr>\n",
       "    <tr>\n",
       "      <th>124556</th>\n",
       "      <td>11464.00</td>\n",
       "    </tr>\n",
       "    <tr>\n",
       "      <th>19211</th>\n",
       "      <td>11458.00</td>\n",
       "    </tr>\n",
       "    <tr>\n",
       "      <th>61623</th>\n",
       "      <td>11225.00</td>\n",
       "    </tr>\n",
       "    <tr>\n",
       "      <th>124554</th>\n",
       "      <td>10892.00</td>\n",
       "    </tr>\n",
       "    <tr>\n",
       "      <th>205540</th>\n",
       "      <td>10711.00</td>\n",
       "    </tr>\n",
       "  </tbody>\n",
       "</table>\n",
       "</div>"
      ],
      "text/plain": [
       "           ITEM_QUANTITY\n",
       "PROD_CODE               \n",
       "149413          29866.00\n",
       "86772           16175.00\n",
       "220834          15511.00\n",
       "7133            13610.00\n",
       "4463            11878.00\n",
       "124556          11464.00\n",
       "19211           11458.00\n",
       "61623           11225.00\n",
       "124554          10892.00\n",
       "205540          10711.00"
      ]
     },
     "execution_count": 39,
     "metadata": {},
     "output_type": "execute_result"
    }
   ],
   "source": [
    "#A类店铺销售数量前十的商品编码\n",
    "PROD_NUM_Ashop=A[['PROD_CODE','ITEM_QUANTITY',]].groupby('PROD_CODE').sum()\n",
    "PROD_NUM_Ashop.sort_values(ascending=False,by='ITEM_QUANTITY').head(10)"
   ]
  },
  {
   "cell_type": "code",
   "execution_count": 40,
   "metadata": {},
   "outputs": [
    {
     "data": {
      "text/html": [
       "<div>\n",
       "<style scoped>\n",
       "    .dataframe tbody tr th:only-of-type {\n",
       "        vertical-align: middle;\n",
       "    }\n",
       "\n",
       "    .dataframe tbody tr th {\n",
       "        vertical-align: top;\n",
       "    }\n",
       "\n",
       "    .dataframe thead th {\n",
       "        text-align: right;\n",
       "    }\n",
       "</style>\n",
       "<table border=\"1\" class=\"dataframe\">\n",
       "  <thead>\n",
       "    <tr style=\"text-align: right;\">\n",
       "      <th></th>\n",
       "      <th>ITEM_QUANTITY</th>\n",
       "    </tr>\n",
       "    <tr>\n",
       "      <th>PROD_CODE</th>\n",
       "      <th></th>\n",
       "    </tr>\n",
       "  </thead>\n",
       "  <tbody>\n",
       "    <tr>\n",
       "      <th>86772</th>\n",
       "      <td>12599.00</td>\n",
       "    </tr>\n",
       "    <tr>\n",
       "      <th>1152</th>\n",
       "      <td>12488.00</td>\n",
       "    </tr>\n",
       "    <tr>\n",
       "      <th>61623</th>\n",
       "      <td>10165.00</td>\n",
       "    </tr>\n",
       "    <tr>\n",
       "      <th>223630</th>\n",
       "      <td>9855.00</td>\n",
       "    </tr>\n",
       "    <tr>\n",
       "      <th>220834</th>\n",
       "      <td>8676.00</td>\n",
       "    </tr>\n",
       "    <tr>\n",
       "      <th>149413</th>\n",
       "      <td>7960.00</td>\n",
       "    </tr>\n",
       "    <tr>\n",
       "      <th>191955</th>\n",
       "      <td>7945.00</td>\n",
       "    </tr>\n",
       "    <tr>\n",
       "      <th>130567</th>\n",
       "      <td>7930.41</td>\n",
       "    </tr>\n",
       "    <tr>\n",
       "      <th>194690</th>\n",
       "      <td>7885.75</td>\n",
       "    </tr>\n",
       "    <tr>\n",
       "      <th>178462</th>\n",
       "      <td>7392.00</td>\n",
       "    </tr>\n",
       "  </tbody>\n",
       "</table>\n",
       "</div>"
      ],
      "text/plain": [
       "           ITEM_QUANTITY\n",
       "PROD_CODE               \n",
       "86772           12599.00\n",
       "1152            12488.00\n",
       "61623           10165.00\n",
       "223630           9855.00\n",
       "220834           8676.00\n",
       "149413           7960.00\n",
       "191955           7945.00\n",
       "130567           7930.41\n",
       "194690           7885.75\n",
       "178462           7392.00"
      ]
     },
     "execution_count": 40,
     "metadata": {},
     "output_type": "execute_result"
    }
   ],
   "source": [
    "#D类店铺销售数量前十的商品编码\n",
    "PROD_NUM_Dshop=D[['PROD_CODE','ITEM_QUANTITY',]].groupby('PROD_CODE').sum()\n",
    "PROD_NUM_Dshop.sort_values(ascending=False,by='ITEM_QUANTITY').head(10)"
   ]
  },
  {
   "cell_type": "markdown",
   "metadata": {},
   "source": [
    "#### 店铺A001商品销售量前十名的商品编码及销量，其余每家店铺的统计情况一致，此处用店铺A001举例"
   ]
  },
  {
   "cell_type": "code",
   "execution_count": 41,
   "metadata": {},
   "outputs": [
    {
     "data": {
      "text/html": [
       "<div>\n",
       "<style scoped>\n",
       "    .dataframe tbody tr th:only-of-type {\n",
       "        vertical-align: middle;\n",
       "    }\n",
       "\n",
       "    .dataframe tbody tr th {\n",
       "        vertical-align: top;\n",
       "    }\n",
       "\n",
       "    .dataframe thead th {\n",
       "        text-align: right;\n",
       "    }\n",
       "</style>\n",
       "<table border=\"1\" class=\"dataframe\">\n",
       "  <thead>\n",
       "    <tr style=\"text-align: right;\">\n",
       "      <th></th>\n",
       "      <th>ITEM_QUANTITY</th>\n",
       "    </tr>\n",
       "    <tr>\n",
       "      <th>PROD_CODE</th>\n",
       "      <th></th>\n",
       "    </tr>\n",
       "  </thead>\n",
       "  <tbody>\n",
       "    <tr>\n",
       "      <th>149413</th>\n",
       "      <td>11774.00</td>\n",
       "    </tr>\n",
       "    <tr>\n",
       "      <th>220834</th>\n",
       "      <td>8173.00</td>\n",
       "    </tr>\n",
       "    <tr>\n",
       "      <th>1157</th>\n",
       "      <td>3686.00</td>\n",
       "    </tr>\n",
       "    <tr>\n",
       "      <th>10270</th>\n",
       "      <td>3040.00</td>\n",
       "    </tr>\n",
       "    <tr>\n",
       "      <th>155493</th>\n",
       "      <td>2796.00</td>\n",
       "    </tr>\n",
       "    <tr>\n",
       "      <th>205540</th>\n",
       "      <td>2659.00</td>\n",
       "    </tr>\n",
       "    <tr>\n",
       "      <th>19211</th>\n",
       "      <td>2350.00</td>\n",
       "    </tr>\n",
       "    <tr>\n",
       "      <th>132236</th>\n",
       "      <td>2341.00</td>\n",
       "    </tr>\n",
       "    <tr>\n",
       "      <th>86772</th>\n",
       "      <td>2323.00</td>\n",
       "    </tr>\n",
       "    <tr>\n",
       "      <th>125140</th>\n",
       "      <td>1974.00</td>\n",
       "    </tr>\n",
       "  </tbody>\n",
       "</table>\n",
       "</div>"
      ],
      "text/plain": [
       "           ITEM_QUANTITY\n",
       "PROD_CODE               \n",
       "149413          11774.00\n",
       "220834           8173.00\n",
       "1157             3686.00\n",
       "10270            3040.00\n",
       "155493           2796.00\n",
       "205540           2659.00\n",
       "19211            2350.00\n",
       "132236           2341.00\n",
       "86772            2323.00\n",
       "125140           1974.00"
      ]
     },
     "execution_count": 41,
     "metadata": {},
     "output_type": "execute_result"
    }
   ],
   "source": [
    "A001=data2[data2['STORE_CODE'].isin(['A001'])]#筛选店铺A001的数据记录\n",
    "PROD_NUM_A001=A001[['PROD_CODE','ITEM_QUANTITY',]].groupby('PROD_CODE').sum()\n",
    "PROD_NUM_A001.sort_values(ascending=False,by='ITEM_QUANTITY').head(10)"
   ]
  },
  {
   "cell_type": "code",
   "execution_count": null,
   "metadata": {},
   "outputs": [],
   "source": []
  },
  {
   "cell_type": "code",
   "execution_count": null,
   "metadata": {},
   "outputs": [],
   "source": []
  },
  {
   "cell_type": "code",
   "execution_count": null,
   "metadata": {},
   "outputs": [],
   "source": []
  },
  {
   "cell_type": "code",
   "execution_count": null,
   "metadata": {},
   "outputs": [],
   "source": []
  },
  {
   "cell_type": "code",
   "execution_count": null,
   "metadata": {},
   "outputs": [],
   "source": []
  },
  {
   "cell_type": "code",
   "execution_count": null,
   "metadata": {},
   "outputs": [],
   "source": []
  },
  {
   "cell_type": "code",
   "execution_count": null,
   "metadata": {},
   "outputs": [],
   "source": []
  },
  {
   "cell_type": "code",
   "execution_count": null,
   "metadata": {},
   "outputs": [],
   "source": []
  },
  {
   "cell_type": "code",
   "execution_count": null,
   "metadata": {
    "scrolled": true
   },
   "outputs": [],
   "source": []
  },
  {
   "cell_type": "code",
   "execution_count": null,
   "metadata": {},
   "outputs": [],
   "source": []
  },
  {
   "cell_type": "code",
   "execution_count": null,
   "metadata": {},
   "outputs": [],
   "source": []
  }
 ],
 "metadata": {
  "kernelspec": {
   "display_name": "Python 3",
   "language": "python",
   "name": "python3"
  },
  "language_info": {
   "codemirror_mode": {
    "name": "ipython",
    "version": 3
   },
   "file_extension": ".py",
   "mimetype": "text/x-python",
   "name": "python",
   "nbconvert_exporter": "python",
   "pygments_lexer": "ipython3",
   "version": "3.8.3"
  }
 },
 "nbformat": 4,
 "nbformat_minor": 4
}
