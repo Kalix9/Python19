{
 "cells": [
  {
   "cell_type": "markdown",
   "metadata": {},
   "source": [
    "### 数据预处理\n",
    "3.1 数据整合\n",
    "\n",
    "3.1.1 加载相关库和数据集\n",
    "\n",
    "使用的库主要有：pandas、numpy、matplotlib、seaborn\n"
   ]
  },
  {
   "cell_type": "code",
   "execution_count": 85,
   "metadata": {},
   "outputs": [],
   "source": [
    "# 加载数据分析需要使用的库\n",
    "import numpy as np\n",
    "import pandas as pd\n",
    "import matplotlib.pyplot as plt\n",
    "import seaborn as sns\n",
    "import warnings\n",
    " \n",
    "plt.rcParams['font.sans-serif'] = ['SimHei']\n",
    "warnings.filterwarnings('ignore')\n"
   ]
  },
  {
   "cell_type": "markdown",
   "metadata": {},
   "source": [
    "\n",
    "使用的数据集：item-2018-06-01-2018-07-05"
   ]
  },
  {
   "cell_type": "code",
   "execution_count": 86,
   "metadata": {},
   "outputs": [
    {
     "data": {
      "text/html": [
       "<div>\n",
       "<style scoped>\n",
       "    .dataframe tbody tr th:only-of-type {\n",
       "        vertical-align: middle;\n",
       "    }\n",
       "\n",
       "    .dataframe tbody tr th {\n",
       "        vertical-align: top;\n",
       "    }\n",
       "\n",
       "    .dataframe thead th {\n",
       "        text-align: right;\n",
       "    }\n",
       "</style>\n",
       "<table border=\"1\" class=\"dataframe\">\n",
       "  <thead>\n",
       "    <tr style=\"text-align: right;\">\n",
       "      <th></th>\n",
       "      <th>SDATE</th>\n",
       "      <th>STORE_CODE</th>\n",
       "      <th>POSID</th>\n",
       "      <th>BASK_CODE</th>\n",
       "      <th>PROD_CODE</th>\n",
       "      <th>ITEM_QUANTITY</th>\n",
       "      <th>ITEM_SPEND</th>\n",
       "      <th>NORMAL_PRICE</th>\n",
       "      <th>DISCOUNT_TYPE</th>\n",
       "      <th>DISCOUNT_AMOUNT</th>\n",
       "    </tr>\n",
       "  </thead>\n",
       "  <tbody>\n",
       "    <tr>\n",
       "      <td>0</td>\n",
       "      <td>2018/6/1</td>\n",
       "      <td>D007</td>\n",
       "      <td>3</td>\n",
       "      <td>250451</td>\n",
       "      <td>29405</td>\n",
       "      <td>1.000</td>\n",
       "      <td>1.70</td>\n",
       "      <td>2.0</td>\n",
       "      <td>m</td>\n",
       "      <td>-0.3</td>\n",
       "    </tr>\n",
       "    <tr>\n",
       "      <td>1</td>\n",
       "      <td>2018/6/1</td>\n",
       "      <td>D007</td>\n",
       "      <td>3</td>\n",
       "      <td>250451</td>\n",
       "      <td>13187</td>\n",
       "      <td>1.000</td>\n",
       "      <td>1.00</td>\n",
       "      <td>1.0</td>\n",
       "      <td>n</td>\n",
       "      <td>0.0</td>\n",
       "    </tr>\n",
       "    <tr>\n",
       "      <td>2</td>\n",
       "      <td>2018/6/1</td>\n",
       "      <td>D007</td>\n",
       "      <td>3</td>\n",
       "      <td>250243</td>\n",
       "      <td>196249</td>\n",
       "      <td>1.000</td>\n",
       "      <td>99.00</td>\n",
       "      <td>99.0</td>\n",
       "      <td>m</td>\n",
       "      <td>0.0</td>\n",
       "    </tr>\n",
       "    <tr>\n",
       "      <td>3</td>\n",
       "      <td>2018/6/1</td>\n",
       "      <td>D007</td>\n",
       "      <td>3</td>\n",
       "      <td>250243</td>\n",
       "      <td>199637</td>\n",
       "      <td>1.000</td>\n",
       "      <td>9.90</td>\n",
       "      <td>16.8</td>\n",
       "      <td>p</td>\n",
       "      <td>-6.9</td>\n",
       "    </tr>\n",
       "    <tr>\n",
       "      <td>4</td>\n",
       "      <td>2018/6/1</td>\n",
       "      <td>D007</td>\n",
       "      <td>1</td>\n",
       "      <td>160905</td>\n",
       "      <td>195012</td>\n",
       "      <td>3.222</td>\n",
       "      <td>18.69</td>\n",
       "      <td>5.8</td>\n",
       "      <td>n</td>\n",
       "      <td>0.0</td>\n",
       "    </tr>\n",
       "  </tbody>\n",
       "</table>\n",
       "</div>"
      ],
      "text/plain": [
       "      SDATE STORE_CODE  POSID  BASK_CODE  PROD_CODE  ITEM_QUANTITY  \\\n",
       "0  2018/6/1       D007      3     250451      29405          1.000   \n",
       "1  2018/6/1       D007      3     250451      13187          1.000   \n",
       "2  2018/6/1       D007      3     250243     196249          1.000   \n",
       "3  2018/6/1       D007      3     250243     199637          1.000   \n",
       "4  2018/6/1       D007      1     160905     195012          3.222   \n",
       "\n",
       "   ITEM_SPEND  NORMAL_PRICE DISCOUNT_TYPE  DISCOUNT_AMOUNT  \n",
       "0        1.70           2.0             m             -0.3  \n",
       "1        1.00           1.0             n              0.0  \n",
       "2       99.00          99.0             m              0.0  \n",
       "3        9.90          16.8             p             -6.9  \n",
       "4       18.69           5.8             n              0.0  "
      ]
     },
     "execution_count": 86,
     "metadata": {},
     "output_type": "execute_result"
    }
   ],
   "source": [
    "\n",
    "# 加载item数据集，使用'ISO-8859-1'编码方式\n",
    "df = pd.read_csv('/Users/zhy/Desktop/item-2018-06-01-2018-07-05.csv',encoding='ISO-8859-1') \n",
    "df.head()"
   ]
  },
  {
   "cell_type": "markdown",
   "metadata": {},
   "source": [
    "使用的数据集：Basket-2018-06-01-2018-07-05"
   ]
  },
  {
   "cell_type": "code",
   "execution_count": 269,
   "metadata": {},
   "outputs": [
    {
     "data": {
      "text/html": [
       "<div>\n",
       "<style scoped>\n",
       "    .dataframe tbody tr th:only-of-type {\n",
       "        vertical-align: middle;\n",
       "    }\n",
       "\n",
       "    .dataframe tbody tr th {\n",
       "        vertical-align: top;\n",
       "    }\n",
       "\n",
       "    .dataframe thead th {\n",
       "        text-align: right;\n",
       "    }\n",
       "</style>\n",
       "<table border=\"1\" class=\"dataframe\">\n",
       "  <thead>\n",
       "    <tr style=\"text-align: right;\">\n",
       "      <th></th>\n",
       "      <th>SHOP_DATETIME</th>\n",
       "      <th>STORE_CODE</th>\n",
       "      <th>POS_NO</th>\n",
       "      <th>BASK_CODE</th>\n",
       "      <th>BASK_SPEND</th>\n",
       "    </tr>\n",
       "  </thead>\n",
       "  <tbody>\n",
       "    <tr>\n",
       "      <td>0</td>\n",
       "      <td>2018-06-01</td>\n",
       "      <td>D007</td>\n",
       "      <td>3</td>\n",
       "      <td>250458</td>\n",
       "      <td>8.0</td>\n",
       "    </tr>\n",
       "    <tr>\n",
       "      <td>1</td>\n",
       "      <td>2018-06-01</td>\n",
       "      <td>D007</td>\n",
       "      <td>3</td>\n",
       "      <td>250200</td>\n",
       "      <td>32.7</td>\n",
       "    </tr>\n",
       "    <tr>\n",
       "      <td>2</td>\n",
       "      <td>2018-06-01</td>\n",
       "      <td>D007</td>\n",
       "      <td>1</td>\n",
       "      <td>161068</td>\n",
       "      <td>16.8</td>\n",
       "    </tr>\n",
       "    <tr>\n",
       "      <td>3</td>\n",
       "      <td>2018-06-01</td>\n",
       "      <td>D007</td>\n",
       "      <td>8</td>\n",
       "      <td>5325</td>\n",
       "      <td>30.4</td>\n",
       "    </tr>\n",
       "    <tr>\n",
       "      <td>4</td>\n",
       "      <td>2018-06-01</td>\n",
       "      <td>D007</td>\n",
       "      <td>8</td>\n",
       "      <td>5361</td>\n",
       "      <td>191.3</td>\n",
       "    </tr>\n",
       "  </tbody>\n",
       "</table>\n",
       "</div>"
      ],
      "text/plain": [
       "  SHOP_DATETIME STORE_CODE  POS_NO  BASK_CODE  BASK_SPEND\n",
       "0    2018-06-01       D007       3     250458         8.0\n",
       "1    2018-06-01       D007       3     250200        32.7\n",
       "2    2018-06-01       D007       1     161068        16.8\n",
       "3    2018-06-01       D007       8       5325        30.4\n",
       "4    2018-06-01       D007       8       5361       191.3"
      ]
     },
     "execution_count": 269,
     "metadata": {},
     "output_type": "execute_result"
    }
   ],
   "source": [
    "# 加载Basket数据集，使用'ISO-8859-1'编码方式\n",
    "df2 = pd.read_csv('/Users/zhy/Desktop/Basket-2018-06-01-2018-07-05.csv',encoding='ISO-8859-1') \n",
    "df2.head()"
   ]
  },
  {
   "cell_type": "markdown",
   "metadata": {},
   "source": [
    "3.1.2 数据概览"
   ]
  },
  {
   "cell_type": "code",
   "execution_count": 87,
   "metadata": {},
   "outputs": [
    {
     "data": {
      "text/plain": [
       "(1048575, 10)"
      ]
     },
     "execution_count": 87,
     "metadata": {},
     "output_type": "execute_result"
    }
   ],
   "source": [
    "#首先看一下数据集大小（行列信息）\n",
    "df.shape"
   ]
  },
  {
   "cell_type": "code",
   "execution_count": 270,
   "metadata": {},
   "outputs": [
    {
     "data": {
      "text/plain": [
       "(571552, 5)"
      ]
     },
     "execution_count": 270,
     "metadata": {},
     "output_type": "execute_result"
    }
   ],
   "source": [
    "#首先看一下数据集大小（行列信息）\n",
    "df2.shape"
   ]
  },
  {
   "cell_type": "code",
   "execution_count": 88,
   "metadata": {},
   "outputs": [
    {
     "data": {
      "text/html": [
       "<div>\n",
       "<style scoped>\n",
       "    .dataframe tbody tr th:only-of-type {\n",
       "        vertical-align: middle;\n",
       "    }\n",
       "\n",
       "    .dataframe tbody tr th {\n",
       "        vertical-align: top;\n",
       "    }\n",
       "\n",
       "    .dataframe thead th {\n",
       "        text-align: right;\n",
       "    }\n",
       "</style>\n",
       "<table border=\"1\" class=\"dataframe\">\n",
       "  <thead>\n",
       "    <tr style=\"text-align: right;\">\n",
       "      <th></th>\n",
       "      <th>POSID</th>\n",
       "      <th>BASK_CODE</th>\n",
       "      <th>PROD_CODE</th>\n",
       "      <th>ITEM_QUANTITY</th>\n",
       "      <th>ITEM_SPEND</th>\n",
       "      <th>NORMAL_PRICE</th>\n",
       "      <th>DISCOUNT_AMOUNT</th>\n",
       "    </tr>\n",
       "  </thead>\n",
       "  <tbody>\n",
       "    <tr>\n",
       "      <td>count</td>\n",
       "      <td>1.048575e+06</td>\n",
       "      <td>1.048575e+06</td>\n",
       "      <td>1.048575e+06</td>\n",
       "      <td>1.048575e+06</td>\n",
       "      <td>1.048575e+06</td>\n",
       "      <td>1.048575e+06</td>\n",
       "      <td>1.048575e+06</td>\n",
       "    </tr>\n",
       "    <tr>\n",
       "      <td>mean</td>\n",
       "      <td>3.016397e+00</td>\n",
       "      <td>1.611352e+05</td>\n",
       "      <td>1.147050e+05</td>\n",
       "      <td>1.490041e+00</td>\n",
       "      <td>1.363701e+01</td>\n",
       "      <td>1.483649e+01</td>\n",
       "      <td>-1.960952e+00</td>\n",
       "    </tr>\n",
       "    <tr>\n",
       "      <td>std</td>\n",
       "      <td>2.478932e+00</td>\n",
       "      <td>8.605571e+04</td>\n",
       "      <td>8.133691e+04</td>\n",
       "      <td>8.255032e+00</td>\n",
       "      <td>1.089738e+02</td>\n",
       "      <td>2.504771e+01</td>\n",
       "      <td>6.330616e+01</td>\n",
       "    </tr>\n",
       "    <tr>\n",
       "      <td>min</td>\n",
       "      <td>1.000000e+00</td>\n",
       "      <td>9.610000e+02</td>\n",
       "      <td>1.900000e+01</td>\n",
       "      <td>-1.200000e+02</td>\n",
       "      <td>-8.700000e+02</td>\n",
       "      <td>5.000000e-01</td>\n",
       "      <td>-5.760000e+04</td>\n",
       "    </tr>\n",
       "    <tr>\n",
       "      <td>25%</td>\n",
       "      <td>1.000000e+00</td>\n",
       "      <td>8.477400e+04</td>\n",
       "      <td>2.183500e+04</td>\n",
       "      <td>1.000000e+00</td>\n",
       "      <td>3.900000e+00</td>\n",
       "      <td>3.800000e+00</td>\n",
       "      <td>-1.500000e+00</td>\n",
       "    </tr>\n",
       "    <tr>\n",
       "      <td>50%</td>\n",
       "      <td>2.000000e+00</td>\n",
       "      <td>1.695360e+05</td>\n",
       "      <td>1.244580e+05</td>\n",
       "      <td>1.000000e+00</td>\n",
       "      <td>7.500000e+00</td>\n",
       "      <td>7.900000e+00</td>\n",
       "      <td>0.000000e+00</td>\n",
       "    </tr>\n",
       "    <tr>\n",
       "      <td>75%</td>\n",
       "      <td>3.000000e+00</td>\n",
       "      <td>2.177830e+05</td>\n",
       "      <td>1.959900e+05</td>\n",
       "      <td>1.000000e+00</td>\n",
       "      <td>1.250000e+01</td>\n",
       "      <td>1.580000e+01</td>\n",
       "      <td>0.000000e+00</td>\n",
       "    </tr>\n",
       "    <tr>\n",
       "      <td>max</td>\n",
       "      <td>2.000000e+01</td>\n",
       "      <td>3.148270e+05</td>\n",
       "      <td>2.247450e+05</td>\n",
       "      <td>4.020000e+03</td>\n",
       "      <td>6.912000e+04</td>\n",
       "      <td>1.980000e+03</td>\n",
       "      <td>6.960000e+02</td>\n",
       "    </tr>\n",
       "  </tbody>\n",
       "</table>\n",
       "</div>"
      ],
      "text/plain": [
       "              POSID     BASK_CODE     PROD_CODE  ITEM_QUANTITY    ITEM_SPEND  \\\n",
       "count  1.048575e+06  1.048575e+06  1.048575e+06   1.048575e+06  1.048575e+06   \n",
       "mean   3.016397e+00  1.611352e+05  1.147050e+05   1.490041e+00  1.363701e+01   \n",
       "std    2.478932e+00  8.605571e+04  8.133691e+04   8.255032e+00  1.089738e+02   \n",
       "min    1.000000e+00  9.610000e+02  1.900000e+01  -1.200000e+02 -8.700000e+02   \n",
       "25%    1.000000e+00  8.477400e+04  2.183500e+04   1.000000e+00  3.900000e+00   \n",
       "50%    2.000000e+00  1.695360e+05  1.244580e+05   1.000000e+00  7.500000e+00   \n",
       "75%    3.000000e+00  2.177830e+05  1.959900e+05   1.000000e+00  1.250000e+01   \n",
       "max    2.000000e+01  3.148270e+05  2.247450e+05   4.020000e+03  6.912000e+04   \n",
       "\n",
       "       NORMAL_PRICE  DISCOUNT_AMOUNT  \n",
       "count  1.048575e+06     1.048575e+06  \n",
       "mean   1.483649e+01    -1.960952e+00  \n",
       "std    2.504771e+01     6.330616e+01  \n",
       "min    5.000000e-01    -5.760000e+04  \n",
       "25%    3.800000e+00    -1.500000e+00  \n",
       "50%    7.900000e+00     0.000000e+00  \n",
       "75%    1.580000e+01     0.000000e+00  \n",
       "max    1.980000e+03     6.960000e+02  "
      ]
     },
     "execution_count": 88,
     "metadata": {},
     "output_type": "execute_result"
    }
   ],
   "source": [
    "#看一下数据的分布概况\n",
    "df.describe()"
   ]
  },
  {
   "cell_type": "code",
   "execution_count": 271,
   "metadata": {},
   "outputs": [
    {
     "data": {
      "text/html": [
       "<div>\n",
       "<style scoped>\n",
       "    .dataframe tbody tr th:only-of-type {\n",
       "        vertical-align: middle;\n",
       "    }\n",
       "\n",
       "    .dataframe tbody tr th {\n",
       "        vertical-align: top;\n",
       "    }\n",
       "\n",
       "    .dataframe thead th {\n",
       "        text-align: right;\n",
       "    }\n",
       "</style>\n",
       "<table border=\"1\" class=\"dataframe\">\n",
       "  <thead>\n",
       "    <tr style=\"text-align: right;\">\n",
       "      <th></th>\n",
       "      <th>POS_NO</th>\n",
       "      <th>BASK_CODE</th>\n",
       "      <th>BASK_SPEND</th>\n",
       "    </tr>\n",
       "  </thead>\n",
       "  <tbody>\n",
       "    <tr>\n",
       "      <td>count</td>\n",
       "      <td>571552.000000</td>\n",
       "      <td>571552.000000</td>\n",
       "      <td>571552.000000</td>\n",
       "    </tr>\n",
       "    <tr>\n",
       "      <td>mean</td>\n",
       "      <td>2.998429</td>\n",
       "      <td>167472.817102</td>\n",
       "      <td>38.973310</td>\n",
       "    </tr>\n",
       "    <tr>\n",
       "      <td>std</td>\n",
       "      <td>2.516065</td>\n",
       "      <td>87263.199857</td>\n",
       "      <td>209.038276</td>\n",
       "    </tr>\n",
       "    <tr>\n",
       "      <td>min</td>\n",
       "      <td>1.000000</td>\n",
       "      <td>961.000000</td>\n",
       "      <td>-35940.000000</td>\n",
       "    </tr>\n",
       "    <tr>\n",
       "      <td>25%</td>\n",
       "      <td>1.000000</td>\n",
       "      <td>90533.750000</td>\n",
       "      <td>9.000000</td>\n",
       "    </tr>\n",
       "    <tr>\n",
       "      <td>50%</td>\n",
       "      <td>2.000000</td>\n",
       "      <td>177603.500000</td>\n",
       "      <td>19.900000</td>\n",
       "    </tr>\n",
       "    <tr>\n",
       "      <td>75%</td>\n",
       "      <td>3.000000</td>\n",
       "      <td>238816.750000</td>\n",
       "      <td>44.700000</td>\n",
       "    </tr>\n",
       "    <tr>\n",
       "      <td>max</td>\n",
       "      <td>20.000000</td>\n",
       "      <td>323914.000000</td>\n",
       "      <td>79920.000000</td>\n",
       "    </tr>\n",
       "  </tbody>\n",
       "</table>\n",
       "</div>"
      ],
      "text/plain": [
       "              POS_NO      BASK_CODE     BASK_SPEND\n",
       "count  571552.000000  571552.000000  571552.000000\n",
       "mean        2.998429  167472.817102      38.973310\n",
       "std         2.516065   87263.199857     209.038276\n",
       "min         1.000000     961.000000  -35940.000000\n",
       "25%         1.000000   90533.750000       9.000000\n",
       "50%         2.000000  177603.500000      19.900000\n",
       "75%         3.000000  238816.750000      44.700000\n",
       "max        20.000000  323914.000000   79920.000000"
      ]
     },
     "execution_count": 271,
     "metadata": {},
     "output_type": "execute_result"
    }
   ],
   "source": [
    "#看一下数据的分布概况\n",
    "df2.describe()"
   ]
  },
  {
   "cell_type": "markdown",
   "metadata": {},
   "source": [
    "3.2 数据清洗\n",
    "\n",
    "3.2.1 数据类型处理"
   ]
  },
  {
   "cell_type": "code",
   "execution_count": 89,
   "metadata": {},
   "outputs": [
    {
     "data": {
      "text/plain": [
       "SDATE               object\n",
       "STORE_CODE          object\n",
       "POSID                int64\n",
       "BASK_CODE            int64\n",
       "PROD_CODE            int64\n",
       "ITEM_QUANTITY      float64\n",
       "ITEM_SPEND         float64\n",
       "NORMAL_PRICE       float64\n",
       "DISCOUNT_TYPE       object\n",
       "DISCOUNT_AMOUNT    float64\n",
       "dtype: object"
      ]
     },
     "execution_count": 89,
     "metadata": {},
     "output_type": "execute_result"
    }
   ],
   "source": [
    "#查看一下每一列的数据类型\n",
    "df.dtypes\n",
    "#可以看到：SDATE、STORE_CODE、DISCOUNT_TYPE 是object类型，其他列是数值型，这些列都不需要进行数据类型处理。日期应为datetime类型，我们需要对其进行处理。"
   ]
  },
  {
   "cell_type": "code",
   "execution_count": 90,
   "metadata": {},
   "outputs": [
    {
     "data": {
      "text/plain": [
       "511781   2018-06-14\n",
       "337189   2018-06-05\n",
       "656627   2018-06-12\n",
       "828675   2018-06-17\n",
       "820985   2018-06-16\n",
       "Name: SDATE, dtype: datetime64[ns]"
      ]
     },
     "execution_count": 90,
     "metadata": {},
     "output_type": "execute_result"
    }
   ],
   "source": [
    "df[\"SDATE\"] = pd.to_datetime(df[\"SDATE\"]) \n",
    "df[\"SDATE\"].sample(5)"
   ]
  },
  {
   "cell_type": "code",
   "execution_count": 272,
   "metadata": {},
   "outputs": [
    {
     "data": {
      "text/plain": [
       "SHOP_DATETIME     object\n",
       "STORE_CODE        object\n",
       "POS_NO             int64\n",
       "BASK_CODE          int64\n",
       "BASK_SPEND       float64\n",
       "dtype: object"
      ]
     },
     "execution_count": 272,
     "metadata": {},
     "output_type": "execute_result"
    }
   ],
   "source": [
    "#查看一下每一列的数据类型\n",
    "df2.dtypes\n",
    "#可以看到：SHOP_DATETIME、STORE_CODE是object类型，其他列是数值型，这些列都不需要进行数据类型处理。日期应为datetime类型，我们需要对其进行处理。"
   ]
  },
  {
   "cell_type": "code",
   "execution_count": 274,
   "metadata": {},
   "outputs": [
    {
     "data": {
      "text/plain": [
       "35232    2018-06-17\n",
       "306142   2018-06-09\n",
       "469573   2018-06-20\n",
       "249235   2018-06-17\n",
       "462103   2018-06-16\n",
       "Name: SHOP_DATETIME, dtype: datetime64[ns]"
      ]
     },
     "execution_count": 274,
     "metadata": {},
     "output_type": "execute_result"
    }
   ],
   "source": [
    "df2[\"SHOP_DATETIME\"] = pd.to_datetime(df2[\"SHOP_DATETIME\"]) \n",
    "df2[\"SHOP_DATETIME\"].sample(5)"
   ]
  },
  {
   "cell_type": "markdown",
   "metadata": {},
   "source": [
    "3.2.3 缺失值处理"
   ]
  },
  {
   "cell_type": "code",
   "execution_count": 91,
   "metadata": {},
   "outputs": [
    {
     "data": {
      "text/plain": [
       "SDATE              0\n",
       "STORE_CODE         0\n",
       "POSID              0\n",
       "BASK_CODE          0\n",
       "PROD_CODE          0\n",
       "ITEM_QUANTITY      0\n",
       "ITEM_SPEND         0\n",
       "NORMAL_PRICE       0\n",
       "DISCOUNT_TYPE      0\n",
       "DISCOUNT_AMOUNT    0\n",
       "dtype: int64"
      ]
     },
     "execution_count": 91,
     "metadata": {},
     "output_type": "execute_result"
    }
   ],
   "source": [
    "#查看一下各列的缺失值情况\n",
    "df.isnull().sum(axis=0)#通过观察发现，没有缺失值"
   ]
  },
  {
   "cell_type": "code",
   "execution_count": 275,
   "metadata": {},
   "outputs": [
    {
     "data": {
      "text/plain": [
       "SHOP_DATETIME    0\n",
       "STORE_CODE       0\n",
       "POS_NO           0\n",
       "BASK_CODE        0\n",
       "BASK_SPEND       0\n",
       "dtype: int64"
      ]
     },
     "execution_count": 275,
     "metadata": {},
     "output_type": "execute_result"
    }
   ],
   "source": [
    "#查看一下各列的缺失值情况\n",
    "df2.isnull().sum(axis=0)#通过观察发现，没有缺失值"
   ]
  },
  {
   "cell_type": "markdown",
   "metadata": {},
   "source": [
    "3.2.4 异常值处理\n",
    "\n",
    "查看数据是否存在异常值"
   ]
  },
  {
   "cell_type": "code",
   "execution_count": 80,
   "metadata": {},
   "outputs": [
    {
     "data": {
      "text/html": [
       "<div>\n",
       "<style scoped>\n",
       "    .dataframe tbody tr th:only-of-type {\n",
       "        vertical-align: middle;\n",
       "    }\n",
       "\n",
       "    .dataframe tbody tr th {\n",
       "        vertical-align: top;\n",
       "    }\n",
       "\n",
       "    .dataframe thead th {\n",
       "        text-align: right;\n",
       "    }\n",
       "</style>\n",
       "<table border=\"1\" class=\"dataframe\">\n",
       "  <thead>\n",
       "    <tr style=\"text-align: right;\">\n",
       "      <th></th>\n",
       "      <th>POSID</th>\n",
       "      <th>BASK_CODE</th>\n",
       "      <th>PROD_CODE</th>\n",
       "      <th>ITEM_QUANTITY</th>\n",
       "      <th>ITEM_SPEND</th>\n",
       "      <th>NORMAL_PRICE</th>\n",
       "      <th>DISCOUNT_AMOUNT</th>\n",
       "    </tr>\n",
       "  </thead>\n",
       "  <tbody>\n",
       "    <tr>\n",
       "      <td>count</td>\n",
       "      <td>1.048575e+06</td>\n",
       "      <td>1.048575e+06</td>\n",
       "      <td>1.048575e+06</td>\n",
       "      <td>1.048575e+06</td>\n",
       "      <td>1.048575e+06</td>\n",
       "      <td>1.048575e+06</td>\n",
       "      <td>1.048575e+06</td>\n",
       "    </tr>\n",
       "    <tr>\n",
       "      <td>mean</td>\n",
       "      <td>3.016397e+00</td>\n",
       "      <td>1.611352e+05</td>\n",
       "      <td>1.147050e+05</td>\n",
       "      <td>1.490041e+00</td>\n",
       "      <td>1.363701e+01</td>\n",
       "      <td>1.483649e+01</td>\n",
       "      <td>-1.960952e+00</td>\n",
       "    </tr>\n",
       "    <tr>\n",
       "      <td>std</td>\n",
       "      <td>2.478932e+00</td>\n",
       "      <td>8.605571e+04</td>\n",
       "      <td>8.133691e+04</td>\n",
       "      <td>8.255032e+00</td>\n",
       "      <td>1.089738e+02</td>\n",
       "      <td>2.504771e+01</td>\n",
       "      <td>6.330616e+01</td>\n",
       "    </tr>\n",
       "    <tr>\n",
       "      <td>min</td>\n",
       "      <td>1.000000e+00</td>\n",
       "      <td>9.610000e+02</td>\n",
       "      <td>1.900000e+01</td>\n",
       "      <td>-1.200000e+02</td>\n",
       "      <td>-8.700000e+02</td>\n",
       "      <td>5.000000e-01</td>\n",
       "      <td>-5.760000e+04</td>\n",
       "    </tr>\n",
       "    <tr>\n",
       "      <td>25%</td>\n",
       "      <td>1.000000e+00</td>\n",
       "      <td>8.477400e+04</td>\n",
       "      <td>2.183500e+04</td>\n",
       "      <td>1.000000e+00</td>\n",
       "      <td>3.900000e+00</td>\n",
       "      <td>3.800000e+00</td>\n",
       "      <td>-1.500000e+00</td>\n",
       "    </tr>\n",
       "    <tr>\n",
       "      <td>50%</td>\n",
       "      <td>2.000000e+00</td>\n",
       "      <td>1.695360e+05</td>\n",
       "      <td>1.244580e+05</td>\n",
       "      <td>1.000000e+00</td>\n",
       "      <td>7.500000e+00</td>\n",
       "      <td>7.900000e+00</td>\n",
       "      <td>0.000000e+00</td>\n",
       "    </tr>\n",
       "    <tr>\n",
       "      <td>75%</td>\n",
       "      <td>3.000000e+00</td>\n",
       "      <td>2.177830e+05</td>\n",
       "      <td>1.959900e+05</td>\n",
       "      <td>1.000000e+00</td>\n",
       "      <td>1.250000e+01</td>\n",
       "      <td>1.580000e+01</td>\n",
       "      <td>0.000000e+00</td>\n",
       "    </tr>\n",
       "    <tr>\n",
       "      <td>max</td>\n",
       "      <td>2.000000e+01</td>\n",
       "      <td>3.148270e+05</td>\n",
       "      <td>2.247450e+05</td>\n",
       "      <td>4.020000e+03</td>\n",
       "      <td>6.912000e+04</td>\n",
       "      <td>1.980000e+03</td>\n",
       "      <td>6.960000e+02</td>\n",
       "    </tr>\n",
       "  </tbody>\n",
       "</table>\n",
       "</div>"
      ],
      "text/plain": [
       "              POSID     BASK_CODE     PROD_CODE  ITEM_QUANTITY    ITEM_SPEND  \\\n",
       "count  1.048575e+06  1.048575e+06  1.048575e+06   1.048575e+06  1.048575e+06   \n",
       "mean   3.016397e+00  1.611352e+05  1.147050e+05   1.490041e+00  1.363701e+01   \n",
       "std    2.478932e+00  8.605571e+04  8.133691e+04   8.255032e+00  1.089738e+02   \n",
       "min    1.000000e+00  9.610000e+02  1.900000e+01  -1.200000e+02 -8.700000e+02   \n",
       "25%    1.000000e+00  8.477400e+04  2.183500e+04   1.000000e+00  3.900000e+00   \n",
       "50%    2.000000e+00  1.695360e+05  1.244580e+05   1.000000e+00  7.500000e+00   \n",
       "75%    3.000000e+00  2.177830e+05  1.959900e+05   1.000000e+00  1.250000e+01   \n",
       "max    2.000000e+01  3.148270e+05  2.247450e+05   4.020000e+03  6.912000e+04   \n",
       "\n",
       "       NORMAL_PRICE  DISCOUNT_AMOUNT  \n",
       "count  1.048575e+06     1.048575e+06  \n",
       "mean   1.483649e+01    -1.960952e+00  \n",
       "std    2.504771e+01     6.330616e+01  \n",
       "min    5.000000e-01    -5.760000e+04  \n",
       "25%    3.800000e+00    -1.500000e+00  \n",
       "50%    7.900000e+00     0.000000e+00  \n",
       "75%    1.580000e+01     0.000000e+00  \n",
       "max    1.980000e+03     6.960000e+02  "
      ]
     },
     "execution_count": 80,
     "metadata": {},
     "output_type": "execute_result"
    }
   ],
   "source": [
    "df.describe()"
   ]
  },
  {
   "cell_type": "code",
   "execution_count": 97,
   "metadata": {},
   "outputs": [],
   "source": [
    "#从最小值中看出ITEM_QUANTITY列中有负数，说明有异常值，给予删除\n",
    "df_new=df[df['ITEM_QUANTITY']>0]"
   ]
  },
  {
   "cell_type": "code",
   "execution_count": 99,
   "metadata": {},
   "outputs": [
    {
     "data": {
      "text/html": [
       "<div>\n",
       "<style scoped>\n",
       "    .dataframe tbody tr th:only-of-type {\n",
       "        vertical-align: middle;\n",
       "    }\n",
       "\n",
       "    .dataframe tbody tr th {\n",
       "        vertical-align: top;\n",
       "    }\n",
       "\n",
       "    .dataframe thead th {\n",
       "        text-align: right;\n",
       "    }\n",
       "</style>\n",
       "<table border=\"1\" class=\"dataframe\">\n",
       "  <thead>\n",
       "    <tr style=\"text-align: right;\">\n",
       "      <th></th>\n",
       "      <th>POSID</th>\n",
       "      <th>BASK_CODE</th>\n",
       "      <th>PROD_CODE</th>\n",
       "      <th>ITEM_QUANTITY</th>\n",
       "      <th>ITEM_SPEND</th>\n",
       "      <th>NORMAL_PRICE</th>\n",
       "      <th>DISCOUNT_AMOUNT</th>\n",
       "    </tr>\n",
       "  </thead>\n",
       "  <tbody>\n",
       "    <tr>\n",
       "      <td>count</td>\n",
       "      <td>1.047389e+06</td>\n",
       "      <td>1.047389e+06</td>\n",
       "      <td>1.047389e+06</td>\n",
       "      <td>1.047389e+06</td>\n",
       "      <td>1.047389e+06</td>\n",
       "      <td>1.047389e+06</td>\n",
       "      <td>1.047389e+06</td>\n",
       "    </tr>\n",
       "    <tr>\n",
       "      <td>mean</td>\n",
       "      <td>3.014803e+00</td>\n",
       "      <td>1.611660e+05</td>\n",
       "      <td>1.146857e+05</td>\n",
       "      <td>1.495503e+00</td>\n",
       "      <td>1.370416e+01</td>\n",
       "      <td>1.481427e+01</td>\n",
       "      <td>-1.971159e+00</td>\n",
       "    </tr>\n",
       "    <tr>\n",
       "      <td>std</td>\n",
       "      <td>2.473808e+00</td>\n",
       "      <td>8.604381e+04</td>\n",
       "      <td>8.133262e+04</td>\n",
       "      <td>8.253395e+00</td>\n",
       "      <td>1.089854e+02</td>\n",
       "      <td>2.498871e+01</td>\n",
       "      <td>6.333295e+01</td>\n",
       "    </tr>\n",
       "    <tr>\n",
       "      <td>min</td>\n",
       "      <td>1.000000e+00</td>\n",
       "      <td>9.610000e+02</td>\n",
       "      <td>1.900000e+01</td>\n",
       "      <td>1.000000e-02</td>\n",
       "      <td>0.000000e+00</td>\n",
       "      <td>5.000000e-01</td>\n",
       "      <td>-5.760000e+04</td>\n",
       "    </tr>\n",
       "    <tr>\n",
       "      <td>25%</td>\n",
       "      <td>1.000000e+00</td>\n",
       "      <td>8.481400e+04</td>\n",
       "      <td>2.183500e+04</td>\n",
       "      <td>1.000000e+00</td>\n",
       "      <td>3.900000e+00</td>\n",
       "      <td>3.800000e+00</td>\n",
       "      <td>-1.500000e+00</td>\n",
       "    </tr>\n",
       "    <tr>\n",
       "      <td>50%</td>\n",
       "      <td>2.000000e+00</td>\n",
       "      <td>1.695760e+05</td>\n",
       "      <td>1.244480e+05</td>\n",
       "      <td>1.000000e+00</td>\n",
       "      <td>7.500000e+00</td>\n",
       "      <td>7.900000e+00</td>\n",
       "      <td>0.000000e+00</td>\n",
       "    </tr>\n",
       "    <tr>\n",
       "      <td>75%</td>\n",
       "      <td>3.000000e+00</td>\n",
       "      <td>2.178000e+05</td>\n",
       "      <td>1.959900e+05</td>\n",
       "      <td>1.000000e+00</td>\n",
       "      <td>1.250000e+01</td>\n",
       "      <td>1.580000e+01</td>\n",
       "      <td>0.000000e+00</td>\n",
       "    </tr>\n",
       "    <tr>\n",
       "      <td>max</td>\n",
       "      <td>2.000000e+01</td>\n",
       "      <td>3.148270e+05</td>\n",
       "      <td>2.247450e+05</td>\n",
       "      <td>4.020000e+03</td>\n",
       "      <td>6.912000e+04</td>\n",
       "      <td>1.980000e+03</td>\n",
       "      <td>2.264000e+02</td>\n",
       "    </tr>\n",
       "  </tbody>\n",
       "</table>\n",
       "</div>"
      ],
      "text/plain": [
       "              POSID     BASK_CODE     PROD_CODE  ITEM_QUANTITY    ITEM_SPEND  \\\n",
       "count  1.047389e+06  1.047389e+06  1.047389e+06   1.047389e+06  1.047389e+06   \n",
       "mean   3.014803e+00  1.611660e+05  1.146857e+05   1.495503e+00  1.370416e+01   \n",
       "std    2.473808e+00  8.604381e+04  8.133262e+04   8.253395e+00  1.089854e+02   \n",
       "min    1.000000e+00  9.610000e+02  1.900000e+01   1.000000e-02  0.000000e+00   \n",
       "25%    1.000000e+00  8.481400e+04  2.183500e+04   1.000000e+00  3.900000e+00   \n",
       "50%    2.000000e+00  1.695760e+05  1.244480e+05   1.000000e+00  7.500000e+00   \n",
       "75%    3.000000e+00  2.178000e+05  1.959900e+05   1.000000e+00  1.250000e+01   \n",
       "max    2.000000e+01  3.148270e+05  2.247450e+05   4.020000e+03  6.912000e+04   \n",
       "\n",
       "       NORMAL_PRICE  DISCOUNT_AMOUNT  \n",
       "count  1.047389e+06     1.047389e+06  \n",
       "mean   1.481427e+01    -1.971159e+00  \n",
       "std    2.498871e+01     6.333295e+01  \n",
       "min    5.000000e-01    -5.760000e+04  \n",
       "25%    3.800000e+00    -1.500000e+00  \n",
       "50%    7.900000e+00     0.000000e+00  \n",
       "75%    1.580000e+01     0.000000e+00  \n",
       "max    1.980000e+03     2.264000e+02  "
      ]
     },
     "execution_count": 99,
     "metadata": {},
     "output_type": "execute_result"
    }
   ],
   "source": [
    "df_new.describe()\n",
    "#可以看出异常值被删除"
   ]
  },
  {
   "cell_type": "code",
   "execution_count": 100,
   "metadata": {},
   "outputs": [
    {
     "data": {
      "text/plain": [
       "(1047389, 10)"
      ]
     },
     "execution_count": 100,
     "metadata": {},
     "output_type": "execute_result"
    }
   ],
   "source": [
    "df_new.shape\n",
    "#原数据为1048575条，现数据为1047389条，删除了"
   ]
  },
  {
   "cell_type": "code",
   "execution_count": 276,
   "metadata": {},
   "outputs": [
    {
     "data": {
      "text/html": [
       "<div>\n",
       "<style scoped>\n",
       "    .dataframe tbody tr th:only-of-type {\n",
       "        vertical-align: middle;\n",
       "    }\n",
       "\n",
       "    .dataframe tbody tr th {\n",
       "        vertical-align: top;\n",
       "    }\n",
       "\n",
       "    .dataframe thead th {\n",
       "        text-align: right;\n",
       "    }\n",
       "</style>\n",
       "<table border=\"1\" class=\"dataframe\">\n",
       "  <thead>\n",
       "    <tr style=\"text-align: right;\">\n",
       "      <th></th>\n",
       "      <th>POS_NO</th>\n",
       "      <th>BASK_CODE</th>\n",
       "      <th>BASK_SPEND</th>\n",
       "    </tr>\n",
       "  </thead>\n",
       "  <tbody>\n",
       "    <tr>\n",
       "      <td>count</td>\n",
       "      <td>571552.000000</td>\n",
       "      <td>571552.000000</td>\n",
       "      <td>571552.000000</td>\n",
       "    </tr>\n",
       "    <tr>\n",
       "      <td>mean</td>\n",
       "      <td>2.998429</td>\n",
       "      <td>167472.817102</td>\n",
       "      <td>38.973310</td>\n",
       "    </tr>\n",
       "    <tr>\n",
       "      <td>std</td>\n",
       "      <td>2.516065</td>\n",
       "      <td>87263.199857</td>\n",
       "      <td>209.038276</td>\n",
       "    </tr>\n",
       "    <tr>\n",
       "      <td>min</td>\n",
       "      <td>1.000000</td>\n",
       "      <td>961.000000</td>\n",
       "      <td>-35940.000000</td>\n",
       "    </tr>\n",
       "    <tr>\n",
       "      <td>25%</td>\n",
       "      <td>1.000000</td>\n",
       "      <td>90533.750000</td>\n",
       "      <td>9.000000</td>\n",
       "    </tr>\n",
       "    <tr>\n",
       "      <td>50%</td>\n",
       "      <td>2.000000</td>\n",
       "      <td>177603.500000</td>\n",
       "      <td>19.900000</td>\n",
       "    </tr>\n",
       "    <tr>\n",
       "      <td>75%</td>\n",
       "      <td>3.000000</td>\n",
       "      <td>238816.750000</td>\n",
       "      <td>44.700000</td>\n",
       "    </tr>\n",
       "    <tr>\n",
       "      <td>max</td>\n",
       "      <td>20.000000</td>\n",
       "      <td>323914.000000</td>\n",
       "      <td>79920.000000</td>\n",
       "    </tr>\n",
       "  </tbody>\n",
       "</table>\n",
       "</div>"
      ],
      "text/plain": [
       "              POS_NO      BASK_CODE     BASK_SPEND\n",
       "count  571552.000000  571552.000000  571552.000000\n",
       "mean        2.998429  167472.817102      38.973310\n",
       "std         2.516065   87263.199857     209.038276\n",
       "min         1.000000     961.000000  -35940.000000\n",
       "25%         1.000000   90533.750000       9.000000\n",
       "50%         2.000000  177603.500000      19.900000\n",
       "75%         3.000000  238816.750000      44.700000\n",
       "max        20.000000  323914.000000   79920.000000"
      ]
     },
     "execution_count": 276,
     "metadata": {},
     "output_type": "execute_result"
    }
   ],
   "source": [
    "df2.describe()"
   ]
  },
  {
   "cell_type": "code",
   "execution_count": 278,
   "metadata": {},
   "outputs": [],
   "source": [
    "#从最小值中看出BASK_SPEND列中有负数，说明有异常值，给予删除\n",
    "df_new2=df2[df2['BASK_SPEND']>0]"
   ]
  },
  {
   "cell_type": "code",
   "execution_count": 279,
   "metadata": {},
   "outputs": [
    {
     "data": {
      "text/html": [
       "<div>\n",
       "<style scoped>\n",
       "    .dataframe tbody tr th:only-of-type {\n",
       "        vertical-align: middle;\n",
       "    }\n",
       "\n",
       "    .dataframe tbody tr th {\n",
       "        vertical-align: top;\n",
       "    }\n",
       "\n",
       "    .dataframe thead th {\n",
       "        text-align: right;\n",
       "    }\n",
       "</style>\n",
       "<table border=\"1\" class=\"dataframe\">\n",
       "  <thead>\n",
       "    <tr style=\"text-align: right;\">\n",
       "      <th></th>\n",
       "      <th>POS_NO</th>\n",
       "      <th>BASK_CODE</th>\n",
       "      <th>BASK_SPEND</th>\n",
       "    </tr>\n",
       "  </thead>\n",
       "  <tbody>\n",
       "    <tr>\n",
       "      <td>count</td>\n",
       "      <td>569797.000000</td>\n",
       "      <td>569797.000000</td>\n",
       "      <td>569797.000000</td>\n",
       "    </tr>\n",
       "    <tr>\n",
       "      <td>mean</td>\n",
       "      <td>2.994330</td>\n",
       "      <td>167572.136898</td>\n",
       "      <td>39.583197</td>\n",
       "    </tr>\n",
       "    <tr>\n",
       "      <td>std</td>\n",
       "      <td>2.502507</td>\n",
       "      <td>87224.915886</td>\n",
       "      <td>196.158166</td>\n",
       "    </tr>\n",
       "    <tr>\n",
       "      <td>min</td>\n",
       "      <td>1.000000</td>\n",
       "      <td>961.000000</td>\n",
       "      <td>0.010000</td>\n",
       "    </tr>\n",
       "    <tr>\n",
       "      <td>25%</td>\n",
       "      <td>1.000000</td>\n",
       "      <td>90673.000000</td>\n",
       "      <td>9.000000</td>\n",
       "    </tr>\n",
       "    <tr>\n",
       "      <td>50%</td>\n",
       "      <td>2.000000</td>\n",
       "      <td>177692.000000</td>\n",
       "      <td>20.000000</td>\n",
       "    </tr>\n",
       "    <tr>\n",
       "      <td>75%</td>\n",
       "      <td>3.000000</td>\n",
       "      <td>238933.000000</td>\n",
       "      <td>44.800000</td>\n",
       "    </tr>\n",
       "    <tr>\n",
       "      <td>max</td>\n",
       "      <td>20.000000</td>\n",
       "      <td>323914.000000</td>\n",
       "      <td>79920.000000</td>\n",
       "    </tr>\n",
       "  </tbody>\n",
       "</table>\n",
       "</div>"
      ],
      "text/plain": [
       "              POS_NO      BASK_CODE     BASK_SPEND\n",
       "count  569797.000000  569797.000000  569797.000000\n",
       "mean        2.994330  167572.136898      39.583197\n",
       "std         2.502507   87224.915886     196.158166\n",
       "min         1.000000     961.000000       0.010000\n",
       "25%         1.000000   90673.000000       9.000000\n",
       "50%         2.000000  177692.000000      20.000000\n",
       "75%         3.000000  238933.000000      44.800000\n",
       "max        20.000000  323914.000000   79920.000000"
      ]
     },
     "execution_count": 279,
     "metadata": {},
     "output_type": "execute_result"
    }
   ],
   "source": [
    "df_new2.describe()\n",
    "#可以看出异常值被删除"
   ]
  },
  {
   "cell_type": "code",
   "execution_count": 280,
   "metadata": {},
   "outputs": [
    {
     "data": {
      "text/plain": [
       "(569797, 5)"
      ]
     },
     "execution_count": 280,
     "metadata": {},
     "output_type": "execute_result"
    }
   ],
   "source": [
    "df_new2.shape\n",
    "#原数据为571552条，现数据为569797条，删除了"
   ]
  },
  {
   "cell_type": "markdown",
   "metadata": {},
   "source": [
    "### 数据分析\n",
    "4.1 总体情况分析\n"
   ]
  },
  {
   "cell_type": "code",
   "execution_count": 283,
   "metadata": {},
   "outputs": [
    {
     "name": "stdout",
     "output_type": "stream",
     "text": [
      "天数总数为: 35\n",
      "超市总数为: 24\n",
      "购物篮总数为: 280816\n",
      "POS机总数为: 13\n"
     ]
    }
   ],
   "source": [
    "days_num2 = len(df_new2['SHOP_DATETIME'].unique())\n",
    "stores_num2 = len(df_new2['STORE_CODE'].unique())\n",
    "basks_num2 = len(df_new2['BASK_CODE'].unique())\n",
    "prods_num2 = len(df_new2['POS_NO'].unique())\n",
    "\n",
    "print('天数总数为: %d' %days_num2)\n",
    "print('超市总数为: %d' %stores_num2)\n",
    "print('购物篮总数为: %d' %basks_num2)\n",
    "print('POS机总数为: %d' %prods_num2)\n"
   ]
  },
  {
   "cell_type": "code",
   "execution_count": 282,
   "metadata": {},
   "outputs": [
    {
     "name": "stdout",
     "output_type": "stream",
     "text": [
      "天数总数为: 23\n",
      "超市总数为: 24\n",
      "pos机总数为: 13\n",
      "购物篮总数为: 222126\n",
      "商品总数为: 17424\n",
      "折扣种类为: 9\n"
     ]
    }
   ],
   "source": [
    "days_num = len(df_new['SDATE'].unique())\n",
    "stores_num = len(df_new['STORE_CODE'].unique())\n",
    "poss_num = len(df_new['POSID'].unique())\n",
    "basks_num = len(df_new['BASK_CODE'].unique())\n",
    "prods_num = len(df_new['PROD_CODE'].unique())\n",
    "discs_num = len(df_new['DISCOUNT_TYPE'].unique())\n",
    "print('天数总数为: %d' %days_num)\n",
    "print('超市总数为: %d' %stores_num)\n",
    "print('pos机总数为: %d' %poss_num)\n",
    "print('购物篮总数为: %d' %basks_num)\n",
    "print('商品总数为: %d' %prods_num)\n",
    "print('折扣种类为: %d' %discs_num)"
   ]
  },
  {
   "cell_type": "code",
   "execution_count": 288,
   "metadata": {},
   "outputs": [
    {
     "data": {
      "image/png": "[encoded data removed]",
      "text/plain": [
       "<Figure size 1800x576 with 1 Axes>"
      ]
     },
     "metadata": {
      "needs_background": "light"
     },
     "output_type": "display_data"
    }
   ],
   "source": [
    "plt.figure(figsize=(25, 8))\n",
    "day2 = df_new2[\"SHOP_DATETIME\"].unique()\n",
    "order_count2 = df_new2.groupby(by='SHOP_DATETIME').count()[\"BASK_SPEND\"]\n",
    "plt.bar(day2, order_count2)                 \n",
    "plt.show()\n",
    "#从上图可以看出，每天的花费数并不均衡。最高峰集中在中后旬，后旬消费者花费明显下降。针对这一现象可以着重考虑如何提高后旬的销量。"
   ]
  },
  {
   "cell_type": "code",
   "execution_count": 290,
   "metadata": {},
   "outputs": [
    {
     "data": {
      "image/png": "[encoded data removed]",
      "text/plain": [
       "<Figure size 1800x576 with 1 Axes>"
      ]
     },
     "metadata": {
      "needs_background": "light"
     },
     "output_type": "display_data"
    }
   ],
   "source": [
    "plt.figure(figsize=(25, 8))\n",
    "day = df_new[\"SDATE\"].unique()\n",
    "order_count = df_new.groupby(by='SDATE').count()[\"ITEM_SPEND\"]\n",
    "plt.bar(day, order_count)                 \n",
    "plt.show()\n",
    "#从上图可以看出，每天的花费数并不均衡。最高峰集中在中后旬，后旬消费者花费明显下降。针对这一现象可以着重考虑如何提高后旬的销量。"
   ]
  },
  {
   "cell_type": "markdown",
   "metadata": {},
   "source": [
    "4.2 各维度分析\n",
    "\n",
    "分析数据可以从两方面开始考虑，一个是维度，一个是指标，维度可以看做x轴，指标可以看成是y轴，同一个维度可以分析多个指标，同一个维度也可以做降维升维"
   ]
  },
  {
   "cell_type": "markdown",
   "metadata": {},
   "source": [
    "4.2.1超市分析"
   ]
  },
  {
   "cell_type": "code",
   "execution_count": 294,
   "metadata": {},
   "outputs": [
    {
     "name": "stdout",
     "output_type": "stream",
     "text": [
      "STORE_CODE\n",
      "A001    66507\n",
      "D002    62949\n",
      "D007    37503\n",
      "A008    36462\n",
      "A013    30064\n",
      "A006    28470\n",
      "A012    24946\n",
      "A009    21809\n",
      "D004    21362\n",
      "D008    21029\n",
      "Name: BASK_CODE, dtype: int64\n"
     ]
    }
   ],
   "source": [
    "storeId_count2 = df_new2.groupby('STORE_CODE').count()['BASK_CODE'].sort_values(ascending=False)\n",
    "print(storeId_count2.head(10))\n",
    "#人流前10名的超市"
   ]
  },
  {
   "cell_type": "code",
   "execution_count": 295,
   "metadata": {},
   "outputs": [
    {
     "name": "stdout",
     "output_type": "stream",
     "text": [
      "STORE_CODE\n",
      "A007    17954\n",
      "A019    16985\n",
      "D009    15827\n",
      "A018    15731\n",
      "D005    15261\n",
      "A022    15260\n",
      "A004    13429\n",
      "A017    12459\n",
      "D010    11070\n",
      "D003     7771\n",
      "Name: BASK_CODE, dtype: int64\n"
     ]
    }
   ],
   "source": [
    "print(storeId_count2.tail(10))\n",
    "#人流后10名的超市"
   ]
  },
  {
   "cell_type": "code",
   "execution_count": 296,
   "metadata": {},
   "outputs": [
    {
     "name": "stdout",
     "output_type": "stream",
     "text": [
      "STORE_CODE\n",
      "A001    3.478348e+06\n",
      "D002    3.177385e+06\n",
      "D007    1.382203e+06\n",
      "A008    1.324641e+06\n",
      "A013    1.126551e+06\n",
      "A006    9.439233e+05\n",
      "A012    8.546610e+05\n",
      "D004    8.153388e+05\n",
      "D006    8.144365e+05\n",
      "A009    8.052129e+05\n",
      "Name: BASK_SPEND, dtype: float64\n"
     ]
    }
   ],
   "source": [
    "#再看一下销售额前十名的超市\n",
    "storeId_amount2 = df_new2.groupby('STORE_CODE').sum()['BASK_SPEND'].sort_values(ascending=False)\n",
    "print(storeId_amount2.head(10))\n",
    "#销售额前10名的超市"
   ]
  },
  {
   "cell_type": "code",
   "execution_count": 297,
   "metadata": {},
   "outputs": [
    {
     "name": "stdout",
     "output_type": "stream",
     "text": [
      "STORE_CODE\n",
      "A010    653372.90\n",
      "A019    650797.35\n",
      "A018    563395.09\n",
      "D005    561386.80\n",
      "A004    515663.06\n",
      "A022    488646.16\n",
      "D009    473629.18\n",
      "A017    401767.00\n",
      "D010    364347.25\n",
      "D003    253080.72\n",
      "Name: BASK_SPEND, dtype: float64\n"
     ]
    }
   ],
   "source": [
    "print(storeId_amount2.tail(10))\n",
    "#销售额后10名的超市\n",
    "#可以看出，前十名和后十的超市销售额相差很大"
   ]
  },
  {
   "cell_type": "code",
   "execution_count": 298,
   "metadata": {},
   "outputs": [
    {
     "name": "stdout",
     "output_type": "stream",
     "text": [
      "9\n",
      "['A001', 'D002', 'D007', 'A008', 'A013', 'A006', 'A012', 'D004', 'A009']\n"
     ]
    }
   ],
   "source": [
    "problem_storeIds2 = storeId_amount2.head(10).index.intersection(storeId_count2.head(10).index)\n",
    "print(len(problem_storeIds2))\n",
    "print(problem_storeIds2.tolist())"
   ]
  },
  {
   "cell_type": "code",
   "execution_count": null,
   "metadata": {},
   "outputs": [],
   "source": [
    "SHOP_DATETIME    0\n",
    "STORE_CODE       0\n",
    "POS_NO           0\n",
    "BASK_CODE        0\n",
    "BASK_SPEND       0"
   ]
  },
  {
   "cell_type": "code",
   "execution_count": 197,
   "metadata": {},
   "outputs": [
    {
     "name": "stdout",
     "output_type": "stream",
     "text": [
      "STORE_CODE\n",
      "D002    142433\n",
      "A001    122641\n",
      "A008     69861\n",
      "D007     69800\n",
      "A013     50781\n",
      "A006     49792\n",
      "D004     44387\n",
      "A012     41336\n",
      "D006     39518\n",
      "A021     36025\n",
      "Name: PROD_CODE, dtype: int64\n"
     ]
    }
   ],
   "source": [
    "storeId_count = df_new.groupby('STORE_CODE').count()['PROD_CODE'].sort_values(ascending=False)\n",
    "print(storeId_count.head(10))\n",
    "#销量前10名的超市"
   ]
  },
  {
   "cell_type": "code",
   "execution_count": 198,
   "metadata": {},
   "outputs": [
    {
     "name": "stdout",
     "output_type": "stream",
     "text": [
      "STORE_CODE\n",
      "A010    31503\n",
      "A019    30549\n",
      "A004    29420\n",
      "D005    29063\n",
      "A018    26636\n",
      "D009    25149\n",
      "A022    24537\n",
      "D010    20055\n",
      "A017    17701\n",
      "D003    12699\n",
      "Name: PROD_CODE, dtype: int64\n"
     ]
    }
   ],
   "source": [
    "print(storeId_count.tail(10))\n",
    "#销量后10名的超市\n",
    "#可以看出，前两名和后边的超市销量相差很大"
   ]
  },
  {
   "cell_type": "code",
   "execution_count": 202,
   "metadata": {},
   "outputs": [
    {
     "name": "stdout",
     "output_type": "stream",
     "text": [
      "STORE_CODE\n",
      "A001    2.413546e+06\n",
      "D002    1.934742e+06\n",
      "A008    9.145735e+05\n",
      "D007    8.436205e+05\n",
      "A013    7.538393e+05\n",
      "A006    6.378124e+05\n",
      "A012    5.712609e+05\n",
      "A007    5.008311e+05\n",
      "A009    4.959406e+05\n",
      "D004    4.923083e+05\n",
      "Name: ITEM_SPEND, dtype: float64\n"
     ]
    }
   ],
   "source": [
    "#再看一下销售额前十名的超市\n",
    "storeId_amount = df_new.groupby('STORE_CODE').sum()['ITEM_SPEND'].sort_values(ascending=False)\n",
    "print(storeId_amount.head(10))\n",
    "#销售额前10名的超市"
   ]
  },
  {
   "cell_type": "code",
   "execution_count": 203,
   "metadata": {},
   "outputs": [
    {
     "name": "stdout",
     "output_type": "stream",
     "text": [
      "STORE_CODE\n",
      "D008    416171.37\n",
      "A019    410409.35\n",
      "A004    344320.75\n",
      "D005    329099.65\n",
      "A018    325387.19\n",
      "A022    282829.62\n",
      "D009    274901.19\n",
      "A017    254315.82\n",
      "D010    219562.27\n",
      "D003    148591.63\n",
      "Name: ITEM_SPEND, dtype: float64\n"
     ]
    }
   ],
   "source": [
    "print(storeId_amount.tail(10))\n",
    "#销售额后10名的超市"
   ]
  },
  {
   "cell_type": "markdown",
   "metadata": {},
   "source": [
    "根据以上的结果，对销售额/销量排名前十名的超市可以采取增加库存，增加推广成本等措施来进一步提升销量。而对于销售额/销量排名后几名的超市，则需要进行调研分析，学习前两名超市的运营模式、策略，确定超市销售额低下的原因，采取一定措施进行超市销量的提升，也可以考虑适当减少这些商品的库存，以减少损失。"
   ]
  },
  {
   "cell_type": "markdown",
   "metadata": {},
   "source": [
    "看下销量和销售额都排名前10的超市："
   ]
  },
  {
   "cell_type": "code",
   "execution_count": 211,
   "metadata": {},
   "outputs": [
    {
     "name": "stdout",
     "output_type": "stream",
     "text": [
      "8\n",
      "['A001', 'D002', 'A008', 'D007', 'A013', 'A006', 'A012', 'D004']\n"
     ]
    }
   ],
   "source": [
    "problem_storeIds = storeId_amount.head(10).index.intersection(storeId_count.head(10).index)\n",
    "print(len(problem_storeIds))\n",
    "print(problem_storeIds.tolist())"
   ]
  },
  {
   "cell_type": "markdown",
   "metadata": {},
   "source": [
    "一共有8个超市销量和销售额表现优秀， 因此，我们可以针对这些超市开展更多的优惠活动或者线下活动，进一步提升销量。"
   ]
  }
 ],
 "metadata": {
  "kernelspec": {
   "display_name": "Python 3",
   "language": "python",
   "name": "python3"
  },
  "language_info": {
   "codemirror_mode": {
    "name": "ipython",
    "version": 3
   },
   "file_extension": ".py",
   "mimetype": "text/x-python",
   "name": "python",
   "nbconvert_exporter": "python",
   "pygments_lexer": "ipython3",
   "version": "3.7.4"
  }
 },
 "nbformat": 4,
 "nbformat_minor": 4
}
