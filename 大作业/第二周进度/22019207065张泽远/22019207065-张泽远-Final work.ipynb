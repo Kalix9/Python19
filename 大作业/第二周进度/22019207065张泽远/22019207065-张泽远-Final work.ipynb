{
 "cells": [
  {
   "cell_type": "markdown",
   "metadata": {},
   "source": [
    "# 零售企业销售数据分析"
   ]
  },
  {
   "cell_type": "markdown",
   "metadata": {},
   "source": [
    "<font size=4>导入销售数据</font>"
   ]
  },
  {
   "cell_type": "code",
   "execution_count": 13,
   "metadata": {},
   "outputs": [],
   "source": [
    "import numpy as np\n",
    "import pandas as pd\n",
    "import matplotlib.pyplot as plt\n",
    "import matplotlib as mpl\n",
    "import seaborn as sns\n",
    "import warnings\n",
    "from pandas import read_csv\n",
    "data1=pd.read_csv('marketbasket.csv', encoding=\"gbk\")\n",
    "data2=pd.read_csv('marketitem.csv', encoding=\"gbk\")"
   ]
  },
  {
   "cell_type": "markdown",
   "metadata": {},
   "source": [
    "<font size=4>查看数据前5行</font>"
   ]
  },
  {
   "cell_type": "code",
   "execution_count": 14,
   "metadata": {
    "scrolled": true
   },
   "outputs": [
    {
     "name": "stdout",
     "output_type": "stream",
     "text": [
      "  SHOP_DATETIME STORE_CODE  POS_NO  BASK_CODE  BASK_SPEND\n",
      "0    2018-06-01       D007       3     250458         8.0\n",
      "1    2018-06-01       D007       3     250200        32.7\n",
      "2    2018-06-01       D007       1     161068        16.8\n",
      "3    2018-06-01       D007       8       5325        30.4\n",
      "4    2018-06-01       D007       8       5361       191.3\n",
      "        SDATE STORE_CODE  POSID  BASK_CODE  PROD_CODE  ITEM_QUANTITY  \\\n",
      "0  2018-06-01       D007      3     250451      29405          1.000   \n",
      "1  2018-06-01       D007      3     250451      13187          1.000   \n",
      "2  2018-06-01       D007      3     250243     196249          1.000   \n",
      "3  2018-06-01       D007      3     250243     199637          1.000   \n",
      "4  2018-06-01       D007      1     160905     195012          3.222   \n",
      "\n",
      "   ITEM_SPEND  NORMAL_PRICE DISCOUNT_TYPE  DISCOUNT_AMOUNT  \n",
      "0        1.70           2.0             m             -0.3  \n",
      "1        1.00           1.0             n              0.0  \n",
      "2       99.00          99.0             m              0.0  \n",
      "3        9.90          16.8             p             -6.9  \n",
      "4       18.69           5.8             n              0.0  \n"
     ]
    }
   ],
   "source": [
    "print(data1.head(5))\n",
    "print(data2.head(5))"
   ]
  },
  {
   "cell_type": "markdown",
   "metadata": {},
   "source": [
    "<font size=4>查看数据基本情况</font>"
   ]
  },
  {
   "cell_type": "code",
   "execution_count": 15,
   "metadata": {
    "scrolled": true
   },
   "outputs": [
    {
     "data": {
      "text/html": [
       "<div>\n",
       "<style scoped>\n",
       "    .dataframe tbody tr th:only-of-type {\n",
       "        vertical-align: middle;\n",
       "    }\n",
       "\n",
       "    .dataframe tbody tr th {\n",
       "        vertical-align: top;\n",
       "    }\n",
       "\n",
       "    .dataframe thead th {\n",
       "        text-align: right;\n",
       "    }\n",
       "</style>\n",
       "<table border=\"1\" class=\"dataframe\">\n",
       "  <thead>\n",
       "    <tr style=\"text-align: right;\">\n",
       "      <th></th>\n",
       "      <th>POS_NO</th>\n",
       "      <th>BASK_CODE</th>\n",
       "      <th>BASK_SPEND</th>\n",
       "    </tr>\n",
       "  </thead>\n",
       "  <tbody>\n",
       "    <tr>\n",
       "      <th>count</th>\n",
       "      <td>571552.000000</td>\n",
       "      <td>571552.000000</td>\n",
       "      <td>571552.000000</td>\n",
       "    </tr>\n",
       "    <tr>\n",
       "      <th>mean</th>\n",
       "      <td>2.998429</td>\n",
       "      <td>167472.817102</td>\n",
       "      <td>38.973310</td>\n",
       "    </tr>\n",
       "    <tr>\n",
       "      <th>std</th>\n",
       "      <td>2.516065</td>\n",
       "      <td>87263.199857</td>\n",
       "      <td>209.038276</td>\n",
       "    </tr>\n",
       "    <tr>\n",
       "      <th>min</th>\n",
       "      <td>1.000000</td>\n",
       "      <td>961.000000</td>\n",
       "      <td>-35940.000000</td>\n",
       "    </tr>\n",
       "    <tr>\n",
       "      <th>25%</th>\n",
       "      <td>1.000000</td>\n",
       "      <td>90533.750000</td>\n",
       "      <td>9.000000</td>\n",
       "    </tr>\n",
       "    <tr>\n",
       "      <th>50%</th>\n",
       "      <td>2.000000</td>\n",
       "      <td>177603.500000</td>\n",
       "      <td>19.900000</td>\n",
       "    </tr>\n",
       "    <tr>\n",
       "      <th>75%</th>\n",
       "      <td>3.000000</td>\n",
       "      <td>238816.750000</td>\n",
       "      <td>44.700000</td>\n",
       "    </tr>\n",
       "    <tr>\n",
       "      <th>max</th>\n",
       "      <td>20.000000</td>\n",
       "      <td>323914.000000</td>\n",
       "      <td>79920.000000</td>\n",
       "    </tr>\n",
       "  </tbody>\n",
       "</table>\n",
       "</div>"
      ],
      "text/plain": [
       "              POS_NO      BASK_CODE     BASK_SPEND\n",
       "count  571552.000000  571552.000000  571552.000000\n",
       "mean        2.998429  167472.817102      38.973310\n",
       "std         2.516065   87263.199857     209.038276\n",
       "min         1.000000     961.000000  -35940.000000\n",
       "25%         1.000000   90533.750000       9.000000\n",
       "50%         2.000000  177603.500000      19.900000\n",
       "75%         3.000000  238816.750000      44.700000\n",
       "max        20.000000  323914.000000   79920.000000"
      ]
     },
     "execution_count": 15,
     "metadata": {},
     "output_type": "execute_result"
    }
   ],
   "source": [
    "data1.describe()"
   ]
  },
  {
   "cell_type": "code",
   "execution_count": 16,
   "metadata": {},
   "outputs": [
    {
     "data": {
      "text/html": [
       "<div>\n",
       "<style scoped>\n",
       "    .dataframe tbody tr th:only-of-type {\n",
       "        vertical-align: middle;\n",
       "    }\n",
       "\n",
       "    .dataframe tbody tr th {\n",
       "        vertical-align: top;\n",
       "    }\n",
       "\n",
       "    .dataframe thead th {\n",
       "        text-align: right;\n",
       "    }\n",
       "</style>\n",
       "<table border=\"1\" class=\"dataframe\">\n",
       "  <thead>\n",
       "    <tr style=\"text-align: right;\">\n",
       "      <th></th>\n",
       "      <th>POSID</th>\n",
       "      <th>BASK_CODE</th>\n",
       "      <th>PROD_CODE</th>\n",
       "      <th>ITEM_QUANTITY</th>\n",
       "      <th>ITEM_SPEND</th>\n",
       "      <th>NORMAL_PRICE</th>\n",
       "      <th>DISCOUNT_AMOUNT</th>\n",
       "    </tr>\n",
       "  </thead>\n",
       "  <tbody>\n",
       "    <tr>\n",
       "      <th>count</th>\n",
       "      <td>1.732761e+06</td>\n",
       "      <td>1.732761e+06</td>\n",
       "      <td>1.732761e+06</td>\n",
       "      <td>1.732761e+06</td>\n",
       "      <td>1.732761e+06</td>\n",
       "      <td>1.732761e+06</td>\n",
       "      <td>1.732761e+06</td>\n",
       "    </tr>\n",
       "    <tr>\n",
       "      <th>mean</th>\n",
       "      <td>2.994959e+00</td>\n",
       "      <td>1.659824e+05</td>\n",
       "      <td>1.144861e+05</td>\n",
       "      <td>1.436702e+00</td>\n",
       "      <td>1.285536e+01</td>\n",
       "      <td>1.424412e+01</td>\n",
       "      <td>-1.624232e+00</td>\n",
       "    </tr>\n",
       "    <tr>\n",
       "      <th>std</th>\n",
       "      <td>2.470286e+00</td>\n",
       "      <td>8.583102e+04</td>\n",
       "      <td>8.161988e+04</td>\n",
       "      <td>7.015504e+00</td>\n",
       "      <td>1.022148e+02</td>\n",
       "      <td>2.403937e+01</td>\n",
       "      <td>5.160490e+01</td>\n",
       "    </tr>\n",
       "    <tr>\n",
       "      <th>min</th>\n",
       "      <td>1.000000e+00</td>\n",
       "      <td>9.610000e+02</td>\n",
       "      <td>1.900000e+01</td>\n",
       "      <td>-6.000000e+02</td>\n",
       "      <td>-3.594000e+04</td>\n",
       "      <td>5.000000e-01</td>\n",
       "      <td>-5.760000e+04</td>\n",
       "    </tr>\n",
       "    <tr>\n",
       "      <th>25%</th>\n",
       "      <td>1.000000e+00</td>\n",
       "      <td>8.995200e+04</td>\n",
       "      <td>2.183500e+04</td>\n",
       "      <td>1.000000e+00</td>\n",
       "      <td>3.800000e+00</td>\n",
       "      <td>3.800000e+00</td>\n",
       "      <td>-1.000000e+00</td>\n",
       "    </tr>\n",
       "    <tr>\n",
       "      <th>50%</th>\n",
       "      <td>2.000000e+00</td>\n",
       "      <td>1.758280e+05</td>\n",
       "      <td>1.233210e+05</td>\n",
       "      <td>1.000000e+00</td>\n",
       "      <td>7.000000e+00</td>\n",
       "      <td>7.800000e+00</td>\n",
       "      <td>0.000000e+00</td>\n",
       "    </tr>\n",
       "    <tr>\n",
       "      <th>75%</th>\n",
       "      <td>3.000000e+00</td>\n",
       "      <td>2.229530e+05</td>\n",
       "      <td>1.959930e+05</td>\n",
       "      <td>1.000000e+00</td>\n",
       "      <td>1.200000e+01</td>\n",
       "      <td>1.500000e+01</td>\n",
       "      <td>0.000000e+00</td>\n",
       "    </tr>\n",
       "    <tr>\n",
       "      <th>max</th>\n",
       "      <td>2.000000e+01</td>\n",
       "      <td>3.239140e+05</td>\n",
       "      <td>2.250470e+05</td>\n",
       "      <td>4.020000e+03</td>\n",
       "      <td>6.912000e+04</td>\n",
       "      <td>1.980000e+03</td>\n",
       "      <td>9.300000e+02</td>\n",
       "    </tr>\n",
       "  </tbody>\n",
       "</table>\n",
       "</div>"
      ],
      "text/plain": [
       "              POSID     BASK_CODE     PROD_CODE  ITEM_QUANTITY    ITEM_SPEND  \\\n",
       "count  1.732761e+06  1.732761e+06  1.732761e+06   1.732761e+06  1.732761e+06   \n",
       "mean   2.994959e+00  1.659824e+05  1.144861e+05   1.436702e+00  1.285536e+01   \n",
       "std    2.470286e+00  8.583102e+04  8.161988e+04   7.015504e+00  1.022148e+02   \n",
       "min    1.000000e+00  9.610000e+02  1.900000e+01  -6.000000e+02 -3.594000e+04   \n",
       "25%    1.000000e+00  8.995200e+04  2.183500e+04   1.000000e+00  3.800000e+00   \n",
       "50%    2.000000e+00  1.758280e+05  1.233210e+05   1.000000e+00  7.000000e+00   \n",
       "75%    3.000000e+00  2.229530e+05  1.959930e+05   1.000000e+00  1.200000e+01   \n",
       "max    2.000000e+01  3.239140e+05  2.250470e+05   4.020000e+03  6.912000e+04   \n",
       "\n",
       "       NORMAL_PRICE  DISCOUNT_AMOUNT  \n",
       "count  1.732761e+06     1.732761e+06  \n",
       "mean   1.424412e+01    -1.624232e+00  \n",
       "std    2.403937e+01     5.160490e+01  \n",
       "min    5.000000e-01    -5.760000e+04  \n",
       "25%    3.800000e+00    -1.000000e+00  \n",
       "50%    7.800000e+00     0.000000e+00  \n",
       "75%    1.500000e+01     0.000000e+00  \n",
       "max    1.980000e+03     9.300000e+02  "
      ]
     },
     "execution_count": 16,
     "metadata": {},
     "output_type": "execute_result"
    }
   ],
   "source": [
    "data2.describe()"
   ]
  },
  {
   "cell_type": "markdown",
   "metadata": {},
   "source": [
    "<font size=4>查看数据类型</font>"
   ]
  },
  {
   "cell_type": "code",
   "execution_count": 17,
   "metadata": {},
   "outputs": [
    {
     "data": {
      "text/plain": [
       "SHOP_DATETIME     object\n",
       "STORE_CODE        object\n",
       "POS_NO             int64\n",
       "BASK_CODE          int64\n",
       "BASK_SPEND       float64\n",
       "dtype: object"
      ]
     },
     "execution_count": 17,
     "metadata": {},
     "output_type": "execute_result"
    }
   ],
   "source": [
    "data1.dtypes"
   ]
  },
  {
   "cell_type": "code",
   "execution_count": 18,
   "metadata": {},
   "outputs": [
    {
     "data": {
      "text/plain": [
       "SDATE               object\n",
       "STORE_CODE          object\n",
       "POSID                int64\n",
       "BASK_CODE            int64\n",
       "PROD_CODE            int64\n",
       "ITEM_QUANTITY      float64\n",
       "ITEM_SPEND         float64\n",
       "NORMAL_PRICE       float64\n",
       "DISCOUNT_TYPE       object\n",
       "DISCOUNT_AMOUNT    float64\n",
       "dtype: object"
      ]
     },
     "execution_count": 18,
     "metadata": {},
     "output_type": "execute_result"
    }
   ],
   "source": [
    "data2.dtypes"
   ]
  },
  {
   "cell_type": "markdown",
   "metadata": {},
   "source": [
    "<font size=4>检查是否有缺失值</font>"
   ]
  },
  {
   "cell_type": "code",
   "execution_count": 19,
   "metadata": {},
   "outputs": [
    {
     "name": "stdout",
     "output_type": "stream",
     "text": [
      "SHOP_DATETIME    False\n",
      "STORE_CODE       False\n",
      "POS_NO           False\n",
      "BASK_CODE        False\n",
      "BASK_SPEND       False\n",
      "dtype: bool\n",
      "******************************\n",
      "SDATE              False\n",
      "STORE_CODE         False\n",
      "POSID              False\n",
      "BASK_CODE          False\n",
      "PROD_CODE          False\n",
      "ITEM_QUANTITY      False\n",
      "ITEM_SPEND         False\n",
      "NORMAL_PRICE       False\n",
      "DISCOUNT_TYPE      False\n",
      "DISCOUNT_AMOUNT    False\n",
      "dtype: bool\n"
     ]
    }
   ],
   "source": [
    "print(data1.isnull().any())\n",
    "print(\"*\"*30)\n",
    "print(data2.isnull().any())"
   ]
  },
  {
   "cell_type": "markdown",
   "metadata": {},
   "source": [
    "<font size=4>统计各个门店的销售额并可视化呈现</font>"
   ]
  },
  {
   "cell_type": "code",
   "execution_count": 24,
   "metadata": {},
   "outputs": [
    {
     "data": {
      "text/plain": [
       "STORE_CODE\n",
       "A001    3.435303e+06\n",
       "A004    5.123467e+05\n",
       "A006    9.383050e+05\n",
       "A007    6.866382e+05\n",
       "A008    1.311171e+06\n",
       "A009    7.977389e+05\n",
       "A010    6.448924e+05\n",
       "A012    8.469747e+05\n",
       "A013    1.117126e+06\n",
       "A016    7.398143e+05\n",
       "A017    3.945074e+05\n",
       "A018    5.584417e+05\n",
       "A019    6.486686e+05\n",
       "A021    7.387401e+05\n",
       "A022    4.874459e+05\n",
       "D002    3.129447e+06\n",
       "D003    2.435843e+05\n",
       "D004    8.078603e+05\n",
       "D005    5.541030e+05\n",
       "D006    7.935042e+05\n",
       "D007    1.361607e+06\n",
       "D008    6.930078e+05\n",
       "D009    4.704280e+05\n",
       "D010    3.636179e+05\n",
       "Name: BASK_SPEND, dtype: float64"
      ]
     },
     "execution_count": 24,
     "metadata": {},
     "output_type": "execute_result"
    }
   ],
   "source": [
    "mdsale1 =data1.groupby(by=\"STORE_CODE\")\n",
    "sell_groupby_STORE_CODE = mdsale1[\"BASK_SPEND\"].sum()\n",
    "sell_groupby_STORE_CODE"
   ]
  },
  {
   "cell_type": "code",
   "execution_count": 26,
   "metadata": {},
   "outputs": [
    {
     "data": {
      "text/plain": [
       "(array([ 0,  1,  2,  3,  4,  5,  6,  7,  8,  9, 10, 11, 12, 13, 14, 15, 16,\n",
       "        17, 18, 19, 20, 21, 22, 23]), <a list of 24 Text xticklabel objects>)"
      ]
     },
     "execution_count": 26,
     "metadata": {},
     "output_type": "execute_result"
    },
    {
     "data": {
      "image/png": "[encoded data removed]",
      "text/plain": [
       "<Figure size 1008x576 with 1 Axes>"
      ]
     },
     "metadata": {
      "needs_background": "light"
     },
     "output_type": "display_data"
    }
   ],
   "source": [
    "sell_groupby_STORE_CODE.plot(kind='bar',title='STORE-SALE',figsize=(14,8))\n",
    "plt.xticks(fontsize=15,rotation=45)"
   ]
  },
  {
   "cell_type": "markdown",
   "metadata": {},
   "source": [
    "<font size=4>统计各个门店的让利情况并可视化呈现</font>"
   ]
  },
  {
   "cell_type": "code",
   "execution_count": 27,
   "metadata": {},
   "outputs": [
    {
     "data": {
      "text/plain": [
       "STORE_CODE\n",
       "A001   -454457.05\n",
       "A004    -58657.79\n",
       "A006   -115700.27\n",
       "A007    -78634.92\n",
       "A008   -138164.49\n",
       "A009    -81139.40\n",
       "A010    -73648.42\n",
       "A012   -116310.50\n",
       "A013   -135125.86\n",
       "A016    -78571.15\n",
       "A017    -47831.54\n",
       "A018    -68675.89\n",
       "A019    -80341.30\n",
       "A021    -77323.69\n",
       "A022    -45195.82\n",
       "D002   -465244.61\n",
       "D003    -23871.27\n",
       "D004   -109239.76\n",
       "D005    -77246.94\n",
       "D006    -84627.86\n",
       "D007   -215108.26\n",
       "D008    -90824.42\n",
       "D009    -49390.58\n",
       "D010    -49074.50\n",
       "Name: DISCOUNT_AMOUNT, dtype: float64"
      ]
     },
     "execution_count": 27,
     "metadata": {},
     "output_type": "execute_result"
    }
   ],
   "source": [
    "rlqk =data2.groupby(by=\"STORE_CODE\")\n",
    "rl_groupby_STORE_CODE = rlqk[\"DISCOUNT_AMOUNT\"].sum()\n",
    "rl_groupby_STORE_CODE"
   ]
  },
  {
   "cell_type": "code",
   "execution_count": 28,
   "metadata": {},
   "outputs": [
    {
     "data": {
      "text/plain": [
       "(array([ 0,  1,  2,  3,  4,  5,  6,  7,  8,  9, 10, 11, 12, 13, 14, 15, 16,\n",
       "        17, 18, 19, 20, 21, 22, 23]), <a list of 24 Text xticklabel objects>)"
      ]
     },
     "execution_count": 28,
     "metadata": {},
     "output_type": "execute_result"
    },
    {
     "data": {
      "image/png": "[encoded data removed]",
      "text/plain": [
       "<Figure size 1008x576 with 1 Axes>"
      ]
     },
     "metadata": {
      "needs_background": "light"
     },
     "output_type": "display_data"
    }
   ],
   "source": [
    "rl_groupby_STORE_CODE.plot(kind='bar',title='Discount-Store',figsize=(14,8))\n",
    "plt.xticks(fontsize=15,rotation=45)"
   ]
  },
  {
   "cell_type": "code",
   "execution_count": null,
   "metadata": {},
   "outputs": [],
   "source": []
  }
 ],
 "metadata": {
  "kernelspec": {
   "display_name": "Python 3",
   "language": "python",
   "name": "python3"
  },
  "language_info": {
   "codemirror_mode": {
    "name": "ipython",
    "version": 3
   },
   "file_extension": ".py",
   "mimetype": "text/x-python",
   "name": "python",
   "nbconvert_exporter": "python",
   "pygments_lexer": "ipython3",
   "version": "3.7.3"
  }
 },
 "nbformat": 4,
 "nbformat_minor": 2
}
