{
 "cells": [
  {
   "cell_type": "markdown",
   "metadata": {},
   "source": [
    "# 第一次作业"
   ]
  },
  {
   "cell_type": "code",
   "execution_count": 1,
   "metadata": {
    "scrolled": true
   },
   "outputs": [
    {
     "name": "stdout",
     "output_type": "stream",
     "text": [
      "        SDATE STORE_CODE  POSID  BASK_CODE  PROD_CODE  ITEM_QUANTITY  \\\n",
      "0  2018-06-01       D007      3     250451      29405          1.000   \n",
      "1  2018-06-01       D007      3     250451      13187          1.000   \n",
      "2  2018-06-01       D007      3     250243     196249          1.000   \n",
      "3  2018-06-01       D007      3     250243     199637          1.000   \n",
      "4  2018-06-01       D007      1     160905     195012          3.222   \n",
      "\n",
      "   ITEM_SPEND  NORMAL_PRICE DISCOUNT_TYPE  DISCOUNT_AMOUNT  \n",
      "0        1.70           2.0             m             -0.3  \n",
      "1        1.00           1.0             n              0.0  \n",
      "2       99.00          99.0             m              0.0  \n",
      "3        9.90          16.8             p             -6.9  \n",
      "4       18.69           5.8             n              0.0  \n",
      "  SHOP_DATETIME STORE_CODE  POS_NO  BASK_CODE  BASK_SPEND\n",
      "0    2018-06-01       D007       3     250458         8.0\n",
      "1    2018-06-01       D007       3     250200        32.7\n",
      "2    2018-06-01       D007       1     161068        16.8\n",
      "3    2018-06-01       D007       8       5325        30.4\n",
      "4    2018-06-01       D007       8       5361       191.3\n"
     ]
    }
   ],
   "source": [
    "import csv\n",
    "import pandas as pd\n",
    "\n",
    "data1=open(\"C:/Users/xyr19/Desktop/python科学计算大作业/item-2018-06-01-2018-07-05.csv\")\n",
    "data2=open(\"C:/Users/xyr19/Desktop/python科学计算大作业/Basket-2018-06-01-2018-07-05.csv\")\n",
    "df1 = pd.read_csv(data1)\n",
    "df2 = pd.read_csv(data2)\n",
    "print(df1.head(5))\n",
    "print(df2.head(5))"
   ]
  },
  {
   "cell_type": "code",
   "execution_count": 92,
   "metadata": {},
   "outputs": [
    {
     "data": {
      "text/plain": [
       "SHOP_DATETIME    False\n",
       "STORE_CODE       False\n",
       "POS_NO           False\n",
       "BASK_CODE        False\n",
       "BASK_SPEND       False\n",
       "dtype: bool"
      ]
     },
     "execution_count": 92,
     "metadata": {},
     "output_type": "execute_result"
    }
   ],
   "source": [
    "#统计两个csv文件是否存在缺失值。\n",
    "df2.isnull().any()"
   ]
  },
  {
   "cell_type": "code",
   "execution_count": 93,
   "metadata": {},
   "outputs": [
    {
     "data": {
      "text/plain": [
       "SDATE              False\n",
       "STORE_CODE         False\n",
       "POSID              False\n",
       "BASK_CODE          False\n",
       "PROD_CODE          False\n",
       "ITEM_QUANTITY      False\n",
       "ITEM_SPEND         False\n",
       "NORMAL_PRICE       False\n",
       "DISCOUNT_TYPE      False\n",
       "DISCOUNT_AMOUNT    False\n",
       "Sale               False\n",
       "dtype: bool"
      ]
     },
     "execution_count": 93,
     "metadata": {},
     "output_type": "execute_result"
    }
   ],
   "source": [
    "df1.isnull().any()"
   ]
  },
  {
   "cell_type": "code",
   "execution_count": 94,
   "metadata": {},
   "outputs": [
    {
     "name": "stderr",
     "output_type": "stream",
     "text": [
      "C:\\Users\\xyr19\\AppData\\Local\\Continuum\\anaconda3\\lib\\site-packages\\ipykernel_launcher.py:2: FutureWarning: by argument to sort_index is deprecated, please use .sort_values(by=...)\n",
      "  \n"
     ]
    },
    {
     "name": "stdout",
     "output_type": "stream",
     "text": [
      "       SHOP_DATETIME STORE_CODE  POS_NO  BASK_CODE  BASK_SPEND\n",
      "215263    2018-06-01       D002       5     207961         1.5\n",
      "215262    2018-06-01       D002       8      82213         8.5\n",
      "215274    2018-06-01       D006       3     148745        34.9\n",
      "215289    2018-06-01       D007       1     160912        56.0\n",
      "215290    2018-06-01       D007       1     161147        11.8\n"
     ]
    }
   ],
   "source": [
    "#对basket列表日期进行排序\n",
    "Basketdata = df2.sort_index(axis=0,by=[\"SHOP_DATETIME\"])\n",
    "print(Basketdata[25:30])"
   ]
  },
  {
   "cell_type": "code",
   "execution_count": 95,
   "metadata": {},
   "outputs": [
    {
     "data": {
      "text/plain": [
       "STORE_CODE\n",
       "A001    3.435303e+06\n",
       "A004    5.123467e+05\n",
       "A006    9.383050e+05\n",
       "A007    6.866382e+05\n",
       "A008    1.311171e+06\n",
       "A009    7.977389e+05\n",
       "A010    6.448924e+05\n",
       "A012    8.469747e+05\n",
       "A013    1.117126e+06\n",
       "A016    7.398143e+05\n",
       "A017    3.945074e+05\n",
       "A018    5.584417e+05\n",
       "A019    6.486686e+05\n",
       "A021    7.387401e+05\n",
       "A022    4.874459e+05\n",
       "D002    3.129447e+06\n",
       "D003    2.435843e+05\n",
       "D004    8.078603e+05\n",
       "D005    5.541030e+05\n",
       "D006    7.935042e+05\n",
       "D007    1.361607e+06\n",
       "D008    6.930078e+05\n",
       "D009    4.704280e+05\n",
       "D010    3.636179e+05\n",
       "Name: BASK_SPEND, dtype: float64"
      ]
     },
     "execution_count": 95,
     "metadata": {},
     "output_type": "execute_result"
    }
   ],
   "source": [
    "# 统计每个商店销售额\n",
    "sell =Basketdata.groupby(by=\"STORE_CODE\")\n",
    "df2_sell = sell[\"BASK_SPEND\"].sum()\n",
    "df2_sell"
   ]
  },
  {
   "cell_type": "code",
   "execution_count": 96,
   "metadata": {},
   "outputs": [
    {
     "data": {
      "text/plain": [
       "SHOP_DATETIME\n",
       "2018-06-01     717327.28\n",
       "2018-06-02     727910.16\n",
       "2018-06-03     682779.75\n",
       "2018-06-04     557813.05\n",
       "2018-06-05     663394.81\n",
       "2018-06-06     498250.71\n",
       "2018-06-07     436109.19\n",
       "2018-06-08     564402.27\n",
       "2018-06-09     679629.48\n",
       "2018-06-10     702961.56\n",
       "2018-06-11     532263.20\n",
       "2018-06-12     569290.86\n",
       "2018-06-13     722874.45\n",
       "2018-06-14     615684.90\n",
       "2018-06-15     774897.74\n",
       "2018-06-16    1172798.62\n",
       "2018-06-17    1506093.31\n",
       "2018-06-18    1257825.41\n",
       "2018-06-19     412881.99\n",
       "2018-06-20     533702.81\n",
       "2018-06-21     493064.51\n",
       "2018-06-22     411610.22\n",
       "2018-06-23     582622.57\n",
       "2018-06-24     529053.77\n",
       "2018-06-25     454961.04\n",
       "2018-06-26     453298.13\n",
       "2018-06-27     527871.74\n",
       "2018-06-28     438126.70\n",
       "2018-06-29     568749.99\n",
       "2018-06-30     719873.69\n",
       "2018-07-01     653284.63\n",
       "2018-07-02     520731.01\n",
       "2018-07-03     542603.77\n",
       "2018-07-04     559139.42\n",
       "2018-07-05     491390.33\n",
       "Name: BASK_SPEND, dtype: float64"
      ]
     },
     "execution_count": 96,
     "metadata": {},
     "output_type": "execute_result"
    }
   ],
   "source": [
    "#按日期统计总销售额\n",
    "Dsell =Basketdata.groupby(by=\"SHOP_DATETIME\")\n",
    "data_sell2 = Dsell[\"BASK_SPEND\"].sum()\n",
    "data_sell2"
   ]
  },
  {
   "cell_type": "code",
   "execution_count": 97,
   "metadata": {},
   "outputs": [
    {
     "data": {
      "text/plain": [
       "STORE_CODE\n",
       "A001               [3, 9, 6, 2, 10, 1, 5, 4]\n",
       "A004                               [2, 4, 1]\n",
       "A006                               [2, 4, 1]\n",
       "A007                               [1, 2, 8]\n",
       "A008                      [1, 3, 8, 2, 6, 4]\n",
       "A009                               [1, 2, 8]\n",
       "A010                               [2, 8, 3]\n",
       "A012                            [2, 3, 8, 1]\n",
       "A013                         [6, 2, 4, 8, 1]\n",
       "A016                               [1, 2, 3]\n",
       "A017                                  [1, 8]\n",
       "A018                               [1, 2, 4]\n",
       "A019                               [1, 2, 3]\n",
       "A021                            [2, 3, 4, 1]\n",
       "A022                                  [2, 1]\n",
       "D002    [5, 8, 4, 6, 1, 20, 13, 7, 2, 19, 9]\n",
       "D003                                  [2, 1]\n",
       "D004                               [2, 1, 4]\n",
       "D005                               [2, 3, 4]\n",
       "D006                               [2, 3, 1]\n",
       "D007                            [3, 1, 8, 4]\n",
       "D008                               [4, 1, 2]\n",
       "D009                               [3, 2, 1]\n",
       "D010                                  [3, 1]\n",
       "Name: POS_NO, dtype: object"
      ]
     },
     "execution_count": 97,
     "metadata": {},
     "output_type": "execute_result"
    }
   ],
   "source": [
    "# 统计每个商店的pos机\n",
    "S_pos =Basketdata.groupby(by=\"STORE_CODE\")\n",
    "Shop_pos = S_pos[\"POS_NO\"]\n",
    "Shop_pos.unique()"
   ]
  },
  {
   "cell_type": "code",
   "execution_count": 98,
   "metadata": {},
   "outputs": [
    {
     "data": {
      "text/plain": [
       "STORE_CODE\n",
       "A001    [25440, 25474, 25121, 25176, 266577, 229111, 2...\n",
       "A004    [108542, 108376, 3043, 108240, 3045, 108290, 1...\n",
       "A006    [290886, 143370, 143369, 290882, 291181, 29117...\n",
       "A007    [116215, 115995, 116088, 116230, 116001, 11600...\n",
       "A008    [271004, 163781, 163670, 163615, 163407, 27085...\n",
       "A009    [244862, 244868, 50740, 244675, 244699, 244530...\n",
       "A010    [259404, 259265, 258937, 259390, 259375, 25931...\n",
       "A012    [282809, 282667, 112895, 282096, 282165, 11271...\n",
       "A013    [150359, 150283, 150101, 194937, 150033, 15015...\n",
       "A016    [78658, 78574, 78561, 78383, 78381, 78235, 787...\n",
       "A017    [177521, 177505, 177504, 177490, 177390, 17738...\n",
       "A018    [199163, 198913, 199055, 199064, 198886, 19890...\n",
       "A019    [192017, 192069, 192072, 191687, 192019, 19176...\n",
       "A021    [97476, 73060, 97463, 46475, 72992, 73070, 731...\n",
       "A022    [56341, 10386, 56344, 56343, 56342, 56318, 560...\n",
       "D002    [207961, 82213, 143621, 204453, 49301, 204410,...\n",
       "D003    [52997, 53044, 53089, 53088, 53062, 53061, 532...\n",
       "D004    [15923, 173844, 15789, 15755, 15711, 173481, 1...\n",
       "D005    [205066, 204811, 204766, 204765, 204922, 20497...\n",
       "D006    [35068, 34947, 35022, 148558, 34952, 148745, 1...\n",
       "D007    [250458, 161017, 161158, 250476, 5399, 5398, 1...\n",
       "D008    [18250, 18258, 197711, 197555, 197547, 197330,...\n",
       "D009    [144114, 144179, 144175, 15853, 15851, 15844, ...\n",
       "D010    [181428, 181567, 181126, 181156, 181154, 18116...\n",
       "Name: BASK_CODE, dtype: object"
      ]
     },
     "execution_count": 98,
     "metadata": {},
     "output_type": "execute_result"
    }
   ],
   "source": [
    "#统计每个商店的购物篮个数\n",
    "S_basket =Basketdata.groupby(by=\"STORE_CODE\")\n",
    "Shop_basket = S_basket[\"BASK_CODE\"]\n",
    "Shop_basket.unique()"
   ]
  },
  {
   "cell_type": "code",
   "execution_count": 99,
   "metadata": {},
   "outputs": [
    {
     "data": {
      "text/plain": [
       "571552"
      ]
     },
     "execution_count": 99,
     "metadata": {},
     "output_type": "execute_result"
    }
   ],
   "source": [
    "#统计商品的种类\n",
    "Shop_code = Basketdata[\"BASK_CODE\"]\n",
    "Shop_code.count()"
   ]
  },
  {
   "cell_type": "code",
   "execution_count": 100,
   "metadata": {},
   "outputs": [
    {
     "data": {
      "text/plain": [
       "<function matplotlib.pyplot.show(*args, **kw)>"
      ]
     },
     "execution_count": 100,
     "metadata": {},
     "output_type": "execute_result"
    },
    {
     "data": {
      "image/png": "[encoded data removed]",
      "text/plain": [
       "<Figure size 432x288 with 1 Axes>"
      ]
     },
     "metadata": {
      "needs_background": "light"
     },
     "output_type": "display_data"
    }
   ],
   "source": [
    "#绘制以日期为自变量，销售金额为因变量的函数图像\n",
    "import matplotlib.pyplot as plt\n",
    "x = Basketdata.groupby(by=\"SHOP_DATETIME\")\n",
    "y = data_sell2.values\n",
    "plt.plot(y)\n",
    "plt.xlabel(\"Date\")\n",
    "plt.ylabel(\"Sale\")\n",
    "plt.rcParams['font.sans-serif']=['SimHei']\n",
    "plt.rcParams['axes.unicode_minus']=False\n",
    "plt.title(\"日销售报表\")\n",
    "plt.show"
   ]
  },
  {
   "cell_type": "markdown",
   "metadata": {},
   "source": [
    "# 第二次作业"
   ]
  },
  {
   "cell_type": "code",
   "execution_count": 5,
   "metadata": {},
   "outputs": [
    {
     "data": {
      "text/plain": [
       "pandas.core.series.Series"
      ]
     },
     "execution_count": 5,
     "metadata": {},
     "output_type": "execute_result"
    }
   ],
   "source": [
    "type(df1[\"DISCOUNT_AMOUNT\"])"
   ]
  },
  {
   "cell_type": "code",
   "execution_count": 7,
   "metadata": {},
   "outputs": [
    {
     "name": "stdout",
     "output_type": "stream",
     "text": [
      "1732761\n",
      "520629\n"
     ]
    }
   ],
   "source": [
    "#统计打折商品编号\n",
    "print(df1[\"PROD_CODE\"].count())\n",
    "dazhe_prod = df1[df1[\"DISCOUNT_AMOUNT\"].values != 0.][\"PROD_CODE\"]\n",
    "print(dazhe_prod.count())"
   ]
  },
  {
   "cell_type": "markdown",
   "metadata": {},
   "source": [
    "#####   一共是1732761种商品，其中520629件是打折的"
   ]
  },
  {
   "cell_type": "code",
   "execution_count": 52,
   "metadata": {},
   "outputs": [
    {
     "name": "stdout",
     "output_type": "stream",
     "text": [
      "1380170\n",
      " 0.00      967602\n",
      "-1.00       36688\n",
      "-1.60       24002\n",
      "-2.00       21732\n",
      "-3.00       15590\n",
      "            ...  \n",
      "-8.95           1\n",
      "-12.80          1\n",
      "-71.10          1\n",
      "-27.50          1\n",
      "-300.00         1\n",
      "Name: DISCOUNT_AMOUNT, Length: 992, dtype: int64\n"
     ]
    }
   ],
   "source": [
    "#商品数量是1的时候 打不打折\n",
    "shengyige = df1[df1[\"ITEM_QUANTITY\"].values == 1.000][\"DISCOUNT_AMOUNT\"]\n",
    "print(shengyige.count())\n",
    "print(shengyige.value_counts())"
   ]
  },
  {
   "cell_type": "markdown",
   "metadata": {},
   "source": [
    "#####  当商品的销售量为1时，一共1380170件，其中不打折的967602.想判断的是商品数量为1时与打折的关系，结论是关系不显著。"
   ]
  },
  {
   "cell_type": "code",
   "execution_count": 54,
   "metadata": {},
   "outputs": [
    {
     "name": "stdout",
     "output_type": "stream",
     "text": [
      " 0.00      1203233\n",
      "-1.00          115\n",
      "-1.60           70\n",
      "-2.00           59\n",
      "-20.00          58\n",
      "            ...   \n",
      " 6.50            1\n",
      "-309.40          1\n",
      "-5.06            1\n",
      "-7.78            1\n",
      "-1.14            1\n",
      "Name: DISCOUNT_AMOUNT, Length: 1117, dtype: int64\n"
     ]
    }
   ],
   "source": [
    "#当打折类型为n时，对应打了折扣的种类\n",
    "dazheleixing = df1[df1[\"DISCOUNT_TYPE\"] ==\"n\"][\"DISCOUNT_AMOUNT\"]\n",
    "print(dazheleixing.value_counts())"
   ]
  },
  {
   "cell_type": "markdown",
   "metadata": {},
   "source": [
    "##### 判断的是折扣种类m、n等与对应折扣的关系。发现当折扣类型为n时，最多的商品是打-1.00."
   ]
  },
  {
   "cell_type": "code",
   "execution_count": 61,
   "metadata": {},
   "outputs": [
    {
     "name": "stdout",
     "output_type": "stream",
     "text": [
      "1361606.5799999998\n",
      "1361606.58\n"
     ]
    }
   ],
   "source": [
    "#商店编号为D007时 正常营业额的总金额 打折总金额\n",
    "D007_actSale = df1[df1[\"STORE_CODE\"] == \"D007\"][\"ITEM_SPEND\"]\n",
    "print(D007_actSale.sum())\n",
    "D007_BASKSPEND = df2[df2[\"STORE_CODE\"] == \"D007\"][\"BASK_SPEND\"]\n",
    "print(D007_BASKSPEND.sum())"
   ]
  },
  {
   "cell_type": "markdown",
   "metadata": {},
   "source": [
    "##### 比较了两个excel表的D007 BASK_SPEND和ITEM_SPEND的总和。 发现这两个变量总和是一样的。"
   ]
  },
  {
   "cell_type": "code",
   "execution_count": 68,
   "metadata": {
    "scrolled": true
   },
   "outputs": [
    {
     "name": "stdout",
     "output_type": "stream",
     "text": [
      "29708338.211515706\n",
      "1764679.2034406196\n"
     ]
    }
   ],
   "source": [
    "df1[\"Sale\"] = df1[\"ITEM_QUANTITY\"].mul(df1[\"NORMAL_PRICE\"]) #所有商店未打折前销售额\n",
    "print(df1[\"Sale\"].sum() )\n",
    "D007_sale = df1[df1[\"STORE_CODE\"] == \"D007\"][\"Sale\"] #D007未打折前销售额\n",
    "print(D007_sale.sum())"
   ]
  },
  {
   "cell_type": "code",
   "execution_count": 69,
   "metadata": {
    "scrolled": true
   },
   "outputs": [
    {
     "name": "stdout",
     "output_type": "stream",
     "text": [
      "403072.62344061956\n"
     ]
    }
   ],
   "source": [
    "D007_dazhe_sum = 1764679.2034406196-1361606.58\n",
    "print(D007_dazhe_sum)  #打折了40万元左右"
   ]
  },
  {
   "cell_type": "markdown",
   "metadata": {},
   "source": [
    "#####  统计了D007商店的总销售额 以及总打折金额 得出打折总金额数40万+。"
   ]
  },
  {
   "cell_type": "markdown",
   "metadata": {},
   "source": [
    "## 绘制图像"
   ]
  },
  {
   "cell_type": "code",
   "execution_count": 110,
   "metadata": {},
   "outputs": [
    {
     "name": "stderr",
     "output_type": "stream",
     "text": [
      "C:\\Users\\xyr19\\AppData\\Local\\Continuum\\anaconda3\\lib\\site-packages\\ipykernel_launcher.py:6: UserWarning: Pandas doesn't allow columns to be created via a new attribute name - see https://pandas.pydata.org/pandas-docs/stable/indexing.html#attribute-access\n",
      "  \n"
     ]
    }
   ],
   "source": [
    "from pandas import to_datetime\n",
    "#时间转化\n",
    "data1=df1\n",
    "data2=df2\n",
    "data1.SDATE=to_datetime(data1.SDATE,format=\"%Y/%m/%d\")\n",
    "data2.SDATE=to_datetime(data2.SHOP_DATETIME,format=\"%Y/%m/%d\")"
   ]
  },
  {
   "cell_type": "code",
   "execution_count": 88,
   "metadata": {},
   "outputs": [],
   "source": [
    "#画图 商店为横坐标 销售额为纵坐标的柱状图\n",
    "import matplotlib.pyplot as plt\n",
    "Date_store = df1.groupby(['STORE_CODE', 'SDATE']).size()\n",
    "Date_A001 = Date_store[\"A001\"]\n",
    "Date_A001_dict= {'SDATE': Date_A001.index,'COUNT': Date_A001.values}\n",
    "Date_A001 = pd.DataFrame(Date_A001_dict)\n",
    "Date_A001[\"SDATE\"] = Date_A001['SDATE'].apply(lambda x:x.strftime('%Y.%m.%d'))\n",
    "Date_A001 = Date_A001.set_index('SDATE')"
   ]
  },
  {
   "cell_type": "code",
   "execution_count": 90,
   "metadata": {},
   "outputs": [],
   "source": [
    "Date_D003  = Date_store['D003']\n",
    "Date_D003_dict= {'SDATE': Date_D003.index,'COUNT': Date_D003.values}\n",
    "Date_D003 = pd.DataFrame(Date_D003_dict)\n",
    "Date_D003['SDATE'] = Date_D003['SDATE'].apply(lambda x:x.strftime('%Y.%m.%d'))\n",
    "Date_D003 = Date_D003.set_index('SDATE')"
   ]
  },
  {
   "cell_type": "code",
   "execution_count": 91,
   "metadata": {},
   "outputs": [
    {
     "data": {
      "image/png": "[encoded data removed]",
      "text/plain": [
       "<Figure size 432x288 with 1 Axes>"
      ]
     },
     "metadata": {
      "needs_background": "light"
     },
     "output_type": "display_data"
    }
   ],
   "source": [
    "fig1, = plt.plot(Date_A001.index, Date_A001.values)\n",
    "plt.xticks(Date_A001.index, rotation=90)\n",
    "fig2, = plt.plot(Date_D003.index, Date_D003.values)\n",
    "plt.legend([fig1, fig2], ['A001', 'D003'], bbox_to_anchor=(1.05, 0), loc=3, borderaxespad=0)\n",
    "plt.show()"
   ]
  },
  {
   "cell_type": "code",
   "execution_count": 111,
   "metadata": {},
   "outputs": [],
   "source": [
    "#从6月1号至7月5号每天的销售金额排序\n",
    "data = df2.groupby(df2.SHOP_DATETIME)"
   ]
  },
  {
   "cell_type": "code",
   "execution_count": 112,
   "metadata": {},
   "outputs": [],
   "source": [
    "#对应时间相加\n",
    "day_data = data.sum()"
   ]
  },
  {
   "cell_type": "code",
   "execution_count": 114,
   "metadata": {},
   "outputs": [
    {
     "data": {
      "image/png": "[encoded data removed]",
      "text/plain": [
       "<Figure size 432x288 with 1 Axes>"
      ]
     },
     "metadata": {
      "needs_background": "light"
     },
     "output_type": "display_data"
    }
   ],
   "source": [
    "from pylab import mpl\n",
    "plt.plot(day_data['BASK_SPEND'])\n",
    "plt.title('日均销售额')\n",
    "plt.xlabel('日期')\n",
    "plt.ylabel('销售金额')\n",
    "plt.rcParams['figure.figsize'] = (19.0, 10.0)\n",
    "plt.show()"
   ]
  }
 ],
 "metadata": {
  "kernelspec": {
   "display_name": "Python 3",
   "language": "python",
   "name": "python3"
  },
  "language_info": {
   "codemirror_mode": {
    "name": "ipython",
    "version": 3
   },
   "file_extension": ".py",
   "mimetype": "text/x-python",
   "name": "python",
   "nbconvert_exporter": "python",
   "pygments_lexer": "ipython3",
   "version": "3.7.4"
  }
 },
 "nbformat": 4,
 "nbformat_minor": 2
}
