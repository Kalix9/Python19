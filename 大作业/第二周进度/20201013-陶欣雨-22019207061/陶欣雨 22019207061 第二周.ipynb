{
 "cells": [
  {
   "cell_type": "markdown",
   "metadata": {},
   "source": [
    "# 第二周内容"
   ]
  },
  {
   "cell_type": "markdown",
   "metadata": {},
   "source": [
    "数据处理目标：\n",
    "1. 清洗数据，将不合理异常值和空缺值剔除\n",
    "2. 按商店分组，找到销售量最好的店面（分析商店选址是否合适）\n",
    "3. 按商店分组，找到客流量最大的店面\n",
    "4. 按商品分组，绘制销量图，找到各个店销售额贡献最大的商品（没有所有商品在原价时的销售额，无法分析无促销是的销售额）\n",
    "5. 由于每家商店具有自己的特殊性，因此将每家商店的数据抽出单独处理。由于分析方法相同，此处只处理销量和客流量最大的A001店。\n",
    "6. 找到每家店销量最高的商品，进而分析出每家店所面对的顾客的购买习惯。\n",
    "7. 找到每家店成交单数最多的价格区间，分析出每家店面对的顾客的购买力。\n",
    "8. 分析每家店每周的顾客流量情况，了解每周中哪一天是客流量的高峰期，有助于合理分配人力资源。"
   ]
  },
  {
   "cell_type": "markdown",
   "metadata": {},
   "source": [
    "## 导入必要的图形处理包"
   ]
  },
  {
   "cell_type": "code",
   "execution_count": 1,
   "metadata": {},
   "outputs": [],
   "source": [
    "import matplotlib as mpl\n",
    "import matplotlib.pyplot as plt"
   ]
  },
  {
   "cell_type": "markdown",
   "metadata": {},
   "source": [
    "## 导入数据和数据预处理（Basket-2018-06-01-2018-07-05.csv）"
   ]
  },
  {
   "cell_type": "code",
   "execution_count": 2,
   "metadata": {},
   "outputs": [
    {
     "data": {
      "text/html": [
       "<div>\n",
       "<style scoped>\n",
       "    .dataframe tbody tr th:only-of-type {\n",
       "        vertical-align: middle;\n",
       "    }\n",
       "\n",
       "    .dataframe tbody tr th {\n",
       "        vertical-align: top;\n",
       "    }\n",
       "\n",
       "    .dataframe thead th {\n",
       "        text-align: right;\n",
       "    }\n",
       "</style>\n",
       "<table border=\"1\" class=\"dataframe\">\n",
       "  <thead>\n",
       "    <tr style=\"text-align: right;\">\n",
       "      <th></th>\n",
       "      <th>SHOP_DATETIME</th>\n",
       "      <th>STORE_CODE</th>\n",
       "      <th>POS_NO</th>\n",
       "      <th>BASK_CODE</th>\n",
       "      <th>BASK_SPEND</th>\n",
       "    </tr>\n",
       "  </thead>\n",
       "  <tbody>\n",
       "    <tr>\n",
       "      <th>0</th>\n",
       "      <td>2018/6/1</td>\n",
       "      <td>D007</td>\n",
       "      <td>3</td>\n",
       "      <td>250458</td>\n",
       "      <td>8.0</td>\n",
       "    </tr>\n",
       "    <tr>\n",
       "      <th>1</th>\n",
       "      <td>2018/6/1</td>\n",
       "      <td>D007</td>\n",
       "      <td>3</td>\n",
       "      <td>250200</td>\n",
       "      <td>32.7</td>\n",
       "    </tr>\n",
       "    <tr>\n",
       "      <th>2</th>\n",
       "      <td>2018/6/1</td>\n",
       "      <td>D007</td>\n",
       "      <td>1</td>\n",
       "      <td>161068</td>\n",
       "      <td>16.8</td>\n",
       "    </tr>\n",
       "    <tr>\n",
       "      <th>3</th>\n",
       "      <td>2018/6/1</td>\n",
       "      <td>D007</td>\n",
       "      <td>8</td>\n",
       "      <td>5325</td>\n",
       "      <td>30.4</td>\n",
       "    </tr>\n",
       "    <tr>\n",
       "      <th>4</th>\n",
       "      <td>2018/6/1</td>\n",
       "      <td>D007</td>\n",
       "      <td>8</td>\n",
       "      <td>5361</td>\n",
       "      <td>191.3</td>\n",
       "    </tr>\n",
       "  </tbody>\n",
       "</table>\n",
       "</div>"
      ],
      "text/plain": [
       "  SHOP_DATETIME STORE_CODE  POS_NO  BASK_CODE  BASK_SPEND\n",
       "0      2018/6/1       D007       3     250458         8.0\n",
       "1      2018/6/1       D007       3     250200        32.7\n",
       "2      2018/6/1       D007       1     161068        16.8\n",
       "3      2018/6/1       D007       8       5325        30.4\n",
       "4      2018/6/1       D007       8       5361       191.3"
      ]
     },
     "execution_count": 2,
     "metadata": {},
     "output_type": "execute_result"
    }
   ],
   "source": [
    "import pandas as pd\n",
    "data1 = pd.read_csv('E:\\\\非功能性文件\\\\study\\\\postgraduate\\\\研二上\\\\python\\\\作业\\\\20201006作业\\\\数据集\\\\Basket-2018-06-01-2018-07-05.csv')\n",
    "data1 = data1.iloc[:,:]\n",
    "data1.head(5)"
   ]
  },
  {
   "cell_type": "code",
   "execution_count": 3,
   "metadata": {
    "scrolled": false
   },
   "outputs": [
    {
     "data": {
      "text/plain": [
       "SHOP_DATETIME    False\n",
       "STORE_CODE       False\n",
       "POS_NO           False\n",
       "BASK_CODE        False\n",
       "BASK_SPEND       False\n",
       "dtype: bool"
      ]
     },
     "execution_count": 3,
     "metadata": {},
     "output_type": "execute_result"
    }
   ],
   "source": [
    "data1.isnull().any()#查看是否有缺失值"
   ]
  },
  {
   "cell_type": "code",
   "execution_count": 4,
   "metadata": {},
   "outputs": [
    {
     "data": {
      "text/html": [
       "<div>\n",
       "<style scoped>\n",
       "    .dataframe tbody tr th:only-of-type {\n",
       "        vertical-align: middle;\n",
       "    }\n",
       "\n",
       "    .dataframe tbody tr th {\n",
       "        vertical-align: top;\n",
       "    }\n",
       "\n",
       "    .dataframe thead th {\n",
       "        text-align: right;\n",
       "    }\n",
       "</style>\n",
       "<table border=\"1\" class=\"dataframe\">\n",
       "  <thead>\n",
       "    <tr style=\"text-align: right;\">\n",
       "      <th></th>\n",
       "      <th>SHOP_DATETIME</th>\n",
       "      <th>STORE_CODE</th>\n",
       "      <th>POS_NO</th>\n",
       "      <th>BASK_CODE</th>\n",
       "      <th>BASK_SPEND</th>\n",
       "    </tr>\n",
       "  </thead>\n",
       "  <tbody>\n",
       "    <tr>\n",
       "      <th>0</th>\n",
       "      <td>2018/6/1</td>\n",
       "      <td>D007</td>\n",
       "      <td>3</td>\n",
       "      <td>250458</td>\n",
       "      <td>8.0</td>\n",
       "    </tr>\n",
       "    <tr>\n",
       "      <th>1</th>\n",
       "      <td>2018/6/1</td>\n",
       "      <td>D007</td>\n",
       "      <td>3</td>\n",
       "      <td>250200</td>\n",
       "      <td>32.7</td>\n",
       "    </tr>\n",
       "    <tr>\n",
       "      <th>2</th>\n",
       "      <td>2018/6/1</td>\n",
       "      <td>D007</td>\n",
       "      <td>1</td>\n",
       "      <td>161068</td>\n",
       "      <td>16.8</td>\n",
       "    </tr>\n",
       "    <tr>\n",
       "      <th>3</th>\n",
       "      <td>2018/6/1</td>\n",
       "      <td>D007</td>\n",
       "      <td>8</td>\n",
       "      <td>5325</td>\n",
       "      <td>30.4</td>\n",
       "    </tr>\n",
       "    <tr>\n",
       "      <th>4</th>\n",
       "      <td>2018/6/1</td>\n",
       "      <td>D007</td>\n",
       "      <td>8</td>\n",
       "      <td>5361</td>\n",
       "      <td>191.3</td>\n",
       "    </tr>\n",
       "  </tbody>\n",
       "</table>\n",
       "</div>"
      ],
      "text/plain": [
       "  SHOP_DATETIME STORE_CODE  POS_NO  BASK_CODE  BASK_SPEND\n",
       "0      2018/6/1       D007       3     250458         8.0\n",
       "1      2018/6/1       D007       3     250200        32.7\n",
       "2      2018/6/1       D007       1     161068        16.8\n",
       "3      2018/6/1       D007       8       5325        30.4\n",
       "4      2018/6/1       D007       8       5361       191.3"
      ]
     },
     "execution_count": 4,
     "metadata": {},
     "output_type": "execute_result"
    }
   ],
   "source": [
    "data1=data1[data1['BASK_SPEND']>0]  #剔除data1数据集中bask_spend列小于0的行\n",
    "data1.head(5)"
   ]
  },
  {
   "cell_type": "markdown",
   "metadata": {},
   "source": [
    "## 导入数据和数据预处理（item-2018-06-01-2018-07-05.csv）"
   ]
  },
  {
   "cell_type": "code",
   "execution_count": 5,
   "metadata": {},
   "outputs": [
    {
     "data": {
      "text/html": [
       "<div>\n",
       "<style scoped>\n",
       "    .dataframe tbody tr th:only-of-type {\n",
       "        vertical-align: middle;\n",
       "    }\n",
       "\n",
       "    .dataframe tbody tr th {\n",
       "        vertical-align: top;\n",
       "    }\n",
       "\n",
       "    .dataframe thead th {\n",
       "        text-align: right;\n",
       "    }\n",
       "</style>\n",
       "<table border=\"1\" class=\"dataframe\">\n",
       "  <thead>\n",
       "    <tr style=\"text-align: right;\">\n",
       "      <th></th>\n",
       "      <th>SDATE</th>\n",
       "      <th>STORE_CODE</th>\n",
       "      <th>POSID</th>\n",
       "      <th>BASK_CODE</th>\n",
       "      <th>PROD_CODE</th>\n",
       "      <th>ITEM_QUANTITY</th>\n",
       "      <th>ITEM_SPEND</th>\n",
       "      <th>NORMAL_PRICE</th>\n",
       "      <th>DISCOUNT_TYPE</th>\n",
       "      <th>DISCOUNT_AMOUNT</th>\n",
       "    </tr>\n",
       "  </thead>\n",
       "  <tbody>\n",
       "    <tr>\n",
       "      <th>0</th>\n",
       "      <td>2018/6/1</td>\n",
       "      <td>D007</td>\n",
       "      <td>3</td>\n",
       "      <td>250451</td>\n",
       "      <td>29405</td>\n",
       "      <td>1.000</td>\n",
       "      <td>1.70</td>\n",
       "      <td>2.0</td>\n",
       "      <td>m</td>\n",
       "      <td>-0.3</td>\n",
       "    </tr>\n",
       "    <tr>\n",
       "      <th>1</th>\n",
       "      <td>2018/6/1</td>\n",
       "      <td>D007</td>\n",
       "      <td>3</td>\n",
       "      <td>250451</td>\n",
       "      <td>13187</td>\n",
       "      <td>1.000</td>\n",
       "      <td>1.00</td>\n",
       "      <td>1.0</td>\n",
       "      <td>n</td>\n",
       "      <td>0.0</td>\n",
       "    </tr>\n",
       "    <tr>\n",
       "      <th>2</th>\n",
       "      <td>2018/6/1</td>\n",
       "      <td>D007</td>\n",
       "      <td>3</td>\n",
       "      <td>250243</td>\n",
       "      <td>196249</td>\n",
       "      <td>1.000</td>\n",
       "      <td>99.00</td>\n",
       "      <td>99.0</td>\n",
       "      <td>m</td>\n",
       "      <td>0.0</td>\n",
       "    </tr>\n",
       "    <tr>\n",
       "      <th>3</th>\n",
       "      <td>2018/6/1</td>\n",
       "      <td>D007</td>\n",
       "      <td>3</td>\n",
       "      <td>250243</td>\n",
       "      <td>199637</td>\n",
       "      <td>1.000</td>\n",
       "      <td>9.90</td>\n",
       "      <td>16.8</td>\n",
       "      <td>p</td>\n",
       "      <td>-6.9</td>\n",
       "    </tr>\n",
       "    <tr>\n",
       "      <th>4</th>\n",
       "      <td>2018/6/1</td>\n",
       "      <td>D007</td>\n",
       "      <td>1</td>\n",
       "      <td>160905</td>\n",
       "      <td>195012</td>\n",
       "      <td>3.222</td>\n",
       "      <td>18.69</td>\n",
       "      <td>5.8</td>\n",
       "      <td>n</td>\n",
       "      <td>0.0</td>\n",
       "    </tr>\n",
       "  </tbody>\n",
       "</table>\n",
       "</div>"
      ],
      "text/plain": [
       "      SDATE STORE_CODE  POSID  BASK_CODE  PROD_CODE  ITEM_QUANTITY  \\\n",
       "0  2018/6/1       D007      3     250451      29405          1.000   \n",
       "1  2018/6/1       D007      3     250451      13187          1.000   \n",
       "2  2018/6/1       D007      3     250243     196249          1.000   \n",
       "3  2018/6/1       D007      3     250243     199637          1.000   \n",
       "4  2018/6/1       D007      1     160905     195012          3.222   \n",
       "\n",
       "   ITEM_SPEND  NORMAL_PRICE DISCOUNT_TYPE  DISCOUNT_AMOUNT  \n",
       "0        1.70           2.0             m             -0.3  \n",
       "1        1.00           1.0             n              0.0  \n",
       "2       99.00          99.0             m              0.0  \n",
       "3        9.90          16.8             p             -6.9  \n",
       "4       18.69           5.8             n              0.0  "
      ]
     },
     "execution_count": 5,
     "metadata": {},
     "output_type": "execute_result"
    }
   ],
   "source": [
    "import pandas as pd\n",
    "data2 = pd.read_csv('E:\\\\非功能性文件\\\\study\\\\postgraduate\\\\研二上\\\\python\\\\作业\\\\20201006作业\\\\数据集\\\\item-2018-06-01-2018-07-05.csv')\n",
    "data2 = data2.iloc[:,:]\n",
    "data2.head(5)"
   ]
  },
  {
   "cell_type": "code",
   "execution_count": 6,
   "metadata": {},
   "outputs": [
    {
     "data": {
      "text/plain": [
       "SDATE              False\n",
       "STORE_CODE         False\n",
       "POSID              False\n",
       "BASK_CODE          False\n",
       "PROD_CODE          False\n",
       "ITEM_QUANTITY      False\n",
       "ITEM_SPEND         False\n",
       "NORMAL_PRICE       False\n",
       "DISCOUNT_TYPE      False\n",
       "DISCOUNT_AMOUNT    False\n",
       "dtype: bool"
      ]
     },
     "execution_count": 6,
     "metadata": {},
     "output_type": "execute_result"
    }
   ],
   "source": [
    "data2.isnull().any()#查看是否有缺失值"
   ]
  },
  {
   "cell_type": "code",
   "execution_count": 7,
   "metadata": {},
   "outputs": [
    {
     "data": {
      "text/html": [
       "<div>\n",
       "<style scoped>\n",
       "    .dataframe tbody tr th:only-of-type {\n",
       "        vertical-align: middle;\n",
       "    }\n",
       "\n",
       "    .dataframe tbody tr th {\n",
       "        vertical-align: top;\n",
       "    }\n",
       "\n",
       "    .dataframe thead th {\n",
       "        text-align: right;\n",
       "    }\n",
       "</style>\n",
       "<table border=\"1\" class=\"dataframe\">\n",
       "  <thead>\n",
       "    <tr style=\"text-align: right;\">\n",
       "      <th></th>\n",
       "      <th>SDATE</th>\n",
       "      <th>STORE_CODE</th>\n",
       "      <th>POSID</th>\n",
       "      <th>BASK_CODE</th>\n",
       "      <th>PROD_CODE</th>\n",
       "      <th>ITEM_QUANTITY</th>\n",
       "      <th>ITEM_SPEND</th>\n",
       "      <th>NORMAL_PRICE</th>\n",
       "      <th>DISCOUNT_TYPE</th>\n",
       "      <th>DISCOUNT_AMOUNT</th>\n",
       "    </tr>\n",
       "  </thead>\n",
       "  <tbody>\n",
       "    <tr>\n",
       "      <th>0</th>\n",
       "      <td>2018/6/1</td>\n",
       "      <td>D007</td>\n",
       "      <td>3</td>\n",
       "      <td>250451</td>\n",
       "      <td>29405</td>\n",
       "      <td>1.000</td>\n",
       "      <td>1.70</td>\n",
       "      <td>2.0</td>\n",
       "      <td>m</td>\n",
       "      <td>-0.3</td>\n",
       "    </tr>\n",
       "    <tr>\n",
       "      <th>1</th>\n",
       "      <td>2018/6/1</td>\n",
       "      <td>D007</td>\n",
       "      <td>3</td>\n",
       "      <td>250451</td>\n",
       "      <td>13187</td>\n",
       "      <td>1.000</td>\n",
       "      <td>1.00</td>\n",
       "      <td>1.0</td>\n",
       "      <td>n</td>\n",
       "      <td>0.0</td>\n",
       "    </tr>\n",
       "    <tr>\n",
       "      <th>2</th>\n",
       "      <td>2018/6/1</td>\n",
       "      <td>D007</td>\n",
       "      <td>3</td>\n",
       "      <td>250243</td>\n",
       "      <td>196249</td>\n",
       "      <td>1.000</td>\n",
       "      <td>99.00</td>\n",
       "      <td>99.0</td>\n",
       "      <td>m</td>\n",
       "      <td>0.0</td>\n",
       "    </tr>\n",
       "    <tr>\n",
       "      <th>3</th>\n",
       "      <td>2018/6/1</td>\n",
       "      <td>D007</td>\n",
       "      <td>3</td>\n",
       "      <td>250243</td>\n",
       "      <td>199637</td>\n",
       "      <td>1.000</td>\n",
       "      <td>9.90</td>\n",
       "      <td>16.8</td>\n",
       "      <td>p</td>\n",
       "      <td>-6.9</td>\n",
       "    </tr>\n",
       "    <tr>\n",
       "      <th>4</th>\n",
       "      <td>2018/6/1</td>\n",
       "      <td>D007</td>\n",
       "      <td>1</td>\n",
       "      <td>160905</td>\n",
       "      <td>195012</td>\n",
       "      <td>3.222</td>\n",
       "      <td>18.69</td>\n",
       "      <td>5.8</td>\n",
       "      <td>n</td>\n",
       "      <td>0.0</td>\n",
       "    </tr>\n",
       "  </tbody>\n",
       "</table>\n",
       "</div>"
      ],
      "text/plain": [
       "      SDATE STORE_CODE  POSID  BASK_CODE  PROD_CODE  ITEM_QUANTITY  \\\n",
       "0  2018/6/1       D007      3     250451      29405          1.000   \n",
       "1  2018/6/1       D007      3     250451      13187          1.000   \n",
       "2  2018/6/1       D007      3     250243     196249          1.000   \n",
       "3  2018/6/1       D007      3     250243     199637          1.000   \n",
       "4  2018/6/1       D007      1     160905     195012          3.222   \n",
       "\n",
       "   ITEM_SPEND  NORMAL_PRICE DISCOUNT_TYPE  DISCOUNT_AMOUNT  \n",
       "0        1.70           2.0             m             -0.3  \n",
       "1        1.00           1.0             n              0.0  \n",
       "2       99.00          99.0             m              0.0  \n",
       "3        9.90          16.8             p             -6.9  \n",
       "4       18.69           5.8             n              0.0  "
      ]
     },
     "execution_count": 7,
     "metadata": {},
     "output_type": "execute_result"
    }
   ],
   "source": [
    "data2=data2[data2['ITEM_SPEND']>0]  #剔除data2数据集中ITEM_SPEND列小于0的行\n",
    "data2=data2[data2['ITEM_QUANTITY']>0]  #剔除data2数据集中ITEM_QUANTITY列小于0的行\n",
    "data2=data2[data2['NORMAL_PRICE']>0]  #剔除data2数据集中NORMAL_PRICE列小于0的行\n",
    "data2.head(5)"
   ]
  },
  {
   "cell_type": "markdown",
   "metadata": {},
   "source": [
    "## 根据表（Basket-2018-06-01-2018-07-05.csv）找到商店的销售额排序"
   ]
  },
  {
   "cell_type": "code",
   "execution_count": 13,
   "metadata": {},
   "outputs": [
    {
     "data": {
      "text/html": [
       "<div>\n",
       "<style scoped>\n",
       "    .dataframe tbody tr th:only-of-type {\n",
       "        vertical-align: middle;\n",
       "    }\n",
       "\n",
       "    .dataframe tbody tr th {\n",
       "        vertical-align: top;\n",
       "    }\n",
       "\n",
       "    .dataframe thead th {\n",
       "        text-align: right;\n",
       "    }\n",
       "</style>\n",
       "<table border=\"1\" class=\"dataframe\">\n",
       "  <thead>\n",
       "    <tr style=\"text-align: right;\">\n",
       "      <th></th>\n",
       "      <th>STORE_CODE</th>\n",
       "      <th>BASK_SPEND</th>\n",
       "    </tr>\n",
       "  </thead>\n",
       "  <tbody>\n",
       "    <tr>\n",
       "      <th>0</th>\n",
       "      <td>A001</td>\n",
       "      <td>3.478348e+06</td>\n",
       "    </tr>\n",
       "    <tr>\n",
       "      <th>15</th>\n",
       "      <td>D002</td>\n",
       "      <td>3.177385e+06</td>\n",
       "    </tr>\n",
       "    <tr>\n",
       "      <th>20</th>\n",
       "      <td>D007</td>\n",
       "      <td>1.382203e+06</td>\n",
       "    </tr>\n",
       "    <tr>\n",
       "      <th>4</th>\n",
       "      <td>A008</td>\n",
       "      <td>1.324641e+06</td>\n",
       "    </tr>\n",
       "    <tr>\n",
       "      <th>8</th>\n",
       "      <td>A013</td>\n",
       "      <td>1.126551e+06</td>\n",
       "    </tr>\n",
       "  </tbody>\n",
       "</table>\n",
       "</div>"
      ],
      "text/plain": [
       "   STORE_CODE    BASK_SPEND\n",
       "0        A001  3.478348e+06\n",
       "15       D002  3.177385e+06\n",
       "20       D007  1.382203e+06\n",
       "4        A008  1.324641e+06\n",
       "8        A013  1.126551e+06"
      ]
     },
     "execution_count": 13,
     "metadata": {},
     "output_type": "execute_result"
    }
   ],
   "source": [
    "SalesRanking = data1.groupby('STORE_CODE')['BASK_SPEND'].sum().reset_index().sort_values(by = 'BASK_SPEND',ascending = False)\n",
    "SalesRanking.head()"
   ]
  },
  {
   "cell_type": "markdown",
   "metadata": {},
   "source": [
    "从上述排序中可以得到每家商店的销售额不同，存在差异较大，可收集更多信息进一步分析销售额不同的原因，根据分析结果适当改换商店选址策略。\n",
    "为了更加直观看出商店之间的销售额不同，绘制柱形图展现各商店的销售额情况。"
   ]
  },
  {
   "cell_type": "code",
   "execution_count": 9,
   "metadata": {
    "scrolled": false
   },
   "outputs": [
    {
     "data": {
      "text/plain": [
       "<matplotlib.axes._subplots.AxesSubplot at 0x20f04b64f98>"
      ]
     },
     "execution_count": 9,
     "metadata": {},
     "output_type": "execute_result"
    },
    {
     "data": {
      "image/png": "[encoded data removed]",
      "text/plain": [
       "<Figure size 432x288 with 1 Axes>"
      ]
     },
     "metadata": {
      "needs_background": "light"
     },
     "output_type": "display_data"
    }
   ],
   "source": [
    "SalesRanking.set_index('STORE_CODE',inplace=True)\n",
    "SalesRanking.plot(kind='bar')"
   ]
  },
  {
   "cell_type": "markdown",
   "metadata": {},
   "source": [
    "## 分析商店的客流量"
   ]
  },
  {
   "cell_type": "code",
   "execution_count": 10,
   "metadata": {},
   "outputs": [
    {
     "data": {
      "text/plain": [
       "A001    66507\n",
       "D002    62949\n",
       "D007    37503\n",
       "A008    36462\n",
       "A013    30064\n",
       "A006    28470\n",
       "A012    24946\n",
       "A009    21809\n",
       "D004    21362\n",
       "D008    21029\n",
       "A021    20555\n",
       "A010    19543\n",
       "D006    18572\n",
       "A016    18279\n",
       "A007    17954\n",
       "A019    16985\n",
       "D009    15827\n",
       "A018    15731\n",
       "D005    15261\n",
       "A022    15260\n",
       "A004    13429\n",
       "A017    12459\n",
       "D010    11070\n",
       "D003     7771\n",
       "Name: STORE_CODE, dtype: int64"
      ]
     },
     "execution_count": 10,
     "metadata": {},
     "output_type": "execute_result"
    }
   ],
   "source": [
    "CustomerFlow = data1.loc[:,'STORE_CODE'].value_counts()\n",
    "CustomerFlow"
   ]
  },
  {
   "cell_type": "markdown",
   "metadata": {},
   "source": [
    "从上述排序中可以看出基本和销售额排序相同，说明客流量是影响销售额的一个重要原因。商店的选址可以从客流量的角度分析。"
   ]
  },
  {
   "cell_type": "markdown",
   "metadata": {},
   "source": [
    "## 分析商品销量（没有所有商品在原价时的销售额，无法分析无促销时的销售额） "
   ]
  },
  {
   "cell_type": "code",
   "execution_count": 12,
   "metadata": {},
   "outputs": [
    {
     "data": {
      "text/html": [
       "<div>\n",
       "<style scoped>\n",
       "    .dataframe tbody tr th:only-of-type {\n",
       "        vertical-align: middle;\n",
       "    }\n",
       "\n",
       "    .dataframe tbody tr th {\n",
       "        vertical-align: top;\n",
       "    }\n",
       "\n",
       "    .dataframe thead th {\n",
       "        text-align: right;\n",
       "    }\n",
       "</style>\n",
       "<table border=\"1\" class=\"dataframe\">\n",
       "  <thead>\n",
       "    <tr style=\"text-align: right;\">\n",
       "      <th></th>\n",
       "      <th>PROD_CODE</th>\n",
       "      <th>ITEM_QUANTITY</th>\n",
       "    </tr>\n",
       "  </thead>\n",
       "  <tbody>\n",
       "    <tr>\n",
       "      <th>7956</th>\n",
       "      <td>149413</td>\n",
       "      <td>30741.0</td>\n",
       "    </tr>\n",
       "    <tr>\n",
       "      <th>15641</th>\n",
       "      <td>220834</td>\n",
       "      <td>20119.0</td>\n",
       "    </tr>\n",
       "    <tr>\n",
       "      <th>1435</th>\n",
       "      <td>7133</td>\n",
       "      <td>15184.0</td>\n",
       "    </tr>\n",
       "    <tr>\n",
       "      <th>3713</th>\n",
       "      <td>61623</td>\n",
       "      <td>14651.0</td>\n",
       "    </tr>\n",
       "    <tr>\n",
       "      <th>5055</th>\n",
       "      <td>86772</td>\n",
       "      <td>14135.0</td>\n",
       "    </tr>\n",
       "  </tbody>\n",
       "</table>\n",
       "</div>"
      ],
      "text/plain": [
       "       PROD_CODE  ITEM_QUANTITY\n",
       "7956      149413        30741.0\n",
       "15641     220834        20119.0\n",
       "1435        7133        15184.0\n",
       "3713       61623        14651.0\n",
       "5055       86772        14135.0"
      ]
     },
     "execution_count": 12,
     "metadata": {},
     "output_type": "execute_result"
    }
   ],
   "source": [
    "ProdRanking = data2.groupby('PROD_CODE')['ITEM_QUANTITY'].sum().reset_index().sort_values(by = 'ITEM_QUANTITY',ascending = False)\n",
    "ProdRanking.head()"
   ]
  },
  {
   "cell_type": "markdown",
   "metadata": {},
   "source": [
    "## 按照每家商店逐个分析 "
   ]
  },
  {
   "cell_type": "markdown",
   "metadata": {},
   "source": [
    "以商店为单位，将数据集拆分,共24家商店，每家店同样的分析方法，此处以销量排名第一的A001做例"
   ]
  },
  {
   "cell_type": "code",
   "execution_count": 25,
   "metadata": {},
   "outputs": [
    {
     "data": {
      "text/html": [
       "<div>\n",
       "<style scoped>\n",
       "    .dataframe tbody tr th:only-of-type {\n",
       "        vertical-align: middle;\n",
       "    }\n",
       "\n",
       "    .dataframe tbody tr th {\n",
       "        vertical-align: top;\n",
       "    }\n",
       "\n",
       "    .dataframe thead th {\n",
       "        text-align: right;\n",
       "    }\n",
       "</style>\n",
       "<table border=\"1\" class=\"dataframe\">\n",
       "  <thead>\n",
       "    <tr style=\"text-align: right;\">\n",
       "      <th></th>\n",
       "      <th>SHOP_DATETIME</th>\n",
       "      <th>STORE_CODE</th>\n",
       "      <th>POS_NO</th>\n",
       "      <th>BASK_CODE</th>\n",
       "      <th>BASK_SPEND</th>\n",
       "    </tr>\n",
       "  </thead>\n",
       "  <tbody>\n",
       "    <tr>\n",
       "      <th>24</th>\n",
       "      <td>2018/6/2</td>\n",
       "      <td>A001</td>\n",
       "      <td>6</td>\n",
       "      <td>229732</td>\n",
       "      <td>7.50</td>\n",
       "    </tr>\n",
       "    <tr>\n",
       "      <th>25</th>\n",
       "      <td>2018/6/2</td>\n",
       "      <td>A001</td>\n",
       "      <td>3</td>\n",
       "      <td>25793</td>\n",
       "      <td>52.95</td>\n",
       "    </tr>\n",
       "    <tr>\n",
       "      <th>26</th>\n",
       "      <td>2018/6/2</td>\n",
       "      <td>A001</td>\n",
       "      <td>6</td>\n",
       "      <td>229639</td>\n",
       "      <td>46.80</td>\n",
       "    </tr>\n",
       "    <tr>\n",
       "      <th>27</th>\n",
       "      <td>2018/6/2</td>\n",
       "      <td>A001</td>\n",
       "      <td>6</td>\n",
       "      <td>229708</td>\n",
       "      <td>30.38</td>\n",
       "    </tr>\n",
       "    <tr>\n",
       "      <th>28</th>\n",
       "      <td>2018/6/2</td>\n",
       "      <td>A001</td>\n",
       "      <td>6</td>\n",
       "      <td>229785</td>\n",
       "      <td>21.30</td>\n",
       "    </tr>\n",
       "  </tbody>\n",
       "</table>\n",
       "</div>"
      ],
      "text/plain": [
       "   SHOP_DATETIME STORE_CODE  POS_NO  BASK_CODE  BASK_SPEND\n",
       "24      2018/6/2       A001       6     229732        7.50\n",
       "25      2018/6/2       A001       3      25793       52.95\n",
       "26      2018/6/2       A001       6     229639       46.80\n",
       "27      2018/6/2       A001       6     229708       30.38\n",
       "28      2018/6/2       A001       6     229785       21.30"
      ]
     },
     "execution_count": 25,
     "metadata": {},
     "output_type": "execute_result"
    }
   ],
   "source": [
    "import numpy as np\n",
    "df11 = data1[data1['STORE_CODE'].isin([\"A001\"])] # 选取A001的数据\n",
    "df11.head()"
   ]
  },
  {
   "cell_type": "code",
   "execution_count": 27,
   "metadata": {},
   "outputs": [
    {
     "data": {
      "text/html": [
       "<div>\n",
       "<style scoped>\n",
       "    .dataframe tbody tr th:only-of-type {\n",
       "        vertical-align: middle;\n",
       "    }\n",
       "\n",
       "    .dataframe tbody tr th {\n",
       "        vertical-align: top;\n",
       "    }\n",
       "\n",
       "    .dataframe thead th {\n",
       "        text-align: right;\n",
       "    }\n",
       "</style>\n",
       "<table border=\"1\" class=\"dataframe\">\n",
       "  <thead>\n",
       "    <tr style=\"text-align: right;\">\n",
       "      <th></th>\n",
       "      <th>SDATE</th>\n",
       "      <th>STORE_CODE</th>\n",
       "      <th>POSID</th>\n",
       "      <th>BASK_CODE</th>\n",
       "      <th>PROD_CODE</th>\n",
       "      <th>ITEM_QUANTITY</th>\n",
       "      <th>ITEM_SPEND</th>\n",
       "      <th>NORMAL_PRICE</th>\n",
       "      <th>DISCOUNT_TYPE</th>\n",
       "      <th>DISCOUNT_AMOUNT</th>\n",
       "    </tr>\n",
       "  </thead>\n",
       "  <tbody>\n",
       "    <tr>\n",
       "      <th>808</th>\n",
       "      <td>2018/6/2</td>\n",
       "      <td>A001</td>\n",
       "      <td>6</td>\n",
       "      <td>229611</td>\n",
       "      <td>15930</td>\n",
       "      <td>1.0</td>\n",
       "      <td>1.8</td>\n",
       "      <td>1.800000</td>\n",
       "      <td>n</td>\n",
       "      <td>0.0</td>\n",
       "    </tr>\n",
       "    <tr>\n",
       "      <th>809</th>\n",
       "      <td>2018/6/2</td>\n",
       "      <td>A001</td>\n",
       "      <td>6</td>\n",
       "      <td>229611</td>\n",
       "      <td>15930</td>\n",
       "      <td>1.0</td>\n",
       "      <td>1.8</td>\n",
       "      <td>1.800000</td>\n",
       "      <td>n</td>\n",
       "      <td>0.0</td>\n",
       "    </tr>\n",
       "    <tr>\n",
       "      <th>810</th>\n",
       "      <td>2018/6/2</td>\n",
       "      <td>A001</td>\n",
       "      <td>2</td>\n",
       "      <td>125591</td>\n",
       "      <td>147631</td>\n",
       "      <td>12.0</td>\n",
       "      <td>55.0</td>\n",
       "      <td>4.583333</td>\n",
       "      <td>n</td>\n",
       "      <td>0.0</td>\n",
       "    </tr>\n",
       "    <tr>\n",
       "      <th>811</th>\n",
       "      <td>2018/6/2</td>\n",
       "      <td>A001</td>\n",
       "      <td>6</td>\n",
       "      <td>229732</td>\n",
       "      <td>157209</td>\n",
       "      <td>1.0</td>\n",
       "      <td>7.5</td>\n",
       "      <td>7.500000</td>\n",
       "      <td>n</td>\n",
       "      <td>0.0</td>\n",
       "    </tr>\n",
       "    <tr>\n",
       "      <th>812</th>\n",
       "      <td>2018/6/2</td>\n",
       "      <td>A001</td>\n",
       "      <td>6</td>\n",
       "      <td>229733</td>\n",
       "      <td>148937</td>\n",
       "      <td>1.0</td>\n",
       "      <td>2.5</td>\n",
       "      <td>2.500000</td>\n",
       "      <td>n</td>\n",
       "      <td>0.0</td>\n",
       "    </tr>\n",
       "  </tbody>\n",
       "</table>\n",
       "</div>"
      ],
      "text/plain": [
       "        SDATE STORE_CODE  POSID  BASK_CODE  PROD_CODE  ITEM_QUANTITY  \\\n",
       "808  2018/6/2       A001      6     229611      15930            1.0   \n",
       "809  2018/6/2       A001      6     229611      15930            1.0   \n",
       "810  2018/6/2       A001      2     125591     147631           12.0   \n",
       "811  2018/6/2       A001      6     229732     157209            1.0   \n",
       "812  2018/6/2       A001      6     229733     148937            1.0   \n",
       "\n",
       "     ITEM_SPEND  NORMAL_PRICE DISCOUNT_TYPE  DISCOUNT_AMOUNT  \n",
       "808         1.8      1.800000             n              0.0  \n",
       "809         1.8      1.800000             n              0.0  \n",
       "810        55.0      4.583333             n              0.0  \n",
       "811         7.5      7.500000             n              0.0  \n",
       "812         2.5      2.500000             n              0.0  "
      ]
     },
     "execution_count": 27,
     "metadata": {},
     "output_type": "execute_result"
    }
   ],
   "source": [
    "df12 = data2[data2['STORE_CODE'].isin([\"A001\"])] \n",
    "df12.head()"
   ]
  },
  {
   "cell_type": "markdown",
   "metadata": {},
   "source": [
    "分析商店的商品销售量，得到在该商店中消费的顾客的购买需求，方便商店制定后续进货策略"
   ]
  },
  {
   "cell_type": "code",
   "execution_count": 30,
   "metadata": {},
   "outputs": [
    {
     "data": {
      "text/html": [
       "<div>\n",
       "<style scoped>\n",
       "    .dataframe tbody tr th:only-of-type {\n",
       "        vertical-align: middle;\n",
       "    }\n",
       "\n",
       "    .dataframe tbody tr th {\n",
       "        vertical-align: top;\n",
       "    }\n",
       "\n",
       "    .dataframe thead th {\n",
       "        text-align: right;\n",
       "    }\n",
       "</style>\n",
       "<table border=\"1\" class=\"dataframe\">\n",
       "  <thead>\n",
       "    <tr style=\"text-align: right;\">\n",
       "      <th></th>\n",
       "      <th>PROD_CODE</th>\n",
       "      <th>ITEM_QUANTITY</th>\n",
       "    </tr>\n",
       "  </thead>\n",
       "  <tbody>\n",
       "    <tr>\n",
       "      <th>3728</th>\n",
       "      <td>149413</td>\n",
       "      <td>10805.0</td>\n",
       "    </tr>\n",
       "    <tr>\n",
       "      <th>6211</th>\n",
       "      <td>220834</td>\n",
       "      <td>7116.0</td>\n",
       "    </tr>\n",
       "    <tr>\n",
       "      <th>192</th>\n",
       "      <td>1157</td>\n",
       "      <td>3494.0</td>\n",
       "    </tr>\n",
       "    <tr>\n",
       "      <th>1124</th>\n",
       "      <td>10270</td>\n",
       "      <td>2800.0</td>\n",
       "    </tr>\n",
       "    <tr>\n",
       "      <th>917</th>\n",
       "      <td>7137</td>\n",
       "      <td>2388.0</td>\n",
       "    </tr>\n",
       "  </tbody>\n",
       "</table>\n",
       "</div>"
      ],
      "text/plain": [
       "      PROD_CODE  ITEM_QUANTITY\n",
       "3728     149413        10805.0\n",
       "6211     220834         7116.0\n",
       "192        1157         3494.0\n",
       "1124      10270         2800.0\n",
       "917        7137         2388.0"
      ]
     },
     "execution_count": 30,
     "metadata": {},
     "output_type": "execute_result"
    }
   ],
   "source": [
    "SProdRanking = df12.groupby('PROD_CODE')['ITEM_QUANTITY'].sum().reset_index().sort_values(by = 'ITEM_QUANTITY',ascending = False)\n",
    "SProdRanking.head()"
   ]
  },
  {
   "cell_type": "markdown",
   "metadata": {},
   "source": [
    "根据商品编号对应商品名称，分析销量靠前的商品的属性，从而得到该商店顾客的购买特征。"
   ]
  },
  {
   "cell_type": "markdown",
   "metadata": {},
   "source": [
    "通过查看每单消费的基本统计信息，得到这家商店顾客的购买行为发生的特征。"
   ]
  },
  {
   "cell_type": "code",
   "execution_count": 32,
   "metadata": {
    "scrolled": true
   },
   "outputs": [
    {
     "data": {
      "text/plain": [
       "count    66507.000000\n",
       "mean        52.300478\n",
       "std        441.570974\n",
       "min          0.010000\n",
       "25%         10.800000\n",
       "50%         23.800000\n",
       "75%         52.560000\n",
       "max      79920.000000\n",
       "Name: BASK_SPEND, dtype: float64"
      ]
     },
     "execution_count": 32,
     "metadata": {},
     "output_type": "execute_result"
    }
   ],
   "source": [
    "df11[\"BASK_SPEND\"].describe()"
   ]
  },
  {
   "cell_type": "markdown",
   "metadata": {},
   "source": [
    "分析每家店每周的顾客流量情况，了解每周中哪一天是客流量的高峰期，有助于合理分配人力资源。"
   ]
  },
  {
   "cell_type": "markdown",
   "metadata": {},
   "source": [
    "将时间重新处理"
   ]
  },
  {
   "cell_type": "code",
   "execution_count": 33,
   "metadata": {
    "collapsed": true
   },
   "outputs": [
    {
     "name": "stderr",
     "output_type": "stream",
     "text": [
      "C:\\Users\\taoxi\\anaconda3\\lib\\site-packages\\ipykernel_launcher.py:2: SettingWithCopyWarning: \n",
      "A value is trying to be set on a copy of a slice from a DataFrame.\n",
      "Try using .loc[row_indexer,col_indexer] = value instead\n",
      "\n",
      "See the caveats in the documentation: http://pandas.pydata.org/pandas-docs/stable/indexing.html#indexing-view-versus-copy\n",
      "  \n",
      "C:\\Users\\taoxi\\anaconda3\\lib\\site-packages\\ipykernel_launcher.py:4: SettingWithCopyWarning: \n",
      "A value is trying to be set on a copy of a slice from a DataFrame.\n",
      "Try using .loc[row_indexer,col_indexer] = value instead\n",
      "\n",
      "See the caveats in the documentation: http://pandas.pydata.org/pandas-docs/stable/indexing.html#indexing-view-versus-copy\n",
      "  after removing the cwd from sys.path.\n",
      "C:\\Users\\taoxi\\anaconda3\\lib\\site-packages\\ipykernel_launcher.py:5: SettingWithCopyWarning: \n",
      "A value is trying to be set on a copy of a slice from a DataFrame.\n",
      "Try using .loc[row_indexer,col_indexer] = value instead\n",
      "\n",
      "See the caveats in the documentation: http://pandas.pydata.org/pandas-docs/stable/indexing.html#indexing-view-versus-copy\n",
      "  \"\"\"\n",
      "C:\\Users\\taoxi\\anaconda3\\lib\\site-packages\\ipykernel_launcher.py:8: SettingWithCopyWarning: \n",
      "A value is trying to be set on a copy of a slice from a DataFrame.\n",
      "Try using .loc[row_indexer,col_indexer] = value instead\n",
      "\n",
      "See the caveats in the documentation: http://pandas.pydata.org/pandas-docs/stable/indexing.html#indexing-view-versus-copy\n",
      "  \n"
     ]
    },
    {
     "data": {
      "text/html": [
       "<div>\n",
       "<style scoped>\n",
       "    .dataframe tbody tr th:only-of-type {\n",
       "        vertical-align: middle;\n",
       "    }\n",
       "\n",
       "    .dataframe tbody tr th {\n",
       "        vertical-align: top;\n",
       "    }\n",
       "\n",
       "    .dataframe thead th {\n",
       "        text-align: right;\n",
       "    }\n",
       "</style>\n",
       "<table border=\"1\" class=\"dataframe\">\n",
       "  <thead>\n",
       "    <tr style=\"text-align: right;\">\n",
       "      <th></th>\n",
       "      <th>SHOP_DATETIME</th>\n",
       "      <th>STORE_CODE</th>\n",
       "      <th>POS_NO</th>\n",
       "      <th>BASK_CODE</th>\n",
       "      <th>BASK_SPEND</th>\n",
       "      <th>SHOP_WEEKTIME</th>\n",
       "    </tr>\n",
       "  </thead>\n",
       "  <tbody>\n",
       "    <tr>\n",
       "      <th>24</th>\n",
       "      <td>2018/6/2</td>\n",
       "      <td>A001</td>\n",
       "      <td>6</td>\n",
       "      <td>229732</td>\n",
       "      <td>7.50</td>\n",
       "      <td>6</td>\n",
       "    </tr>\n",
       "    <tr>\n",
       "      <th>25</th>\n",
       "      <td>2018/6/2</td>\n",
       "      <td>A001</td>\n",
       "      <td>3</td>\n",
       "      <td>25793</td>\n",
       "      <td>52.95</td>\n",
       "      <td>6</td>\n",
       "    </tr>\n",
       "    <tr>\n",
       "      <th>26</th>\n",
       "      <td>2018/6/2</td>\n",
       "      <td>A001</td>\n",
       "      <td>6</td>\n",
       "      <td>229639</td>\n",
       "      <td>46.80</td>\n",
       "      <td>6</td>\n",
       "    </tr>\n",
       "    <tr>\n",
       "      <th>27</th>\n",
       "      <td>2018/6/2</td>\n",
       "      <td>A001</td>\n",
       "      <td>6</td>\n",
       "      <td>229708</td>\n",
       "      <td>30.38</td>\n",
       "      <td>6</td>\n",
       "    </tr>\n",
       "    <tr>\n",
       "      <th>28</th>\n",
       "      <td>2018/6/2</td>\n",
       "      <td>A001</td>\n",
       "      <td>6</td>\n",
       "      <td>229785</td>\n",
       "      <td>21.30</td>\n",
       "      <td>6</td>\n",
       "    </tr>\n",
       "  </tbody>\n",
       "</table>\n",
       "</div>"
      ],
      "text/plain": [
       "   SHOP_DATETIME STORE_CODE  POS_NO  BASK_CODE  BASK_SPEND  SHOP_WEEKTIME\n",
       "24      2018/6/2       A001       6     229732        7.50              6\n",
       "25      2018/6/2       A001       3      25793       52.95              6\n",
       "26      2018/6/2       A001       6     229639       46.80              6\n",
       "27      2018/6/2       A001       6     229708       30.38              6\n",
       "28      2018/6/2       A001       6     229785       21.30              6"
      ]
     },
     "execution_count": 33,
     "metadata": {},
     "output_type": "execute_result"
    }
   ],
   "source": [
    "df11['SHOP_WEEKTIME']=''\n",
    "df11['SHOP_WEEKTIME']=df11['SHOP_DATETIME']\n",
    "df11['SHOP_WEEKTIME'] = pd.to_datetime(df11['SHOP_WEEKTIME'])\n",
    "df11['SHOP_WEEKTIME'] = df11['SHOP_WEEKTIME'].apply(lambda x: x.weekday() + 1)\n",
    "df11.head()"
   ]
  },
  {
   "cell_type": "code",
   "execution_count": 34,
   "metadata": {},
   "outputs": [
    {
     "data": {
      "text/html": [
       "<div>\n",
       "<style scoped>\n",
       "    .dataframe tbody tr th:only-of-type {\n",
       "        vertical-align: middle;\n",
       "    }\n",
       "\n",
       "    .dataframe tbody tr th {\n",
       "        vertical-align: top;\n",
       "    }\n",
       "\n",
       "    .dataframe thead th {\n",
       "        text-align: right;\n",
       "    }\n",
       "</style>\n",
       "<table border=\"1\" class=\"dataframe\">\n",
       "  <thead>\n",
       "    <tr style=\"text-align: right;\">\n",
       "      <th></th>\n",
       "      <th>WEEK</th>\n",
       "      <th>BASK_NUM</th>\n",
       "    </tr>\n",
       "  </thead>\n",
       "  <tbody>\n",
       "    <tr>\n",
       "      <th>0</th>\n",
       "      <td>1</td>\n",
       "      <td>9039</td>\n",
       "    </tr>\n",
       "    <tr>\n",
       "      <th>1</th>\n",
       "      <td>2</td>\n",
       "      <td>8202</td>\n",
       "    </tr>\n",
       "    <tr>\n",
       "      <th>2</th>\n",
       "      <td>3</td>\n",
       "      <td>10056</td>\n",
       "    </tr>\n",
       "    <tr>\n",
       "      <th>3</th>\n",
       "      <td>4</td>\n",
       "      <td>8229</td>\n",
       "    </tr>\n",
       "    <tr>\n",
       "      <th>4</th>\n",
       "      <td>5</td>\n",
       "      <td>9045</td>\n",
       "    </tr>\n",
       "    <tr>\n",
       "      <th>5</th>\n",
       "      <td>6</td>\n",
       "      <td>10526</td>\n",
       "    </tr>\n",
       "    <tr>\n",
       "      <th>6</th>\n",
       "      <td>7</td>\n",
       "      <td>11161</td>\n",
       "    </tr>\n",
       "  </tbody>\n",
       "</table>\n",
       "</div>"
      ],
      "text/plain": [
       "   WEEK  BASK_NUM\n",
       "0     1      9039\n",
       "1     2      8202\n",
       "2     3     10056\n",
       "3     4      8229\n",
       "4     5      9045\n",
       "5     6     10526\n",
       "6     7     11161"
      ]
     },
     "execution_count": 34,
     "metadata": {},
     "output_type": "execute_result"
    }
   ],
   "source": [
    "bask = df11.groupby('SHOP_WEEKTIME')['BASK_CODE'].nunique()\n",
    "bask = bask.to_frame().reset_index()\n",
    "bask.columns = ['WEEK', 'BASK_NUM']\n",
    "bask"
   ]
  },
  {
   "cell_type": "markdown",
   "metadata": {},
   "source": [
    "绘制每天销售量占比情况"
   ]
  },
  {
   "cell_type": "code",
   "execution_count": 47,
   "metadata": {},
   "outputs": [
    {
     "data": {
      "text/plain": [
       "Text(0.5, 1.0, '星期一至星期日的消费次数')"
      ]
     },
     "execution_count": 47,
     "metadata": {},
     "output_type": "execute_result"
    },
    {
     "data": {
      "image/png": "[encoded data removed]",
      "text/plain": [
       "<Figure size 432x288 with 1 Axes>"
      ]
     },
     "metadata": {},
     "output_type": "display_data"
    }
   ],
   "source": [
    "plt.rcParams['font.sans-serif'] = ['SimHei']\n",
    "plt.figure(figsize=(6, 4))\n",
    "plt.rcParams[\"font.size\"] = \"15\"\n",
    "weeks=['周一','周二','周三','周四','周五','周六','周日']\n",
    "plt.pie(bask['BASK_NUM'],labels=weeks,autopct=\"%3.1f%%\")\n",
    "plt.title('星期一至星期日的消费次数')"
   ]
  },
  {
   "cell_type": "markdown",
   "metadata": {},
   "source": [
    "折线图比饼状图更加直观看出每天的销售变化情况。"
   ]
  },
  {
   "cell_type": "code",
   "execution_count": 46,
   "metadata": {
    "scrolled": false
   },
   "outputs": [
    {
     "data": {
      "text/plain": [
       "Text(0.5, 1.0, '星期一至星期日的消费次数')"
      ]
     },
     "execution_count": 46,
     "metadata": {},
     "output_type": "execute_result"
    },
    {
     "data": {
      "image/png": "[encoded data removed]",
      "text/plain": [
       "<Figure size 432x288 with 1 Axes>"
      ]
     },
     "metadata": {
      "needs_background": "light"
     },
     "output_type": "display_data"
    }
   ],
   "source": [
    "plt.rcParams['font.sans-serif'] = ['SimHei']\n",
    "plt.figure(figsize=(6, 4))\n",
    "plt.rcParams[\"font.size\"] = \"15\"\n",
    "weeks=['周一','周二','周三','周四','周五','周六','周日']\n",
    "plt.plot(weeks,bask[\"BASK_NUM\"])\n",
    "plt.title('星期一至星期日的消费次数')"
   ]
  },
  {
   "cell_type": "markdown",
   "metadata": {},
   "source": [
    "通过上图可得知在A001中每周每天的销售额情况，从而有效安排人员。"
   ]
  }
 ],
 "metadata": {
  "kernelspec": {
   "display_name": "Python 3",
   "language": "python",
   "name": "python3"
  },
  "language_info": {
   "codemirror_mode": {
    "name": "ipython",
    "version": 3
   },
   "file_extension": ".py",
   "mimetype": "text/x-python",
   "name": "python",
   "nbconvert_exporter": "python",
   "pygments_lexer": "ipython3",
   "version": "3.7.3"
  }
 },
 "nbformat": 4,
 "nbformat_minor": 2
}
