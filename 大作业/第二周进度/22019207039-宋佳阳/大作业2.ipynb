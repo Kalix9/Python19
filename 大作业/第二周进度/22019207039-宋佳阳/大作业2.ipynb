{
 "cells": [
  {
   "cell_type": "code",
   "execution_count": 2,
   "metadata": {},
   "outputs": [
    {
     "data": {
      "text/plain": [
       "'D:\\\\my python file\\\\mypython'"
      ]
     },
     "execution_count": 2,
     "metadata": {},
     "output_type": "execute_result"
    }
   ],
   "source": [
    "import os\n",
    "thisFilePath=os.path.abspath('.')\n",
    "os.chdir(thisFilePath)\n",
    "os.getcwd()"
   ]
  },
  {
   "cell_type": "markdown",
   "metadata": {},
   "source": [
    "## 导入数据"
   ]
  },
  {
   "cell_type": "code",
   "execution_count": 3,
   "metadata": {},
   "outputs": [
    {
     "data": {
      "text/html": [
       "<div>\n",
       "<style scoped>\n",
       "    .dataframe tbody tr th:only-of-type {\n",
       "        vertical-align: middle;\n",
       "    }\n",
       "\n",
       "    .dataframe tbody tr th {\n",
       "        vertical-align: top;\n",
       "    }\n",
       "\n",
       "    .dataframe thead th {\n",
       "        text-align: right;\n",
       "    }\n",
       "</style>\n",
       "<table border=\"1\" class=\"dataframe\">\n",
       "  <thead>\n",
       "    <tr style=\"text-align: right;\">\n",
       "      <th></th>\n",
       "      <th>SHOP_DATETIME</th>\n",
       "      <th>STORE_CODE</th>\n",
       "      <th>POS_NO</th>\n",
       "      <th>BASK_CODE</th>\n",
       "      <th>BASK_SPEND</th>\n",
       "    </tr>\n",
       "  </thead>\n",
       "  <tbody>\n",
       "    <tr>\n",
       "      <th>0</th>\n",
       "      <td>2018/6/1</td>\n",
       "      <td>D007</td>\n",
       "      <td>3</td>\n",
       "      <td>250458</td>\n",
       "      <td>8.0</td>\n",
       "    </tr>\n",
       "    <tr>\n",
       "      <th>1</th>\n",
       "      <td>2018/6/1</td>\n",
       "      <td>D007</td>\n",
       "      <td>3</td>\n",
       "      <td>250200</td>\n",
       "      <td>32.7</td>\n",
       "    </tr>\n",
       "    <tr>\n",
       "      <th>2</th>\n",
       "      <td>2018/6/1</td>\n",
       "      <td>D007</td>\n",
       "      <td>1</td>\n",
       "      <td>161068</td>\n",
       "      <td>16.8</td>\n",
       "    </tr>\n",
       "    <tr>\n",
       "      <th>3</th>\n",
       "      <td>2018/6/1</td>\n",
       "      <td>D007</td>\n",
       "      <td>8</td>\n",
       "      <td>5325</td>\n",
       "      <td>30.4</td>\n",
       "    </tr>\n",
       "    <tr>\n",
       "      <th>4</th>\n",
       "      <td>2018/6/1</td>\n",
       "      <td>D007</td>\n",
       "      <td>8</td>\n",
       "      <td>5361</td>\n",
       "      <td>191.3</td>\n",
       "    </tr>\n",
       "  </tbody>\n",
       "</table>\n",
       "</div>"
      ],
      "text/plain": [
       "  SHOP_DATETIME  STORE_CODE  POS_NO   BASK_CODE     BASK_SPEND\n",
       "0       2018/6/1       D007        3        250458         8.0\n",
       "1       2018/6/1       D007        3        250200        32.7\n",
       "2       2018/6/1       D007        1        161068        16.8\n",
       "3       2018/6/1       D007        8          5325        30.4\n",
       "4       2018/6/1       D007        8          5361       191.3"
      ]
     },
     "execution_count": 3,
     "metadata": {},
     "output_type": "execute_result"
    }
   ],
   "source": [
    "import pandas as pd\n",
    "df1=pd.read_csv('Basket-2018-06-01-2018-07-05.csv')\n",
    "df1.head()"
   ]
  },
  {
   "cell_type": "code",
   "execution_count": 4,
   "metadata": {},
   "outputs": [
    {
     "data": {
      "text/html": [
       "<div>\n",
       "<style scoped>\n",
       "    .dataframe tbody tr th:only-of-type {\n",
       "        vertical-align: middle;\n",
       "    }\n",
       "\n",
       "    .dataframe tbody tr th {\n",
       "        vertical-align: top;\n",
       "    }\n",
       "\n",
       "    .dataframe thead th {\n",
       "        text-align: right;\n",
       "    }\n",
       "</style>\n",
       "<table border=\"1\" class=\"dataframe\">\n",
       "  <thead>\n",
       "    <tr style=\"text-align: right;\">\n",
       "      <th></th>\n",
       "      <th>SDATE</th>\n",
       "      <th>STORE_CODE</th>\n",
       "      <th>POSID</th>\n",
       "      <th>BASK_CODE</th>\n",
       "      <th>PROD_CODE</th>\n",
       "      <th>ITEM_QUANTITY</th>\n",
       "      <th>ITEM_SPEND</th>\n",
       "      <th>NORMAL_PRICE</th>\n",
       "      <th>DISCOUNT_TYPE</th>\n",
       "      <th>DISCOUNT_AMOUNT</th>\n",
       "    </tr>\n",
       "  </thead>\n",
       "  <tbody>\n",
       "    <tr>\n",
       "      <th>0</th>\n",
       "      <td>2018/6/1</td>\n",
       "      <td>D007</td>\n",
       "      <td>3</td>\n",
       "      <td>250451</td>\n",
       "      <td>29405</td>\n",
       "      <td>1.000</td>\n",
       "      <td>1.70</td>\n",
       "      <td>2.0</td>\n",
       "      <td>m</td>\n",
       "      <td>-0.3</td>\n",
       "    </tr>\n",
       "    <tr>\n",
       "      <th>1</th>\n",
       "      <td>2018/6/1</td>\n",
       "      <td>D007</td>\n",
       "      <td>3</td>\n",
       "      <td>250451</td>\n",
       "      <td>13187</td>\n",
       "      <td>1.000</td>\n",
       "      <td>1.00</td>\n",
       "      <td>1.0</td>\n",
       "      <td>n</td>\n",
       "      <td>0.0</td>\n",
       "    </tr>\n",
       "    <tr>\n",
       "      <th>2</th>\n",
       "      <td>2018/6/1</td>\n",
       "      <td>D007</td>\n",
       "      <td>3</td>\n",
       "      <td>250243</td>\n",
       "      <td>196249</td>\n",
       "      <td>1.000</td>\n",
       "      <td>99.00</td>\n",
       "      <td>99.0</td>\n",
       "      <td>m</td>\n",
       "      <td>0.0</td>\n",
       "    </tr>\n",
       "    <tr>\n",
       "      <th>3</th>\n",
       "      <td>2018/6/1</td>\n",
       "      <td>D007</td>\n",
       "      <td>3</td>\n",
       "      <td>250243</td>\n",
       "      <td>199637</td>\n",
       "      <td>1.000</td>\n",
       "      <td>9.90</td>\n",
       "      <td>16.8</td>\n",
       "      <td>p</td>\n",
       "      <td>-6.9</td>\n",
       "    </tr>\n",
       "    <tr>\n",
       "      <th>4</th>\n",
       "      <td>2018/6/1</td>\n",
       "      <td>D007</td>\n",
       "      <td>1</td>\n",
       "      <td>160905</td>\n",
       "      <td>195012</td>\n",
       "      <td>3.222</td>\n",
       "      <td>18.69</td>\n",
       "      <td>5.8</td>\n",
       "      <td>n</td>\n",
       "      <td>0.0</td>\n",
       "    </tr>\n",
       "  </tbody>\n",
       "</table>\n",
       "</div>"
      ],
      "text/plain": [
       "      SDATE STORE_CODE  POSID  BASK_CODE   PROD_CODE  ITEM_QUANTITY  \\\n",
       "0  2018/6/1       D007      3      250451      29405          1.000   \n",
       "1  2018/6/1       D007      3      250451      13187          1.000   \n",
       "2  2018/6/1       D007      3      250243     196249          1.000   \n",
       "3  2018/6/1       D007      3      250243     199637          1.000   \n",
       "4  2018/6/1       D007      1      160905     195012          3.222   \n",
       "\n",
       "   ITEM_SPEND  NORMAL_PRICE DISCOUNT_TYPE  DISCOUNT_AMOUNT  \n",
       "0        1.70           2.0             m             -0.3  \n",
       "1        1.00           1.0             n              0.0  \n",
       "2       99.00          99.0             m              0.0  \n",
       "3        9.90          16.8             p             -6.9  \n",
       "4       18.69           5.8             n              0.0  "
      ]
     },
     "execution_count": 4,
     "metadata": {},
     "output_type": "execute_result"
    }
   ],
   "source": [
    "import pandas as pd\n",
    "df2=pd.read_csv('item-2018-06-01-2018-07-05.csv')\n",
    "df2.head()"
   ]
  },
  {
   "cell_type": "markdown",
   "metadata": {},
   "source": [
    "## 数据概览"
   ]
  },
  {
   "cell_type": "code",
   "execution_count": 5,
   "metadata": {},
   "outputs": [
    {
     "data": {
      "text/plain": [
       "(571552, 5)"
      ]
     },
     "execution_count": 5,
     "metadata": {},
     "output_type": "execute_result"
    }
   ],
   "source": [
    "df1.shape"
   ]
  },
  {
   "cell_type": "code",
   "execution_count": 6,
   "metadata": {},
   "outputs": [
    {
     "data": {
      "text/plain": [
       "(1048575, 10)"
      ]
     },
     "execution_count": 6,
     "metadata": {},
     "output_type": "execute_result"
    }
   ],
   "source": [
    "df2.shape"
   ]
  },
  {
   "cell_type": "code",
   "execution_count": 7,
   "metadata": {},
   "outputs": [
    {
     "data": {
      "text/html": [
       "<div>\n",
       "<style scoped>\n",
       "    .dataframe tbody tr th:only-of-type {\n",
       "        vertical-align: middle;\n",
       "    }\n",
       "\n",
       "    .dataframe tbody tr th {\n",
       "        vertical-align: top;\n",
       "    }\n",
       "\n",
       "    .dataframe thead th {\n",
       "        text-align: right;\n",
       "    }\n",
       "</style>\n",
       "<table border=\"1\" class=\"dataframe\">\n",
       "  <thead>\n",
       "    <tr style=\"text-align: right;\">\n",
       "      <th></th>\n",
       "      <th>POS_NO</th>\n",
       "      <th>BASK_CODE</th>\n",
       "      <th>BASK_SPEND</th>\n",
       "    </tr>\n",
       "  </thead>\n",
       "  <tbody>\n",
       "    <tr>\n",
       "      <th>count</th>\n",
       "      <td>571552.000000</td>\n",
       "      <td>571552.000000</td>\n",
       "      <td>571552.000000</td>\n",
       "    </tr>\n",
       "    <tr>\n",
       "      <th>mean</th>\n",
       "      <td>2.998429</td>\n",
       "      <td>167472.817102</td>\n",
       "      <td>38.973310</td>\n",
       "    </tr>\n",
       "    <tr>\n",
       "      <th>std</th>\n",
       "      <td>2.516065</td>\n",
       "      <td>87263.199857</td>\n",
       "      <td>209.038276</td>\n",
       "    </tr>\n",
       "    <tr>\n",
       "      <th>min</th>\n",
       "      <td>1.000000</td>\n",
       "      <td>961.000000</td>\n",
       "      <td>-35940.000000</td>\n",
       "    </tr>\n",
       "    <tr>\n",
       "      <th>25%</th>\n",
       "      <td>1.000000</td>\n",
       "      <td>90533.750000</td>\n",
       "      <td>9.000000</td>\n",
       "    </tr>\n",
       "    <tr>\n",
       "      <th>50%</th>\n",
       "      <td>2.000000</td>\n",
       "      <td>177603.500000</td>\n",
       "      <td>19.900000</td>\n",
       "    </tr>\n",
       "    <tr>\n",
       "      <th>75%</th>\n",
       "      <td>3.000000</td>\n",
       "      <td>238816.750000</td>\n",
       "      <td>44.700000</td>\n",
       "    </tr>\n",
       "    <tr>\n",
       "      <th>max</th>\n",
       "      <td>20.000000</td>\n",
       "      <td>323914.000000</td>\n",
       "      <td>79920.000000</td>\n",
       "    </tr>\n",
       "  </tbody>\n",
       "</table>\n",
       "</div>"
      ],
      "text/plain": [
       "             POS_NO    BASK_CODE        BASK_SPEND\n",
       "count  571552.000000  571552.000000  571552.000000\n",
       "mean        2.998429  167472.817102      38.973310\n",
       "std         2.516065   87263.199857     209.038276\n",
       "min         1.000000     961.000000  -35940.000000\n",
       "25%         1.000000   90533.750000       9.000000\n",
       "50%         2.000000  177603.500000      19.900000\n",
       "75%         3.000000  238816.750000      44.700000\n",
       "max        20.000000  323914.000000   79920.000000"
      ]
     },
     "execution_count": 7,
     "metadata": {},
     "output_type": "execute_result"
    }
   ],
   "source": [
    "df1.describe()"
   ]
  },
  {
   "cell_type": "code",
   "execution_count": 8,
   "metadata": {},
   "outputs": [
    {
     "data": {
      "text/html": [
       "<div>\n",
       "<style scoped>\n",
       "    .dataframe tbody tr th:only-of-type {\n",
       "        vertical-align: middle;\n",
       "    }\n",
       "\n",
       "    .dataframe tbody tr th {\n",
       "        vertical-align: top;\n",
       "    }\n",
       "\n",
       "    .dataframe thead th {\n",
       "        text-align: right;\n",
       "    }\n",
       "</style>\n",
       "<table border=\"1\" class=\"dataframe\">\n",
       "  <thead>\n",
       "    <tr style=\"text-align: right;\">\n",
       "      <th></th>\n",
       "      <th>POSID</th>\n",
       "      <th>BASK_CODE</th>\n",
       "      <th>PROD_CODE</th>\n",
       "      <th>ITEM_QUANTITY</th>\n",
       "      <th>ITEM_SPEND</th>\n",
       "      <th>NORMAL_PRICE</th>\n",
       "      <th>DISCOUNT_AMOUNT</th>\n",
       "    </tr>\n",
       "  </thead>\n",
       "  <tbody>\n",
       "    <tr>\n",
       "      <th>count</th>\n",
       "      <td>1.048575e+06</td>\n",
       "      <td>1.048575e+06</td>\n",
       "      <td>1.048575e+06</td>\n",
       "      <td>1.048575e+06</td>\n",
       "      <td>1.048575e+06</td>\n",
       "      <td>1.048575e+06</td>\n",
       "      <td>1.048575e+06</td>\n",
       "    </tr>\n",
       "    <tr>\n",
       "      <th>mean</th>\n",
       "      <td>3.016397e+00</td>\n",
       "      <td>1.611352e+05</td>\n",
       "      <td>1.147050e+05</td>\n",
       "      <td>1.490041e+00</td>\n",
       "      <td>1.363701e+01</td>\n",
       "      <td>1.483649e+01</td>\n",
       "      <td>-1.960952e+00</td>\n",
       "    </tr>\n",
       "    <tr>\n",
       "      <th>std</th>\n",
       "      <td>2.478932e+00</td>\n",
       "      <td>8.605571e+04</td>\n",
       "      <td>8.133691e+04</td>\n",
       "      <td>8.255032e+00</td>\n",
       "      <td>1.089738e+02</td>\n",
       "      <td>2.504771e+01</td>\n",
       "      <td>6.330616e+01</td>\n",
       "    </tr>\n",
       "    <tr>\n",
       "      <th>min</th>\n",
       "      <td>1.000000e+00</td>\n",
       "      <td>9.610000e+02</td>\n",
       "      <td>1.900000e+01</td>\n",
       "      <td>-1.200000e+02</td>\n",
       "      <td>-8.700000e+02</td>\n",
       "      <td>5.000000e-01</td>\n",
       "      <td>-5.760000e+04</td>\n",
       "    </tr>\n",
       "    <tr>\n",
       "      <th>25%</th>\n",
       "      <td>1.000000e+00</td>\n",
       "      <td>8.477400e+04</td>\n",
       "      <td>2.183500e+04</td>\n",
       "      <td>1.000000e+00</td>\n",
       "      <td>3.900000e+00</td>\n",
       "      <td>3.800000e+00</td>\n",
       "      <td>-1.500000e+00</td>\n",
       "    </tr>\n",
       "    <tr>\n",
       "      <th>50%</th>\n",
       "      <td>2.000000e+00</td>\n",
       "      <td>1.695360e+05</td>\n",
       "      <td>1.244580e+05</td>\n",
       "      <td>1.000000e+00</td>\n",
       "      <td>7.500000e+00</td>\n",
       "      <td>7.900000e+00</td>\n",
       "      <td>0.000000e+00</td>\n",
       "    </tr>\n",
       "    <tr>\n",
       "      <th>75%</th>\n",
       "      <td>3.000000e+00</td>\n",
       "      <td>2.177830e+05</td>\n",
       "      <td>1.959900e+05</td>\n",
       "      <td>1.000000e+00</td>\n",
       "      <td>1.250000e+01</td>\n",
       "      <td>1.580000e+01</td>\n",
       "      <td>0.000000e+00</td>\n",
       "    </tr>\n",
       "    <tr>\n",
       "      <th>max</th>\n",
       "      <td>2.000000e+01</td>\n",
       "      <td>3.148270e+05</td>\n",
       "      <td>2.247450e+05</td>\n",
       "      <td>4.020000e+03</td>\n",
       "      <td>6.912000e+04</td>\n",
       "      <td>1.980000e+03</td>\n",
       "      <td>6.960000e+02</td>\n",
       "    </tr>\n",
       "  </tbody>\n",
       "</table>\n",
       "</div>"
      ],
      "text/plain": [
       "              POSID    BASK_CODE      PROD_CODE  ITEM_QUANTITY    ITEM_SPEND  \\\n",
       "count  1.048575e+06  1.048575e+06  1.048575e+06   1.048575e+06  1.048575e+06   \n",
       "mean   3.016397e+00  1.611352e+05  1.147050e+05   1.490041e+00  1.363701e+01   \n",
       "std    2.478932e+00  8.605571e+04  8.133691e+04   8.255032e+00  1.089738e+02   \n",
       "min    1.000000e+00  9.610000e+02  1.900000e+01  -1.200000e+02 -8.700000e+02   \n",
       "25%    1.000000e+00  8.477400e+04  2.183500e+04   1.000000e+00  3.900000e+00   \n",
       "50%    2.000000e+00  1.695360e+05  1.244580e+05   1.000000e+00  7.500000e+00   \n",
       "75%    3.000000e+00  2.177830e+05  1.959900e+05   1.000000e+00  1.250000e+01   \n",
       "max    2.000000e+01  3.148270e+05  2.247450e+05   4.020000e+03  6.912000e+04   \n",
       "\n",
       "       NORMAL_PRICE  DISCOUNT_AMOUNT  \n",
       "count  1.048575e+06     1.048575e+06  \n",
       "mean   1.483649e+01    -1.960952e+00  \n",
       "std    2.504771e+01     6.330616e+01  \n",
       "min    5.000000e-01    -5.760000e+04  \n",
       "25%    3.800000e+00    -1.500000e+00  \n",
       "50%    7.900000e+00     0.000000e+00  \n",
       "75%    1.580000e+01     0.000000e+00  \n",
       "max    1.980000e+03     6.960000e+02  "
      ]
     },
     "execution_count": 8,
     "metadata": {},
     "output_type": "execute_result"
    }
   ],
   "source": [
    "df2.describe()"
   ]
  },
  {
   "cell_type": "markdown",
   "metadata": {},
   "source": [
    "## 数据清洗"
   ]
  },
  {
   "cell_type": "code",
   "execution_count": 9,
   "metadata": {},
   "outputs": [
    {
     "data": {
      "text/plain": [
       "SHOP_DATETIME      object\n",
       "STORE_CODE         object\n",
       "POS_NO              int64\n",
       "BASK_CODE           int64\n",
       "BASK_SPEND        float64\n",
       "dtype: object"
      ]
     },
     "execution_count": 9,
     "metadata": {},
     "output_type": "execute_result"
    }
   ],
   "source": [
    "df1.dtypes #查看一下各个列的数据类型"
   ]
  },
  {
   "cell_type": "code",
   "execution_count": 10,
   "metadata": {},
   "outputs": [
    {
     "data": {
      "text/plain": [
       "SDATE               object\n",
       "STORE_CODE          object\n",
       "POSID                int64\n",
       "BASK_CODE            int64\n",
       "PROD_CODE            int64\n",
       "ITEM_QUANTITY      float64\n",
       "ITEM_SPEND         float64\n",
       "NORMAL_PRICE       float64\n",
       "DISCOUNT_TYPE       object\n",
       "DISCOUNT_AMOUNT    float64\n",
       "dtype: object"
      ]
     },
     "execution_count": 10,
     "metadata": {},
     "output_type": "execute_result"
    }
   ],
   "source": [
    "df2.dtypes"
   ]
  },
  {
   "cell_type": "code",
   "execution_count": 11,
   "metadata": {},
   "outputs": [
    {
     "data": {
      "text/plain": [
       "SHOP_DATETIME_     object\n",
       "STORE_CODE         object\n",
       "POS_NO_             int64\n",
       "BASK_CODE___        int64\n",
       "BASK_SPEND        float64\n",
       "dtype: object"
      ]
     },
     "execution_count": 11,
     "metadata": {},
     "output_type": "execute_result"
    }
   ],
   "source": [
    "#从上面发现列名不符合Python的命名规范，对列名进行一下重命名，采用下划线命名法：\n",
    "df1.rename(columns = lambda x: x.replace(' ', '_').replace('-', '_'), inplace=True)\n",
    "df1.dtypes "
   ]
  },
  {
   "cell_type": "code",
   "execution_count": 12,
   "metadata": {},
   "outputs": [
    {
     "data": {
      "text/plain": [
       "SDATE               object\n",
       "STORE_CODE          object\n",
       "POSID                int64\n",
       "BASK_CODE_           int64\n",
       "PROD_CODE            int64\n",
       "ITEM_QUANTITY      float64\n",
       "ITEM_SPEND         float64\n",
       "NORMAL_PRICE       float64\n",
       "DISCOUNT_TYPE       object\n",
       "DISCOUNT_AMOUNT    float64\n",
       "dtype: object"
      ]
     },
     "execution_count": 12,
     "metadata": {},
     "output_type": "execute_result"
    }
   ],
   "source": [
    "df2.rename(columns = lambda x: x.replace(' ', '_').replace('-', '_'), inplace=True)\n",
    "df2.dtypes "
   ]
  },
  {
   "cell_type": "code",
   "execution_count": 13,
   "metadata": {},
   "outputs": [
    {
     "data": {
      "text/plain": [
       "761910    2018/6/18\n",
       "291372     2018/6/6\n",
       "478896     2018/6/9\n",
       "52592      2018/6/1\n",
       "68102      2018/6/1\n",
       "Name: SDATE, dtype: object"
      ]
     },
     "execution_count": 13,
     "metadata": {},
     "output_type": "execute_result"
    }
   ],
   "source": [
    "#下单日期应为datetime类型，需要进行处理。\n",
    "df1[\"SHOP_DATETIME_\"] = pd.to_datetime(df1[\"SHOP_DATETIME_\"]) \n",
    "df2[\"SDATE\"].sample(5)"
   ]
  },
  {
   "cell_type": "code",
   "execution_count": 14,
   "metadata": {},
   "outputs": [
    {
     "data": {
      "text/plain": [
       "137978   2018-06-05\n",
       "392307   2018-06-10\n",
       "852117   2018-06-17\n",
       "308562   2018-06-06\n",
       "853394   2018-06-17\n",
       "Name: SDATE, dtype: datetime64[ns]"
      ]
     },
     "execution_count": 14,
     "metadata": {},
     "output_type": "execute_result"
    }
   ],
   "source": [
    "df2[\"SDATE\"] = pd.to_datetime(df2[\"SDATE\"]) \n",
    "df2[\"SDATE\"].sample(5)"
   ]
  },
  {
   "cell_type": "code",
   "execution_count": 15,
   "metadata": {},
   "outputs": [
    {
     "data": {
      "text/plain": [
       "SHOP_DATETIME_    0\n",
       "STORE_CODE        0\n",
       "POS_NO_           0\n",
       "BASK_CODE___      0\n",
       "BASK_SPEND        0\n",
       "dtype: int64"
      ]
     },
     "execution_count": 15,
     "metadata": {},
     "output_type": "execute_result"
    }
   ],
   "source": [
    "#缺失值处理\n",
    "df1.isnull().sum(axis=0)"
   ]
  },
  {
   "cell_type": "code",
   "execution_count": 16,
   "metadata": {},
   "outputs": [
    {
     "data": {
      "text/plain": [
       "SDATE              0\n",
       "STORE_CODE         0\n",
       "POSID              0\n",
       "BASK_CODE_         0\n",
       "PROD_CODE          0\n",
       "ITEM_QUANTITY      0\n",
       "ITEM_SPEND         0\n",
       "NORMAL_PRICE       0\n",
       "DISCOUNT_TYPE      0\n",
       "DISCOUNT_AMOUNT    0\n",
       "dtype: int64"
      ]
     },
     "execution_count": 16,
     "metadata": {},
     "output_type": "execute_result"
    }
   ],
   "source": [
    "df2.isnull().sum(axis=0)"
   ]
  },
  {
   "cell_type": "code",
   "execution_count": 17,
   "metadata": {},
   "outputs": [
    {
     "data": {
      "text/html": [
       "<div>\n",
       "<style scoped>\n",
       "    .dataframe tbody tr th:only-of-type {\n",
       "        vertical-align: middle;\n",
       "    }\n",
       "\n",
       "    .dataframe tbody tr th {\n",
       "        vertical-align: top;\n",
       "    }\n",
       "\n",
       "    .dataframe thead th {\n",
       "        text-align: right;\n",
       "    }\n",
       "</style>\n",
       "<table border=\"1\" class=\"dataframe\">\n",
       "  <thead>\n",
       "    <tr style=\"text-align: right;\">\n",
       "      <th></th>\n",
       "      <th>POS_NO_</th>\n",
       "      <th>BASK_CODE___</th>\n",
       "      <th>BASK_SPEND</th>\n",
       "    </tr>\n",
       "  </thead>\n",
       "  <tbody>\n",
       "    <tr>\n",
       "      <th>count</th>\n",
       "      <td>571552.000000</td>\n",
       "      <td>571552.000000</td>\n",
       "      <td>571552.000000</td>\n",
       "    </tr>\n",
       "    <tr>\n",
       "      <th>mean</th>\n",
       "      <td>2.998429</td>\n",
       "      <td>167472.817102</td>\n",
       "      <td>38.973310</td>\n",
       "    </tr>\n",
       "    <tr>\n",
       "      <th>std</th>\n",
       "      <td>2.516065</td>\n",
       "      <td>87263.199857</td>\n",
       "      <td>209.038276</td>\n",
       "    </tr>\n",
       "    <tr>\n",
       "      <th>min</th>\n",
       "      <td>1.000000</td>\n",
       "      <td>961.000000</td>\n",
       "      <td>-35940.000000</td>\n",
       "    </tr>\n",
       "    <tr>\n",
       "      <th>25%</th>\n",
       "      <td>1.000000</td>\n",
       "      <td>90533.750000</td>\n",
       "      <td>9.000000</td>\n",
       "    </tr>\n",
       "    <tr>\n",
       "      <th>50%</th>\n",
       "      <td>2.000000</td>\n",
       "      <td>177603.500000</td>\n",
       "      <td>19.900000</td>\n",
       "    </tr>\n",
       "    <tr>\n",
       "      <th>75%</th>\n",
       "      <td>3.000000</td>\n",
       "      <td>238816.750000</td>\n",
       "      <td>44.700000</td>\n",
       "    </tr>\n",
       "    <tr>\n",
       "      <th>max</th>\n",
       "      <td>20.000000</td>\n",
       "      <td>323914.000000</td>\n",
       "      <td>79920.000000</td>\n",
       "    </tr>\n",
       "  </tbody>\n",
       "</table>\n",
       "</div>"
      ],
      "text/plain": [
       "             POS_NO_   BASK_CODE___     BASK_SPEND\n",
       "count  571552.000000  571552.000000  571552.000000\n",
       "mean        2.998429  167472.817102      38.973310\n",
       "std         2.516065   87263.199857     209.038276\n",
       "min         1.000000     961.000000  -35940.000000\n",
       "25%         1.000000   90533.750000       9.000000\n",
       "50%         2.000000  177603.500000      19.900000\n",
       "75%         3.000000  238816.750000      44.700000\n",
       "max        20.000000  323914.000000   79920.000000"
      ]
     },
     "execution_count": 17,
     "metadata": {},
     "output_type": "execute_result"
    }
   ],
   "source": [
    "#简单查看一下是否有异常值\n",
    "df1.describe()"
   ]
  },
  {
   "cell_type": "code",
   "execution_count": 18,
   "metadata": {},
   "outputs": [
    {
     "data": {
      "text/plain": [
       "0"
      ]
     },
     "execution_count": 18,
     "metadata": {},
     "output_type": "execute_result"
    }
   ],
   "source": [
    "#看一下是否有重复值\n",
    "df1.duplicated().sum()"
   ]
  },
  {
   "cell_type": "code",
   "execution_count": 19,
   "metadata": {},
   "outputs": [
    {
     "data": {
      "text/plain": [
       "128777"
      ]
     },
     "execution_count": 19,
     "metadata": {},
     "output_type": "execute_result"
    }
   ],
   "source": [
    "df2.duplicated().sum()   #无需处理"
   ]
  },
  {
   "cell_type": "markdown",
   "metadata": {},
   "source": [
    "## 数据分析"
   ]
  },
  {
   "cell_type": "markdown",
   "metadata": {},
   "source": [
    "#### 门店信息汇总分析"
   ]
  },
  {
   "cell_type": "code",
   "execution_count": 20,
   "metadata": {},
   "outputs": [
    {
     "data": {
      "text/html": [
       "<div>\n",
       "<style scoped>\n",
       "    .dataframe tbody tr th:only-of-type {\n",
       "        vertical-align: middle;\n",
       "    }\n",
       "\n",
       "    .dataframe tbody tr th {\n",
       "        vertical-align: top;\n",
       "    }\n",
       "\n",
       "    .dataframe thead th {\n",
       "        text-align: right;\n",
       "    }\n",
       "</style>\n",
       "<table border=\"1\" class=\"dataframe\">\n",
       "  <thead>\n",
       "    <tr style=\"text-align: right;\">\n",
       "      <th></th>\n",
       "      <th>SHOP_DATETIME_</th>\n",
       "      <th>STORE_CODE</th>\n",
       "      <th>POS_NO_</th>\n",
       "      <th>BASK_CODE___</th>\n",
       "      <th>BASK_SPEND</th>\n",
       "    </tr>\n",
       "  </thead>\n",
       "  <tbody>\n",
       "    <tr>\n",
       "      <th>0</th>\n",
       "      <td>2018-06-01</td>\n",
       "      <td>D007</td>\n",
       "      <td>3</td>\n",
       "      <td>250458</td>\n",
       "      <td>8.00</td>\n",
       "    </tr>\n",
       "    <tr>\n",
       "      <th>12</th>\n",
       "      <td>2018-06-01</td>\n",
       "      <td>A019</td>\n",
       "      <td>1</td>\n",
       "      <td>192101</td>\n",
       "      <td>15.37</td>\n",
       "    </tr>\n",
       "    <tr>\n",
       "      <th>13</th>\n",
       "      <td>2018-06-01</td>\n",
       "      <td>D008</td>\n",
       "      <td>1</td>\n",
       "      <td>197147</td>\n",
       "      <td>10.70</td>\n",
       "    </tr>\n",
       "    <tr>\n",
       "      <th>16</th>\n",
       "      <td>2018-06-01</td>\n",
       "      <td>D009</td>\n",
       "      <td>3</td>\n",
       "      <td>144146</td>\n",
       "      <td>3.60</td>\n",
       "    </tr>\n",
       "    <tr>\n",
       "      <th>24</th>\n",
       "      <td>2018-06-02</td>\n",
       "      <td>A001</td>\n",
       "      <td>6</td>\n",
       "      <td>229732</td>\n",
       "      <td>7.50</td>\n",
       "    </tr>\n",
       "    <tr>\n",
       "      <th>35</th>\n",
       "      <td>2018-06-01</td>\n",
       "      <td>D002</td>\n",
       "      <td>4</td>\n",
       "      <td>143637</td>\n",
       "      <td>132.80</td>\n",
       "    </tr>\n",
       "    <tr>\n",
       "      <th>62</th>\n",
       "      <td>2018-06-01</td>\n",
       "      <td>D003</td>\n",
       "      <td>2</td>\n",
       "      <td>53190</td>\n",
       "      <td>30.90</td>\n",
       "    </tr>\n",
       "    <tr>\n",
       "      <th>64</th>\n",
       "      <td>2018-06-01</td>\n",
       "      <td>D004</td>\n",
       "      <td>1</td>\n",
       "      <td>173594</td>\n",
       "      <td>21.00</td>\n",
       "    </tr>\n",
       "    <tr>\n",
       "      <th>69</th>\n",
       "      <td>2018-06-01</td>\n",
       "      <td>D005</td>\n",
       "      <td>2</td>\n",
       "      <td>204925</td>\n",
       "      <td>71.40</td>\n",
       "    </tr>\n",
       "    <tr>\n",
       "      <th>73</th>\n",
       "      <td>2018-06-01</td>\n",
       "      <td>D006</td>\n",
       "      <td>3</td>\n",
       "      <td>148666</td>\n",
       "      <td>26.99</td>\n",
       "    </tr>\n",
       "    <tr>\n",
       "      <th>128</th>\n",
       "      <td>2018-06-02</td>\n",
       "      <td>A004</td>\n",
       "      <td>2</td>\n",
       "      <td>108909</td>\n",
       "      <td>4.08</td>\n",
       "    </tr>\n",
       "    <tr>\n",
       "      <th>201</th>\n",
       "      <td>2018-06-02</td>\n",
       "      <td>A006</td>\n",
       "      <td>2</td>\n",
       "      <td>292106</td>\n",
       "      <td>16.50</td>\n",
       "    </tr>\n",
       "    <tr>\n",
       "      <th>1328</th>\n",
       "      <td>2018-06-02</td>\n",
       "      <td>A010</td>\n",
       "      <td>8</td>\n",
       "      <td>40736</td>\n",
       "      <td>16.79</td>\n",
       "    </tr>\n",
       "    <tr>\n",
       "      <th>1333</th>\n",
       "      <td>2018-06-02</td>\n",
       "      <td>A012</td>\n",
       "      <td>2</td>\n",
       "      <td>283389</td>\n",
       "      <td>10.90</td>\n",
       "    </tr>\n",
       "    <tr>\n",
       "      <th>1342</th>\n",
       "      <td>2018-06-02</td>\n",
       "      <td>A013</td>\n",
       "      <td>2</td>\n",
       "      <td>195299</td>\n",
       "      <td>6.00</td>\n",
       "    </tr>\n",
       "    <tr>\n",
       "      <th>1548</th>\n",
       "      <td>2018-06-01</td>\n",
       "      <td>A016</td>\n",
       "      <td>1</td>\n",
       "      <td>78313</td>\n",
       "      <td>12.80</td>\n",
       "    </tr>\n",
       "    <tr>\n",
       "      <th>1551</th>\n",
       "      <td>2018-06-01</td>\n",
       "      <td>A017</td>\n",
       "      <td>1</td>\n",
       "      <td>177358</td>\n",
       "      <td>36.80</td>\n",
       "    </tr>\n",
       "    <tr>\n",
       "      <th>1552</th>\n",
       "      <td>2018-06-01</td>\n",
       "      <td>A018</td>\n",
       "      <td>1</td>\n",
       "      <td>198975</td>\n",
       "      <td>2.00</td>\n",
       "    </tr>\n",
       "    <tr>\n",
       "      <th>1553</th>\n",
       "      <td>2018-06-01</td>\n",
       "      <td>A021</td>\n",
       "      <td>2</td>\n",
       "      <td>97519</td>\n",
       "      <td>41.74</td>\n",
       "    </tr>\n",
       "    <tr>\n",
       "      <th>1558</th>\n",
       "      <td>2018-06-01</td>\n",
       "      <td>A009</td>\n",
       "      <td>1</td>\n",
       "      <td>244329</td>\n",
       "      <td>229.60</td>\n",
       "    </tr>\n",
       "    <tr>\n",
       "      <th>1567</th>\n",
       "      <td>2018-06-01</td>\n",
       "      <td>D010</td>\n",
       "      <td>3</td>\n",
       "      <td>181439</td>\n",
       "      <td>32.75</td>\n",
       "    </tr>\n",
       "    <tr>\n",
       "      <th>1577</th>\n",
       "      <td>2018-06-01</td>\n",
       "      <td>A022</td>\n",
       "      <td>2</td>\n",
       "      <td>55996</td>\n",
       "      <td>18.90</td>\n",
       "    </tr>\n",
       "    <tr>\n",
       "      <th>1583</th>\n",
       "      <td>2018-06-02</td>\n",
       "      <td>A007</td>\n",
       "      <td>2</td>\n",
       "      <td>117440</td>\n",
       "      <td>1.90</td>\n",
       "    </tr>\n",
       "    <tr>\n",
       "      <th>1618</th>\n",
       "      <td>2018-06-01</td>\n",
       "      <td>A008</td>\n",
       "      <td>3</td>\n",
       "      <td>163236</td>\n",
       "      <td>17.00</td>\n",
       "    </tr>\n",
       "  </tbody>\n",
       "</table>\n",
       "</div>"
      ],
      "text/plain": [
       "     SHOP_DATETIME_ STORE_CODE  POS_NO_  BASK_CODE___  BASK_SPEND\n",
       "0        2018-06-01       D007        3        250458        8.00\n",
       "12       2018-06-01       A019        1        192101       15.37\n",
       "13       2018-06-01       D008        1        197147       10.70\n",
       "16       2018-06-01       D009        3        144146        3.60\n",
       "24       2018-06-02       A001        6        229732        7.50\n",
       "35       2018-06-01       D002        4        143637      132.80\n",
       "62       2018-06-01       D003        2         53190       30.90\n",
       "64       2018-06-01       D004        1        173594       21.00\n",
       "69       2018-06-01       D005        2        204925       71.40\n",
       "73       2018-06-01       D006        3        148666       26.99\n",
       "128      2018-06-02       A004        2        108909        4.08\n",
       "201      2018-06-02       A006        2        292106       16.50\n",
       "1328     2018-06-02       A010        8         40736       16.79\n",
       "1333     2018-06-02       A012        2        283389       10.90\n",
       "1342     2018-06-02       A013        2        195299        6.00\n",
       "1548     2018-06-01       A016        1         78313       12.80\n",
       "1551     2018-06-01       A017        1        177358       36.80\n",
       "1552     2018-06-01       A018        1        198975        2.00\n",
       "1553     2018-06-01       A021        2         97519       41.74\n",
       "1558     2018-06-01       A009        1        244329      229.60\n",
       "1567     2018-06-01       D010        3        181439       32.75\n",
       "1577     2018-06-01       A022        2         55996       18.90\n",
       "1583     2018-06-02       A007        2        117440        1.90\n",
       "1618     2018-06-01       A008        3        163236       17.00"
      ]
     },
     "execution_count": 20,
     "metadata": {},
     "output_type": "execute_result"
    }
   ],
   "source": [
    "store_number=df1.drop_duplicates(subset=['STORE_CODE'])\n",
    "store_number #查看共涉及到商店的数量"
   ]
  },
  {
   "cell_type": "code",
   "execution_count": 21,
   "metadata": {},
   "outputs": [
    {
     "data": {
      "text/plain": [
       "(24, 5)"
      ]
     },
     "execution_count": 21,
     "metadata": {},
     "output_type": "execute_result"
    }
   ],
   "source": [
    "store_number.shape   #24个商店"
   ]
  },
  {
   "cell_type": "code",
   "execution_count": 22,
   "metadata": {},
   "outputs": [
    {
     "data": {
      "text/html": [
       "<div>\n",
       "<style scoped>\n",
       "    .dataframe tbody tr th:only-of-type {\n",
       "        vertical-align: middle;\n",
       "    }\n",
       "\n",
       "    .dataframe tbody tr th {\n",
       "        vertical-align: top;\n",
       "    }\n",
       "\n",
       "    .dataframe thead th {\n",
       "        text-align: right;\n",
       "    }\n",
       "</style>\n",
       "<table border=\"1\" class=\"dataframe\">\n",
       "  <thead>\n",
       "    <tr style=\"text-align: right;\">\n",
       "      <th></th>\n",
       "      <th>SDATE</th>\n",
       "      <th>STORE_CODE</th>\n",
       "      <th>POSID</th>\n",
       "      <th>BASK_CODE_</th>\n",
       "      <th>PROD_CODE</th>\n",
       "      <th>ITEM_QUANTITY</th>\n",
       "      <th>ITEM_SPEND</th>\n",
       "      <th>NORMAL_PRICE</th>\n",
       "      <th>DISCOUNT_TYPE</th>\n",
       "      <th>DISCOUNT_AMOUNT</th>\n",
       "    </tr>\n",
       "  </thead>\n",
       "  <tbody>\n",
       "    <tr>\n",
       "      <th>0</th>\n",
       "      <td>2018-06-01</td>\n",
       "      <td>D007</td>\n",
       "      <td>3</td>\n",
       "      <td>250451</td>\n",
       "      <td>29405</td>\n",
       "      <td>1.000</td>\n",
       "      <td>1.70</td>\n",
       "      <td>2.0</td>\n",
       "      <td>m</td>\n",
       "      <td>-0.30</td>\n",
       "    </tr>\n",
       "    <tr>\n",
       "      <th>288</th>\n",
       "      <td>2018-06-01</td>\n",
       "      <td>A019</td>\n",
       "      <td>2</td>\n",
       "      <td>24592</td>\n",
       "      <td>194906</td>\n",
       "      <td>0.056</td>\n",
       "      <td>1.88</td>\n",
       "      <td>33.6</td>\n",
       "      <td>n</td>\n",
       "      <td>0.00</td>\n",
       "    </tr>\n",
       "    <tr>\n",
       "      <th>366</th>\n",
       "      <td>2018-06-01</td>\n",
       "      <td>D008</td>\n",
       "      <td>4</td>\n",
       "      <td>17849</td>\n",
       "      <td>77420</td>\n",
       "      <td>1.000</td>\n",
       "      <td>92.80</td>\n",
       "      <td>112.0</td>\n",
       "      <td>p</td>\n",
       "      <td>-19.20</td>\n",
       "    </tr>\n",
       "    <tr>\n",
       "      <th>500</th>\n",
       "      <td>2018-06-01</td>\n",
       "      <td>D009</td>\n",
       "      <td>3</td>\n",
       "      <td>144271</td>\n",
       "      <td>83512</td>\n",
       "      <td>2.000</td>\n",
       "      <td>4.40</td>\n",
       "      <td>2.2</td>\n",
       "      <td>n</td>\n",
       "      <td>0.00</td>\n",
       "    </tr>\n",
       "    <tr>\n",
       "      <th>808</th>\n",
       "      <td>2018-06-02</td>\n",
       "      <td>A001</td>\n",
       "      <td>6</td>\n",
       "      <td>229611</td>\n",
       "      <td>15930</td>\n",
       "      <td>1.000</td>\n",
       "      <td>1.80</td>\n",
       "      <td>1.8</td>\n",
       "      <td>n</td>\n",
       "      <td>0.00</td>\n",
       "    </tr>\n",
       "    <tr>\n",
       "      <th>1006</th>\n",
       "      <td>2018-06-01</td>\n",
       "      <td>D002</td>\n",
       "      <td>4</td>\n",
       "      <td>143702</td>\n",
       "      <td>189589</td>\n",
       "      <td>1.000</td>\n",
       "      <td>25.50</td>\n",
       "      <td>29.5</td>\n",
       "      <td>p</td>\n",
       "      <td>-4.00</td>\n",
       "    </tr>\n",
       "    <tr>\n",
       "      <th>1800</th>\n",
       "      <td>2018-06-01</td>\n",
       "      <td>D003</td>\n",
       "      <td>2</td>\n",
       "      <td>53026</td>\n",
       "      <td>194690</td>\n",
       "      <td>1.074</td>\n",
       "      <td>3.20</td>\n",
       "      <td>3.9</td>\n",
       "      <td>p</td>\n",
       "      <td>-0.99</td>\n",
       "    </tr>\n",
       "    <tr>\n",
       "      <th>1843</th>\n",
       "      <td>2018-06-01</td>\n",
       "      <td>D004</td>\n",
       "      <td>2</td>\n",
       "      <td>15875</td>\n",
       "      <td>91677</td>\n",
       "      <td>1.000</td>\n",
       "      <td>4.90</td>\n",
       "      <td>4.9</td>\n",
       "      <td>n</td>\n",
       "      <td>0.00</td>\n",
       "    </tr>\n",
       "    <tr>\n",
       "      <th>2009</th>\n",
       "      <td>2018-06-01</td>\n",
       "      <td>D005</td>\n",
       "      <td>2</td>\n",
       "      <td>204976</td>\n",
       "      <td>221923</td>\n",
       "      <td>1.000</td>\n",
       "      <td>14.90</td>\n",
       "      <td>20.5</td>\n",
       "      <td>p</td>\n",
       "      <td>-5.60</td>\n",
       "    </tr>\n",
       "    <tr>\n",
       "      <th>2112</th>\n",
       "      <td>2018-06-01</td>\n",
       "      <td>D006</td>\n",
       "      <td>3</td>\n",
       "      <td>148613</td>\n",
       "      <td>219924</td>\n",
       "      <td>1.000</td>\n",
       "      <td>8.80</td>\n",
       "      <td>8.8</td>\n",
       "      <td>n</td>\n",
       "      <td>0.00</td>\n",
       "    </tr>\n",
       "    <tr>\n",
       "      <th>3234</th>\n",
       "      <td>2018-06-02</td>\n",
       "      <td>A004</td>\n",
       "      <td>2</td>\n",
       "      <td>109058</td>\n",
       "      <td>184566</td>\n",
       "      <td>1.000</td>\n",
       "      <td>5.50</td>\n",
       "      <td>5.5</td>\n",
       "      <td>n</td>\n",
       "      <td>0.00</td>\n",
       "    </tr>\n",
       "    <tr>\n",
       "      <th>5471</th>\n",
       "      <td>2018-06-02</td>\n",
       "      <td>A006</td>\n",
       "      <td>2</td>\n",
       "      <td>292147</td>\n",
       "      <td>167980</td>\n",
       "      <td>1.000</td>\n",
       "      <td>3.00</td>\n",
       "      <td>3.0</td>\n",
       "      <td>n</td>\n",
       "      <td>0.00</td>\n",
       "    </tr>\n",
       "    <tr>\n",
       "      <th>37218</th>\n",
       "      <td>2018-06-02</td>\n",
       "      <td>A010</td>\n",
       "      <td>8</td>\n",
       "      <td>40735</td>\n",
       "      <td>2565</td>\n",
       "      <td>2.000</td>\n",
       "      <td>2.40</td>\n",
       "      <td>1.2</td>\n",
       "      <td>n</td>\n",
       "      <td>0.00</td>\n",
       "    </tr>\n",
       "    <tr>\n",
       "      <th>37354</th>\n",
       "      <td>2018-06-02</td>\n",
       "      <td>A012</td>\n",
       "      <td>2</td>\n",
       "      <td>283220</td>\n",
       "      <td>156899</td>\n",
       "      <td>1.000</td>\n",
       "      <td>32.80</td>\n",
       "      <td>36.8</td>\n",
       "      <td>p</td>\n",
       "      <td>-4.00</td>\n",
       "    </tr>\n",
       "    <tr>\n",
       "      <th>37480</th>\n",
       "      <td>2018-06-02</td>\n",
       "      <td>A013</td>\n",
       "      <td>2</td>\n",
       "      <td>195298</td>\n",
       "      <td>62602</td>\n",
       "      <td>1.000</td>\n",
       "      <td>3.90</td>\n",
       "      <td>3.9</td>\n",
       "      <td>n</td>\n",
       "      <td>0.00</td>\n",
       "    </tr>\n",
       "    <tr>\n",
       "      <th>41878</th>\n",
       "      <td>2018-06-01</td>\n",
       "      <td>A016</td>\n",
       "      <td>1</td>\n",
       "      <td>78194</td>\n",
       "      <td>215349</td>\n",
       "      <td>1.000</td>\n",
       "      <td>15.00</td>\n",
       "      <td>15.0</td>\n",
       "      <td>n</td>\n",
       "      <td>0.00</td>\n",
       "    </tr>\n",
       "    <tr>\n",
       "      <th>41979</th>\n",
       "      <td>2018-06-01</td>\n",
       "      <td>A017</td>\n",
       "      <td>1</td>\n",
       "      <td>177465</td>\n",
       "      <td>193403</td>\n",
       "      <td>1.000</td>\n",
       "      <td>39.90</td>\n",
       "      <td>39.9</td>\n",
       "      <td>n</td>\n",
       "      <td>0.00</td>\n",
       "    </tr>\n",
       "    <tr>\n",
       "      <th>42016</th>\n",
       "      <td>2018-06-01</td>\n",
       "      <td>A018</td>\n",
       "      <td>1</td>\n",
       "      <td>198790</td>\n",
       "      <td>217878</td>\n",
       "      <td>1.000</td>\n",
       "      <td>3.90</td>\n",
       "      <td>3.9</td>\n",
       "      <td>n</td>\n",
       "      <td>0.00</td>\n",
       "    </tr>\n",
       "    <tr>\n",
       "      <th>42065</th>\n",
       "      <td>2018-06-01</td>\n",
       "      <td>A021</td>\n",
       "      <td>3</td>\n",
       "      <td>73023</td>\n",
       "      <td>14511</td>\n",
       "      <td>1.000</td>\n",
       "      <td>5.50</td>\n",
       "      <td>5.5</td>\n",
       "      <td>n</td>\n",
       "      <td>0.00</td>\n",
       "    </tr>\n",
       "    <tr>\n",
       "      <th>42181</th>\n",
       "      <td>2018-06-01</td>\n",
       "      <td>A009</td>\n",
       "      <td>2</td>\n",
       "      <td>50694</td>\n",
       "      <td>276</td>\n",
       "      <td>1.000</td>\n",
       "      <td>19.80</td>\n",
       "      <td>22.0</td>\n",
       "      <td>p</td>\n",
       "      <td>-2.20</td>\n",
       "    </tr>\n",
       "    <tr>\n",
       "      <th>42418</th>\n",
       "      <td>2018-06-01</td>\n",
       "      <td>D010</td>\n",
       "      <td>3</td>\n",
       "      <td>181439</td>\n",
       "      <td>67483</td>\n",
       "      <td>1.000</td>\n",
       "      <td>3.30</td>\n",
       "      <td>4.5</td>\n",
       "      <td>m</td>\n",
       "      <td>-1.20</td>\n",
       "    </tr>\n",
       "    <tr>\n",
       "      <th>42572</th>\n",
       "      <td>2018-06-01</td>\n",
       "      <td>A022</td>\n",
       "      <td>2</td>\n",
       "      <td>55979</td>\n",
       "      <td>1971</td>\n",
       "      <td>1.000</td>\n",
       "      <td>2.90</td>\n",
       "      <td>2.9</td>\n",
       "      <td>n</td>\n",
       "      <td>0.00</td>\n",
       "    </tr>\n",
       "    <tr>\n",
       "      <th>42677</th>\n",
       "      <td>2018-06-02</td>\n",
       "      <td>A007</td>\n",
       "      <td>2</td>\n",
       "      <td>117338</td>\n",
       "      <td>221689</td>\n",
       "      <td>1.000</td>\n",
       "      <td>3.00</td>\n",
       "      <td>3.0</td>\n",
       "      <td>n</td>\n",
       "      <td>0.00</td>\n",
       "    </tr>\n",
       "    <tr>\n",
       "      <th>43416</th>\n",
       "      <td>2018-06-01</td>\n",
       "      <td>A008</td>\n",
       "      <td>3</td>\n",
       "      <td>163344</td>\n",
       "      <td>116358</td>\n",
       "      <td>1.000</td>\n",
       "      <td>29.80</td>\n",
       "      <td>29.8</td>\n",
       "      <td>n</td>\n",
       "      <td>0.00</td>\n",
       "    </tr>\n",
       "  </tbody>\n",
       "</table>\n",
       "</div>"
      ],
      "text/plain": [
       "           SDATE STORE_CODE  POSID  BASK_CODE_  PROD_CODE  ITEM_QUANTITY  \\\n",
       "0     2018-06-01       D007      3      250451      29405          1.000   \n",
       "288   2018-06-01       A019      2       24592     194906          0.056   \n",
       "366   2018-06-01       D008      4       17849      77420          1.000   \n",
       "500   2018-06-01       D009      3      144271      83512          2.000   \n",
       "808   2018-06-02       A001      6      229611      15930          1.000   \n",
       "1006  2018-06-01       D002      4      143702     189589          1.000   \n",
       "1800  2018-06-01       D003      2       53026     194690          1.074   \n",
       "1843  2018-06-01       D004      2       15875      91677          1.000   \n",
       "2009  2018-06-01       D005      2      204976     221923          1.000   \n",
       "2112  2018-06-01       D006      3      148613     219924          1.000   \n",
       "3234  2018-06-02       A004      2      109058     184566          1.000   \n",
       "5471  2018-06-02       A006      2      292147     167980          1.000   \n",
       "37218 2018-06-02       A010      8       40735       2565          2.000   \n",
       "37354 2018-06-02       A012      2      283220     156899          1.000   \n",
       "37480 2018-06-02       A013      2      195298      62602          1.000   \n",
       "41878 2018-06-01       A016      1       78194     215349          1.000   \n",
       "41979 2018-06-01       A017      1      177465     193403          1.000   \n",
       "42016 2018-06-01       A018      1      198790     217878          1.000   \n",
       "42065 2018-06-01       A021      3       73023      14511          1.000   \n",
       "42181 2018-06-01       A009      2       50694        276          1.000   \n",
       "42418 2018-06-01       D010      3      181439      67483          1.000   \n",
       "42572 2018-06-01       A022      2       55979       1971          1.000   \n",
       "42677 2018-06-02       A007      2      117338     221689          1.000   \n",
       "43416 2018-06-01       A008      3      163344     116358          1.000   \n",
       "\n",
       "       ITEM_SPEND  NORMAL_PRICE DISCOUNT_TYPE  DISCOUNT_AMOUNT  \n",
       "0            1.70           2.0             m            -0.30  \n",
       "288          1.88          33.6             n             0.00  \n",
       "366         92.80         112.0             p           -19.20  \n",
       "500          4.40           2.2             n             0.00  \n",
       "808          1.80           1.8             n             0.00  \n",
       "1006        25.50          29.5             p            -4.00  \n",
       "1800         3.20           3.9             p            -0.99  \n",
       "1843         4.90           4.9             n             0.00  \n",
       "2009        14.90          20.5             p            -5.60  \n",
       "2112         8.80           8.8             n             0.00  \n",
       "3234         5.50           5.5             n             0.00  \n",
       "5471         3.00           3.0             n             0.00  \n",
       "37218        2.40           1.2             n             0.00  \n",
       "37354       32.80          36.8             p            -4.00  \n",
       "37480        3.90           3.9             n             0.00  \n",
       "41878       15.00          15.0             n             0.00  \n",
       "41979       39.90          39.9             n             0.00  \n",
       "42016        3.90           3.9             n             0.00  \n",
       "42065        5.50           5.5             n             0.00  \n",
       "42181       19.80          22.0             p            -2.20  \n",
       "42418        3.30           4.5             m            -1.20  \n",
       "42572        2.90           2.9             n             0.00  \n",
       "42677        3.00           3.0             n             0.00  \n",
       "43416       29.80          29.8             n             0.00  "
      ]
     },
     "execution_count": 22,
     "metadata": {},
     "output_type": "execute_result"
    }
   ],
   "source": [
    "store_number=df2.drop_duplicates(subset=['STORE_CODE'])\n",
    "store_number"
   ]
  },
  {
   "cell_type": "code",
   "execution_count": 23,
   "metadata": {},
   "outputs": [
    {
     "data": {
      "text/plain": [
       "(24, 10)"
      ]
     },
     "execution_count": 23,
     "metadata": {},
     "output_type": "execute_result"
    }
   ],
   "source": [
    "store_number.shape #24个商店"
   ]
  },
  {
   "cell_type": "code",
   "execution_count": 24,
   "metadata": {},
   "outputs": [
    {
     "data": {
      "text/plain": [
       "<matplotlib.axes._subplots.AxesSubplot at 0x29b36fe8ac8>"
      ]
     },
     "execution_count": 24,
     "metadata": {},
     "output_type": "execute_result"
    }
   ],
   "source": [
    "import matplotlib.pyplot as plt\n",
    "df1_spend=df1.groupby('STORE_CODE')['BASK_SPEND'].sum().reset_index().sort_values(by = 'BASK_SPEND',ascending = False)#商店按消费额大小排序\n",
    "df1_spend.set_index('STORE_CODE',inplace=True)\n",
    "df1_spend.plot(kind='barh')   #df1各商店的消费额，可以看出A001店消费额最高，D003消费额最低"
   ]
  },
  {
   "cell_type": "code",
   "execution_count": 25,
   "metadata": {},
   "outputs": [
    {
     "data": {
      "text/plain": [
       "<matplotlib.axes._subplots.AxesSubplot at 0x29b3726c358>"
      ]
     },
     "execution_count": 25,
     "metadata": {},
     "output_type": "execute_result"
    },
    {
     "data": {
      "image/png": "[encoded data removed]",
      "text/plain": [
       "<Figure size 432x288 with 1 Axes>"
      ]
     },
     "metadata": {
      "needs_background": "light"
     },
     "output_type": "display_data"
    }
   ],
   "source": [
    "df2_spend=df2.groupby('STORE_CODE')['ITEM_SPEND'].sum().reset_index().sort_values(by = 'ITEM_SPEND',ascending = False)#商店按消费额大小排序\n",
    "df2_spend.set_index('STORE_CODE',inplace=True)\n",
    "df2_spend.plot(kind='barh')"
   ]
  },
  {
   "cell_type": "code",
   "execution_count": 26,
   "metadata": {},
   "outputs": [
    {
     "data": {
      "text/html": [
       "<div>\n",
       "<style scoped>\n",
       "    .dataframe tbody tr th:only-of-type {\n",
       "        vertical-align: middle;\n",
       "    }\n",
       "\n",
       "    .dataframe tbody tr th {\n",
       "        vertical-align: top;\n",
       "    }\n",
       "\n",
       "    .dataframe thead th {\n",
       "        text-align: right;\n",
       "    }\n",
       "</style>\n",
       "<table border=\"1\" class=\"dataframe\">\n",
       "  <thead>\n",
       "    <tr style=\"text-align: right;\">\n",
       "      <th></th>\n",
       "      <th>STORE_CODE</th>\n",
       "      <th>BASK_SPEND</th>\n",
       "    </tr>\n",
       "  </thead>\n",
       "  <tbody>\n",
       "    <tr>\n",
       "      <th>0</th>\n",
       "      <td>A001</td>\n",
       "      <td>3.435303e+06</td>\n",
       "    </tr>\n",
       "    <tr>\n",
       "      <th>15</th>\n",
       "      <td>D002</td>\n",
       "      <td>3.129447e+06</td>\n",
       "    </tr>\n",
       "    <tr>\n",
       "      <th>20</th>\n",
       "      <td>D007</td>\n",
       "      <td>1.361607e+06</td>\n",
       "    </tr>\n",
       "    <tr>\n",
       "      <th>4</th>\n",
       "      <td>A008</td>\n",
       "      <td>1.311171e+06</td>\n",
       "    </tr>\n",
       "    <tr>\n",
       "      <th>8</th>\n",
       "      <td>A013</td>\n",
       "      <td>1.117126e+06</td>\n",
       "    </tr>\n",
       "    <tr>\n",
       "      <th>2</th>\n",
       "      <td>A006</td>\n",
       "      <td>9.383050e+05</td>\n",
       "    </tr>\n",
       "    <tr>\n",
       "      <th>7</th>\n",
       "      <td>A012</td>\n",
       "      <td>8.469747e+05</td>\n",
       "    </tr>\n",
       "    <tr>\n",
       "      <th>17</th>\n",
       "      <td>D004</td>\n",
       "      <td>8.078603e+05</td>\n",
       "    </tr>\n",
       "    <tr>\n",
       "      <th>5</th>\n",
       "      <td>A009</td>\n",
       "      <td>7.977389e+05</td>\n",
       "    </tr>\n",
       "    <tr>\n",
       "      <th>19</th>\n",
       "      <td>D006</td>\n",
       "      <td>7.935042e+05</td>\n",
       "    </tr>\n",
       "  </tbody>\n",
       "</table>\n",
       "</div>"
      ],
      "text/plain": [
       "   STORE_CODE    BASK_SPEND\n",
       "0        A001  3.435303e+06\n",
       "15       D002  3.129447e+06\n",
       "20       D007  1.361607e+06\n",
       "4        A008  1.311171e+06\n",
       "8        A013  1.117126e+06\n",
       "2        A006  9.383050e+05\n",
       "7        A012  8.469747e+05\n",
       "17       D004  8.078603e+05\n",
       "5        A009  7.977389e+05\n",
       "19       D006  7.935042e+05"
      ]
     },
     "execution_count": 26,
     "metadata": {},
     "output_type": "execute_result"
    }
   ],
   "source": [
    "df1.groupby('STORE_CODE')['BASK_SPEND'].sum().reset_index().sort_values(by = 'BASK_SPEND',ascending = False).head(10)\n",
    "#df1表格的商店按消费额大小排序"
   ]
  },
  {
   "cell_type": "code",
   "execution_count": 29,
   "metadata": {},
   "outputs": [
    {
     "data": {
      "text/html": [
       "<div>\n",
       "<style scoped>\n",
       "    .dataframe tbody tr th:only-of-type {\n",
       "        vertical-align: middle;\n",
       "    }\n",
       "\n",
       "    .dataframe tbody tr th {\n",
       "        vertical-align: top;\n",
       "    }\n",
       "\n",
       "    .dataframe thead th {\n",
       "        text-align: right;\n",
       "    }\n",
       "</style>\n",
       "<table border=\"1\" class=\"dataframe\">\n",
       "  <thead>\n",
       "    <tr style=\"text-align: right;\">\n",
       "      <th></th>\n",
       "      <th>STORE_CODE</th>\n",
       "      <th>ITEM_SPEND</th>\n",
       "    </tr>\n",
       "  </thead>\n",
       "  <tbody>\n",
       "    <tr>\n",
       "      <th>0</th>\n",
       "      <td>A001</td>\n",
       "      <td>2.406273e+06</td>\n",
       "    </tr>\n",
       "    <tr>\n",
       "      <th>15</th>\n",
       "      <td>D002</td>\n",
       "      <td>1.926961e+06</td>\n",
       "    </tr>\n",
       "    <tr>\n",
       "      <th>4</th>\n",
       "      <td>A008</td>\n",
       "      <td>9.098822e+05</td>\n",
       "    </tr>\n",
       "    <tr>\n",
       "      <th>20</th>\n",
       "      <td>D007</td>\n",
       "      <td>8.419326e+05</td>\n",
       "    </tr>\n",
       "    <tr>\n",
       "      <th>8</th>\n",
       "      <td>A013</td>\n",
       "      <td>7.512220e+05</td>\n",
       "    </tr>\n",
       "    <tr>\n",
       "      <th>2</th>\n",
       "      <td>A006</td>\n",
       "      <td>6.355488e+05</td>\n",
       "    </tr>\n",
       "    <tr>\n",
       "      <th>7</th>\n",
       "      <td>A012</td>\n",
       "      <td>5.689114e+05</td>\n",
       "    </tr>\n",
       "    <tr>\n",
       "      <th>3</th>\n",
       "      <td>A007</td>\n",
       "      <td>4.984390e+05</td>\n",
       "    </tr>\n",
       "    <tr>\n",
       "      <th>5</th>\n",
       "      <td>A009</td>\n",
       "      <td>4.932237e+05</td>\n",
       "    </tr>\n",
       "    <tr>\n",
       "      <th>17</th>\n",
       "      <td>D004</td>\n",
       "      <td>4.908162e+05</td>\n",
       "    </tr>\n",
       "  </tbody>\n",
       "</table>\n",
       "</div>"
      ],
      "text/plain": [
       "   STORE_CODE    ITEM_SPEND\n",
       "0        A001  2.406273e+06\n",
       "15       D002  1.926961e+06\n",
       "4        A008  9.098822e+05\n",
       "20       D007  8.419326e+05\n",
       "8        A013  7.512220e+05\n",
       "2        A006  6.355488e+05\n",
       "7        A012  5.689114e+05\n",
       "3        A007  4.984390e+05\n",
       "5        A009  4.932237e+05\n",
       "17       D004  4.908162e+05"
      ]
     },
     "execution_count": 29,
     "metadata": {},
     "output_type": "execute_result"
    }
   ],
   "source": [
    "df2.groupby('STORE_CODE')['ITEM_SPEND'].sum().reset_index().sort_values(by = 'ITEM_SPEND',ascending = False).head(10)\n",
    "#df1表格的商店按消费额大小排序"
   ]
  },
  {
   "cell_type": "code",
   "execution_count": 31,
   "metadata": {},
   "outputs": [
    {
     "data": {
      "text/plain": [
       "A001    66735\n",
       "D002    63114\n",
       "D007    37605\n",
       "A008    36576\n",
       "A013    30138\n",
       "A006    28547\n",
       "A012    25024\n",
       "A009    21872\n",
       "D004    21410\n",
       "D008    21057\n",
       "A021    20660\n",
       "A010    19592\n",
       "D006    18641\n",
       "A016    18341\n",
       "A007    18041\n",
       "A019    17019\n",
       "D009    15876\n",
       "A018    15771\n",
       "D005    15328\n",
       "A022    15304\n",
       "A004    13490\n",
       "A017    12513\n",
       "D010    11095\n",
       "D003     7803\n",
       "Name: STORE_CODE, dtype: int64"
      ]
     },
     "execution_count": 31,
     "metadata": {},
     "output_type": "execute_result"
    }
   ],
   "source": [
    "df1.loc[:,'STORE_CODE'].value_counts()\n",
    "#df1表格商店按结账次数大小排序 A001结账次数最大"
   ]
  },
  {
   "cell_type": "code",
   "execution_count": 41,
   "metadata": {},
   "outputs": [
    {
     "data": {
      "text/plain": [
       "A001    66735\n",
       "D002    63114\n",
       "D007    37605\n",
       "A008    36576\n",
       "A013    30138\n",
       "A006    28547\n",
       "A012    25024\n",
       "A009    21872\n",
       "D004    21410\n",
       "D008    21057\n",
       "A021    20660\n",
       "A010    19592\n",
       "D006    18641\n",
       "A016    18341\n",
       "A007    18041\n",
       "A019    17019\n",
       "D009    15876\n",
       "A018    15771\n",
       "D005    15328\n",
       "A022    15304\n",
       "A004    13490\n",
       "A017    12513\n",
       "D010    11095\n",
       "D003     7803\n",
       "Name: STORE_CODE, dtype: int64"
      ]
     },
     "execution_count": 41,
     "metadata": {},
     "output_type": "execute_result"
    }
   ],
   "source": [
    "df1.loc[:,'STORE_CODE'].value_counts()\n",
    "#df1表格商店按结账次数大小排序"
   ]
  },
  {
   "cell_type": "code",
   "execution_count": 42,
   "metadata": {},
   "outputs": [
    {
     "data": {
      "text/plain": [
       "2     176108\n",
       "1     160802\n",
       "3     101181\n",
       "6      39383\n",
       "4      31148\n",
       "8      21326\n",
       "9      18203\n",
       "5      12316\n",
       "13      5616\n",
       "10      2649\n",
       "20      1386\n",
       "7       1181\n",
       "19       253\n",
       "Name: POS_NO_, dtype: int64"
      ]
     },
     "execution_count": 42,
     "metadata": {},
     "output_type": "execute_result"
    }
   ],
   "source": [
    "df1.loc[:,'POS_NO_'].value_counts()\n",
    "#df1表格商店按POS机次数大小排序"
   ]
  },
  {
   "cell_type": "code",
   "execution_count": 45,
   "metadata": {},
   "outputs": [
    {
     "data": {
      "text/plain": [
       "2     327303\n",
       "1     285989\n",
       "3     185490\n",
       "6      72481\n",
       "4      57320\n",
       "8      37990\n",
       "9      32697\n",
       "5      26643\n",
       "13     14501\n",
       "7       4605\n",
       "10      2117\n",
       "20      1020\n",
       "19       419\n",
       "Name: POSID, dtype: int64"
      ]
     },
     "execution_count": 45,
     "metadata": {},
     "output_type": "execute_result"
    }
   ],
   "source": [
    "df2.loc[:,'POSID'].value_counts()\n",
    "#df2表格商店按POS机次数大小排序"
   ]
  },
  {
   "cell_type": "code",
   "execution_count": 58,
   "metadata": {},
   "outputs": [
    {
     "data": {
      "text/plain": [
       "SHOP_DATETIME_\n",
       "2018-06-01     717327.28\n",
       "2018-06-02     727910.16\n",
       "2018-06-03     682779.75\n",
       "2018-06-04     557813.05\n",
       "2018-06-05     663394.81\n",
       "2018-06-06     498250.71\n",
       "2018-06-07     436109.19\n",
       "2018-06-08     564402.27\n",
       "2018-06-09     679629.48\n",
       "2018-06-10     702961.56\n",
       "2018-06-11     532263.20\n",
       "2018-06-12     569290.86\n",
       "2018-06-13     722874.45\n",
       "2018-06-14     615684.90\n",
       "2018-06-15     774897.74\n",
       "2018-06-16    1172798.62\n",
       "2018-06-17    1506093.31\n",
       "2018-06-18    1257825.41\n",
       "2018-06-19     412881.99\n",
       "2018-06-20     533702.81\n",
       "2018-06-21     493064.51\n",
       "2018-06-22     411610.22\n",
       "2018-06-23     582622.57\n",
       "2018-06-24     529053.77\n",
       "2018-06-25     454961.04\n",
       "2018-06-26     453298.13\n",
       "2018-06-27     527871.74\n",
       "2018-06-28     438126.70\n",
       "2018-06-29     568749.99\n",
       "2018-06-30     719873.69\n",
       "2018-07-01     653284.63\n",
       "2018-07-02     520731.01\n",
       "2018-07-03     542603.77\n",
       "2018-07-04     559139.42\n",
       "2018-07-05     491390.33\n",
       "Name: BASK_SPEND, dtype: float64"
      ]
     },
     "execution_count": 58,
     "metadata": {},
     "output_type": "execute_result"
    }
   ],
   "source": [
    "#按照日期查看销售额总和\n",
    "df1_sum = df1.groupby('SHOP_DATETIME_')['BASK_SPEND'].sum()\n",
    "df1_sum"
   ]
  },
  {
   "cell_type": "code",
   "execution_count": 55,
   "metadata": {},
   "outputs": [
    {
     "data": {
      "text/plain": [
       "SDATE\n",
       "2018-06-01     717327.28\n",
       "2018-06-02     727910.16\n",
       "2018-06-03     682779.75\n",
       "2018-06-04     557813.05\n",
       "2018-06-05     663394.81\n",
       "2018-06-06     498250.71\n",
       "2018-06-07     436109.19\n",
       "2018-06-08     564402.27\n",
       "2018-06-09     679629.48\n",
       "2018-06-10     702961.56\n",
       "2018-06-11     532263.20\n",
       "2018-06-12     569290.86\n",
       "2018-06-13     722874.45\n",
       "2018-06-14     615684.90\n",
       "2018-06-15     774897.74\n",
       "2018-06-16    1172798.62\n",
       "2018-06-17    1506093.31\n",
       "2018-06-18    1257825.41\n",
       "2018-06-19     149187.06\n",
       "2018-06-20     282055.67\n",
       "2018-06-22     157297.17\n",
       "2018-06-24     207999.64\n",
       "2018-06-25     120581.00\n",
       "Name: ITEM_SPEND, dtype: float64"
      ]
     },
     "execution_count": 55,
     "metadata": {},
     "output_type": "execute_result"
    }
   ],
   "source": [
    "df2_sum = df2.groupby('SDATE')['ITEM_SPEND'].sum()\n",
    "df2_sum"
   ]
  },
  {
   "cell_type": "code",
   "execution_count": 65,
   "metadata": {},
   "outputs": [
    {
     "data": {
      "text/plain": [
       "<matplotlib.axes._subplots.AxesSubplot at 0x29b40efda90>"
      ]
     },
     "execution_count": 65,
     "metadata": {},
     "output_type": "execute_result"
    },
    {
     "data": {
      "image/png": "[encoded data removed]",
      "text/plain": [
       "<Figure size 432x288 with 1 Axes>"
      ]
     },
     "metadata": {
      "needs_background": "light"
     },
     "output_type": "display_data"
    }
   ],
   "source": [
    "import matplotlib.pyplot as plt\n",
    "plt.rcParams['font.sans-serif']=['SimHei'] #正常显示中文标签 \n",
    "df1_sum.plot(kind='bar',color=\"black\",title=\"每日营业额\")"
   ]
  },
  {
   "cell_type": "code",
   "execution_count": 66,
   "metadata": {},
   "outputs": [
    {
     "data": {
      "text/plain": [
       "<matplotlib.axes._subplots.AxesSubplot at 0x29b4145a7f0>"
      ]
     },
     "execution_count": 66,
     "metadata": {},
     "output_type": "execute_result"
    },
    {
     "data": {
      "image/png": "[encoded data removed]",
      "text/plain": [
       "<Figure size 432x288 with 1 Axes>"
      ]
     },
     "metadata": {
      "needs_background": "light"
     },
     "output_type": "display_data"
    }
   ],
   "source": [
    "import matplotlib.pyplot as plt\n",
    "plt.rcParams['font.sans-serif']=['SimHei'] #正常显示中文标签 \n",
    "df2_sum.plot(kind='bar',color=\"black\",title=\"每日营业额\")"
   ]
  },
  {
   "cell_type": "code",
   "execution_count": null,
   "metadata": {},
   "outputs": [],
   "source": []
  }
 ],
 "metadata": {
  "kernelspec": {
   "display_name": "Python 3",
   "language": "python",
   "name": "python3"
  },
  "language_info": {
   "codemirror_mode": {
    "name": "ipython",
    "version": 3
   },
   "file_extension": ".py",
   "mimetype": "text/x-python",
   "name": "python",
   "nbconvert_exporter": "python",
   "pygments_lexer": "ipython3",
   "version": "3.7.3"
  }
 },
 "nbformat": 4,
 "nbformat_minor": 4
}
